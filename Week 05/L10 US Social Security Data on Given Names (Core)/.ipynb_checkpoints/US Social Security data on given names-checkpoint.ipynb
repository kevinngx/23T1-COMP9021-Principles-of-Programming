{
 "cells": [
  {
   "cell_type": "markdown",
   "metadata": {},
   "source": [
    "<center><font size='5'>US Social Security data on given names</font></center>\n",
    "<center><font size='3'>Eric Martin, CSE, UNSW</font></center>\n",
    "<center><font size='3'>COMP9021 Principles of Programming</font></center>"
   ]
  },
  {
   "cell_type": "code",
   "execution_count": null,
   "metadata": {
    "jupyter": {
     "source_hidden": true
    },
    "tags": []
   },
   "outputs": [],
   "source": [
    "# Does not need to be executed if\n",
    "# ~/.ipython/profile_default/ipython_config.py\n",
    "# exists and contains:\n",
    "# c.InteractiveShell.ast_node_interactivity = 'all'\n",
    "\n",
    "from IPython.core.interactiveshell import InteractiveShell\n",
    "InteractiveShell.ast_node_interactivity = 'all'"
   ]
  },
  {
   "cell_type": "code",
   "execution_count": null,
   "metadata": {},
   "outputs": [],
   "source": [
    "from pathlib import Path\n",
    "import os\n",
    "import csv\n",
    "from collections import defaultdict"
   ]
  },
  {
   "cell_type": "markdown",
   "metadata": {},
   "source": [
    "Downloaded from https://www.ssa.gov/OACT/babynames/limits.html, the `names` directory contains, besides [NationalReadMe.pdf](names/NationalReadMe.pdf), files whose names are of the form `yob****.txt` with \"yob\" standing for \"year of birth\" and `****` ranging from `1880` to `2020`. These are csv files, with \"csv\" standing for \"comma separated values\": each line consists of 3 fields: a first name, `F` or `M` for female or male, respectively, and a strictly positive integer for the count of newborns who have been given that name in the year whose value is embedded in the file name. All female names are listed before all male names. For a given gender, data are listed in decreasing order of count. For a given gender and count, names are listed in lexicographic order. For instance, for the oldest year, here are the first 10 lines:"
   ]
  },
  {
   "cell_type": "code",
   "execution_count": null,
   "metadata": {},
   "outputs": [],
   "source": [
    "!head names/yob1880.txt"
   ]
  },
  {
   "cell_type": "markdown",
   "metadata": {},
   "source": [
    "And here are the last 10 lines:"
   ]
  },
  {
   "cell_type": "code",
   "execution_count": null,
   "metadata": {},
   "outputs": [],
   "source": [
    "!tail names/yob1880.txt"
   ]
  },
  {
   "cell_type": "markdown",
   "metadata": {},
   "source": [
    "Our first task is to reorganise the data: create a directory `names_per_gender`, create two subdirectories, `female` and `male`, of `names_per_gender`, and in each of both subdirectories and for each `.txt` file $F$ in `names`, create a copy of $F$ such that:\n",
    "\n",
    "* the copy of $F$ in the `female` subdirectory will consist of the lines for all female names in $F$ with only 2 fields, namely, first name and count, so without `F`, the second field;\n",
    "* the copy of $F$ in the `male` subdirectory will consist of the lines for all male names in $F$ with only 2 fields, namely, first name and count, so without `M`, the second field.\n",
    "\n",
    "To work with directories and files in a platform independent manner, the `Path` class from the `pathlib` module is appropriate. One can create `Path` objects from directory and file names and check whether they exist with `Path`'s `exists()` method. Given a `Path` object $P$ for a directory $D$, `Path` objects for subdirectories of $D$ or for files in $D$ can be created with the `/` operator, with as first and second operands, $P$ and the subdirectory or file name, respectively; `/` will produce path names with a separator that is appropriate for the operating system on which code is executed:"
   ]
  },
  {
   "cell_type": "code",
   "execution_count": null,
   "metadata": {},
   "outputs": [],
   "source": [
    "Path('names'), Path('names').exists()\n",
    "Path('names') / 'yob1880.txt', (Path('names') / 'yob1880.txt').exists()\n",
    "Path('nonexisting'), Path('nonexisting').exists()\n",
    "Path('names') / 'yob1800.txt', (Path('names') / 'yob1800.txt').exists()"
   ]
  },
  {
   "cell_type": "markdown",
   "metadata": {},
   "source": [
    "We first create a `Path` object for the existing `names` directory, for the to be created `names_per_gender` directory, and for the to be created `female` and `male` subdirectories of `names_per_gender`:"
   ]
  },
  {
   "cell_type": "code",
   "execution_count": null,
   "metadata": {},
   "outputs": [],
   "source": [
    "names_dirname = Path('names')\n",
    "names_per_gender_dirname = Path('names_per_gender')\n",
    "female_subdirname = names_per_gender_dirname / 'female'\n",
    "male_subdirname = names_per_gender_dirname / 'male'"
   ]
  },
  {
   "cell_type": "markdown",
   "metadata": {},
   "source": [
    "The `exists()` function from the `path` module of the `os` module also allows one to check whether a directory or file exists. That module has other useful functions, in particular:\n",
    "\n",
    "* `rmdir()`, to remove an empty directory;\n",
    "* `mkdir()`, to create (make) a directory that does not already exist.\n",
    "\n",
    "For instance, if the `names_per_gender` directory existed, contained `female` and `male` and no other subdirectories, and both `female` and `male` were empty directories, then the following code fragment would successfully\n",
    "\n",
    "* remove the `female` directory,\n",
    "* remove the `male` directory, and\n",
    "* remove the then empty `names_per_gender` directory.\n",
    "\n",
    "That would allow the next three calls to `os.mkdir()` to execute successfully, without a `FileExistsError` error to be raised:"
   ]
  },
  {
   "cell_type": "code",
   "execution_count": null,
   "metadata": {},
   "outputs": [],
   "source": [
    "if os.path.exists(names_per_gender_dirname):\n",
    "    os.rmdir(female_subdirname)\n",
    "    os.rmdir(male_subdirname)\n",
    "    os.rmdir(names_per_gender_dirname)\n",
    "os.mkdir(names_per_gender_dirname)\n",
    "os.mkdir(female_subdirname)\n",
    "os.mkdir(male_subdirname)"
   ]
  },
  {
   "cell_type": "markdown",
   "metadata": {},
   "source": [
    "We need to process all files in `names` except for [NationalReadMe.pdf](names/NationalReadMe.pdf). We could use the `listdir()` function from the `os` module to list all files in `names` and ignore files not ending in `.txt`:"
   ]
  },
  {
   "cell_type": "code",
   "execution_count": null,
   "metadata": {},
   "outputs": [],
   "source": [
    "for file in os.listdir(names_dirname):\n",
    "    if not file.endswith('.txt'):\n",
    "        print(file)"
   ]
  },
  {
   "cell_type": "markdown",
   "metadata": {},
   "source": [
    "Thanks to the `glob()` method of the `Path` class, we can instead generate only `Path` objects for the files of interest. This method uses Unix syntax to create patterns and match file and directory names:\n",
    "\n",
    "* `*` to match a (possibly empty) sequence of characters\n",
    "* `?` to mach a single character\n",
    "* square brackets to enclose the characters to match.\n",
    "\n",
    "The following statements illustrate:"
   ]
  },
  {
   "cell_type": "code",
   "execution_count": null,
   "metadata": {},
   "outputs": [],
   "source": [
    "list(names_dirname.glob('*17*'))\n",
    "list(names_dirname.glob('*2??7*'))\n",
    "list(names_dirname.glob('*2??[357]*'))"
   ]
  },
  {
   "cell_type": "markdown",
   "metadata": {},
   "source": [
    "To extract the values  of a csv file, one can of course open the file, read it line by line, and split each line using the comma as separator, but it is cleaner and more robust to instead, let the object returned by `open()` be the argument of the `reader()` function of the `csv` module; that function returns an iterator to generate for each line in the file, the tuple of values on that line. The following code fragment illustrates, printing out all lines in [yob1880.txt](names/yob1880.txt) for counts of female or male names greater than 2000: "
   ]
  },
  {
   "cell_type": "code",
   "execution_count": null,
   "metadata": {},
   "outputs": [],
   "source": [
    "with open(names_dirname / 'yob1880.txt') as file:\n",
    "    csv_file = csv.reader(file)\n",
    "    for name, gender, tally in csv_file:\n",
    "        if int(tally) > 2_000:\n",
    "            print(name, gender, tally)"
   ]
  },
  {
   "cell_type": "markdown",
   "metadata": {},
   "source": [
    "A file such as [yob1880.txt](names/yob1880.txt) is to be processed as one of the files in `names` whose paths are generated by `glob()` applied to `names_dirname`. Names and counts extracted from the rows in [yob1880.txt](names/yob1880.txt) are to be written to one of both files with the name `yob1880.txt` located in the `female` and `male` subdirectories of `names_per_gender`. Thanks to the `name` __attribute__ of a `Path` object, the paths to both files are conveniently created from the path to [yob1880.txt](names/yob1880.txt) in `names`:"
   ]
  },
  {
   "cell_type": "code",
   "execution_count": null,
   "metadata": {},
   "outputs": [],
   "source": [
    "filename = next(names_dirname.glob('*1880*'))\n",
    "\n",
    "filename\n",
    "filename.parent\n",
    "filename.name\n",
    "female_subdirname / filename.name\n",
    "male_subdirname / filename.name"
   ]
  },
  {
   "cell_type": "markdown",
   "metadata": {},
   "source": [
    "For each `.txt` file $F$ in `names`, we open, with a single `with` statement, $F$ for reading purposes, and two files $F_F$ and $F_M$ with the same name as $F$ in the subdirectories `female` and `male` of `names_per_gender`, respectively, for writing purposes, with the paths to $F_F$ and $F_M$ created as just described. In parallel to making use of `csv.reader()`, we make use of `csv.writer()` to write rows of data in a csv file, with successive values properly separated with commas. The dictionary `csv_file_per_gender` allows one to choose which one of $F_F$ or $F_M$ should be written to. In the last line of the following code fragment, the only purpose of the assignment to `_` is to suppress Jupyter output: "
   ]
  },
  {
   "cell_type": "code",
   "execution_count": null,
   "metadata": {},
   "outputs": [],
   "source": [
    "for filename in names_dirname.glob('*.txt'):\n",
    "    with open(filename) as file,\\\n",
    "         open(female_subdirname / filename.name, 'w') as female_file,\\\n",
    "         open(male_subdirname / filename.name, 'w') as male_file:\n",
    "        csv_file = csv.reader(file)\n",
    "        female_csv_file = csv.writer(female_file)\n",
    "        male_csv_file = csv.writer(male_file)\n",
    "        csv_file_per_gender = {'F': female_csv_file, 'M': male_csv_file}\n",
    "        for name, gender, tally in csv_file:\n",
    "            _ = csv_file_per_gender[gender].writerow((name, tally))"
   ]
  },
  {
   "cell_type": "markdown",
   "metadata": {},
   "source": [
    "Our second task is to find out the longest intervals of time that separate the years $Y_1$ and $Y_2$ when a name was given (as a male or female name) in both $Y_1$ and $Y_2$, but not in-between. We would like to output the top 10 longest intervals together with the years that start and end the interval, and together with the name that was \"forgotten and revived\" in that time interval.\n",
    "\n",
    "To this aim, it is convenient to create a dictionary that maps a given first name to the list of years, from oldest to most recent, when the name was given once at least. For instance, here are the years when `Franc` was given as a name:"
   ]
  },
  {
   "cell_type": "code",
   "execution_count": null,
   "metadata": {},
   "outputs": [],
   "source": [
    "!grep Franc, names/*"
   ]
  },
  {
   "cell_type": "markdown",
   "metadata": {},
   "source": [
    "So `'Franc'` should be one of the keys, with as value `[1882, 1883, 2001, 2002, 2013]`.\n",
    "\n",
    "Years will be added one by one to the lists of values as files are processed one by one. Using a simple dictionary, one has to distinguish between creating a key and a value, that should be a list with a single year, and adding a new year to the list that is the value of an existing key:"
   ]
  },
  {
   "cell_type": "code",
   "execution_count": null,
   "metadata": {},
   "outputs": [],
   "source": [
    "name = 'Franc'\n",
    "years_per_name = {}\n",
    "for year in 1882, 1883, 2001, 2002, 2003:\n",
    "    if not name in years_per_name:\n",
    "        years_per_name[name] = [year]\n",
    "        print(f'Processing year {year}: '\n",
    "              f'creating key \"{name}\" and value [{year}]'\n",
    "             )\n",
    "    else:\n",
    "        years_per_name[name].append(year)\n",
    "        print(f'Processing year {year}: '\n",
    "              f'appending {year} to value for key \"{name}\"'\n",
    "             )\n",
    "\n",
    "years_per_name"
   ]
  },
  {
   "cell_type": "markdown",
   "metadata": {},
   "source": [
    "A `KeyError` error is generated when trying to access a nonexisting key:"
   ]
  },
  {
   "cell_type": "code",
   "execution_count": null,
   "metadata": {},
   "outputs": [],
   "source": [
    "name = 'Franc'\n",
    "years_per_name = {}\n",
    "years_per_name[name]"
   ]
  },
  {
   "cell_type": "markdown",
   "metadata": {},
   "source": [
    "When using a `defaultdict` from the `collections` module, trying to access a nonexisting key creates the key, together with the default value for the class provided as argument to `defaultdict`:"
   ]
  },
  {
   "cell_type": "code",
   "execution_count": null,
   "metadata": {},
   "outputs": [],
   "source": [
    "name = 'Franc'\n",
    "\n",
    "years_per_name = defaultdict(int)\n",
    "print('Creating a key with 0 as default value:')\n",
    "years_per_name[name]\n",
    "years_per_name\n",
    "print('Creating a key with 0 as default value, immediately modified:')\n",
    "years_per_name = defaultdict(int)\n",
    "years_per_name[name] += 2; years_per_name\n",
    "\n",
    "years_per_name = defaultdict(list)\n",
    "print('Creating a key with [] as default value:')\n",
    "years_per_name[name]\n",
    "years_per_name\n",
    "print('Creating a key with [] as default value, immediately modified:')\n",
    "years_per_name[name].append(1882); years_per_name"
   ]
  },
  {
   "cell_type": "markdown",
   "metadata": {},
   "source": [
    "Thanks to default dictionaries, the key `'Franc'` can be created and years incrementally added to the value list as follows:"
   ]
  },
  {
   "cell_type": "code",
   "execution_count": null,
   "metadata": {},
   "outputs": [],
   "source": [
    "name = 'Franc'\n",
    "years_per_name = defaultdict(list)\n",
    "for year in 1882, 1883, 2001, 2002, 2003:\n",
    "    years_per_name[name].append(year)\n",
    "\n",
    "years_per_name"
   ]
  },
  {
   "cell_type": "markdown",
   "metadata": {},
   "source": [
    "Extracting years from filenames is easy:"
   ]
  },
  {
   "cell_type": "code",
   "execution_count": null,
   "metadata": {},
   "outputs": [],
   "source": [
    "int('yob1880.txt'[3 : 7])"
   ]
  },
  {
   "cell_type": "markdown",
   "metadata": {},
   "source": [
    "So creating the full dictionary can be done as follows; we only have to beware that `glob()` does not return the file names in lexicographic order, so we use `sorted()` as it is essential that the years that make up the value of a given key of `years_per_name` are sorted from oldest to most recent:"
   ]
  },
  {
   "cell_type": "code",
   "execution_count": null,
   "metadata": {},
   "outputs": [],
   "source": [
    "years_per_name = defaultdict(list)\n",
    "for filename in sorted(names_dirname.glob('*.txt')):\n",
    "    year = int(filename.name[3 : 7])\n",
    "    with open(filename) as file:\n",
    "        csv_file = csv.reader(file)\n",
    "        for name, _, _ in csv_file:\n",
    "            years_per_name[name].append(year)\n",
    "\n",
    "years_per_name['Franc']"
   ]
  },
  {
   "cell_type": "markdown",
   "metadata": {},
   "source": [
    "From `years_per_name`, we can create a list of triples of the form $(D, Y, N)$ where $D$ is a year difference, $Y$ is a year that starts a year difference of $D$ (to which $D$ can be added and yield the year that ends the year difference), and $N$ is a name that was given in year $Y$ and only $D$ years later:"
   ]
  },
  {
   "cell_type": "code",
   "execution_count": null,
   "metadata": {},
   "outputs": [],
   "source": [
    "revivals = [[years_per_name[name][i + 1] - years_per_name[name][i],\n",
    "             years_per_name[name][i], name\n",
    "            ] for name in years_per_name\n",
    "                  for i in range(len(years_per_name[name]) - 1)\n",
    "           ]\n",
    "\n",
    "[revival for revival in revivals if revival[0] == 2001 - 1883]"
   ]
  },
  {
   "cell_type": "markdown",
   "metadata": {},
   "source": [
    "Sorting `revivals` in reversed order results in a list where:\n",
    "\n",
    "* year differences are ordered from largest to smallest;\n",
    "* for a given year difference, years that start the year difference are ordered from most recent to oldest;\n",
    "* for a given year difference and year that starts the year difference, names are ordered in anti-lexicographic order:"
   ]
  },
  {
   "cell_type": "code",
   "execution_count": null,
   "metadata": {},
   "outputs": [],
   "source": [
    "revivals.sort(reverse=True)\n",
    "for i in range(10):\n",
    "    print(f'{revivals[i][2]} was last used in {revivals[i][1]} '\n",
    "          f'and then again in {revivals[i][1] + revivals[i][0]}, '\n",
    "          f'{revivals[i][0]} years later.'\n",
    "         )"
   ]
  },
  {
   "cell_type": "markdown",
   "metadata": {},
   "source": [
    "It could be better to have:\n",
    "\n",
    "* year differences ordered from largest to smallest;\n",
    "* for a given year difference, years that start the year difference ordered from oldest to most recent;\n",
    "* for a given year difference and year that starts the year difference, names ordered in lexicographic order.\n",
    "\n",
    "It suffices to negate the year differences to reverse their order:"
   ]
  },
  {
   "cell_type": "code",
   "execution_count": null,
   "metadata": {},
   "outputs": [],
   "source": [
    "\n",
    "revivals.sort(key=lambda x: (-x[0], x[1], x[2]))\n",
    "for i in range(10):\n",
    "    print(f'{revivals[i][2]} was last used in {revivals[i][1]} '\n",
    "          f'and then again in {revivals[i][1] + revivals[i][0]},',\n",
    "          f'{revivals[i][0]} years later.'\n",
    "         )"
   ]
  }
 ],
 "metadata": {
  "kernelspec": {
   "display_name": "Python 3 (ipykernel)",
   "language": "python",
   "name": "python3"
  },
  "language_info": {
   "codemirror_mode": {
    "name": "ipython",
    "version": 3
   },
   "file_extension": ".py",
   "mimetype": "text/x-python",
   "name": "python",
   "nbconvert_exporter": "python",
   "pygments_lexer": "ipython3",
   "version": "3.11.0"
  },
  "latex_envs": {
   "LaTeX_envs_menu_present": true,
   "autoclose": false,
   "autocomplete": true,
   "bibliofile": "biblio.bib",
   "cite_by": "apalike",
   "current_citInitial": 1,
   "eqLabelWithNumbers": true,
   "eqNumInitial": 1,
   "hotkeys": {
    "equation": "Ctrl-E",
    "itemize": "Ctrl-I"
   },
   "labels_anchors": false,
   "latex_user_defs": false,
   "report_style_numbering": false,
   "user_envs_cfg": false
  },
  "toc": {
   "base_numbering": 1,
   "nav_menu": {},
   "number_sections": true,
   "sideBar": true,
   "skip_h1_title": false,
   "title_cell": "Table of Contents",
   "title_sidebar": "Contents",
   "toc_cell": false,
   "toc_position": {},
   "toc_section_display": true,
   "toc_window_display": false
  },
  "widgets": {
   "application/vnd.jupyter.widget-state+json": {
    "state": {},
    "version_major": 2,
    "version_minor": 0
   }
  }
 },
 "nbformat": 4,
 "nbformat_minor": 4
}
