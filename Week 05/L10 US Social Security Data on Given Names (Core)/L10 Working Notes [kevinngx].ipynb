{
 "cells": [
  {
   "cell_type": "code",
   "execution_count": 1,
   "id": "11f99b91",
   "metadata": {},
   "outputs": [],
   "source": [
    "# Does not need to be executed if\n",
    "# ~/.ipython/profile_default/ipython_config.py\n",
    "# exists and contains:\n",
    "# c.InteractiveShell.ast_node_interactivity = 'all'\n",
    "\n",
    "from IPython.core.interactiveshell import InteractiveShell\n",
    "InteractiveShell.ast_node_interactivity = 'all'"
   ]
  },
  {
   "cell_type": "code",
   "execution_count": 2,
   "id": "da0131b9",
   "metadata": {},
   "outputs": [],
   "source": [
    "from pathlib import Path\n",
    "import os\n",
    "import csv\n",
    "from collections import defaultdict"
   ]
  },
  {
   "cell_type": "code",
   "execution_count": 3,
   "id": "20071524",
   "metadata": {},
   "outputs": [
    {
     "name": "stdout",
     "output_type": "stream",
     "text": [
      "L10 Working Notes [kevinngx].ipynb\r\n",
      "US Social Security data on given names.html\r\n",
      "US Social Security data on given names.ipynb\r\n",
      "names.tar.gz\r\n",
      "names_per_gender.py\r\n",
      "names_revivals.py\r\n"
     ]
    }
   ],
   "source": [
    "ls"
   ]
  },
  {
   "cell_type": "code",
   "execution_count": 6,
   "id": "ac8ae488",
   "metadata": {},
   "outputs": [
    {
     "name": "stdout",
     "output_type": "stream",
     "text": [
      "Mary,F,7065\r",
      "\r\n",
      "Anna,F,2604\r",
      "\r\n",
      "Emma,F,2003\r",
      "\r\n",
      "Elizabeth,F,1939\r",
      "\r\n",
      "Minnie,F,1746\r",
      "\r\n",
      "Margaret,F,1578\r",
      "\r\n",
      "Ida,F,1472\r",
      "\r\n",
      "Alice,F,1414\r",
      "\r\n",
      "Bertha,F,1320\r",
      "\r\n",
      "Sarah,F,1288\r",
      "\r\n"
     ]
    }
   ],
   "source": [
    "!head names/yob1880.txt"
   ]
  },
  {
   "cell_type": "code",
   "execution_count": 8,
   "id": "6abbf12e",
   "metadata": {},
   "outputs": [
    {
     "name": "stdout",
     "output_type": "stream",
     "text": [
      "Unknown,M,5\r",
      "\r\n",
      "Vann,M,5\r",
      "\r\n",
      "Wes,M,5\r",
      "\r\n",
      "Winston,M,5\r",
      "\r\n",
      "Wood,M,5\r",
      "\r\n",
      "Woodie,M,5\r",
      "\r\n",
      "Worthy,M,5\r",
      "\r\n",
      "Wright,M,5\r",
      "\r\n",
      "York,M,5\r",
      "\r\n",
      "Zachariah,M,5\r",
      "\r\n"
     ]
    }
   ],
   "source": [
    "!tail names/yob1880.txt"
   ]
  },
  {
   "cell_type": "code",
   "execution_count": 10,
   "id": "a3bd5eb6",
   "metadata": {},
   "outputs": [
    {
     "data": {
      "text/plain": [
       "(PosixPath('names'), True)"
      ]
     },
     "execution_count": 10,
     "metadata": {},
     "output_type": "execute_result"
    }
   ],
   "source": [
    "Path('names'), Path('names').exists()"
   ]
  },
  {
   "cell_type": "code",
   "execution_count": 12,
   "id": "4cb91827",
   "metadata": {},
   "outputs": [
    {
     "data": {
      "text/plain": [
       "(PosixPath('names'), True)"
      ]
     },
     "execution_count": 12,
     "metadata": {},
     "output_type": "execute_result"
    },
    {
     "data": {
      "text/plain": [
       "(PosixPath('names/yob1880.txt'), True)"
      ]
     },
     "execution_count": 12,
     "metadata": {},
     "output_type": "execute_result"
    },
    {
     "data": {
      "text/plain": [
       "(PosixPath('nonexisting'), False)"
      ]
     },
     "execution_count": 12,
     "metadata": {},
     "output_type": "execute_result"
    },
    {
     "data": {
      "text/plain": [
       "(PosixPath('names/yob1800.txt'), False)"
      ]
     },
     "execution_count": 12,
     "metadata": {},
     "output_type": "execute_result"
    }
   ],
   "source": [
    "Path('names'), Path('names').exists()\n",
    "Path('names') / 'yob1880.txt', (Path('names') / 'yob1880.txt').exists()\n",
    "Path('nonexisting'), Path('nonexisting').exists()\n",
    "Path('names') / 'yob1800.txt', (Path('names') / 'yob1800.txt').exists()"
   ]
  },
  {
   "cell_type": "code",
   "execution_count": 13,
   "id": "a6ee0398",
   "metadata": {},
   "outputs": [],
   "source": [
    "names_dirname = Path('names')\n",
    "names_per_gender_dirname = Path('names_per_gender')\n",
    "female_subdirname = names_per_gender_dirname / 'female'\n",
    "male_subdirname = names_per_gender_dirname / 'male'"
   ]
  },
  {
   "cell_type": "code",
   "execution_count": 17,
   "id": "73db8fa7",
   "metadata": {},
   "outputs": [],
   "source": [
    "if os.path.exists(names_per_gender_dirname):\n",
    "    os.rmdir(female_subdirname)\n",
    "    os.rmdir(male_subdirname)\n",
    "    os.rmdir(names_per_gender_dirname)\n",
    "os.mkdir(names_per_gender_dirname)\n",
    "os.mkdir(female_subdirname)\n",
    "os.mkdir(male_subdirname)"
   ]
  },
  {
   "cell_type": "code",
   "execution_count": 18,
   "id": "077cab50",
   "metadata": {},
   "outputs": [
    {
     "name": "stdout",
     "output_type": "stream",
     "text": [
      "NationalReadMe.pdf\n"
     ]
    }
   ],
   "source": [
    "for file in os.listdir(names_dirname):\n",
    "    if not file.endswith('.txt'):\n",
    "        print(file)"
   ]
  },
  {
   "cell_type": "code",
   "execution_count": 19,
   "id": "e80b00d3",
   "metadata": {},
   "outputs": [
    {
     "data": {
      "text/plain": [
       "[PosixPath('names/yob2017.txt'), PosixPath('names/yob1917.txt')]"
      ]
     },
     "execution_count": 19,
     "metadata": {},
     "output_type": "execute_result"
    },
    {
     "data": {
      "text/plain": [
       "[PosixPath('names/yob2017.txt'), PosixPath('names/yob2007.txt')]"
      ]
     },
     "execution_count": 19,
     "metadata": {},
     "output_type": "execute_result"
    },
    {
     "data": {
      "text/plain": [
       "[PosixPath('names/yob2015.txt'),\n",
       " PosixPath('names/yob2017.txt'),\n",
       " PosixPath('names/yob2003.txt'),\n",
       " PosixPath('names/yob2007.txt'),\n",
       " PosixPath('names/yob2013.txt'),\n",
       " PosixPath('names/yob2005.txt')]"
      ]
     },
     "execution_count": 19,
     "metadata": {},
     "output_type": "execute_result"
    }
   ],
   "source": [
    "list(names_dirname.glob('*17*'))\n",
    "list(names_dirname.glob('*2??7*'))\n",
    "list(names_dirname.glob('*2??[357]*'))"
   ]
  },
  {
   "cell_type": "code",
   "execution_count": 21,
   "id": "92d5c474",
   "metadata": {},
   "outputs": [
    {
     "name": "stdout",
     "output_type": "stream",
     "text": [
      "Help on function glob in module pathlib:\n",
      "\n",
      "glob(self, pattern)\n",
      "    Iterate over this subtree and yield all existing files (of any\n",
      "    kind, including directories) matching the given relative pattern.\n",
      "\n"
     ]
    }
   ],
   "source": [
    "help(Path.glob)"
   ]
  },
  {
   "cell_type": "code",
   "execution_count": 23,
   "id": "0565575c",
   "metadata": {},
   "outputs": [
    {
     "name": "stdout",
     "output_type": "stream",
     "text": [
      "Mary F 7065\n",
      "Anna F 2604\n",
      "Emma F 2003\n",
      "John M 9655\n",
      "William M 9532\n",
      "James M 5927\n",
      "Charles M 5348\n",
      "George M 5126\n",
      "Frank M 3242\n",
      "Joseph M 2632\n",
      "Thomas M 2534\n",
      "Henry M 2444\n",
      "Robert M 2415\n",
      "Edward M 2364\n",
      "Harry M 2152\n"
     ]
    }
   ],
   "source": [
    "with open(names_dirname / 'yob1880.txt') as file:\n",
    "    csv_file = csv.reader(file)\n",
    "    for name, gender, tally in csv_file:\n",
    "        if int(tally) > 2_000:\n",
    "            print(name, gender, tally)"
   ]
  },
  {
   "cell_type": "code",
   "execution_count": 30,
   "id": "46a8f2f4",
   "metadata": {},
   "outputs": [
    {
     "data": {
      "text/plain": [
       "PosixPath('names/yob1880.txt')"
      ]
     },
     "execution_count": 30,
     "metadata": {},
     "output_type": "execute_result"
    },
    {
     "data": {
      "text/plain": [
       "PosixPath('names')"
      ]
     },
     "execution_count": 30,
     "metadata": {},
     "output_type": "execute_result"
    },
    {
     "data": {
      "text/plain": [
       "'yob1880.txt'"
      ]
     },
     "execution_count": 30,
     "metadata": {},
     "output_type": "execute_result"
    },
    {
     "data": {
      "text/plain": [
       "PosixPath('names_per_gender/female/yob1880.txt')"
      ]
     },
     "execution_count": 30,
     "metadata": {},
     "output_type": "execute_result"
    },
    {
     "data": {
      "text/plain": [
       "PosixPath('names_per_gender/male/yob1880.txt')"
      ]
     },
     "execution_count": 30,
     "metadata": {},
     "output_type": "execute_result"
    }
   ],
   "source": [
    "filename = next(names_dirname.glob('*1880*'))\n",
    "\n",
    "filename\n",
    "filename.parent\n",
    "filename.name\n",
    "female_subdirname / filename.name\n",
    "male_subdirname / filename.name"
   ]
  },
  {
   "cell_type": "code",
   "execution_count": 31,
   "id": "2c358de0",
   "metadata": {},
   "outputs": [],
   "source": [
    "for filename in names_dirname.glob('*.txt'):\n",
    "    with open(filename) as file,\\\n",
    "         open(female_subdirname / filename.name, 'w') as female_file,\\\n",
    "         open(male_subdirname / filename.name, 'w') as male_file:\n",
    "        csv_file = csv.reader(file)\n",
    "        female_csv_file = csv.writer(female_file)\n",
    "        male_csv_file = csv.writer(male_file)\n",
    "        csv_file_per_gender = {'F': female_csv_file, 'M': male_csv_file}\n",
    "        for name, gender, tally in csv_file:\n",
    "            _ = csv_file_per_gender[gender].writerow((name, tally))"
   ]
  },
  {
   "cell_type": "code",
   "execution_count": 32,
   "id": "db6c9417",
   "metadata": {},
   "outputs": [
    {
     "name": "stdout",
     "output_type": "stream",
     "text": [
      "names/yob1882.txt:Franc,F,5\n",
      "names/yob1883.txt:Franc,F,5\n",
      "names/yob2001.txt:Franc,M,5\n",
      "names/yob2002.txt:Franc,M,6\n",
      "names/yob2013.txt:Franc,M,5\n"
     ]
    }
   ],
   "source": [
    "!grep Franc, names/*"
   ]
  },
  {
   "cell_type": "code",
   "execution_count": 33,
   "id": "00abfe69",
   "metadata": {},
   "outputs": [
    {
     "name": "stdout",
     "output_type": "stream",
     "text": [
      "Processing year 1882: creating key \"Franc\" and value [1882]\n",
      "Processing year 1883: appending 1883 to value for key \"Franc\"\n",
      "Processing year 2001: appending 2001 to value for key \"Franc\"\n",
      "Processing year 2002: appending 2002 to value for key \"Franc\"\n",
      "Processing year 2003: appending 2003 to value for key \"Franc\"\n"
     ]
    },
    {
     "data": {
      "text/plain": [
       "{'Franc': [1882, 1883, 2001, 2002, 2003]}"
      ]
     },
     "execution_count": 33,
     "metadata": {},
     "output_type": "execute_result"
    }
   ],
   "source": [
    "name = 'Franc'\n",
    "years_per_name = {}\n",
    "for year in 1882, 1883, 2001, 2002, 2003:\n",
    "    if not name in years_per_name:\n",
    "        years_per_name[name] = [year]\n",
    "        print(f'Processing year {year}: '\n",
    "              f'creating key \"{name}\" and value [{year}]'\n",
    "             )\n",
    "    else:\n",
    "        years_per_name[name].append(year)\n",
    "        print(f'Processing year {year}: '\n",
    "              f'appending {year} to value for key \"{name}\"'\n",
    "             )\n",
    "\n",
    "years_per_name"
   ]
  },
  {
   "cell_type": "code",
   "execution_count": 39,
   "id": "58d4d70c",
   "metadata": {},
   "outputs": [
    {
     "ename": "KeyError",
     "evalue": "'Franc'",
     "output_type": "error",
     "traceback": [
      "\u001b[0;31m---------------------------------------------------------------------------\u001b[0m",
      "\u001b[0;31mKeyError\u001b[0m                                  Traceback (most recent call last)",
      "Cell \u001b[0;32mIn[39], line 3\u001b[0m\n\u001b[1;32m      1\u001b[0m name \u001b[38;5;241m=\u001b[39m \u001b[38;5;124m'\u001b[39m\u001b[38;5;124mFranc\u001b[39m\u001b[38;5;124m'\u001b[39m\n\u001b[1;32m      2\u001b[0m years_per_name \u001b[38;5;241m=\u001b[39m {}\n\u001b[0;32m----> 3\u001b[0m \u001b[43myears_per_name\u001b[49m\u001b[43m[\u001b[49m\u001b[43mname\u001b[49m\u001b[43m]\u001b[49m\n",
      "\u001b[0;31mKeyError\u001b[0m: 'Franc'"
     ]
    }
   ],
   "source": [
    "name = 'Franc'\n",
    "years_per_name = {}\n",
    "years_per_name[name]"
   ]
  },
  {
   "cell_type": "code",
   "execution_count": 40,
   "id": "1e41878a",
   "metadata": {},
   "outputs": [
    {
     "name": "stdout",
     "output_type": "stream",
     "text": [
      "Creating a key with 0 as default value:\n"
     ]
    },
    {
     "data": {
      "text/plain": [
       "0"
      ]
     },
     "execution_count": 40,
     "metadata": {},
     "output_type": "execute_result"
    },
    {
     "data": {
      "text/plain": [
       "defaultdict(int, {'Franc': 0})"
      ]
     },
     "execution_count": 40,
     "metadata": {},
     "output_type": "execute_result"
    },
    {
     "name": "stdout",
     "output_type": "stream",
     "text": [
      "Creating a key with 0 as default value, immediately modified:\n"
     ]
    },
    {
     "data": {
      "text/plain": [
       "defaultdict(int, {'Franc': 2})"
      ]
     },
     "execution_count": 40,
     "metadata": {},
     "output_type": "execute_result"
    },
    {
     "name": "stdout",
     "output_type": "stream",
     "text": [
      "Creating a key with [] as default value:\n"
     ]
    },
    {
     "data": {
      "text/plain": [
       "[]"
      ]
     },
     "execution_count": 40,
     "metadata": {},
     "output_type": "execute_result"
    },
    {
     "data": {
      "text/plain": [
       "defaultdict(list, {'Franc': []})"
      ]
     },
     "execution_count": 40,
     "metadata": {},
     "output_type": "execute_result"
    },
    {
     "name": "stdout",
     "output_type": "stream",
     "text": [
      "Creating a key with [] as default value, immediately modified:\n"
     ]
    },
    {
     "data": {
      "text/plain": [
       "defaultdict(list, {'Franc': [1882]})"
      ]
     },
     "execution_count": 40,
     "metadata": {},
     "output_type": "execute_result"
    }
   ],
   "source": [
    "name = 'Franc'\n",
    "\n",
    "years_per_name = defaultdict(int)\n",
    "print('Creating a key with 0 as default value:')\n",
    "years_per_name[name]\n",
    "years_per_name\n",
    "print('Creating a key with 0 as default value, immediately modified:')\n",
    "years_per_name = defaultdict(int)\n",
    "years_per_name[name] += 2; years_per_name\n",
    "\n",
    "years_per_name = defaultdict(list)\n",
    "print('Creating a key with [] as default value:')\n",
    "years_per_name[name]\n",
    "years_per_name\n",
    "print('Creating a key with [] as default value, immediately modified:')\n",
    "years_per_name[name].append(1882); years_per_name"
   ]
  },
  {
   "cell_type": "code",
   "execution_count": 41,
   "id": "f91528ed",
   "metadata": {},
   "outputs": [
    {
     "data": {
      "text/plain": [
       "defaultdict(list, {'Franc': [1882, 1883, 2001, 2002, 2003]})"
      ]
     },
     "execution_count": 41,
     "metadata": {},
     "output_type": "execute_result"
    }
   ],
   "source": [
    "name = 'Franc'\n",
    "years_per_name = defaultdict(list)\n",
    "for year in 1882, 1883, 2001, 2002, 2003:\n",
    "    years_per_name[name].append(year)\n",
    "\n",
    "years_per_name"
   ]
  },
  {
   "cell_type": "code",
   "execution_count": 47,
   "id": "171b91d3",
   "metadata": {},
   "outputs": [
    {
     "data": {
      "text/plain": [
       "1880"
      ]
     },
     "execution_count": 47,
     "metadata": {},
     "output_type": "execute_result"
    }
   ],
   "source": [
    "int('yob1880.txt'[3 : 7])"
   ]
  },
  {
   "cell_type": "code",
   "execution_count": 48,
   "id": "a1b6cb71",
   "metadata": {},
   "outputs": [
    {
     "data": {
      "text/plain": [
       "[1882, 1883, 2001, 2002, 2013]"
      ]
     },
     "execution_count": 48,
     "metadata": {},
     "output_type": "execute_result"
    }
   ],
   "source": [
    "years_per_name = defaultdict(list)\n",
    "for filename in sorted(names_dirname.glob('*.txt')):\n",
    "    year = int(filename.name[3 : 7])\n",
    "    with open(filename) as file:\n",
    "        csv_file = csv.reader(file)\n",
    "        for name, _, _ in csv_file:\n",
    "            years_per_name[name].append(year)\n",
    "\n",
    "years_per_name['Franc']"
   ]
  },
  {
   "cell_type": "code",
   "execution_count": 53,
   "id": "9244eb30",
   "metadata": {},
   "outputs": [
    {
     "data": {
      "text/plain": [
       "[[118, 1883, 'Franc']]"
      ]
     },
     "execution_count": 53,
     "metadata": {},
     "output_type": "execute_result"
    }
   ],
   "source": [
    "# D = Year Difference\n",
    "# Y = Year that starts a year difference\n",
    "# N = Name that was given in year Y\n",
    "revivals = [[years_per_name[name][i + 1] - years_per_name[name][i],\n",
    "             years_per_name[name][i], name\n",
    "            ] for name in years_per_name\n",
    "                  for i in range(len(years_per_name[name]) - 1)\n",
    "           ]\n",
    "\n",
    "[revival for revival in revivals if revival[0] == 2001 - 1883]"
   ]
  },
  {
   "cell_type": "code",
   "execution_count": 55,
   "id": "2a534330",
   "metadata": {},
   "outputs": [
    {
     "name": "stdout",
     "output_type": "stream",
     "text": [
      "Franc was last used in 1883 and then again in 2001, 118 years later.\n",
      "Izzie was last used in 1891 and then again in 2006, 115 years later.\n",
      "Rasmus was last used in 1888 and then again in 2003, 115 years later.\n",
      "Leonis was last used in 1906 and then again in 2019, 113 years later.\n",
      "Izma was last used in 1899 and then again in 2007, 108 years later.\n",
      "Leannah was last used in 1889 and then again in 1996, 107 years later.\n",
      "Azena was last used in 1913 and then again in 2019, 106 years later.\n",
      "Zura was last used in 1917 and then again in 2020, 103 years later.\n",
      "Vadah was last used in 1916 and then again in 2019, 103 years later.\n",
      "Almar was last used in 1915 and then again in 2017, 102 years later.\n"
     ]
    }
   ],
   "source": [
    "revivals.sort(reverse=True)\n",
    "for i in range(10):\n",
    "    print(f'{revivals[i][2]} was last used in {revivals[i][1]} '\n",
    "          f'and then again in {revivals[i][1] + revivals[i][0]}, '\n",
    "          f'{revivals[i][0]} years later.'\n",
    "         )"
   ]
  },
  {
   "cell_type": "code",
   "execution_count": null,
   "id": "ff48bf0a",
   "metadata": {},
   "outputs": [],
   "source": []
  }
 ],
 "metadata": {
  "kernelspec": {
   "display_name": "Python 3 (ipykernel)",
   "language": "python",
   "name": "python3"
  },
  "language_info": {
   "codemirror_mode": {
    "name": "ipython",
    "version": 3
   },
   "file_extension": ".py",
   "mimetype": "text/x-python",
   "name": "python",
   "nbconvert_exporter": "python",
   "pygments_lexer": "ipython3",
   "version": "3.11.0"
  },
  "vscode": {
   "interpreter": {
    "hash": "fb4a468b23ae772b99bd54f465a6eab9630ea5075332d07f1e912da887985c6f"
   }
  }
 },
 "nbformat": 4,
 "nbformat_minor": 5
}
