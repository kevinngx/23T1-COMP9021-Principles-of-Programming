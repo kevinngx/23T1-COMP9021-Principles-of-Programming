{
 "cells": [
  {
   "cell_type": "markdown",
   "metadata": {},
   "source": [
    "<center><font size='5'>Eratosthenes' sieve</font></center>\n",
    "<center><font size='3'>Eric Martin, CSE, UNSW</font></center>\n",
    "<center><font size='3'>COMP9021 Principles of Programming</font></center>"
   ]
  },
  {
   "cell_type": "code",
   "execution_count": 1,
   "metadata": {
    "jupyter": {
     "source_hidden": true
    },
    "tags": []
   },
   "outputs": [],
   "source": [
    "# Does not need to be executed if\n",
    "# ~/.ipython/profile_default/ipython_config.py\n",
    "# exists and contains:\n",
    "# c.InteractiveShell.ast_node_interactivity = 'all'\n",
    "\n",
    "from IPython.core.interactiveshell import InteractiveShell\n",
    "InteractiveShell.ast_node_interactivity = 'all'"
   ]
  },
  {
   "cell_type": "code",
   "execution_count": 2,
   "metadata": {},
   "outputs": [],
   "source": [
    "from math import sqrt\n",
    "from itertools import chain\n",
    "from timeit import timeit"
   ]
  },
  {
   "cell_type": "markdown",
   "metadata": {},
   "source": [
    "Let $n$ be a natural number. If a natural number $m$ greater than 1 and at most equal to $n$ is not prime then $m$ is of the form $p_1\\times\\dots\\times p_k$ for some $k\\geq 2$ and prime numbers $p_1$, ..., $p_k$ with $p_1\\leq\\dots\\leq p_k$; hence $n\\geq m\\geq p_1^2$, hence $p_1\\leq\\sqrt n$. This implies that all natural numbers greater than 1 and at most equal to $n$ that are not prime have a proper factor at most equal to $\\lfloor\\sqrt n\\rfloor$. So to identify all prime numbers up to and possibly including $n$, it suffices to  rule out, from the collection of all numbers between 2 and $n$, all composite numbers at most equal to $n$ of 2, 3, ... up to and including $\\lfloor\\sqrt n\\rfloor$. Moreover, given a number $p$ at most equal to $\\lfloor\\sqrt n\\rfloor$, if all proper multiples at most equal to $n$ of all numbers greater than 1 and smaller than $p$ have been ruled out, then either $p$ has been ruled out (together with all its multiples at most equal to $n$, case in which $p$ is not prime), or only its proper multiples at least equal to $p^2$ and at most equal to $n$ remain to be ruled out (case in which $p$ is prime).\n",
    "\n",
    "There is a risk that the computation of $\\lfloor\\sqrt n\\rfloor$ yields a smaller number. The risk seems particularly high in case $n$ is the perfect square of a prime: if the computation of $\\lfloor\\sqrt n\\rfloor$ yielded a smaller number, then $n$ would not be ruled out and be incorrectly part of the collection of integers eventually declared to be prime.\n",
    "\n",
    "To appreciate the imprecision of floating point computation, let us witness computations of $(\\sqrt n)^2$ that are too small, correct (as a floating point number), or too large:"
   ]
  },
  {
   "cell_type": "code",
   "execution_count": 4,
   "metadata": {},
   "outputs": [
    {
     "name": "stdout",
     "output_type": "stream",
     "text": [
      "Too small!\n",
      "(3, 1.7320508075688772, 2.9999999999999996)\n",
      "(6, 2.449489742783178, 5.999999999999999)\n",
      "(12, 3.4641016151377544, 11.999999999999998)\n",
      "(13, 3.605551275463989, 12.999999999999998)\n",
      "(18, 4.242640687119285, 17.999999999999996)\n",
      "(23, 4.795831523312719, 22.999999999999996)\n",
      "(24, 4.898979485566356, 23.999999999999996)\n",
      "(26, 5.0990195135927845, 25.999999999999996)\n",
      "(29, 5.385164807134504, 28.999999999999996)\n",
      "(31, 5.5677643628300215, 30.999999999999996)\n",
      "\n",
      "Just right!\n",
      "(1, 1.0, 1.0)\n",
      "(4, 2.0, 4.0)\n",
      "(9, 3.0, 9.0)\n",
      "(11, 3.3166247903554, 11.0)\n",
      "(14, 3.7416573867739413, 14.0)\n",
      "(16, 4.0, 16.0)\n",
      "(17, 4.123105625617661, 17.0)\n",
      "(21, 4.58257569495584, 21.0)\n",
      "(22, 4.69041575982343, 22.0)\n",
      "(25, 5.0, 25.0)\n",
      "\n",
      "Too large!\n",
      "(2, 1.4142135623730951, 2.0000000000000004)\n",
      "(5, 2.23606797749979, 5.000000000000001)\n",
      "(7, 2.6457513110645907, 7.000000000000001)\n",
      "(8, 2.8284271247461903, 8.000000000000002)\n",
      "(10, 3.1622776601683795, 10.000000000000002)\n",
      "(15, 3.872983346207417, 15.000000000000002)\n",
      "(19, 4.358898943540674, 19.000000000000004)\n",
      "(20, 4.47213595499958, 20.000000000000004)\n",
      "(28, 5.291502622129181, 28.000000000000004)\n",
      "(32, 5.656854249492381, 32.00000000000001)\n"
     ]
    }
   ],
   "source": [
    "too_small = []\n",
    "just_right = []\n",
    "too_large = []\n",
    "\n",
    "n = 1\n",
    "while len(too_small) < 10 or len(just_right) < 10 or len(too_large) < 10:\n",
    "    sqrt_n = sqrt(n)\n",
    "    triple = n, sqrt_n, sqrt_n ** 2\n",
    "    if sqrt_n ** 2 < n and len(too_small) < 10:\n",
    "        too_small.append(triple)\n",
    "    elif sqrt_n ** 2 == n and len(just_right) < 10:\n",
    "        just_right.append(triple)\n",
    "    elif sqrt_n ** 2 > n and len(too_large) < 10:\n",
    "        too_large.append(triple)        \n",
    "    n += 1\n",
    "\n",
    "print('Too small!')\n",
    "for triple in too_small:\n",
    "    print(triple)\n",
    "print('\\nJust right!')\n",
    "for triple in just_right:\n",
    "    print(triple)\n",
    "print('\\nToo large!')\n",
    "for triple in too_large:\n",
    "    print(triple)"
   ]
  },
  {
   "cell_type": "markdown",
   "metadata": {},
   "source": [
    "The square roots of the perfect squares that have been considered in the previous code fragment have all been computed correctly (as floating point numbers). Also observe that they have been squared correctly (as floating point numbers), but for large enough perfect squares, that does not hold any more:"
   ]
  },
  {
   "cell_type": "code",
   "execution_count": 6,
   "metadata": {},
   "outputs": [
    {
     "ename": "KeyboardInterrupt",
     "evalue": "",
     "output_type": "error",
     "traceback": [
      "\u001b[0;31m---------------------------------------------------------------------------\u001b[0m",
      "\u001b[0;31mKeyboardInterrupt\u001b[0m                         Traceback (most recent call last)",
      "Cell \u001b[0;32mIn[6], line 5\u001b[0m\n\u001b[1;32m      2\u001b[0m too_large \u001b[38;5;241m=\u001b[39m \u001b[38;5;28;01mNone\u001b[39;00m\n\u001b[1;32m      4\u001b[0m i \u001b[38;5;241m=\u001b[39m \u001b[38;5;241m1\u001b[39m\n\u001b[0;32m----> 5\u001b[0m \u001b[38;5;28;01mwhile\u001b[39;00m too_small \u001b[38;5;129;01mis\u001b[39;00m \u001b[38;5;28;01mNone\u001b[39;00m \u001b[38;5;129;01mor\u001b[39;00m too_large \u001b[38;5;129;01mis\u001b[39;00m \u001b[38;5;28;01mNone\u001b[39;00m:\n\u001b[1;32m      6\u001b[0m     i_square \u001b[38;5;241m=\u001b[39m i \u001b[38;5;241m*\u001b[39m\u001b[38;5;241m*\u001b[39m \u001b[38;5;241m2\u001b[39m\n\u001b[1;32m      7\u001b[0m     \u001b[38;5;28;01mif\u001b[39;00m sqrt(i_square) \u001b[38;5;241m*\u001b[39m\u001b[38;5;241m*\u001b[39m \u001b[38;5;241m2\u001b[39m \u001b[38;5;241m<\u001b[39m i_square:\n",
      "\u001b[0;31mKeyboardInterrupt\u001b[0m: "
     ]
    }
   ],
   "source": [
    "too_small = None\n",
    "too_large = None\n",
    "\n",
    "i = 1\n",
    "while too_small is None or too_large is None:\n",
    "    i_square = i ** 2\n",
    "    if sqrt(i_square) ** 2 < i_square:\n",
    "        too_small = i, i_square, sqrt(i_square), sqrt(i_square) ** 2\n",
    "    elif sqrt(i_square) ** 2 > i_square:\n",
    "        too_large = i, i_square, sqrt(i_square), sqrt(i_square) ** 2\n",
    "    i += 1\n",
    "\n",
    "print('Too small!')\n",
    "print(too_small)\n",
    "print('\\nToo large!')\n",
    "print(too_large)"
   ]
  },
  {
   "cell_type": "markdown",
   "metadata": {},
   "source": [
    "The previous code fragment leaves open the possibility that the computation of the square root of a perfect square $n$ is always correct (as a floating point number), and in particular, is never smaller than $\\lfloor\\sqrt n\\rfloor$. It is also possible that when $n$ is not a perfect square, then the computation of $\\sqrt n$, though often incorrect, and in particular often smaller than $\\sqrt n$, is still never smaller than $\\lfloor\\sqrt n\\rfloor$. So whether $n$ is a perfect square or not, changing the type of the computation of $\\sqrt n$ from floating point to integer might result in a correct computation of $\\lfloor\\sqrt n\\rfloor$. Still, to be on the safe side, it is preferable to use `round()` rather than `int()`.\n",
    "\n",
    " Compare:"
   ]
  },
  {
   "cell_type": "code",
   "execution_count": 7,
   "metadata": {},
   "outputs": [
    {
     "data": {
      "text/plain": [
       "(3, 3)"
      ]
     },
     "execution_count": 7,
     "metadata": {},
     "output_type": "execute_result"
    },
    {
     "data": {
      "text/plain": [
       "(2, 3)"
      ]
     },
     "execution_count": 7,
     "metadata": {},
     "output_type": "execute_result"
    }
   ],
   "source": [
    "int(3.01), round(3.01)\n",
    "int(2.99), round(2.99)"
   ]
  },
  {
   "cell_type": "markdown",
   "metadata": {},
   "source": [
    "A natural question in relation to `round()` is: for a given integer $k$, what is $k+0.5$ rounded to? It turns out to be the closest even integer:"
   ]
  },
  {
   "cell_type": "code",
   "execution_count": 8,
   "metadata": {},
   "outputs": [
    {
     "data": {
      "text/plain": [
       "(-4, -2, 2, 4)"
      ]
     },
     "execution_count": 8,
     "metadata": {},
     "output_type": "execute_result"
    }
   ],
   "source": [
    "round(-3.5), round(-2.5), round(2.5), round(3.5) "
   ]
  },
  {
   "cell_type": "markdown",
   "metadata": {},
   "source": [
    "`round()` also lets us specify a precision:"
   ]
  },
  {
   "cell_type": "code",
   "execution_count": 9,
   "metadata": {},
   "outputs": [
    {
     "data": {
      "text/plain": [
       "2.0"
      ]
     },
     "execution_count": 9,
     "metadata": {},
     "output_type": "execute_result"
    },
    {
     "data": {
      "text/plain": [
       "2.0"
      ]
     },
     "execution_count": 9,
     "metadata": {},
     "output_type": "execute_result"
    },
    {
     "data": {
      "text/plain": [
       "1.99"
      ]
     },
     "execution_count": 9,
     "metadata": {},
     "output_type": "execute_result"
    },
    {
     "data": {
      "text/plain": [
       "1.988"
      ]
     },
     "execution_count": 9,
     "metadata": {},
     "output_type": "execute_result"
    },
    {
     "data": {
      "text/plain": [
       "1.9876543"
      ]
     },
     "execution_count": 9,
     "metadata": {},
     "output_type": "execute_result"
    }
   ],
   "source": [
    "round(1.9876543, 0)\n",
    "round(1.9876543, 1)\n",
    "round(1.9876543, 2)\n",
    "round(1.9876543, 3)\n",
    "round(1.9876543, 10)"
   ]
  },
  {
   "cell_type": "markdown",
   "metadata": {},
   "source": [
    "A list `sieve` of length $n+1$ can be used to record whether $i$ is prime for $2\\leq i\\leq n$, storing `True` or `False` at index $i$ depending on whether $i$ is believed to be prime or not. The first two elements of `sieve`, of index 0 and 1, are unused. To start with, we assume that all numbers are prime.\n",
    "\n",
    "For illustration purposes, let us fix $n$ to some value, make it the value of a variable `n`, and define `sieve` accordingly:"
   ]
  },
  {
   "cell_type": "code",
   "execution_count": 15,
   "metadata": {},
   "outputs": [],
   "source": [
    "n = 37\n",
    "sieve = [True] * (n + 1)"
   ]
  },
  {
   "cell_type": "markdown",
   "metadata": {},
   "source": [
    "To nicely display `sieve`'s contents and indexes at various stages of the procedure, we know that we can make use of formatted strings and in particular, output decimal numbers within a particular field width, if necessary padding with spaces (the default) or with `0`'s; the decimal number and the field width can be the values of variables that both occur within a pair of curly braces within a formatted string:"
   ]
  },
  {
   "cell_type": "code",
   "execution_count": 11,
   "metadata": {},
   "outputs": [
    {
     "data": {
      "text/plain": [
       "'|  100|'"
      ]
     },
     "execution_count": 11,
     "metadata": {},
     "output_type": "execute_result"
    },
    {
     "data": {
      "text/plain": [
       "'|00100|'"
      ]
     },
     "execution_count": 11,
     "metadata": {},
     "output_type": "execute_result"
    }
   ],
   "source": [
    "x = 100; w = 5\n",
    "\n",
    "f'|{x:{w}}|'\n",
    "f'|{x:0{w}}|'"
   ]
  },
  {
   "cell_type": "markdown",
   "metadata": {},
   "source": [
    "For now we fix the field width to 3 but below, to appropriately deal with a sieve of arbitrary size, we will compute the field width and make it a function of the largest prime to display."
   ]
  },
  {
   "cell_type": "code",
   "execution_count": 18,
   "metadata": {},
   "outputs": [
    {
     "name": "stdout",
     "output_type": "stream",
     "text": [
      "  T  T  T  T  T  T  T  T  T  T  T  T  T  T  T  T  T  T  T  T  T  T  T  T  T  T  T  T  T  T  T  T  T  T  T  T  T  T\n",
      "  0  1  2  3  4  5  6  7  8  9 10 11 12 13 14 15 16 17 18 19 20 21 22 23 24 25 26 27 28 29 30 31 32 33 34 35 36 37"
     ]
    }
   ],
   "source": [
    "def print_sieve_contents_and_indexes():\n",
    "    for e in sieve:\n",
    "        print('  T', end='') if e else print('  F', end='')\n",
    "    print()\n",
    "    for i in range(len(sieve)):\n",
    "        print(f'{i:3}', end='')\n",
    "        \n",
    "print_sieve_contents_and_indexes()"
   ]
  },
  {
   "cell_type": "markdown",
   "metadata": {},
   "source": [
    "To rule out all multiples at most equal to $n$ of a prime number $p$, starting with $p^2$ if the multiples at most equal to $n$ of all smaller primes have been ruled out already, we need to generate a sequence of the form $p^2$, $p^2+p$, $p^2+2p$... This is easily done with `range()`:"
   ]
  },
  {
   "cell_type": "code",
   "execution_count": 19,
   "metadata": {},
   "outputs": [
    {
     "data": {
      "text/plain": [
       "[0, 1, 2, 3]"
      ]
     },
     "execution_count": 19,
     "metadata": {},
     "output_type": "execute_result"
    },
    {
     "data": {
      "text/plain": [
       "[4, 5, 6, 7, 8, 9]"
      ]
     },
     "execution_count": 19,
     "metadata": {},
     "output_type": "execute_result"
    },
    {
     "data": {
      "text/plain": [
       "[3, 5, 7, 9]"
      ]
     },
     "execution_count": 19,
     "metadata": {},
     "output_type": "execute_result"
    },
    {
     "data": {
      "text/plain": [
       "[3, 6, 9]"
      ]
     },
     "execution_count": 19,
     "metadata": {},
     "output_type": "execute_result"
    },
    {
     "data": {
      "text/plain": [
       "[11, 9, 7, 5]"
      ]
     },
     "execution_count": 19,
     "metadata": {},
     "output_type": "execute_result"
    },
    {
     "data": {
      "text/plain": [
       "[11, 8, 5]"
      ]
     },
     "execution_count": 19,
     "metadata": {},
     "output_type": "execute_result"
    }
   ],
   "source": [
    "# One argument, the ending point, which is excluded.\n",
    "# The starting point is 0, the default.\n",
    "# The step is 1, the default.\n",
    "list(range(4))\n",
    "# Two arguments, the starting point, which is included,\n",
    "# and the ending point, which is excluded.\n",
    "# The step is 1, the default.\n",
    "list(range(4, 10))\n",
    "# Three arguments, the starting point, which is included,\n",
    "# the ending point, which is excluded, and the step.\n",
    "list(range(3, 11, 2))\n",
    "list(range(3, 11, 3))\n",
    "list(range(11, 3, -2))\n",
    "list(range(11, 3, -3))"
   ]
  },
  {
   "cell_type": "markdown",
   "metadata": {},
   "source": [
    "To observe how, with `n` set to `37`, proper multiples of 2, 3 and 5 are ruled out while 4 and 6 are found out to be ruled out (together with their multiples) already, we successively call the following function with `p` set to `2`, `3`, `4`, `5` and `6` (note that $6=\\lfloor\\sqrt 37\\rfloor$) as argument:"
   ]
  },
  {
   "cell_type": "code",
   "execution_count": 20,
   "metadata": {},
   "outputs": [],
   "source": [
    "def rule_out_proper_multiples(p):\n",
    "    # We assume that this function will be called in the order\n",
    "    #   eliminate_proper_multiples(2)\n",
    "    #   eliminate_proper_multiples(3)\n",
    "    #   eliminate_proper_multiples(4)\n",
    "    #   ...\n",
    "    if not sieve[p]:\n",
    "        print(f'{p} has been ruled out '\n",
    "              'as a multiple of a smaller number.'\n",
    "             )\n",
    "    else:\n",
    "        print(f'{p} is not a multiple of a smaller number, '\n",
    "              'hence it is prime.'\n",
    "             )\n",
    "        print('Now ruling out all proper multiples '\n",
    "              f'of {p} at most equal to {n}.'\n",
    "             )\n",
    "        for i in range(p * p, n + 1, p):\n",
    "            print(f' Ruling out {i}')\n",
    "            sieve[i] = False\n",
    "        print_sieve_contents_and_indexes()"
   ]
  },
  {
   "cell_type": "code",
   "execution_count": 21,
   "metadata": {},
   "outputs": [
    {
     "name": "stdout",
     "output_type": "stream",
     "text": [
      "2 is not a multiple of a smaller number, hence it is prime.\n",
      "Now ruling out all proper multiples of 2 at most equal to 37.\n",
      " Ruling out 4\n",
      " Ruling out 6\n",
      " Ruling out 8\n",
      " Ruling out 10\n",
      " Ruling out 12\n",
      " Ruling out 14\n",
      " Ruling out 16\n",
      " Ruling out 18\n",
      " Ruling out 20\n",
      " Ruling out 22\n",
      " Ruling out 24\n",
      " Ruling out 26\n",
      " Ruling out 28\n",
      " Ruling out 30\n",
      " Ruling out 32\n",
      " Ruling out 34\n",
      " Ruling out 36\n",
      "  T  T  T  T  F  T  F  T  F  T  F  T  F  T  F  T  F  T  F  T  F  T  F  T  F  T  F  T  F  T  F  T  F  T  F  T  F  T\n",
      "  0  1  2  3  4  5  6  7  8  9 10 11 12 13 14 15 16 17 18 19 20 21 22 23 24 25 26 27 28 29 30 31 32 33 34 35 36 37"
     ]
    }
   ],
   "source": [
    "rule_out_proper_multiples(2)"
   ]
  },
  {
   "cell_type": "code",
   "execution_count": 22,
   "metadata": {},
   "outputs": [
    {
     "name": "stdout",
     "output_type": "stream",
     "text": [
      "3 is not a multiple of a smaller number, hence it is prime.\n",
      "Now ruling out all proper multiples of 3 at most equal to 37.\n",
      " Ruling out 9\n",
      " Ruling out 12\n",
      " Ruling out 15\n",
      " Ruling out 18\n",
      " Ruling out 21\n",
      " Ruling out 24\n",
      " Ruling out 27\n",
      " Ruling out 30\n",
      " Ruling out 33\n",
      " Ruling out 36\n",
      "  T  T  T  T  F  T  F  T  F  F  F  T  F  T  F  F  F  T  F  T  F  F  F  T  F  T  F  F  F  T  F  T  F  F  F  T  F  T\n",
      "  0  1  2  3  4  5  6  7  8  9 10 11 12 13 14 15 16 17 18 19 20 21 22 23 24 25 26 27 28 29 30 31 32 33 34 35 36 37"
     ]
    }
   ],
   "source": [
    "rule_out_proper_multiples(3)"
   ]
  },
  {
   "cell_type": "code",
   "execution_count": 23,
   "metadata": {},
   "outputs": [
    {
     "name": "stdout",
     "output_type": "stream",
     "text": [
      "4 has been ruled out as a multiple of a smaller number.\n"
     ]
    }
   ],
   "source": [
    "rule_out_proper_multiples(4)"
   ]
  },
  {
   "cell_type": "code",
   "execution_count": 24,
   "metadata": {},
   "outputs": [
    {
     "name": "stdout",
     "output_type": "stream",
     "text": [
      "5 is not a multiple of a smaller number, hence it is prime.\n",
      "Now ruling out all proper multiples of 5 at most equal to 37.\n",
      " Ruling out 25\n",
      " Ruling out 30\n",
      " Ruling out 35\n",
      "  T  T  T  T  F  T  F  T  F  F  F  T  F  T  F  F  F  T  F  T  F  F  F  T  F  F  F  F  F  T  F  T  F  F  F  F  F  T\n",
      "  0  1  2  3  4  5  6  7  8  9 10 11 12 13 14 15 16 17 18 19 20 21 22 23 24 25 26 27 28 29 30 31 32 33 34 35 36 37"
     ]
    }
   ],
   "source": [
    "rule_out_proper_multiples(5)"
   ]
  },
  {
   "cell_type": "code",
   "execution_count": 25,
   "metadata": {},
   "outputs": [
    {
     "name": "stdout",
     "output_type": "stream",
     "text": [
      "6 has been ruled out as a multiple of a smaller number.\n"
     ]
    }
   ],
   "source": [
    "rule_out_proper_multiples(6)"
   ]
  },
  {
   "cell_type": "code",
   "execution_count": 26,
   "metadata": {},
   "outputs": [
    {
     "name": "stdout",
     "output_type": "stream",
     "text": [
      "The prime numbers at most equal to 37 are:\n",
      "   2   3   5   7  11  13  17  19  23  29  31  37"
     ]
    }
   ],
   "source": [
    "print(f'The prime numbers at most equal to {n} are:')\n",
    "for p in range(2, n + 1):\n",
    "    if sieve[p]:\n",
    "        print(f'{p:4}', end='')"
   ]
  },
  {
   "cell_type": "markdown",
   "metadata": {},
   "source": [
    "Putting it all together:"
   ]
  },
  {
   "cell_type": "code",
   "execution_count": 28,
   "metadata": {},
   "outputs": [],
   "source": [
    "def sieve_of_primes_up_to(n):\n",
    "    primes_sieve = [True] * (n + 1)\n",
    "    for p in range(2, round(sqrt(n)) + 1):\n",
    "        if primes_sieve[p]:\n",
    "            for i in range(p * p, n + 1, p):\n",
    "                primes_sieve[i] = False\n",
    "    return primes_sieve"
   ]
  },
  {
   "cell_type": "markdown",
   "metadata": {},
   "source": [
    "To display all prime numbers at most equal to $n$, we define two functions. One function, `sequence_and_max_size_from()`, is designed to, from the list returned by `sieve_of_primes_up_to()`, determine and return the corresponding sequence of primes $\\sigma$ together with the number of digits $l$ in the last (and largest) prime in the sequence; $\\sigma$ and $l$ will be assigned to both arguments, `sequence` and `max_size`, respectively, of the other function, `nicely_display()`. We will utilise this function again when we implement other sieve methods. It is general enough to nicely display any sequence of data all of which are output with at most `max_size` many characters. More precisely, `nicely_display()` has the following features. It outputs at most 80 characters per line. Two spaces precede the display of the data that are output with `max_size` many characters. Three spaces precede the display of the data that are output with `max_size` minus 1 many characters, if any. Four spaces precede the display of the data that are output with `max_size` minus 2 many digits, if any... That way, all data will be nicely aligned column by column, with the guarantee that at least two spaces will separate two consecutive data on the same line. If $l$ is the value of `max_size`, then exactly $\\lfloor\\frac{80}{l+2}\\rfloor$ data will be displayed per line, with the possible exception of the last line:"
   ]
  },
  {
   "cell_type": "code",
   "execution_count": 33,
   "metadata": {},
   "outputs": [
    {
     "name": "stdout",
     "output_type": "stream",
     "text": [
      "    0    1    2    3    4    5    6    7    8    9   10   11   12   13   14   15\n",
      "   16   17   18   19   20   21   22   23   24   25   26   27   28   29   30   31\n",
      "   32   33   34   35   36   37   38   39   40   41   42   43   44   45   46   47\n",
      "   48   49   50   51   52   53   54   55   56   57   58   59   60   61   62   63\n",
      "   64   65   66   67   68   69   70   71   72   73   74   75   76   77   78   79\n",
      "   80   81   82   83   84   85   86   87   88   89   90   91   92   93   94   95\n",
      "   96   97   98   99  100  101  102  103  104  105  106  107  108  109  110  111\n",
      "  112  113  114  115  116  117  118  119  120  121  122  123  124  125  126  127\n",
      "  128  129  130  131  132  133  134  135  136  137  138  139  140  141  142  143\n",
      "  144  145  146  147  148  149  150  151  152  153  154  155  156  157  158  159\n",
      "  160  161  162  163  164  165  166  167  168  169  170  171  172  173  174  175\n",
      "  176  177  178  179  180  181  182  183  184  185  186  187  188  189  190  191\n",
      "  192  193  194  195  196  197  198  199"
     ]
    }
   ],
   "source": [
    "def nicely_display(sequence, max_size):\n",
    "    field_width = max_size + 2\n",
    "    nb_of_fields = 80 // field_width\n",
    "    count = 0\n",
    "    for e in sequence:\n",
    "        print(f'{e:{field_width}}', end='')\n",
    "        count += 1\n",
    "        if count % nb_of_fields == 0:\n",
    "            print()\n",
    "        \n",
    "nicely_display(range(200), 3)"
   ]
  },
  {
   "cell_type": "markdown",
   "metadata": {},
   "source": [
    "To determine the value of `max_size` when using `nicely_display()` to output all prime numbers up to a largest prime number $p$, we need to determine the number of digits in $p$, which is easily done by letting `str()` produce a string from an integer, and calling `len()` on the former:"
   ]
  },
  {
   "cell_type": "code",
   "execution_count": 34,
   "metadata": {},
   "outputs": [
    {
     "data": {
      "text/plain": [
       "'991'"
      ]
     },
     "execution_count": 34,
     "metadata": {},
     "output_type": "execute_result"
    },
    {
     "data": {
      "text/plain": [
       "3"
      ]
     },
     "execution_count": 34,
     "metadata": {},
     "output_type": "execute_result"
    }
   ],
   "source": [
    "str(991)\n",
    "len(str('991'))"
   ]
  },
  {
   "cell_type": "markdown",
   "metadata": {},
   "source": [
    "In `nicely_display()`, a `for` statement processes its first argument, `sequence`. So `sequence` has to be an iterable, and possibly an iterator. The `next()` function can be applied to an iterator. From an iterable that is not an iterator, one can get an iterator thanks to the `iter()` function. The `iter()` function can be applied to any iterable, so also to an iterator, in which case it just returns its argument:"
   ]
  },
  {
   "cell_type": "code",
   "execution_count": 31,
   "metadata": {},
   "outputs": [
    {
     "data": {
      "text/plain": [
       "False"
      ]
     },
     "execution_count": 31,
     "metadata": {},
     "output_type": "execute_result"
    },
    {
     "name": "stdout",
     "output_type": "stream",
     "text": [
      "'range' object is not an iterator\n"
     ]
    },
    {
     "data": {
      "text/plain": [
       "0"
      ]
     },
     "execution_count": 31,
     "metadata": {},
     "output_type": "execute_result"
    },
    {
     "data": {
      "text/plain": [
       "1"
      ]
     },
     "execution_count": 31,
     "metadata": {},
     "output_type": "execute_result"
    },
    {
     "data": {
      "text/plain": [
       "False"
      ]
     },
     "execution_count": 31,
     "metadata": {},
     "output_type": "execute_result"
    },
    {
     "name": "stdout",
     "output_type": "stream",
     "text": [
      "'list' object is not an iterator\n"
     ]
    },
    {
     "data": {
      "text/plain": [
       "10"
      ]
     },
     "execution_count": 31,
     "metadata": {},
     "output_type": "execute_result"
    },
    {
     "data": {
      "text/plain": [
       "11"
      ]
     },
     "execution_count": 31,
     "metadata": {},
     "output_type": "execute_result"
    },
    {
     "data": {
      "text/plain": [
       "True"
      ]
     },
     "execution_count": 31,
     "metadata": {},
     "output_type": "execute_result"
    },
    {
     "data": {
      "text/plain": [
       "100"
      ]
     },
     "execution_count": 31,
     "metadata": {},
     "output_type": "execute_result"
    },
    {
     "data": {
      "text/plain": [
       "200"
      ]
     },
     "execution_count": 31,
     "metadata": {},
     "output_type": "execute_result"
    }
   ],
   "source": [
    "# An iterable (an object of the range class) that is not an iterator\n",
    "x = range(2)\n",
    "x is iter(x)\n",
    "try:\n",
    "    next(x)\n",
    "except TypeError as e:\n",
    "    print(e)\n",
    "y = iter(x)\n",
    "next(y)\n",
    "next(y)\n",
    "\n",
    "# An iterable (a list) that is not an iterator\n",
    "x = [10, 11]\n",
    "x is iter(x)\n",
    "try:\n",
    "    next(x)\n",
    "except TypeError as e:\n",
    "    print(e)\n",
    "y = iter(x)\n",
    "next(y)\n",
    "next(y)\n",
    "\n",
    "# An iterable (a generator expression) that is an iterator\n",
    "x = (u for u in (100, 200))\n",
    "x is iter(x)\n",
    "next(x)\n",
    "next(x)"
   ]
  },
  {
   "cell_type": "markdown",
   "metadata": {},
   "source": [
    "When a `for` statement processes an iterator, it calls `next()` again and again, until a `StopIteration` is generated, causing it to gracefully stop execution. When a `for` statement processes an iterable that is not an iterator, it first gets an iterator from the iterable thanks to `iter()`, iterator which is then processed as described. The first case leads to more effective code than the second one. Indeed, when a `for` statement processes a list or tuple, then that list or tuple had to be created in the first place, which the `for` statement then processes by implicit calls to `next()` on an iterator produced from that list or tuple by `iter()`. On the other hand, when a `for` statement processes a generator expression, then only a mechanism to produce a sequence had to be created in the first place, and that mechanism is activated (`next()` is implicitly called again and again) to generate all elements in the sequence and process them \"on the fly\": "
   ]
  },
  {
   "cell_type": "code",
   "execution_count": 32,
   "metadata": {},
   "outputs": [
    {
     "data": {
      "text/plain": [
       "[2, 3, 5, 7]"
      ]
     },
     "execution_count": 32,
     "metadata": {},
     "output_type": "execute_result"
    },
    {
     "name": "stdout",
     "output_type": "stream",
     "text": [
      "2 3 5 7 "
     ]
    },
    {
     "data": {
      "text/plain": [
       "<generator object <genexpr> at 0x1132b7370>"
      ]
     },
     "execution_count": 32,
     "metadata": {},
     "output_type": "execute_result"
    },
    {
     "name": "stdout",
     "output_type": "stream",
     "text": [
      "2 3 5 7 "
     ]
    }
   ],
   "source": [
    "sieve = [True, True, True, True, False, True, False, True, False]\n",
    "# A list created from sieve thanks to a list comprehension.\n",
    "# sieve has been scanned from beginning to end to create primes.\n",
    "primes = [i for i in range(2, len(sieve)) if sieve[i]]\n",
    "primes\n",
    "# An iterator is created from primes, to generate all members of primes\n",
    "# and print them out.\n",
    "# So eventually, two sequences will have been processed.\n",
    "for e in primes:\n",
    "    print(e, end=' ')\n",
    "    \n",
    "sieve = [True, True, True, True, False, True, False, True, False]\n",
    "# A generator expression defined from sieve.\n",
    "# sieve has not been scanned from beginning to end to create primes;\n",
    "# primes is a mechanism to generate some numbers from sieve.\n",
    "primes = (i for i in range(2, len(sieve)) if sieve[i])\n",
    "primes\n",
    "# The mechanism is activated as the for loop is executed.\n",
    "# As an effect, sieve is scanned from beginning to end,\n",
    "# numbers are generated and printed out on the fly.\n",
    "# So eventually, only one sequence will have been processed.\n",
    "for e in primes:\n",
    "    print(e, end=' ')"
   ]
  },
  {
   "cell_type": "markdown",
   "metadata": {},
   "source": [
    "Based on these considerations, we define `sequence_and_max_size_from()` as follows:"
   ]
  },
  {
   "cell_type": "code",
   "execution_count": 35,
   "metadata": {},
   "outputs": [],
   "source": [
    "def sequence_and_max_size_from(sieve):\n",
    "    while not sieve[-1]:\n",
    "        sieve.pop()\n",
    "    return (p for p in range(2, len(sieve)) if sieve[p]),\\\n",
    "           len(str(len(sieve) - 1))"
   ]
  },
  {
   "cell_type": "markdown",
   "metadata": {},
   "source": [
    "We now have everything we need to nicely display all prime numbers at most equal to $n$:"
   ]
  },
  {
   "cell_type": "code",
   "execution_count": 39,
   "metadata": {},
   "outputs": [
    {
     "name": "stdout",
     "output_type": "stream",
     "text": [
      "    2    3    5    7   11   13   17   19   23   29   31   37   41   43   47   53\n",
      "   59   61   67   71   73   79   83   89   97  101  103  107  109  113  127  131\n",
      "  137  139  149  151  157  163  167  173  179  181  191  193  197  199  211  223\n",
      "  227  229  233  239  241  251  257  263  269  271  277  281  283  293  307  311\n",
      "  313  317  331  337  347  349  353  359  367  373  379  383  389  397  401  409\n",
      "  419  421  431  433  439  443  449  457  461  463  467  479  487  491  499  503\n",
      "  509  521  523  541  547  557  563  569  571  577  587  593  599  601  607  613\n",
      "  617  619  631  641  643  647  653  659  661  673  677  683  691  701  709  719\n",
      "  727  733  739  743  751  757  761  769  773  787  797  809  811  821  823  827\n",
      "  829  839  853  857  859  863  877  881  883  887  907  911  919  929  937  941\n",
      "  947  953  967  971  977  983  991  997"
     ]
    }
   ],
   "source": [
    "nicely_display(*sequence_and_max_size_from(sieve_of_primes_up_to(1_000)))"
   ]
  },
  {
   "cell_type": "markdown",
   "metadata": {},
   "source": [
    "To save half of the sieve's space and not have to rule out the proper multiples of 2, one can change `sieve` and make it a list of length $\\lfloor\\frac{n + 1}{2}\\rfloor$, with indexes 0, 1, 2, 3, 4, 5... meant to refer to the numbers 2, 3, 5, 7, 9...  The price we pay for this is that we lose the simple equivalence between \"number $p$ is prime\" and \"`sieve` eventually stores `True` at index $p$\": the equivalence becomes: \"number $p$ is prime\" iff:\n",
    "\n",
    "* $p=2$ or $p$ is odd, and\n",
    "* `sieve` eventually stores `True` at index $\\lfloor\\frac{p - 1}{2}\\rfloor$.\n",
    "\n",
    "Let $p$ be a number between 3 and $\\lfloor\\sqrt n\\rfloor$. The index that refers to $p$ in the optimised `sieve` is $k=\\frac{p-1}{2}$, hence the index that refers to $p^2$ is $\\frac{p^2-1}{2}=\\frac{(p-1)(p+1)}{2}=\\frac{p-1}{2}2(\\frac{p-1}{2}+1)=2k(k+1)$. Also, only the proper odd multiples at most equal to $n$ of $p$ have to be ruled out; so after having ruled out such a multiple $a$, the next multiple of $p$ that needs to ruled out (in case it is still at most equal to $n$), is referred to at index $\\frac{a+2p-1}{2}=\\frac{a-1}{2}+p=\\frac{a-1}{2}+2k+1$, so $2k+1$ needs to be added to the index that refers to $a$ to refer to that next multiple of $p$.\n",
    "\n",
    "Putting it all together:"
   ]
  },
  {
   "cell_type": "code",
   "execution_count": 43,
   "metadata": {},
   "outputs": [],
   "source": [
    "def optimised_sieve_of_primes_up_to(n):\n",
    "    n_index = (n - 1) // 2\n",
    "    sieve = [True] * (n_index + 1)\n",
    "    for k in range(1, (round(sqrt(n)) + 1) // 2):\n",
    "        if sieve[k]:\n",
    "            for i in range(2 * k * (k + 1), n_index + 1, 2 * k + 1):\n",
    "                sieve[i] = False\n",
    "    return sieve"
   ]
  },
  {
   "cell_type": "markdown",
   "metadata": {},
   "source": [
    "To display all prime numbers at most equal to $n$ from the list returned by `optimised_sieve_of_primes_up_to()`, we need to adapt the function `sequence_and_max_size_from()`. Essentially, one has to generate all numbers of the form $2i+1$ for all $1\\leq i\\leq\\lfloor\\frac{n - 1}{2}\\rfloor$ such that the list `sieve` returned by `optimised_sieve_of_primes_up_to()` has a value of `True` at index $i$; such is the relationship between the odd prime numbers at most equal to $n$ and the strictly positive indexes in `sieve`. But these odd prime numbers have to be preceded with 2. We still want to return an iterator. The simplest solution is to create an iterator from an iterator meant to generate 2 only, and the generator expression `(2 * p + 1 for p in range(1, len(sieve)) if sieve[p]))`. The `chain()` function from the `itertools` module lets us combine a sequence of iterables (some of which can be iterators) into one iterator:"
   ]
  },
  {
   "cell_type": "code",
   "execution_count": 44,
   "metadata": {},
   "outputs": [
    {
     "data": {
      "text/plain": [
       "[0, 1, 10, 20, 30]"
      ]
     },
     "execution_count": 44,
     "metadata": {},
     "output_type": "execute_result"
    },
    {
     "data": {
      "text/plain": [
       "[0, 1, 10, 20, 30]"
      ]
     },
     "execution_count": 44,
     "metadata": {},
     "output_type": "execute_result"
    },
    {
     "data": {
      "text/plain": [
       "[0, 1, 10, 20, 30]"
      ]
     },
     "execution_count": 44,
     "metadata": {},
     "output_type": "execute_result"
    }
   ],
   "source": [
    "# Providing as argument to list() an iterator created from two iterators.\n",
    "list(chain(iter(range(2)), (i for i in [10, 20, 30])))\n",
    "# Providing as argument to list() an iterator created from\n",
    "# one iterable that is not an iterator and one iterator.\n",
    "list(chain(range(2), (i for i in [10, 20, 30])))\n",
    "# Providing as argument to list() an iterator created from two iterables\n",
    "# that are not iterators.\n",
    "list(chain(range(2), [10, 20, 30]))"
   ]
  },
  {
   "cell_type": "markdown",
   "metadata": {},
   "source": [
    "Based on these considerations, we nicely display all prime numbers identified by  `optimised_sieve_of_primes_up_to()` as follows:"
   ]
  },
  {
   "cell_type": "code",
   "execution_count": 45,
   "metadata": {},
   "outputs": [
    {
     "name": "stdout",
     "output_type": "stream",
     "text": [
      "    2    3    5    7   11   13   17   19   23   29   31   37   41   43   47   53\n",
      "   59   61   67   71   73   79   83   89   97  101  103  107  109  113  127  131\n",
      "  137  139  149  151  157  163  167  173  179  181  191  193  197  199  211  223\n",
      "  227  229  233  239  241  251  257  263  269  271  277  281  283  293  307  311\n",
      "  313  317  331  337  347  349  353  359  367  373  379  383  389  397  401  409\n",
      "  419  421  431  433  439  443  449  457  461  463  467  479  487  491  499  503\n",
      "  509  521  523  541  547  557  563  569  571  577  587  593  599  601  607  613\n",
      "  617  619  631  641  643  647  653  659  661  673  677  683  691  701  709  719\n",
      "  727  733  739  743  751  757  761  769  773  787  797  809  811  821  823  827\n",
      "  829  839  853  857  859  863  877  881  883  887  907  911  919  929  937  941\n",
      "  947  953  967  971  977  983  991  997"
     ]
    }
   ],
   "source": [
    "def optimised_sequence_and_max_size_from(sieve):\n",
    "    while not sieve[-1]:\n",
    "        sieve.pop()\n",
    "    return chain((2,), (2 * p + 1 for p in range(1, len(sieve)) if sieve[p])),\\\n",
    "           len(str(2 * len(sieve) -1))\n",
    "\n",
    "nicely_display(*optimised_sequence_and_max_size_from(\n",
    "                                optimised_sieve_of_primes_up_to(1_000)\n",
    "                                                    )\n",
    "              )"
   ]
  },
  {
   "cell_type": "markdown",
   "metadata": {},
   "source": [
    "Let us get an idea of how large we can afford $n$ to be and how more efficient `optimised_sieve_of_primes_up_to()` is compared to `sieve_of_primes_up_to()`. We ask the `timeit()` function from the `timeit` module to execute once (`number=1`, as the default value of 1,000,000 to `number` is totally inappropriate) the code `sieve_of_primes_up_to(10_000_000)`, the assignment of the value returned by `globals()` to `globals` being needed to let `timetit()` know about the names `sieve_of_primes_up_to` and `optimised_sieve_of_primes_up_to`:"
   ]
  },
  {
   "cell_type": "code",
   "execution_count": 46,
   "metadata": {},
   "outputs": [
    {
     "data": {
      "text/plain": [
       "dict"
      ]
     },
     "execution_count": 46,
     "metadata": {},
     "output_type": "execute_result"
    },
    {
     "data": {
      "text/plain": [
       "True"
      ]
     },
     "execution_count": 46,
     "metadata": {},
     "output_type": "execute_result"
    },
    {
     "data": {
      "text/plain": [
       "True"
      ]
     },
     "execution_count": 46,
     "metadata": {},
     "output_type": "execute_result"
    }
   ],
   "source": [
    "type(globals())\n",
    "'sieve_of_primes_up_to' in globals()\n",
    "'optimised_sieve_of_primes_up_to' in globals()"
   ]
  },
  {
   "cell_type": "code",
   "execution_count": 47,
   "metadata": {},
   "outputs": [
    {
     "data": {
      "text/plain": [
       "1.8424606820044573"
      ]
     },
     "execution_count": 47,
     "metadata": {},
     "output_type": "execute_result"
    },
    {
     "data": {
      "text/plain": [
       "0.7817471140006091"
      ]
     },
     "execution_count": 47,
     "metadata": {},
     "output_type": "execute_result"
    }
   ],
   "source": [
    "timeit('sieve_of_primes_up_to(10_000_000)', globals=globals(), number=1)\n",
    "timeit('optimised_sieve_of_primes_up_to(10_000_000)', globals=globals(),\n",
    "       number=1\n",
    "      )"
   ]
  },
  {
   "cell_type": "markdown",
   "metadata": {},
   "source": [
    "The same can be achieved with Jupyter's `%timeit` magic, with no need to be explicit on what is needed from the global namespace. The options `-n` and `-r` to the magic are used to indicate the number of times the statement is to be executed, and the number of times the time measurement is to be repeated in order to provide a better estimate, respectively:"
   ]
  },
  {
   "cell_type": "code",
   "execution_count": 48,
   "metadata": {},
   "outputs": [
    {
     "name": "stdout",
     "output_type": "stream",
     "text": [
      "1.78 s ± 0 ns per loop (mean ± std. dev. of 1 run, 1 loop each)\n"
     ]
    }
   ],
   "source": [
    "%timeit -n1 -r1 sieve_of_primes_up_to(10_000_000)"
   ]
  },
  {
   "cell_type": "markdown",
   "metadata": {},
   "source": [
    "By default, the argument to `-r` is 7, and `%timeit` tries and find a good value for the argument to `-n` (here agreeing with our choice of 1):"
   ]
  },
  {
   "cell_type": "code",
   "execution_count": 49,
   "metadata": {},
   "outputs": [
    {
     "name": "stdout",
     "output_type": "stream",
     "text": [
      "1.78 s ± 16.8 ms per loop (mean ± std. dev. of 7 runs, 1 loop each)\n"
     ]
    }
   ],
   "source": [
    "%timeit sieve_of_primes_up_to(10_000_000)"
   ]
  },
  {
   "cell_type": "code",
   "execution_count": null,
   "metadata": {},
   "outputs": [],
   "source": []
  }
 ],
 "metadata": {
  "kernelspec": {
   "display_name": "Python 3 (ipykernel)",
   "language": "python",
   "name": "python3"
  },
  "language_info": {
   "codemirror_mode": {
    "name": "ipython",
    "version": 3
   },
   "file_extension": ".py",
   "mimetype": "text/x-python",
   "name": "python",
   "nbconvert_exporter": "python",
   "pygments_lexer": "ipython3",
   "version": "3.11.0"
  },
  "latex_envs": {
   "LaTeX_envs_menu_present": true,
   "autoclose": false,
   "autocomplete": true,
   "bibliofile": "biblio.bib",
   "cite_by": "apalike",
   "current_citInitial": 1,
   "eqLabelWithNumbers": true,
   "eqNumInitial": 1,
   "hotkeys": {
    "equation": "Ctrl-E",
    "itemize": "Ctrl-I"
   },
   "labels_anchors": false,
   "latex_user_defs": false,
   "report_style_numbering": false,
   "user_envs_cfg": false
  },
  "toc": {
   "base_numbering": 1,
   "nav_menu": {},
   "number_sections": true,
   "sideBar": true,
   "skip_h1_title": false,
   "title_cell": "Table of Contents",
   "title_sidebar": "Contents",
   "toc_cell": false,
   "toc_position": {},
   "toc_section_display": true,
   "toc_window_display": false
  },
  "widgets": {
   "application/vnd.jupyter.widget-state+json": {
    "state": {},
    "version_major": 2,
    "version_minor": 0
   }
  }
 },
 "nbformat": 4,
 "nbformat_minor": 4
}
