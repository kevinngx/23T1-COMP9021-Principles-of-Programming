{
 "cells": [
  {
   "cell_type": "code",
   "execution_count": 1,
   "id": "888d94c5",
   "metadata": {},
   "outputs": [
    {
     "data": {
      "text/plain": [
       "'/Users/kevinngx/Documents/kevinngx-github-uni/UNSW-COMP9021/Week 03/L05 Elementary Cellular Automata'"
      ]
     },
     "execution_count": 1,
     "metadata": {},
     "output_type": "execute_result"
    }
   ],
   "source": [
    "pwd"
   ]
  },
  {
   "cell_type": "code",
   "execution_count": 5,
   "id": "bdc12bd8",
   "metadata": {},
   "outputs": [
    {
     "name": "stdout",
     "output_type": "stream",
     "text": [
      "Elementary cellular automata.html   L05 Working Notes [kevinngx].ipynb\r\n",
      "Elementary cellular automata.ipynb  elementary_cellular_automata.py\r\n"
     ]
    }
   ],
   "source": [
    "ls"
   ]
  },
  {
   "cell_type": "code",
   "execution_count": 1,
   "id": "09ab90e4",
   "metadata": {},
   "outputs": [
    {
     "ename": "ModuleNotFoundError",
     "evalue": "No module named '_tkinter'",
     "output_type": "error",
     "traceback": [
      "\u001b[0;31m---------------------------------------------------------------------------\u001b[0m",
      "\u001b[0;31mModuleNotFoundError\u001b[0m                       Traceback (most recent call last)",
      "File \u001b[0;32m~/Documents/kevinngx-github-uni/UNSW-COMP9021/Week 03/L05 Elementary Cellular Automata/elementary_cellular_automata.py:5\u001b[0m\n\u001b[1;32m      1\u001b[0m \u001b[38;5;66;03m# %load elementary_cellular_automata.py\u001b[39;00m\n\u001b[1;32m      2\u001b[0m \u001b[38;5;66;03m# Written by Eric Martin for COMP9021\u001b[39;00m\n\u001b[0;32m----> 5\u001b[0m \u001b[38;5;28;01mimport\u001b[39;00m \u001b[38;5;21;01mtkinter\u001b[39;00m \u001b[38;5;28;01mas\u001b[39;00m \u001b[38;5;21;01mtk\u001b[39;00m\n\u001b[1;32m      6\u001b[0m \u001b[38;5;28;01mimport\u001b[39;00m \u001b[38;5;21;01mtkinter\u001b[39;00m\u001b[38;5;21;01m.\u001b[39;00m\u001b[38;5;21;01mmessagebox\u001b[39;00m\n\u001b[1;32m      7\u001b[0m \u001b[38;5;28;01mimport\u001b[39;00m \u001b[38;5;21;01mtkinter\u001b[39;00m\u001b[38;5;21;01m.\u001b[39;00m\u001b[38;5;21;01msimpledialog\u001b[39;00m\n",
      "File \u001b[0;32m~/.pyenv/versions/3.11.0/lib/python3.11/tkinter/__init__.py:38\u001b[0m\n\u001b[1;32m     35\u001b[0m \u001b[38;5;28;01mimport\u001b[39;00m \u001b[38;5;21;01msys\u001b[39;00m\n\u001b[1;32m     36\u001b[0m \u001b[38;5;28;01mimport\u001b[39;00m \u001b[38;5;21;01mtypes\u001b[39;00m\n\u001b[0;32m---> 38\u001b[0m \u001b[38;5;28;01mimport\u001b[39;00m \u001b[38;5;21;01m_tkinter\u001b[39;00m \u001b[38;5;66;03m# If this fails your Python may not be configured for Tk\u001b[39;00m\n\u001b[1;32m     39\u001b[0m TclError \u001b[38;5;241m=\u001b[39m _tkinter\u001b[38;5;241m.\u001b[39mTclError\n\u001b[1;32m     40\u001b[0m \u001b[38;5;28;01mfrom\u001b[39;00m \u001b[38;5;21;01mtkinter\u001b[39;00m\u001b[38;5;21;01m.\u001b[39;00m\u001b[38;5;21;01mconstants\u001b[39;00m \u001b[38;5;28;01mimport\u001b[39;00m \u001b[38;5;241m*\u001b[39m\n",
      "\u001b[0;31mModuleNotFoundError\u001b[0m: No module named '_tkinter'"
     ]
    }
   ],
   "source": [
    "run elementary_cellular_automata.py"
   ]
  },
  {
   "cell_type": "code",
   "execution_count": 5,
   "id": "c888287b",
   "metadata": {},
   "outputs": [],
   "source": [
    "rule_nb = 41"
   ]
  },
  {
   "cell_type": "code",
   "execution_count": 6,
   "id": "3be7f91f",
   "metadata": {},
   "outputs": [
    {
     "data": {
      "text/plain": [
       "'0b101001'"
      ]
     },
     "execution_count": 6,
     "metadata": {},
     "output_type": "execute_result"
    }
   ],
   "source": [
    "bin(41)"
   ]
  },
  {
   "cell_type": "code",
   "execution_count": 7,
   "id": "d50ae27f",
   "metadata": {},
   "outputs": [
    {
     "data": {
      "text/plain": [
       "'0b0'"
      ]
     },
     "execution_count": 7,
     "metadata": {},
     "output_type": "execute_result"
    }
   ],
   "source": [
    "bin(0)"
   ]
  },
  {
   "cell_type": "code",
   "execution_count": 14,
   "id": "ea825ccf",
   "metadata": {},
   "outputs": [
    {
     "data": {
      "text/plain": [
       "{(0, 0, 0): 1, (0, 0, 1): 0, (0, 1, 0): 1}"
      ]
     },
     "execution_count": 14,
     "metadata": {},
     "output_type": "execute_result"
    }
   ],
   "source": [
    "# 1.0: Getting a dictionary of values\n",
    "{(0,0,0):1, (0,0,1):0, (0,1,0):1}"
   ]
  },
  {
   "cell_type": "code",
   "execution_count": 42,
   "id": "7a6fca56",
   "metadata": {},
   "outputs": [
    {
     "data": {
      "text/plain": [
       "['0', '0', '1', '0', '1', '0', '0', '1']"
      ]
     },
     "execution_count": 42,
     "metadata": {},
     "output_type": "execute_result"
    }
   ],
   "source": [
    "# 2.0 Getting a list of values\n",
    "L = list(f'{rule_nb:08b}')\n",
    "L"
   ]
  },
  {
   "cell_type": "code",
   "execution_count": 44,
   "id": "5eb4336d",
   "metadata": {},
   "outputs": [
    {
     "data": {
      "text/plain": [
       "[0, 0, 1, 0, 1, 0, 0, 1]"
      ]
     },
     "execution_count": 44,
     "metadata": {},
     "output_type": "execute_result"
    }
   ],
   "source": [
    "# 2.1 Getting a list with ints\n",
    "L2 = [int(b) for b in f'{rule_nb:08b}']\n",
    "L2"
   ]
  },
  {
   "cell_type": "code",
   "execution_count": 49,
   "id": "94e3d5b9",
   "metadata": {},
   "outputs": [
    {
     "name": "stdout",
     "output_type": "stream",
     "text": [
      "000\n",
      "001\n",
      "010\n",
      "011\n",
      "100\n",
      "101\n",
      "110\n",
      "111\n"
     ]
    }
   ],
   "source": [
    "# 3.0 : Getting a range of values\n",
    "for e in range(8):\n",
    "    print(f'{e:03b}')"
   ]
  },
  {
   "cell_type": "code",
   "execution_count": 50,
   "id": "569b05e3",
   "metadata": {},
   "outputs": [
    {
     "name": "stdout",
     "output_type": "stream",
     "text": [
      "[0, 0, 0]\n",
      "[0, 0, 1]\n",
      "[0, 1, 0]\n",
      "[0, 1, 1]\n",
      "[1, 0, 0]\n",
      "[1, 0, 1]\n",
      "[1, 1, 0]\n",
      "[1, 1, 1]\n"
     ]
    }
   ],
   "source": [
    "# 3.1 Getting a range as a list\n",
    "for e in range(8):\n",
    "    print([int(b) for b in f'{e:03b}'])"
   ]
  },
  {
   "cell_type": "code",
   "execution_count": 51,
   "id": "c8710a19",
   "metadata": {},
   "outputs": [],
   "source": [
    "# 4.0 Reviewing the division functions"
   ]
  },
  {
   "cell_type": "code",
   "execution_count": 55,
   "id": "79945f5b",
   "metadata": {},
   "outputs": [
    {
     "data": {
      "text/plain": [
       "(1234, 678)"
      ]
     },
     "execution_count": 55,
     "metadata": {},
     "output_type": "execute_result"
    }
   ],
   "source": [
    "1234567 // 1000, 12345678 % 1000 # value, remainder"
   ]
  },
  {
   "cell_type": "code",
   "execution_count": 56,
   "id": "d219b3de",
   "metadata": {},
   "outputs": [
    {
     "data": {
      "text/plain": [
       "1234"
      ]
     },
     "execution_count": 56,
     "metadata": {},
     "output_type": "execute_result"
    }
   ],
   "source": [
    "1234567 // 1000"
   ]
  },
  {
   "cell_type": "code",
   "execution_count": 57,
   "id": "843d4158",
   "metadata": {},
   "outputs": [
    {
     "data": {
      "text/plain": [
       "(38580, 14)"
      ]
     },
     "execution_count": 57,
     "metadata": {},
     "output_type": "execute_result"
    }
   ],
   "source": [
    "1234567 // 32, 12345678 % 32 # value, remainder"
   ]
  },
  {
   "cell_type": "code",
   "execution_count": 58,
   "id": "b5be585a",
   "metadata": {},
   "outputs": [
    {
     "data": {
      "text/plain": [
       "'0b1011110001100001010'"
      ]
     },
     "execution_count": 58,
     "metadata": {},
     "output_type": "execute_result"
    }
   ],
   "source": [
    "bin(12345678)"
   ]
  },
  {
   "cell_type": "code",
   "execution_count": 60,
   "id": "2866becd",
   "metadata": {},
   "outputs": [
    {
     "data": {
      "text/plain": [
       "('0b1011110001100001010', '0b1110')"
      ]
     },
     "execution_count": 60,
     "metadata": {},
     "output_type": "execute_result"
    }
   ],
   "source": [
    "bin(12345678 // 32), bin(12345678 % 32) # value, remainder"
   ]
  },
  {
   "cell_type": "code",
   "execution_count": 61,
   "id": "6e30191b",
   "metadata": {},
   "outputs": [
    {
     "data": {
      "text/plain": [
       "'0b110'"
      ]
     },
     "execution_count": 61,
     "metadata": {},
     "output_type": "execute_result"
    }
   ],
   "source": [
    "bin(6)"
   ]
  },
  {
   "cell_type": "code",
   "execution_count": 62,
   "id": "f7c1163c",
   "metadata": {},
   "outputs": [
    {
     "data": {
      "text/plain": [
       "'0b0'"
      ]
     },
     "execution_count": 62,
     "metadata": {},
     "output_type": "execute_result"
    }
   ],
   "source": [
    "bin(6 % 2)"
   ]
  },
  {
   "cell_type": "code",
   "execution_count": 68,
   "id": "c07886c9",
   "metadata": {},
   "outputs": [
    {
     "data": {
      "text/plain": [
       "'0b0'"
      ]
     },
     "execution_count": 68,
     "metadata": {},
     "output_type": "execute_result"
    }
   ],
   "source": [
    "bin(6 % 2**1)"
   ]
  },
  {
   "cell_type": "code",
   "execution_count": 254,
   "id": "3ea3be9e",
   "metadata": {},
   "outputs": [
    {
     "name": "stdout",
     "output_type": "stream",
     "text": [
      "0 0 0\n",
      "0 0 1\n",
      "0 1 0\n",
      "0 1 1\n",
      "1 0 0\n",
      "1 0 1\n",
      "1 1 0\n",
      "1 1 1\n"
     ]
    }
   ],
   "source": [
    "for e in range(8):\n",
    "    print(e // 4, e // 2 % 2, e %2)"
   ]
  },
  {
   "cell_type": "code",
   "execution_count": 74,
   "id": "6eead5a5",
   "metadata": {},
   "outputs": [
    {
     "data": {
      "text/plain": [
       "[0, 0, 1, 0, 1, 0, 0, 1]"
      ]
     },
     "execution_count": 74,
     "metadata": {},
     "output_type": "execute_result"
    }
   ],
   "source": [
    "rule = [int(b) for b in f'{rule_nb:08b}']\n",
    "rule"
   ]
  },
  {
   "cell_type": "code",
   "execution_count": 260,
   "id": "13043de1",
   "metadata": {},
   "outputs": [],
   "source": [
    "automation = {}\n",
    "for e in range(8):\n",
    "    automation[(e // 4, e // 2 % 2, e %2)] = rule[7-e]"
   ]
  },
  {
   "cell_type": "code",
   "execution_count": 261,
   "id": "676c87d7",
   "metadata": {},
   "outputs": [
    {
     "data": {
      "text/plain": [
       "{(0, 0, 0): 1,\n",
       " (0, 0, 1): 0,\n",
       " (0, 1, 0): 0,\n",
       " (0, 1, 1): 1,\n",
       " (1, 0, 0): 0,\n",
       " (1, 0, 1): 1,\n",
       " (1, 1, 0): 0,\n",
       " (1, 1, 1): 0}"
      ]
     },
     "execution_count": 261,
     "metadata": {},
     "output_type": "execute_result"
    }
   ],
   "source": [
    "automation"
   ]
  },
  {
   "cell_type": "code",
   "execution_count": 252,
   "id": "cf594bff",
   "metadata": {},
   "outputs": [],
   "source": [
    "# 6.0 Mapping using dictionary comprehension\n",
    "Mapping = {\n",
    "        (e // 4, e // 2, e % 2): rule[7-e] for e in range(8)\n",
    "    }"
   ]
  },
  {
   "cell_type": "code",
   "execution_count": 253,
   "id": "94588b47",
   "metadata": {},
   "outputs": [
    {
     "data": {
      "text/plain": [
       "{(0, 0, 0): 1,\n",
       " (0, 0, 1): 0,\n",
       " (0, 1, 0): 0,\n",
       " (0, 1, 1): 1,\n",
       " (1, 2, 0): 0,\n",
       " (1, 2, 1): 1,\n",
       " (1, 3, 0): 0,\n",
       " (1, 3, 1): 0}"
      ]
     },
     "execution_count": 253,
     "metadata": {},
     "output_type": "execute_result"
    }
   ],
   "source": [
    "Mapping"
   ]
  },
  {
   "cell_type": "code",
   "execution_count": 101,
   "id": "c5cf3023",
   "metadata": {},
   "outputs": [
    {
     "name": "stdout",
     "output_type": "stream",
     "text": [
      "⬛⬜\n"
     ]
    }
   ],
   "source": [
    "# 7.0 Experimenting with ascii and unicode characters\n",
    "print('⬛⬜')"
   ]
  },
  {
   "cell_type": "code",
   "execution_count": 102,
   "id": "45696ac2",
   "metadata": {},
   "outputs": [
    {
     "data": {
      "text/plain": [
       "97"
      ]
     },
     "execution_count": 102,
     "metadata": {},
     "output_type": "execute_result"
    }
   ],
   "source": [
    "ord('a')"
   ]
  },
  {
   "cell_type": "code",
   "execution_count": 103,
   "id": "3cf6db4c",
   "metadata": {},
   "outputs": [
    {
     "data": {
      "text/plain": [
       "11036"
      ]
     },
     "execution_count": 103,
     "metadata": {},
     "output_type": "execute_result"
    }
   ],
   "source": [
    "ord('⬜')"
   ]
  },
  {
   "cell_type": "code",
   "execution_count": 104,
   "id": "666353ea",
   "metadata": {},
   "outputs": [
    {
     "data": {
      "text/plain": [
       "'⬜'"
      ]
     },
     "execution_count": 104,
     "metadata": {},
     "output_type": "execute_result"
    }
   ],
   "source": [
    "chr(11036)"
   ]
  },
  {
   "cell_type": "code",
   "execution_count": 109,
   "id": "c736b395",
   "metadata": {},
   "outputs": [
    {
     "data": {
      "text/plain": [
       "'⬛'"
      ]
     },
     "execution_count": 109,
     "metadata": {},
     "output_type": "execute_result"
    }
   ],
   "source": [
    "'\\N{black Large square}'"
   ]
  },
  {
   "cell_type": "code",
   "execution_count": 111,
   "id": "45c7fe3f",
   "metadata": {},
   "outputs": [
    {
     "data": {
      "text/plain": [
       "'2B1B'"
      ]
     },
     "execution_count": 111,
     "metadata": {},
     "output_type": "execute_result"
    }
   ],
   "source": [
    "F'{11035:X}'"
   ]
  },
  {
   "cell_type": "code",
   "execution_count": 112,
   "id": "81167786",
   "metadata": {},
   "outputs": [
    {
     "data": {
      "text/plain": [
       "'0x2b1b'"
      ]
     },
     "execution_count": 112,
     "metadata": {},
     "output_type": "execute_result"
    }
   ],
   "source": [
    "hex(11035)"
   ]
  },
  {
   "cell_type": "code",
   "execution_count": 113,
   "id": "c19a4cd9",
   "metadata": {},
   "outputs": [
    {
     "data": {
      "text/plain": [
       "'⬛'"
      ]
     },
     "execution_count": 113,
     "metadata": {},
     "output_type": "execute_result"
    }
   ],
   "source": [
    "'\\u2b1b'"
   ]
  },
  {
   "cell_type": "code",
   "execution_count": 117,
   "id": "97cd678b",
   "metadata": {},
   "outputs": [
    {
     "data": {
      "text/plain": [
       "'a'"
      ]
     },
     "execution_count": 117,
     "metadata": {},
     "output_type": "execute_result"
    }
   ],
   "source": [
    "'\\u0061'"
   ]
  },
  {
   "cell_type": "code",
   "execution_count": 123,
   "id": "e6f37669",
   "metadata": {},
   "outputs": [
    {
     "data": {
      "text/plain": [
       "'⬛'"
      ]
     },
     "execution_count": 123,
     "metadata": {},
     "output_type": "execute_result"
    }
   ],
   "source": [
    "'\\U00002b1b'"
   ]
  },
  {
   "cell_type": "code",
   "execution_count": 129,
   "id": "297e60a4",
   "metadata": {},
   "outputs": [],
   "source": [
    "squares = {\n",
    "    0: '\\N{white large square}',\n",
    "    1: '\\N{black large square}'\n",
    "}"
   ]
  },
  {
   "cell_type": "code",
   "execution_count": 130,
   "id": "71a56221",
   "metadata": {},
   "outputs": [],
   "source": [
    "size = 5\n",
    "line = [0] * size + [1] + [0] * size"
   ]
  },
  {
   "cell_type": "code",
   "execution_count": 131,
   "id": "89c98f77",
   "metadata": {},
   "outputs": [
    {
     "data": {
      "text/plain": [
       "[0, 0, 0, 0, 0, 1, 0, 0, 0, 0, 0]"
      ]
     },
     "execution_count": 131,
     "metadata": {},
     "output_type": "execute_result"
    }
   ],
   "source": [
    "line"
   ]
  },
  {
   "cell_type": "code",
   "execution_count": 133,
   "id": "ccab6200",
   "metadata": {},
   "outputs": [
    {
     "data": {
      "text/plain": [
       "['⬜', '⬜', '⬜', '⬜', '⬜', '⬛', '⬜', '⬜', '⬜', '⬜', '⬜']"
      ]
     },
     "execution_count": 133,
     "metadata": {},
     "output_type": "execute_result"
    }
   ],
   "source": [
    "[squares[b] for b in line]"
   ]
  },
  {
   "cell_type": "code",
   "execution_count": 134,
   "id": "6e311fb2",
   "metadata": {},
   "outputs": [
    {
     "data": {
      "text/plain": [
       "'⬜⬜⬜⬜⬜⬛⬜⬜⬜⬜⬜'"
      ]
     },
     "execution_count": 134,
     "metadata": {},
     "output_type": "execute_result"
    }
   ],
   "source": [
    "''.join(squares[b] for b in line)"
   ]
  },
  {
   "cell_type": "code",
   "execution_count": 156,
   "id": "17e40ff6",
   "metadata": {},
   "outputs": [],
   "source": [
    "# 8.0 Defining the function to print end squares\n",
    "def print_end_square(b, n):\n",
    "    print(squares[b] * n, end='')"
   ]
  },
  {
   "cell_type": "code",
   "execution_count": 157,
   "id": "3a0e77ed",
   "metadata": {},
   "outputs": [
    {
     "name": "stdout",
     "output_type": "stream",
     "text": [
      "⬜⬜⬜⬜⬜"
     ]
    }
   ],
   "source": [
    "print_end_square(0,5)"
   ]
  },
  {
   "cell_type": "code",
   "execution_count": 300,
   "id": "177bf330",
   "metadata": {},
   "outputs": [],
   "source": [
    "# 9.0 Defining the function to print the line\n",
    "def display_line(in_cone, bit_outside, size):\n",
    "    print_end_square(bit_outside, size)\n",
    "#     print('⬛', end='')\n",
    "    print(''.join(squares[b] for b in in_cone), end='')\n",
    "    print_end_square(bit_outside, size)\n",
    "    print()"
   ]
  },
  {
   "cell_type": "code",
   "execution_count": 194,
   "id": "9175e86a",
   "metadata": {},
   "outputs": [],
   "source": [
    "# 10.0 Defining the wrapper function to run the automation\n",
    "def display_automation(size):\n",
    "    in_cone=[1]\n",
    "    bit_outside = 0\n",
    "    display_line(in_cone, bit_outside, size)\n",
    "    for i in range(size):\n",
    "        display_line()"
   ]
  },
  {
   "cell_type": "code",
   "execution_count": 196,
   "id": "f6766372",
   "metadata": {},
   "outputs": [
    {
     "name": "stdout",
     "output_type": "stream",
     "text": [
      "⬜⬜⬜⬜⬜⬜⬛⬜⬜⬜⬜⬜⬜"
     ]
    }
   ],
   "source": [
    "display_automation(6)"
   ]
  },
  {
   "cell_type": "code",
   "execution_count": 206,
   "id": "81070ea0",
   "metadata": {},
   "outputs": [
    {
     "data": {
      "text/plain": [
       "[1]"
      ]
     },
     "execution_count": 206,
     "metadata": {},
     "output_type": "execute_result"
    }
   ],
   "source": [
    "in_cone = [1]\n",
    "in_cone"
   ]
  },
  {
   "cell_type": "code",
   "execution_count": 207,
   "id": "ae2a44f0",
   "metadata": {},
   "outputs": [
    {
     "data": {
      "text/plain": [
       "[0, 0, 1, 0, 0]"
      ]
     },
     "execution_count": 207,
     "metadata": {},
     "output_type": "execute_result"
    }
   ],
   "source": [
    "in_cone = [0] * 2 + in_cone + [0] * 2\n",
    "in_cone"
   ]
  },
  {
   "cell_type": "code",
   "execution_count": 225,
   "id": "21de8d39",
   "metadata": {},
   "outputs": [
    {
     "data": {
      "text/plain": [
       "{(0, 0, 0): 1,\n",
       " (0, 0, 1): 0,\n",
       " (0, 1, 0): 0,\n",
       " (0, 1, 1): 1,\n",
       " (1, 2, 0): 0,\n",
       " (1, 2, 1): 1,\n",
       " (1, 3, 0): 0,\n",
       " (1, 3, 1): 0}"
      ]
     },
     "execution_count": 225,
     "metadata": {},
     "output_type": "execute_result"
    }
   ],
   "source": [
    "automation"
   ]
  },
  {
   "cell_type": "code",
   "execution_count": 262,
   "id": "f55a6553",
   "metadata": {},
   "outputs": [
    {
     "data": {
      "text/plain": [
       "[0, 0, 0]"
      ]
     },
     "execution_count": 262,
     "metadata": {},
     "output_type": "execute_result"
    }
   ],
   "source": [
    "line = [automation[in_cone[i], \n",
    "                   in_cone[i+1], \n",
    "                   in_cone[i+2]\n",
    "                 ] for i in range(len(in_cone) - 2)\n",
    "       ]\n",
    "line"
   ]
  },
  {
   "cell_type": "code",
   "execution_count": 288,
   "id": "46949d69",
   "metadata": {},
   "outputs": [],
   "source": [
    "# 11.0 Setting up the rules for the automaton\n",
    "rule_nb = 90\n",
    "rule = [int(b) for b in f'{rule_nb:08b}']\n",
    "automation = {}\n",
    "for e in range(8):\n",
    "    automation[(e // 4, e // 2 % 2, e %2)] = rule[7-e]"
   ]
  },
  {
   "cell_type": "code",
   "execution_count": 289,
   "id": "1c318061",
   "metadata": {},
   "outputs": [
    {
     "data": {
      "text/plain": [
       "{(0, 0, 0): 0,\n",
       " (0, 0, 1): 1,\n",
       " (0, 1, 0): 0,\n",
       " (0, 1, 1): 1,\n",
       " (1, 0, 0): 1,\n",
       " (1, 0, 1): 0,\n",
       " (1, 1, 0): 1,\n",
       " (1, 1, 1): 0}"
      ]
     },
     "execution_count": 289,
     "metadata": {},
     "output_type": "execute_result"
    }
   ],
   "source": [
    "automation"
   ]
  },
  {
   "cell_type": "code",
   "execution_count": 291,
   "id": "3ac58d32",
   "metadata": {},
   "outputs": [
    {
     "data": {
      "text/plain": [
       "[1, 0, 1]"
      ]
     },
     "execution_count": 291,
     "metadata": {},
     "output_type": "execute_result"
    }
   ],
   "source": [
    "in_cone = [1]\n",
    "in_cone = [0] * 2 + in_cone + [0] * 2\n",
    "in_cone = [automation[in_cone[i], \n",
    "                   in_cone[i+1], \n",
    "                   in_cone[i+2]\n",
    "                 ] for i in range(len(in_cone) - 2)\n",
    "       ]\n",
    "in_cone\n",
    "\n",
    "# [0] [0] [1] [0] [0]\n",
    "# [0] [1] [0] [1] [0]"
   ]
  },
  {
   "cell_type": "code",
   "execution_count": 305,
   "id": "eadee75d",
   "metadata": {},
   "outputs": [],
   "source": [
    "# 12.0 Completing the display_automation function\n",
    "def display_automation(size):\n",
    "    in_cone=[1]\n",
    "    bit_outside = 0\n",
    "    display_line(in_cone, bit_outside, size)\n",
    "    for i in range(size):\n",
    "        in_cone = [0] * 2 + in_cone + [0] * 2\n",
    "        in_cone = [automation[in_cone[i], \n",
    "                   in_cone[i+1], \n",
    "                   in_cone[i+2]\n",
    "                 ] for i in range(len(in_cone) - 2)\n",
    "               ]\n",
    "        bit_outside = automation[bit_outside, bit_outside, bit_outside]\n",
    "        display_line(in_cone, bit_outside, size-i-1)"
   ]
  },
  {
   "cell_type": "code",
   "execution_count": 312,
   "id": "5903f2db",
   "metadata": {
    "scrolled": true
   },
   "outputs": [
    {
     "name": "stdout",
     "output_type": "stream",
     "text": [
      "⬜⬜⬜⬜⬜⬜⬜⬜⬜⬜⬜⬜⬜⬜⬜⬜⬜⬜⬜⬜⬜⬜⬜⬜⬜⬛⬜⬜⬜⬜⬜⬜⬜⬜⬜⬜⬜⬜⬜⬜⬜⬜⬜⬜⬜⬜⬜⬜⬜⬜⬜\n",
      "⬜⬜⬜⬜⬜⬜⬜⬜⬜⬜⬜⬜⬜⬜⬜⬜⬜⬜⬜⬜⬜⬜⬜⬜⬛⬜⬛⬜⬜⬜⬜⬜⬜⬜⬜⬜⬜⬜⬜⬜⬜⬜⬜⬜⬜⬜⬜⬜⬜⬜⬜\n",
      "⬜⬜⬜⬜⬜⬜⬜⬜⬜⬜⬜⬜⬜⬜⬜⬜⬜⬜⬜⬜⬜⬜⬜⬛⬜⬜⬜⬛⬜⬜⬜⬜⬜⬜⬜⬜⬜⬜⬜⬜⬜⬜⬜⬜⬜⬜⬜⬜⬜⬜⬜\n",
      "⬜⬜⬜⬜⬜⬜⬜⬜⬜⬜⬜⬜⬜⬜⬜⬜⬜⬜⬜⬜⬜⬜⬛⬜⬛⬜⬛⬜⬛⬜⬜⬜⬜⬜⬜⬜⬜⬜⬜⬜⬜⬜⬜⬜⬜⬜⬜⬜⬜⬜⬜\n",
      "⬜⬜⬜⬜⬜⬜⬜⬜⬜⬜⬜⬜⬜⬜⬜⬜⬜⬜⬜⬜⬜⬛⬜⬜⬜⬜⬜⬜⬜⬛⬜⬜⬜⬜⬜⬜⬜⬜⬜⬜⬜⬜⬜⬜⬜⬜⬜⬜⬜⬜⬜\n",
      "⬜⬜⬜⬜⬜⬜⬜⬜⬜⬜⬜⬜⬜⬜⬜⬜⬜⬜⬜⬜⬛⬜⬛⬜⬜⬜⬜⬜⬛⬜⬛⬜⬜⬜⬜⬜⬜⬜⬜⬜⬜⬜⬜⬜⬜⬜⬜⬜⬜⬜⬜\n",
      "⬜⬜⬜⬜⬜⬜⬜⬜⬜⬜⬜⬜⬜⬜⬜⬜⬜⬜⬜⬛⬜⬜⬜⬛⬜⬜⬜⬛⬜⬜⬜⬛⬜⬜⬜⬜⬜⬜⬜⬜⬜⬜⬜⬜⬜⬜⬜⬜⬜⬜⬜\n",
      "⬜⬜⬜⬜⬜⬜⬜⬜⬜⬜⬜⬜⬜⬜⬜⬜⬜⬜⬛⬜⬛⬜⬛⬜⬛⬜⬛⬜⬛⬜⬛⬜⬛⬜⬜⬜⬜⬜⬜⬜⬜⬜⬜⬜⬜⬜⬜⬜⬜⬜⬜\n",
      "⬜⬜⬜⬜⬜⬜⬜⬜⬜⬜⬜⬜⬜⬜⬜⬜⬜⬛⬜⬜⬜⬜⬜⬜⬜⬜⬜⬜⬜⬜⬜⬜⬜⬛⬜⬜⬜⬜⬜⬜⬜⬜⬜⬜⬜⬜⬜⬜⬜⬜⬜\n",
      "⬜⬜⬜⬜⬜⬜⬜⬜⬜⬜⬜⬜⬜⬜⬜⬜⬛⬜⬛⬜⬜⬜⬜⬜⬜⬜⬜⬜⬜⬜⬜⬜⬛⬜⬛⬜⬜⬜⬜⬜⬜⬜⬜⬜⬜⬜⬜⬜⬜⬜⬜\n",
      "⬜⬜⬜⬜⬜⬜⬜⬜⬜⬜⬜⬜⬜⬜⬜⬛⬜⬜⬜⬛⬜⬜⬜⬜⬜⬜⬜⬜⬜⬜⬜⬛⬜⬜⬜⬛⬜⬜⬜⬜⬜⬜⬜⬜⬜⬜⬜⬜⬜⬜⬜\n",
      "⬜⬜⬜⬜⬜⬜⬜⬜⬜⬜⬜⬜⬜⬜⬛⬜⬛⬜⬛⬜⬛⬜⬜⬜⬜⬜⬜⬜⬜⬜⬛⬜⬛⬜⬛⬜⬛⬜⬜⬜⬜⬜⬜⬜⬜⬜⬜⬜⬜⬜⬜\n",
      "⬜⬜⬜⬜⬜⬜⬜⬜⬜⬜⬜⬜⬜⬛⬜⬜⬜⬜⬜⬜⬜⬛⬜⬜⬜⬜⬜⬜⬜⬛⬜⬜⬜⬜⬜⬜⬜⬛⬜⬜⬜⬜⬜⬜⬜⬜⬜⬜⬜⬜⬜\n",
      "⬜⬜⬜⬜⬜⬜⬜⬜⬜⬜⬜⬜⬛⬜⬛⬜⬜⬜⬜⬜⬛⬜⬛⬜⬜⬜⬜⬜⬛⬜⬛⬜⬜⬜⬜⬜⬛⬜⬛⬜⬜⬜⬜⬜⬜⬜⬜⬜⬜⬜⬜\n",
      "⬜⬜⬜⬜⬜⬜⬜⬜⬜⬜⬜⬛⬜⬜⬜⬛⬜⬜⬜⬛⬜⬜⬜⬛⬜⬜⬜⬛⬜⬜⬜⬛⬜⬜⬜⬛⬜⬜⬜⬛⬜⬜⬜⬜⬜⬜⬜⬜⬜⬜⬜\n",
      "⬜⬜⬜⬜⬜⬜⬜⬜⬜⬜⬛⬜⬛⬜⬛⬜⬛⬜⬛⬜⬛⬜⬛⬜⬛⬜⬛⬜⬛⬜⬛⬜⬛⬜⬛⬜⬛⬜⬛⬜⬛⬜⬜⬜⬜⬜⬜⬜⬜⬜⬜\n",
      "⬜⬜⬜⬜⬜⬜⬜⬜⬜⬛⬜⬜⬜⬜⬜⬜⬜⬜⬜⬜⬜⬜⬜⬜⬜⬜⬜⬜⬜⬜⬜⬜⬜⬜⬜⬜⬜⬜⬜⬜⬜⬛⬜⬜⬜⬜⬜⬜⬜⬜⬜\n",
      "⬜⬜⬜⬜⬜⬜⬜⬜⬛⬜⬛⬜⬜⬜⬜⬜⬜⬜⬜⬜⬜⬜⬜⬜⬜⬜⬜⬜⬜⬜⬜⬜⬜⬜⬜⬜⬜⬜⬜⬜⬛⬜⬛⬜⬜⬜⬜⬜⬜⬜⬜\n",
      "⬜⬜⬜⬜⬜⬜⬜⬛⬜⬜⬜⬛⬜⬜⬜⬜⬜⬜⬜⬜⬜⬜⬜⬜⬜⬜⬜⬜⬜⬜⬜⬜⬜⬜⬜⬜⬜⬜⬜⬛⬜⬜⬜⬛⬜⬜⬜⬜⬜⬜⬜\n",
      "⬜⬜⬜⬜⬜⬜⬛⬜⬛⬜⬛⬜⬛⬜⬜⬜⬜⬜⬜⬜⬜⬜⬜⬜⬜⬜⬜⬜⬜⬜⬜⬜⬜⬜⬜⬜⬜⬜⬛⬜⬛⬜⬛⬜⬛⬜⬜⬜⬜⬜⬜\n",
      "⬜⬜⬜⬜⬜⬛⬜⬜⬜⬜⬜⬜⬜⬛⬜⬜⬜⬜⬜⬜⬜⬜⬜⬜⬜⬜⬜⬜⬜⬜⬜⬜⬜⬜⬜⬜⬜⬛⬜⬜⬜⬜⬜⬜⬜⬛⬜⬜⬜⬜⬜\n",
      "⬜⬜⬜⬜⬛⬜⬛⬜⬜⬜⬜⬜⬛⬜⬛⬜⬜⬜⬜⬜⬜⬜⬜⬜⬜⬜⬜⬜⬜⬜⬜⬜⬜⬜⬜⬜⬛⬜⬛⬜⬜⬜⬜⬜⬛⬜⬛⬜⬜⬜⬜\n",
      "⬜⬜⬜⬛⬜⬜⬜⬛⬜⬜⬜⬛⬜⬜⬜⬛⬜⬜⬜⬜⬜⬜⬜⬜⬜⬜⬜⬜⬜⬜⬜⬜⬜⬜⬜⬛⬜⬜⬜⬛⬜⬜⬜⬛⬜⬜⬜⬛⬜⬜⬜\n",
      "⬜⬜⬛⬜⬛⬜⬛⬜⬛⬜⬛⬜⬛⬜⬛⬜⬛⬜⬜⬜⬜⬜⬜⬜⬜⬜⬜⬜⬜⬜⬜⬜⬜⬜⬛⬜⬛⬜⬛⬜⬛⬜⬛⬜⬛⬜⬛⬜⬛⬜⬜\n",
      "⬜⬛⬜⬜⬜⬜⬜⬜⬜⬜⬜⬜⬜⬜⬜⬜⬜⬛⬜⬜⬜⬜⬜⬜⬜⬜⬜⬜⬜⬜⬜⬜⬜⬛⬜⬜⬜⬜⬜⬜⬜⬜⬜⬜⬜⬜⬜⬜⬜⬛⬜\n",
      "⬛⬜⬛⬜⬜⬜⬜⬜⬜⬜⬜⬜⬜⬜⬜⬜⬛⬜⬛⬜⬜⬜⬜⬜⬜⬜⬜⬜⬜⬜⬜⬜⬛⬜⬛⬜⬜⬜⬜⬜⬜⬜⬜⬜⬜⬜⬜⬜⬛⬜⬛\n"
     ]
    }
   ],
   "source": [
    "display_automation(25)"
   ]
  },
  {
   "cell_type": "code",
   "execution_count": 22,
   "id": "b8dac2fa",
   "metadata": {},
   "outputs": [
    {
     "name": "stdout",
     "output_type": "stream",
     "text": [
      "Input rule seed for the automata: 11\n"
     ]
    }
   ],
   "source": [
    "# 13.0 Putting it all together\n",
    "rule_nb = int(input('Input rule seed for the automata: '))\n",
    "rule = [int(b) for b in f'{rule_nb:08b}']\n",
    "automation = {}\n",
    "for e in range(8):\n",
    "    automation[(e // 4, e // 2 % 2, e %2)] = rule[7-e]\n",
    "    \n",
    "squares = {\n",
    "    0: '\\N{white large square}',\n",
    "    1: '\\N{black large square}'\n",
    "}\n",
    "\n",
    "def print_end_square(b, n):\n",
    "    print(squares[b] * n, end='')\n",
    "\n",
    "def display_line(in_cone, bit_outside, size):\n",
    "    print_end_square(bit_outside, size)\n",
    "    print(''.join(squares[b] for b in in_cone), end='')\n",
    "    print_end_square(bit_outside, size)\n",
    "    print()\n",
    "    \n",
    "def display_automation(size):\n",
    "    in_cone=[1]\n",
    "    bit_outside = 0\n",
    "    display_line(in_cone, bit_outside, size)\n",
    "    for i in range(size):\n",
    "        in_cone = [0] * 2 + in_cone + [0] * 2\n",
    "        in_cone = [automation[in_cone[i], \n",
    "                   in_cone[i+1], \n",
    "                   in_cone[i+2]\n",
    "                 ] for i in range(len(in_cone) - 2)\n",
    "               ]\n",
    "        bit_outside = automation[bit_outside, bit_outside, bit_outside]\n",
    "        display_line(in_cone, bit_outside, size-i-1)"
   ]
  },
  {
   "cell_type": "code",
   "execution_count": 23,
   "id": "5032c992",
   "metadata": {
    "scrolled": true
   },
   "outputs": [
    {
     "name": "stdout",
     "output_type": "stream",
     "text": [
      "⬜⬜⬜⬜⬜⬜⬜⬜⬜⬜⬜⬜⬜⬜⬜⬜⬜⬜⬜⬜⬜⬜⬜⬜⬜⬛⬜⬜⬜⬜⬜⬜⬜⬜⬜⬜⬜⬜⬜⬜⬜⬜⬜⬜⬜⬜⬜⬜⬜⬜⬜\n",
      "⬛⬛⬛⬛⬛⬛⬛⬛⬛⬛⬛⬛⬛⬛⬛⬛⬛⬛⬛⬛⬛⬛⬛⬛⬛⬜⬜⬛⬛⬛⬛⬛⬛⬛⬛⬛⬛⬛⬛⬛⬛⬛⬛⬛⬛⬛⬛⬛⬛⬛⬛\n",
      "⬜⬜⬜⬜⬜⬜⬜⬜⬜⬜⬜⬜⬜⬜⬜⬜⬜⬜⬜⬜⬜⬜⬜⬛⬜⬜⬛⬛⬜⬜⬜⬜⬜⬜⬜⬜⬜⬜⬜⬜⬜⬜⬜⬜⬜⬜⬜⬜⬜⬜⬜\n",
      "⬛⬛⬛⬛⬛⬛⬛⬛⬛⬛⬛⬛⬛⬛⬛⬛⬛⬛⬛⬛⬛⬛⬛⬜⬜⬛⬛⬜⬜⬛⬛⬛⬛⬛⬛⬛⬛⬛⬛⬛⬛⬛⬛⬛⬛⬛⬛⬛⬛⬛⬛\n",
      "⬜⬜⬜⬜⬜⬜⬜⬜⬜⬜⬜⬜⬜⬜⬜⬜⬜⬜⬜⬜⬜⬛⬜⬜⬛⬛⬜⬜⬛⬛⬜⬜⬜⬜⬜⬜⬜⬜⬜⬜⬜⬜⬜⬜⬜⬜⬜⬜⬜⬜⬜\n",
      "⬛⬛⬛⬛⬛⬛⬛⬛⬛⬛⬛⬛⬛⬛⬛⬛⬛⬛⬛⬛⬛⬜⬜⬛⬛⬜⬜⬛⬛⬜⬜⬛⬛⬛⬛⬛⬛⬛⬛⬛⬛⬛⬛⬛⬛⬛⬛⬛⬛⬛⬛\n",
      "⬜⬜⬜⬜⬜⬜⬜⬜⬜⬜⬜⬜⬜⬜⬜⬜⬜⬜⬜⬛⬜⬜⬛⬛⬜⬜⬛⬛⬜⬜⬛⬛⬜⬜⬜⬜⬜⬜⬜⬜⬜⬜⬜⬜⬜⬜⬜⬜⬜⬜⬜\n",
      "⬛⬛⬛⬛⬛⬛⬛⬛⬛⬛⬛⬛⬛⬛⬛⬛⬛⬛⬛⬜⬜⬛⬛⬜⬜⬛⬛⬜⬜⬛⬛⬜⬜⬛⬛⬛⬛⬛⬛⬛⬛⬛⬛⬛⬛⬛⬛⬛⬛⬛⬛\n",
      "⬜⬜⬜⬜⬜⬜⬜⬜⬜⬜⬜⬜⬜⬜⬜⬜⬜⬛⬜⬜⬛⬛⬜⬜⬛⬛⬜⬜⬛⬛⬜⬜⬛⬛⬜⬜⬜⬜⬜⬜⬜⬜⬜⬜⬜⬜⬜⬜⬜⬜⬜\n",
      "⬛⬛⬛⬛⬛⬛⬛⬛⬛⬛⬛⬛⬛⬛⬛⬛⬛⬜⬜⬛⬛⬜⬜⬛⬛⬜⬜⬛⬛⬜⬜⬛⬛⬜⬜⬛⬛⬛⬛⬛⬛⬛⬛⬛⬛⬛⬛⬛⬛⬛⬛\n",
      "⬜⬜⬜⬜⬜⬜⬜⬜⬜⬜⬜⬜⬜⬜⬜⬛⬜⬜⬛⬛⬜⬜⬛⬛⬜⬜⬛⬛⬜⬜⬛⬛⬜⬜⬛⬛⬜⬜⬜⬜⬜⬜⬜⬜⬜⬜⬜⬜⬜⬜⬜\n",
      "⬛⬛⬛⬛⬛⬛⬛⬛⬛⬛⬛⬛⬛⬛⬛⬜⬜⬛⬛⬜⬜⬛⬛⬜⬜⬛⬛⬜⬜⬛⬛⬜⬜⬛⬛⬜⬜⬛⬛⬛⬛⬛⬛⬛⬛⬛⬛⬛⬛⬛⬛\n",
      "⬜⬜⬜⬜⬜⬜⬜⬜⬜⬜⬜⬜⬜⬛⬜⬜⬛⬛⬜⬜⬛⬛⬜⬜⬛⬛⬜⬜⬛⬛⬜⬜⬛⬛⬜⬜⬛⬛⬜⬜⬜⬜⬜⬜⬜⬜⬜⬜⬜⬜⬜\n",
      "⬛⬛⬛⬛⬛⬛⬛⬛⬛⬛⬛⬛⬛⬜⬜⬛⬛⬜⬜⬛⬛⬜⬜⬛⬛⬜⬜⬛⬛⬜⬜⬛⬛⬜⬜⬛⬛⬜⬜⬛⬛⬛⬛⬛⬛⬛⬛⬛⬛⬛⬛\n",
      "⬜⬜⬜⬜⬜⬜⬜⬜⬜⬜⬜⬛⬜⬜⬛⬛⬜⬜⬛⬛⬜⬜⬛⬛⬜⬜⬛⬛⬜⬜⬛⬛⬜⬜⬛⬛⬜⬜⬛⬛⬜⬜⬜⬜⬜⬜⬜⬜⬜⬜⬜\n",
      "⬛⬛⬛⬛⬛⬛⬛⬛⬛⬛⬛⬜⬜⬛⬛⬜⬜⬛⬛⬜⬜⬛⬛⬜⬜⬛⬛⬜⬜⬛⬛⬜⬜⬛⬛⬜⬜⬛⬛⬜⬜⬛⬛⬛⬛⬛⬛⬛⬛⬛⬛\n",
      "⬜⬜⬜⬜⬜⬜⬜⬜⬜⬛⬜⬜⬛⬛⬜⬜⬛⬛⬜⬜⬛⬛⬜⬜⬛⬛⬜⬜⬛⬛⬜⬜⬛⬛⬜⬜⬛⬛⬜⬜⬛⬛⬜⬜⬜⬜⬜⬜⬜⬜⬜\n",
      "⬛⬛⬛⬛⬛⬛⬛⬛⬛⬜⬜⬛⬛⬜⬜⬛⬛⬜⬜⬛⬛⬜⬜⬛⬛⬜⬜⬛⬛⬜⬜⬛⬛⬜⬜⬛⬛⬜⬜⬛⬛⬜⬜⬛⬛⬛⬛⬛⬛⬛⬛\n",
      "⬜⬜⬜⬜⬜⬜⬜⬛⬜⬜⬛⬛⬜⬜⬛⬛⬜⬜⬛⬛⬜⬜⬛⬛⬜⬜⬛⬛⬜⬜⬛⬛⬜⬜⬛⬛⬜⬜⬛⬛⬜⬜⬛⬛⬜⬜⬜⬜⬜⬜⬜\n",
      "⬛⬛⬛⬛⬛⬛⬛⬜⬜⬛⬛⬜⬜⬛⬛⬜⬜⬛⬛⬜⬜⬛⬛⬜⬜⬛⬛⬜⬜⬛⬛⬜⬜⬛⬛⬜⬜⬛⬛⬜⬜⬛⬛⬜⬜⬛⬛⬛⬛⬛⬛\n",
      "⬜⬜⬜⬜⬜⬛⬜⬜⬛⬛⬜⬜⬛⬛⬜⬜⬛⬛⬜⬜⬛⬛⬜⬜⬛⬛⬜⬜⬛⬛⬜⬜⬛⬛⬜⬜⬛⬛⬜⬜⬛⬛⬜⬜⬛⬛⬜⬜⬜⬜⬜\n",
      "⬛⬛⬛⬛⬛⬜⬜⬛⬛⬜⬜⬛⬛⬜⬜⬛⬛⬜⬜⬛⬛⬜⬜⬛⬛⬜⬜⬛⬛⬜⬜⬛⬛⬜⬜⬛⬛⬜⬜⬛⬛⬜⬜⬛⬛⬜⬜⬛⬛⬛⬛\n",
      "⬜⬜⬜⬛⬜⬜⬛⬛⬜⬜⬛⬛⬜⬜⬛⬛⬜⬜⬛⬛⬜⬜⬛⬛⬜⬜⬛⬛⬜⬜⬛⬛⬜⬜⬛⬛⬜⬜⬛⬛⬜⬜⬛⬛⬜⬜⬛⬛⬜⬜⬜\n",
      "⬛⬛⬛⬜⬜⬛⬛⬜⬜⬛⬛⬜⬜⬛⬛⬜⬜⬛⬛⬜⬜⬛⬛⬜⬜⬛⬛⬜⬜⬛⬛⬜⬜⬛⬛⬜⬜⬛⬛⬜⬜⬛⬛⬜⬜⬛⬛⬜⬜⬛⬛\n",
      "⬜⬛⬜⬜⬛⬛⬜⬜⬛⬛⬜⬜⬛⬛⬜⬜⬛⬛⬜⬜⬛⬛⬜⬜⬛⬛⬜⬜⬛⬛⬜⬜⬛⬛⬜⬜⬛⬛⬜⬜⬛⬛⬜⬜⬛⬛⬜⬜⬛⬛⬜\n",
      "⬛⬜⬜⬛⬛⬜⬜⬛⬛⬜⬜⬛⬛⬜⬜⬛⬛⬜⬜⬛⬛⬜⬜⬛⬛⬜⬜⬛⬛⬜⬜⬛⬛⬜⬜⬛⬛⬜⬜⬛⬛⬜⬜⬛⬛⬜⬜⬛⬛⬜⬜\n"
     ]
    }
   ],
   "source": [
    "display_automation(25)"
   ]
  },
  {
   "cell_type": "code",
   "execution_count": 24,
   "id": "5cbdf3f3",
   "metadata": {},
   "outputs": [
    {
     "data": {
      "text/plain": [
       "[-2, 1, 3, 6, 8]"
      ]
     },
     "execution_count": 24,
     "metadata": {},
     "output_type": "execute_result"
    }
   ],
   "source": [
    "# 14.0 Sorted function\n",
    "sorted([3, 1, 8, 6, -2])"
   ]
  },
  {
   "cell_type": "code",
   "execution_count": 40,
   "id": "985cadec",
   "metadata": {},
   "outputs": [],
   "source": [
    "dicti = sorted({2:'A', 1:'B', 6:'C'})"
   ]
  },
  {
   "cell_type": "code",
   "execution_count": 44,
   "id": "4f95da04",
   "metadata": {},
   "outputs": [
    {
     "data": {
      "text/plain": [
       "[1, 2, 6]"
      ]
     },
     "execution_count": 44,
     "metadata": {},
     "output_type": "execute_result"
    }
   ],
   "source": [
    "dicti"
   ]
  },
  {
   "cell_type": "code",
   "execution_count": 47,
   "id": "5936ed6a",
   "metadata": {},
   "outputs": [
    {
     "data": {
      "text/plain": [
       "dict_values(['A', 'B', 'C'])"
      ]
     },
     "execution_count": 47,
     "metadata": {},
     "output_type": "execute_result"
    }
   ],
   "source": [
    "{2:'A', 1:'B', 6:'C'}.values()"
   ]
  },
  {
   "cell_type": "code",
   "execution_count": 54,
   "id": "cf1ffe03",
   "metadata": {},
   "outputs": [
    {
     "data": {
      "text/plain": [
       "[(0, 1, 5), (0, 1, 6), (2, 0, 7), (2, 1, 0)]"
      ]
     },
     "execution_count": 54,
     "metadata": {},
     "output_type": "execute_result"
    }
   ],
   "source": [
    "sorted([(2, 1, 0), (0, 1, 6), (2, 0, 7), (0, 1, 5)]) #list of tuples\n",
    "# sorts by first, second then third index"
   ]
  },
  {
   "cell_type": "code",
   "execution_count": 56,
   "id": "87f31a9a",
   "metadata": {},
   "outputs": [],
   "source": [
    "unsorted_list = [3, 1, -2, 2, 2, -2, 2, 0, -7]\n",
    "normal_sort = sorted(unsorted_list)\n",
    "absolute_sort = sorted(unsorted_list, key=abs)"
   ]
  },
  {
   "cell_type": "code",
   "execution_count": 57,
   "id": "20d3c034",
   "metadata": {},
   "outputs": [
    {
     "data": {
      "text/plain": [
       "[-7, -2, -2, 0, 1, 2, 2, 2, 3]"
      ]
     },
     "execution_count": 57,
     "metadata": {},
     "output_type": "execute_result"
    }
   ],
   "source": [
    "normal_sort"
   ]
  },
  {
   "cell_type": "code",
   "execution_count": 58,
   "id": "b064903c",
   "metadata": {},
   "outputs": [
    {
     "data": {
      "text/plain": [
       "[0, 1, -2, 2, 2, -2, 2, 3, -7]"
      ]
     },
     "execution_count": 58,
     "metadata": {},
     "output_type": "execute_result"
    }
   ],
   "source": [
    "absolute_sort"
   ]
  },
  {
   "cell_type": "code",
   "execution_count": 59,
   "id": "b8c8b806",
   "metadata": {},
   "outputs": [],
   "source": [
    "unsorted_letters = ['A', 'Z', 'u', 'D', 'r', 'M']"
   ]
  },
  {
   "cell_type": "code",
   "execution_count": 61,
   "id": "1371dc42",
   "metadata": {},
   "outputs": [
    {
     "data": {
      "text/plain": [
       "['A', 'D', 'M', 'Z', 'r', 'u']"
      ]
     },
     "execution_count": 61,
     "metadata": {},
     "output_type": "execute_result"
    }
   ],
   "source": [
    "sorted_letters = sorted(unsorted_letters)\n",
    "sorted_letters"
   ]
  },
  {
   "cell_type": "code",
   "execution_count": 67,
   "id": "94fc48ac",
   "metadata": {},
   "outputs": [
    {
     "data": {
      "text/plain": [
       "['A', 'D', 'M', 'r', 'u', 'Z']"
      ]
     },
     "execution_count": 67,
     "metadata": {},
     "output_type": "execute_result"
    }
   ],
   "source": [
    "sorted_letters_ord = sorted(unsorted_letters, key=str.lower)\n",
    "sorted_letters_ord"
   ]
  },
  {
   "cell_type": "code",
   "execution_count": 72,
   "id": "c4a9c889",
   "metadata": {},
   "outputs": [],
   "source": [
    "def change_to_1(num):\n",
    "    return num % 2"
   ]
  },
  {
   "cell_type": "code",
   "execution_count": 76,
   "id": "8b6f8730",
   "metadata": {},
   "outputs": [],
   "source": [
    "key_experiment = sorted(unsorted_list, key=change_to_1, reverse=True)"
   ]
  },
  {
   "cell_type": "code",
   "execution_count": 77,
   "id": "00aacac8",
   "metadata": {},
   "outputs": [
    {
     "data": {
      "text/plain": [
       "[3, 1, -7, -2, 2, 2, -2, 2, 0]"
      ]
     },
     "execution_count": 77,
     "metadata": {},
     "output_type": "execute_result"
    }
   ],
   "source": [
    "key_experiment"
   ]
  },
  {
   "cell_type": "code",
   "execution_count": 78,
   "id": "81b0a182",
   "metadata": {},
   "outputs": [],
   "source": [
    "def my_order(T):\n",
    "    return T[2], T[1], T[0]"
   ]
  },
  {
   "cell_type": "code",
   "execution_count": 79,
   "id": "4af6f587",
   "metadata": {},
   "outputs": [
    {
     "data": {
      "text/plain": [
       "[(0, 7, 2), (1, 4, 6), (2, 0, 1), (6, 4, 1)]"
      ]
     },
     "execution_count": 79,
     "metadata": {},
     "output_type": "execute_result"
    }
   ],
   "source": [
    "sorted([(2,0,1), (0,7,2), (1,4,6), (6,4,1)])"
   ]
  },
  {
   "cell_type": "code",
   "execution_count": 80,
   "id": "eb62c80c",
   "metadata": {},
   "outputs": [
    {
     "data": {
      "text/plain": [
       "[(2, 0, 1), (6, 4, 1), (0, 7, 2), (1, 4, 6)]"
      ]
     },
     "execution_count": 80,
     "metadata": {},
     "output_type": "execute_result"
    }
   ],
   "source": [
    "sorted([(2,0,1), (0,7,2), (1,4,6), (6,4,1)], key=my_order)"
   ]
  },
  {
   "cell_type": "code",
   "execution_count": 81,
   "id": "e02bec73",
   "metadata": {},
   "outputs": [
    {
     "data": {
      "text/plain": [
       "3"
      ]
     },
     "execution_count": 81,
     "metadata": {},
     "output_type": "execute_result"
    }
   ],
   "source": [
    "# 15.0 Labda Functions\n",
    "F = lambda: 3\n",
    "F()"
   ]
  },
  {
   "cell_type": "code",
   "execution_count": 82,
   "id": "3372cfe2",
   "metadata": {},
   "outputs": [
    {
     "data": {
      "text/plain": [
       "3"
      ]
     },
     "execution_count": 82,
     "metadata": {},
     "output_type": "execute_result"
    }
   ],
   "source": [
    "F()"
   ]
  },
  {
   "cell_type": "code",
   "execution_count": 83,
   "id": "e5a266c5",
   "metadata": {},
   "outputs": [
    {
     "data": {
      "text/plain": [
       "3"
      ]
     },
     "execution_count": 83,
     "metadata": {},
     "output_type": "execute_result"
    }
   ],
   "source": [
    "(lambda: 3)()"
   ]
  },
  {
   "cell_type": "code",
   "execution_count": 85,
   "id": "2518c9e4",
   "metadata": {},
   "outputs": [
    {
     "data": {
      "text/plain": [
       "13"
      ]
     },
     "execution_count": 85,
     "metadata": {},
     "output_type": "execute_result"
    }
   ],
   "source": [
    "F = lambda x: 2*x +1\n",
    "F(6)"
   ]
  },
  {
   "cell_type": "code",
   "execution_count": 86,
   "id": "43479408",
   "metadata": {},
   "outputs": [
    {
     "data": {
      "text/plain": [
       "13"
      ]
     },
     "execution_count": 86,
     "metadata": {},
     "output_type": "execute_result"
    }
   ],
   "source": [
    "(lambda x: 2*x +1)(6)"
   ]
  },
  {
   "cell_type": "code",
   "execution_count": 87,
   "id": "850c76ac",
   "metadata": {},
   "outputs": [
    {
     "data": {
      "text/plain": [
       "[(2, 0, 1), (6, 4, 1), (0, 7, 2), (1, 4, 6)]"
      ]
     },
     "execution_count": 87,
     "metadata": {},
     "output_type": "execute_result"
    }
   ],
   "source": [
    "# 16.0 Improving the previous function using a lambda function\n",
    "sorted([(2,0,1), (0,7,2), (1,4,6), (6,4,1)], key=lambda T:(T[2], T[1], T[0]))"
   ]
  }
 ],
 "metadata": {
  "kernelspec": {
   "display_name": "Python 3 (ipykernel)",
   "language": "python",
   "name": "python3"
  },
  "language_info": {
   "codemirror_mode": {
    "name": "ipython",
    "version": 3
   },
   "file_extension": ".py",
   "mimetype": "text/x-python",
   "name": "python",
   "nbconvert_exporter": "python",
   "pygments_lexer": "ipython3",
   "version": "3.11.0"
  },
  "vscode": {
   "interpreter": {
    "hash": "fb4a468b23ae772b99bd54f465a6eab9630ea5075332d07f1e912da887985c6f"
   }
  }
 },
 "nbformat": 4,
 "nbformat_minor": 5
}
