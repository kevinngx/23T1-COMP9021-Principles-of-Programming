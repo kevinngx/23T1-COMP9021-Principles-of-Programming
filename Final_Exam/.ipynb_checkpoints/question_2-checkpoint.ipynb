{
 "cells": [
  {
   "cell_type": "code",
   "execution_count": 1,
   "id": "ddc481a1",
   "metadata": {},
   "outputs": [
    {
     "name": "stdout",
     "output_type": "stream",
     "text": [
      "**********************************************************************\n",
      "File \"__main__\", line 25, in __main__.loop\n",
      "Failed example:\n",
      "    loop({1: 1}, 1)    \n",
      "Expected:\n",
      "    1--1\n",
      "Got nothing\n",
      "**********************************************************************\n",
      "File \"__main__\", line 27, in __main__.loop\n",
      "Failed example:\n",
      "    loop({1: 2, 2: 1}, 2)\n",
      "Expected:\n",
      "    1--2--1\n",
      "Got nothing\n",
      "**********************************************************************\n",
      "File \"__main__\", line 29, in __main__.loop\n",
      "Failed example:\n",
      "    loop({12: 14, 13: 14, 14: 7, 7: 12, 6: 8, 8: 6, 5: 11}, 14)\n",
      "Expected:\n",
      "    7--12--14--7\n",
      "Got nothing\n",
      "**********************************************************************\n",
      "File \"__main__\", line 31, in __main__.loop\n",
      "Failed example:\n",
      "    loop({0: 4, 1: 0, 2: 1, 3: 2, 4: 7, 5: 6, 6: 4, 7: 0, 8: 8, 9: 4}, 4)\n",
      "Expected:\n",
      "    0--4--7--0\n",
      "Got nothing\n",
      "**********************************************************************\n",
      "File \"__main__\", line 33, in __main__.loop\n",
      "Failed example:\n",
      "    loop({0: 7, 1: 7, 2: 3, 3: 8, 4: 6, 5: 8, 6: 6, 7: 4, 8: 9, 9: 2}, 8)\n",
      "Expected:\n",
      "    2--3--8--9--2\n",
      "Got nothing\n",
      "**********************************************************************\n",
      "1 items had failures:\n",
      "   5 of   9 in __main__.loop\n",
      "***Test Failed*** 5 failures.\n"
     ]
    }
   ],
   "source": [
    "# Given a dictionary D and a key x, there is a (unique) loop\n",
    "# containing x if there are keys x_1, ..., x_k such that:\n",
    "# D maps x to x_1\n",
    "# D maps x_1 to x_2\n",
    "# ...\n",
    "# D maps x_{k-1} to x_k\n",
    "# x_1, ..., x_{k-1} are all different to x and x_k is x\n",
    "# (in the particular case where k = 1, D maps x to x).\n",
    "#\n",
    "# When the loop does not exist, the function prints out nothing.\n",
    "# When the loop exists, the function prints out the loop,\n",
    "# STARTING AND ENDING with the SMALLEST element in the loop.\n",
    "#\n",
    "# You can assume that the function is called with as first argument,\n",
    "# a dictionary having nothing but integers as keys and values,\n",
    "# and with as second argument, an integer.\n",
    "\n",
    "\n",
    "def loop(D, x):\n",
    "    '''\n",
    "    >>> loop({1: 1}, 0)\n",
    "    >>> loop({1: 2, 2: 2}, 1)\n",
    "    >>> loop({1: 2, 2: 3}, 1)\n",
    "    >>> loop({1: 2, 2: 3, 3: 2}, 1)\n",
    "    >>> loop({1: 1}, 1)    \n",
    "    1--1\n",
    "    >>> loop({1: 2, 2: 1}, 2)\n",
    "    1--2--1\n",
    "    >>> loop({12: 14, 13: 14, 14: 7, 7: 12, 6: 8, 8: 6, 5: 11}, 14)\n",
    "    7--12--14--7\n",
    "    >>> loop({0: 4, 1: 0, 2: 1, 3: 2, 4: 7, 5: 6, 6: 4, 7: 0, 8: 8, 9: 4}, 4)\n",
    "    0--4--7--0\n",
    "    >>> loop({0: 7, 1: 7, 2: 3, 3: 8, 4: 6, 5: 8, 6: 6, 7: 4, 8: 9, 9: 2}, 8)\n",
    "    2--3--8--9--2\n",
    "    '''\n",
    "    pass\n",
    "    # REPLACE PASS ABOVE WITH YOUR CODE\n",
    "\n",
    "\n",
    "if __name__ == '__main__':\n",
    "    import doctest\n",
    "    doctest.testmod()"
   ]
  },
  {
   "cell_type": "code",
   "execution_count": 3,
   "id": "0e70fb7e",
   "metadata": {},
   "outputs": [
    {
     "name": "stdout",
     "output_type": "stream",
     "text": [
      "{12: 14, 13: 14, 14: 7, 7: 12, 6: 8, 8: 6, 5: 11}\n",
      "14\n"
     ]
    }
   ],
   "source": [
    "def loop(D, x):\n",
    "    print(D)\n",
    "    print(x)\n",
    "\n",
    "\n",
    "loop({12: 14, 13: 14, 14: 7, 7: 12, 6: 8, 8: 6, 5: 11}, 14)"
   ]
  },
  {
   "cell_type": "code",
   "execution_count": null,
   "id": "a162f0ee",
   "metadata": {},
   "outputs": [],
   "source": []
  }
 ],
 "metadata": {
  "kernelspec": {
   "display_name": "Python 3 (ipykernel)",
   "language": "python",
   "name": "python3"
  },
  "language_info": {
   "codemirror_mode": {
    "name": "ipython",
    "version": 3
   },
   "file_extension": ".py",
   "mimetype": "text/x-python",
   "name": "python",
   "nbconvert_exporter": "python",
   "pygments_lexer": "ipython3",
   "version": "3.11.0"
  }
 },
 "nbformat": 4,
 "nbformat_minor": 5
}
