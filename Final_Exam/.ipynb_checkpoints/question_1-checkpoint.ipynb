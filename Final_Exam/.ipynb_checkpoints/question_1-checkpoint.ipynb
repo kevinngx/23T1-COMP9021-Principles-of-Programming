{
 "cells": [
  {
   "cell_type": "code",
   "execution_count": 1,
   "id": "ddc481a1",
   "metadata": {},
   "outputs": [],
   "source": [
    "from IPython.core.interactiveshell import InteractiveShell\n",
    "InteractiveShell.ast_node_interactivity = 'all'"
   ]
  },
  {
   "cell_type": "code",
   "execution_count": 38,
   "id": "66bf7962",
   "metadata": {},
   "outputs": [
    {
     "data": {
      "text/plain": [
       "TestResults(failed=0, attempted=6)"
      ]
     },
     "execution_count": 38,
     "metadata": {},
     "output_type": "execute_result"
    }
   ],
   "source": [
    "# Consider a strictly positive integer. Omit all occurrences of 0,\n",
    "# if any, and write what is left as d_1 d_2 ... d_k.\n",
    "# Returns the integer consisting of d_2 copies of d_1, followed\n",
    "# by d_3 copies of d_2, ... followed by d_k copies of d_{k-1},\n",
    "# followed by d_1 copies of d_k (note that when k = 1, that is\n",
    "# d_1 copies of d_1).\n",
    "#\n",
    "# For instance, if the integer is 40025000170 then removing\n",
    "# all occurrences of 0, it becomes 42517, and what is returned\n",
    "# is the integer consisting of\n",
    "# - 2 copies of 4,\n",
    "# - followed by 5 copies of 2,\n",
    "# - followed by 1 copy of 5,\n",
    "# - followed by 7 copies of 1,\n",
    "# - followed 4 copies of 7,\n",
    "# so the integer 4422222511111117777\n",
    "#\n",
    "# You can assume that the function is called with a strictly\n",
    "# positive integer as argument.\n",
    "\n",
    "\n",
    "def transform(number):\n",
    "    '''\n",
    "    >>> transform(1)\n",
    "    1\n",
    "    >>> transform(12)\n",
    "    112\n",
    "    >>> transform(321)\n",
    "    332111\n",
    "    >>> transform(2143)\n",
    "    2111144433\n",
    "    >>> transform(3000)\n",
    "    333\n",
    "    >>> transform(40025000170)\n",
    "    4422222511111117777\n",
    "    '''\n",
    "    output = []\n",
    "    num_string = str(number).replace('0','')\n",
    "    for i in range(len(num_string)):\n",
    "        if i == len(num_string) -1:\n",
    "            substr = num_string[i] * int(num_string[0]) \n",
    "        else:\n",
    "            substr = num_string[i] * int(num_string[i+1]) \n",
    "        output.append(substr)\n",
    "    return int(''.join(output))\n",
    "\n",
    "\n",
    "if __name__ == '__main__':\n",
    "    import doctest\n",
    "    doctest.testmod()"
   ]
  },
  {
   "cell_type": "code",
   "execution_count": null,
   "id": "8b1d6a71",
   "metadata": {},
   "outputs": [],
   "source": []
  },
  {
   "cell_type": "code",
   "execution_count": null,
   "id": "96beb224",
   "metadata": {},
   "outputs": [],
   "source": []
  }
 ],
 "metadata": {
  "kernelspec": {
   "display_name": "Python 3 (ipykernel)",
   "language": "python",
   "name": "python3"
  },
  "language_info": {
   "codemirror_mode": {
    "name": "ipython",
    "version": 3
   },
   "file_extension": ".py",
   "mimetype": "text/x-python",
   "name": "python",
   "nbconvert_exporter": "python",
   "pygments_lexer": "ipython3",
   "version": "3.11.0"
  }
 },
 "nbformat": 4,
 "nbformat_minor": 5
}
