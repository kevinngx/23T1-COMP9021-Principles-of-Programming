{
 "cells": [
  {
   "cell_type": "code",
   "execution_count": 123,
   "id": "ddc481a1",
   "metadata": {},
   "outputs": [
    {
     "name": "stdout",
     "output_type": "stream",
     "text": [
      "**********************************************************************\n",
      "File \"__main__\", line 25, in __main__.loop\n",
      "Failed example:\n",
      "    loop({1: 1}, 1)    \n",
      "Expected:\n",
      "    1--1\n",
      "Got:\n",
      "    1--1--1\n",
      "**********************************************************************\n",
      "File \"__main__\", line 27, in __main__.loop\n",
      "Failed example:\n",
      "    loop({1: 2, 2: 1}, 2)\n",
      "Expected:\n",
      "    1--2--1\n",
      "Got:\n",
      "    2--1--2\n",
      "**********************************************************************\n",
      "File \"__main__\", line 29, in __main__.loop\n",
      "Failed example:\n",
      "    loop({12: 14, 13: 14, 14: 7, 7: 12, 6: 8, 8: 6, 5: 11}, 14)\n",
      "Expected:\n",
      "    7--12--14--7\n",
      "Got:\n",
      "    12--14--7--12\n",
      "**********************************************************************\n",
      "1 items had failures:\n",
      "   3 of   9 in __main__.loop\n",
      "***Test Failed*** 3 failures.\n"
     ]
    }
   ],
   "source": [
    "# Given a dictionary D and a key x, there is a (unique) loop\n",
    "# containing x if there are keys x_1, ..., x_k such that:\n",
    "# D maps x to x_1\n",
    "# D maps x_1 to x_2\n",
    "# ...\n",
    "# D maps x_{k-1} to x_k\n",
    "# x_1, ..., x_{k-1} are all different to x and x_k is x\n",
    "# (in the particular case where k = 1, D maps x to x).\n",
    "#\n",
    "# When the loop does not exist, the function prints out nothing.\n",
    "# When the loop exists, the function prints out the loop,\n",
    "# STARTING AND ENDING with the SMALLEST element in the loop.\n",
    "#\n",
    "# You can assume that the function is called with as first argument,\n",
    "# a dictionary having nothing but integers as keys and values,\n",
    "# and with as second argument, an integer.\n",
    "\n",
    "\n",
    "def loop(D, x):\n",
    "    '''\n",
    "    >>> loop({1: 1}, 0)\n",
    "    >>> loop({1: 2, 2: 2}, 1)\n",
    "    >>> loop({1: 2, 2: 3}, 1)\n",
    "    >>> loop({1: 2, 2: 3, 3: 2}, 1)\n",
    "    >>> loop({1: 1}, 1)    \n",
    "    1--1\n",
    "    >>> loop({1: 2, 2: 1}, 2)\n",
    "    1--2--1\n",
    "    >>> loop({12: 14, 13: 14, 14: 7, 7: 12, 6: 8, 8: 6, 5: 11}, 14)\n",
    "    7--12--14--7\n",
    "    >>> loop({0: 4, 1: 0, 2: 1, 3: 2, 4: 7, 5: 6, 6: 4, 7: 0, 8: 8, 9: 4}, 4)\n",
    "    0--4--7--0\n",
    "    >>> loop({0: 7, 1: 7, 2: 3, 3: 8, 4: 6, 5: 8, 6: 6, 7: 4, 8: 9, 9: 2}, 8)\n",
    "    2--3--8--9--2\n",
    "    '''\n",
    "    pattern = []\n",
    "    if x not in D:\n",
    "        return\n",
    "    next = D[x]\n",
    "    iterations = 0\n",
    "    \n",
    "    while iterations < len(D):\n",
    "        if next not in D:\n",
    "            return\n",
    "        next = D[next]\n",
    "#         print(f'next = {next}, pattern = {\"--\".join(pattern)}') \n",
    "        if next == x:\n",
    "            pattern.append(str(next))\n",
    "            pattern.append(str(D[x]))\n",
    "            pattern.append(str(D[D[x]]))\n",
    "            break\n",
    "        pattern.append(str(next))\n",
    "        iterations +=1\n",
    "        \n",
    "#     print(\"Final Append\")\n",
    "    \n",
    "    if iterations != len(D):\n",
    "        print('--'.join(pattern))   \n",
    "    # REPLACE PASS ABOVE WITH YOUR CODE\n",
    "\n",
    "\n",
    "if __name__ == '__main__':\n",
    "    import doctest\n",
    "    doctest.testmod()"
   ]
  },
  {
   "cell_type": "code",
   "execution_count": 124,
   "id": "066f1e71",
   "metadata": {},
   "outputs": [
    {
     "ename": "TypeError",
     "evalue": "sequence item 0: expected str instance, int found",
     "output_type": "error",
     "traceback": [
      "\u001b[0;31m---------------------------------------------------------------------------\u001b[0m",
      "\u001b[0;31mTypeError\u001b[0m                                 Traceback (most recent call last)",
      "Cell \u001b[0;32mIn[124], line 21\u001b[0m\n\u001b[1;32m     18\u001b[0m     pattern\u001b[38;5;241m.\u001b[39mappend(\u001b[38;5;28mstr\u001b[39m(D[D[x]]))\n\u001b[1;32m     19\u001b[0m     \u001b[38;5;28mprint\u001b[39m(\u001b[38;5;124m'\u001b[39m\u001b[38;5;124m--\u001b[39m\u001b[38;5;124m'\u001b[39m\u001b[38;5;241m.\u001b[39mjoin(pattern))        \n\u001b[0;32m---> 21\u001b[0m \u001b[43mloop\u001b[49m\u001b[43m(\u001b[49m\n\u001b[1;32m     22\u001b[0m \u001b[43m    \u001b[49m\u001b[43m{\u001b[49m\n\u001b[1;32m     23\u001b[0m \u001b[43m      \u001b[49m\u001b[38;5;241;43m12\u001b[39;49m\u001b[43m:\u001b[49m\u001b[43m \u001b[49m\u001b[38;5;241;43m14\u001b[39;49m\u001b[43m,\u001b[49m\u001b[43m \u001b[49m\n\u001b[1;32m     24\u001b[0m \u001b[43m      \u001b[49m\u001b[38;5;241;43m13\u001b[39;49m\u001b[43m:\u001b[49m\u001b[43m \u001b[49m\u001b[38;5;241;43m14\u001b[39;49m\u001b[43m,\u001b[49m\u001b[43m \u001b[49m\n\u001b[1;32m     25\u001b[0m \u001b[43m      \u001b[49m\u001b[38;5;241;43m14\u001b[39;49m\u001b[43m:\u001b[49m\u001b[43m \u001b[49m\u001b[38;5;241;43m7\u001b[39;49m\u001b[43m,\u001b[49m\u001b[43m \u001b[49m\n\u001b[1;32m     26\u001b[0m \u001b[43m      \u001b[49m\u001b[38;5;241;43m7\u001b[39;49m\u001b[43m:\u001b[49m\u001b[43m \u001b[49m\u001b[38;5;241;43m12\u001b[39;49m\u001b[43m,\u001b[49m\u001b[43m \u001b[49m\n\u001b[1;32m     27\u001b[0m \u001b[43m      \u001b[49m\u001b[38;5;241;43m6\u001b[39;49m\u001b[43m:\u001b[49m\u001b[43m \u001b[49m\u001b[38;5;241;43m8\u001b[39;49m\u001b[43m,\u001b[49m\u001b[43m \u001b[49m\n\u001b[1;32m     28\u001b[0m \u001b[43m      \u001b[49m\u001b[38;5;241;43m8\u001b[39;49m\u001b[43m:\u001b[49m\u001b[43m \u001b[49m\u001b[38;5;241;43m6\u001b[39;49m\u001b[43m,\u001b[49m\u001b[43m \u001b[49m\n\u001b[1;32m     29\u001b[0m \u001b[43m      \u001b[49m\u001b[38;5;241;43m5\u001b[39;49m\u001b[43m:\u001b[49m\u001b[43m \u001b[49m\u001b[38;5;241;43m11\u001b[39;49m\n\u001b[1;32m     30\u001b[0m \u001b[43m     \u001b[49m\u001b[43m}\u001b[49m\n\u001b[1;32m     31\u001b[0m \u001b[43m    \u001b[49m\u001b[43m,\u001b[49m\u001b[43m \u001b[49m\u001b[38;5;241;43m14\u001b[39;49m\u001b[43m)\u001b[49m\n\u001b[1;32m     32\u001b[0m \u001b[38;5;66;03m# Expected = 7--12--14--7\u001b[39;00m\n",
      "Cell \u001b[0;32mIn[124], line 19\u001b[0m, in \u001b[0;36mloop\u001b[0;34m(D, x)\u001b[0m\n\u001b[1;32m     17\u001b[0m pattern\u001b[38;5;241m.\u001b[39mappend(\u001b[38;5;28mstr\u001b[39m(D[x]))\n\u001b[1;32m     18\u001b[0m pattern\u001b[38;5;241m.\u001b[39mappend(\u001b[38;5;28mstr\u001b[39m(D[D[x]]))\n\u001b[0;32m---> 19\u001b[0m \u001b[38;5;28mprint\u001b[39m(\u001b[38;5;124;43m'\u001b[39;49m\u001b[38;5;124;43m--\u001b[39;49m\u001b[38;5;124;43m'\u001b[39;49m\u001b[38;5;241;43m.\u001b[39;49m\u001b[43mjoin\u001b[49m\u001b[43m(\u001b[49m\u001b[43mpattern\u001b[49m\u001b[43m)\u001b[49m)\n",
      "\u001b[0;31mTypeError\u001b[0m: sequence item 0: expected str instance, int found"
     ]
    }
   ],
   "source": [
    "def loop(D, x):\n",
    "\n",
    "    pattern = [x]\n",
    "    next = D[x]\n",
    "    iterations = 0\n",
    "    \n",
    "    while iterations < len(D):\n",
    "        next = D[next]\n",
    "#         print(f'next = {next}, pattern = {\"--\".join(pattern)}') \n",
    "        if next == x:\n",
    "            pattern.append(str(next))\n",
    "            break\n",
    "        pattern.append(str(next))\n",
    "        iterations +=1\n",
    "        \n",
    "#     print(\"Final Append\")\n",
    "    pattern.append(str(D[x]))\n",
    "    pattern.append(str(D[D[x]]))\n",
    "    print('--'.join(pattern))        \n",
    "            \n",
    "loop(\n",
    "    {\n",
    "      12: 14, \n",
    "      13: 14, \n",
    "      14: 7, \n",
    "      7: 12, \n",
    "      6: 8, \n",
    "      8: 6, \n",
    "      5: 11\n",
    "     }\n",
    "    , 14)\n",
    "# Expected = 7--12--14--7"
   ]
  },
  {
   "cell_type": "code",
   "execution_count": 125,
   "id": "c95e79f5",
   "metadata": {},
   "outputs": [
    {
     "ename": "TypeError",
     "evalue": "sequence item 0: expected str instance, int found",
     "output_type": "error",
     "traceback": [
      "\u001b[0;31m---------------------------------------------------------------------------\u001b[0m",
      "\u001b[0;31mTypeError\u001b[0m                                 Traceback (most recent call last)",
      "Cell \u001b[0;32mIn[125], line 1\u001b[0m\n\u001b[0;32m----> 1\u001b[0m \u001b[43mloop\u001b[49m\u001b[43m(\u001b[49m\u001b[43m{\u001b[49m\u001b[38;5;241;43m1\u001b[39;49m\u001b[43m:\u001b[49m\u001b[43m \u001b[49m\u001b[38;5;241;43m1\u001b[39;49m\u001b[43m}\u001b[49m\u001b[43m,\u001b[49m\u001b[43m \u001b[49m\u001b[38;5;241;43m1\u001b[39;49m\u001b[43m)\u001b[49m\n\u001b[1;32m      2\u001b[0m \u001b[38;5;66;03m# Expected 1--1\u001b[39;00m\n",
      "Cell \u001b[0;32mIn[124], line 19\u001b[0m, in \u001b[0;36mloop\u001b[0;34m(D, x)\u001b[0m\n\u001b[1;32m     17\u001b[0m pattern\u001b[38;5;241m.\u001b[39mappend(\u001b[38;5;28mstr\u001b[39m(D[x]))\n\u001b[1;32m     18\u001b[0m pattern\u001b[38;5;241m.\u001b[39mappend(\u001b[38;5;28mstr\u001b[39m(D[D[x]]))\n\u001b[0;32m---> 19\u001b[0m \u001b[38;5;28mprint\u001b[39m(\u001b[38;5;124;43m'\u001b[39;49m\u001b[38;5;124;43m--\u001b[39;49m\u001b[38;5;124;43m'\u001b[39;49m\u001b[38;5;241;43m.\u001b[39;49m\u001b[43mjoin\u001b[49m\u001b[43m(\u001b[49m\u001b[43mpattern\u001b[49m\u001b[43m)\u001b[49m)\n",
      "\u001b[0;31mTypeError\u001b[0m: sequence item 0: expected str instance, int found"
     ]
    }
   ],
   "source": [
    "loop({1: 1}, 1)\n",
    "# Expected 1--1"
   ]
  },
  {
   "cell_type": "code",
   "execution_count": 112,
   "id": "f03252e5",
   "metadata": {},
   "outputs": [
    {
     "name": "stdout",
     "output_type": "stream",
     "text": [
      "next = 2, pattern = \n",
      "next = 3, pattern = 2\n",
      "next = 8, pattern = 2--3\n",
      "Final Append\n",
      "2--3--8--9--2\n"
     ]
    }
   ],
   "source": [
    "loop(\n",
    "    {0: 7, \n",
    "     1: 7, \n",
    "     2: 3, \n",
    "     3: 8, \n",
    "     4: 6, \n",
    "     5: 8, \n",
    "     6: 6, \n",
    "     7: 4, \n",
    "     8: 9, \n",
    "     9: 2}, \n",
    "    8)\n",
    "# Expected = 2--3--8--9--2"
   ]
  },
  {
   "cell_type": "code",
   "execution_count": 113,
   "id": "907f2156",
   "metadata": {},
   "outputs": [
    {
     "name": "stdout",
     "output_type": "stream",
     "text": [
      "next = 0, pattern = \n",
      "next = 4, pattern = 0\n",
      "Final Append\n",
      "0--4--7--0\n"
     ]
    }
   ],
   "source": [
    "loop({0: 4, 1: 0, 2: 1, 3: 2, 4: 7, 5: 6, 6: 4, 7: 0, 8: 8, 9: 4}, 4)\n",
    "# Expected =  0--4--7--0"
   ]
  },
  {
   "cell_type": "code",
   "execution_count": null,
   "id": "87115c7e",
   "metadata": {},
   "outputs": [],
   "source": []
  },
  {
   "cell_type": "code",
   "execution_count": null,
   "id": "b0f3f97d",
   "metadata": {},
   "outputs": [],
   "source": []
  }
 ],
 "metadata": {
  "kernelspec": {
   "display_name": "Python 3 (ipykernel)",
   "language": "python",
   "name": "python3"
  },
  "language_info": {
   "codemirror_mode": {
    "name": "ipython",
    "version": 3
   },
   "file_extension": ".py",
   "mimetype": "text/x-python",
   "name": "python",
   "nbconvert_exporter": "python",
   "pygments_lexer": "ipython3",
   "version": "3.11.0"
  }
 },
 "nbformat": 4,
 "nbformat_minor": 5
}
