{
 "cells": [
  {
   "cell_type": "code",
   "execution_count": 3,
   "metadata": {},
   "outputs": [
    {
     "name": "stdout",
     "output_type": "stream",
     "text": [
      "The run_and_test extension is already loaded. To reload it, use:\n",
      "  %reload_ext run_and_test\n"
     ]
    }
   ],
   "source": [
    "load_ext run_and_test"
   ]
  },
  {
   "cell_type": "markdown",
   "metadata": {},
   "source": [
    "# Max element in a list"
   ]
  },
  {
   "cell_type": "markdown",
   "metadata": {},
   "source": [
    "Study and run the following program."
   ]
  },
  {
   "cell_type": "code",
   "execution_count": 4,
   "metadata": {},
   "outputs": [
    {
     "name": "stdout",
     "output_type": "stream",
     "text": [
      "Feed the seed with an integer: 10\n",
      "How many elements do you want to generate? 10\n",
      "\n",
      "The list is: [73, 4, 54, 61, 73, 1, 26, 59, 62, 35]\n",
      "\n",
      "The maximum number in this list is: 73\n",
      "Confirming with builtin operation: 73\n"
     ]
    }
   ],
   "source": [
    "# %load max_in_list.py\n",
    "# Written by Eric Martin for COMP9021\n",
    "\n",
    "\n",
    "from random import seed, randint\n",
    "import sys\n",
    "\n",
    "\n",
    "# Prompts the user for an integer to provide as argument to the\n",
    "# seed() function.\n",
    "try:\n",
    "    arg_for_seed = int(input('Feed the seed with an integer: '))\n",
    "except ValueError:\n",
    "    print('Input is not an integer, giving up.')\n",
    "    sys.exit()   \n",
    "# Prompts the user a strictly positive number, nb_of_elements.\n",
    "try:\n",
    "    nb_of_elements = int(input('How many elements do you want to generate? '))\n",
    "except ValueError:\n",
    "    print('Input is not an integer, giving up.')\n",
    "    sys.exit()\n",
    "if nb_of_elements <= 0:\n",
    "    print('Input should be strictly positive, giving up.')\n",
    "    sys.exit()\n",
    "seed(arg_for_seed)\n",
    "# Generates a list of nb_of_elements random integers between 0 and 99.\n",
    "L = [randint(0, 99) for _ in range(nb_of_elements)]\n",
    "# Prints out the list.\n",
    "print('\\nThe list is:', L)\n",
    "# Computes the maximum element of the list without using the\n",
    "# builtin max().\n",
    "max_element = 0\n",
    "for e in L:\n",
    "    if e > max_element:\n",
    "        max_element = e\n",
    "# Prints out the value of the maximum element within text out.\n",
    "print('\\nThe maximum number in this list is:', max_element)\n",
    "# Confirms the value with the builtin max().\n",
    "print('Confirming with builtin operation:', max(L))\n"
   ]
  },
  {
   "cell_type": "markdown",
   "metadata": {},
   "source": [
    "# Task"
   ]
  },
  {
   "cell_type": "markdown",
   "metadata": {},
   "source": [
    "Write a program `span_in_list.py` that runs as follows.\n",
    "\n",
    "* It prompts the user for:\n",
    "    * an integer, given as argument to the `seed()` function from the `random` module;\n",
    "    * a strictly positive integer, *nb_of_elements*.\n",
    "* It generates, using *nb_of_elements* many calls to the `randint()` function from the `random` module, *nb_of_elements* random integers between 0 and 99 included.\n",
    "* It displays the generated list.\n",
    "* It computes the difference between the largest and smallest values in the list by scanning all elements in the list and displays it.\n",
    "* It computes the difference between the largest and smallest values in the list using the max() and min() builtin functions and displays it."
   ]
  },
  {
   "cell_type": "markdown",
   "metadata": {},
   "source": [
    "# Tests"
   ]
  },
  {
   "cell_type": "markdown",
   "metadata": {},
   "source": [
    "## A list with 1 integer"
   ]
  },
  {
   "cell_type": "code",
   "execution_count": 5,
   "metadata": {},
   "outputs": [
    {
     "name": "stdout",
     "output_type": "stream",
     "text": [
      "\u001b[1mPASSED\u001b[0m\n",
      "\n",
      "\u001b[30m Feed the seed with an integer: \u001b[0m\u001b[34m1\n",
      "\u001b[0m\u001b[30m How many elements do you want to generate? \u001b[0m\u001b[34m1\n",
      "\u001b[0m\u001b[30m \n",
      "\u001b[0m\u001b[30m The list is: [17]\n",
      "\u001b[0m\u001b[30m \n",
      "\u001b[0m\u001b[30m The maximum difference between largest and smallest values in this list is: 0\n",
      "\u001b[0m\u001b[30m Confirming with builtin operations: 0\n",
      "\u001b[0m"
     ]
    }
   ],
   "source": [
    "%%run_and_test -i'1\\n1\\n' python3 span_in_list.py\n",
    "\n",
    "'Feed the seed with an integer: ', '1\\n',\n",
    "'How many elements do you want to generate? ', '1\\n',\n",
    "'\\n'\n",
    "'The list is: [17]\\n'\n",
    "'\\n'\n",
    "'The maximum difference between largest and smallest values in this list is: '\n",
    "'0\\n'\n",
    "'Confirming with builtin operations: 0\\n'"
   ]
  },
  {
   "cell_type": "markdown",
   "metadata": {},
   "source": [
    "## A list with 2 integers"
   ]
  },
  {
   "cell_type": "code",
   "execution_count": 6,
   "metadata": {},
   "outputs": [
    {
     "name": "stdout",
     "output_type": "stream",
     "text": [
      "\u001b[1mPASSED\u001b[0m\n",
      "\n",
      "\u001b[30m Feed the seed with an integer: \u001b[0m\u001b[34m6\n",
      "\u001b[0m\u001b[30m How many elements do you want to generate? \u001b[0m\u001b[34m2\n",
      "\u001b[0m\u001b[30m \n",
      "\u001b[0m\u001b[30m The list is: [73, 10]\n",
      "\u001b[0m\u001b[30m \n",
      "\u001b[0m\u001b[30m The maximum difference between largest and smallest values in this list is: 63\n",
      "\u001b[0m\u001b[30m Confirming with builtin operations: 63\n",
      "\u001b[0m"
     ]
    }
   ],
   "source": [
    "%%run_and_test -i'6\\n2\\n' python3 span_in_list.py\n",
    "\n",
    "'Feed the seed with an integer: ', '6\\n',\n",
    "'How many elements do you want to generate? ', '2\\n',\n",
    "'\\n'\n",
    "'The list is: [73, 10]\\n'\n",
    "'\\n'\n",
    "'The maximum difference between largest and smallest values in this list is: '\n",
    "'63\\n'\n",
    "'Confirming with builtin operations: 63\\n'"
   ]
  },
  {
   "cell_type": "markdown",
   "metadata": {},
   "source": [
    "## A list with 3 integers"
   ]
  },
  {
   "cell_type": "code",
   "execution_count": 7,
   "metadata": {},
   "outputs": [
    {
     "name": "stdout",
     "output_type": "stream",
     "text": [
      "\u001b[1mPASSED\u001b[0m\n",
      "\n",
      "\u001b[30m Feed the seed with an integer: \u001b[0m\u001b[34m11\n",
      "\u001b[0m\u001b[30m How many elements do you want to generate? \u001b[0m\u001b[34m3\n",
      "\u001b[0m\u001b[30m \n",
      "\u001b[0m\u001b[30m The list is: [57, 71, 99]\n",
      "\u001b[0m\u001b[30m \n",
      "\u001b[0m\u001b[30m The maximum difference between largest and smallest values in this list is: 42\n",
      "\u001b[0m\u001b[30m Confirming with builtin operations: 42\n",
      "\u001b[0m"
     ]
    }
   ],
   "source": [
    "%%run_and_test -i'11\\n3\\n' python3 span_in_list.py\n",
    "\n",
    "'Feed the seed with an integer: ', '11\\n',\n",
    "'How many elements do you want to generate? ', '3\\n',\n",
    "'\\n\n",
    "The list is: [57, 71, 99]\\n\n",
    "\\n\n",
    "The maximum difference between largest and smallest values in this list is: 42\\n\n",
    "Confirming with builtin operations: 42\\n'"
   ]
  },
  {
   "cell_type": "markdown",
   "metadata": {},
   "source": [
    "## A list with 4 integers"
   ]
  },
  {
   "cell_type": "code",
   "execution_count": 8,
   "metadata": {},
   "outputs": [
    {
     "name": "stdout",
     "output_type": "stream",
     "text": [
      "\u001b[1mPASSED\u001b[0m\n",
      "\n",
      "\u001b[30m Feed the seed with an integer: \u001b[0m\u001b[34m16\n",
      "\u001b[0m\u001b[30m How many elements do you want to generate? \u001b[0m\u001b[34m4\n",
      "\u001b[0m\u001b[30m \n",
      "\u001b[0m\u001b[30m The list is: [46, 60, 61, 36]\n",
      "\u001b[0m\u001b[30m \n",
      "\u001b[0m\u001b[30m The maximum difference between largest and smallest values in this list is: 25\n",
      "\u001b[0m\u001b[30m Confirming with builtin operations: 25\n",
      "\u001b[0m"
     ]
    }
   ],
   "source": [
    "%%run_and_test -i'16\\n4\\n' python3 span_in_list.py\n",
    "\n",
    "'Feed the seed with an integer: ', '16\\n',\n",
    "'How many elements do you want to generate? ', '4\\n',\n",
    "'\\n'\n",
    "'The list is: [46, 60, 61, 36]\\n'\n",
    "'\\n'\n",
    "'The maximum difference between largest and smallest values in this list is: '\n",
    "'25\\n'\n",
    "'Confirming with builtin operations: 25\\n'"
   ]
  },
  {
   "cell_type": "markdown",
   "metadata": {},
   "source": [
    "## A list with 5 integers"
   ]
  },
  {
   "cell_type": "code",
   "execution_count": 9,
   "metadata": {},
   "outputs": [
    {
     "name": "stdout",
     "output_type": "stream",
     "text": [
      "\u001b[1mPASSED\u001b[0m\n",
      "\n",
      "\u001b[30m Feed the seed with an integer: \u001b[0m\u001b[34m21\n",
      "\u001b[0m\u001b[30m How many elements do you want to generate? \u001b[0m\u001b[34m5\n",
      "\u001b[0m\u001b[30m \n",
      "\u001b[0m\u001b[30m The list is: [21, 53, 88, 53, 81]\n",
      "\u001b[0m\u001b[30m \n",
      "\u001b[0m\u001b[30m The maximum difference between largest and smallest values in this list is: 67\n",
      "\u001b[0m\u001b[30m Confirming with builtin operations: 67\n",
      "\u001b[0m"
     ]
    }
   ],
   "source": [
    "%%run_and_test -i'21\\n5\\n' python3 span_in_list.py\n",
    "\n",
    "'Feed the seed with an integer: ', '21\\n',\n",
    "'How many elements do you want to generate? ', '5\\n',\n",
    "'\\n'\n",
    "'The list is: [21, 53, 88, 53, 81]\\n'\n",
    "'\\n'\n",
    "'The maximum difference between largest and smallest values in this list is: '\n",
    "'67\\n'\n",
    "'Confirming with builtin operations: 67\\n'"
   ]
  },
  {
   "cell_type": "markdown",
   "metadata": {},
   "source": [
    "## A list with 8 integers"
   ]
  },
  {
   "cell_type": "code",
   "execution_count": 10,
   "metadata": {},
   "outputs": [
    {
     "name": "stdout",
     "output_type": "stream",
     "text": [
      "\u001b[1mPASSED\u001b[0m\n",
      "\n",
      "\u001b[30m Feed the seed with an integer: \u001b[0m\u001b[34m26\n",
      "\u001b[0m\u001b[30m How many elements do you want to generate? \u001b[0m\u001b[34m8\n",
      "\u001b[0m\u001b[30m \n",
      "\u001b[0m\u001b[30m The list is: [95, 25, 84, 26, 55, 76, 69, 7]\n",
      "\u001b[0m\u001b[30m \n",
      "\u001b[0m\u001b[30m The maximum difference between largest and smallest values in this list is: 88\n",
      "\u001b[0m\u001b[30m Confirming with builtin operations: 88\n",
      "\u001b[0m"
     ]
    }
   ],
   "source": [
    "%%run_and_test -i'26\\n8\\n' python3 span_in_list.py\n",
    "\n",
    "'Feed the seed with an integer: ', '26\\n',\n",
    "'How many elements do you want to generate? ', '8\\n',\n",
    "'\\n'\n",
    "'The list is: [95, 25, 84, 26, 55, 76, 69, 7]\\n'\n",
    "'\\n'\n",
    "'The maximum difference between largest and smallest values in this list is: '\n",
    "'88\\n'\n",
    "'Confirming with builtin operations: 88\\n'"
   ]
  },
  {
   "cell_type": "markdown",
   "metadata": {},
   "source": [
    "## A list with 13 integers"
   ]
  },
  {
   "cell_type": "code",
   "execution_count": 11,
   "metadata": {},
   "outputs": [
    {
     "name": "stdout",
     "output_type": "stream",
     "text": [
      "\u001b[1mPASSED\u001b[0m\n",
      "\n",
      "\u001b[30m Feed the seed with an integer: \u001b[0m\u001b[34m31\n",
      "\u001b[0m\u001b[30m How many elements do you want to generate? \u001b[0m\u001b[34m13\n",
      "\u001b[0m\u001b[30m \n",
      "\u001b[0m\u001b[30m The list is: [1, 60, 14, 97, 50, 18, 87, 5, 17, 14, 68, 29, 91]\n",
      "\u001b[0m\u001b[30m \n",
      "\u001b[0m\u001b[30m The maximum difference between largest and smallest values in this list is: 96\n",
      "\u001b[0m\u001b[30m Confirming with builtin operations: 96\n",
      "\u001b[0m"
     ]
    }
   ],
   "source": [
    "%%run_and_test -i'31\\n13\\n' python3 span_in_list.py\n",
    "\n",
    "'Feed the seed with an integer: ', '31\\n',\n",
    "'How many elements do you want to generate? ', '13\\n',\n",
    "'\\n'\n",
    "'The list is: [1, 60, 14, 97, 50, 18, 87, 5, 17, 14, 68, 29, 91]\\n'\n",
    "'\\n'\n",
    "'The maximum difference between largest and smallest values in this list is: '\n",
    "'96\\n'\n",
    "'Confirming with builtin operations: 96\\n'"
   ]
  },
  {
   "cell_type": "code",
   "execution_count": null,
   "metadata": {},
   "outputs": [],
   "source": []
  }
 ],
 "metadata": {
  "kernelspec": {
   "display_name": "Python 3 (ipykernel)",
   "language": "python",
   "name": "python3"
  },
  "language_info": {
   "codemirror_mode": {
    "name": "ipython",
    "version": 3
   },
   "file_extension": ".py",
   "mimetype": "text/x-python",
   "name": "python",
   "nbconvert_exporter": "python",
   "pygments_lexer": "ipython3",
   "version": "3.11.0"
  }
 },
 "nbformat": 4,
 "nbformat_minor": 4
}
