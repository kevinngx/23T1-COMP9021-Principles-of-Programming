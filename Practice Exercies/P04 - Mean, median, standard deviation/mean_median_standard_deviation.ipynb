{
    "metadata": {
        "kernelspec": {
            "name": "python3",
            "display_name": "Python 3 (ipykernel)",
            "language": "python"
        }
    },
    "nbformat": 4,
    "nbformat_minor": 4,
    "cells": [
        {
            "cell_type": "code",
            "execution_count": 52,
            "metadata": {},
            "outputs": [
                {
                    "name": "stdout",
                    "output_type": "stream",
                    "text": "The run_and_test extension is already loaded. To reload it, use:\n  %reload_ext run_and_test\n"
                }
            ],
            "source": [
                "load_ext run_and_test"
            ]
        },
        {
            "attachments": {},
            "cell_type": "markdown",
            "metadata": {},
            "source": [
                "# Task"
            ]
        },
        {
            "attachments": {},
            "cell_type": "markdown",
            "metadata": {},
            "source": [
                "Write a program `mean_median_standard_deviation.py` that runs as follows.\n",
                "\n",
                "* It prompts the user for:\n",
                "    * an integer, given as argument to the `seed()` function from the `random` module;\n",
                "    * a strictly positive integer, *nb_of_elements*.\n",
                "* It generates, using *nb_of_elements* many calls to the `randint()` function from the `random` module, *nb_of_elements* random integers between -50 and 50 included.\n",
                "* It displays the generated list.\n",
                "* It computes the mean, the median and the standard deviation of the numbers in the list using nothing but arithmetic operators and displays them as floating point numbers with two digits after the decimal point.\n",
                "* It computes the mean, the median and the standard deviation of the numbers in the list using the `mean()`, `median()` and `pstdev()` functions from the statistics module and displays them as floating point numbers with two digits after the decimal point. "
            ]
        },
        {
            "attachments": {},
            "cell_type": "markdown",
            "metadata": {},
            "source": [
                "# Tests"
            ]
        },
        {
            "attachments": {},
            "cell_type": "markdown",
            "metadata": {},
            "source": [
                "## A list with 1 integer"
            ]
        },
        {
            "cell_type": "code",
            "execution_count": 53,
            "metadata": {},
            "outputs": [
                {
                    "name": "stdout",
                    "output_type": "stream",
                    "text": "\u001b[1mPASSED\u001b[0m\n\n\u001b[30m Feed the seed with an integer: \u001b[0m\u001b[34m0\n\u001b[0m\u001b[30m How many elements do you want to generate? \u001b[0m\u001b[34m1\n\u001b[0m\u001b[30m \n\u001b[0m\u001b[30m The list is: [-1]\n\u001b[0m\u001b[30m \n\u001b[0m\u001b[30m The mean is -1.00.\n\u001b[0m\u001b[30m The median is -1.00.\n\u001b[0m\u001b[30m The standard deviation is 0.00.\n\u001b[0m\u001b[30m \n\u001b[0m\u001b[30m Confirming with functions from the statistics module:\n\u001b[0m\u001b[30m The mean is -1.00.\n\u001b[0m\u001b[30m The median is -1.00.\n\u001b[0m\u001b[30m The standard deviation is 0.00.\n\u001b[0m"
                }
            ],
            "source": [
                "%%run_and_test -i'0\\n1\\n' python3 mean_median_standard_deviation.py\n",
                "\n",
                "'Feed the seed with an integer: ', '0\\n',\n",
                "'How many elements do you want to generate? ', '1\\n',\n",
                "'\\n\n",
                "The list is: [-1]\\n\n",
                "\\n\n",
                "The mean is -1.00.\\n\n",
                "The median is -1.00.\\n\n",
                "The standard deviation is 0.00.\\n\n",
                "\\n\n",
                "Confirming with functions from the statistics module:\\n\n",
                "The mean is -1.00.\\n\n",
                "The median is -1.00.\\n\n",
                "The standard deviation is 0.00.\\n'"
            ]
        },
        {
            "attachments": {},
            "cell_type": "markdown",
            "metadata": {},
            "source": [
                "## A list with 2 integers"
            ]
        },
        {
            "cell_type": "code",
            "execution_count": 54,
            "metadata": {},
            "outputs": [
                {
                    "name": "stdout",
                    "output_type": "stream",
                    "text": "\u001b[1mPASSED\u001b[0m\n\n\u001b[30m Feed the seed with an integer: \u001b[0m\u001b[34m5\n\u001b[0m\u001b[30m How many elements do you want to generate? \u001b[0m\u001b[34m2\n\u001b[0m\u001b[30m \n\u001b[0m\u001b[30m The list is: [29, -18]\n\u001b[0m\u001b[30m \n\u001b[0m\u001b[30m The mean is 5.50.\n\u001b[0m\u001b[30m The median is 5.50.\n\u001b[0m\u001b[30m The standard deviation is 23.50.\n\u001b[0m\u001b[30m \n\u001b[0m\u001b[30m Confirming with functions from the statistics module:\n\u001b[0m\u001b[30m The mean is 5.50.\n\u001b[0m\u001b[30m The median is 5.50.\n\u001b[0m\u001b[30m The standard deviation is 23.50.\n\u001b[0m"
                }
            ],
            "source": [
                "%%run_and_test -i'5\\n2\\n' python3 mean_median_standard_deviation.py\n",
                "\n",
                "'Feed the seed with an integer: ', '5\\n',\n",
                "'How many elements do you want to generate? ', '2\\n',\n",
                "'\\n'\n",
                "'The list is: [29, -18]\\n'\n",
                "'\\n'\n",
                "'The mean is 5.50.\\n'\n",
                "'The median is 5.50.\\n'\n",
                "'The standard deviation is 23.50.\\n'\n",
                "'\\n'\n",
                "'Confirming with functions from the statistics module:\\n'\n",
                "'The mean is 5.50.\\n'\n",
                "'The median is 5.50.\\n'\n",
                "'The standard deviation is 23.50.\\n'"
            ]
        },
        {
            "attachments": {},
            "cell_type": "markdown",
            "metadata": {},
            "source": [
                "## A list with 3 integers"
            ]
        },
        {
            "cell_type": "code",
            "execution_count": 55,
            "metadata": {},
            "outputs": [
                {
                    "name": "stdout",
                    "output_type": "stream",
                    "text": "\u001b[1mPASSED\u001b[0m\n\n\u001b[30m Feed the seed with an integer: \u001b[0m\u001b[34m10\n\u001b[0m\u001b[30m How many elements do you want to generate? \u001b[0m\u001b[34m3\n\u001b[0m\u001b[30m \n\u001b[0m\u001b[30m The list is: [23, -46, 4]\n\u001b[0m\u001b[30m \n\u001b[0m\u001b[30m The mean is -6.33.\n\u001b[0m\u001b[30m The median is 4.00.\n\u001b[0m\u001b[30m The standard deviation is 29.10.\n\u001b[0m\u001b[30m \n\u001b[0m\u001b[30m Confirming with functions from the statistics module:\n\u001b[0m\u001b[30m The mean is -6.33.\n\u001b[0m\u001b[30m The median is 4.00.\n\u001b[0m\u001b[30m The standard deviation is 29.10.\n\u001b[0m"
                }
            ],
            "source": [
                "%%run_and_test -i'10\\n3\\n' python3 mean_median_standard_deviation.py\n",
                "\n",
                "'Feed the seed with an integer: ', '10\\n',\n",
                "'How many elements do you want to generate? ', '3\\n',\n",
                "'\\n'\n",
                "'The list is: [23, -46, 4]\\n'\n",
                "'\\n'\n",
                "'The mean is -6.33.\\n'\n",
                "'The median is 4.00.\\n'\n",
                "'The standard deviation is 29.10.\\n'\n",
                "'\\n'\n",
                "'Confirming with functions from the statistics module:\\n'\n",
                "'The mean is -6.33.\\n'\n",
                "'The median is 4.00.\\n'\n",
                "'The standard deviation is 29.10.\\n'"
            ]
        },
        {
            "attachments": {},
            "cell_type": "markdown",
            "metadata": {},
            "source": [
                "## A list with 4 integers"
            ]
        },
        {
            "cell_type": "code",
            "execution_count": 56,
            "metadata": {},
            "outputs": [
                {
                    "name": "stdout",
                    "output_type": "stream",
                    "text": "\u001b[1mPASSED\u001b[0m\n\n\u001b[30m Feed the seed with an integer: \u001b[0m\u001b[34m15\n\u001b[0m\u001b[30m How many elements do you want to generate? \u001b[0m\u001b[34m4\n\u001b[0m\u001b[30m \n\u001b[0m\u001b[30m The list is: [-24, -49, 16, 44]\n\u001b[0m\u001b[30m \n\u001b[0m\u001b[30m The mean is -3.25.\n\u001b[0m\u001b[30m The median is -4.00.\n\u001b[0m\u001b[30m The standard deviation is 35.80.\n\u001b[0m\u001b[30m \n\u001b[0m\u001b[30m Confirming with functions from the statistics module:\n\u001b[0m\u001b[30m The mean is -3.25.\n\u001b[0m\u001b[30m The median is -4.00.\n\u001b[0m\u001b[30m The standard deviation is 35.80.\n\u001b[0m"
                }
            ],
            "source": [
                "%%run_and_test -i'15\\n4\\n' python3 mean_median_standard_deviation.py\n",
                "\n",
                "'Feed the seed with an integer: ', '15\\n',\n",
                "'How many elements do you want to generate? ', '4\\n',\n",
                "'\\n'\n",
                "'The list is: [-24, -49, 16, 44]\\n'\n",
                "'\\n'\n",
                "'The mean is -3.25.\\n'\n",
                "'The median is -4.00.\\n'\n",
                "'The standard deviation is 35.80.\\n'\n",
                "'\\n'\n",
                "'Confirming with functions from the statistics module:\\n'\n",
                "'The mean is -3.25.\\n'\n",
                "'The median is -4.00.\\n'\n",
                "'The standard deviation is 35.80.\\n'"
            ]
        },
        {
            "attachments": {},
            "cell_type": "markdown",
            "metadata": {},
            "source": [
                "## A list with 5 integers"
            ]
        },
        {
            "cell_type": "code",
            "execution_count": 57,
            "metadata": {},
            "outputs": [
                {
                    "name": "stdout",
                    "output_type": "stream",
                    "text": "\u001b[1mFAILED\u001b[0m\n\n\u001b[30m Feed the seed with an integer: \u001b[0m\u001b[34m20\n\u001b[0m\u001b[30m How many elements do you want to generate? \u001b[0m\u001b[34m5\n\u001b[0m\u001b[30m \n\u001b[0m\u001b[32m- The list is: [42, 37, 48, -31, -17]\n\u001b[0m\u001b[33m?                              -----\n\u001b[0m\u001b[31m+ The list is: [42, 37, 50, 48, -31]\n\u001b[0m\u001b[33m?                       ++++\n\u001b[0m\u001b[30m \n\u001b[0m\u001b[32m- The mean is 15.80.\n\u001b[0m\u001b[33m?             ^^ ^\n\u001b[0m\u001b[31m+ The mean is 29.20.\n\u001b[0m\u001b[33m?             ^^ ^\n\u001b[0m\u001b[32m- The median is 37.00.\n\u001b[0m\u001b[33m?               ^^\n\u001b[0m\u001b[31m+ The median is 42.00.\n\u001b[0m\u001b[33m?               ^^\n\u001b[0m\u001b[32m- The standard deviation is 32.98.\n\u001b[0m\u001b[33m?                            ^ ^^\n\u001b[0m\u001b[31m+ The standard deviation is 30.45.\n\u001b[0m\u001b[33m?                            ^ ^^\n\u001b[0m\u001b[30m \n\u001b[0m\u001b[30m Confirming with functions from the statistics module:\n\u001b[0m\u001b[32m- The mean is 15.80.\n\u001b[0m\u001b[33m?             ^^ ^\n\u001b[0m\u001b[31m+ The mean is 29.20.\n\u001b[0m\u001b[33m?             ^^ ^\n\u001b[0m\u001b[32m- The median is 37.00.\n\u001b[0m\u001b[33m?               ^^\n\u001b[0m\u001b[31m+ The median is 42.00.\n\u001b[0m\u001b[33m?               ^^\n\u001b[0m\u001b[32m- The standard deviation is 32.98.\n\u001b[0m\u001b[33m?                            ^ ^^\n\u001b[0m\u001b[31m+ The standard deviation is 30.45.\n\u001b[0m\u001b[33m?                            ^ ^^\n\u001b[0m"
                }
            ],
            "source": [
                "%%run_and_test -i'20\\n5\\n' python3 mean_median_standard_deviation.py\n",
                "\n",
                "'Feed the seed with an integer: ', '20\\n',\n",
                "'How many elements do you want to generate? ', '5\\n',\n",
                "'\\n'\n",
                "'The list is: [42, 37, 50, 48, -31]\\n'\n",
                "'\\n'\n",
                "'The mean is 29.20.\\n'\n",
                "'The median is 42.00.\\n'\n",
                "'The standard deviation is 30.45.\\n'\n",
                "'\\n'\n",
                "'Confirming with functions from the statistics module:\\n'\n",
                "'The mean is 29.20.\\n'\n",
                "'The median is 42.00.\\n'\n",
                "'The standard deviation is 30.45.\\n'"
            ]
        },
        {
            "attachments": {},
            "cell_type": "markdown",
            "metadata": {},
            "source": [
                "## A list with 8 integers"
            ]
        },
        {
            "cell_type": "code",
            "execution_count": 58,
            "metadata": {},
            "outputs": [
                {
                    "name": "stdout",
                    "output_type": "stream",
                    "text": "\u001b[1mPASSED\u001b[0m\n\n\u001b[30m Feed the seed with an integer: \u001b[0m\u001b[34m25\n\u001b[0m\u001b[30m How many elements do you want to generate? \u001b[0m\u001b[34m8\n\u001b[0m\u001b[30m \n\u001b[0m\u001b[30m The list is: [-2, 48, -49, -23, -11, 31, 10, -45]\n\u001b[0m\u001b[30m \n\u001b[0m\u001b[30m The mean is -5.12.\n\u001b[0m\u001b[30m The median is -6.50.\n\u001b[0m\u001b[30m The standard deviation is 32.08.\n\u001b[0m\u001b[30m \n\u001b[0m\u001b[30m Confirming with functions from the statistics module:\n\u001b[0m\u001b[30m The mean is -5.12.\n\u001b[0m\u001b[30m The median is -6.50.\n\u001b[0m\u001b[30m The standard deviation is 32.08.\n\u001b[0m"
                }
            ],
            "source": [
                "%%run_and_test -i'25\\n8\\n' python3 mean_median_standard_deviation.py\n",
                "\n",
                "'Feed the seed with an integer: ', '25\\n',\n",
                "'How many elements do you want to generate? ', '8\\n',\n",
                "'\\n'\n",
                "'The list is: [-2, 48, -49, -23, -11, 31, 10, -45]\\n'\n",
                "'\\n'\n",
                "'The mean is -5.12.\\n'\n",
                "'The median is -6.50.\\n'\n",
                "'The standard deviation is 32.08.\\n'\n",
                "'\\n'\n",
                "'Confirming with functions from the statistics module:\\n'\n",
                "'The mean is -5.12.\\n'\n",
                "'The median is -6.50.\\nThe standard deviation is 32.08.\\n'"
            ]
        },
        {
            "attachments": {},
            "cell_type": "markdown",
            "metadata": {},
            "source": [
                "## A list with 13 integers"
            ]
        },
        {
            "cell_type": "code",
            "execution_count": 59,
            "metadata": {},
            "outputs": [
                {
                    "name": "stdout",
                    "output_type": "stream",
                    "text": "\u001b[1mPASSED\u001b[0m\n\n\u001b[30m Feed the seed with an integer: \u001b[0m\u001b[34m30\n\u001b[0m\u001b[30m How many elements do you want to generate? \u001b[0m\u001b[34m13\n\u001b[0m\u001b[30m \n\u001b[0m\u001b[30m The list is: [19, -13, 28, -47, 29, 33, -24, -18, -44, 0, -2, 32, -33]\n\u001b[0m\u001b[30m \n\u001b[0m\u001b[30m The mean is -3.08.\n\u001b[0m\u001b[30m The median is -2.00.\n\u001b[0m\u001b[30m The standard deviation is 28.12.\n\u001b[0m\u001b[30m \n\u001b[0m\u001b[30m Confirming with functions from the statistics module:\n\u001b[0m\u001b[30m The mean is -3.08.\n\u001b[0m\u001b[30m The median is -2.00.\n\u001b[0m\u001b[30m The standard deviation is 28.12.\n\u001b[0m"
                }
            ],
            "source": [
                "%%run_and_test -i'30\\n13\\n' python3 mean_median_standard_deviation.py\n",
                "\n",
                "'Feed the seed with an integer: ', '30\\n',\n",
                "'How many elements do you want to generate? ', '13\\n',\n",
                "'\\n'\n",
                "'The list is: [19, -13, 28, -47, 29, 33, -24, -18, -44, 0, -2, 32, -33]\\n'\n",
                "'\\n'\n",
                "'The mean is -3.08.\\n'\n",
                "'The median is -2.00.\\n'\n",
                "'The standard deviation is 28.12.\\n'\n",
                "'\\n'\n",
                "'Confirming with functions from the statistics module:\\n'\n",
                "'The mean is -3.08.\\n'\n",
                "'The median is -2.00.\\n'\n",
                "'The standard deviation is 28.12.\\n'"
            ]
        }
    ]
}
