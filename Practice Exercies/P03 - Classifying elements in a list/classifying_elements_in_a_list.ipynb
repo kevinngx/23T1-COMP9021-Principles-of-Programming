{
    "metadata": {
        "kernelspec": {
            "name": "python3",
            "display_name": "Python 3 (ipykernel)",
            "language": "python"
        }
    },
    "nbformat": 4,
    "nbformat_minor": 4,
    "cells": [
        {
            "cell_type": "code",
            "execution_count": 1,
            "metadata": {},
            "outputs": [],
            "source": [
                "load_ext run_and_test"
            ]
        },
        {
            "attachments": {},
            "cell_type": "markdown",
            "metadata": {},
            "source": [
                "# Counting the number of elements in a list equal to 0, 1, 2 or 3 modulo 4"
            ]
        },
        {
            "attachments": {},
            "cell_type": "markdown",
            "metadata": {},
            "source": [
                "Study and run the following program."
            ]
        },
        {
            "cell_type": "code",
            "execution_count": 2,
            "metadata": {},
            "outputs": [
                {
                    "name": "stdout",
                    "output_type": "stream",
                    "text": "\nThe list is: [73, 4, 54, 61, 73, 1, 26, 59, 62, 35]\n\nThere is 1 element equal to 0 modulo 4.\nThere are 4 elements equal to 1 modulo 4.\nThere are 3 elements equal to 2 modulo 4.\nThere are 2 elements equal to 3 modulo 4.\n"
                }
            ],
            "source": [
                "# %load modulo_4.py\n",
                "# Written by Eric Martin for COMP9021\n",
                "\n",
                "\n",
                "from random import seed, randrange\n",
                "import sys\n",
                "\n",
                "\n",
                "# Prompts the user for an integer to provide as argument to the\n",
                "# seed() function.\n",
                "try:\n",
                "    arg_for_seed = int(input('Feed the seed with an integer: '))\n",
                "except ValueError:\n",
                "    print('Input is not an integer, giving up.')\n",
                "    sys.exit()   \n",
                "# Prompts the user a strictly positive number, nb_of_elements.\n",
                "try:\n",
                "    nb_of_elements = int(input('How many elements do you want to generate? '))\n",
                "except ValueError:\n",
                "    print('Input is not an integer, giving up.')\n",
                "    sys.exit()\n",
                "if nb_of_elements \u003c= 0:\n",
                "    print('Input should be strictly positive, giving up.')\n",
                "    sys.exit()\n",
                "seed(arg_for_seed)\n",
                "# Generates a list of nb_of_elements random integers between 0 and 99.\n",
                "L = [randrange(100) for _ in range(nb_of_elements)]\n",
                "# Prints out the list.\n",
                "print('\\nThe list is:' , L)\n",
                "print()\n",
                "# Computes the number of elements equal to 0, 1, 2 3 modulo 4.\n",
                "# - remainders_modulo_4[0] to record the number of elements\n",
                "#   equal to 0 modulo 4,\n",
                "# - remainders_modulo_4[1] to record the number of elements\n",
                "#   equal to 1 modulo 4,\n",
                "# - remainders_modulo_4[2] to record the number of elements\n",
                "#   equal to 2 modulo 4,\n",
                "# - remainders_modulo_4[3] to record the number of elements\n",
                "#   equal to 3 modulo 4.\n",
                "remainders_modulo_4 = [0] * 4\n",
                "for e in L:\n",
                "    remainders_modulo_4[e % 4] += 1\n",
                "# Prints those numbers out.\n",
                "for i in range(4):\n",
                "    if remainders_modulo_4[i] == 0:\n",
                "        print('There is no element', end=' ')\n",
                "    elif remainders_modulo_4[i] == 1:\n",
                "        print('There is 1 element', end=' ')\n",
                "    else:\n",
                "        print(f'There are', remainders_modulo_4[i], 'elements', end=' ')\n",
                "    print('equal to', i, 'modulo 4.')\n",
                ""
            ]
        },
        {
            "attachments": {},
            "cell_type": "markdown",
            "metadata": {},
            "source": [
                "# Task"
            ]
        },
        {
            "attachments": {},
            "cell_type": "markdown",
            "metadata": {},
            "source": [
                "Write a program `intervals.py` that runs as follows.\n",
                "\n",
                "* It prompts the user for:\n",
                "    * an integer, given as argument to the `seed()` function from the `random` module;\n",
                "    * a strictly positive integer, *nb_of_elements*.\n",
                "* It generates, using *nb_of_elements* many calls to the `randrange()` function from the `random` module, *nb_of_elements* random integers between 0 and 19 included.\n",
                "* It displays the generated list.\n",
                "* It computes the number of elements strictly less than 5, 10, 15 and 20, and prints those out."
            ]
        },
        {
            "attachments": {},
            "cell_type": "markdown",
            "metadata": {},
            "source": [
                "# Tests"
            ]
        },
        {
            "attachments": {},
            "cell_type": "markdown",
            "metadata": {},
            "source": [
                "## A list with 1 integer"
            ]
        },
        {
            "cell_type": "code",
            "execution_count": 3,
            "metadata": {},
            "outputs": [
                {
                    "name": "stdout",
                    "output_type": "stream",
                    "text": "\u001b[1mPASSED\u001b[0m\n\n\u001b[30m Feed the seed with an integer: \u001b[0m\u001b[34m2\n\u001b[0m\u001b[30m How many elements do you want to generate? \u001b[0m\u001b[34m1\n\u001b[0m\u001b[30m \n\u001b[0m\u001b[30m The list is: [1]\n\u001b[0m\u001b[30m \n\u001b[0m\u001b[30m There is 1 element between 0 and 4.\n\u001b[0m\u001b[30m There is no element between 5 and 9.\n\u001b[0m\u001b[30m There is no element between 10 and 14.\n\u001b[0m\u001b[30m There is no element between 15 and 19.\n\u001b[0m"
                }
            ],
            "source": [
                "%%run_and_test -i'2\\n1\\n' python3 intervals.py\n",
                "\n",
                "'Feed the seed with an integer: ', '2\\n',\n",
                "'How many elements do you want to generate? ', '1\\n',\n",
                "'\\n\n",
                "The list is: [1]\\n\n",
                "\\n\n",
                "There is 1 element between 0 and 4.\\n\n",
                "There is no element between 5 and 9.\\n\n",
                "There is no element between 10 and 14.\\n\n",
                "There is no element between 15 and 19.\\n'"
            ]
        },
        {
            "attachments": {},
            "cell_type": "markdown",
            "metadata": {},
            "source": [
                "## A list with 2 integers"
            ]
        },
        {
            "cell_type": "code",
            "execution_count": 4,
            "metadata": {},
            "outputs": [
                {
                    "name": "stdout",
                    "output_type": "stream",
                    "text": "\u001b[1mPASSED\u001b[0m\n\n\u001b[30m Feed the seed with an integer: \u001b[0m\u001b[34m7\n\u001b[0m\u001b[30m How many elements do you want to generate? \u001b[0m\u001b[34m2\n\u001b[0m\u001b[30m \n\u001b[0m\u001b[30m The list is: [10, 4]\n\u001b[0m\u001b[30m \n\u001b[0m\u001b[30m There is 1 element between 0 and 4.\n\u001b[0m\u001b[30m There is no element between 5 and 9.\n\u001b[0m\u001b[30m There is 1 element between 10 and 14.\n\u001b[0m\u001b[30m There is no element between 15 and 19.\n\u001b[0m"
                }
            ],
            "source": [
                "%%run_and_test -i'7\\n2\\n' python3 intervals.py\n",
                "\n",
                "'Feed the seed with an integer: ', '7\\n',\n",
                "'How many elements do you want to generate? ', '2\\n',\n",
                "'\\n\n",
                "The list is: [10, 4]\\n\n",
                "\\n\n",
                "There is 1 element between 0 and 4.\\n\n",
                "There is no element between 5 and 9.\\n\n",
                "There is 1 element between 10 and 14.\\n\n",
                "There is no element between 15 and 19.\\n'"
            ]
        },
        {
            "attachments": {},
            "cell_type": "markdown",
            "metadata": {},
            "source": [
                "## A list with 3 integers"
            ]
        },
        {
            "cell_type": "code",
            "execution_count": 5,
            "metadata": {},
            "outputs": [
                {
                    "name": "stdout",
                    "output_type": "stream",
                    "text": "\u001b[1mPASSED\u001b[0m\n\n\u001b[30m Feed the seed with an integer: \u001b[0m\u001b[34m12\n\u001b[0m\u001b[30m How many elements do you want to generate? \u001b[0m\u001b[34m3\n\u001b[0m\u001b[30m \n\u001b[0m\u001b[30m The list is: [15, 8, 16]\n\u001b[0m\u001b[30m \n\u001b[0m\u001b[30m There is no element between 0 and 4.\n\u001b[0m\u001b[30m There is 1 element between 5 and 9.\n\u001b[0m\u001b[30m There is no element between 10 and 14.\n\u001b[0m\u001b[30m There are 2 elements between 15 and 19.\n\u001b[0m"
                }
            ],
            "source": [
                "%%run_and_test -i'12\\n3\\n' python3 intervals.py\n",
                "\n",
                "'Feed the seed with an integer: ', '12\\n',\n",
                "'How many elements do you want to generate? ', '3\\n',\n",
                "'\\n'\n",
                "'The list is: [15, 8, 16]\\n'\n",
                "'\\n'\n",
                "'There is no element between 0 and 4.\\n'\n",
                "'There is 1 element between 5 and 9.\\n'\n",
                "'There is no element between 10 and 14.\\n'\n",
                "'There are 2 elements between 15 and 19.\\n'"
            ]
        },
        {
            "attachments": {},
            "cell_type": "markdown",
            "metadata": {},
            "source": [
                "## A list with 4 integers"
            ]
        },
        {
            "cell_type": "code",
            "execution_count": 6,
            "metadata": {},
            "outputs": [
                {
                    "name": "stdout",
                    "output_type": "stream",
                    "text": "\u001b[1mPASSED\u001b[0m\n\n\u001b[30m Feed the seed with an integer: \u001b[0m\u001b[34m17\n\u001b[0m\u001b[30m How many elements do you want to generate? \u001b[0m\u001b[34m4\n\u001b[0m\u001b[30m \n\u001b[0m\u001b[30m The list is: [16, 13, 9, 11]\n\u001b[0m\u001b[30m \n\u001b[0m\u001b[30m There is no element between 0 and 4.\n\u001b[0m\u001b[30m There is 1 element between 5 and 9.\n\u001b[0m\u001b[30m There are 2 elements between 10 and 14.\n\u001b[0m\u001b[30m There is 1 element between 15 and 19.\n\u001b[0m"
                }
            ],
            "source": [
                "%%run_and_test -i'17\\n4\\n' python3 intervals.py\n",
                "\n",
                "'Feed the seed with an integer: ', '17\\n',\n",
                "'How many elements do you want to generate? ', '4\\n',\n",
                "'\\n'\n",
                "'The list is: [16, 13, 9, 11]\\n'\n",
                "'\\n'\n",
                "'There is no element between 0 and 4.\\n'\n",
                "'There is 1 element between 5 and 9.\\n'\n",
                "'There are 2 elements between 10 and 14.\\n'\n",
                "'There is 1 element between 15 and 19.\\n'"
            ]
        },
        {
            "attachments": {},
            "cell_type": "markdown",
            "metadata": {},
            "source": [
                "## A list with 5 integers"
            ]
        },
        {
            "cell_type": "code",
            "execution_count": 7,
            "metadata": {},
            "outputs": [
                {
                    "name": "stdout",
                    "output_type": "stream",
                    "text": "\u001b[1mFAILED\u001b[0m\n\n\u001b[30m Feed the seed with an integer: \u001b[0m\u001b[34m22\n\u001b[0m\u001b[30m How many elements do you want to generate? \u001b[0m\u001b[34m5\n\u001b[0m\u001b[30m \n\u001b[0m\u001b[32m- The list is: [4, 7, 0, 14, 5]\n\u001b[0m\u001b[33m?                         ^  ^\n\u001b[0m\u001b[31m+ The list is: [4, 7, 0, 19, 14]\n\u001b[0m\u001b[33m?                         ^  ^^\n\u001b[0m\u001b[30m \n\u001b[0m\u001b[30m There are 2 elements between 0 and 4.\n\u001b[0m\u001b[32m- There are 2 elements between 5 and 9.\n\u001b[0m\u001b[33m?       ^^^ ^        -\n\u001b[0m\u001b[31m+ There is 1 element between 5 and 9.\n\u001b[0m\u001b[33m?       ^^ ^\n\u001b[0m\u001b[30m There is 1 element between 10 and 14.\n\u001b[0m\u001b[32m- There is no element between 15 and 19.\n\u001b[0m\u001b[33m?          ^^\n\u001b[0m\u001b[31m+ There is 1 element between 15 and 19.\n\u001b[0m\u001b[33m?          ^\n\u001b[0m"
                }
            ],
            "source": [
                "%%run_and_test -i'22\\n5\\n' python3 intervals.py\n",
                "\n",
                "'Feed the seed with an integer: ', '22\\n',\n",
                "'How many elements do you want to generate? ', '5\\n',\n",
                "'\\n'\n",
                "'The list is: [4, 7, 0, 19, 14]\\n'\n",
                "'\\n'\n",
                "'There are 2 elements between 0 and 4.\\n'\n",
                "'There is 1 element between 5 and 9.\\n'\n",
                "'There is 1 element between 10 and 14.\\n'\n",
                "'There is 1 element between 15 and 19.\\n'"
            ]
        },
        {
            "attachments": {},
            "cell_type": "markdown",
            "metadata": {},
            "source": [
                "## A list with 8 integers"
            ]
        },
        {
            "cell_type": "code",
            "execution_count": 8,
            "metadata": {},
            "outputs": [
                {
                    "name": "stdout",
                    "output_type": "stream",
                    "text": "\u001b[1mPASSED\u001b[0m\n\n\u001b[30m Feed the seed with an integer: \u001b[0m\u001b[34m27\n\u001b[0m\u001b[30m How many elements do you want to generate? \u001b[0m\u001b[34m8\n\u001b[0m\u001b[30m \n\u001b[0m\u001b[30m The list is: [15, 8, 9, 6, 2, 2, 8, 17]\n\u001b[0m\u001b[30m \n\u001b[0m\u001b[30m There are 2 elements between 0 and 4.\n\u001b[0m\u001b[30m There are 4 elements between 5 and 9.\n\u001b[0m\u001b[30m There is no element between 10 and 14.\n\u001b[0m\u001b[30m There are 2 elements between 15 and 19.\n\u001b[0m"
                }
            ],
            "source": [
                "%%run_and_test -i'27\\n8\\n' python3 intervals.py\n",
                "\n",
                "'Feed the seed with an integer: ', '27\\n',\n",
                "'How many elements do you want to generate? ', '8\\n',\n",
                "'\\n'\n",
                "'The list is: [15, 8, 9, 6, 2, 2, 8, 17]\\n'\n",
                "'\\n'\n",
                "'There are 2 elements between 0 and 4.\\n'\n",
                "'There are 4 elements between 5 and 9.\\n'\n",
                "'There is no element between 10 and 14.\\n'\n",
                "'There are 2 elements between 15 and 19.\\n'"
            ]
        },
        {
            "attachments": {},
            "cell_type": "markdown",
            "metadata": {},
            "source": [
                "## A list with 13 integers"
            ]
        },
        {
            "cell_type": "code",
            "execution_count": 9,
            "metadata": {},
            "outputs": [
                {
                    "name": "stdout",
                    "output_type": "stream",
                    "text": "\u001b[1mPASSED\u001b[0m\n\n\u001b[30m Feed the seed with an integer: \u001b[0m\u001b[34m32\n\u001b[0m\u001b[30m How many elements do you want to generate? \u001b[0m\u001b[34m13\n\u001b[0m\u001b[30m \n\u001b[0m\u001b[30m The list is: [2, 6, 4, 9, 7, 15, 0, 1, 3, 10, 16, 10, 1]\n\u001b[0m\u001b[30m \n\u001b[0m\u001b[30m There are 6 elements between 0 and 4.\n\u001b[0m\u001b[30m There are 3 elements between 5 and 9.\n\u001b[0m\u001b[30m There are 2 elements between 10 and 14.\n\u001b[0m\u001b[30m There are 2 elements between 15 and 19.\n\u001b[0m"
                }
            ],
            "source": [
                "%%run_and_test -i'32\\n13\\n' python3 intervals.py\n",
                "\n",
                "'Feed the seed with an integer: ', '32\\n',\n",
                "'How many elements do you want to generate? ', '13\\n',\n",
                "'\\n'\n",
                "'The list is: [2, 6, 4, 9, 7, 15, 0, 1, 3, 10, 16, 10, 1]\\n'\n",
                "'\\n'\n",
                "'There are 6 elements between 0 and 4.\\n'\n",
                "'There are 3 elements between 5 and 9.\\n'\n",
                "'There are 2 elements between 10 and 14.\\n'\n",
                "'There are 2 elements between 15 and 19.\\n'"
            ]
        },
        {
            "cell_type": "code",
            "execution_count": 10,
            "metadata": {},
            "outputs": [],
            "source": [
                "L = [0] * 3 + [1] * 7 + [0] * 3"
            ]
        },
        {
            "cell_type": "code",
            "execution_count": 11,
            "metadata": {},
            "outputs": [
                {
                    "data": {
                        "text/plain": "[0, 0, 0, 1, 1, 1, 1, 1, 1, 1, 0, 0, 0]"
                    },
                    "execution_count": 11,
                    "metadata": {},
                    "output_type": "execute_result"
                }
            ],
            "source": [
                "L"
            ]
        },
        {
            "cell_type": "code",
            "execution_count": 12,
            "metadata": {},
            "outputs": [
                {
                    "data": {
                        "text/plain": "[12, 12, 12, 12, 12, 12, 12, 12, 12, 12, 12, 12, 12]"
                    },
                    "execution_count": 12,
                    "metadata": {},
                    "output_type": "execute_result"
                }
            ],
            "source": [
                "[2 * 1 + 10 for i in L]"
            ]
        },
        {
            "cell_type": "code",
            "execution_count": 13,
            "metadata": {},
            "outputs": [],
            "source": [
                ""
            ]
        },
        {
            "cell_type": "code",
            "execution_count": 14,
            "metadata": {},
            "outputs": [
                {
                    "name": "stdout",
                    "output_type": "stream",
                    "text": "yes\n"
                }
            ],
            "source": [
                "if 0 \u003c= 3 \u0026 3 \u003c= 4: \n",
                "        print('yes')"
            ]
        },
        {
            "cell_type": "code",
            "execution_count": 15,
            "metadata": {},
            "outputs": [],
            "source": [
                ""
            ]
        },
        {
            "cell_type": "code",
            "execution_count": 16,
            "metadata": {},
            "outputs": [],
            "source": [
                ""
            ]
        }
    ]
}
