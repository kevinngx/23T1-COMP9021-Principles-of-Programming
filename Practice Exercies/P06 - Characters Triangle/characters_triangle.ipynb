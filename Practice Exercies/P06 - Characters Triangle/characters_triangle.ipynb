{
    "metadata": {
        "kernelspec": {
            "name": "python3",
            "display_name": "Python 3 (ipykernel)",
            "language": "python"
        }
    },
    "nbformat": 4,
    "nbformat_minor": 4,
    "cells": [
        {
            "cell_type": "code",
            "execution_count": 1,
            "metadata": {},
            "outputs": [],
            "source": [
                "load_ext run_and_test"
            ]
        },
        {
            "attachments": {},
            "cell_type": "markdown",
            "metadata": {},
            "source": [
                "# Task"
            ]
        },
        {
            "attachments": {},
            "cell_type": "markdown",
            "metadata": {},
            "source": [
                "Write a program `characters_triangle.py` that prompts the user for a strictly positive integer $n$ and outputs a\n",
                "triangle of height $n$ as shown in the tests."
            ]
        },
        {
            "attachments": {},
            "cell_type": "markdown",
            "metadata": {},
            "source": [
                "# Tests"
            ]
        },
        {
            "attachments": {},
            "cell_type": "markdown",
            "metadata": {},
            "source": [
                "## Height 1"
            ]
        },
        {
            "cell_type": "code",
            "execution_count": 2,
            "metadata": {},
            "outputs": [
                {
                    "name": "stdout",
                    "output_type": "stream",
                    "text": "\u001b[1mFAILED\u001b[0m\n\n\u001b[30m Enter a strictly positive integer: \u001b[0m\u001b[34m1\n\u001b[0m\u001b[32m-  \n\u001b[0m\u001b[30m A\n\u001b[0m"
                }
            ],
            "source": [
                "%%run_and_test -i'1\\n' python3 characters_triangle.py\n",
                "\n",
                "'Enter a strictly positive integer: ', '1\\n',\n",
                "'A\\n'"
            ]
        },
        {
            "attachments": {},
            "cell_type": "markdown",
            "metadata": {},
            "source": [
                "## Height 2"
            ]
        },
        {
            "cell_type": "code",
            "execution_count": 3,
            "metadata": {},
            "outputs": [
                {
                    "name": "stdout",
                    "output_type": "stream",
                    "text": "\u001b[1mFAILED\u001b[0m\n\n\u001b[30m Enter a strictly positive integer: \u001b[0m\u001b[34m2\n\u001b[0m\u001b[32m-   \n\u001b[0m\u001b[30m  A\n\u001b[0m\u001b[30m BCB\n\u001b[0m"
                }
            ],
            "source": [
                "%%run_and_test -i'2\\n' python3 characters_triangle.py\n",
                "\n",
                "'Enter a strictly positive integer: ', '2\\n',\n",
                "'''\n",
                " A\\n\n",
                "BCB\\n\n",
                "'''"
            ]
        },
        {
            "attachments": {},
            "cell_type": "markdown",
            "metadata": {},
            "source": [
                "## Height 3"
            ]
        },
        {
            "cell_type": "code",
            "execution_count": 4,
            "metadata": {},
            "outputs": [
                {
                    "name": "stdout",
                    "output_type": "stream",
                    "text": "\u001b[1mFAILED\u001b[0m\n\n\u001b[30m Enter a strictly positive integer: \u001b[0m\u001b[34m3\n\u001b[0m\u001b[32m-    \n\u001b[0m\u001b[30m   A\n\u001b[0m\u001b[30m  BCB\n\u001b[0m\u001b[30m DEFED\n\u001b[0m"
                }
            ],
            "source": [
                "%%run_and_test -i'3\\n' python3 characters_triangle.py\n",
                "\n",
                "'Enter a strictly positive integer: ', '3\\n',\n",
                "'''\n",
                "  A\\n\n",
                " BCB\\n\n",
                "DEFED\\n\n",
                "'''"
            ]
        },
        {
            "attachments": {},
            "cell_type": "markdown",
            "metadata": {},
            "source": [
                "## Height 4"
            ]
        },
        {
            "cell_type": "code",
            "execution_count": 5,
            "metadata": {},
            "outputs": [
                {
                    "name": "stdout",
                    "output_type": "stream",
                    "text": "\u001b[1mFAILED\u001b[0m\n\n\u001b[30m Enter a strictly positive integer: \u001b[0m\u001b[34m4\n\u001b[0m\u001b[32m-     \n\u001b[0m\u001b[30m    A\n\u001b[0m\u001b[30m   BCB\n\u001b[0m\u001b[30m  DEFED\n\u001b[0m\u001b[30m GHIJIHG\n\u001b[0m"
                }
            ],
            "source": [
                "%%run_and_test -i'4\\n' python3 characters_triangle.py\n",
                "\n",
                "'Enter a strictly positive integer: ', '4\\n',\n",
                "'''\n",
                "   A\\n\n",
                "  BCB\\n\n",
                " DEFED\\n\n",
                "GHIJIHG\\n\n",
                "'''"
            ]
        },
        {
            "attachments": {},
            "cell_type": "markdown",
            "metadata": {},
            "source": [
                "## Height 5"
            ]
        },
        {
            "cell_type": "code",
            "execution_count": 6,
            "metadata": {},
            "outputs": [
                {
                    "name": "stdout",
                    "output_type": "stream",
                    "text": "\u001b[1mFAILED\u001b[0m\n\n\u001b[30m Enter a strictly positive integer: \u001b[0m\u001b[34m5\n\u001b[0m\u001b[32m-      \n\u001b[0m\u001b[30m     A\n\u001b[0m\u001b[30m    BCB\n\u001b[0m\u001b[30m   DEFED\n\u001b[0m\u001b[30m  GHIJIHG\n\u001b[0m\u001b[30m KLMNONMLK\n\u001b[0m"
                }
            ],
            "source": [
                "%%run_and_test -i'5\\n' python3 characters_triangle.py\n",
                "\n",
                "'Enter a strictly positive integer: ', '5\\n',\n",
                "'''\n",
                "    A\\n\n",
                "   BCB\\n\n",
                "  DEFED\\n\n",
                " GHIJIHG\\n\n",
                "KLMNONMLK\\n\n",
                "'''"
            ]
        },
        {
            "attachments": {},
            "cell_type": "markdown",
            "metadata": {},
            "source": [
                "## Height 6"
            ]
        },
        {
            "cell_type": "code",
            "execution_count": 7,
            "metadata": {},
            "outputs": [
                {
                    "name": "stdout",
                    "output_type": "stream",
                    "text": "\u001b[1mFAILED\u001b[0m\n\n\u001b[30m Enter a strictly positive integer: \u001b[0m\u001b[34m6\n\u001b[0m\u001b[32m-       \n\u001b[0m\u001b[30m      A\n\u001b[0m\u001b[30m     BCB\n\u001b[0m\u001b[30m    DEFED\n\u001b[0m\u001b[30m   GHIJIHG\n\u001b[0m\u001b[30m  KLMNONMLK\n\u001b[0m\u001b[30m PQRSTUTSRQP\n\u001b[0m"
                }
            ],
            "source": [
                "%%run_and_test -i'6\\n' python3 characters_triangle.py\n",
                "\n",
                "'Enter a strictly positive integer: ', '6\\n',\n",
                "'''\n",
                "     A\\n\n",
                "    BCB\\n\n",
                "   DEFED\\n\n",
                "  GHIJIHG\\n\n",
                " KLMNONMLK\\n\n",
                "PQRSTUTSRQP\\n\n",
                "'''"
            ]
        },
        {
            "attachments": {},
            "cell_type": "markdown",
            "metadata": {},
            "source": [
                "## Height 7"
            ]
        },
        {
            "cell_type": "code",
            "execution_count": 8,
            "metadata": {},
            "outputs": [
                {
                    "name": "stdout",
                    "output_type": "stream",
                    "text": "\u001b[1mFAILED\u001b[0m\n\n\u001b[30m Enter a strictly positive integer: \u001b[0m\u001b[34m7\n\u001b[0m\u001b[32m-        \n\u001b[0m\u001b[30m       A\n\u001b[0m\u001b[30m      BCB\n\u001b[0m\u001b[30m     DEFED\n\u001b[0m\u001b[30m    GHIJIHG\n\u001b[0m\u001b[30m   KLMNONMLK\n\u001b[0m\u001b[30m  PQRSTUTSRQP\n\u001b[0m\u001b[30m VWXYZABAZYXWV\n\u001b[0m"
                }
            ],
            "source": [
                "%%run_and_test -i'7\\n' python3 characters_triangle.py\n",
                "\n",
                "'Enter a strictly positive integer: ', '7\\n',\n",
                "'''\n",
                "      A\\n\n",
                "     BCB\\n\n",
                "    DEFED\\n\n",
                "   GHIJIHG\\n\n",
                "  KLMNONMLK\\n\n",
                " PQRSTUTSRQP\\n\n",
                "VWXYZABAZYXWV\\n\n",
                "'''"
            ]
        },
        {
            "attachments": {},
            "cell_type": "markdown",
            "metadata": {},
            "source": [
                "## Height 8"
            ]
        },
        {
            "cell_type": "code",
            "execution_count": 9,
            "metadata": {},
            "outputs": [
                {
                    "name": "stdout",
                    "output_type": "stream",
                    "text": "\u001b[1mFAILED\u001b[0m\n\n\u001b[30m Enter a strictly positive integer: \u001b[0m\u001b[34m8\n\u001b[0m\u001b[32m-         \n\u001b[0m\u001b[30m        A\n\u001b[0m\u001b[30m       BCB\n\u001b[0m\u001b[30m      DEFED\n\u001b[0m\u001b[30m     GHIJIHG\n\u001b[0m\u001b[30m    KLMNONMLK\n\u001b[0m\u001b[30m   PQRSTUTSRQP\n\u001b[0m\u001b[30m  VWXYZABAZYXWV\n\u001b[0m\u001b[30m CDEFGHIJIHGFEDC\n\u001b[0m"
                }
            ],
            "source": [
                "%%run_and_test -i'8\\n' python3 characters_triangle.py\n",
                "\n",
                "'Enter a strictly positive integer: ', '8\\n',\n",
                "'''\n",
                "       A\\n\n",
                "      BCB\\n\n",
                "     DEFED\\n\n",
                "    GHIJIHG\\n\n",
                "   KLMNONMLK\\n\n",
                "  PQRSTUTSRQP\\n\n",
                " VWXYZABAZYXWV\\n\n",
                "CDEFGHIJIHGFEDC\\n\n",
                "'''"
            ]
        },
        {
            "attachments": {},
            "cell_type": "markdown",
            "metadata": {},
            "source": [
                "## Height 9"
            ]
        },
        {
            "cell_type": "code",
            "execution_count": 10,
            "metadata": {},
            "outputs": [
                {
                    "name": "stdout",
                    "output_type": "stream",
                    "text": "\u001b[1mFAILED\u001b[0m\n\n\u001b[30m Enter a strictly positive integer: \u001b[0m\u001b[34m9\n\u001b[0m\u001b[32m-          \n\u001b[0m\u001b[30m         A\n\u001b[0m\u001b[30m        BCB\n\u001b[0m\u001b[30m       DEFED\n\u001b[0m\u001b[30m      GHIJIHG\n\u001b[0m\u001b[30m     KLMNONMLK\n\u001b[0m\u001b[30m    PQRSTUTSRQP\n\u001b[0m\u001b[30m   VWXYZABAZYXWV\n\u001b[0m\u001b[30m  CDEFGHIJIHGFEDC\n\u001b[0m\u001b[30m KLMNOPQRSRQPONMLK\n\u001b[0m"
                }
            ],
            "source": [
                "%%run_and_test -i'9\\n' python3 characters_triangle.py\n",
                "\n",
                "'Enter a strictly positive integer: ', '9\\n',\n",
                "'''\n",
                "        A\\n\n",
                "       BCB\\n\n",
                "      DEFED\\n\n",
                "     GHIJIHG\\n\n",
                "    KLMNONMLK\\n\n",
                "   PQRSTUTSRQP\\n\n",
                "  VWXYZABAZYXWV\\n\n",
                " CDEFGHIJIHGFEDC\\n\n",
                "KLMNOPQRSRQPONMLK\\n\n",
                "'''"
            ]
        },
        {
            "attachments": {},
            "cell_type": "markdown",
            "metadata": {},
            "source": [
                "## Height 10"
            ]
        },
        {
            "cell_type": "code",
            "execution_count": 11,
            "metadata": {},
            "outputs": [
                {
                    "name": "stdout",
                    "output_type": "stream",
                    "text": "\u001b[1mFAILED\u001b[0m\n\n\u001b[30m Enter a strictly positive integer: \u001b[0m\u001b[34m10\n\u001b[0m\u001b[32m-           \n\u001b[0m\u001b[30m          A\n\u001b[0m\u001b[30m         BCB\n\u001b[0m\u001b[30m        DEFED\n\u001b[0m\u001b[30m       GHIJIHG\n\u001b[0m\u001b[30m      KLMNONMLK\n\u001b[0m\u001b[30m     PQRSTUTSRQP\n\u001b[0m\u001b[30m    VWXYZABAZYXWV\n\u001b[0m\u001b[30m   CDEFGHIJIHGFEDC\n\u001b[0m\u001b[30m  KLMNOPQRSRQPONMLK\n\u001b[0m\u001b[30m TUVWXYZABCBAZYXWVUT\n\u001b[0m"
                }
            ],
            "source": [
                "%%run_and_test -i'10\\n' python3 characters_triangle.py\n",
                "\n",
                "'Enter a strictly positive integer: ', '10\\n',\n",
                "'''\n",
                "         A\\n\n",
                "        BCB\\n\n",
                "       DEFED\\n\n",
                "      GHIJIHG\\n\n",
                "     KLMNONMLK\\n\n",
                "    PQRSTUTSRQP\\n\n",
                "   VWXYZABAZYXWV\\n\n",
                "  CDEFGHIJIHGFEDC\\n\n",
                " KLMNOPQRSRQPONMLK\\n\n",
                "TUVWXYZABCBAZYXWVUT\\n\n",
                "'''"
            ]
        },
        {
            "attachments": {},
            "cell_type": "markdown",
            "metadata": {},
            "source": [
                "## Height 15"
            ]
        },
        {
            "cell_type": "code",
            "execution_count": 12,
            "metadata": {},
            "outputs": [
                {
                    "name": "stdout",
                    "output_type": "stream",
                    "text": "\u001b[1mFAILED\u001b[0m\n\n\u001b[30m Enter a strictly positive integer: \u001b[0m\u001b[34m15\n\u001b[0m\u001b[32m-                \n\u001b[0m\u001b[30m               A\n\u001b[0m\u001b[30m              BCB\n\u001b[0m\u001b[30m             DEFED\n\u001b[0m\u001b[30m            GHIJIHG\n\u001b[0m\u001b[30m           KLMNONMLK\n\u001b[0m\u001b[30m          PQRSTUTSRQP\n\u001b[0m\u001b[30m         VWXYZABAZYXWV\n\u001b[0m\u001b[30m        CDEFGHIJIHGFEDC\n\u001b[0m\u001b[30m       KLMNOPQRSRQPONMLK\n\u001b[0m\u001b[30m      TUVWXYZABCBAZYXWVUT\n\u001b[0m\u001b[30m     DEFGHIJKLMNMLKJIHGFED\n\u001b[0m\u001b[30m    OPQRSTUVWXYZYXWVUTSRQPO\n\u001b[0m\u001b[30m   ABCDEFGHIJKLMLKJIHGFEDCBA\n\u001b[0m\u001b[30m  NOPQRSTUVWXYZAZYXWVUTSRQPON\n\u001b[0m\u001b[30m BCDEFGHIJKLMNOPONMLKJIHGFEDCB\n\u001b[0m"
                }
            ],
            "source": [
                "%%run_and_test -i'15\\n' python3 characters_triangle.py\n",
                "\n",
                "'Enter a strictly positive integer: ', '15\\n',\n",
                "'''\n",
                "              A\\n\n",
                "             BCB\\n\n",
                "            DEFED\\n\n",
                "           GHIJIHG\\n\n",
                "          KLMNONMLK\\n\n",
                "         PQRSTUTSRQP\\n\n",
                "        VWXYZABAZYXWV\\n\n",
                "       CDEFGHIJIHGFEDC\\n\n",
                "      KLMNOPQRSRQPONMLK\\n\n",
                "     TUVWXYZABCBAZYXWVUT\\n\n",
                "    DEFGHIJKLMNMLKJIHGFED\\n\n",
                "   OPQRSTUVWXYZYXWVUTSRQPO\\n\n",
                "  ABCDEFGHIJKLMLKJIHGFEDCBA\\n\n",
                " NOPQRSTUVWXYZAZYXWVUTSRQPON\\n\n",
                "BCDEFGHIJKLMNOPONMLKJIHGFEDCB\\n\n",
                "'''"
            ]
        },
        {
            "attachments": {},
            "cell_type": "markdown",
            "metadata": {},
            "source": [
                "## Height 20"
            ]
        },
        {
            "cell_type": "code",
            "execution_count": 13,
            "metadata": {},
            "outputs": [
                {
                    "name": "stdout",
                    "output_type": "stream",
                    "text": "\u001b[1mFAILED\u001b[0m\n\n\u001b[30m Enter a strictly positive integer: \u001b[0m\u001b[34m20\n\u001b[0m\u001b[32m-                     \n\u001b[0m\u001b[30m                    A\n\u001b[0m\u001b[30m                   BCB\n\u001b[0m\u001b[30m                  DEFED\n\u001b[0m\u001b[30m                 GHIJIHG\n\u001b[0m\u001b[30m                KLMNONMLK\n\u001b[0m\u001b[30m               PQRSTUTSRQP\n\u001b[0m\u001b[30m              VWXYZABAZYXWV\n\u001b[0m\u001b[30m             CDEFGHIJIHGFEDC\n\u001b[0m\u001b[30m            KLMNOPQRSRQPONMLK\n\u001b[0m\u001b[30m           TUVWXYZABCBAZYXWVUT\n\u001b[0m\u001b[30m          DEFGHIJKLMNMLKJIHGFED\n\u001b[0m\u001b[30m         OPQRSTUVWXYZYXWVUTSRQPO\n\u001b[0m\u001b[30m        ABCDEFGHIJKLMLKJIHGFEDCBA\n\u001b[0m\u001b[30m       NOPQRSTUVWXYZAZYXWVUTSRQPON\n\u001b[0m\u001b[30m      BCDEFGHIJKLMNOPONMLKJIHGFEDCB\n\u001b[0m\u001b[30m     QRSTUVWXYZABCDEFEDCBAZYXWVUTSRQ\n\u001b[0m\u001b[30m    GHIJKLMNOPQRSTUVWVUTSRQPONMLKJIHG\n\u001b[0m\u001b[30m   XYZABCDEFGHIJKLMNONMLKJIHGFEDCBAZYX\n\u001b[0m\u001b[30m  PQRSTUVWXYZABCDEFGHGFEDCBAZYXWVUTSRQP\n\u001b[0m\u001b[30m IJKLMNOPQRSTUVWXYZABAZYXWVUTSRQPONMLKJI\n\u001b[0m"
                }
            ],
            "source": [
                "%%run_and_test -i'20\\n' python3 characters_triangle.py\n",
                "\n",
                "'Enter a strictly positive integer: ', '20\\n',\n",
                "'''\n",
                "                   A\\n\n",
                "                  BCB\\n\n",
                "                 DEFED\\n\n",
                "                GHIJIHG\\n\n",
                "               KLMNONMLK\\n\n",
                "              PQRSTUTSRQP\\n\n",
                "             VWXYZABAZYXWV\\n\n",
                "            CDEFGHIJIHGFEDC\\n\n",
                "           KLMNOPQRSRQPONMLK\\n\n",
                "          TUVWXYZABCBAZYXWVUT\\n\n",
                "         DEFGHIJKLMNMLKJIHGFED\\n\n",
                "        OPQRSTUVWXYZYXWVUTSRQPO\\n\n",
                "       ABCDEFGHIJKLMLKJIHGFEDCBA\\n\n",
                "      NOPQRSTUVWXYZAZYXWVUTSRQPON\\n\n",
                "     BCDEFGHIJKLMNOPONMLKJIHGFEDCB\\n\n",
                "    QRSTUVWXYZABCDEFEDCBAZYXWVUTSRQ\\n\n",
                "   GHIJKLMNOPQRSTUVWVUTSRQPONMLKJIHG\\n\n",
                "  XYZABCDEFGHIJKLMNONMLKJIHGFEDCBAZYX\\n\n",
                " PQRSTUVWXYZABCDEFGHGFEDCBAZYXWVUTSRQP\\n\n",
                "IJKLMNOPQRSTUVWXYZABAZYXWVUTSRQPONMLKJI\\n\n",
                "'''"
            ]
        },
        {
            "cell_type": "code",
            "execution_count": 14,
            "metadata": {},
            "outputs": [],
            "source": [
                ""
            ]
        }
    ]
}
