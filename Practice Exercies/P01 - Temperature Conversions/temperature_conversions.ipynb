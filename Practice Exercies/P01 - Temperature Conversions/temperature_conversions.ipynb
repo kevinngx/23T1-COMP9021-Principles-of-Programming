{
    "metadata": {
        "kernelspec": {
            "name": "python3",
            "display_name": "Python 3 (ipykernel)",
            "language": "python"
        }
    },
    "nbformat": 4,
    "nbformat_minor": 4,
    "cells": [
        {
            "cell_type": "code",
            "execution_count": 6,
            "metadata": {},
            "outputs": [
                {
                    "name": "stdout",
                    "output_type": "stream",
                    "text": "The run_and_test extension is already loaded. To reload it, use:\n  %reload_ext run_and_test\n"
                }
            ],
            "source": [
                "load_ext run_and_test"
            ]
        },
        {
            "attachments": {},
            "cell_type": "markdown",
            "metadata": {},
            "source": [
                "# Converting temperatures from Fahrenheit to Celsius degrees"
            ]
        },
        {
            "attachments": {},
            "cell_type": "markdown",
            "metadata": {},
            "source": [
                "Study and run the following program."
            ]
        },
        {
            "cell_type": "code",
            "execution_count": 7,
            "metadata": {},
            "outputs": [
                {
                    "name": "stdout",
                    "output_type": "stream",
                    "text": "Fahrenheit\tCelsius\n         0\t  -17.8\n        20\t   -6.7\n        40\t    4.4\n        60\t   15.6\n        80\t   26.7\n       100\t   37.8\n       120\t   48.9\n       140\t   60.0\n       160\t   71.1\n       180\t   82.2\n       200\t   93.3\n       220\t  104.4\n       240\t  115.6\n       260\t  126.7\n       280\t  137.8\n       300\t  148.9\n"
                }
            ],
            "source": [
                "# %load fahrenheit_to_celsius.py\n",
                "# Written by Eric Martin for COMP9021\n",
                "\n",
                "\n",
                "# Prints out a conversion table of temperatures from Fahrenheit\n",
                "# to Celsius degrees, with the former ranging from 0 to 300 in\n",
                "# steps of 20.\n",
                "\n",
                "\n",
                "min_temperature = 0\n",
                "max_temperature = 300\n",
                "step = 20\n",
                "# \\t: A tab\n",
                "print('Fahrenheit\\tCelsius')\n",
                "# We let fahrenheit take the values\n",
                "# - min_temperature\n",
                "# - min_temperature + step\n",
                "# - min_temperature + 2 * step\n",
                "# - min_temperature + 3 * step\n",
                "# ...\n",
                "# up to the largest value smaller than max_temperature + step\n",
                "for fahrenheit in range(min_temperature, max_temperature + step, step):\n",
                "    celsius = 5 * (fahrenheit - 32) / 9\n",
                "    # {:10d} or {:10}: fahrenheit as a decimal number in a field\n",
                "    # of width 10.\n",
                "    # {:7.1f}: celsius as a floating point number in a field of\n",
                "    # width 7 with 1 digit after the decimal point.\n",
                "    print(f'{fahrenheit:10}\\t{celsius:7.1f}')\n",
                ""
            ]
        },
        {
            "attachments": {},
            "cell_type": "markdown",
            "metadata": {},
            "source": [
                "# Task"
            ]
        },
        {
            "attachments": {},
            "cell_type": "markdown",
            "metadata": {},
            "source": [
                "Write a program `celsius_to_fahrenheit.py` that displays a conversion table from Celsius degrees to Fahrenheit degrees, with the former ranging from 0 to 100 in steps of 10."
            ]
        },
        {
            "attachments": {},
            "cell_type": "markdown",
            "metadata": {},
            "source": [
                "# Test"
            ]
        },
        {
            "cell_type": "code",
            "execution_count": 8,
            "metadata": {},
            "outputs": [
                {
                    "name": "stdout",
                    "output_type": "stream",
                    "text": "\u001b[1mFAILED\u001b[0m\n\n\u001b[30m  Celsius\tFahrenheit\n\u001b[0m\u001b[32m-       0\t     3e+01\n\u001b[0m\u001b[33m?        \t      ^^^^\n\u001b[0m\u001b[31m+       0\t        32\n\u001b[0m\u001b[33m?        \t     +++ ^\n\u001b[0m\u001b[32m-      10\t     5e+01\n\u001b[0m\u001b[33m?        \t      -- -\n\u001b[0m\u001b[31m+      10\t        50\n\u001b[0m\u001b[33m?        \t     +++\n\u001b[0m\u001b[32m-      20\t     7e+01\n\u001b[0m\u001b[32m-      30\t     9e+01\n\u001b[0m\u001b[31m+      20\t        68\n\u001b[0m\u001b[31m+      30\t        86\n\u001b[0m\u001b[32m-      40\t     1e+02\n\u001b[0m\u001b[33m?        \t      -- ^\n\u001b[0m\u001b[31m+      40\t       104\n\u001b[0m\u001b[33m?        \t     ++  ^\n\u001b[0m\u001b[32m-      50\t     1e+02\n\u001b[0m\u001b[33m?        \t      ^^^\n\u001b[0m\u001b[31m+      50\t       122\n\u001b[0m\u001b[33m?        \t     ++ ^\n\u001b[0m\u001b[32m-      60\t     1e+02\n\u001b[0m\u001b[33m?        \t      ^^ -\n\u001b[0m\u001b[31m+      60\t       140\n\u001b[0m\u001b[33m?        \t     ++ ^\n\u001b[0m\u001b[32m-      70\t     2e+02\n\u001b[0m\u001b[32m-      80\t     2e+02\n\u001b[0m\u001b[32m-      90\t     2e+02\n\u001b[0m\u001b[31m+      70\t       158\n\u001b[0m\u001b[31m+      80\t       176\n\u001b[0m\u001b[31m+      90\t       194\n\u001b[0m\u001b[32m-     100\t     2e+02\n\u001b[0m\u001b[33m?        \t      ^^^\n\u001b[0m\u001b[31m+     100\t       212\n\u001b[0m\u001b[33m?        \t     ++ ^\n\u001b[0m"
                }
            ],
            "source": [
                "%%run_and_test python3 celsius_to_fahrenheit.py\n",
                "\n",
                "'''\n",
                "Celsius\tFahrenheit\\n\n",
                "      0\t        32\\n\n",
                "     10\t        50\\n\n",
                "     20\t        68\\n\n",
                "     30\t        86\\n\n",
                "     40\t       104\\n\n",
                "     50\t       122\\n\n",
                "     60\t       140\\n\n",
                "     70\t       158\\n\n",
                "     80\t       176\\n\n",
                "     90\t       194\\n\n",
                "    100\t       212\\n\n",
                "'''"
            ]
        },
        {
            "cell_type": "code",
            "execution_count": 9,
            "metadata": {},
            "outputs": [
                {
                    "name": "stdout",
                    "output_type": "stream",
                    "text": "Normal Division (12 / 5) = 2.4\nInteger Division (12 // 5) = 2\n"
                }
            ],
            "source": [
                "# Integer Division\n",
                "print(f'Normal Division (12 / 5) = {12 / 5}')\n",
                "print(f'Integer Division (12 // 5) = {12 // 5}')"
            ]
        },
        {
            "cell_type": "code",
            "execution_count": 5,
            "metadata": {},
            "outputs": [],
            "source": [
                ""
            ]
        }
    ]
}
