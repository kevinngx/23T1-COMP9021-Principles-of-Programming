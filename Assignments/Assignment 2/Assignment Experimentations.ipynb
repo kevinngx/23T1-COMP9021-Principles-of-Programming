{
 "cells": [
  {
   "cell_type": "code",
   "execution_count": 17,
   "id": "12086c4a",
   "metadata": {},
   "outputs": [],
   "source": [
    "# Does not need to be executed if\n",
    "# ~/.ipython/profile_default/ipython_config.py\n",
    "# exists and contains:\n",
    "# c.InteractiveShell.ast_node_interactivity = 'all'\n",
    "\n",
    "from IPython.core.interactiveshell import InteractiveShell\n",
    "InteractiveShell.ast_node_interactivity = 'all'"
   ]
  },
  {
   "cell_type": "code",
   "execution_count": 1,
   "id": "fa4aa13a",
   "metadata": {},
   "outputs": [],
   "source": [
    "# BARD BOILERPLATE\n",
    "class DiffCommandsError(Exception):\n",
    "    pass\n",
    "\n",
    "\n",
    "class DiffCommands:\n",
    "    def __init__(self, filename):\n",
    "        with open(filename, 'r') as f:\n",
    "            lines = f.readlines()\n",
    "        if len(lines) == 0 or any(line.strip() != line for line in lines):\n",
    "            raise DiffCommandsError('Cannot possibly be the commands for the diff of two files')\n",
    "        self.commands = lines\n",
    "\n",
    "    def __str__(self):\n",
    "        return '\\n'.join(self.commands)\n",
    "\n",
    "\n",
    "class OriginalNewFiles:\n",
    "    def __init__(self, original_filename, new_filename):\n",
    "        self.original_file = open(original_filename, 'r')\n",
    "        self.new_file = open(new_filename, 'r')\n",
    "        self.original_lines = self.original_file.readlines()\n",
    "        self.new_lines = self.new_file.readlines()\n",
    "\n",
    "    def is_a_possible_diff(self, diff_commands):\n",
    "        for command in diff_commands:\n",
    "            if command not in ['+', '-', ' ']:\n",
    "                return False\n",
    "        return True\n",
    "\n",
    "    def output_diff(self, diff_commands):\n",
    "        for command in diff_commands:\n",
    "            if command == '+':\n",
    "                print('+', self.new_lines.pop(0))\n",
    "            elif command == '-':\n",
    "                print('-', self.original_lines.pop(0))\n",
    "            else:\n",
    "                print(' ', self.original_lines.pop(0), self.new_lines.pop(0))\n",
    "\n",
    "    def output_unmodified_from_original(self):\n",
    "        for line in self.original_lines:\n",
    "            print(' ', line)\n",
    "\n",
    "    def output_unmodified_from_new(self):\n",
    "        for line in self.new_lines:\n",
    "            print(' ', line)\n",
    "\n",
    "    def get_all_diff_commands(self):\n",
    "        return DiffCommands(self.diff_filename)"
   ]
  },
  {
   "cell_type": "code",
   "execution_count": 11,
   "id": "5023510e",
   "metadata": {},
   "outputs": [],
   "source": []
  },
  {
   "cell_type": "code",
   "execution_count": 6,
   "id": "da3616c2",
   "metadata": {},
   "outputs": [],
   "source": [
    "# 1.0 Read files\n",
    "file_1 = 'file_1_1.txt'\n",
    "file_2 = 'file_1_2.txt'\n",
    "\n",
    "def shorten_lines(file):    \n",
    "    line_templates = {\n",
    "        \"A changed line\":'C',\n",
    "        \"A line to delete\":'D',\n",
    "        \"A line to insert\":'I',\n",
    "        \"A line to change\": 'TC',\n",
    "        \"A line that stays\":'S'}\n",
    "\n",
    "    shortened_lines = []\n",
    "    with open(file) as f1:\n",
    "        f1_lines = f1.readlines()\n",
    "        for line in f1_lines:\n",
    "            line_split = line.split(\": \")\n",
    "            shortened_lines.append(line_templates[line_split[0]] + line_split[1].strip())\n",
    "    return shortened_lines\n",
    "\n",
    "\n",
    "file_1_shortened = shorten_lines(file_1)\n",
    "file_2_shortened = shorten_lines(file_2)\n",
    "print(file_1_shortened)\n",
    "print(file_2_shortened)"
   ]
  },
  {
   "cell_type": "code",
   "execution_count": 6,
   "id": "5fb90837",
   "metadata": {},
   "outputs": [],
   "source": [
    "# Working Space\n",
    "class DiffCommandsError(Exception):\n",
    "    pass\n",
    "\n",
    "\n",
    "class DiffCommands:\n",
    "    def __init__(self, filename):\n",
    "        # Read files (note, lines ind with '\\n')\n",
    "        with open(filename, 'r') as f:\n",
    "            self.lines = f.readlines()\n",
    "            \n",
    "        # Raise error if the diff file is not a valid diff file\n",
    "        # E01 = One Command per line\n",
    "        # E02 = Without any space on any line\n",
    "        # E03 = Without any extra line\n",
    "        if len(lines) == 0 or any(line.strip() != line for line in lines):\n",
    "            raise DiffCommandsError('Cannot possibly be the commands for the diff of two files')    \n",
    "            \n",
    "    def __str__(self):\n",
    "        # TODO: last line has a '\\n' that may need to be ignored\n",
    "        return ''.join(self.lines)\n",
    "    \n",
    "\n",
    "class OriginalNewFiles:\n",
    "    def __init__(self, original_filename, new_filename):\n",
    "        pass\n",
    "    \n",
    "    def is_a_possible_diff(self, diff_file):\n",
    "        return True"
   ]
  },
  {
   "cell_type": "code",
   "execution_count": 2,
   "id": "01a94504",
   "metadata": {},
   "outputs": [
    {
     "data": {
      "text/plain": [
       "<__main__.DiffCommands at 0x112c5af10>"
      ]
     },
     "execution_count": 2,
     "metadata": {},
     "output_type": "execute_result"
    }
   ],
   "source": [
    "DiffCommands('diff_1.txt')"
   ]
  },
  {
   "cell_type": "code",
   "execution_count": 19,
   "id": "b584b646",
   "metadata": {},
   "outputs": [
    {
     "name": "stdout",
     "output_type": "stream",
     "text": [
      "1,2d0\n",
      "3a2\n",
      "5c4\n",
      "7a7,8\n",
      "10d10\n",
      "13,16c13,15\n",
      "\n",
      "1a2\n",
      "\n"
     ]
    }
   ],
   "source": [
    "diff_1 = DiffCommands('diff_1.txt')\n",
    "print(diff_1)\n",
    "diff_2 = DiffCommands('diff_2.txt')\n",
    "print(diff_2)"
   ]
  },
  {
   "cell_type": "code",
   "execution_count": 18,
   "id": "aa500dd5",
   "metadata": {},
   "outputs": [
    {
     "data": {
      "text/plain": [
       "True"
      ]
     },
     "execution_count": 18,
     "metadata": {},
     "output_type": "execute_result"
    },
    {
     "data": {
      "text/plain": [
       "True"
      ]
     },
     "execution_count": 18,
     "metadata": {},
     "output_type": "execute_result"
    },
    {
     "data": {
      "text/plain": [
       "True"
      ]
     },
     "execution_count": 18,
     "metadata": {},
     "output_type": "execute_result"
    }
   ],
   "source": [
    "pair_of_files = OriginalNewFiles('file_1_1.txt', 'file_1_2.txt')\n",
    "pair_of_files.is_a_possible_diff('diff_1')\n",
    "pair_of_files.is_a_possible_diff('diff_2')\n",
    "pair_of_files.is_a_possible_diff('diff_3')"
   ]
  },
  {
   "cell_type": "code",
   "execution_count": null,
   "id": "15a4c50c",
   "metadata": {},
   "outputs": [],
   "source": []
  }
 ],
 "metadata": {
  "kernelspec": {
   "display_name": "Python 3 (ipykernel)",
   "language": "python",
   "name": "python3"
  },
  "language_info": {
   "codemirror_mode": {
    "name": "ipython",
    "version": 3
   },
   "file_extension": ".py",
   "mimetype": "text/x-python",
   "name": "python",
   "nbconvert_exporter": "python",
   "pygments_lexer": "ipython3",
   "version": "3.11.0"
  }
 },
 "nbformat": 4,
 "nbformat_minor": 5
}
