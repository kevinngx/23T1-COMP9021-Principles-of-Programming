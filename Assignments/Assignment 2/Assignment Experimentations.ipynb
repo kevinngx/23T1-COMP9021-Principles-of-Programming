{
 "cells": [
  {
   "cell_type": "code",
   "execution_count": 9,
   "id": "fa4aa13a",
   "metadata": {},
   "outputs": [],
   "source": [
    "# BARD BOILERPLATE\n",
    "class DiffCommandsError(Exception):\n",
    "    pass\n",
    "\n",
    "\n",
    "class DiffCommands:\n",
    "    def __init__(self, filename):\n",
    "        with open(filename, 'r') as f:\n",
    "            lines = f.readlines()\n",
    "        if len(lines) == 0 or any(line.strip() != line for line in lines):\n",
    "            raise DiffCommandsError('Cannot possibly be the commands for the diff of two files')\n",
    "        self.commands = lines\n",
    "\n",
    "    def __str__(self):\n",
    "        return '\\n'.join(self.commands)\n",
    "\n",
    "\n",
    "class OriginalNewFiles:\n",
    "    def __init__(self, original_filename, new_filename):\n",
    "        self.original_file = open(original_filename, 'r')\n",
    "        self.new_file = open(new_filename, 'r')\n",
    "        self.original_lines = self.original_file.readlines()\n",
    "        self.new_lines = self.new_file.readlines()\n",
    "\n",
    "    def is_a_possible_diff(self, diff_commands):\n",
    "        for command in diff_commands:\n",
    "            if command not in ['+', '-', ' ']:\n",
    "                return False\n",
    "        return True\n",
    "\n",
    "    def output_diff(self, diff_commands):\n",
    "        for command in diff_commands:\n",
    "            if command == '+':\n",
    "                print('+', self.new_lines.pop(0))\n",
    "            elif command == '-':\n",
    "                print('-', self.original_lines.pop(0))\n",
    "            else:\n",
    "                print(' ', self.original_lines.pop(0), self.new_lines.pop(0))\n",
    "\n",
    "    def output_unmodified_from_original(self):\n",
    "        for line in self.original_lines:\n",
    "            print(' ', line)\n",
    "\n",
    "    def output_unmodified_from_new(self):\n",
    "        for line in self.new_lines:\n",
    "            print(' ', line)\n",
    "\n",
    "    def get_all_diff_commands(self):\n",
    "        return DiffCommands(self.diff_filename)"
   ]
  },
  {
   "cell_type": "code",
   "execution_count": 10,
   "id": "5023510e",
   "metadata": {},
   "outputs": [],
   "source": [
    "# BARD BOILERPLATE\n",
    "class DiffCommandsError(Exception):\n",
    "    pass\n",
    "\n",
    "\n",
    "class DiffCommands:\n",
    "    def __init__(self, filename):\n",
    "        pass\n",
    "\n",
    "    def __str__(self):\n",
    "        # TODO\n",
    "        pass\n",
    "        \n",
    "\n",
    "\n",
    "class OriginalNewFiles:\n",
    "    def __init__(self, original_filename, new_filename):\n",
    "        pass\n",
    "\n",
    "    def is_a_possible_diff(self, diff_commands):\n",
    "        pass\n",
    "\n",
    "    def output_diff(self, diff_commands):\n",
    "        pass\n",
    "\n",
    "    def output_unmodified_from_original(self):\n",
    "        pass\n",
    "    \n",
    "    def output_unmodified_from_new(self):\n",
    "        pass\n",
    "    \n",
    "    def get_all_diff_commands(self):\n",
    "        pass"
   ]
  },
  {
   "cell_type": "code",
   "execution_count": 13,
   "id": "da3616c2",
   "metadata": {},
   "outputs": [
    {
     "name": "stdout",
     "output_type": "stream",
     "text": [
      "A line that stays: 1\n",
      "A line to insert: 1\n",
      "A line that stays: 2\n",
      "A changed line: 1\n",
      "A line that stays: 3\n",
      "A line that stays: 4\n",
      "A line to insert: 2\n",
      "A line to insert: 3\n",
      "A line that stays: 5\n",
      "A line that stays: 6\n",
      "A line that stays: 7\n",
      "A line that stays: 8\n",
      "A changed line: 2\n",
      "A changed line: 3\n",
      "A changed line: 4\n",
      "A line that stays: 9\n"
     ]
    }
   ],
   "source": [
    "# 1.0 Read files\n",
    "file_1 = 'file_1_1.txt'\n",
    "file_2 = 'file_1_2.txt'\n",
    "with open(file_2) as f1:\n",
    "    f1_lines = f1.readlines()\n",
    "    for line in f1_lines:\n",
    "        print(line, end='')"
   ]
  },
  {
   "cell_type": "code",
   "execution_count": 18,
   "id": "b29e4b0a",
   "metadata": {},
   "outputs": [
    {
     "name": "stdout",
     "output_type": "stream",
     "text": [
      "A line to come\n",
      "A line to come\n",
      "Line 1\n",
      "Line 2\n",
      "A line to come\n",
      "A line to come\n",
      "Line 1\n",
      "Line 2\n",
      "A line to come\n",
      "A line to come\n",
      "A line to come\n",
      "Line 3\n",
      "Line 4\n"
     ]
    }
   ],
   "source": [
    "# 1.0 Read files\n",
    "file_1 = 'file_1_1.txt'\n",
    "file_2 = 'file_1_2.txt'\n",
    "with open('file_3_2.txt') as f1:\n",
    "    f1_lines = f1.readlines()\n",
    "    for line in f1_lines:\n",
    "        print(line, end='')"
   ]
  },
  {
   "cell_type": "code",
   "execution_count": null,
   "id": "881a1f45",
   "metadata": {},
   "outputs": [],
   "source": []
  }
 ],
 "metadata": {
  "kernelspec": {
   "display_name": "Python 3 (ipykernel)",
   "language": "python",
   "name": "python3"
  },
  "language_info": {
   "codemirror_mode": {
    "name": "ipython",
    "version": 3
   },
   "file_extension": ".py",
   "mimetype": "text/x-python",
   "name": "python",
   "nbconvert_exporter": "python",
   "pygments_lexer": "ipython3",
   "version": "3.11.0"
  }
 },
 "nbformat": 4,
 "nbformat_minor": 5
}
