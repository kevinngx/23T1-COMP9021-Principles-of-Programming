{
 "cells": [
  {
   "cell_type": "code",
   "execution_count": 111,
   "id": "c31e4dab",
   "metadata": {},
   "outputs": [],
   "source": [
    "from random import randint, seed\n",
    "\n",
    "cards = ['Ace', 'King', 'Queen', 'Jack', '10', '9']\n",
    "\n",
    "def generate_hand(hand):\n",
    "    # Generate hand up to 5 cards / rolls\n",
    "    for i in range(5-len(hand)):\n",
    "        hand.append(cards[randint(0,5)])\n",
    "    hand = sorted(hand, key=cards.index)\n",
    "    return hand   \n",
    "    \n",
    "def identify_hand(hand):\n",
    "    # Identify the number of each cards rolled\n",
    "    hand_values = {card: 0 for card in cards} \n",
    "    for card in hand:\n",
    "        hand_values[card] += 1\n",
    "    \n",
    "    # Sort the hands, and grab the two most common cards\n",
    "    sorted_hand = sorted(hand_values.items(), key=lambda item: item[1], reverse=True)\n",
    "    combo = sorted_hand[0][1], sorted_hand[1][1]\n",
    "    \n",
    "    # If there are no combos i.e. all cards occur just once then it is either a straight or a bust\n",
    "    # We know it's a straight if either 9 or Ace does not appear in the hand of 5\n",
    "    if combo == (1, 1): \n",
    "        if hand_values['9'] == 0 or hand_values['Ace'] == 0:\n",
    "            return \"Straight\"\n",
    "        else:\n",
    "            return \"Bust\"\n",
    "    \n",
    "    # Identify the combo that we have received\n",
    "    combos = {\n",
    "        (5,0): \"Five of a kind\",\n",
    "        (4,1): \"Four of a kind\",\n",
    "        (3,2): \"Full house\",\n",
    "        (3,1): \"Three of a kind\",\n",
    "        (2,2): \"Two Pair\",\n",
    "        (2,1): \"One Pair\"\n",
    "    } \n",
    "    return combos[combo]\n",
    "\n",
    "def remove_card(hand, card):\n",
    "    hand.pop(hand.index(card))\n",
    "\n",
    "def ask_for_keeps(hand, round):\n",
    "    cards_to_keep = []\n",
    "    while True:\n",
    "        try:\n",
    "            temp_hand = hand.copy()\n",
    "            cards_to_keep = input(f'Which dice do you want to keep for the {round} roll? ').split(\" \")\n",
    "            \n",
    "            # Return empty list if they requst 'all' or 'All'\n",
    "            if cards_to_keep[0] == 'all' or cards_to_keep[0] == 'All':\n",
    "                return hand\n",
    "            \n",
    "            # Returns an empty hand if no input is provided\n",
    "            if cards_to_keep[0] == '':\n",
    "                return []\n",
    "            \n",
    "            for card in cards_to_keep:\n",
    "                if card not in temp_hand:\n",
    "                    raise ValueError\n",
    "                remove_card(temp_hand, card)\n",
    "            break\n",
    "            \n",
    "        except ValueError:\n",
    "            print('That is not possible, try again!')\n",
    "            \n",
    "    return cards_to_keep\n",
    "    \n",
    "    \n",
    "def play(simulate=False): \n",
    "    \n",
    "    # Starting first round\n",
    "    hand = []\n",
    "    hand = generate_hand(hand)\n",
    "    hand_value = identify_hand(hand)\n",
    "    \n",
    "    # If we are running in simulate mode, simply return the result\n",
    "    if simulate:\n",
    "        return hand_value\n",
    "    \n",
    "    print('The roll is:', ' '.join(hand))\n",
    "    print('It is a', hand_value)\n",
    "    \n",
    "    # Starting Second round\n",
    "    hand = ask_for_keeps(hand, 'second')\n",
    "    if len(hand) == 5:\n",
    "        print('Ok, done.')\n",
    "        return\n",
    "    \n",
    "    hand = generate_hand(hand)\n",
    "    hand_value = identify_hand(hand)\n",
    "    \n",
    "    print('The roll is:', ' '.join(hand))\n",
    "    print('It is a', hand_value)\n",
    "    \n",
    "    # Starting Third Round\n",
    "    hand = ask_for_keeps(hand, 'third')\n",
    "    if len(hand) == 5:\n",
    "        print('Ok, done.')\n",
    "        return\n",
    "    \n",
    "    hand = generate_hand(hand)\n",
    "    hand_value = identify_hand(hand)\n",
    "    \n",
    "    print('The roll is:', ' '.join(hand))\n",
    "    print('It is a', hand_value)\n",
    "\n",
    "def simulate(n):\n",
    "    # print(\"***************************\")\n",
    "    # print(f'poker_dice.simulate({n})')\n",
    "    hands = {\n",
    "        \"Five of a kind\": 0,\n",
    "        \"Four of a kind\": 0,\n",
    "        \"Full house\": 0,\n",
    "        \"Straight\": 0,\n",
    "        \"Three of a kind\": 0,\n",
    "        \"Two Pair\": 0,\n",
    "        \"One Pair\": 0,\n",
    "        # \"Bust\": 0 # We don't want to show busts\n",
    "    } \n",
    "    \n",
    "    for _ in range(n):\n",
    "        result = play(simulate=True)\n",
    "        if result != \"Bust\":\n",
    "            hands[result] += 1\n",
    "\n",
    "    for hand, count in hands.items():\n",
    "        print(f'{hand:15}: {(count/n*100):.2f}%')"
   ]
  },
  {
   "cell_type": "code",
   "execution_count": 87,
   "id": "b8ebfc4e",
   "metadata": {
    "scrolled": true
   },
   "outputs": [
    {
     "name": "stdout",
     "output_type": "stream",
     "text": [
      "Five of a kind : 0.00%\n",
      "Four of a kind : 0.00%\n",
      "Full house     : 10.00%\n",
      "Straight       : 0.00%\n",
      "Three of a kind: 0.00%\n",
      "Two Pair       : 20.00%\n",
      "One Pair       : 60.00%\n"
     ]
    }
   ],
   "source": [
    "seed(0)\n",
    "simulate(10)\n",
    "# simulate(100)\n",
    "# simulate(1_000)\n",
    "# simulate(10_000)\n",
    "# simulate(100_000)"
   ]
  },
  {
   "cell_type": "code",
   "execution_count": 88,
   "id": "61f5e376",
   "metadata": {},
   "outputs": [
    {
     "name": "stdout",
     "output_type": "stream",
     "text": [
      "The roll is: Ace Queen Jack Jack 10\n",
      "It is a One Pair\n",
      "Which dice do you want to keep for the second roll? all\n",
      "Ok, done.\n"
     ]
    }
   ],
   "source": [
    "seed(0)\n",
    "play()"
   ]
  },
  {
   "cell_type": "code",
   "execution_count": 89,
   "id": "32def88d",
   "metadata": {},
   "outputs": [
    {
     "name": "stdout",
     "output_type": "stream",
     "text": [
      "The roll is: Queen Queen Jack Jack Jack\n",
      "It is a Full house\n",
      "Which dice do you want to keep for the second roll? All\n",
      "Ok, done.\n"
     ]
    }
   ],
   "source": [
    "play()"
   ]
  },
  {
   "cell_type": "code",
   "execution_count": 90,
   "id": "ccc42395",
   "metadata": {},
   "outputs": [
    {
     "name": "stdout",
     "output_type": "stream",
     "text": [
      "The roll is: King King Queen 10 10\n",
      "It is a Two Pair\n",
      "Which dice do you want to keep for the second roll? King 10 Queen King 10\n",
      "Ok, done.\n"
     ]
    }
   ],
   "source": [
    "play()"
   ]
  },
  {
   "cell_type": "code",
   "execution_count": 91,
   "id": "a0adeca3",
   "metadata": {},
   "outputs": [
    {
     "name": "stdout",
     "output_type": "stream",
     "text": [
      "The roll is: Ace King Queen 10 10\n",
      "It is a One Pair\n",
      "Which dice do you want to keep for the second roll? 10 11\n",
      "That is not possible, try again!\n",
      "Which dice do you want to keep for the second roll? ace\n",
      "That is not possible, try again!\n",
      "Which dice do you want to keep for the second roll? 10 10\n",
      "The roll is: King 10 10 10 9\n",
      "It is a Three of a kind\n",
      "Which dice do you want to keep for the third roll? all\n",
      "The roll is: King 10 10 10 9\n",
      "It is a Three of a kind\n",
      "Ok, done.\n"
     ]
    }
   ],
   "source": [
    "play() # for the third roll, if we do 'all' just print ok done"
   ]
  },
  {
   "cell_type": "code",
   "execution_count": 112,
   "id": "1a6823e9",
   "metadata": {},
   "outputs": [],
   "source": [
    "seed(2)"
   ]
  },
  {
   "cell_type": "code",
   "execution_count": 113,
   "id": "2b5d425e",
   "metadata": {},
   "outputs": [
    {
     "name": "stdout",
     "output_type": "stream",
     "text": [
      "The roll is: Ace Ace Ace King Queen\n",
      "It is a Three of a kind\n",
      "Which dice do you want to keep for the second roll? Ace Ace Ace\n",
      "The roll is: Ace Ace Ace 9 9\n",
      "It is a Full house\n",
      "Which dice do you want to keep for the third roll? all\n",
      "Ok, done.\n"
     ]
    }
   ],
   "source": [
    "play()"
   ]
  },
  {
   "cell_type": "code",
   "execution_count": 114,
   "id": "0cb419d0",
   "metadata": {},
   "outputs": [
    {
     "name": "stdout",
     "output_type": "stream",
     "text": [
      "The roll is: King Queen Queen 10 10\n",
      "It is a Two Pair\n",
      "Which dice do you want to keep for the second roll? \n",
      "The roll is: Ace King Jack 10 9\n",
      "It is a Bust\n",
      "Which dice do you want to keep for the third roll? \n",
      "The roll is: Queen Jack 10 9 9\n",
      "It is a One Pair\n"
     ]
    }
   ],
   "source": [
    "play()"
   ]
  },
  {
   "cell_type": "code",
   "execution_count": 115,
   "id": "a6d0f82c",
   "metadata": {},
   "outputs": [
    {
     "name": "stdout",
     "output_type": "stream",
     "text": [
      "The roll is: Ace Jack Jack 10 10\n",
      "It is a Two Pair\n",
      "Which dice do you want to keep for the second roll? Jack 10 Jack 10\n",
      "The roll is: Ace Jack Jack 10 10\n",
      "It is a Two Pair\n",
      "Which dice do you want to keep for the third roll? Jack 10 Jack 10\n",
      "The roll is: King Jack Jack 10 10\n",
      "It is a Two Pair\n"
     ]
    }
   ],
   "source": [
    "seed(10)\n",
    "play()"
   ]
  },
  {
   "cell_type": "code",
   "execution_count": 117,
   "id": "ddda40e4",
   "metadata": {},
   "outputs": [
    {
     "name": "stdout",
     "output_type": "stream",
     "text": [
      "The roll is: King Queen 9 9 9\n",
      "It is a Three of a kind\n",
      "Which dice do you want to keep for the second roll? 9 King 9 9\n",
      "The roll is: King 9 9 9 9\n",
      "It is a Four of a kind\n",
      "Which dice do you want to keep for the third roll? 9 9 9 9\n",
      "The roll is: Ace 9 9 9 9\n",
      "It is a Four of a kind\n"
     ]
    }
   ],
   "source": [
    "seed(20)\n",
    "play()"
   ]
  },
  {
   "cell_type": "code",
   "execution_count": null,
   "id": "155414af",
   "metadata": {},
   "outputs": [],
   "source": []
  }
 ],
 "metadata": {
  "kernelspec": {
   "display_name": "Python 3 (ipykernel)",
   "language": "python",
   "name": "python3"
  },
  "language_info": {
   "codemirror_mode": {
    "name": "ipython",
    "version": 3
   },
   "file_extension": ".py",
   "mimetype": "text/x-python",
   "name": "python",
   "nbconvert_exporter": "python",
   "pygments_lexer": "ipython3",
   "version": "3.11.0"
  }
 },
 "nbformat": 4,
 "nbformat_minor": 5
}
