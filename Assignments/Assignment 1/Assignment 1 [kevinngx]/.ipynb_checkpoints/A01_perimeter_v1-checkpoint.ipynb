{
 "cells": [
  {
   "cell_type": "code",
   "execution_count": 7,
   "id": "b04e280e",
   "metadata": {},
   "outputs": [
    {
     "name": "stdout",
     "output_type": "stream",
     "text": [
      "A01_Poker_v1.ipynb      assignment_1.pdf        perimeter.py\r\n",
      "A01_Poker_v2.ipynb      frames_1.txt            poker_dice.py\r\n",
      "A01_perimeter_v1.ipynb  frames_2.txt\r\n"
     ]
    }
   ],
   "source": [
    "ls"
   ]
  },
  {
   "cell_type": "code",
   "execution_count": 28,
   "id": "0d67b942",
   "metadata": {},
   "outputs": [
    {
     "name": "stdout",
     "output_type": "stream",
     "text": [
      "Which data file do you want to use? frames_1.txt\n"
     ]
    },
    {
     "ename": "NameError",
     "evalue": "name 'p1' is not defined",
     "output_type": "error",
     "traceback": [
      "\u001b[0;31m---------------------------------------------------------------------------\u001b[0m",
      "\u001b[0;31mNameError\u001b[0m                                 Traceback (most recent call last)",
      "Cell \u001b[0;32mIn[28], line 31\u001b[0m\n\u001b[1;32m     28\u001b[0m     sys\u001b[38;5;241m.\u001b[39mexit()\n\u001b[1;32m     30\u001b[0m \u001b[38;5;28;01mfor\u001b[39;00m rectangle \u001b[38;5;129;01min\u001b[39;00m rectangles:\n\u001b[0;32m---> 31\u001b[0m     \u001b[43mrectangle\u001b[49m\u001b[38;5;241;43m.\u001b[39;49m\u001b[43mprint_points\u001b[49m\u001b[43m(\u001b[49m\u001b[43m)\u001b[49m\n",
      "Cell \u001b[0;32mIn[28], line 11\u001b[0m, in \u001b[0;36mrectangle.print_points\u001b[0;34m(self)\u001b[0m\n\u001b[1;32m     10\u001b[0m \u001b[38;5;28;01mdef\u001b[39;00m \u001b[38;5;21mprint_points\u001b[39m(\u001b[38;5;28mself\u001b[39m):\n\u001b[0;32m---> 11\u001b[0m     \u001b[38;5;28mprint\u001b[39m(\u001b[38;5;124mf\u001b[39m\u001b[38;5;124m'\u001b[39m\u001b[38;5;124mp1 = \u001b[39m\u001b[38;5;132;01m{\u001b[39;00m\u001b[43mp1\u001b[49m\u001b[38;5;132;01m}\u001b[39;00m\u001b[38;5;124m, p2 = \u001b[39m\u001b[38;5;132;01m{\u001b[39;00mp2\u001b[38;5;132;01m}\u001b[39;00m\u001b[38;5;124m'\u001b[39m)\n",
      "\u001b[0;31mNameError\u001b[0m: name 'p1' is not defined"
     ]
    }
   ],
   "source": [
    "import sys    \n",
    "\n",
    "class rectangle:\n",
    "    def __init__(self, x1, y1, x2, y2):\n",
    "        self.p1 = (x1,y1)\n",
    "        self.p2 = (x2,y2)\n",
    "    \n",
    "    def print_points(self):\n",
    "        print(f'p1 = {self.p1}, p2 = {self.p2}')\n",
    "        \n",
    "    \n",
    "    \n",
    "    \n",
    "\n",
    "filename = input('Which data file do you want to use? ')\n",
    "rectangles = []\n",
    "try:\n",
    "    with open(filename) as file:\n",
    "        for line in file:\n",
    "#             print(line, end='')\n",
    "            x1, y1, x2, y2 = line.removesuffix('\\n').split(' ')\n",
    "            rectangles.append(rectangle(x1, y1, x2, y2))\n",
    "except FileNotFoundError:\n",
    "    print('Could not open a file named', filename)\n",
    "    print('Giving up...')\n",
    "    sys.exit()\n",
    "\n",
    "for rectangle in rectangles:\n",
    "    rectangle.print_points()"
   ]
  },
  {
   "cell_type": "code",
   "execution_count": 13,
   "id": "815bc64d",
   "metadata": {},
   "outputs": [
    {
     "name": "stdout",
     "output_type": "stream",
     "text": [
      "Help on method_descriptor:\n",
      "\n",
      "removesuffix(self, suffix, /)\n",
      "    Return a str with the given suffix string removed if present.\n",
      "    \n",
      "    If the string ends with the suffix string and that suffix is not empty,\n",
      "    return string[:-len(suffix)]. Otherwise, return a copy of the original\n",
      "    string.\n",
      "\n"
     ]
    }
   ],
   "source": [
    "help(str.removesuffix)"
   ]
  },
  {
   "cell_type": "code",
   "execution_count": 15,
   "id": "7839caf6",
   "metadata": {},
   "outputs": [],
   "source": [
    "points = ['-15', '0', '5', '10']"
   ]
  },
  {
   "cell_type": "code",
   "execution_count": 16,
   "id": "b14b79f6",
   "metadata": {},
   "outputs": [],
   "source": [
    "a, b, c, d = points"
   ]
  },
  {
   "cell_type": "code",
   "execution_count": 17,
   "id": "e38129a8",
   "metadata": {},
   "outputs": [
    {
     "data": {
      "text/plain": [
       "'-15'"
      ]
     },
     "execution_count": 17,
     "metadata": {},
     "output_type": "execute_result"
    }
   ],
   "source": [
    "a"
   ]
  },
  {
   "cell_type": "code",
   "execution_count": null,
   "id": "929749b7",
   "metadata": {},
   "outputs": [],
   "source": []
  }
 ],
 "metadata": {
  "kernelspec": {
   "display_name": "Python 3 (ipykernel)",
   "language": "python",
   "name": "python3"
  },
  "language_info": {
   "codemirror_mode": {
    "name": "ipython",
    "version": 3
   },
   "file_extension": ".py",
   "mimetype": "text/x-python",
   "name": "python",
   "nbconvert_exporter": "python",
   "pygments_lexer": "ipython3",
   "version": "3.11.0"
  }
 },
 "nbformat": 4,
 "nbformat_minor": 5
}
