{
 "cells": [
  {
   "cell_type": "markdown",
   "metadata": {},
   "source": [
    "<center><font size='5'>Scraping the Worldbank website</font></center>\n",
    "<center><font size='3'>Eric Martin, CSE, UNSW</font></center>\n",
    "<center><font size='3'>COMP9021 Principles of Programming</font></center>"
   ]
  },
  {
   "cell_type": "code",
   "execution_count": null,
   "metadata": {
    "jupyter": {
     "source_hidden": true
    },
    "tags": []
   },
   "outputs": [],
   "source": [
    "# Does not need to be executed if\n",
    "# ~/.ipython/profile_default/ipython_config.py\n",
    "# exists and contains:\n",
    "# c.InteractiveShell.ast_node_interactivity = 'all'\n",
    "\n",
    "from IPython.core.interactiveshell import InteractiveShell\n",
    "InteractiveShell.ast_node_interactivity = 'all'"
   ]
  },
  {
   "cell_type": "code",
   "execution_count": null,
   "metadata": {},
   "outputs": [],
   "source": [
    "import os.path\n",
    "import pandas as pd\n",
    "import urllib.request\n",
    "\n",
    "import bs4\n",
    "import openpyxl"
   ]
  },
  {
   "cell_type": "markdown",
   "metadata": {},
   "source": [
    "From the World Bank home page, http://www.worldbank.org/en/where-we-work, clicking on a country name, _India_ for instance, might take us to a page, https://www.worldbank.org/en/country/india with that example, that might display a box with _Data_ as title and a link to another page, https://data.worldbank.org/country/india with that example, that might display a number of boxes one of which might be titled _IBRD/IDA Operations Approved by Fiscal Year_, indicating an amout in US dollars, _$859.50 million_ with that example. It is not possible to get that amount for all countries listed on the home page through that sequence of two clicks. For instance:\n",
    "\n",
    "* Clicking on Bahrein triggers the Page Not Found 404 Error.\n",
    "* Clicking on Czech Republic takes us to a page for the European Union, not for the Czech Republic.\n",
    "* Clicking on Israel takes us directly to the Data page.\n",
    "* Clicking on Costa Rica takes us to a page where clicking on Data triggers the Page Not Found 404 Error.\n",
    "* Clicking on Colombia takes us to a page where we can click on Data which takes us to a page has no box titled _IBRD/IDA Operations Approved by Fiscal Year_.\n",
    "\n",
    "\n",
    "We want to restrict ourselves to countries for which the desired amount can be accessed via the described sequence of 2 clicks, and create a spreadsheet to record countries and amounts, the latter as integers; with India as example, the integer is 859500000.\n",
    "\n",
    "Using the `urlopen()` function from the `urllib.request` module, we open the World Bank home page and pass the object it returns as first argument to the `BeautifulSoup` class from the `beautifulsoup4` module, referred to as `bs4` in code. Provided with `'html.parser'` as second argument, `BeautifulSoup()` creates an object with methods to parse the html code of the page. We place the call to `urlopen()` within a `try ... except ...` clause to catch two kinds of errors, `urllib.error.HTTPError` or `urllib.error.URLError`, that might be generated when trying to access the resource but without success:"
   ]
  },
  {
   "cell_type": "code",
   "execution_count": null,
   "metadata": {},
   "outputs": [],
   "source": [
    "try:\n",
    "    with urllib.request.urlopen(\n",
    "                           'http://www.worldbank.org/en/where-we-work'\n",
    "                               ) as top_url:\n",
    "        top_page = bs4.BeautifulSoup(top_url, 'html.parser')\n",
    "except (urllib.error.HTTPError, urllib.error.URLError):\n",
    "    print('Could not access the top resource.')"
   ]
  },
  {
   "cell_type": "markdown",
   "metadata": {},
   "source": [
    "Searching for `www.worldbank.org/en/country/india` in the html code, we find:"
   ]
  },
  {
   "cell_type": "code",
   "execution_count": null,
   "metadata": {},
   "outputs": [],
   "source": [
    "<a class=\"alpha-name dropdown-item\"\n",
    "    href=\"https://www.worldbank.org/en/country/india\">\n",
    "    India\n",
    "</a>"
   ]
  },
  {
   "cell_type": "markdown",
   "metadata": {},
   "source": [
    "We use the `select()` method of the `BeautifulSoup` class to return the set of anchor tag objects for the anchor tags in the html code that have a class attribute with countryfirstLevel as value, passing `'a[class=\"alpha-name dropdown-item\"]'` as argument to `select()`. The country name associated with each such tag in the html code can be retrieved with the object's `text` attribute, while the object's `get()` method, with `'href'` as argument, returns the value of the href attribute of the anchor tag in the htlm code. Besides printing out the full tags and for each tag, the extracted url and country name, we just try and access the urls, again catching errors of type `urllib.error.HTTPError` or `urllib.error.URLError`:"
   ]
  },
  {
   "cell_type": "code",
   "execution_count": null,
   "metadata": {
    "tags": []
   },
   "outputs": [],
   "source": [
    "try:\n",
    "    with urllib.request.urlopen(\n",
    "                            'http://www.worldbank.org/en/where-we-work'\n",
    "                               ) as top_url:\n",
    "        top_page = bs4.BeautifulSoup(top_url, 'html.parser')\n",
    "        for country in top_page.select('a[class=\"countryfirstLevel\"]'):\n",
    "            country_url = country.get('href')\n",
    "            country_name = country.text\n",
    "            print(country)\n",
    "            print('   ', country_url)\n",
    "            print('   ', country_name)\n",
    "            try:\n",
    "                with urllib.request.urlopen(country_url)\\\n",
    "                                                       as overview_url:\n",
    "                    pass\n",
    "            except (urllib.error.HTTPError, urllib.error.URLError):\n",
    "                print('Could not access overview page for '\n",
    "                      f'{country_name}.'\n",
    "                     )\n",
    "except (urllib.error.HTTPError, urllib.error.URLError):\n",
    "    print('Could not access the top resource.')"
   ]
  },
  {
   "cell_type": "markdown",
   "metadata": {},
   "source": [
    "All urls can be accessed except for Eswatini: the `Could not access the overview page for Eswatini.` error message is output. Checking out the associated anchor tag, we see it is"
   ]
  },
  {
   "cell_type": "code",
   "execution_count": null,
   "metadata": {},
   "outputs": [],
   "source": [
    "<a class=\"alpha-name dropdown-item\"\n",
    "   href=\"https://https://www.worldbank.org/en/country/eswatini\">Eswatini\n",
    "</a>"
   ]
  },
  {
   "cell_type": "markdown",
   "metadata": {},
   "source": [
    "It has mistakenly one extra `https://`.\n",
    "\n",
    "Let's open the overview page for India and create a `BeautifulSoup` object again:"
   ]
  },
  {
   "cell_type": "code",
   "execution_count": null,
   "metadata": {},
   "outputs": [],
   "source": [
    "try:\n",
    "    with urllib.request.urlopen(\n",
    "                            'http://www.worldbank.org/en/country/india'\n",
    "                               ) as india_url:\n",
    "        india_page = bs4.BeautifulSoup(india_url, 'html.parser')\n",
    "except (urllib.error.HTTPError, urllib.error.URLError):\n",
    "    print('Could not access overview page for India.')    "
   ]
  },
  {
   "cell_type": "markdown",
   "metadata": {},
   "source": [
    "Searching for `data.worldbank.org/country/india` in the html code, we see that"
   ]
  },
  {
   "cell_type": "code",
   "execution_count": null,
   "metadata": {},
   "outputs": [],
   "source": [
    "<a href=\"https://data.worldbank.org/country/india\"\n",
    "   class=\"lp__card_link\">Data\n",
    "</a>"
   ]
  },
  {
   "cell_type": "markdown",
   "metadata": {},
   "source": [
    "is what is of interest to access the Data page. There is another anchor tag in the html code with a class attribute whose value is `\"lp__card_link\"`:"
   ]
  },
  {
   "cell_type": "code",
   "execution_count": null,
   "metadata": {},
   "outputs": [],
   "source": [
    "<a href=\"https://projects.worldbank.org/en/\n",
    "              projects-operations/projects-summary?countrycode_exact=IN\"\n",
    "   class=\"lp__card_link\">View All Projects\n",
    "</a>"
   ]
  },
  {
   "cell_type": "markdown",
   "metadata": {},
   "source": [
    "We could loop over the set of tag objects returned by `select()` provided with `'a[class=\"_loop_card_link\"]` as argument, and check whether the `text` attribute of those objects evaluate to `'Data'`; a closer examination of the html code for the countries for which that check always fails reveals that the text is sometimes `'DATA'` rather than `'Data'`, so we decide to go for that loop but rather check the lowercase version of the value of the `text` attribute against `'data'`. When the check succeeds, we can break out of the loop (expected to be executed at most twice, but that is irrelevant), after which further code remains to be written to access the Data page for the country under consideration and try and extract the amount of interest. When the check fails, we can print out a message indicating that no Data page has been found for the country under consideration, before going back to the outermost loop, that ranges over all countries that have been identified from the World Bank home page using the code previously written. That is achieved thanks to a `continue` statement within the body of an `else` statement associated with the innermost `for` statement.\n",
    "\n",
    "More generally, with a `for ... else ...` statement, either the loop is exited via a `break` statement, in which case the `else` statement is ignored, or it is exited \"normally\" as a `StopIteration` error is generated in the background, in which case the `else` statement is executed:"
   ]
  },
  {
   "cell_type": "code",
   "execution_count": null,
   "metadata": {},
   "outputs": [],
   "source": [
    "def f(n):\n",
    "    for i in range(n):\n",
    "        print('Processing', i)\n",
    "        if i > 2:\n",
    "            print('Breaking out!')\n",
    "            break\n",
    "    else:\n",
    "        print('All done!')\n",
    "    print('What comes next?')\n",
    "    \n",
    "f(2)\n",
    "print()\n",
    "f(6)"
   ]
  },
  {
   "cell_type": "code",
   "execution_count": null,
   "metadata": {},
   "outputs": [],
   "source": [
    "try:\n",
    "    with urllib.request.urlopen(\n",
    "        'http://www.worldbank.org/en/where-we-work'\n",
    "                               ) as top_url:\n",
    "        top_page = bs4.BeautifulSoup(top_url, 'html.parser')\n",
    "        for country in top_page.select(\n",
    "                                  'a[class=\"alpha-name dropdown-item\"]'\n",
    "                                      ):\n",
    "            country_name = country.text\n",
    "            try:\n",
    "                with urllib.request.urlopen(country.get('href'))\\\n",
    "                        as overview_url:\n",
    "                    overview_page = bs4.BeautifulSoup(overview_url,\n",
    "                                                      'html.parser'\n",
    "                                                     )\n",
    "                    for data in overview_page.select(\n",
    "                                             'a[class=\"lp__card_link\"]'\n",
    "                                                    ):\n",
    "                        if data.string.lower() == 'data':\n",
    "                            print('Found data page for '\n",
    "                                  f'{country_name}.'\n",
    "                                 )\n",
    "                            break\n",
    "                    else:\n",
    "                        print(f'No Data page for {country_name}.')\n",
    "                        continue\n",
    "            except (urllib.error.HTTPError, urllib.error.URLError):\n",
    "                print('Could not access overview page for '\n",
    "                      f'{country_name}.'\n",
    "                     )\n",
    "except (urllib.error.HTTPError, urllib.error.URLError):\n",
    "    print('Could not access the top resource.')"
   ]
  },
  {
   "cell_type": "markdown",
   "metadata": {},
   "source": [
    "Let's open the Data page for India and create a `BeautifulSoup` object again:"
   ]
  },
  {
   "cell_type": "code",
   "execution_count": null,
   "metadata": {},
   "outputs": [],
   "source": [
    "try:\n",
    "    with urllib.request.urlopen(\n",
    "                             'http://data.worldbank.org/country/india'\n",
    "                               ) as india_data_url:\n",
    "        india_data_page = bs4.BeautifulSoup(india_data_url,\n",
    "                                            'html.parser'\n",
    "                                           )\n",
    "except (urllib.error.HTTPError, urllib.error.URLError):\n",
    "    print('Could not access Data page for India.')"
   ]
  },
  {
   "cell_type": "markdown",
   "metadata": {},
   "source": [
    "Searching for IBRD/IDA Operations Approved by Fiscal Year in the html code, we find:"
   ]
  },
  {
   "cell_type": "code",
   "execution_count": null,
   "metadata": {},
   "outputs": [],
   "source": [
    "<span class=\"name\" data-reactid=\"297\">\n",
    "          IBRD/IDA Operations Approved by Fiscal Year\n",
    "</span>\n",
    "<div class=\"chart\" data-reactid=\"298\">\n",
    "    <div class=\"chart-summry\" data-reactid=\"299\">\n",
    "        <div data-reactid=\"300\">\n",
    "            <em data-reactid=\"301\">$859.50 million</em>\n",
    "            ...\n",
    "        </div>\n",
    "    </div>\n",
    "</div>"
   ]
  },
  {
   "cell_type": "markdown",
   "metadata": {},
   "source": [
    "`BeautifulSoup`'s `find()` method returns the PageElement object for the first tag in the html code those name is provided as argument, the value of the `text` argument to `find()` further restricting the search:"
   ]
  },
  {
   "cell_type": "code",
   "execution_count": null,
   "metadata": {},
   "outputs": [],
   "source": [
    "indicator = 'IBRD/IDA Operations Approved by Fiscal Year'\n",
    "india_data_page.find('span', text=indicator)"
   ]
  },
  {
   "cell_type": "markdown",
   "metadata": {},
   "source": [
    "We assume, based on an examination of the html code, that the previous use of `find()` returns a PageElement object that corresponds to the beginning of the quoted code snippet, not to the beginning of another code snippet somewhere else in the html code. What is of interest in the code snippet, namely, \\$859.50 million, occurs within the tag that follows the \"span\" tag. A PageElement for that tag can be obtained thanks to the `next_sibling` attribute:"
   ]
  },
  {
   "cell_type": "code",
   "execution_count": null,
   "metadata": {},
   "outputs": [],
   "source": [
    "india_data_page.find('span', text=indicator).next_sibling"
   ]
  },
  {
   "cell_type": "markdown",
   "metadata": {},
   "source": [
    "That tag, `div class=\"chart\" data-reactid=\"298\"`, has a first (possibily unique) child, `div class=\"chart-summry\" data-reactid=\"299\"`, which itself has a first (possibily unique) child, `div data-reactid=\"300\"`, which itself has a first (possibily unique) child, `em data-reactid=\"301\"`. The `children` attribute evaluates to an iterator, which combined with a call to `next()`, gives access to the first child of the tag under consideration:"
   ]
  },
  {
   "cell_type": "code",
   "execution_count": null,
   "metadata": {},
   "outputs": [],
   "source": [
    "next(india_data_page.find('span', text=indicator\n",
    "                         ).next_sibling.children\n",
    "    )"
   ]
  },
  {
   "cell_type": "code",
   "execution_count": null,
   "metadata": {},
   "outputs": [],
   "source": [
    "next(next(india_data_page.find('span', text=indicator\n",
    "                              ).next_sibling.children\n",
    "         ).children\n",
    "    )"
   ]
  },
  {
   "cell_type": "code",
   "execution_count": null,
   "metadata": {},
   "outputs": [],
   "source": [
    "next(next(next(india_data_page.find('span', text=indicator\n",
    "                                   ).next_sibling.children\n",
    "              ).children).children\n",
    "    )"
   ]
  },
  {
   "cell_type": "markdown",
   "metadata": {},
   "source": [
    "Accessing the dollar amount is now just a matter of using the `text` attribute:"
   ]
  },
  {
   "cell_type": "code",
   "execution_count": null,
   "metadata": {},
   "outputs": [],
   "source": [
    "next(next(next(india_data_page.find('span', text=indicator\n",
    "                                   ).next_sibling.children\n",
    "              ).children\n",
    "         ).children\n",
    "    ).text"
   ]
  },
  {
   "cell_type": "markdown",
   "metadata": {},
   "source": [
    "Before completing the code and extracting all amounts for all countries, provided the amount exists and our methodology makes the extraction possible, let us write a function to convert a string such as `'$859.50 million'` into an integer. Examination of the html code reveals that amounts can be expressed in millions or billions of dollars. The code that follows appears as more general, and general enough for its intended purpose:"
   ]
  },
  {
   "cell_type": "code",
   "execution_count": null,
   "metadata": {},
   "outputs": [],
   "source": [
    "def convert_to_number(amount):\n",
    "    units = {'thousand': 10 ** 3, 'million': 10 ** 6,\n",
    "             'billion': 10 ** 9, 'trillion': 10 ** 12\n",
    "            }\n",
    "    for unit in units:\n",
    "        if unit in amount:\n",
    "            return int(float(amount.strip().lstrip('$').rstrip(unit))\n",
    "                       * units[unit]\n",
    "                      )"
   ]
  },
  {
   "cell_type": "code",
   "execution_count": null,
   "metadata": {},
   "outputs": [],
   "source": [
    "convert_to_number('$859.50 million')\n",
    "convert_to_number('$2.05 billion')"
   ]
  },
  {
   "cell_type": "markdown",
   "metadata": {},
   "source": [
    "Getting back to extracting all dollar amounts, we slightly adapt and extend the code we wrote and implement a generator function, meant to provide on demand country name and dollar amount, for every country listed in the World Bank home page. We use another `try ... except ...` statement to generate an error message for all countries for which we can access a Data page but fail to find our indicator, or find it but within html code that is not structured as we expect it to be: "
   ]
  },
  {
   "cell_type": "code",
   "execution_count": null,
   "metadata": {},
   "outputs": [],
   "source": [
    "def countries_and_data():\n",
    "    for country in top_page.select(\n",
    "                                  'a[class=\"alpha-name dropdown-item\"]'\n",
    "                                  ):\n",
    "        country_name = country.text\n",
    "        try:\n",
    "            with urllib.request.urlopen(country.get('href'))\\\n",
    "                                                       as overview_url:\n",
    "                overview_page = bs4.BeautifulSoup(overview_url,\n",
    "                                                  'html.parser'\n",
    "                                                 )\n",
    "                for data in overview_page.select(\n",
    "                                           'a[class=\"lp__card_link\"]'\n",
    "                                                ):\n",
    "                    if data.string.lower() == 'data':\n",
    "                        break\n",
    "                else:\n",
    "                    print(f'No Data page for {country_name}.')\n",
    "                    continue\n",
    "                try:\n",
    "                    with urllib.request.urlopen(data.get('href'))\\\n",
    "                                                           as data_url:\n",
    "                        data_page = bs4.BeautifulSoup(data_url,\n",
    "                                                      'html.parser'\n",
    "                                                     )\n",
    "                        try:\n",
    "                            yield country_name,\\\n",
    "                                  convert_to_number(next(\n",
    "                                                     next(\n",
    "                                                      next(\n",
    "                                   data_page.find('span',\n",
    "                                                  text=indicator\n",
    "                                                 ).next_sibling.children\n",
    "                                                          ).children\n",
    "                                                         ).children\n",
    "                                                        ).string\n",
    "                                                    )\n",
    "                        except AttributeError:\n",
    "                            print(f'No {indicator} for {country_name}.')\n",
    "                except (urllib.error.HTTPError, urllib.error.URLError):\n",
    "                    print('Could not access Data page for '\n",
    "                          f'{country_name}.'\n",
    "                         )\n",
    "        except (urllib.error.HTTPError, urllib.error.URLError):\n",
    "            print(f'Could not access overview page for {country_name}.')"
   ]
  },
  {
   "cell_type": "markdown",
   "metadata": {},
   "source": [
    "We let `enumerate()` get from `countries_and_data()` all pairs it can yield. Thanks to the `Workbook` class from the `openpyxl` module, we create an object, referred to as `workbook`, whose `active` attribute returns an object, referred to as `spreadsheet`, endowed with attributes to write into a spreadsheet:\n",
    "\n",
    "* Thanks to the `title` attribute, we set the title to `World countries`.\n",
    "* Assigning to `spreadsheet['A1']` and `spreadsheet['A2']`, we write on the first row of the first two columns the column headers, namely, `Country` and `IBRD/IDA operations`, respectively.\n",
    "* With `spreadsheet.cell(row=counter, column=1).value` and `spreadsheet.cell(row=counter, column=2).value` we write on row number (the value of) `counter`, country name and amount, respectively, as yielded by the call to `enumerate()`; we pass 2 as second argument to the latter to start writing from the second row onward.\n",
    "* Eventually, we save the spreadsheet as a file whose name is provided as argument to `workbook`'s `save()` method.\n",
    "\n",
    "All that code is embedded in the code we wrote at the beginning to access the World Bank home page. It takes a few minutes for the code in the following cell to complete execution, with error messages output for each country which we fail to extract the sought after amount from."
   ]
  },
  {
   "cell_type": "code",
   "execution_count": null,
   "metadata": {},
   "outputs": [],
   "source": [
    "try:\n",
    "    with urllib.request.urlopen(\n",
    "                            'http://www.worldbank.org/en/where-we-work'\n",
    "                               )as top_url:\n",
    "        top_page = bs4.BeautifulSoup(top_url, 'html.parser')\n",
    "        workbook = openpyxl.Workbook()\n",
    "        spreadsheet = workbook.active\n",
    "        spreadsheet.title = 'World countries'\n",
    "        spreadsheet['A1'] = 'Country'\n",
    "        spreadsheet['B1'] = 'IBRD/IDA operations'\n",
    "        for counter, (country, amount) in\\\n",
    "                                   enumerate(countries_and_data(), 2):\n",
    "            spreadsheet.cell(row=counter, column=1).value = country\n",
    "            spreadsheet.cell(row=counter, column=2).value = amount\n",
    "        workbook.save('IBRD_IDA_operations.xlsx')\n",
    "except (urllib.error.HTTPError, urllib.error.URLError):\n",
    "    print('Could not access the top resource.')"
   ]
  },
  {
   "cell_type": "markdown",
   "metadata": {},
   "source": [
    "At this stage, the file `IBRD_IDA_operations.xlsx` should have been generated and its contents read as follows:"
   ]
  },
  {
   "cell_type": "code",
   "execution_count": null,
   "metadata": {},
   "outputs": [],
   "source": [
    "pd.read_excel('IBRD_IDA_operations.xlsx', engine='openpyxl')"
   ]
  }
 ],
 "metadata": {
  "kernelspec": {
   "display_name": "Python 3 (ipykernel)",
   "language": "python",
   "name": "python3"
  },
  "language_info": {
   "codemirror_mode": {
    "name": "ipython",
    "version": 3
   },
   "file_extension": ".py",
   "mimetype": "text/x-python",
   "name": "python",
   "nbconvert_exporter": "python",
   "pygments_lexer": "ipython3",
   "version": "3.10.2"
  },
  "latex_envs": {
   "LaTeX_envs_menu_present": true,
   "autoclose": false,
   "autocomplete": true,
   "bibliofile": "biblio.bib",
   "cite_by": "apalike",
   "current_citInitial": 1,
   "eqLabelWithNumbers": true,
   "eqNumInitial": 1,
   "hotkeys": {
    "equation": "Ctrl-E",
    "itemize": "Ctrl-I"
   },
   "labels_anchors": false,
   "latex_user_defs": false,
   "report_style_numbering": false,
   "user_envs_cfg": false
  },
  "toc": {
   "base_numbering": 1,
   "nav_menu": {},
   "number_sections": true,
   "sideBar": true,
   "skip_h1_title": false,
   "title_cell": "Table of Contents",
   "title_sidebar": "Contents",
   "toc_cell": false,
   "toc_position": {},
   "toc_section_display": true,
   "toc_window_display": false
  },
  "widgets": {
   "application/vnd.jupyter.widget-state+json": {
    "state": {},
    "version_major": 2,
    "version_minor": 0
   }
  }
 },
 "nbformat": 4,
 "nbformat_minor": 4
}
