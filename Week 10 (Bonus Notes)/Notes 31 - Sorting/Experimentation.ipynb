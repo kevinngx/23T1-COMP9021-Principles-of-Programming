{
 "cells": [
  {
   "cell_type": "code",
   "execution_count": 1,
   "id": "cc61a59e",
   "metadata": {},
   "outputs": [],
   "source": [
    "# Does not need to be executed if\n",
    "# ~/.ipython/profile_default/ipython_config.py\n",
    "# exists and contains:\n",
    "# c.InteractiveShell.ast_node_interactivity = 'all'\n",
    "\n",
    "from IPython.core.interactiveshell import InteractiveShell\n",
    "InteractiveShell.ast_node_interactivity = 'all'"
   ]
  },
  {
   "cell_type": "code",
   "execution_count": 2,
   "id": "118c4e6a",
   "metadata": {},
   "outputs": [],
   "source": [
    "import zipfile\n",
    "with zipfile.ZipFile('Illustrations.zip') as illustrations:\n",
    "    illustrations.extractall('.')"
   ]
  },
  {
   "cell_type": "code",
   "execution_count": 3,
   "id": "9069657e",
   "metadata": {},
   "outputs": [
    {
     "ename": "ModuleNotFoundError",
     "evalue": "No module named 'ipywidgets'",
     "output_type": "error",
     "traceback": [
      "\u001b[0;31m---------------------------------------------------------------------------\u001b[0m",
      "\u001b[0;31mModuleNotFoundError\u001b[0m                       Traceback (most recent call last)",
      "Cell \u001b[0;32mIn[3], line 1\u001b[0m\n\u001b[0;32m----> 1\u001b[0m \u001b[38;5;28;01mimport\u001b[39;00m \u001b[38;5;21;01mipywidgets\u001b[39;00m \u001b[38;5;28;01mas\u001b[39;00m \u001b[38;5;21;01mwidgets\u001b[39;00m\n\u001b[1;32m      2\u001b[0m \u001b[38;5;28;01mfrom\u001b[39;00m \u001b[38;5;21;01mcopy\u001b[39;00m \u001b[38;5;28;01mimport\u001b[39;00m deepcopy\n\u001b[1;32m      3\u001b[0m \u001b[38;5;28;01mfrom\u001b[39;00m \u001b[38;5;21;01mneotermcolor\u001b[39;00m \u001b[38;5;28;01mimport\u001b[39;00m colored\n",
      "\u001b[0;31mModuleNotFoundError\u001b[0m: No module named 'ipywidgets'"
     ]
    }
   ],
   "source": [
    "import ipywidgets as widgets\n",
    "from copy import deepcopy\n",
    "from neotermcolor import colored\n",
    "from random import shuffle\n",
    "import neotermcolor\n",
    "neotermcolor.tty_aware = False"
   ]
  },
  {
   "cell_type": "code",
   "execution_count": 4,
   "id": "b1efd488",
   "metadata": {},
   "outputs": [],
   "source": [
    "class TraceSorting:\n",
    "    def __init__(self, sorting_algorithm, nb_of_steps, batchersort=False):\n",
    "        self.sorting_algorithm = sorting_algorithm\n",
    "        self.nb_of_steps = nb_of_steps\n",
    "        self.list = list(range(1, 9)) if batchersort else list(range(1, 11))\n",
    "        self.tracer = sorting_algorithm(self.list)\n",
    "        self.play = widgets.Play(interval=500, show_repeat=False)\n",
    "        self.play.max = self.nb_of_steps(list(self.list))\n",
    "        self.traces = widgets.Output()\n",
    "        self.displayed_list = widgets.Text(self.display_list(),\n",
    "                                           description='List to sort:'\n",
    "                                          )\n",
    "        self.default_order = widgets.Dropdown(options=['Sorted','Reversed',\n",
    "                                                       'Random'\n",
    "                                                      ]\n",
    "                                             )\n",
    "        self.length = widgets.Dropdown(options=[2, 4, 8, 16],\n",
    "                                       value=8,\n",
    "                                       description='List size',\n",
    "                                      ) if batchersort\\\n",
    "                      else widgets.IntSlider(value=10, min=2, max=16,\n",
    "                                             description='List size'\n",
    "                                            )\n",
    "        self.pause = widgets.FloatSlider(value=1, min=0.5, max=5, step=.5,\n",
    "                                         description='Pause (s.)'\n",
    "                                        )\n",
    "        self.tracing_tab = widgets.VBox([self.play, self.traces])\n",
    "        self.setting_tab = widgets.HBox([widgets.VBox([self.length,\n",
    "                                                       self.pause\n",
    "                                                      ]\n",
    "                                                     ),\n",
    "                                         widgets.VBox([self.default_order,\n",
    "                                                       self.displayed_list\n",
    "                                                      ]\n",
    "                                                     )\n",
    "                                        ]\n",
    "                                       )\n",
    "        self.tabs = widgets.Tab([self.tracing_tab, self.setting_tab])\n",
    "        self.tabs.set_title(0, 'Trace algorithm')\n",
    "        self.tabs.set_title(1, 'Settings')\n",
    "        self.pause.observe(self.choose_waiting_time, 'value')\n",
    "        self.length.observe(self.choose_list, 'value')\n",
    "        self.default_order.observe(self.choose_list, 'value')\n",
    "        self.play.observe(self.trace, 'value')\n",
    "\n",
    "    def reinitialise_tracer(self):\n",
    "        self.play.max = self.nb_of_steps(list(self.list))\n",
    "        self.tracer.close()\n",
    "        self.tracer = self.sorting_algorithm(list(self.list))\n",
    "\n",
    "    def display_list(self):\n",
    "        return ' '.join(str(e) for e in self.list)\n",
    "\n",
    "    def trace(self, _):\n",
    "        with self.traces:\n",
    "            if not self.play.value:\n",
    "                print()\n",
    "            else:\n",
    "                next(self.tracer)\n",
    "            if not self.play.value or self.play.value == self.play.max:\n",
    "                self.reinitialise_tracer()\n",
    "\n",
    "    def choose_waiting_time(self, _):\n",
    "        self.play.interval = self.pause.value * 1000\n",
    "\n",
    "    def choose_list(self, _):\n",
    "        self.list = list(range(1, self.length.value + 1))\n",
    "        if self.default_order.value == 'Reversed':\n",
    "            self.list.reverse()\n",
    "        elif self.default_order.value == 'Random':\n",
    "            while True:\n",
    "                shuffle(self.list)\n",
    "                if self.length.value == 2\\\n",
    "                or self.list != sorted(range(1, self.length.value + 1))\\\n",
    "                   and self.list !=\\\n",
    "                              list(reversed(range(1, self.length.value + 1))):\n",
    "                    break\n",
    "        self.displayed_list.value = self.display_list()\n",
    "        self.play.value = 0\n",
    "        self.reinitialise_tracer()"
   ]
  },
  {
   "cell_type": "code",
   "execution_count": 5,
   "id": "09a789fe",
   "metadata": {},
   "outputs": [],
   "source": [
    "def initialise_colouring(L, blue=True):\n",
    "    return {i: blue and {'color': 'blue'} or {} for i in range(len(L))}\n",
    "\n",
    "def display(L, item_colours, last_in_line=True):\n",
    "    print(' '.join(colored(L[i], **item_colours[i]) for i in range(len(L))\n",
    "                  ), end=last_in_line and '\\n' or '    '\n",
    "         )\n",
    "\n",
    "def display_2(L1, item_colours_1, L2, item_colours_2):\n",
    "    display(L1, item_colours_1, False)\n",
    "    display(L2, item_colours_2)"
   ]
  },
  {
   "cell_type": "code",
   "execution_count": null,
   "id": "4a375083",
   "metadata": {},
   "outputs": [],
   "source": []
  }
 ],
 "metadata": {
  "kernelspec": {
   "display_name": "Python 3 (ipykernel)",
   "language": "python",
   "name": "python3"
  },
  "language_info": {
   "codemirror_mode": {
    "name": "ipython",
    "version": 3
   },
   "file_extension": ".py",
   "mimetype": "text/x-python",
   "name": "python",
   "nbconvert_exporter": "python",
   "pygments_lexer": "ipython3",
   "version": "3.11.0"
  }
 },
 "nbformat": 4,
 "nbformat_minor": 5
}
