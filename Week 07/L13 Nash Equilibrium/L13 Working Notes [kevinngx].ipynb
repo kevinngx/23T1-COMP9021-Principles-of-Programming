{
 "cells": [
  {
   "cell_type": "code",
   "execution_count": 1,
   "id": "354eac1b",
   "metadata": {},
   "outputs": [],
   "source": [
    "# Does not need to be executed if\n",
    "# ~/.ipython/profile_default/ipython_config.py\n",
    "# exists and contains:\n",
    "# c.InteractiveShell.ast_node_interactivity = 'all'\n",
    "\n",
    "from IPython.core.interactiveshell import InteractiveShell\n",
    "InteractiveShell.ast_node_interactivity = 'all'"
   ]
  },
  {
   "cell_type": "code",
   "execution_count": 2,
   "id": "aa44aba2",
   "metadata": {},
   "outputs": [],
   "source": [
    "import zipfile\n",
    "with zipfile.ZipFile('Illustrations.zip') as illustrations:\n",
    "    illustrations.extractall('.')"
   ]
  },
  {
   "cell_type": "code",
   "execution_count": 3,
   "id": "30e9c970",
   "metadata": {},
   "outputs": [],
   "source": [
    "import matplotlib_inline.backend_inline\n",
    "matplotlib_inline.backend_inline.set_matplotlib_formats('retina')"
   ]
  },
  {
   "cell_type": "code",
   "execution_count": 7,
   "id": "a000d181",
   "metadata": {},
   "outputs": [],
   "source": [
    "from itertools import product\n",
    "import matplotlib.pyplot as plt\n",
    "from matplotlib.patches import Rectangle, Circle\n",
    "import re"
   ]
  },
  {
   "cell_type": "code",
   "execution_count": 8,
   "id": "e8a630ee",
   "metadata": {},
   "outputs": [],
   "source": [
    "payoffs_examples = (1, 2, 2, 4), (0, -1, 0, 0), (3, 1, 1, 4), (1, 1, 0, 1),\\\n",
    "                   (4, 2, 2, 1), (-1, -1, 0, -1), (2, 3, 4, -3), (0, 1, 0, 0),\\\n",
    "                   (0, 0, 0, 0), (1, 2, 2, 3), (2, 1, 1, 0)"
   ]
  },
  {
   "cell_type": "code",
   "execution_count": 9,
   "id": "09f58f95",
   "metadata": {},
   "outputs": [],
   "source": [
    "ruth_payoffs_examples = [((a1, a2), (a3, a4))\n",
    "                             for (a1, a2, a3, a4) in payoffs_examples\n",
    "                        ]\n",
    "charlie_payoffs_examples = [((a1, a3), (a2, a4))\n",
    "                                for (a1, a2, a3, a4) in payoffs_examples\n",
    "                           ]"
   ]
  },
  {
   "cell_type": "code",
   "execution_count": 11,
   "id": "18c6a1b1",
   "metadata": {},
   "outputs": [],
   "source": [
    "def case_analysis(payoffs_per_player):\n",
    "    print()\n",
    "    D = dict.fromkeys('Ruth', 'Charlie')\n",
    "    E = dict.fromkeys('Ruth', 'Charlie')\n",
    "    for player in payoffs_per_player:\n",
    "        payoffs = payoffs_per_player[player]\n",
    "        D[player] = payoffs[0][0] - payoffs[0][1] - payoffs[1][0]\\\n",
    "                    + payoffs[1][1]\n",
    "        E[player] = payoffs[int(player == 'Ruth')][int(player == 'Charlie')]\\\n",
    "                    - payoffs[0][0]\n",
    "        if D[player]:\n",
    "            cut = -E[player] / D[player]\n",
    "            if cut < 0 or cut > 1:\n",
    "                if E[player] > 0:\n",
    "                    graph = '1(a)'\n",
    "                else:\n",
    "                     graph = '5(a)'\n",
    "            if cut == 0:\n",
    "                if D[player] > 0:\n",
    "                    graph = 2\n",
    "                else:\n",
    "                    graph = 8\n",
    "            elif cut == 1:\n",
    "                if D[player] > 0:\n",
    "                    graph = 4\n",
    "                else:\n",
    "                    graph = 6\n",
    "            elif 0 < cut < 1:\n",
    "                if D[player] > 0:\n",
    "                    graph = 3\n",
    "                else:\n",
    "                    graph = 7\n",
    "        else:\n",
    "            cut = 'undef'\n",
    "            if E[player] > 0:\n",
    "                graph = '1(b)'\n",
    "            elif E[player] < 0:\n",
    "                graph = '5(b)'\n",
    "            else:\n",
    "                graph = 9\n",
    "        print(f'{player:9}{D[player]:3}{E[player]:5}{cut:>8}   {graph}')"
   ]
  },
  {
   "cell_type": "code",
   "execution_count": 12,
   "id": "5c3d6cba",
   "metadata": {},
   "outputs": [
    {
     "name": "stdout",
     "output_type": "stream",
     "text": [
      "Player     D    E    -E/D   No regret graph\n",
      "\n",
      "Ruth       1    1    -1.0   1(a)\n",
      "Charlie    1    1    -1.0   1(a)\n",
      "\n",
      "Ruth       1    0     0.0   2\n",
      "Charlie    1    0     0.0   2\n",
      "\n",
      "Ruth       5   -2     0.4   3\n",
      "Charlie    5   -2     0.4   3\n",
      "\n",
      "Ruth       1   -1     1.0   4\n",
      "Charlie    1   -1     1.0   4\n",
      "\n",
      "Ruth       1   -2     2.0   5(a)\n",
      "Charlie    1   -2     2.0   5(a)\n",
      "\n",
      "Ruth      -1    1     1.0   6\n",
      "Charlie   -1    1     1.0   6\n",
      "\n",
      "Ruth      -8    2    0.25   7\n",
      "Charlie   -8    2    0.25   7\n",
      "\n",
      "Ruth      -1    0    -0.0   8\n",
      "Charlie   -1    0    -0.0   8\n",
      "\n",
      "Ruth       0    0   undef   9\n",
      "Charlie    0    0   undef   9\n",
      "\n",
      "Ruth       0    1   undef   1(b)\n",
      "Charlie    0    1   undef   1(b)\n",
      "\n",
      "Ruth       0   -1   undef   5(b)\n",
      "Charlie    0   -1   undef   5(b)\n"
     ]
    }
   ],
   "source": [
    "print('Player     D    E    -E/D   No regret graph')\n",
    "for payoffs_per_player in ({'Ruth': ruth_payoffs, 'Charlie': charlie_payoffs\n",
    "                           } for (ruth_payoffs, charlie_payoffs) in\n",
    "                                    zip(ruth_payoffs_examples,\n",
    "                                        charlie_payoffs_examples\n",
    "                                       )\n",
    "                          ):\n",
    "    case_analysis(payoffs_per_player)"
   ]
  },
  {
   "cell_type": "code",
   "execution_count": null,
   "id": "03492135",
   "metadata": {},
   "outputs": [],
   "source": []
  }
 ],
 "metadata": {
  "kernelspec": {
   "display_name": "Python 3 (ipykernel)",
   "language": "python",
   "name": "python3"
  },
  "language_info": {
   "codemirror_mode": {
    "name": "ipython",
    "version": 3
   },
   "file_extension": ".py",
   "mimetype": "text/x-python",
   "name": "python",
   "nbconvert_exporter": "python",
   "pygments_lexer": "ipython3",
   "version": "3.11.0"
  },
  "vscode": {
   "interpreter": {
    "hash": "fb4a468b23ae772b99bd54f465a6eab9630ea5075332d07f1e912da887985c6f"
   }
  }
 },
 "nbformat": 4,
 "nbformat_minor": 5
}
