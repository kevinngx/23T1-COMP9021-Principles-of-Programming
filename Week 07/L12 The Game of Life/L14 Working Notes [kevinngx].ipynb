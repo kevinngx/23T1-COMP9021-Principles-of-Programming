{
 "cells": [
  {
   "cell_type": "code",
   "execution_count": 19,
   "id": "fc8f88f2",
   "metadata": {},
   "outputs": [],
   "source": [
    "# Does not need to be executed if\n",
    "# ~/.ipython/profile_default/ipython_config.py\n",
    "# exists and contains:\n",
    "# c.InteractiveShell.ast_node_interactivity = 'all'\n",
    "\n",
    "from IPython.core.interactiveshell import InteractiveShell\n",
    "InteractiveShell.ast_node_interactivity = 'all'"
   ]
  },
  {
   "cell_type": "code",
   "execution_count": 20,
   "id": "4deb50b2",
   "metadata": {},
   "outputs": [],
   "source": [
    "from random import random\n",
    "from itertools import count\n",
    "from argparse import ArgumentParser\n",
    "import re\n",
    "import os\n",
    "import numpy as np\n",
    "import matplotlib.pyplot as plt\n",
    "import matplotlib.animation as animation"
   ]
  },
  {
   "cell_type": "code",
   "execution_count": 10,
   "id": "29de0944",
   "metadata": {},
   "outputs": [],
   "source": [
    "def display_grid():\n",
    "    for row in grid:\n",
    "        print(*row)"
   ]
  },
  {
   "cell_type": "code",
   "execution_count": 11,
   "id": "a2d5e5b1",
   "metadata": {},
   "outputs": [],
   "source": [
    "size = 10\n",
    "grid = [[0] * size for _ in range(size)]"
   ]
  },
  {
   "cell_type": "code",
   "execution_count": 12,
   "id": "f6d7e418",
   "metadata": {},
   "outputs": [
    {
     "name": "stdout",
     "output_type": "stream",
     "text": [
      "0 0 0 0 0 0 0 0 0 0\n",
      "0 0 0 0 0 0 0 0 0 0\n",
      "0 0 0 0 0 0 0 0 0 0\n",
      "0 0 0 0 0 0 0 0 0 0\n",
      "0 0 0 0 0 0 0 0 0 0\n",
      "0 0 0 0 0 0 0 0 0 0\n",
      "0 0 0 0 0 0 0 0 0 0\n",
      "0 0 0 0 0 0 0 0 0 0\n",
      "0 0 0 0 0 0 0 0 0 0\n",
      "0 0 0 0 0 0 0 0 0 0\n"
     ]
    }
   ],
   "source": [
    "display_grid()"
   ]
  },
  {
   "cell_type": "code",
   "execution_count": 38,
   "id": "9e9d02bb",
   "metadata": {},
   "outputs": [
    {
     "name": "stdout",
     "output_type": "stream",
     "text": [
      "0 0 1 0 0 1 0 0 0 1\n",
      "0 1 0 0 0 0 0 0 0 0\n",
      "0 1 0 1 0 0 0 0 0 0\n",
      "0 0 0 0 1 0 0 1 0 0\n",
      "0 0 0 1 0 0 0 1 1 0\n",
      "1 1 0 0 1 0 0 1 1 1\n",
      "0 1 0 0 1 0 1 0 1 0\n",
      "0 0 0 1 0 0 0 0 0 1\n",
      "0 0 0 1 1 0 0 0 0 0\n",
      "0 1 0 1 0 0 1 0 0 0\n"
     ]
    }
   ],
   "source": [
    "# 1.0 Initialize the grid\n",
    "grid = [[None] * size for _ in range(size)]\n",
    "\n",
    "# 2.0 Populate the grid with some living cells with a density 'density'\n",
    "density = 0.3\n",
    "for i in range(size):\n",
    "    for j in range(size):\n",
    "        grid[i][j] = int(random() < density)\n",
    "display_grid()"
   ]
  },
  {
   "cell_type": "code",
   "execution_count": 36,
   "id": "4955dda2",
   "metadata": {},
   "outputs": [
    {
     "name": "stdout",
     "output_type": "stream",
     "text": [
      "0 0 0 1 0 0 0 1 0 1\n",
      "0 0 0 1 0 0 0 1 0 1\n",
      "0 0 0 1 0 0 0 1 0 1\n",
      "0 0 0 1 0 0 0 1 0 1\n",
      "0 0 0 1 0 0 0 1 0 1\n",
      "0 0 0 1 0 0 0 1 0 1\n",
      "0 0 0 1 0 0 0 1 0 1\n",
      "0 0 0 1 0 0 0 1 0 1\n",
      "0 0 0 1 0 0 0 1 0 1\n",
      "0 0 0 1 0 0 0 1 0 1\n"
     ]
    }
   ],
   "source": [
    "grid = [[None] * size] * size\n",
    "for i in range(size):\n",
    "    for j in range(size):\n",
    "        grid[i][j] = int(random() < density)\n",
    "\n",
    "display_grid()"
   ]
  },
  {
   "cell_type": "code",
   "execution_count": 42,
   "id": "0317470c",
   "metadata": {},
   "outputs": [
    {
     "data": {
      "text/plain": [
       "[[0, 0, 0], [0, 0, 0]]"
      ]
     },
     "execution_count": 42,
     "metadata": {},
     "output_type": "execute_result"
    },
    {
     "data": {
      "text/plain": [
       "[[0, 10, 0], [0, 0, 0]]"
      ]
     },
     "execution_count": 42,
     "metadata": {},
     "output_type": "execute_result"
    },
    {
     "data": {
      "text/plain": [
       "[[0, 10, 0], [0, 0, 20]]"
      ]
     },
     "execution_count": 42,
     "metadata": {},
     "output_type": "execute_result"
    }
   ],
   "source": [
    "L = [[0] * 3 for i in range(2)]; L\n",
    "L[0][1] = 10; L\n",
    "L[1][2] = 20; L # This is uniquely altered so our grid can be altered uniquely"
   ]
  },
  {
   "cell_type": "code",
   "execution_count": 45,
   "id": "80c26b60",
   "metadata": {},
   "outputs": [
    {
     "data": {
      "text/plain": [
       "[[0, 0, 0], [0, 0, 0]]"
      ]
     },
     "execution_count": 45,
     "metadata": {},
     "output_type": "execute_result"
    },
    {
     "data": {
      "text/plain": [
       "[[0, 10, 0], [0, 10, 0]]"
      ]
     },
     "execution_count": 45,
     "metadata": {},
     "output_type": "execute_result"
    },
    {
     "data": {
      "text/plain": [
       "[[0, 10, 20], [0, 10, 20]]"
      ]
     },
     "execution_count": 45,
     "metadata": {},
     "output_type": "execute_result"
    }
   ],
   "source": [
    "L = [[0] * 3] * 2; L # Doing this copies the position of each row in memory multiple times which results in unintende results\n",
    "L[0][1] = 10; L # Notice here that the output of both columns has been altered\n",
    "L[1][2] = 20; L # Similarly here"
   ]
  },
  {
   "cell_type": "code",
   "execution_count": 75,
   "id": "1fb25f23",
   "metadata": {},
   "outputs": [
    {
     "name": "stdout",
     "output_type": "stream",
     "text": [
      "1 0 0 1 0 0 0 0 0 1\n",
      "1 1 0 0 0 0 0 0 0 0\n",
      "0 0 0 0 0 1 0 0 0 0\n",
      "1 0 1 0 0 0 0 0 1 0\n",
      "0 0 1 0 1 0 0 0 0 0\n",
      "1 0 0 1 0 0 1 0 0 0\n",
      "0 0 0 0 0 0 1 0 1 1\n",
      "0 0 0 0 1 1 0 0 0 0\n",
      "0 0 0 0 0 0 0 1 0 0\n",
      "0 1 0 0 0 1 0 0 0 1\n"
     ]
    }
   ],
   "source": [
    "# 3.0 Consolidating this into one line using two list comprehensions\n",
    "density = 0.3\n",
    "grid = [[int(random() < density) for _ in range(size)] for _ in range(size)] \n",
    "display_grid()"
   ]
  },
  {
   "cell_type": "code",
   "execution_count": 108,
   "id": "2b379e01",
   "metadata": {},
   "outputs": [
    {
     "name": "stdout",
     "output_type": "stream",
     "text": [
      "⬜⬜⬜⬜⬜⬜⬜⬜⬜⬜\n",
      "⬛⬜⬜⬜⬜⬜⬜⬜⬜⬜\n",
      "⬜⬜⬛⬜⬜⬜⬜⬜⬜⬜\n",
      "⬜⬜⬜⬜⬜⬜⬜⬜⬜⬜\n",
      "⬜⬛⬜⬜⬜⬛⬜⬜⬜⬜\n",
      "⬜⬜⬛⬜⬜⬛⬜⬜⬜⬜\n",
      "⬜⬜⬜⬛⬛⬛⬜⬜⬜⬜\n",
      "⬜⬜⬜⬜⬜⬜⬜⬜⬜⬜\n",
      "⬜⬜⬜⬜⬜⬜⬜⬜⬜⬜\n",
      "⬜⬜⬜⬜⬜⬜⬜⬜⬜⬜\n"
     ]
    }
   ],
   "source": [
    "# 4.0 Using an alternative method to display the grid using more visible\n",
    "def display_population():\n",
    "    squares = {0: '\\u2b1c', 1: '\\u2b1b'}\n",
    "    for row in grid:\n",
    "        for column in row:\n",
    "            print(squares[column], end='')\n",
    "        print()\n",
    "\n",
    "display_population()"
   ]
  },
  {
   "cell_type": "code",
   "execution_count": 109,
   "id": "6081bd20",
   "metadata": {},
   "outputs": [
    {
     "name": "stdout",
     "output_type": "stream",
     "text": [
      "⬜⬜⬜⬜⬜⬜⬜⬜⬜⬜\n",
      "⬛⬜⬜⬜⬜⬜⬜⬜⬜⬜\n",
      "⬜⬜⬛⬜⬜⬜⬜⬜⬜⬜\n",
      "⬜⬜⬜⬜⬜⬜⬜⬜⬜⬜\n",
      "⬜⬛⬜⬜⬜⬛⬜⬜⬜⬜\n",
      "⬜⬜⬛⬜⬜⬛⬜⬜⬜⬜\n",
      "⬜⬜⬜⬛⬛⬛⬜⬜⬜⬜\n",
      "⬜⬜⬜⬜⬜⬜⬜⬜⬜⬜\n",
      "⬜⬜⬜⬜⬜⬜⬜⬜⬜⬜\n",
      "⬜⬜⬜⬜⬜⬜⬜⬜⬜⬜\n"
     ]
    }
   ],
   "source": [
    "# 4.0 Updated using a join function instead of another nested for loop\n",
    "def display_population():\n",
    "    squares = {0: '\\u2b1c', 1: '\\u2b1b'}\n",
    "    for row in grid:\n",
    "        print(''.join(f'{squares[e]}' for e in row))\n",
    "\n",
    "display_population()"
   ]
  },
  {
   "cell_type": "code",
   "execution_count": 121,
   "id": "8d2fc751",
   "metadata": {},
   "outputs": [
    {
     "name": "stdout",
     "output_type": "stream",
     "text": [
      "⬜⬜⬜⬜⬜⬜⬜⬜⬜⬜\n",
      "⬜⬜⬜⬜⬜⬜⬜⬜⬜⬜\n",
      "⬜⬜⬜⬜⬜⬜⬜⬜⬛⬜\n",
      "⬜⬜⬜⬜⬜⬜⬛⬛⬛⬛\n",
      "⬜⬛⬛⬛⬛⬛⬜⬜⬜⬛\n",
      "⬜⬜⬜⬛⬜⬜⬜⬜⬜⬛\n",
      "⬜⬜⬛⬛⬛⬜⬜⬜⬜⬛\n",
      "⬜⬛⬜⬜⬜⬛⬜⬜⬜⬛\n",
      "⬜⬜⬜⬜⬜⬜⬜⬜⬜⬜\n",
      "⬜⬜⬜⬜⬜⬜⬜⬛⬛⬜\n",
      "\n"
     ]
    }
   ],
   "source": [
    "def next_generation():\n",
    "    global grid\n",
    "    new_grid = [[None] * size for _ in range(size)]\n",
    "    for i in range(size):\n",
    "        for j in range(size):\n",
    "            nb_of_neighbours = 0\n",
    "            # \"if i\" will not run if i = 0 i.e. \n",
    "            \n",
    "            # Above left\n",
    "            if i and j and grid[i - 1][j - 1]:\n",
    "                nb_of_neighbours += 1\n",
    "                \n",
    "            # Above\n",
    "            if i and grid[i - 1][j]:\n",
    "                nb_of_neighbours += 1\n",
    "                \n",
    "            # Above right\n",
    "            if i and j < size - 1 and grid[i - 1][j + 1]:\n",
    "                nb_of_neighbours += 1\n",
    "                \n",
    "            # Left\n",
    "            if j and grid[i][j - 1]:\n",
    "                nb_of_neighbours += 1\n",
    "                \n",
    "            # Right\n",
    "            if j < size - 1 and grid[i][j + 1]:\n",
    "                nb_of_neighbours += 1\n",
    "                \n",
    "            # Below left\n",
    "            if i < size - 1 and j and grid[i + 1][j - 1]:\n",
    "                nb_of_neighbours += 1\n",
    "                \n",
    "            # Below\n",
    "            if i < size - 1 and grid[i + 1][j]:\n",
    "                nb_of_neighbours += 1\n",
    "                \n",
    "            # Below right\n",
    "            if i < size - 1 and j < size - 1 and grid[i + 1][j + 1]:\n",
    "                nb_of_neighbours += 1\n",
    "                \n",
    "            new_grid[i][j] = int(grid[i][j] and nb_of_neighbours == 2\n",
    "                                 or nb_of_neighbours == 3\n",
    "                                )\n",
    "    grid = new_grid\n",
    "    \n",
    "next_generation()\n",
    "display_population()\n",
    "print()"
   ]
  },
  {
   "cell_type": "code",
   "execution_count": 128,
   "id": "95d14b5b",
   "metadata": {},
   "outputs": [
    {
     "name": "stdout",
     "output_type": "stream",
     "text": [
      "⬜⬜⬜⬜⬜⬜⬜⬛⬛⬜\n",
      "⬜⬜⬛⬛⬜⬜⬛⬜⬛⬜\n",
      "⬛⬜⬜⬜⬛⬜⬛⬜⬛⬛\n",
      "⬜⬜⬜⬛⬜⬜⬜⬜⬜⬜\n",
      "⬜⬜⬛⬛⬛⬜⬜⬛⬜⬛\n",
      "⬜⬜⬜⬛⬜⬜⬜⬜⬜⬜\n",
      "⬛⬜⬜⬜⬜⬜⬛⬜⬛⬜\n",
      "⬜⬜⬜⬜⬜⬜⬜⬜⬜⬛\n",
      "⬜⬛⬜⬜⬜⬜⬜⬜⬛⬜\n",
      "⬛⬜⬜⬜⬜⬛⬛⬛⬜⬜\n",
      "\n",
      "⬜⬜⬜⬜⬜⬜⬜⬛⬛⬜\n",
      "⬜⬜⬜⬛⬜⬛⬛⬜⬜⬜\n",
      "⬜⬜⬛⬜⬛⬛⬜⬜⬛⬛\n",
      "⬜⬜⬛⬜⬜⬛⬜⬛⬜⬛\n",
      "⬜⬜⬛⬜⬛⬜⬜⬜⬜⬜\n",
      "⬜⬜⬛⬛⬛⬜⬜⬛⬛⬜\n",
      "⬜⬜⬜⬜⬜⬜⬜⬜⬜⬜\n",
      "⬜⬜⬜⬜⬜⬜⬜⬛⬛⬛\n",
      "⬜⬜⬜⬜⬜⬜⬛⬛⬛⬜\n",
      "⬜⬜⬜⬜⬜⬜⬛⬛⬜⬜\n",
      "\n",
      "⬜⬜⬜⬜⬜⬜⬛⬛⬜⬜\n",
      "⬜⬜⬜⬛⬜⬛⬛⬜⬜⬛\n",
      "⬜⬜⬛⬜⬜⬜⬜⬛⬛⬛\n",
      "⬜⬛⬛⬜⬜⬛⬛⬜⬜⬛\n",
      "⬜⬛⬛⬜⬛⬛⬛⬛⬜⬜\n",
      "⬜⬜⬛⬜⬛⬜⬜⬜⬜⬜\n",
      "⬜⬜⬜⬛⬜⬜⬜⬜⬜⬛\n",
      "⬜⬜⬜⬜⬜⬜⬛⬜⬜⬛\n",
      "⬜⬜⬜⬜⬜⬜⬜⬜⬜⬛\n",
      "⬜⬜⬜⬜⬜⬜⬛⬜⬛⬜\n"
     ]
    }
   ],
   "source": [
    "framed_grid = [[0] * (size + 2) for _ in range(size + 2)]\n",
    "for i in range(1, size + 1):\n",
    "    for j in range(1, size + 1):\n",
    "        framed_grid[i][j] = int(random() < density)\n",
    "\n",
    "def display_population_within_frame(grid):\n",
    "    squares = {0: '\\u2b1c', 1: '\\u2b1b'}\n",
    "    for i in range(1, size + 1):\n",
    "        print(''.join(f'{squares[grid[i][j]]}'\n",
    "                              for j in range(1, size + 1)\n",
    "                     )\n",
    "             )\n",
    "        \n",
    "def next_generation_within_frame():\n",
    "    global framed_grid\n",
    "    new_framed_grid = [[0] * (size + 2) for _ in range(size + 2)]\n",
    "    for i in range(1, size + 1):\n",
    "        for j in range(1, size + 1):\n",
    "            nb_of_neighbours = sum((framed_grid[i - 1][j - 1],\n",
    "                                    framed_grid[i - 1][j],\n",
    "                                    framed_grid[i - 1][j + 1],\n",
    "                                    framed_grid[i][j - 1],\n",
    "                                    framed_grid[i][j + 1],\n",
    "                                    framed_grid[i + 1][j - 1],\n",
    "                                    framed_grid[i + 1][j],\n",
    "                                    framed_grid[i + 1][j + 1]\n",
    "                                   )\n",
    "                                  )\n",
    "            new_framed_grid[i][j] = int(framed_grid[i][j]\n",
    "                                        and nb_of_neighbours == 2\n",
    "                                        or nb_of_neighbours == 3\n",
    "                                       )\n",
    "    framed_grid = new_framed_grid\n",
    "\n",
    "display_population_within_frame(framed_grid)\n",
    "print()\n",
    "\n",
    "next_generation_within_frame()\n",
    "display_population_within_frame(framed_grid)\n",
    "print()\n",
    "\n",
    "next_generation_within_frame()\n",
    "display_population_within_frame(framed_grid)"
   ]
  },
  {
   "cell_type": "code",
   "execution_count": 143,
   "id": "6fb4f3a1",
   "metadata": {},
   "outputs": [
    {
     "data": {
      "text/plain": [
       "(array([0, 1, 2, 3, 4, 5, 6, 7]), dtype('int64'), 8, (8,))"
      ]
     },
     "execution_count": 143,
     "metadata": {},
     "output_type": "execute_result"
    }
   ],
   "source": [
    "# 1 dimension\n",
    "L = np.array([0, 1, 2, 3, 4, 5, 6, 7])\n",
    "\n",
    "L, L.dtype, L.size, L.shape"
   ]
  },
  {
   "cell_type": "code",
   "execution_count": 144,
   "id": "f681a8cc",
   "metadata": {},
   "outputs": [
    {
     "data": {
      "text/plain": [
       "array([[0, 1, 2, 3, 4, 5, 6, 7]])"
      ]
     },
     "execution_count": 144,
     "metadata": {},
     "output_type": "execute_result"
    }
   ],
   "source": [
    "L.reshape((1, 8))"
   ]
  },
  {
   "cell_type": "code",
   "execution_count": 153,
   "id": "de1b31b4",
   "metadata": {},
   "outputs": [
    {
     "data": {
      "text/plain": [
       "array([[10],\n",
       "       [ 1],\n",
       "       [ 2],\n",
       "       [ 3],\n",
       "       [ 4],\n",
       "       [ 5],\n",
       "       [ 6],\n",
       "       [ 7]])"
      ]
     },
     "execution_count": 153,
     "metadata": {},
     "output_type": "execute_result"
    }
   ],
   "source": [
    "L.reshape((8, 1))"
   ]
  },
  {
   "cell_type": "code",
   "execution_count": 146,
   "id": "25778f58",
   "metadata": {},
   "outputs": [
    {
     "data": {
      "text/plain": [
       "array([[0, 1, 2, 3],\n",
       "       [4, 5, 6, 7]])"
      ]
     },
     "execution_count": 146,
     "metadata": {},
     "output_type": "execute_result"
    }
   ],
   "source": [
    "L.reshape((2, 4))"
   ]
  },
  {
   "cell_type": "code",
   "execution_count": 147,
   "id": "90792cb0",
   "metadata": {},
   "outputs": [
    {
     "data": {
      "text/plain": [
       "array([[0, 1],\n",
       "       [2, 3],\n",
       "       [4, 5],\n",
       "       [6, 7]])"
      ]
     },
     "execution_count": 147,
     "metadata": {},
     "output_type": "execute_result"
    }
   ],
   "source": [
    "L.reshape((4, 2))"
   ]
  },
  {
   "cell_type": "code",
   "execution_count": 154,
   "id": "f45df480",
   "metadata": {},
   "outputs": [
    {
     "data": {
      "text/plain": [
       "array([[[10,  1],\n",
       "        [ 2,  3]],\n",
       "\n",
       "       [[ 4,  5],\n",
       "        [ 6,  7]]])"
      ]
     },
     "execution_count": 154,
     "metadata": {},
     "output_type": "execute_result"
    }
   ],
   "source": [
    "# Viewed in 3 dimensions.\n",
    "L.reshape((2, 2, 2))"
   ]
  },
  {
   "cell_type": "code",
   "execution_count": 149,
   "id": "ae503b0b",
   "metadata": {},
   "outputs": [
    {
     "data": {
      "text/plain": [
       "array([0, 1, 2, 3, 4, 5, 6, 7])"
      ]
     },
     "execution_count": 149,
     "metadata": {},
     "output_type": "execute_result"
    }
   ],
   "source": [
    "L"
   ]
  },
  {
   "cell_type": "code",
   "execution_count": 150,
   "id": "20452fa0",
   "metadata": {},
   "outputs": [],
   "source": [
    "L.reshape(2, 2, 2)[0, 0, 0] = 10"
   ]
  },
  {
   "cell_type": "code",
   "execution_count": 151,
   "id": "a8478d89",
   "metadata": {},
   "outputs": [
    {
     "data": {
      "text/plain": [
       "array([10,  1,  2,  3,  4,  5,  6,  7])"
      ]
     },
     "execution_count": 151,
     "metadata": {},
     "output_type": "execute_result"
    }
   ],
   "source": [
    "L"
   ]
  },
  {
   "cell_type": "code",
   "execution_count": 155,
   "id": "579f037f",
   "metadata": {},
   "outputs": [
    {
     "data": {
      "text/plain": [
       "array([ 0,  1,  2,  3,  4,  5,  6,  7,  8,  9, 10, 11, 12, 13, 14, 15])"
      ]
     },
     "execution_count": 155,
     "metadata": {},
     "output_type": "execute_result"
    },
    {
     "data": {
      "text/plain": [
       "10"
      ]
     },
     "execution_count": 155,
     "metadata": {},
     "output_type": "execute_result"
    },
    {
     "data": {
      "text/plain": [
       "array([ 8,  9, 10, 11, 12])"
      ]
     },
     "execution_count": 155,
     "metadata": {},
     "output_type": "execute_result"
    }
   ],
   "source": [
    "L = np.array(range(16))\n",
    "\n",
    "L\n",
    "L[10]\n",
    "L[8 : 13]"
   ]
  },
  {
   "cell_type": "code",
   "execution_count": 158,
   "id": "a30c5223",
   "metadata": {},
   "outputs": [
    {
     "data": {
      "text/plain": [
       "array([[ 0,  1,  2,  3,  4,  5,  6,  7],\n",
       "       [ 8,  9, 10, 11, 12, 13, 14, 15]])"
      ]
     },
     "execution_count": 158,
     "metadata": {},
     "output_type": "execute_result"
    },
    {
     "data": {
      "text/plain": [
       "10"
      ]
     },
     "execution_count": 158,
     "metadata": {},
     "output_type": "execute_result"
    },
    {
     "data": {
      "text/plain": [
       "array([ 8,  9, 10, 11, 12, 13, 14, 15])"
      ]
     },
     "execution_count": 158,
     "metadata": {},
     "output_type": "execute_result"
    },
    {
     "data": {
      "text/plain": [
       "array([[ 8,  9, 10, 11, 12, 13, 14, 15]])"
      ]
     },
     "execution_count": 158,
     "metadata": {},
     "output_type": "execute_result"
    },
    {
     "data": {
      "text/plain": [
       "array([ 3, 11])"
      ]
     },
     "execution_count": 158,
     "metadata": {},
     "output_type": "execute_result"
    },
    {
     "data": {
      "text/plain": [
       "array([[ 3],\n",
       "       [11]])"
      ]
     },
     "execution_count": 158,
     "metadata": {},
     "output_type": "execute_result"
    }
   ],
   "source": [
    "L = np.array(range(16)).reshape(2, 8)\n",
    "\n",
    "L\n",
    "L[1, 2]\n",
    "L[1, :]\n",
    "L[1 : 2, :]\n",
    "L[:, 3]\n",
    "L[:, 3 : 4]"
   ]
  },
  {
   "cell_type": "code",
   "execution_count": 159,
   "id": "7954fdd2",
   "metadata": {},
   "outputs": [
    {
     "data": {
      "text/plain": [
       "array([[0., 0.],\n",
       "       [0., 0.]])"
      ]
     },
     "execution_count": 159,
     "metadata": {},
     "output_type": "execute_result"
    },
    {
     "data": {
      "text/plain": [
       "array([[0, 0],\n",
       "       [0, 0]])"
      ]
     },
     "execution_count": 159,
     "metadata": {},
     "output_type": "execute_result"
    }
   ],
   "source": [
    "np.zeros((2, 2))\n",
    "np.zeros((2, 2), int)"
   ]
  },
  {
   "cell_type": "code",
   "execution_count": 175,
   "id": "f65f5763",
   "metadata": {},
   "outputs": [
    {
     "data": {
      "text/plain": [
       "array([[0, 0, 0, 0, 0, 0, 0],\n",
       "       [0, 0, 0, 0, 0, 0, 0],\n",
       "       [0, 0, 1, 1, 1, 0, 0],\n",
       "       [0, 0, 1, 0, 1, 0, 0],\n",
       "       [0, 0, 1, 1, 1, 0, 0],\n",
       "       [0, 0, 0, 0, 0, 0, 0],\n",
       "       [0, 0, 0, 0, 0, 0, 0]])"
      ]
     },
     "execution_count": 175,
     "metadata": {},
     "output_type": "execute_result"
    },
    {
     "data": {
      "text/plain": [
       "array([[0, 0, 0, 0, 0],\n",
       "       [0, 1, 1, 1, 0],\n",
       "       [0, 1, 0, 1, 0],\n",
       "       [0, 1, 1, 1, 0],\n",
       "       [0, 0, 0, 0, 0]])"
      ]
     },
     "execution_count": 175,
     "metadata": {},
     "output_type": "execute_result"
    }
   ],
   "source": [
    "np_framed_grid = np.zeros((7, 7), int)\n",
    "np_framed_grid[2 : 5, 2 : 5] = 1\n",
    "np_framed_grid[3, 3] = 0\n",
    "\n",
    "# A \"framed\" grid\n",
    "np_framed_grid\n",
    "# The \"inside\" of the grid, without the surrounding \"frame\"\n",
    "np_framed_grid[1 : -1, 1 : -1]"
   ]
  },
  {
   "cell_type": "code",
   "execution_count": 195,
   "id": "7482d037",
   "metadata": {},
   "outputs": [],
   "source": [
    "L = np.array(range(49)).reshape((7,7))"
   ]
  },
  {
   "cell_type": "code",
   "execution_count": 196,
   "id": "151aae46",
   "metadata": {},
   "outputs": [
    {
     "data": {
      "text/plain": [
       "array([[ 0,  1,  2,  3,  4,  5,  6],\n",
       "       [ 7,  8,  9, 10, 11, 12, 13],\n",
       "       [14, 15, 16, 17, 18, 19, 20],\n",
       "       [21, 22, 23, 24, 25, 26, 27],\n",
       "       [28, 29, 30, 31, 32, 33, 34],\n",
       "       [35, 36, 37, 38, 39, 40, 41],\n",
       "       [42, 43, 44, 45, 46, 47, 48]])"
      ]
     },
     "execution_count": 196,
     "metadata": {},
     "output_type": "execute_result"
    }
   ],
   "source": [
    "L"
   ]
  },
  {
   "cell_type": "code",
   "execution_count": 197,
   "id": "76e5114e",
   "metadata": {},
   "outputs": [
    {
     "data": {
      "text/plain": [
       "array([[16, 17, 18],\n",
       "       [23, 24, 25],\n",
       "       [30, 31, 32]])"
      ]
     },
     "execution_count": 197,
     "metadata": {},
     "output_type": "execute_result"
    }
   ],
   "source": [
    "L[2:5, 2:5]"
   ]
  },
  {
   "cell_type": "code",
   "execution_count": 198,
   "id": "11413dee",
   "metadata": {},
   "outputs": [
    {
     "data": {
      "text/plain": [
       "array([[ 8,  9, 10, 11, 12],\n",
       "       [15, 16, 17, 18, 19],\n",
       "       [22, 23, 24, 25, 26],\n",
       "       [29, 30, 31, 32, 33],\n",
       "       [36, 37, 38, 39, 40]])"
      ]
     },
     "execution_count": 198,
     "metadata": {},
     "output_type": "execute_result"
    }
   ],
   "source": [
    "L[1:-1, 1:-1]"
   ]
  },
  {
   "cell_type": "code",
   "execution_count": 210,
   "id": "ce022753",
   "metadata": {},
   "outputs": [],
   "source": [
    "# Setting rows\n",
    "L[0:1,:] = 0\n",
    "L[-1:,:] = 0\n",
    "\n",
    "# Setting columns\n",
    "L[:,0:1] = 0\n",
    "L[:,-1:] = 0"
   ]
  },
  {
   "cell_type": "code",
   "execution_count": 211,
   "id": "5a4dddf7",
   "metadata": {},
   "outputs": [
    {
     "data": {
      "text/plain": [
       "array([[ 0,  0,  0,  0,  0,  0,  0],\n",
       "       [ 0,  8,  9, 10, 11, 12,  0],\n",
       "       [ 0, 15, 16, 17, 18, 19,  0],\n",
       "       [ 0, 22, 23, 24, 25, 26,  0],\n",
       "       [ 0, 29, 30, 31, 32, 33,  0],\n",
       "       [ 0, 36, 37, 38, 39, 40,  0],\n",
       "       [ 0,  0,  0,  0,  0,  0,  0]])"
      ]
     },
     "execution_count": 211,
     "metadata": {},
     "output_type": "execute_result"
    }
   ],
   "source": [
    "L"
   ]
  },
  {
   "cell_type": "code",
   "execution_count": 212,
   "id": "c744a7c8",
   "metadata": {},
   "outputs": [
    {
     "data": {
      "text/plain": [
       "array([[0, 0, 0, 0, 0, 0, 0],\n",
       "       [0, 0, 0, 0, 0, 0, 0],\n",
       "       [0, 0, 1, 1, 1, 0, 0],\n",
       "       [0, 0, 1, 0, 1, 0, 0],\n",
       "       [0, 0, 1, 1, 1, 0, 0],\n",
       "       [0, 0, 0, 0, 0, 0, 0],\n",
       "       [0, 0, 0, 0, 0, 0, 0]])"
      ]
     },
     "execution_count": 212,
     "metadata": {},
     "output_type": "execute_result"
    },
    {
     "data": {
      "text/plain": [
       "array([[0, 0, 0, 0, 0],\n",
       "       [0, 1, 1, 1, 0],\n",
       "       [0, 1, 0, 1, 0],\n",
       "       [0, 1, 1, 1, 0],\n",
       "       [0, 0, 0, 0, 0]])"
      ]
     },
     "execution_count": 212,
     "metadata": {},
     "output_type": "execute_result"
    }
   ],
   "source": [
    "np_framed_grid = np.zeros((7, 7), int)\n",
    "np_framed_grid[2 : 5, 2 : 5] = 1\n",
    "np_framed_grid[3, 3] = 0\n",
    "\n",
    "# A \"framed\" grid\n",
    "np_framed_grid\n",
    "# The \"inside\" of the grid, without the surrounding \"frame\"\n",
    "np_framed_grid[1 : -1, 1 : -1]"
   ]
  },
  {
   "cell_type": "code",
   "execution_count": 213,
   "id": "f6aab164",
   "metadata": {},
   "outputs": [],
   "source": [
    "np_above_left = np_framed_grid[: -2, : -2]\n",
    "np_left = np_framed_grid[1 : -1, : -2]\n",
    "np_below_left = np_framed_grid[2 :, : -2]\n",
    "\n",
    "np_above = np_framed_grid[: -2, 1 : -1]\n",
    "np_below = np_framed_grid[2 :, 1 : -1]\n",
    "\n",
    "np_above_right = np_framed_grid[: -2, 2 :]\n",
    "np_right = np_framed_grid[1 : -1, 2 :]\n",
    "np_below_right = np_framed_grid[2 :, 2 :]"
   ]
  },
  {
   "cell_type": "code",
   "execution_count": 214,
   "id": "d79c5734",
   "metadata": {},
   "outputs": [
    {
     "data": {
      "text/plain": [
       "array([[1, 2, 3, 2, 1],\n",
       "       [2, 2, 4, 2, 2],\n",
       "       [3, 4, 8, 4, 3],\n",
       "       [2, 2, 4, 2, 2],\n",
       "       [1, 2, 3, 2, 1]])"
      ]
     },
     "execution_count": 214,
     "metadata": {},
     "output_type": "execute_result"
    }
   ],
   "source": [
    "np_above_left + np_left + np_below_left + np_above + np_below + np_above_right\\\n",
    "+ np_right + np_below_right"
   ]
  },
  {
   "cell_type": "code",
   "execution_count": 226,
   "id": "55e087d4",
   "metadata": {},
   "outputs": [
    {
     "data": {
      "text/plain": [
       "array([[0, 0],\n",
       "       [1, 2]])"
      ]
     },
     "execution_count": 226,
     "metadata": {},
     "output_type": "execute_result"
    }
   ],
   "source": [
    "A = np.array((0, 0, 1, 2)).reshape(2, 2)\n",
    "B = np.array((True, False, True, False)).reshape(2, 2)\n",
    "\n",
    "A"
   ]
  },
  {
   "cell_type": "code",
   "execution_count": 232,
   "id": "c394ca0b",
   "metadata": {},
   "outputs": [
    {
     "data": {
      "text/plain": [
       "array([[1, 0],\n",
       "       [1, 0]])"
      ]
     },
     "execution_count": 232,
     "metadata": {},
     "output_type": "execute_result"
    }
   ],
   "source": [
    "B.astype(int)"
   ]
  },
  {
   "cell_type": "code",
   "execution_count": 233,
   "id": "a451d1c0",
   "metadata": {
    "scrolled": true
   },
   "outputs": [
    {
     "data": {
      "text/plain": [
       "array([[1, 0],\n",
       "       [1, 1]])"
      ]
     },
     "execution_count": 233,
     "metadata": {},
     "output_type": "execute_result"
    }
   ],
   "source": [
    "np.logical_or(A, B).astype(int)"
   ]
  },
  {
   "cell_type": "code",
   "execution_count": 234,
   "id": "807c2557",
   "metadata": {},
   "outputs": [
    {
     "data": {
      "text/plain": [
       "array([[0, 0],\n",
       "       [1, 0]])"
      ]
     },
     "execution_count": 234,
     "metadata": {},
     "output_type": "execute_result"
    }
   ],
   "source": [
    "np.logical_and(A, B).astype(int)"
   ]
  },
  {
   "cell_type": "code",
   "execution_count": 255,
   "id": "3aa62987",
   "metadata": {},
   "outputs": [
    {
     "name": "stdout",
     "output_type": "stream",
     "text": [
      "[[0 0 0 0 0 0 0 0 0 0 0 0]\n",
      " [0 0 0 0 0 0 0 1 0 0 0 0]\n",
      " [0 1 0 0 0 0 0 1 0 1 0 0]\n",
      " [0 1 1 0 1 0 1 0 0 1 0 0]\n",
      " [0 0 0 0 0 0 0 0 0 0 1 0]\n",
      " [0 0 0 1 0 0 0 0 0 0 0 0]\n",
      " [0 1 0 0 0 0 0 0 0 0 1 0]\n",
      " [0 0 0 0 0 0 0 0 0 0 0 0]\n",
      " [0 0 0 0 0 0 1 0 0 0 0 0]\n",
      " [0 1 0 0 0 0 1 0 0 0 0 0]\n",
      " [0 0 0 0 1 0 1 0 0 0 1 0]\n",
      " [0 0 0 0 0 0 0 0 0 0 0 0]]\n",
      "⬜⬜⬜⬜⬜⬜⬛⬜⬜⬜\n",
      "⬛⬜⬜⬜⬜⬜⬛⬜⬛⬜\n",
      "⬛⬛⬜⬛⬜⬛⬜⬜⬛⬜\n",
      "⬜⬜⬜⬜⬜⬜⬜⬜⬜⬛\n",
      "⬜⬜⬛⬜⬜⬜⬜⬜⬜⬜\n",
      "⬛⬜⬜⬜⬜⬜⬜⬜⬜⬛\n",
      "⬜⬜⬜⬜⬜⬜⬜⬜⬜⬜\n",
      "⬜⬜⬜⬜⬜⬛⬜⬜⬜⬜\n",
      "⬛⬜⬜⬜⬜⬛⬜⬜⬜⬜\n",
      "⬜⬜⬜⬛⬜⬛⬜⬜⬜⬛\n",
      "\n",
      "⬜⬜⬜⬜⬜⬜⬜⬛⬜⬜\n",
      "⬛⬛⬜⬜⬜⬛⬛⬜⬜⬜\n",
      "⬛⬛⬜⬜⬜⬜⬜⬛⬛⬛\n",
      "⬜⬛⬛⬜⬜⬜⬜⬜⬜⬜\n",
      "⬜⬜⬜⬜⬜⬜⬜⬜⬜⬜\n",
      "⬜⬜⬜⬜⬜⬜⬜⬜⬜⬜\n",
      "⬜⬜⬜⬜⬜⬜⬜⬜⬜⬜\n",
      "⬜⬜⬜⬜⬜⬜⬜⬜⬜⬜\n",
      "⬜⬜⬜⬜⬜⬛⬛⬜⬜⬜\n",
      "⬜⬜⬜⬜⬛⬜⬜⬜⬜⬜\n",
      "\n",
      "⬜⬜⬜⬜⬜⬜⬛⬜⬜⬜\n",
      "⬛⬛⬜⬜⬜⬜⬛⬜⬜⬜\n",
      "⬜⬜⬜⬜⬜⬜⬛⬛⬛⬜\n",
      "⬛⬛⬛⬜⬜⬜⬜⬜⬛⬜\n",
      "⬜⬜⬜⬜⬜⬜⬜⬜⬜⬜\n",
      "⬜⬜⬜⬜⬜⬜⬜⬜⬜⬜\n",
      "⬜⬜⬜⬜⬜⬜⬜⬜⬜⬜\n",
      "⬜⬜⬜⬜⬜⬜⬜⬜⬜⬜\n",
      "⬜⬜⬜⬜⬜⬛⬜⬜⬜⬜\n",
      "⬜⬜⬜⬜⬜⬛⬜⬜⬜⬜\n"
     ]
    }
   ],
   "source": [
    "np_framed_grid = np.zeros((size + 2, size + 2), int)\n",
    "for i in range(1, size + 1):\n",
    "    for j in range(1, size + 1):\n",
    "        np_framed_grid[i, j] = int(random() < density)\n",
    "\n",
    "print(np_framed_grid)\n",
    "        \n",
    "display_population_within_frame(np_framed_grid)\n",
    "print()\n",
    "        \n",
    "def np_next_generation_within_frame():\n",
    "    global np_framed_grid\n",
    "    number_of_neighbours = np.zeros((size + 2, size + 2))\n",
    "    number_of_neighbours[1 : -1, 1 : -1]\\\n",
    "            = np_framed_grid[  : -2,   : -2]\\\n",
    "            + np_framed_grid[  : -2, 1 : -1]\\\n",
    "            + np_framed_grid[  : -2, 2 :   ]\\\n",
    "            + np_framed_grid[1 : -1,   : -2]\\\n",
    "            + np_framed_grid[1 : -1, 2 :   ]\\\n",
    "            + np_framed_grid[2 :   ,   : -2]\\\n",
    "            + np_framed_grid[2 :   , 1 : -1]\\\n",
    "            + np_framed_grid[2 :   , 2 :   ]\n",
    "    \n",
    "    np_framed_grid = np.logical_or(np.logical_and(np_framed_grid == 1,\n",
    "                                                  number_of_neighbours == 2\n",
    "                                                 ), number_of_neighbours == 3\n",
    "                                  ).astype(int)\n",
    "\n",
    "\n",
    "np_next_generation_within_frame()\n",
    "display_population_within_frame(np_framed_grid)\n",
    "print()\n",
    "\n",
    "np_next_generation_within_frame()\n",
    "display_population_within_frame(np_framed_grid)"
   ]
  },
  {
   "cell_type": "code",
   "execution_count": 236,
   "id": "757fea0b",
   "metadata": {},
   "outputs": [
    {
     "name": "stdout",
     "output_type": "stream",
     "text": [
      "10\n"
     ]
    }
   ],
   "source": [
    "print(size)"
   ]
  },
  {
   "cell_type": "code",
   "execution_count": null,
   "id": "f54668c9",
   "metadata": {},
   "outputs": [],
   "source": [
    "np_framed_grid = np.zeros((size + 2, size + 2), int)\n",
    "for i in range(1, size + 1):\n",
    "    for j in range(1, size + 1):\n",
    "        np_framed_grid[i, j] = int(random() < density)\n",
    "        \n",
    "display_population_within_frame(np_framed_grid)\n",
    "print()\n",
    "        \n",
    "def np_next_generation_within_frame():\n",
    "    global np_framed_grid\n",
    "    number_of_neighbours = np.zeros((size + 2, size + 2))\n",
    "    number_of_neighbours[1 : -1, 1 : -1]\\\n",
    "            = np_framed_grid[  : -2,   : -2]\\# above left\n",
    "            + np_framed_grid[  : -2, 1 : -1]\\# above\n",
    "            + np_framed_grid[  : -2, 2 :   ]\\# above right    \n",
    "            + np_framed_grid[1 : -1,   : -2]\\# left\n",
    "            + np_framed_grid[1 : -1, 2 :   ]\\# right\n",
    "            + np_framed_grid[2 :   ,   : -2]\\# below left\n",
    "            + np_framed_grid[2 :   , 1 : -1]\\# below\n",
    "            + np_framed_grid[2 :   , 2 :   ]# below right\n",
    "    \n",
    "    np_framed_grid = np.logical_or(np.logical_and(np_framed_grid == 1,\n",
    "                                                  number_of_neighbours == 2\n",
    "                                                 ), number_of_neighbours == 3\n",
    "                                  ).astype(int)\n",
    "\n",
    "\n",
    "np_next_generation_within_frame()\n",
    "display_population_within_frame(np_framed_grid)\n",
    "print()\n",
    "\n",
    "np_next_generation_within_frame()\n",
    "display_population_within_frame(np_framed_grid)"
   ]
  },
  {
   "cell_type": "code",
   "execution_count": 262,
   "id": "e423f480",
   "metadata": {},
   "outputs": [
    {
     "name": "stdout",
     "output_type": "stream",
     "text": [
      "#N Gosper glider gun\n",
      "\n",
      "#O Bill Gosper\n",
      "\n",
      "#C A true period 30 glider gun.\n",
      "\n",
      "#C The first known gun and the first known finite pattern with unbounded growth.\n",
      "\n",
      "#C www.conwaylife.com/wiki/index.php?title=Gosper_glider_gun\n",
      "\n",
      "x = 36, y = 9, rule = B3/S23\n",
      "\n",
      "24bo11b$22bobo11b$12b2o6b2o12b2o$11bo3bo4b2o12b2o$2o8bo5bo3b2o14b$2o8b\n",
      "\n",
      "o3bob2o4bobo11b$10bo5bo7bo11b$11bo3bo20b$12b2o!\n"
     ]
    }
   ],
   "source": [
    "with open('gosperglidergun.rle') as file:\n",
    "    for line in file:\n",
    "        print(line)"
   ]
  },
  {
   "cell_type": "code",
   "execution_count": 263,
   "id": "ce2cc5b5",
   "metadata": {},
   "outputs": [
    {
     "data": {
      "text/plain": [
       "['24bo11b',\n",
       " '22bobo11b',\n",
       " '12b2o6b2o12b2o',\n",
       " '11bo3bo4b2o12b2o',\n",
       " '2o8bo5bo3b2o14b',\n",
       " '2o8bo3bob2o4bobo11b',\n",
       " '10bo5bo7bo11b',\n",
       " '11bo3bo20b',\n",
       " '12b2o']"
      ]
     },
     "execution_count": 263,
     "metadata": {},
     "output_type": "execute_result"
    }
   ],
   "source": [
    "# 1.0 We read the file input and extract a list of all of the inputs (separated by '$')\n",
    "with open('gosperglidergun.rle') as file:\n",
    "    for line in file:\n",
    "        if line.startswith('#'):\n",
    "            continue\n",
    "        x, y = (int(e) for e in re.search('(\\d+)[^\\d]*(\\d+)', line).groups())\n",
    "        break\n",
    "    lines = ''.join(line.strip() for line in file)[: -1].split('$')\n",
    "\n",
    "lines"
   ]
  },
  {
   "cell_type": "code",
   "execution_count": 294,
   "id": "f2967350",
   "metadata": {},
   "outputs": [],
   "source": [
    "# Setting some configs for our script\n",
    "max_nb_of_iterations = 1_000\n"
   ]
  },
  {
   "cell_type": "code",
   "execution_count": 283,
   "id": "7e2172f6",
   "metadata": {},
   "outputs": [
    {
     "data": {
      "text/plain": [
       "180"
      ]
     },
     "execution_count": 283,
     "metadata": {},
     "output_type": "execute_result"
    },
    {
     "data": {
      "text/plain": [
       "(9, 36)"
      ]
     },
     "execution_count": 283,
     "metadata": {},
     "output_type": "execute_result"
    },
    {
     "data": {
      "text/plain": [
       "(85, 72)"
      ]
     },
     "execution_count": 283,
     "metadata": {},
     "output_type": "execute_result"
    }
   ],
   "source": [
    "# We set some parameters such that we can account for elements spreading out of the boundary we have specified \n",
    "# We specify two points: i and j to be the starting points (0, 0) for our game of life\n",
    "pattern_size_multiplier = 5\n",
    "size = max(x, y) * pattern_size_multiplier\n",
    "size\n",
    "i, j = (size-y) // 2, (size-x) // 2\n",
    "y, x\n",
    "i, j"
   ]
  },
  {
   "cell_type": "code",
   "execution_count": 285,
   "id": "4437156f",
   "metadata": {},
   "outputs": [
    {
     "name": "stdout",
     "output_type": "stream",
     "text": [
      "\n",
      "50\n",
      "b\n",
      "2b50\n",
      "o50\n",
      "2o\n",
      "b2o5bob8o10b\n",
      "2o5b8obo11b13o50\n"
     ]
    }
   ],
   "source": [
    "lines = ['', '50', 'b', '2b50', 'o50', '2o', 'b2o5bob8o10b', '2o5b8obo11b13o50']\n",
    "for line in lines:\n",
    "    print(line)"
   ]
  },
  {
   "cell_type": "code",
   "execution_count": 272,
   "id": "1155ca39",
   "metadata": {},
   "outputs": [],
   "source": [
    "i = 0\n",
    "j = 0"
   ]
  },
  {
   "cell_type": "code",
   "execution_count": 274,
   "id": "01e54bcf",
   "metadata": {},
   "outputs": [
    {
     "name": "stdout",
     "output_type": "stream",
     "text": [
      "\n",
      "Case 0: line is empty\n",
      "Make i equal to 1\n",
      "\n",
      "Case 1: line is 50\n",
      "Make i equal to  51\n",
      "\n",
      "Case 2: line is b\n",
      "line becomes b\n",
      "\tCase 2.2: make i equal to 52\n",
      "\tAfter splitting with \"b\", line becomes: ['', '']\n",
      "\t\tCase II.2: run_spans initialised to: [1]\n",
      "\t\tline becomes ['']\n",
      "\t\tEmpty string, not processed\n",
      "\n",
      "Case 2: line is 2b50\n",
      "line becomes 2b\n",
      "\tCase 2.1: make i equal to 102\n",
      "\tAfter splitting with \"b\", line becomes: ['2', '']\n",
      "\t\tCase II.1: run_spans initialised to: [2]\n",
      "\t\tline becomes ['']\n",
      "\t\tEmpty string, not processed\n",
      "\n",
      "Case 2: line is o50\n",
      "line becomes o\n",
      "\tCase 2.1: make i equal to 152\n",
      "\tAfter splitting with \"b\", line becomes: ['o']\n",
      "\t\tCase I: run_spans initialised to: [0]\n",
      "\t\tProcessing o split with \"o\" to ['', '']\n",
      "\t\t\tCase β, run_spans becomes: [0, 1]\n",
      "\t\t\tCase β, run_spans becomes: [0, 1, 2]\n",
      "\n",
      "Case 2: line is 2o\n",
      "line becomes 2o\n",
      "\tCase 2.2: make i equal to 153\n",
      "\tAfter splitting with \"b\", line becomes: ['2o']\n",
      "\t\tCase I: run_spans initialised to: [0]\n",
      "\t\tProcessing 2o split with \"o\" to ['2', '']\n",
      "\t\t\tCase α, run_spans becomes: [0, 2]\n",
      "\t\t\tCase β, run_spans becomes: [0, 2, 3]\n",
      "\n",
      "Case 2: line is b2o5bob8o10b\n",
      "line becomes b2o5bob8o10b\n",
      "\tCase 2.2: make i equal to 154\n",
      "\tAfter splitting with \"b\", line becomes: ['', '2o5', 'o', '8o10', '']\n",
      "\t\tCase II.2: run_spans initialised to: [1]\n",
      "\t\tline becomes ['2o5', 'o', '8o10', '']\n",
      "\t\tProcessing 2o5 split with \"o\" to ['2', '5']\n",
      "\t\t\tCase α, run_spans becomes: [1, 3]\n",
      "\t\t\tCase α, run_spans becomes: [1, 3, 8]\n",
      "\t\tProcessing o split with \"o\" to ['', '']\n",
      "\t\t\tCase β, run_spans becomes: [1, 3, 8, 9]\n",
      "\t\t\tCase β, run_spans becomes: [1, 3, 8, 9, 10]\n",
      "\t\tProcessing 8o10 split with \"o\" to ['8', '10']\n",
      "\t\t\tCase α, run_spans becomes: [1, 3, 8, 9, 10, 18]\n",
      "\t\t\tCase α, run_spans becomes: [1, 3, 8, 9, 10, 18, 28]\n",
      "\t\tEmpty string, not processed\n",
      "\n",
      "Case 2: line is 2o5b8obo11b13o50\n",
      "line becomes 2o5b8obo11b13o\n",
      "\tCase 2.1: make i equal to 204\n",
      "\tAfter splitting with \"b\", line becomes: ['2o5', '8o', 'o11', '13o']\n",
      "\t\tCase I: run_spans initialised to: [0]\n",
      "\t\tProcessing 2o5 split with \"o\" to ['2', '5']\n",
      "\t\t\tCase α, run_spans becomes: [0, 2]\n",
      "\t\t\tCase α, run_spans becomes: [0, 2, 7]\n",
      "\t\tProcessing 8o split with \"o\" to ['8', '']\n",
      "\t\t\tCase α, run_spans becomes: [0, 2, 7, 15]\n",
      "\t\t\tCase β, run_spans becomes: [0, 2, 7, 15, 16]\n",
      "\t\tProcessing o11 split with \"o\" to ['', '11']\n",
      "\t\t\tCase β, run_spans becomes: [0, 2, 7, 15, 16, 17]\n",
      "\t\t\tCase α, run_spans becomes: [0, 2, 7, 15, 16, 17, 28]\n",
      "\t\tProcessing 13o split with \"o\" to ['13', '']\n",
      "\t\t\tCase α, run_spans becomes: [0, 2, 7, 15, 16, 17, 28, 41]\n",
      "\t\t\tCase β, run_spans becomes: [0, 2, 7, 15, 16, 17, 28, 41, 42]\n"
     ]
    }
   ],
   "source": [
    "lines = '', '50', 'b', '2b50', 'o50', '2o', 'b2o5bob8o10b', '2o5b8obo11b13o50'\n",
    "i, j = 0, 0\n",
    "\n",
    "for line in lines:\n",
    "    print()\n",
    "    if not line:\n",
    "        print('Case 0: line is empty')\n",
    "        i += 1\n",
    "        print('Make i equal to', i)\n",
    "        continue\n",
    "    if line.isdigit():\n",
    "        print('Case 1: line is', line)\n",
    "        i += int(line)\n",
    "        print('Make i equal to ', i)\n",
    "        continue\n",
    "    print('Case 2: line is', line)\n",
    "    line, nb_of_new_lines = re.match('(.*[^\\d])(\\d*)', line).groups()\n",
    "    print('line becomes', line)\n",
    "    try:\n",
    "        i += int(nb_of_new_lines)\n",
    "        print('\\tCase 2.1: make i equal to', i)\n",
    "    except ValueError:\n",
    "        i += 1\n",
    "        print('\\tCase 2.2: make i equal to', i)\n",
    "    line = line.split('b')\n",
    "    print('\\tAfter splitting with \"b\", line becomes:', line)\n",
    "    if line[0].find('o') >= 0:\n",
    "        run_spans = [j]           \n",
    "        print('\\t\\tCase I: run_spans initialised to:', run_spans)\n",
    "    else:\n",
    "        try:\n",
    "            run_spans = [j + int(line.pop(0))]\n",
    "            print('\\t\\tCase II.1: run_spans initialised to:', run_spans)\n",
    "            print('\\t\\tline becomes', line)\n",
    "        except ValueError:\n",
    "            run_spans = [j + 1]                \n",
    "            print('\\t\\tCase II.2: run_spans initialised to:', run_spans)\n",
    "            print('\\t\\tline becomes', line)\n",
    "    for e in line:\n",
    "        if not e:\n",
    "            print('\\t\\tEmpty string, not processed')\n",
    "            break\n",
    "        print('\\t\\tProcessing', e, 'split with \"o\" to', e.split('o'))\n",
    "        for run_span in e.split('o'):\n",
    "            try:\n",
    "                run_spans.append(run_spans[-1] + int(run_span))\n",
    "                print('\\t\\t\\tCase α, run_spans becomes:', run_spans)\n",
    "            except ValueError:\n",
    "                run_spans.append(run_spans[-1] + 1)\n",
    "                print('\\t\\t\\tCase β, run_spans becomes:', run_spans)"
   ]
  },
  {
   "cell_type": "code",
   "execution_count": 286,
   "id": "31713f33",
   "metadata": {},
   "outputs": [
    {
     "name": "stdout",
     "output_type": "stream",
     "text": [
      "[[0 0 0 0 0 0 0 0 0 0 0 0 0 0 0 0 0 0 0 0 0 0 0 0 1 0 0 0 0 0 0 0 0 0 0 0]\n",
      " [0 0 0 0 0 0 0 0 0 0 0 0 0 0 0 0 0 0 0 0 0 0 1 0 1 0 0 0 0 0 0 0 0 0 0 0]\n",
      " [0 0 0 0 0 0 0 0 0 0 0 0 1 1 0 0 0 0 0 0 1 1 0 0 0 0 0 0 0 0 0 0 0 0 1 1]\n",
      " [0 0 0 0 0 0 0 0 0 0 0 1 0 0 0 1 0 0 0 0 1 1 0 0 0 0 0 0 0 0 0 0 0 0 1 1]\n",
      " [1 1 0 0 0 0 0 0 0 0 1 0 0 0 0 0 1 0 0 0 1 1 0 0 0 0 0 0 0 0 0 0 0 0 0 0]\n",
      " [1 1 0 0 0 0 0 0 0 0 1 0 0 0 1 0 1 1 0 0 0 0 1 0 1 0 0 0 0 0 0 0 0 0 0 0]\n",
      " [0 0 0 0 0 0 0 0 0 0 1 0 0 0 0 0 1 0 0 0 0 0 0 0 1 0 0 0 0 0 0 0 0 0 0 0]\n",
      " [0 0 0 0 0 0 0 0 0 0 0 1 0 0 0 1 0 0 0 0 0 0 0 0 0 0 0 0 0 0 0 0 0 0 0 0]\n",
      " [0 0 0 0 0 0 0 0 0 0 0 0 1 1 0 0 0 0 0 0 0 0 0 0 0 0 0 0 0 0 0 0 0 0 0 0]]\n"
     ]
    }
   ],
   "source": [
    "with open('gosperglidergun.rle') as file:\n",
    "    for line in file:\n",
    "        if line.startswith('#'):\n",
    "            continue\n",
    "        x, y = (int(e) for e in re.search('(\\d+)[^\\d]*(\\d+)', line).groups())\n",
    "        break\n",
    "    lines = ''.join(line.strip() for line in file)[: -1].split('$')\n",
    "size = max(x, y) * pattern_size_multiplier\n",
    "grid = np.zeros((size, size), int)\n",
    "i, j = (size - y) // 2, (size - x) // 2\n",
    "for line in lines:\n",
    "    if not line:\n",
    "        i += 1\n",
    "        continue\n",
    "    if line.isdigit():\n",
    "        i += int(line)\n",
    "        continue\n",
    "    line, nb_of_new_lines = re.match('(.*[^\\d])(\\d*)', line).groups()\n",
    "    line = line.split('b')\n",
    "    if line[0].find('o') >= 0:\n",
    "        run_lengths = [j]           \n",
    "    else:\n",
    "        try:\n",
    "            run_lengths = [j + int(line.pop(0))]\n",
    "        except ValueError:\n",
    "            run_lengths = [j + 1]                \n",
    "    for e in line:\n",
    "        if not e:\n",
    "            break\n",
    "        for run_length in e.split('o'):\n",
    "            try:\n",
    "                run_lengths.append(run_lengths[-1] + int(run_length))\n",
    "            except ValueError:\n",
    "                run_lengths.append(run_lengths[-1] + 1)\n",
    "    for n in range(len(run_lengths) // 2):\n",
    "        grid[i, run_lengths[2 * n] : run_lengths[2 * n + 1]] = 1\n",
    "    try:\n",
    "        i += int(nb_of_new_lines)\n",
    "    except ValueError:\n",
    "        i += 1\n",
    "print(grid[i - y : i, j : j + x])"
   ]
  },
  {
   "cell_type": "code",
   "execution_count": 287,
   "id": "c47ba4b8",
   "metadata": {},
   "outputs": [],
   "source": [
    "animation_intervals = 20"
   ]
  },
  {
   "cell_type": "code",
   "execution_count": 288,
   "id": "94057150",
   "metadata": {},
   "outputs": [
    {
     "data": {
      "image/png": "[encoded data removed]",
      "text/plain": [
       "<Figure size 1920x1920 with 1 Axes>"
      ]
     },
     "metadata": {},
     "output_type": "display_data"
    }
   ],
   "source": [
    "figure_size = 10, 10\n",
    "figure = plt.figure(figsize=figure_size, dpi=192)\n",
    "plt.xticks([])\n",
    "plt.yticks([])\n",
    "population_state = plt.imshow(grid)\n",
    "current_iteration = plt.text(5, -5, '', c='red');"
   ]
  },
  {
   "cell_type": "code",
   "execution_count": 289,
   "id": "94b82124",
   "metadata": {},
   "outputs": [],
   "source": [
    "def evolve(i):\n",
    "    global grid\n",
    "    number_of_neighbours = np.zeros(grid.shape)\n",
    "    number_of_neighbours[1 : -1, 1 : -1] =\\\n",
    "            grid[: -2, : -2] + grid[: -2, 1 : -1] + grid[: -2, 2 :]\\\n",
    "            + grid[1 : -1, : -2] + grid[1 : -1, 2 :]\\\n",
    "            + grid[2 :, : -2]   + grid[2 :, 1 : -1]  + grid[2 :, 2 :]\n",
    "    grid = np.logical_or(np.logical_and(grid == 1, number_of_neighbours == 2\n",
    "                                       ), number_of_neighbours == 3\n",
    "                        ).astype(int)\n",
    "    population_state.set_data(grid)\n",
    "    current_iteration.set_text(f'Iteration: {str(i)}')\n",
    "    return population_state, current_iteration"
   ]
  },
  {
   "cell_type": "code",
   "execution_count": 290,
   "id": "11f7b1d2",
   "metadata": {},
   "outputs": [
    {
     "data": {
      "text/plain": [
       "[0, 1, 2, 3]"
      ]
     },
     "execution_count": 290,
     "metadata": {},
     "output_type": "execute_result"
    },
    {
     "data": {
      "text/plain": [
       "[10, 11, 12, 13]"
      ]
     },
     "execution_count": 290,
     "metadata": {},
     "output_type": "execute_result"
    }
   ],
   "source": [
    "def test_count(start=None):\n",
    "    if start is None:\n",
    "        for i in count():\n",
    "            if i > 3:\n",
    "                return\n",
    "            yield i\n",
    "    else:\n",
    "        for i in count(start):\n",
    "            if i > start + 3:\n",
    "                return\n",
    "            yield i\n",
    "\n",
    "list(test_count())\n",
    "list(test_count(10))"
   ]
  },
  {
   "cell_type": "code",
   "execution_count": 291,
   "id": "00f2903d",
   "metadata": {},
   "outputs": [],
   "source": [
    "def keep_going_or_stop():\n",
    "    for i in count():\n",
    "        if any(grid[1, 1 : -1]) or any(grid[-2, 1 : -1])\\\n",
    "           or any(grid[1 : -1, 1]) or any(grid[1 : -1, -2]):\n",
    "            return\n",
    "        yield i"
   ]
  },
  {
   "cell_type": "code",
   "execution_count": 295,
   "id": "b3002e1d",
   "metadata": {},
   "outputs": [],
   "source": [
    "evolution = animation.FuncAnimation(figure, evolve, frames=keep_going_or_stop,\n",
    "                                    interval=animation_intervals,\n",
    "                                    save_count=max_nb_of_iterations\n",
    "                                   )"
   ]
  },
  {
   "cell_type": "code",
   "execution_count": null,
   "id": "f8830dd0",
   "metadata": {},
   "outputs": [],
   "source": [
    "evolution.save('gosperglidergun.mp4')"
   ]
  },
  {
   "cell_type": "code",
   "execution_count": 297,
   "id": "230d7791",
   "metadata": {},
   "outputs": [
    {
     "data": {
      "text/plain": [
       "'gosperglidergun'"
      ]
     },
     "execution_count": 297,
     "metadata": {},
     "output_type": "execute_result"
    },
    {
     "data": {
      "text/plain": [
       "'gosperglidergun.mp4'"
      ]
     },
     "execution_count": 297,
     "metadata": {},
     "output_type": "execute_result"
    }
   ],
   "source": [
    "re.sub('\\..*', '', 'gosperglidergun.rle')\n",
    "re.sub('\\..*', '.mp4', 'gosperglidergun.rle')"
   ]
  },
  {
   "cell_type": "code",
   "execution_count": 298,
   "id": "f2e0ef8d",
   "metadata": {},
   "outputs": [
    {
     "name": "stdout",
     "output_type": "stream",
     "text": [
      "Files whose name starts with \"my_rle_file\":\n",
      "my_rle_file.rle\n",
      "\n",
      "Files whose name starts with \"my_rle_file\":\n",
      "my_rle_file.mp4  my_rle_file.rle\n",
      "\n",
      "Files whose name starts with \"my_rle_file\":\n",
      "my_rle_file.mp4    my_rle_file.rle    my_rle_file_1.mp4\n",
      "\n",
      "Files whose name starts with \"my_rle_file\":\n",
      "my_rle_file.mp4    my_rle_file.rle    my_rle_file_1.mp4  my_rle_file_2.mp4\n",
      "\n",
      "Files whose name starts with \"my_rle_file\":\n"
     ]
    }
   ],
   "source": [
    "def create_mp4_file(rle_filename):\n",
    "    filename = re.sub('\\..*', '', rle_filename)\n",
    "    if os.path.isfile(filename + '.mp4'):\n",
    "        for i in count(1):\n",
    "            mp4_filename = ''.join((filename, '_', str(i), '.mp4'))\n",
    "            if not os.path.isfile(mp4_filename):\n",
    "                break\n",
    "    else:\n",
    "        mp4_filename = filename + '.mp4'\n",
    "    os.system(f'touch {mp4_filename}')\n",
    "        \n",
    "os.system('touch my_rle_file.rle')\n",
    "print('Files whose name starts with \"my_rle_file\":')\n",
    "%ls my_rle_file*\n",
    "for _ in range(3):\n",
    "    create_mp4_file('my_rle_file.rle')\n",
    "    print('\\nFiles whose name starts with \"my_rle_file\":')\n",
    "    %ls my_rle_file*\n",
    "%rm my_rle_file*\n",
    "print('\\nFiles whose name starts with \"my_rle_file\":');"
   ]
  },
  {
   "cell_type": "code",
   "execution_count": 299,
   "id": "bc2b55be",
   "metadata": {},
   "outputs": [
    {
     "data": {
      "text/plain": [
       "ArgumentParser(prog='ipykernel_launcher.py', usage=None, description=None, formatter_class=<class 'argparse.HelpFormatter'>, conflict_handler='error', add_help=True)"
      ]
     },
     "execution_count": 299,
     "metadata": {},
     "output_type": "execute_result"
    }
   ],
   "source": [
    "parser = ArgumentParser()\n",
    "\n",
    "parser"
   ]
  },
  {
   "cell_type": "code",
   "execution_count": 300,
   "id": "037a76d5",
   "metadata": {},
   "outputs": [
    {
     "data": {
      "text/plain": [
       "_StoreAction(option_strings=['--rle_filename'], dest='rle_filename', nargs=None, const=None, default=None, type=None, choices=None, required=True, help=None, metavar=None)"
      ]
     },
     "execution_count": 300,
     "metadata": {},
     "output_type": "execute_result"
    }
   ],
   "source": [
    "parser.add_argument('--rle_filename', dest='rle_filename', required=True)"
   ]
  },
  {
   "cell_type": "code",
   "execution_count": 301,
   "id": "b2c186b0",
   "metadata": {},
   "outputs": [
    {
     "data": {
      "text/plain": [
       "_StoreAction(option_strings=['--figure_size'], dest='figure_size', nargs=2, const=None, default=(10, 10), type=<class 'int'>, choices=None, required=False, help=None, metavar=None)"
      ]
     },
     "execution_count": 301,
     "metadata": {},
     "output_type": "execute_result"
    },
    {
     "data": {
      "text/plain": [
       "_StoreAction(option_strings=['--pattern_size_multiplier'], dest='pattern_size_multiplier', nargs=None, const=None, default=None, type=None, choices=None, required=False, help=None, metavar=None)"
      ]
     },
     "execution_count": 301,
     "metadata": {},
     "output_type": "execute_result"
    },
    {
     "data": {
      "text/plain": [
       "_StoreAction(option_strings=['--max_nb_of_iterations'], dest='max_nb_of_iterations', nargs=None, const=None, default=1000, type=<class 'int'>, choices=None, required=False, help=None, metavar=None)"
      ]
     },
     "execution_count": 301,
     "metadata": {},
     "output_type": "execute_result"
    },
    {
     "data": {
      "text/plain": [
       "_StoreAction(option_strings=['--animation_intervals'], dest='animation_intervals', nargs=None, const=None, default=20, type=<class 'int'>, choices=None, required=False, help=None, metavar=None)"
      ]
     },
     "execution_count": 301,
     "metadata": {},
     "output_type": "execute_result"
    }
   ],
   "source": [
    "parser.add_argument('--figure_size', dest='figure_size', default=(10, 10),\n",
    "                    nargs=2, type=int\n",
    "                   )\n",
    "parser.add_argument('--pattern_size_multiplier',\n",
    "                    dest='pattern_size_multiplier'\n",
    "                   )\n",
    "parser.add_argument('--max_nb_of_iterations', dest='max_nb_of_iterations',\n",
    "                    default=1_000, type=int\n",
    "                   )\n",
    "parser.add_argument('--animation_intervals', dest='animation_intervals',\n",
    "                    default=20, type=int\n",
    "                   )"
   ]
  },
  {
   "cell_type": "code",
   "execution_count": 305,
   "id": "4a765b20",
   "metadata": {},
   "outputs": [
    {
     "name": "stdout",
     "output_type": "stream",
     "text": [
      "Traceback (most recent call last):\r\n",
      "  File \"/Users/kevinngx/Documents/kevinngx-github-uni/UNSW-COMP9021/Week 07/L14 The Game of Life/b3_s23_movie.py\", line 72, in <module>\r\n",
      "    grid = np.zeros((size, size), np.int)\r\n",
      "                                  ^^^^^^\r\n",
      "  File \"/Users/kevinngx/.pyenv/versions/3.11.0/lib/python3.11/site-packages/numpy/__init__.py\", line 305, in __getattr__\r\n",
      "    raise AttributeError(__former_attrs__[attr])\r\n",
      "AttributeError: module 'numpy' has no attribute 'int'.\r\n",
      "`np.int` was a deprecated alias for the builtin `int`. To avoid this error in existing code, use `int` by itself. Doing this will not modify any behavior and is safe. When replacing `np.int`, you may wish to use e.g. `np.int64` or `np.int32` to specify the precision. If you wish to review your current use, check the release note link for additional information.\r\n",
      "The aliases was originally deprecated in NumPy 1.20; for more details and guidance see the original release note at:\r\n",
      "    https://numpy.org/devdocs/release/1.20.0-notes.html#deprecations. Did you mean: 'inf'?\r\n"
     ]
    }
   ],
   "source": [
    "!python3 b3_s23_movie.py --rle_filename gosperglidergun.rle"
   ]
  },
  {
   "cell_type": "code",
   "execution_count": 304,
   "id": "831ef430",
   "metadata": {},
   "outputs": [
    {
     "name": "stdout",
     "output_type": "stream",
     "text": [
      "L14 Working Notes [kevinngx].ipynb b3_s23_movie.py\r\n",
      "The game of life.html              game_of_life.py\r\n",
      "The game of life.ipynb             gosperglidergun.mp4\r\n",
      "all.tar.gz                         gosperglidergun.rle\r\n"
     ]
    }
   ],
   "source": [
    "!ls"
   ]
  },
  {
   "cell_type": "code",
   "execution_count": null,
   "id": "b93a9a94",
   "metadata": {},
   "outputs": [],
   "source": []
  }
 ],
 "metadata": {
  "kernelspec": {
   "display_name": "Python 3 (ipykernel)",
   "language": "python",
   "name": "python3"
  },
  "language_info": {
   "codemirror_mode": {
    "name": "ipython",
    "version": 3
   },
   "file_extension": ".py",
   "mimetype": "text/x-python",
   "name": "python",
   "nbconvert_exporter": "python",
   "pygments_lexer": "ipython3",
   "version": "3.11.0"
  },
  "vscode": {
   "interpreter": {
    "hash": "fb4a468b23ae772b99bd54f465a6eab9630ea5075332d07f1e912da887985c6f"
   }
  }
 },
 "nbformat": 4,
 "nbformat_minor": 5
}
