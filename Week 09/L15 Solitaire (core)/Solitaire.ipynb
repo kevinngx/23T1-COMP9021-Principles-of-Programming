{
 "cells": [
  {
   "cell_type": "markdown",
   "metadata": {},
   "source": [
    "<center><font size='5'>Solitaire</font></center>\n",
    "<center><font size='3'>Eric Martin, CSE, UNSW</font></center>\n",
    "<center><font size='3'>COMP9021 Principles of Programming</font></center>"
   ]
  },
  {
   "cell_type": "code",
   "execution_count": 10,
   "metadata": {
    "jupyter": {
     "source_hidden": true
    },
    "tags": []
   },
   "outputs": [],
   "source": [
    "# Does not need to be executed if\n",
    "# ~/.ipython/profile_default/ipython_config.py\n",
    "# exists and contains:\n",
    "# c.InteractiveShell.ast_node_interactivity = 'all'\n",
    "\n",
    "from IPython.core.interactiveshell import InteractiveShell\n",
    "InteractiveShell.ast_node_interactivity = 'all'"
   ]
  },
  {
   "cell_type": "code",
   "execution_count": 11,
   "metadata": {},
   "outputs": [],
   "source": [
    "from itertools import chain"
   ]
  },
  {
   "cell_type": "markdown",
   "metadata": {},
   "source": [
    "The game of solitaire is played on a board with holes. Boards can be of different shapes; we consider the French board, with 37 holes that make up an octagon:\n",
    "\n",
    "         ○ ○ ○    \n",
    "       ○ ○ ○ ○ ○  \n",
    "     ○ ○ ○ ○ ○ ○ ○\n",
    "     ○ ○ ○ ○ ○ ○ ○\n",
    "     ○ ○ ○ ○ ○ ○ ○\n",
    "       ○ ○ ○ ○ ○  \n",
    "         ○ ○ ○    \n",
    "\n",
    "Some of the holes, 36 at most, are filled with pegs. Here is a possible initial configuration, with 6 pegs:\n",
    "\n",
    "\n",
    "         ○ ○ ○    \n",
    "       ○ ○ ● ○ ○  \n",
    "     ○ ○ ● ● ● ○ ○\n",
    "     ○ ○ ○ ● ○ ○ ○\n",
    "     ○ ○ ○ ● ○ ○ ○\n",
    "       ○ ○ ○ ○ ○  \n",
    "         ○ ○ ○    \n",
    "\n",
    "A move consists in letting a peg jump either horizontally or vertically over an adjacent peg, ending up in a hole, so 2 positions away, the jumped over peg then being removed. So after a move, there is one less peg on the board. Starting with $n$ pegs, the aim is to perform $n-1$ moves, and so end up in a state where there is only one peg left on the board; one can impose an extra condition on the position of the last peg, e.g., that it be the center of the board. With the previous configuration, it is possible to win the game (and moreover satisfy that extra condition), for instance thanks to the following sequence of moves:\n",
    "\n",
    "         ○ ○ ○    \n",
    "       ○ ○ ● ○ ○  \n",
    "     ○ ○ ● ○ ○ ● ○\n",
    "     ○ ○ ○ ● ○ ○ ○\n",
    "     ○ ○ ○ ● ○ ○ ○\n",
    "       ○ ○ ○ ○ ○  \n",
    "         ○ ○ ○    \n",
    "\n",
    "         ○ ○ ○    \n",
    "       ○ ○ ● ○ ○  \n",
    "     ○ ○ ● ● ○ ● ○\n",
    "     ○ ○ ○ ○ ○ ○ ○\n",
    "     ○ ○ ○ ○ ○ ○ ○\n",
    "       ○ ○ ○ ○ ○  \n",
    "         ○ ○ ○    \n",
    "\n",
    "         ○ ○ ○    \n",
    "       ○ ○ ● ○ ○  \n",
    "     ○ ○ ○ ○ ● ● ○\n",
    "     ○ ○ ○ ○ ○ ○ ○\n",
    "     ○ ○ ○ ○ ○ ○ ○\n",
    "       ○ ○ ○ ○ ○  \n",
    "         ○ ○ ○    \n",
    "\n",
    "         ○ ○ ○    \n",
    "       ○ ○ ● ○ ○  \n",
    "     ○ ○ ○ ● ○ ○ ○\n",
    "     ○ ○ ○ ○ ○ ○ ○\n",
    "     ○ ○ ○ ○ ○ ○ ○\n",
    "       ○ ○ ○ ○ ○  \n",
    "         ○ ○ ○    \n",
    "\n",
    "         ○ ○ ○    \n",
    "       ○ ○ ○ ○ ○  \n",
    "     ○ ○ ○ ○ ○ ○ ○\n",
    "     ○ ○ ○ ● ○ ○ ○\n",
    "     ○ ○ ○ ○ ○ ○ ○\n",
    "       ○ ○ ○ ○ ○  \n",
    "         ○ ○ ○    \n",
    "\n",
    "We will refer to the 37 holes using the following numbering scheme, using 2-digit numbers, the first digit being the column number (read from left to right), the second digit being the row number (read from bottom to top): \n",
    "         \n",
    "          37 47 57\n",
    "       26 36 46 56 66\n",
    "    15 25 35 45 55 65 75\n",
    "    14 24 34 44 54 64 74\n",
    "    13 23 33 43 53 63 73\n",
    "       22 32 42 52 62\n",
    "          31 41 51\n",
    "\n",
    "With the previous example, the initial state is given by the following sequence of numbers (arbitrarily listed from smallest to largest):\n",
    "\n",
    "    (35, 43, 44, 45, 46, 55)\n",
    "    \n",
    "A move can then be represented as a pair of numbers that denote the initial and final positions of the peg being moved; with the previous example, a win has been achieved by playing according to the following sequence of 5 moves (of course, the second number of the last pair is the position of the unique remaining peg when the game finishes):\n",
    "\n",
    "    ((45, 65), (43, 45), (35, 55), (65, 45), (46, 44))\n",
    "\n",
    "Our aim is to write code so that we can:\n",
    "\n",
    "* define an initial configuration of the board;\n",
    "* display the initial configuration of the board;\n",
    "* perform a single move;\n",
    "* perform a sequence of moves;\n",
    "* undo the last move, or the last $n$ moves for a given $n$;\n",
    "* keep track of the sequence of moves that have been performed and not undone;\n",
    "* display the current configuration of the board.\n",
    "\n",
    "That would provide the basis for an interface to let users play the game. All that functionality can be achieved by defining appropriate data structures and functions, but it would clearly be nice to be able to \"package\" it, all the more so if we want to keep track of more than one game, each game having its own initial state and recorded sequence of performed moves that have not been undone. To that aim, we will define a `Solitaire` class, that will package the data common to all solitaire games and the functionality that should be made available to any solitaire game. A particular solitaire game will then be an __instance__ of `Solitaire`, a particular kind of object that will have access to everything packaged within `Solitaire` and that moreover will keep track of its own \"personal\" data (its own initial configuration, its own sequence of moves that have been performed and not undone). We start with `Solitaire` defined as just being a class:"
   ]
  },
  {
   "cell_type": "code",
   "execution_count": 12,
   "metadata": {},
   "outputs": [],
   "source": [
    "class Solitaire:\n",
    "    pass"
   ]
  },
  {
   "cell_type": "markdown",
   "metadata": {},
   "source": [
    "Everything in Python in an object; in particular, a class is an object, so `Solitaire` is an object. Every object has a type, namely, the object that created it. `Solitaire` is of type `type`: `type` is an object too, that created `Solitaire`, and gave it the name `'Solitaire'`, recorded as the value of `Solitaire`'s `__name__` attribute:"
   ]
  },
  {
   "cell_type": "code",
   "execution_count": 13,
   "metadata": {},
   "outputs": [
    {
     "data": {
      "text/plain": [
       "type"
      ]
     },
     "execution_count": 13,
     "metadata": {},
     "output_type": "execute_result"
    },
    {
     "data": {
      "text/plain": [
       "'Solitaire'"
      ]
     },
     "execution_count": 13,
     "metadata": {},
     "output_type": "execute_result"
    }
   ],
   "source": [
    "type(Solitaire)\n",
    "Solitaire.__name__"
   ]
  },
  {
   "cell_type": "markdown",
   "metadata": {},
   "source": [
    "Another attribute of `Solitaire` is `__base__`; its value is the special object `object` that `Solitaire` __inherits__ from."
   ]
  },
  {
   "cell_type": "code",
   "execution_count": 14,
   "metadata": {},
   "outputs": [
    {
     "data": {
      "text/plain": [
       "object"
      ]
     },
     "execution_count": 14,
     "metadata": {},
     "output_type": "execute_result"
    }
   ],
   "source": [
    "Solitaire.__base__"
   ]
  },
  {
   "cell_type": "markdown",
   "metadata": {},
   "source": [
    " Every object eventually inherits from `object`; `object` is at the top of the inheritance hierarchy:"
   ]
  },
  {
   "cell_type": "code",
   "execution_count": 15,
   "metadata": {},
   "outputs": [
    {
     "name": "stdout",
     "output_type": "stream",
     "text": [
      "None\n"
     ]
    }
   ],
   "source": [
    "print(object.__base__)"
   ]
  },
  {
   "cell_type": "markdown",
   "metadata": {},
   "source": [
    "`object` itself has been created by `type`:"
   ]
  },
  {
   "cell_type": "code",
   "execution_count": 16,
   "metadata": {},
   "outputs": [
    {
     "data": {
      "text/plain": [
       "type"
      ]
     },
     "execution_count": 16,
     "metadata": {},
     "output_type": "execute_result"
    }
   ],
   "source": [
    "type(object)"
   ]
  },
  {
   "cell_type": "markdown",
   "metadata": {},
   "source": [
    "A third attribute of `Solitaire` is `__dict__`; it is a kind of dictionary $D$, whose keys are names (strings) for some of `Solitaire`'s attributes, the value of each of those attributes being the value of the corresponding key in $D$:"
   ]
  },
  {
   "cell_type": "code",
   "execution_count": 17,
   "metadata": {},
   "outputs": [
    {
     "data": {
      "text/plain": [
       "mappingproxy({'__module__': '__main__',\n",
       "              '__dict__': <attribute '__dict__' of 'Solitaire' objects>,\n",
       "              '__weakref__': <attribute '__weakref__' of 'Solitaire' objects>,\n",
       "              '__doc__': None})"
      ]
     },
     "execution_count": 17,
     "metadata": {},
     "output_type": "execute_result"
    }
   ],
   "source": [
    "Solitaire.__dict__"
   ]
  },
  {
   "cell_type": "markdown",
   "metadata": {},
   "source": [
    "`object` also has a `__dict__` attribute:"
   ]
  },
  {
   "cell_type": "code",
   "execution_count": 18,
   "metadata": {},
   "outputs": [
    {
     "data": {
      "text/plain": [
       "mappingproxy({'__new__': <function object.__new__(*args, **kwargs)>,\n",
       "              '__repr__': <slot wrapper '__repr__' of 'object' objects>,\n",
       "              '__hash__': <slot wrapper '__hash__' of 'object' objects>,\n",
       "              '__str__': <slot wrapper '__str__' of 'object' objects>,\n",
       "              '__getattribute__': <slot wrapper '__getattribute__' of 'object' objects>,\n",
       "              '__setattr__': <slot wrapper '__setattr__' of 'object' objects>,\n",
       "              '__delattr__': <slot wrapper '__delattr__' of 'object' objects>,\n",
       "              '__lt__': <slot wrapper '__lt__' of 'object' objects>,\n",
       "              '__le__': <slot wrapper '__le__' of 'object' objects>,\n",
       "              '__eq__': <slot wrapper '__eq__' of 'object' objects>,\n",
       "              '__ne__': <slot wrapper '__ne__' of 'object' objects>,\n",
       "              '__gt__': <slot wrapper '__gt__' of 'object' objects>,\n",
       "              '__ge__': <slot wrapper '__ge__' of 'object' objects>,\n",
       "              '__init__': <slot wrapper '__init__' of 'object' objects>,\n",
       "              '__reduce_ex__': <method '__reduce_ex__' of 'object' objects>,\n",
       "              '__reduce__': <method '__reduce__' of 'object' objects>,\n",
       "              '__getstate__': <method '__getstate__' of 'object' objects>,\n",
       "              '__subclasshook__': <method '__subclasshook__' of 'object' objects>,\n",
       "              '__init_subclass__': <method '__init_subclass__' of 'object' objects>,\n",
       "              '__format__': <method '__format__' of 'object' objects>,\n",
       "              '__sizeof__': <method '__sizeof__' of 'object' objects>,\n",
       "              '__dir__': <method '__dir__' of 'object' objects>,\n",
       "              '__class__': <attribute '__class__' of 'object' objects>,\n",
       "              '__doc__': 'The base class of the class hierarchy.\\n\\nWhen called, it accepts no arguments and returns a new featureless\\ninstance that has no instance attributes and cannot be given any.\\n'})"
      ]
     },
     "execution_count": 18,
     "metadata": {},
     "output_type": "execute_result"
    }
   ],
   "source": [
    "object.__dict__"
   ]
  },
  {
   "cell_type": "markdown",
   "metadata": {},
   "source": [
    "One way to get a list of names of attributes of an object is to use the `dir()` function; let's apply it to `object`:"
   ]
  },
  {
   "cell_type": "code",
   "execution_count": 19,
   "metadata": {},
   "outputs": [
    {
     "data": {
      "text/plain": [
       "['__class__',\n",
       " '__delattr__',\n",
       " '__dir__',\n",
       " '__doc__',\n",
       " '__eq__',\n",
       " '__format__',\n",
       " '__ge__',\n",
       " '__getattribute__',\n",
       " '__getstate__',\n",
       " '__gt__',\n",
       " '__hash__',\n",
       " '__init__',\n",
       " '__init_subclass__',\n",
       " '__le__',\n",
       " '__lt__',\n",
       " '__ne__',\n",
       " '__new__',\n",
       " '__reduce__',\n",
       " '__reduce_ex__',\n",
       " '__repr__',\n",
       " '__setattr__',\n",
       " '__sizeof__',\n",
       " '__str__',\n",
       " '__subclasshook__']"
      ]
     },
     "execution_count": 19,
     "metadata": {},
     "output_type": "execute_result"
    }
   ],
   "source": [
    "dir(object)"
   ]
  },
  {
   "cell_type": "markdown",
   "metadata": {},
   "source": [
    "It seems to be nothing but a listing of `object.__dict__`'s keys; let's confirm it:"
   ]
  },
  {
   "cell_type": "code",
   "execution_count": 20,
   "metadata": {},
   "outputs": [
    {
     "data": {
      "text/plain": [
       "True"
      ]
     },
     "execution_count": 20,
     "metadata": {},
     "output_type": "execute_result"
    }
   ],
   "source": [
    "set(dir(object)) == object.__dict__.keys()"
   ]
  },
  {
   "cell_type": "markdown",
   "metadata": {},
   "source": [
    "Let's now apply `dir()` to `Solitaire`:"
   ]
  },
  {
   "cell_type": "code",
   "execution_count": 21,
   "metadata": {},
   "outputs": [
    {
     "data": {
      "text/plain": [
       "['__class__',\n",
       " '__delattr__',\n",
       " '__dict__',\n",
       " '__dir__',\n",
       " '__doc__',\n",
       " '__eq__',\n",
       " '__format__',\n",
       " '__ge__',\n",
       " '__getattribute__',\n",
       " '__getstate__',\n",
       " '__gt__',\n",
       " '__hash__',\n",
       " '__init__',\n",
       " '__init_subclass__',\n",
       " '__le__',\n",
       " '__lt__',\n",
       " '__module__',\n",
       " '__ne__',\n",
       " '__new__',\n",
       " '__reduce__',\n",
       " '__reduce_ex__',\n",
       " '__repr__',\n",
       " '__setattr__',\n",
       " '__sizeof__',\n",
       " '__str__',\n",
       " '__subclasshook__',\n",
       " '__weakref__']"
      ]
     },
     "execution_count": 21,
     "metadata": {},
     "output_type": "execute_result"
    }
   ],
   "source": [
    "dir(Solitaire)"
   ]
  },
  {
   "cell_type": "markdown",
   "metadata": {},
   "source": [
    "It seems to be nothing but a listing of `object.__dict__`'s keys and `Solitaire.__dict__`'s keys combined; let's confirm it:"
   ]
  },
  {
   "cell_type": "code",
   "execution_count": 22,
   "metadata": {},
   "outputs": [
    {
     "data": {
      "text/plain": [
       "True"
      ]
     },
     "execution_count": 22,
     "metadata": {},
     "output_type": "execute_result"
    }
   ],
   "source": [
    "set(dir(Solitaire)) == set(object.__dict__) | set(Solitaire.__dict__)"
   ]
  },
  {
   "cell_type": "markdown",
   "metadata": {},
   "source": [
    "That is because `Solitaire` inherits from `object`, so it has its own attributes plus attributes it inherits from `object`. What names of attributes are keys of both `object.__dict__` and `Solitaire.__dict__`?"
   ]
  },
  {
   "cell_type": "code",
   "execution_count": 23,
   "metadata": {},
   "outputs": [
    {
     "data": {
      "text/plain": [
       "{'__doc__'}"
      ]
     },
     "execution_count": 23,
     "metadata": {},
     "output_type": "execute_result"
    }
   ],
   "source": [
    "set(object.__dict__) & set(Solitaire.__dict__)"
   ]
  },
  {
   "cell_type": "markdown",
   "metadata": {},
   "source": [
    "`__doc__` is an attribute of `object`, and an attribute of `Solitaire`, both having different values:"
   ]
  },
  {
   "cell_type": "code",
   "execution_count": 24,
   "metadata": {},
   "outputs": [
    {
     "name": "stdout",
     "output_type": "stream",
     "text": [
      "The base class of the class hierarchy.\n",
      "\n",
      "When called, it accepts no arguments and returns a new featureless\n",
      "instance that has no instance attributes and cannot be given any.\n",
      "\n",
      "*****\n",
      "None\n"
     ]
    }
   ],
   "source": [
    "print(object.__doc__)\n",
    "print('*****')\n",
    "print(Solitaire.__doc__)"
   ]
  },
  {
   "cell_type": "markdown",
   "metadata": {},
   "source": [
    "`Solitaire` first inherited the `__doc__` attribute from `object`, but since the value of `__doc__` as an attribute of object is meaningful in relation to `object`, but not in relation to `Solitaire`, `Solitaire` was then given its own version of the attribute, with a more appropriate, though useless, value. We can change the value and make it meaningful:"
   ]
  },
  {
   "cell_type": "code",
   "execution_count": 25,
   "metadata": {},
   "outputs": [
    {
     "name": "stdout",
     "output_type": "stream",
     "text": [
      "A class that could be used as a foundation for an interface\n",
      " to play the game of Solitaire on a French board.\n"
     ]
    }
   ],
   "source": [
    "Solitaire.__doc__ =\\\n",
    "        'A class that could be used as a foundation for an interface\\n'\\\n",
    "        + ' to play the game of Solitaire on a French board.'\n",
    "\n",
    "print(Solitaire.__doc__)"
   ]
  },
  {
   "cell_type": "markdown",
   "metadata": {},
   "source": [
    "`help()` makes use of the attribute:"
   ]
  },
  {
   "cell_type": "code",
   "execution_count": 26,
   "metadata": {},
   "outputs": [
    {
     "name": "stdout",
     "output_type": "stream",
     "text": [
      "Help on class Solitaire in module __main__:\n",
      "\n",
      "class Solitaire(builtins.object)\n",
      " |  A class that could be used as a foundation for an interface\n",
      " |  to play the game of Solitaire on a French board.\n",
      " |  \n",
      " |  Data descriptors defined here:\n",
      " |  \n",
      " |  __dict__\n",
      " |      dictionary for instance variables (if defined)\n",
      " |  \n",
      " |  __weakref__\n",
      " |      list of weak references to the object (if defined)\n",
      "\n"
     ]
    }
   ],
   "source": [
    "help(Solitaire)"
   ]
  },
  {
   "cell_type": "markdown",
   "metadata": {},
   "source": [
    "Let us now give `Solitaire` a new attribute, `locations`, for the set of 37 2-digit numbers that refer to the 37 holes in the board according to the convention previously described:"
   ]
  },
  {
   "cell_type": "code",
   "execution_count": 27,
   "metadata": {},
   "outputs": [],
   "source": [
    "Solitaire.locations = set(chain(range(37, 58, 10), range(26, 67, 10),\n",
    "                                range(15, 76, 10), range(14, 75, 10),\n",
    "                                range(13, 74, 10), range(22, 63, 10),\n",
    "                                range(31, 52, 10)\n",
    "                               )\n",
    "                         )"
   ]
  },
  {
   "cell_type": "markdown",
   "metadata": {},
   "source": [
    "`locations` is now another attribute of `Solitaire`, and its name a key of `Solitaire`'s `__dict__` attribute:"
   ]
  },
  {
   "cell_type": "code",
   "execution_count": 28,
   "metadata": {},
   "outputs": [
    {
     "name": "stdout",
     "output_type": "stream",
     "text": [
      "{'__module__': '__main__', '__dict__': <attribute '__dict__' of 'Solitaire' objects>, '__weakref__': <attribute '__weakref__' of 'Solitaire' objects>, '__doc__': 'A class that could be used as a foundation for an interface\\n to play the game of Solitaire on a French board.', 'locations': {13, 14, 15, 22, 23, 24, 25, 26, 31, 32, 33, 34, 35, 36, 37, 41, 42, 43, 44, 45, 46, 47, 51, 52, 53, 54, 55, 56, 57, 62, 63, 64, 65, 66, 73, 74, 75}}\n"
     ]
    }
   ],
   "source": [
    "print(Solitaire.__dict__)"
   ]
  },
  {
   "cell_type": "markdown",
   "metadata": {},
   "source": [
    "So we have the following two ways to retrieve the value of the `locations` attribute of `Solitaire`:"
   ]
  },
  {
   "cell_type": "code",
   "execution_count": 29,
   "metadata": {},
   "outputs": [
    {
     "name": "stdout",
     "output_type": "stream",
     "text": [
      "{13, 14, 15, 22, 23, 24, 25, 26, 31, 32, 33, 34, 35, 36, 37, 41, 42, 43, 44, 45, 46, 47, 51, 52, 53, 54, 55, 56, 57, 62, 63, 64, 65, 66, 73, 74, 75}\n",
      "\n",
      "{13, 14, 15, 22, 23, 24, 25, 26, 31, 32, 33, 34, 35, 36, 37, 41, 42, 43, 44, 45, 46, 47, 51, 52, 53, 54, 55, 56, 57, 62, 63, 64, 65, 66, 73, 74, 75}\n"
     ]
    }
   ],
   "source": [
    "print(Solitaire.__dict__['locations'])\n",
    "print()\n",
    "print(Solitaire.locations)"
   ]
  },
  {
   "cell_type": "markdown",
   "metadata": {},
   "source": [
    "It turns out that when it has to evaluate `Solitaire.locations`, Python looks for the key `'locations'` in the attribute `__dict__` of `Solitaire`, and having found it, evaluates the corresponding value, so `Solitaire.__dict__['locations']`.\n",
    "\n",
    "Let us now turn our attention to specific games. A solitaire game comes with its own initial state, that can be recorded as the set of locations where the hole is filled with a peg. Let's for a while forget about the object oriented programming paradigm. To record that set, we could simply define a function such as the following:"
   ]
  },
  {
   "cell_type": "code",
   "execution_count": 30,
   "metadata": {},
   "outputs": [
    {
     "data": {
      "text/plain": [
       "{35, 43, 44, 45, 46, 55}"
      ]
     },
     "execution_count": 30,
     "metadata": {},
     "output_type": "execute_result"
    }
   ],
   "source": [
    "def initial_state(*positions):\n",
    "    return set(positions)\n",
    "\n",
    "initial_state(35, 43, 44, 45, 46, 55)"
   ]
  },
  {
   "cell_type": "markdown",
   "metadata": {},
   "source": [
    "In case most of the holes are filled with pegs, it would be more advantageous to pass as arguments to `initial_state()` the positions of the holes not filled with a peg; this would be particularly useful for the standard version of the game where all holes are filled except for the one at the centre of the board (it is then possible to win the game, but not with the extra condition that the last remaining peg be at the centre). For that purpose, the definition of `initial_state()` could be amended as follows:"
   ]
  },
  {
   "cell_type": "code",
   "execution_count": 31,
   "metadata": {},
   "outputs": [
    {
     "name": "stdout",
     "output_type": "stream",
     "text": [
      "{35, 43, 44, 45, 46, 55}\n",
      "\n",
      "{13, 14, 15, 22, 23, 24, 25, 26, 31, 32, 33, 34, 35, 36, 37, 41, 42, 43, 45, 46, 47, 51, 52, 53, 54, 55, 56, 57, 62, 63, 64, 65, 66, 73, 74, 75}\n"
     ]
    }
   ],
   "source": [
    "def initial_state(*positions, complement=False):\n",
    "    if not complement:\n",
    "        return set(positions)\n",
    "    return Solitaire.locations - set(positions)\n",
    "\n",
    "print(initial_state(35, 43, 44, 45, 46, 55))\n",
    "print()\n",
    "print(initial_state(44, complement=True))"
   ]
  },
  {
   "cell_type": "markdown",
   "metadata": {},
   "source": [
    "Failing to pass `True` as a keyword argument would not give the intended result as all arguments passed \n",
    "to `initial_state()`, `True` included, would then be collected together as a tuple and make up the value of `positions`, with `complement` having its default value: "
   ]
  },
  {
   "cell_type": "code",
   "execution_count": 32,
   "metadata": {},
   "outputs": [
    {
     "data": {
      "text/plain": [
       "{True, 44}"
      ]
     },
     "execution_count": 32,
     "metadata": {},
     "output_type": "execute_result"
    }
   ],
   "source": [
    "initial_state(44, True)"
   ]
  },
  {
   "cell_type": "markdown",
   "metadata": {},
   "source": [
    "Moreover, it is not possible to change the previous definition of `initial_state()` and not give `complement` a default value:"
   ]
  },
  {
   "cell_type": "code",
   "execution_count": 33,
   "metadata": {},
   "outputs": [
    {
     "ename": "TypeError",
     "evalue": "initial_state() missing 1 required keyword-only argument: 'complement'",
     "output_type": "error",
     "traceback": [
      "\u001b[0;31m---------------------------------------------------------------------------\u001b[0m",
      "\u001b[0;31mTypeError\u001b[0m                                 Traceback (most recent call last)",
      "Cell \u001b[0;32mIn[33], line 6\u001b[0m\n\u001b[1;32m      3\u001b[0m         \u001b[38;5;28;01mreturn\u001b[39;00m \u001b[38;5;28mset\u001b[39m(positions)\n\u001b[1;32m      4\u001b[0m     \u001b[38;5;28;01mreturn\u001b[39;00m Solitaire\u001b[38;5;241m.\u001b[39mlocations \u001b[38;5;241m-\u001b[39m \u001b[38;5;28mset\u001b[39m(positions)\n\u001b[0;32m----> 6\u001b[0m \u001b[43minitial_state\u001b[49m\u001b[43m(\u001b[49m\u001b[38;5;241;43m35\u001b[39;49m\u001b[43m,\u001b[49m\u001b[43m \u001b[49m\u001b[38;5;241;43m43\u001b[39;49m\u001b[43m,\u001b[49m\u001b[43m \u001b[49m\u001b[38;5;241;43m44\u001b[39;49m\u001b[43m,\u001b[49m\u001b[43m \u001b[49m\u001b[38;5;241;43m45\u001b[39;49m\u001b[43m,\u001b[49m\u001b[43m \u001b[49m\u001b[38;5;241;43m46\u001b[39;49m\u001b[43m,\u001b[49m\u001b[43m \u001b[49m\u001b[38;5;241;43m55\u001b[39;49m\u001b[43m)\u001b[49m\n",
      "\u001b[0;31mTypeError\u001b[0m: initial_state() missing 1 required keyword-only argument: 'complement'"
     ]
    }
   ],
   "source": [
    "def initial_state(*positions, complement):\n",
    "    if not complement:\n",
    "        return set(positions)\n",
    "    return Solitaire.locations - set(positions)\n",
    "\n",
    "initial_state(35, 43, 44, 45, 46, 55)"
   ]
  },
  {
   "cell_type": "markdown",
   "metadata": {},
   "source": [
    "On the other hand, if we make `complement` the first parameter of `initial_state()`, then `complement` accepts a positional argument:"
   ]
  },
  {
   "cell_type": "code",
   "execution_count": 34,
   "metadata": {},
   "outputs": [
    {
     "name": "stdout",
     "output_type": "stream",
     "text": [
      "{35, 43, 44, 45, 46, 55}\n",
      "\n",
      "{13, 14, 15, 22, 23, 24, 25, 26, 31, 32, 33, 34, 35, 36, 37, 41, 42, 43, 45, 46, 47, 51, 52, 53, 54, 55, 56, 57, 62, 63, 64, 65, 66, 73, 74, 75}\n"
     ]
    }
   ],
   "source": [
    "def initial_state(complement, *positions):\n",
    "    if not complement:\n",
    "        return set(positions)\n",
    "    return Solitaire.locations - set(positions)\n",
    "\n",
    "print(initial_state(False, 35, 43, 44, 45, 46, 55))\n",
    "print()\n",
    "print(initial_state(True, 44))"
   ]
  },
  {
   "cell_type": "markdown",
   "metadata": {},
   "source": [
    "But when `complement` comes before `positions` in `initial_state()`'s __signature__, giving `complement` a default value is useless and even misleading. Indeed, with the next version of `initial_state()` and the call that follows, `complement` evaluates to 35, and the function returns the set of all positions except 43, 44, 45, 46 and 55 only:"
   ]
  },
  {
   "cell_type": "code",
   "execution_count": 35,
   "metadata": {},
   "outputs": [
    {
     "name": "stdout",
     "output_type": "stream",
     "text": [
      "{13, 14, 15, 22, 23, 24, 25, 26, 31, 32, 33, 34, 35, 36, 37, 41, 42, 47, 51, 52, 53, 54, 56, 57, 62, 63, 64, 65, 66, 73, 74, 75}\n"
     ]
    }
   ],
   "source": [
    "def initial_state(complement=False, *positions):\n",
    "    if not complement:\n",
    "        return set(positions)\n",
    "    return Solitaire.locations - set(positions)\n",
    "\n",
    "print(initial_state(35, 43, 44, 45, 46, 55))"
   ]
  },
  {
   "cell_type": "markdown",
   "metadata": {},
   "source": [
    "To fully understand all versions of `initial_state()` previously considered, it is necessary to dicuss the notion of keyword-only parameter. A function's parameter is keyword-only if it appears after `*` or after a parameter preceded with `*` in the function's signature. When calling the function, the corresponding argument of a keyword-only parameter must be a keyword argument. Let us examine the syntax in detail.\n",
    "\n",
    "First, consider the case where the function's signature contains a plain `*`. The main purpose of using a plain `*` in a function signature is to force users to be explicit on what some (all, if `*` starts the function signature) arguments passed to the function represent. This is particularly useful if the order of parameters is rather arbitrary, and so needs to be memorised for the function to be called properly. With the version of `f()` that follows, only the values of `a` and `b` can be overwritten with positional arguments: "
   ]
  },
  {
   "cell_type": "code",
   "execution_count": 36,
   "metadata": {},
   "outputs": [
    {
     "name": "stdout",
     "output_type": "stream",
     "text": [
      "10 2 3\n",
      "10 20 3\n",
      "10 20 30\n",
      "10 20 30\n",
      "10 20 30\n"
     ]
    },
    {
     "ename": "TypeError",
     "evalue": "f() takes from 0 to 2 positional arguments but 3 were given",
     "output_type": "error",
     "traceback": [
      "\u001b[0;31m---------------------------------------------------------------------------\u001b[0m",
      "\u001b[0;31mTypeError\u001b[0m                                 Traceback (most recent call last)",
      "Cell \u001b[0;32mIn[36], line 9\u001b[0m\n\u001b[1;32m      7\u001b[0m f(\u001b[38;5;241m10\u001b[39m, c\u001b[38;5;241m=\u001b[39m\u001b[38;5;241m30\u001b[39m, b\u001b[38;5;241m=\u001b[39m\u001b[38;5;241m20\u001b[39m)\n\u001b[1;32m      8\u001b[0m f(b\u001b[38;5;241m=\u001b[39m\u001b[38;5;241m20\u001b[39m, a\u001b[38;5;241m=\u001b[39m\u001b[38;5;241m10\u001b[39m, c\u001b[38;5;241m=\u001b[39m\u001b[38;5;241m30\u001b[39m)\n\u001b[0;32m----> 9\u001b[0m \u001b[43mf\u001b[49m\u001b[43m(\u001b[49m\u001b[38;5;241;43m10\u001b[39;49m\u001b[43m,\u001b[49m\u001b[43m \u001b[49m\u001b[38;5;241;43m20\u001b[39;49m\u001b[43m,\u001b[49m\u001b[43m \u001b[49m\u001b[38;5;241;43m30\u001b[39;49m\u001b[43m)\u001b[49m\n",
      "\u001b[0;31mTypeError\u001b[0m: f() takes from 0 to 2 positional arguments but 3 were given"
     ]
    }
   ],
   "source": [
    "def f(a=1, b=2, *, c=3):\n",
    "    print(a, b, c)\n",
    "\n",
    "f(10)\n",
    "f(10, 20)\n",
    "f(10, 20, c=30)\n",
    "f(10, c=30, b=20)\n",
    "f(b=20, a=10, c=30)\n",
    "f(10, 20, 30)"
   ]
  },
  {
   "cell_type": "markdown",
   "metadata": {},
   "source": [
    "With the version of `f()` that follows, only the value of `a` can be overwritten with a positional argument:"
   ]
  },
  {
   "cell_type": "code",
   "execution_count": 37,
   "metadata": {},
   "outputs": [
    {
     "name": "stdout",
     "output_type": "stream",
     "text": [
      "10 2 3\n",
      "10 20 3\n",
      "10 20 30\n",
      "10 20 30\n"
     ]
    },
    {
     "ename": "TypeError",
     "evalue": "f() takes from 0 to 1 positional arguments but 2 were given",
     "output_type": "error",
     "traceback": [
      "\u001b[0;31m---------------------------------------------------------------------------\u001b[0m",
      "\u001b[0;31mTypeError\u001b[0m                                 Traceback (most recent call last)",
      "Cell \u001b[0;32mIn[37], line 8\u001b[0m\n\u001b[1;32m      6\u001b[0m f(\u001b[38;5;241m10\u001b[39m, c\u001b[38;5;241m=\u001b[39m\u001b[38;5;241m30\u001b[39m, b\u001b[38;5;241m=\u001b[39m\u001b[38;5;241m20\u001b[39m)\n\u001b[1;32m      7\u001b[0m f(b\u001b[38;5;241m=\u001b[39m\u001b[38;5;241m20\u001b[39m, a\u001b[38;5;241m=\u001b[39m\u001b[38;5;241m10\u001b[39m, c\u001b[38;5;241m=\u001b[39m\u001b[38;5;241m30\u001b[39m)\n\u001b[0;32m----> 8\u001b[0m \u001b[43mf\u001b[49m\u001b[43m(\u001b[49m\u001b[38;5;241;43m10\u001b[39;49m\u001b[43m,\u001b[49m\u001b[43m \u001b[49m\u001b[38;5;241;43m20\u001b[39;49m\u001b[43m)\u001b[49m\n",
      "\u001b[0;31mTypeError\u001b[0m: f() takes from 0 to 1 positional arguments but 2 were given"
     ]
    }
   ],
   "source": [
    "def f(a=1, *, b=2, c=3):\n",
    "    print(a, b, c)\n",
    "    \n",
    "f(10)\n",
    "f(10, b=20)\n",
    "f(10, c=30, b=20)\n",
    "f(b=20, a=10, c=30)\n",
    "f(10, 20)"
   ]
  },
  {
   "cell_type": "markdown",
   "metadata": {},
   "source": [
    "With the version of `f()` that follows, no value can be overwritten with a positional argument:"
   ]
  },
  {
   "cell_type": "code",
   "execution_count": 38,
   "metadata": {},
   "outputs": [
    {
     "name": "stdout",
     "output_type": "stream",
     "text": [
      "1 20 3\n",
      "1 20 30\n",
      "10 20 30\n"
     ]
    },
    {
     "ename": "TypeError",
     "evalue": "f() takes 0 positional arguments but 1 was given",
     "output_type": "error",
     "traceback": [
      "\u001b[0;31m---------------------------------------------------------------------------\u001b[0m",
      "\u001b[0;31mTypeError\u001b[0m                                 Traceback (most recent call last)",
      "Cell \u001b[0;32mIn[38], line 7\u001b[0m\n\u001b[1;32m      5\u001b[0m f(c\u001b[38;5;241m=\u001b[39m\u001b[38;5;241m30\u001b[39m, b\u001b[38;5;241m=\u001b[39m\u001b[38;5;241m20\u001b[39m)\n\u001b[1;32m      6\u001b[0m f(b\u001b[38;5;241m=\u001b[39m\u001b[38;5;241m20\u001b[39m, a\u001b[38;5;241m=\u001b[39m\u001b[38;5;241m10\u001b[39m, c\u001b[38;5;241m=\u001b[39m\u001b[38;5;241m30\u001b[39m)\n\u001b[0;32m----> 7\u001b[0m \u001b[43mf\u001b[49m\u001b[43m(\u001b[49m\u001b[38;5;241;43m10\u001b[39;49m\u001b[43m)\u001b[49m\n",
      "\u001b[0;31mTypeError\u001b[0m: f() takes 0 positional arguments but 1 was given"
     ]
    }
   ],
   "source": [
    "def f(*, a=1, b=2, c=3):\n",
    "    print(a, b, c)\n",
    "\n",
    "f(b=20)\n",
    "f(c=30, b=20)\n",
    "f(b=20, a=10, c=30)\n",
    "f(10)"
   ]
  },
  {
   "cell_type": "markdown",
   "metadata": {},
   "source": [
    "All parameters with default values have to follow all parameters without default values; the presence of `*` in a function's signature imposes no further constraint:"
   ]
  },
  {
   "cell_type": "code",
   "execution_count": 39,
   "metadata": {},
   "outputs": [
    {
     "name": "stdout",
     "output_type": "stream",
     "text": [
      "1 20 3 40 5 6\n"
     ]
    }
   ],
   "source": [
    "def f(a, b=2, c=3, *, d=4, e=5, f=6):\n",
    "    print(a, b, c, d, e, f)\n",
    "    \n",
    "f(1, d=40, b=20)"
   ]
  },
  {
   "cell_type": "code",
   "execution_count": 40,
   "metadata": {},
   "outputs": [
    {
     "name": "stdout",
     "output_type": "stream",
     "text": [
      "1 2 3 5 5 60\n"
     ]
    }
   ],
   "source": [
    "def f(a, b, c, *, d, e=5, f=6):\n",
    "    print(a, b, c, d, e, f)\n",
    "    \n",
    "f(1, 2, d=5, c=3, f=60)"
   ]
  },
  {
   "cell_type": "markdown",
   "metadata": {},
   "source": [
    "Second, consider the case where the function's signature contains a parameter preceded with `*`. That parameter, which cannot be given a default value, will create a tuple out of all positional arguments that are passed to the function and that aren't assigned to the parameters to the left of `*`:"
   ]
  },
  {
   "cell_type": "code",
   "execution_count": 41,
   "metadata": {},
   "outputs": [
    {
     "name": "stdout",
     "output_type": "stream",
     "text": [
      "1 2 () 3 4\n",
      "1 2 ('A', 'B') 3 40\n",
      "1 2 ('A', 'B') 3 4\n"
     ]
    },
    {
     "ename": "TypeError",
     "evalue": "f() missing 1 required keyword-only argument: 'c'",
     "output_type": "error",
     "traceback": [
      "\u001b[0;31m---------------------------------------------------------------------------\u001b[0m",
      "\u001b[0;31mTypeError\u001b[0m                                 Traceback (most recent call last)",
      "Cell \u001b[0;32mIn[41], line 7\u001b[0m\n\u001b[1;32m      5\u001b[0m f(\u001b[38;5;241m1\u001b[39m, \u001b[38;5;241m2\u001b[39m, \u001b[38;5;124m'\u001b[39m\u001b[38;5;124mA\u001b[39m\u001b[38;5;124m'\u001b[39m, \u001b[38;5;124m'\u001b[39m\u001b[38;5;124mB\u001b[39m\u001b[38;5;124m'\u001b[39m, d\u001b[38;5;241m=\u001b[39m\u001b[38;5;241m40\u001b[39m, c\u001b[38;5;241m=\u001b[39m\u001b[38;5;241m3\u001b[39m)\n\u001b[1;32m      6\u001b[0m f(\u001b[38;5;241m1\u001b[39m, \u001b[38;5;241m2\u001b[39m, \u001b[38;5;124m'\u001b[39m\u001b[38;5;124mA\u001b[39m\u001b[38;5;124m'\u001b[39m, \u001b[38;5;124m'\u001b[39m\u001b[38;5;124mB\u001b[39m\u001b[38;5;124m'\u001b[39m, c\u001b[38;5;241m=\u001b[39m\u001b[38;5;241m3\u001b[39m)\n\u001b[0;32m----> 7\u001b[0m \u001b[43mf\u001b[49m\u001b[43m(\u001b[49m\u001b[38;5;241;43m1\u001b[39;49m\u001b[43m,\u001b[49m\u001b[43m \u001b[49m\u001b[38;5;241;43m2\u001b[39;49m\u001b[43m,\u001b[49m\u001b[43m \u001b[49m\u001b[38;5;124;43m'\u001b[39;49m\u001b[38;5;124;43mA\u001b[39;49m\u001b[38;5;124;43m'\u001b[39;49m\u001b[43m,\u001b[49m\u001b[43m \u001b[49m\u001b[38;5;124;43m'\u001b[39;49m\u001b[38;5;124;43mB\u001b[39;49m\u001b[38;5;124;43m'\u001b[39;49m\u001b[43m,\u001b[49m\u001b[43m \u001b[49m\u001b[43md\u001b[49m\u001b[38;5;241;43m=\u001b[39;49m\u001b[38;5;241;43m40\u001b[39;49m\u001b[43m)\u001b[49m\n",
      "\u001b[0;31mTypeError\u001b[0m: f() missing 1 required keyword-only argument: 'c'"
     ]
    }
   ],
   "source": [
    "def f(a, b, *x, c, d=4):\n",
    "    print(a, b, x, c, d)\n",
    "    \n",
    "f(1, c=3, b=2)\n",
    "f(1, 2, 'A', 'B', d=40, c=3)\n",
    "f(1, 2, 'A', 'B', c=3)\n",
    "f(1, 2, 'A', 'B', d=40)"
   ]
  },
  {
   "cell_type": "markdown",
   "metadata": {},
   "source": [
    "Parameters to the left of `*` can have default values, all parameters to its right then having default values too, except for the parameter that follows `*`; but giving a default value to parameters to the left of `*` is probably flawed since those default values can only be used in case the argument for the parameter that follows `*` evaluates to the empty tuple:"
   ]
  },
  {
   "cell_type": "code",
   "execution_count": 42,
   "metadata": {},
   "outputs": [
    {
     "name": "stdout",
     "output_type": "stream",
     "text": [
      "10 2 () 3\n",
      "10 2 () 3\n",
      "10 2 () 30\n",
      "10 20 () 3\n",
      "10 20 ('A',) 3\n",
      "10 20 ('A', 'B') 30\n"
     ]
    }
   ],
   "source": [
    "def f(a, b=2, *x, c=3):\n",
    "    print(a, b, x, c)\n",
    "\n",
    "f(10)\n",
    "f(a=10)\n",
    "f(c=30, a=10)\n",
    "f(10, 20)\n",
    "f(10, 20, 'A')\n",
    "f(10, 20, 'A', 'B', c=30)"
   ]
  },
  {
   "cell_type": "markdown",
   "metadata": {},
   "source": [
    "Back to object-oriented programming and writing code to capture specific games. Note that `'__init__'` is one of the keys of `object`'s `__dict__` attribute; `__init__` is inherited by `Solitaire` from `object`. But the value of `'__init__'` in `object.__dict__` is not appropriate, so we give `Solitaire` its own version of `__init__`. Its value has to be a function with at least one argument, whose name can be anything but by a convention that everyone follows, is `self`:"
   ]
  },
  {
   "cell_type": "code",
   "execution_count": 43,
   "metadata": {},
   "outputs": [
    {
     "data": {
      "text/plain": [
       "True"
      ]
     },
     "execution_count": 43,
     "metadata": {},
     "output_type": "execute_result"
    },
    {
     "data": {
      "text/plain": [
       "False"
      ]
     },
     "execution_count": 43,
     "metadata": {},
     "output_type": "execute_result"
    }
   ],
   "source": [
    "Solitaire.__init__ is object.__init__\n",
    "\n",
    "def initialise_solitaire_object(self, *initial_positions, complement=False):\n",
    "    self.initial_state = {i: (i in initial_positions) ^ complement\n",
    "                                  for i in Solitaire.locations\n",
    "                         }\n",
    "    self.current_state = dict(self.initial_state)\n",
    "    self.moves = []\n",
    "    \n",
    "Solitaire.__init__ = initialise_solitaire_object\n",
    "Solitaire.__init__ is object.__init__"
   ]
  },
  {
   "cell_type": "markdown",
   "metadata": {},
   "source": [
    "`Solitaire`'s `__dict__` attribute has changed accordingly:"
   ]
  },
  {
   "cell_type": "code",
   "execution_count": 44,
   "metadata": {},
   "outputs": [
    {
     "name": "stdout",
     "output_type": "stream",
     "text": [
      "{'__module__': '__main__', '__dict__': <attribute '__dict__' of 'Solitaire' objects>, '__weakref__': <attribute '__weakref__' of 'Solitaire' objects>, '__doc__': 'A class that could be used as a foundation for an interface\\n to play the game of Solitaire on a French board.', 'locations': {13, 14, 15, 22, 23, 24, 25, 26, 31, 32, 33, 34, 35, 36, 37, 41, 42, 43, 44, 45, 46, 47, 51, 52, 53, 54, 55, 56, 57, 62, 63, 64, 65, 66, 73, 74, 75}, '__init__': <function initialise_solitaire_object at 0x11160f880>}\n"
     ]
    }
   ],
   "source": [
    "print(Solitaire.__dict__)"
   ]
  },
  {
   "cell_type": "markdown",
   "metadata": {},
   "source": [
    "Let us see how this new attribute can be used before analysing the code that defines it."
   ]
  },
  {
   "cell_type": "code",
   "execution_count": 45,
   "metadata": {},
   "outputs": [
    {
     "data": {
      "text/plain": [
       "(__main__.Solitaire, __main__.Solitaire)"
      ]
     },
     "execution_count": 45,
     "metadata": {},
     "output_type": "execute_result"
    }
   ],
   "source": [
    "solitaire_1 = Solitaire(35, 43, 44, 45, 46, 55)\n",
    "solitaire_2 = Solitaire(44, complement=True)\n",
    "\n",
    "type(solitaire_1), type(solitaire_2)"
   ]
  },
  {
   "cell_type": "markdown",
   "metadata": {},
   "source": [
    "Being of type `Solitaire` (defined in the `__main__` module), the objects `solitaire_1` and `solitaire_1` have been created by `Solitaire`; they have their own `__dict__` attribute:"
   ]
  },
  {
   "cell_type": "code",
   "execution_count": 46,
   "metadata": {},
   "outputs": [
    {
     "name": "stdout",
     "output_type": "stream",
     "text": [
      "{'initial_state': {13: False, 14: False, 15: False, 22: False, 23: False, 24: False, 25: False, 26: False, 31: False, 32: False, 33: False, 34: False, 35: True, 36: False, 37: False, 41: False, 42: False, 43: True, 44: True, 45: True, 46: True, 47: False, 51: False, 52: False, 53: False, 54: False, 55: True, 56: False, 57: False, 62: False, 63: False, 64: False, 65: False, 66: False, 73: False, 74: False, 75: False}, 'current_state': {13: False, 14: False, 15: False, 22: False, 23: False, 24: False, 25: False, 26: False, 31: False, 32: False, 33: False, 34: False, 35: True, 36: False, 37: False, 41: False, 42: False, 43: True, 44: True, 45: True, 46: True, 47: False, 51: False, 52: False, 53: False, 54: False, 55: True, 56: False, 57: False, 62: False, 63: False, 64: False, 65: False, 66: False, 73: False, 74: False, 75: False}, 'moves': []}\n",
      "\n",
      "{'initial_state': {13: True, 14: True, 15: True, 22: True, 23: True, 24: True, 25: True, 26: True, 31: True, 32: True, 33: True, 34: True, 35: True, 36: True, 37: True, 41: True, 42: True, 43: True, 44: False, 45: True, 46: True, 47: True, 51: True, 52: True, 53: True, 54: True, 55: True, 56: True, 57: True, 62: True, 63: True, 64: True, 65: True, 66: True, 73: True, 74: True, 75: True}, 'current_state': {13: True, 14: True, 15: True, 22: True, 23: True, 24: True, 25: True, 26: True, 31: True, 32: True, 33: True, 34: True, 35: True, 36: True, 37: True, 41: True, 42: True, 43: True, 44: False, 45: True, 46: True, 47: True, 51: True, 52: True, 53: True, 54: True, 55: True, 56: True, 57: True, 62: True, 63: True, 64: True, 65: True, 66: True, 73: True, 74: True, 75: True}, 'moves': []}\n"
     ]
    }
   ],
   "source": [
    "print(solitaire_1.__dict__)\n",
    "print()\n",
    "print(solitaire_2.__dict__)"
   ]
  },
  {
   "cell_type": "markdown",
   "metadata": {},
   "source": [
    "The value of each of the three attributes whose names are the keys of the objects' `__dict__` own attribute can be obtained in one of two ways:"
   ]
  },
  {
   "cell_type": "code",
   "execution_count": 47,
   "metadata": {},
   "outputs": [
    {
     "name": "stdout",
     "output_type": "stream",
     "text": [
      "{13: False, 14: False, 15: False, 22: False, 23: False, 24: False, 25: False, 26: False, 31: False, 32: False, 33: False, 34: False, 35: True, 36: False, 37: False, 41: False, 42: False, 43: True, 44: True, 45: True, 46: True, 47: False, 51: False, 52: False, 53: False, 54: False, 55: True, 56: False, 57: False, 62: False, 63: False, 64: False, 65: False, 66: False, 73: False, 74: False, 75: False}\n",
      "\n",
      "{13: False, 14: False, 15: False, 22: False, 23: False, 24: False, 25: False, 26: False, 31: False, 32: False, 33: False, 34: False, 35: True, 36: False, 37: False, 41: False, 42: False, 43: True, 44: True, 45: True, 46: True, 47: False, 51: False, 52: False, 53: False, 54: False, 55: True, 56: False, 57: False, 62: False, 63: False, 64: False, 65: False, 66: False, 73: False, 74: False, 75: False}\n"
     ]
    }
   ],
   "source": [
    "print(solitaire_1.initial_state)\n",
    "print()\n",
    "print(solitaire_1.__dict__['initial_state'])"
   ]
  },
  {
   "cell_type": "markdown",
   "metadata": {},
   "source": [
    "Indeed, similarly to the way `Solitaire.locations` is evaluated, having to evaluate `solitaire_1.initial_state`, Python looks for the key `'initial_state'` in the attribute `__dict__` of `solitaire_1`, and having found it, evaluates the corresponding value, so `solitaire_1.__dict__['initial_state']`.\n",
    "\n",
    "It is also possible to retrieve the value of the `locations` attribute of `Solitaire` from `solitaire_1` or from `solitaire_2`:"
   ]
  },
  {
   "cell_type": "code",
   "execution_count": 48,
   "metadata": {},
   "outputs": [
    {
     "name": "stdout",
     "output_type": "stream",
     "text": [
      "{13, 14, 15, 22, 23, 24, 25, 26, 31, 32, 33, 34, 35, 36, 37, 41, 42, 43, 44, 45, 46, 47, 51, 52, 53, 54, 55, 56, 57, 62, 63, 64, 65, 66, 73, 74, 75}\n"
     ]
    }
   ],
   "source": [
    "print(solitaire_1.locations)"
   ]
  },
  {
   "cell_type": "markdown",
   "metadata": {},
   "source": [
    "Indeed, `solitaire_1` and `solitaire_2`, being of type `Solitaire`, inherit the attributes of `Solitaire` whose names are keys of `Solitaire.__dict__`, and also, via `Solitaire`, the attributes of `object` whose names are keys of `object.__dict__`. More precisely, having to evaluate `solitaire_1.locations`, Python looks for the key `'locations'` in the attribute `__dict__` of `solitaire_1`, fails to find it, then looks for the key `'locations'` in the attribute `__dict__` of `Solitaire`, namely, the object that `solitaire_1` directly inherits from, and having found it, evaluates the corresponding value, so `Solitaire.__dict__['locations']`. Python knows that `solitaire_1` directly inherits from `Solitaire` thanks to `solitaire_1`'s `__base__` attribute. The value of that attribute is the class that created `solitaire_1`, and an object (like `solitaire_1`) that is not a class directly inherits from the class that created it (whereas we know that `Solitaire`, which itself is a class, has been created by `type` but inherits from `object` (itself created by `type`), not from `type`): "
   ]
  },
  {
   "cell_type": "code",
   "execution_count": null,
   "metadata": {},
   "outputs": [],
   "source": [
    " "
   ]
  },
  {
   "cell_type": "markdown",
   "metadata": {},
   "source": [
    "In other words, the value of `solitaire_1.locations` is eventually obtained from the evaluation of the expression in the following `print()` statement:"
   ]
  },
  {
   "cell_type": "code",
   "execution_count": 49,
   "metadata": {},
   "outputs": [
    {
     "name": "stdout",
     "output_type": "stream",
     "text": [
      "{13, 14, 15, 22, 23, 24, 25, 26, 31, 32, 33, 34, 35, 36, 37, 41, 42, 43, 44, 45, 46, 47, 51, 52, 53, 54, 55, 56, 57, 62, 63, 64, 65, 66, 73, 74, 75}\n"
     ]
    }
   ],
   "source": [
    "print(solitaire_1.__class__.__dict__['locations'])"
   ]
  },
  {
   "cell_type": "markdown",
   "metadata": {},
   "source": [
    "Here are two ways to verify that `solitaire_1` inherits the attributes of `Solitaire` and `object` whose names are keys of the `__dict__` attribute of either `Solitaire` or `object` (of course, the same holds of `solitaire_2`):"
   ]
  },
  {
   "cell_type": "code",
   "execution_count": 50,
   "metadata": {},
   "outputs": [
    {
     "data": {
      "text/plain": [
       "True"
      ]
     },
     "execution_count": 50,
     "metadata": {},
     "output_type": "execute_result"
    },
    {
     "data": {
      "text/plain": [
       "True"
      ]
     },
     "execution_count": 50,
     "metadata": {},
     "output_type": "execute_result"
    }
   ],
   "source": [
    "set(dir(solitaire_1)) == solitaire_1.__dict__.keys() | set(dir(Solitaire))\n",
    "set(dir(solitaire_1)) == solitaire_1.__dict__.keys()\\\n",
    "                         | Solitaire.__dict__.keys() | object.__dict__.keys()"
   ]
  },
  {
   "cell_type": "markdown",
   "metadata": {},
   "source": [
    "Let us now examine how `Solitaire(35, 43, 44, 45, 46, 55)` executes. One of the attributes that `Solitaire` inherits from `object` is `__new__`; we know that `Solitaire` \"is happy with it\" and does not create its own version of `__new__`:"
   ]
  },
  {
   "cell_type": "code",
   "execution_count": 51,
   "metadata": {},
   "outputs": [
    {
     "data": {
      "text/plain": [
       "True"
      ]
     },
     "execution_count": 51,
     "metadata": {},
     "output_type": "execute_result"
    }
   ],
   "source": [
    "'__new__' in set(object.__dict__) - set(Solitaire.__dict__)"
   ]
  },
  {
   "cell_type": "markdown",
   "metadata": {},
   "source": [
    "To execute `Solitaire(35, 43, 44, 45, 46, 55)`, Python first looks for the key `'__new__'` in the attribute `__dict__` of `Solitaire`, fails to find it, then looks for the key `'__new__'` in the attribute `__dict__` of `object`, and finds it; the corresponding value is a function:"
   ]
  },
  {
   "cell_type": "code",
   "execution_count": 52,
   "metadata": {},
   "outputs": [
    {
     "data": {
      "text/plain": [
       "True"
      ]
     },
     "execution_count": 52,
     "metadata": {},
     "output_type": "execute_result"
    },
    {
     "data": {
      "text/plain": [
       "<function object.__new__(*args, **kwargs)>"
      ]
     },
     "execution_count": 52,
     "metadata": {},
     "output_type": "execute_result"
    }
   ],
   "source": [
    "Solitaire.__new__ is object.__new__\n",
    "object.__new__"
   ]
  },
  {
   "cell_type": "markdown",
   "metadata": {},
   "source": [
    "That function is called with as first argument, `Solitaire`. We now know that either of the 3 ways that follow execute the function:"
   ]
  },
  {
   "cell_type": "code",
   "execution_count": 53,
   "metadata": {},
   "outputs": [
    {
     "data": {
      "text/plain": [
       "<__main__.Solitaire at 0x111b9ec90>"
      ]
     },
     "execution_count": 53,
     "metadata": {},
     "output_type": "execute_result"
    },
    {
     "data": {
      "text/plain": [
       "<__main__.Solitaire at 0x111635090>"
      ]
     },
     "execution_count": 53,
     "metadata": {},
     "output_type": "execute_result"
    },
    {
     "data": {
      "text/plain": [
       "<__main__.Solitaire at 0x111b04d90>"
      ]
     },
     "execution_count": 53,
     "metadata": {},
     "output_type": "execute_result"
    }
   ],
   "source": [
    "Solitaire.__new__(Solitaire)\n",
    "object.__new__(Solitaire)\n",
    "object.__dict__['__new__'](Solitaire)"
   ]
  },
  {
   "cell_type": "markdown",
   "metadata": {},
   "source": [
    "The function returns an object of type `Solitaire`, which has its own `__dict__` attribute, whose value is an empty dictionary:"
   ]
  },
  {
   "cell_type": "code",
   "execution_count": 54,
   "metadata": {},
   "outputs": [
    {
     "data": {
      "text/plain": [
       "__main__.Solitaire"
      ]
     },
     "execution_count": 54,
     "metadata": {},
     "output_type": "execute_result"
    },
    {
     "data": {
      "text/plain": [
       "{}"
      ]
     },
     "execution_count": 54,
     "metadata": {},
     "output_type": "execute_result"
    }
   ],
   "source": [
    "solitaire = Solitaire.__new__(Solitaire)\n",
    "type(solitaire)\n",
    "solitaire.__dict__"
   ]
  },
  {
   "cell_type": "markdown",
   "metadata": {},
   "source": [
    "`solitaire` is the kind of object meant to capture a specific game, but it is still an \"empty shell\", it needs to be initialised; such is the purpose of `Solitaire`'s `__init__` attribute. We have defined that attribute in such a way that it evaluates to the function `initialise_solitaire_object()`. The signature of that function has a first parameter, `self`, which is expected to be for an argument of type `Solitaire`. So `solitaire` can be such an argument, and it is possible to call the function as follows:"
   ]
  },
  {
   "cell_type": "code",
   "execution_count": 55,
   "metadata": {},
   "outputs": [],
   "source": [
    "Solitaire.__init__(solitaire, 35, 43, 44, 45, 46, 55)"
   ]
  },
  {
   "cell_type": "markdown",
   "metadata": {},
   "source": [
    "The effect of executing this function (that lets `self` refer to `solitaire`) is indeed to initialise `solitaire`, giving it three attributes, whose names are all recorded in `solitaire`'s own `__dict__` attribute: `initial_state`, `current_state`, and `moves`:"
   ]
  },
  {
   "cell_type": "code",
   "execution_count": 56,
   "metadata": {},
   "outputs": [
    {
     "name": "stdout",
     "output_type": "stream",
     "text": [
      "{'initial_state': {13: False, 14: False, 15: False, 22: False, 23: False, 24: False, 25: False, 26: False, 31: False, 32: False, 33: False, 34: False, 35: True, 36: False, 37: False, 41: False, 42: False, 43: True, 44: True, 45: True, 46: True, 47: False, 51: False, 52: False, 53: False, 54: False, 55: True, 56: False, 57: False, 62: False, 63: False, 64: False, 65: False, 66: False, 73: False, 74: False, 75: False}, 'current_state': {13: False, 14: False, 15: False, 22: False, 23: False, 24: False, 25: False, 26: False, 31: False, 32: False, 33: False, 34: False, 35: True, 36: False, 37: False, 41: False, 42: False, 43: True, 44: True, 45: True, 46: True, 47: False, 51: False, 52: False, 53: False, 54: False, 55: True, 56: False, 57: False, 62: False, 63: False, 64: False, 65: False, 66: False, 73: False, 74: False, 75: False}, 'moves': []}\n"
     ]
    }
   ],
   "source": [
    "print(solitaire.__dict__)"
   ]
  },
  {
   "cell_type": "markdown",
   "metadata": {},
   "source": [
    "Again, to evaluate any of these attributes, Python looks for its name in the attribute `__dict__` of `solitaire`, and having found it, evaluates the corresponding value:"
   ]
  },
  {
   "cell_type": "code",
   "execution_count": 57,
   "metadata": {},
   "outputs": [
    {
     "data": {
      "text/plain": [
       "[]"
      ]
     },
     "execution_count": 57,
     "metadata": {},
     "output_type": "execute_result"
    },
    {
     "data": {
      "text/plain": [
       "[]"
      ]
     },
     "execution_count": 57,
     "metadata": {},
     "output_type": "execute_result"
    }
   ],
   "source": [
    "solitaire.moves\n",
    "solitaire.__dict__['moves']"
   ]
  },
  {
   "cell_type": "markdown",
   "metadata": {},
   "source": [
    "To recap, executing `solitaire = Solitaire(35, 43, 44, 45, 46, 55)` offers a concise alternative to:"
   ]
  },
  {
   "cell_type": "code",
   "execution_count": 58,
   "metadata": {},
   "outputs": [],
   "source": [
    "solitaire = object.__dict__['__new__'](Solitaire)\n",
    "Solitaire.__dict__['__init__'](solitaire, 35, 43, 44, 45, 46, 55)"
   ]
  },
  {
   "cell_type": "markdown",
   "metadata": {},
   "source": [
    "An intermediate alternative would be:"
   ]
  },
  {
   "cell_type": "code",
   "execution_count": 59,
   "metadata": {},
   "outputs": [],
   "source": [
    "solitaire = object.__dict__['__new__'](Solitaire)\n",
    "solitaire.__init__(35, 43, 44, 45, 46, 55)"
   ]
  },
  {
   "cell_type": "markdown",
   "metadata": {},
   "source": [
    "That is consistent with the evaluation strategy that has been decribed many times, but it is a bit more subtle. Consider the following:"
   ]
  },
  {
   "cell_type": "code",
   "execution_count": 60,
   "metadata": {},
   "outputs": [
    {
     "data": {
      "text/plain": [
       "<function __main__.initialise_solitaire_object(self, *initial_positions, complement=False)>"
      ]
     },
     "execution_count": 60,
     "metadata": {},
     "output_type": "execute_result"
    },
    {
     "data": {
      "text/plain": [
       "<bound method initialise_solitaire_object of <__main__.Solitaire object at 0x111aeddd0>>"
      ]
     },
     "execution_count": 60,
     "metadata": {},
     "output_type": "execute_result"
    },
    {
     "data": {
      "text/plain": [
       "False"
      ]
     },
     "execution_count": 60,
     "metadata": {},
     "output_type": "execute_result"
    }
   ],
   "source": [
    "Solitaire.__init__\n",
    "solitaire.__init__\n",
    "solitaire.__init__ is Solitaire.__init__"
   ]
  },
  {
   "cell_type": "markdown",
   "metadata": {},
   "source": [
    "The first output is not surprising; what might be surprising is that the second output is different. When executing `solitaire.__init__(35, 43, 44, 45, 46, 55)`, we expect Python to first look for the key `'__init__'` in the attribute `__dict__` of `solitaire`, fail to find it, then look for the key `'__init__'` in the attribute `__dict__` of `Solitaire`, find it, get the value, which is a function, and execute the function. But the function does not and should not receive  35, 43, 44, 45, 46 and 55 as arguments: it does and has to receive those plus an extra first argument, namely, `solitaire` itself.\n",
    "\n",
    "The fact that  `solitaire.__init__` is a __bound method__ essentially allow one to call `__init__()` as an object attribute rather than as a `Solitaire` attribute, providing the desired value as first argument to `__init__()`. More precisely, one can think of the bound method of an object $o$ of type `Solitaire` as a pair:\n",
    "\n",
    "* the first member of the pair is a `Solitaire` attribute whose value is a function $f$, meant to take an object of type `Solitaire` as first (and possibly unique) argument;\n",
    "* the second member of the pair is $o$, meant to be that first argument.\n",
    "\n",
    "Having both $f$ and $o$ in hand together with any other arguments for $f$, if any, $f$ can then be called with $o$ provided as first argument.\n",
    "\n",
    "Let us now create other attributes to endow `Solitaire` its complete promised functionality:\n",
    "\n",
    "* `display_initial_state` to display the initial configuration of the board;\n",
    "* `take` to perform a single move;\n",
    "* `play` to perform a sequence of moves;\n",
    "* `undo` to undo the last move, or the last $n$ moves for a given $n$;\n",
    "* `display_current_state` to display the current configuration of the board.\n",
    "\n",
    "As `__init__`, all those attributes will be `Solitaire` attributes whose values are functions expected to be passed at least one argument, the first of which is meant to denote an instance of `Solitaire` (`Solitaire` objects). As for `__init__`, by  a convention that everyone follows, the name of the first parameter of all those functions is `self`. We also create extra attributes whose values are \"helper\" functions, useful for the previous functions to do their job, but expected not to be called directly by users. It is a convention again to let these functions have a name that starts with a single underscore. Their names will be keys of `Solitaire`'s `__dict__` attribute, and nothing prevents users to call them directly, but a name starting with an underscore is an indication to users that the attribute having that name is not part of the \"official\" interface; its intended use is solely by functions from the \"official\" interface.\n",
    "\n",
    "Let us implement the functions, make them the values of the new attributes of `Solitaire`, and use the code before discussing it."
   ]
  },
  {
   "cell_type": "code",
   "execution_count": 61,
   "metadata": {},
   "outputs": [],
   "source": [
    "def display_initial_state(self):\n",
    "    self._display_state(self.initial_state)\n",
    "\n",
    "def display_current_state(self):\n",
    "    self._display_state(self.current_state)\n",
    "\n",
    "def _display_state(self, positions):\n",
    "    print()\n",
    "    for y in range(7, 0, -1):\n",
    "        for i in range(y + 10, y + 80, 10):\n",
    "            if not i in positions:\n",
    "                print('  ', end='')\n",
    "            elif positions[i]:\n",
    "                print(' \\N{Black circle}', end='')\n",
    "            else:\n",
    "                print(' \\N{White circle}', end='')\n",
    "        print()\n",
    "    print()\n",
    "\n",
    "def play(self, *moves):\n",
    "    for move in moves:\n",
    "        if not self.take(*move):\n",
    "            break\n",
    "\n",
    "def take(self, start_position, end_position):\n",
    "    if not start_position in self.current_state\\\n",
    "       or not self.current_state[start_position]\\\n",
    "       or not end_position in self.current_state\\\n",
    "       or self.current_state[end_position]\\\n",
    "       or abs(start_position - end_position) not in {2, 20}:\n",
    "        return False\n",
    "    mid_position = (start_position + end_position) // 2\n",
    "    if not self.current_state[mid_position]:\n",
    "        return False\n",
    "    self.moves.append((start_position, end_position))\n",
    "    self._take_or_undo(start_position, end_position, mid_position)\n",
    "    return True\n",
    "\n",
    "def undo(self, nb_of_times=1):\n",
    "    for _ in range(min(nb_of_times, len(self.moves))):\n",
    "        start_position, end_position = self.moves.pop()\n",
    "        mid_position = (start_position + end_position) // 2\n",
    "        self._take_or_undo(end_position, start_position, mid_position)\n",
    "\n",
    "def _take_or_undo(self, start_position, end_position, mid_position):\n",
    "        self.current_state[start_position] = False\n",
    "        self.current_state[end_position] = True\n",
    "        self.current_state[mid_position] =\\\n",
    "                not self.current_state[mid_position]\n",
    "\n",
    "Solitaire.display_initial_state = display_initial_state\n",
    "Solitaire.display_current_state = display_current_state\n",
    "Solitaire.play = play\n",
    "Solitaire.undo = undo\n",
    "Solitaire.take = take\n",
    "Solitaire._display_state = _display_state\n",
    "Solitaire._take_or_undo = _take_or_undo"
   ]
  },
  {
   "cell_type": "markdown",
   "metadata": {},
   "source": [
    "`Solitaire`'s `__dict__` has been significantly expanded:"
   ]
  },
  {
   "cell_type": "code",
   "execution_count": 62,
   "metadata": {},
   "outputs": [
    {
     "data": {
      "text/plain": [
       "dict_keys(['__module__', '__dict__', '__weakref__', '__doc__', 'locations', '__init__', 'display_initial_state', 'display_current_state', 'play', 'undo', 'take', '_display_state', '_take_or_undo'])"
      ]
     },
     "execution_count": 62,
     "metadata": {},
     "output_type": "execute_result"
    }
   ],
   "source": [
    "Solitaire.__dict__.keys()"
   ]
  },
  {
   "cell_type": "markdown",
   "metadata": {},
   "source": [
    "Let us create instances of `Solitaire` as it is now defined, and make use of the new code."
   ]
  },
  {
   "cell_type": "code",
   "execution_count": 63,
   "metadata": {},
   "outputs": [
    {
     "data": {
      "text/plain": [
       "[]"
      ]
     },
     "execution_count": 63,
     "metadata": {},
     "output_type": "execute_result"
    },
    {
     "name": "stdout",
     "output_type": "stream",
     "text": [
      "\n",
      "     ○ ○ ○    \n",
      "   ○ ○ ● ○ ○  \n",
      " ○ ○ ● ● ● ○ ○\n",
      " ○ ○ ○ ● ○ ○ ○\n",
      " ○ ○ ○ ● ○ ○ ○\n",
      "   ○ ○ ○ ○ ○  \n",
      "     ○ ○ ○    \n",
      "\n"
     ]
    }
   ],
   "source": [
    "solitaire_3 = Solitaire(35, 43, 44, 45, 46, 55)\n",
    "\n",
    "solitaire_3.moves\n",
    "solitaire.display_initial_state()"
   ]
  },
  {
   "cell_type": "code",
   "execution_count": 64,
   "metadata": {},
   "outputs": [
    {
     "data": {
      "text/plain": [
       "True"
      ]
     },
     "execution_count": 64,
     "metadata": {},
     "output_type": "execute_result"
    },
    {
     "data": {
      "text/plain": [
       "[(45, 65)]"
      ]
     },
     "execution_count": 64,
     "metadata": {},
     "output_type": "execute_result"
    },
    {
     "name": "stdout",
     "output_type": "stream",
     "text": [
      "\n",
      "     ○ ○ ○    \n",
      "   ○ ○ ● ○ ○  \n",
      " ○ ○ ● ○ ○ ● ○\n",
      " ○ ○ ○ ● ○ ○ ○\n",
      " ○ ○ ○ ● ○ ○ ○\n",
      "   ○ ○ ○ ○ ○  \n",
      "     ○ ○ ○    \n",
      "\n"
     ]
    }
   ],
   "source": [
    "solitaire_3.take(45, 65)\n",
    "solitaire_3.moves\n",
    "solitaire_3.display_current_state()"
   ]
  },
  {
   "cell_type": "code",
   "execution_count": 65,
   "metadata": {},
   "outputs": [
    {
     "data": {
      "text/plain": [
       "[(45, 65), (43, 45), (35, 55)]"
      ]
     },
     "execution_count": 65,
     "metadata": {},
     "output_type": "execute_result"
    },
    {
     "name": "stdout",
     "output_type": "stream",
     "text": [
      "\n",
      "     ○ ○ ○    \n",
      "   ○ ○ ● ○ ○  \n",
      " ○ ○ ○ ○ ● ● ○\n",
      " ○ ○ ○ ○ ○ ○ ○\n",
      " ○ ○ ○ ○ ○ ○ ○\n",
      "   ○ ○ ○ ○ ○  \n",
      "     ○ ○ ○    \n",
      "\n"
     ]
    }
   ],
   "source": [
    "solitaire_3.play((43, 45), (35, 55), (55, 45), (65, 45), (46, 44))\n",
    "solitaire_3.moves\n",
    "solitaire_3.display_current_state()"
   ]
  },
  {
   "cell_type": "code",
   "execution_count": 66,
   "metadata": {},
   "outputs": [
    {
     "data": {
      "text/plain": [
       "[(45, 65), (43, 45)]"
      ]
     },
     "execution_count": 66,
     "metadata": {},
     "output_type": "execute_result"
    },
    {
     "name": "stdout",
     "output_type": "stream",
     "text": [
      "\n",
      "     ○ ○ ○    \n",
      "   ○ ○ ● ○ ○  \n",
      " ○ ○ ● ● ○ ● ○\n",
      " ○ ○ ○ ○ ○ ○ ○\n",
      " ○ ○ ○ ○ ○ ○ ○\n",
      "   ○ ○ ○ ○ ○  \n",
      "     ○ ○ ○    \n",
      "\n"
     ]
    }
   ],
   "source": [
    "solitaire_3.undo()\n",
    "solitaire_3.moves\n",
    "solitaire_3.display_current_state()"
   ]
  },
  {
   "cell_type": "code",
   "execution_count": 67,
   "metadata": {},
   "outputs": [
    {
     "name": "stdout",
     "output_type": "stream",
     "text": [
      "\n",
      "     ○ ○ ○    \n",
      "   ○ ○ ● ○ ○  \n",
      " ○ ○ ○ ○ ● ● ○\n",
      " ○ ○ ○ ○ ○ ○ ○\n",
      " ○ ○ ○ ○ ○ ○ ○\n",
      "   ○ ○ ○ ○ ○  \n",
      "     ○ ○ ○    \n",
      "\n",
      "\n",
      "     ○ ○ ○    \n",
      "   ○ ○ ● ○ ○  \n",
      " ○ ○ ○ ● ○ ○ ○\n",
      " ○ ○ ○ ○ ○ ○ ○\n",
      " ○ ○ ○ ○ ○ ○ ○\n",
      "   ○ ○ ○ ○ ○  \n",
      "     ○ ○ ○    \n",
      "\n",
      "\n",
      "     ○ ○ ○    \n",
      "   ○ ○ ○ ○ ○  \n",
      " ○ ○ ○ ○ ○ ○ ○\n",
      " ○ ○ ○ ● ○ ○ ○\n",
      " ○ ○ ○ ○ ○ ○ ○\n",
      "   ○ ○ ○ ○ ○  \n",
      "     ○ ○ ○    \n",
      "\n"
     ]
    },
    {
     "data": {
      "text/plain": [
       "[(45, 65), (43, 45), (35, 55), (65, 45), (46, 44)]"
      ]
     },
     "execution_count": 67,
     "metadata": {},
     "output_type": "execute_result"
    }
   ],
   "source": [
    "for move in (35, 55), (65, 45), (46, 44), (44, 46), (46, 46):\n",
    "    if not solitaire_3.take(*move):\n",
    "        break\n",
    "    solitaire_3.display_current_state()\n",
    "solitaire_3.moves"
   ]
  },
  {
   "cell_type": "code",
   "execution_count": 68,
   "metadata": {},
   "outputs": [
    {
     "data": {
      "text/plain": [
       "[(45, 65), (43, 45), (35, 55)]"
      ]
     },
     "execution_count": 68,
     "metadata": {},
     "output_type": "execute_result"
    },
    {
     "name": "stdout",
     "output_type": "stream",
     "text": [
      "\n",
      "     ○ ○ ○    \n",
      "   ○ ○ ● ○ ○  \n",
      " ○ ○ ○ ○ ● ● ○\n",
      " ○ ○ ○ ○ ○ ○ ○\n",
      " ○ ○ ○ ○ ○ ○ ○\n",
      "   ○ ○ ○ ○ ○  \n",
      "     ○ ○ ○    \n",
      "\n",
      "\n",
      "     ○ ○ ○    \n",
      "   ○ ○ ● ○ ○  \n",
      " ○ ○ ● ● ● ○ ○\n",
      " ○ ○ ○ ● ○ ○ ○\n",
      " ○ ○ ○ ● ○ ○ ○\n",
      "   ○ ○ ○ ○ ○  \n",
      "     ○ ○ ○    \n",
      "\n"
     ]
    }
   ],
   "source": [
    "solitaire_3.undo(2)\n",
    "solitaire_3.moves\n",
    "solitaire_3.display_current_state()\n",
    "solitaire_3.display_initial_state()"
   ]
  },
  {
   "cell_type": "markdown",
   "metadata": {},
   "source": [
    "The code could also be more indirectly used as follows."
   ]
  },
  {
   "cell_type": "code",
   "execution_count": 69,
   "metadata": {},
   "outputs": [
    {
     "name": "stdout",
     "output_type": "stream",
     "text": [
      "\n",
      "     ● ● ●    \n",
      "   ● ● ● ● ●  \n",
      " ● ● ● ● ● ● ●\n",
      " ● ● ● ○ ● ● ●\n",
      " ● ● ● ● ● ● ●\n",
      "   ● ● ● ● ●  \n",
      "     ● ● ●    \n",
      "\n"
     ]
    },
    {
     "data": {
      "text/plain": [
       "True"
      ]
     },
     "execution_count": 69,
     "metadata": {},
     "output_type": "execute_result"
    },
    {
     "name": "stdout",
     "output_type": "stream",
     "text": [
      "\n",
      "     ● ● ●    \n",
      "   ● ● ● ● ●  \n",
      " ● ● ● ● ● ● ●\n",
      " ● ○ ○ ● ● ● ●\n",
      " ● ● ● ● ● ● ●\n",
      "   ● ● ● ● ●  \n",
      "     ● ● ●    \n",
      "\n"
     ]
    }
   ],
   "source": [
    "solitaire_4 = Solitaire(44, complement=True)\n",
    "\n",
    "Solitaire.display_initial_state(solitaire_4)\n",
    "Solitaire.take(solitaire_4, 24, 44)\n",
    "Solitaire.display_current_state(solitaire_4)"
   ]
  },
  {
   "cell_type": "markdown",
   "metadata": {},
   "source": [
    "The code could be even more indirectly used as follows."
   ]
  },
  {
   "cell_type": "code",
   "execution_count": 70,
   "metadata": {},
   "outputs": [
    {
     "name": "stdout",
     "output_type": "stream",
     "text": [
      "\n",
      "     ● ● ●    \n",
      "   ○ ● ● ● ○  \n",
      " ○ ○ ● ● ● ○ ○\n",
      " ○ ○ ● ○ ● ○ ○\n",
      " ○ ○ ○ ○ ○ ○ ○\n",
      "   ○ ○ ○ ○ ○  \n",
      "     ○ ○ ○    \n",
      "\n",
      "\n",
      "     ● ○ ○    \n",
      "   ○ ● ● ● ○  \n",
      " ○ ● ○ ○ ● ○ ○\n",
      " ○ ○ ○ ○ ● ○ ○\n",
      " ○ ○ ○ ○ ○ ○ ○\n",
      "   ○ ○ ○ ○ ○  \n",
      "     ○ ○ ○    \n",
      "\n"
     ]
    },
    {
     "data": {
      "text/plain": [
       "True"
      ]
     },
     "execution_count": 70,
     "metadata": {},
     "output_type": "execute_result"
    },
    {
     "name": "stdout",
     "output_type": "stream",
     "text": [
      "\n",
      "     ○ ○ ○    \n",
      "   ○ ○ ● ● ○  \n",
      " ○ ● ● ○ ● ○ ○\n",
      " ○ ○ ○ ○ ● ○ ○\n",
      " ○ ○ ○ ○ ○ ○ ○\n",
      "   ○ ○ ○ ○ ○  \n",
      "     ○ ○ ○    \n",
      "\n"
     ]
    },
    {
     "data": {
      "text/plain": [
       "[(45, 65), (43, 45), (35, 55)]"
      ]
     },
     "execution_count": 70,
     "metadata": {},
     "output_type": "execute_result"
    },
    {
     "name": "stdout",
     "output_type": "stream",
     "text": [
      "\n",
      "     ○ ○ ○    \n",
      "   ○ ○ ● ○ ○  \n",
      " ○ ○ ○ ○ ● ● ○\n",
      " ○ ○ ○ ○ ○ ○ ○\n",
      " ○ ○ ○ ○ ○ ○ ○\n",
      "   ○ ○ ○ ○ ○  \n",
      "     ○ ○ ○    \n",
      "\n"
     ]
    }
   ],
   "source": [
    "solitaire_5 = Solitaire(34, 35, 36, 37, 45, 46, 47, 54, 55, 56, 57)\n",
    "\n",
    "Solitaire.__dict__['display_initial_state'](solitaire_5)\n",
    "Solitaire.__dict__['play'](solitaire_5, (45, 25), (37, 35), (57, 37), (34, 36))\n",
    "Solitaire.__dict__['display_current_state'](solitaire_5)\n",
    "Solitaire.__dict__['take'](solitaire_5, 37, 35)\n",
    "Solitaire.__dict__['display_current_state'](solitaire_5)\n",
    "Solitaire.__dict__['undo'](solitaire_5, 3)\n",
    "solitaire_3.__dict__['moves']\n",
    "Solitaire.__dict__['display_current_state'](solitaire_3)"
   ]
  },
  {
   "cell_type": "markdown",
   "metadata": {},
   "source": [
    "Consider `take` for instance; it is the same kind of attribute as `__init__` both with respect to `Solitaire` and with respect to a `Solitaire` object:"
   ]
  },
  {
   "cell_type": "code",
   "execution_count": 71,
   "metadata": {},
   "outputs": [
    {
     "data": {
      "text/plain": [
       "<function __main__.take(self, start_position, end_position)>"
      ]
     },
     "execution_count": 71,
     "metadata": {},
     "output_type": "execute_result"
    },
    {
     "data": {
      "text/plain": [
       "<bound method take of <__main__.Solitaire object at 0x111bc3c90>>"
      ]
     },
     "execution_count": 71,
     "metadata": {},
     "output_type": "execute_result"
    }
   ],
   "source": [
    "Solitaire.take\n",
    "solitaire_3.take"
   ]
  },
  {
   "cell_type": "markdown",
   "metadata": {},
   "source": [
    "The three ways of using `take` on a `Solitaire` object illustrated with `solitaire_3`, `solitaire_4` and `solitaire_5` are therefore analogous to the three ways of using `__init__` previously illustrated with `solitaire`. Excuting `solitaire_3.take(45, 65)` is executing the `take()` function with `self` set to `solitaire_3`. The function body refers to `self.current_state`, so to `solitaire_3.current_state`, so to `solitaire_3.__dict__['current_state']`. It also refers to `self._take_or_undo(start_position, end_position, mid_position)`, so to `solitaire_3._take_or_undo(start_position, end_position, mid_position)`, so to `Solitaire._take_or_undo(solitaire_3, start_position, end_position, mid_position)`, so to `Solitaire.__dict__['_take_or_undo'](solitaire_3, start_position, end_position, mid_position)`. In other words, we see the same evaluation mechanism at work both from outside, when using the code, and from inside, when defining the code.\n",
    "\n",
    "We defined the `Solitaire` classs with an empty body and added new `Solitaire` attributes, most of which evaluated to functions. In practice, we would rather write the code that follows. It introduces new features which will be discussed shortly. To avoid any interference with code already written, we change the name of the class to `PegSolitaire`. We also make use of the `get()` method of the `dict` class, that given a dictionary $D$ and a potential key $k$, returns $D[k]$ in case $k$ is one of $D$'s keys and otherwise, returns `None` by default, or the value provided as second optional argument to `get()`:"
   ]
  },
  {
   "cell_type": "code",
   "execution_count": 81,
   "metadata": {},
   "outputs": [
    {
     "data": {
      "text/plain": [
       "'A'"
      ]
     },
     "execution_count": 81,
     "metadata": {},
     "output_type": "execute_result"
    },
    {
     "name": "stdout",
     "output_type": "stream",
     "text": [
      "None\n"
     ]
    },
    {
     "data": {
      "text/plain": [
       "'B'"
      ]
     },
     "execution_count": 81,
     "metadata": {},
     "output_type": "execute_result"
    },
    {
     "data": {
      "text/plain": [
       "'Z'"
      ]
     },
     "execution_count": 81,
     "metadata": {},
     "output_type": "execute_result"
    }
   ],
   "source": [
    "D = {1: 'A', 2: 'B'}\n",
    "\n",
    "D.get(1)\n",
    "print(D.get(3))\n",
    "D.get(2, 'Z')\n",
    "D.get(4, 'Z')"
   ]
  },
  {
   "cell_type": "code",
   "execution_count": 73,
   "metadata": {},
   "outputs": [],
   "source": [
    "class PegSolitaireError(Exception):\n",
    "    pass\n",
    "\n",
    "\n",
    "class PegSolitaire:\n",
    "    # We represent the board using the following coding:\n",
    "    #       37 47 57\n",
    "    #    26 36 46 56 66\n",
    "    # 15 25 35 45 55 65 75\n",
    "    # 14 24 34 44 54 64 74\n",
    "    # 13 23 33 43 53 63 73\n",
    "    #    22 32 42 52 62\n",
    "    #       31 41 51\n",
    "    locations = set(chain(range(37, 58, 10), range(26, 67, 10),\n",
    "                          range(15, 76, 10), range(14, 75, 10),\n",
    "                          range(13, 74, 10), range(22, 63, 10),\n",
    "                          range(31, 52, 10)\n",
    "                         )\n",
    "                   )\n",
    "\n",
    "    def __init__(self, *initial_positions, complement=False):\n",
    "        invalid_positions = [str(i) for i in initial_positions\n",
    "                                 if i not in Solitaire.locations\n",
    "                            ]\n",
    "        if invalid_positions:\n",
    "            if len(invalid_positions) == 1:\n",
    "                raise PegSolitaireError(invalid_positions[0]\n",
    "                                        + ' is an invalid position'\n",
    "                                       )\n",
    "            else:\n",
    "                raise PegSolitaireError(', '.join(invalid_positions[: -1])\n",
    "                                        + ' and ' + invalid_positions[-1]\n",
    "                                        + ' are invalid positions'\n",
    "                                       )\n",
    "        self.initial_state = {i: (i in initial_positions) ^ complement\n",
    "                                  for i in Solitaire.locations\n",
    "                             }\n",
    "        self.current_state = dict(self.initial_state)\n",
    "        self.moves = []\n",
    "        \n",
    "    def display_initial_state(self):\n",
    "        self._display_state(self.initial_state)\n",
    "\n",
    "    def display_current_state(self):\n",
    "        self._display_state(self.current_state)\n",
    "            \n",
    "    def _display_state(self, positions):\n",
    "        print()\n",
    "        for y in range(7, 0, -1):\n",
    "            for i in range(y + 10, y + 80, 10):\n",
    "                if not i in positions:\n",
    "                    print('  ', end='')\n",
    "                elif positions[i]:\n",
    "                    print(' \\N{Black circle}', end='')\n",
    "                else:\n",
    "                    print(' \\N{White circle}', end='')\n",
    "            print()\n",
    "        print()\n",
    "\n",
    "    def play(self, *moves):\n",
    "        for move in moves:\n",
    "            if not self.take(*move):\n",
    "                break\n",
    "                \n",
    "    def take(self, start_position, end_position):\n",
    "        if not start_position in self.current_state\\\n",
    "           or not self.current_state[start_position]\\\n",
    "           or not end_position in self.current_state\\\n",
    "           or self.current_state[end_position]\\\n",
    "           or abs(start_position - end_position) not in {2, 20}:\n",
    "            return False\n",
    "        mid_position = (start_position + end_position) // 2\n",
    "        if not self.current_state[mid_position]:\n",
    "            return False\n",
    "        self.moves.append((start_position, end_position))\n",
    "        self._take_or_undo(start_position, end_position, mid_position)\n",
    "        return True\n",
    "        \n",
    "    def undo(self, nb_of_times=1):\n",
    "        for _ in range(min(nb_of_times, len(self.moves))):\n",
    "            start_position, end_position = self.moves.pop()\n",
    "            mid_position = (start_position + end_position) // 2\n",
    "            self._take_or_undo(end_position, start_position, mid_position)\n",
    "            \n",
    "    def _take_or_undo(self, start_position, end_position, mid_position):\n",
    "            self.current_state[start_position] = False\n",
    "            self.current_state[end_position] = True\n",
    "            self.current_state[mid_position] =\\\n",
    "                    not self.current_state[mid_position]\n",
    "            \n",
    "    def __repr__(self):\n",
    "        return f'PegSolitaire(' + ', '.join(str(i) for i in self.initial_state\n",
    "                                                       if self.initial_state[i]\n",
    "                                           ) + ')'\n",
    "\n",
    "    def __str__(self):\n",
    "        rows = []\n",
    "        for y in range(7, 0, -1):\n",
    "            row = []\n",
    "            for i in range(y + 10, y + 80, 10):\n",
    "                if self.initial_state.get(i):\n",
    "                    row.append(f'{i} ')\n",
    "                else:\n",
    "                    row.append('   ')\n",
    "            rows.append(''.join(row))\n",
    "        return '\\n'.join(rows)"
   ]
  },
  {
   "cell_type": "markdown",
   "metadata": {},
   "source": [
    "Let us check that the newly defined `Solitaire` class has the appropriate attributes:"
   ]
  },
  {
   "cell_type": "code",
   "execution_count": 74,
   "metadata": {},
   "outputs": [
    {
     "data": {
      "text/plain": [
       "dict_keys(['__module__', 'locations', '__init__', 'display_initial_state', 'display_current_state', '_display_state', 'play', 'take', 'undo', '_take_or_undo', '__repr__', '__str__', '__dict__', '__weakref__', '__doc__'])"
      ]
     },
     "execution_count": 74,
     "metadata": {},
     "output_type": "execute_result"
    }
   ],
   "source": [
    "PegSolitaire.__dict__.keys()"
   ]
  },
  {
   "cell_type": "markdown",
   "metadata": {},
   "source": [
    "Let us check that we can use the code as we previously did:"
   ]
  },
  {
   "cell_type": "code",
   "execution_count": 75,
   "metadata": {},
   "outputs": [
    {
     "data": {
      "text/plain": [
       "[]"
      ]
     },
     "execution_count": 75,
     "metadata": {},
     "output_type": "execute_result"
    },
    {
     "name": "stdout",
     "output_type": "stream",
     "text": [
      "\n",
      "     ○ ○ ○    \n",
      "   ○ ○ ○ ○ ○  \n",
      " ○ ○ ○ ● ○ ○ ○\n",
      " ○ ○ ● ● ● ○ ○\n",
      " ○ ● ● ● ● ● ○\n",
      "   ○ ○ ○ ○ ○  \n",
      "     ○ ○ ○    \n",
      "\n"
     ]
    },
    {
     "data": {
      "text/plain": [
       "[(53, 55)]"
      ]
     },
     "execution_count": 75,
     "metadata": {},
     "output_type": "execute_result"
    },
    {
     "name": "stdout",
     "output_type": "stream",
     "text": [
      "\n",
      "     ○ ○ ○    \n",
      "   ○ ○ ○ ○ ○  \n",
      " ○ ○ ○ ● ● ○ ○\n",
      " ○ ○ ● ● ○ ○ ○\n",
      " ○ ● ● ● ○ ● ○\n",
      "   ○ ○ ○ ○ ○  \n",
      "     ○ ○ ○    \n",
      "\n"
     ]
    },
    {
     "data": {
      "text/plain": [
       "[(53, 55), (55, 35)]"
      ]
     },
     "execution_count": 75,
     "metadata": {},
     "output_type": "execute_result"
    },
    {
     "name": "stdout",
     "output_type": "stream",
     "text": [
      "\n",
      "     ○ ○ ○    \n",
      "   ○ ○ ○ ○ ○  \n",
      " ○ ○ ● ○ ○ ○ ○\n",
      " ○ ○ ● ● ○ ○ ○\n",
      " ○ ● ● ● ○ ● ○\n",
      "   ○ ○ ○ ○ ○  \n",
      "     ○ ○ ○    \n",
      "\n"
     ]
    },
    {
     "data": {
      "text/plain": [
       "[(53, 55), (55, 35), (33, 53)]"
      ]
     },
     "execution_count": 75,
     "metadata": {},
     "output_type": "execute_result"
    },
    {
     "name": "stdout",
     "output_type": "stream",
     "text": [
      "\n",
      "     ○ ○ ○    \n",
      "   ○ ○ ○ ○ ○  \n",
      " ○ ○ ● ○ ○ ○ ○\n",
      " ○ ○ ● ● ○ ○ ○\n",
      " ○ ● ○ ○ ● ● ○\n",
      "   ○ ○ ○ ○ ○  \n",
      "     ○ ○ ○    \n",
      "\n"
     ]
    },
    {
     "data": {
      "text/plain": [
       "[(53, 55), (55, 35), (33, 53), (63, 43)]"
      ]
     },
     "execution_count": 75,
     "metadata": {},
     "output_type": "execute_result"
    },
    {
     "name": "stdout",
     "output_type": "stream",
     "text": [
      "\n",
      "     ○ ○ ○    \n",
      "   ○ ○ ○ ○ ○  \n",
      " ○ ○ ● ○ ○ ○ ○\n",
      " ○ ○ ● ● ○ ○ ○\n",
      " ○ ● ○ ● ○ ○ ○\n",
      "   ○ ○ ○ ○ ○  \n",
      "     ○ ○ ○    \n",
      "\n",
      "Undoing last 2 moves\n"
     ]
    },
    {
     "data": {
      "text/plain": [
       "[(53, 55), (55, 35)]"
      ]
     },
     "execution_count": 75,
     "metadata": {},
     "output_type": "execute_result"
    },
    {
     "name": "stdout",
     "output_type": "stream",
     "text": [
      "\n",
      "     ○ ○ ○    \n",
      "   ○ ○ ○ ○ ○  \n",
      " ○ ○ ● ○ ○ ○ ○\n",
      " ○ ○ ● ● ○ ○ ○\n",
      " ○ ● ● ● ○ ● ○\n",
      "   ○ ○ ○ ○ ○  \n",
      "     ○ ○ ○    \n",
      "\n"
     ]
    },
    {
     "data": {
      "text/plain": [
       "[(53, 55),\n",
       " (55, 35),\n",
       " (33, 53),\n",
       " (63, 43),\n",
       " (44, 42),\n",
       " (35, 33),\n",
       " (23, 43),\n",
       " (42, 44)]"
      ]
     },
     "execution_count": 75,
     "metadata": {},
     "output_type": "execute_result"
    },
    {
     "name": "stdout",
     "output_type": "stream",
     "text": [
      "\n",
      "     ○ ○ ○    \n",
      "   ○ ○ ○ ○ ○  \n",
      " ○ ○ ○ ○ ○ ○ ○\n",
      " ○ ○ ○ ● ○ ○ ○\n",
      " ○ ○ ○ ○ ○ ○ ○\n",
      "   ○ ○ ○ ○ ○  \n",
      "     ○ ○ ○    \n",
      "\n",
      "\n",
      "     ○ ○ ○    \n",
      "   ○ ○ ○ ○ ○  \n",
      " ○ ○ ○ ● ○ ○ ○\n",
      " ○ ○ ● ● ● ○ ○\n",
      " ○ ● ● ● ● ● ○\n",
      "   ○ ○ ○ ○ ○  \n",
      "     ○ ○ ○    \n",
      "\n"
     ]
    }
   ],
   "source": [
    "solitaire_6 = PegSolitaire(23, 33, 34, 43, 44, 45, 53, 54, 63)\n",
    "\n",
    "solitaire_6.moves\n",
    "solitaire_6.display_initial_state()\n",
    "for move in (53, 55), (55, 35), (33, 53), (63, 43), (44, 45), (44, 42):\n",
    "    if not solitaire_6.take(*move):\n",
    "        break\n",
    "    solitaire_6.moves\n",
    "    solitaire_6.display_current_state()\n",
    "print('Undoing last 2 moves')\n",
    "solitaire_6.undo(2)\n",
    "solitaire_6.moves\n",
    "solitaire_6.display_current_state()\n",
    "solitaire_6.play((33, 53), (63, 43), (44, 42), (35, 33), (23, 43), (42, 44))\n",
    "solitaire_6.moves\n",
    "solitaire_6.display_current_state()\n",
    "solitaire_6.display_initial_state()"
   ]
  },
  {
   "cell_type": "markdown",
   "metadata": {},
   "source": [
    "Let us now examine what is genuinely new in the last implementation of `PegSolitaire`. First, when creating a `PegSolitaire` object, we check that the positions passed as argument to `__init__()` are amongst the 37 valid 2-digit numbers. For that purpose, we defined a specific exception: a class that derives from `Exception` rather than from `object`. In case some of the numbers passed to `__init__()` are invalid, `__init__()` raises that an exception of that type, created with an appropriate message:"
   ]
  },
  {
   "cell_type": "code",
   "execution_count": 82,
   "metadata": {},
   "outputs": [
    {
     "ename": "PegSolitaireError",
     "evalue": "48 is an invalid position",
     "output_type": "error",
     "traceback": [
      "\u001b[0;31m---------------------------------------------------------------------------\u001b[0m",
      "\u001b[0;31mPegSolitaireError\u001b[0m                         Traceback (most recent call last)",
      "Cell \u001b[0;32mIn[82], line 1\u001b[0m\n\u001b[0;32m----> 1\u001b[0m \u001b[43mPegSolitaire\u001b[49m\u001b[43m(\u001b[49m\u001b[38;5;241;43m35\u001b[39;49m\u001b[43m,\u001b[49m\u001b[43m \u001b[49m\u001b[38;5;241;43m43\u001b[39;49m\u001b[43m,\u001b[49m\u001b[43m \u001b[49m\u001b[38;5;241;43m48\u001b[39;49m\u001b[43m,\u001b[49m\u001b[43m \u001b[49m\u001b[38;5;241;43m45\u001b[39;49m\u001b[43m,\u001b[49m\u001b[43m \u001b[49m\u001b[38;5;241;43m46\u001b[39;49m\u001b[43m,\u001b[49m\u001b[43m \u001b[49m\u001b[38;5;241;43m55\u001b[39;49m\u001b[43m)\u001b[49m\n",
      "Cell \u001b[0;32mIn[73], line 27\u001b[0m, in \u001b[0;36mPegSolitaire.__init__\u001b[0;34m(self, complement, *initial_positions)\u001b[0m\n\u001b[1;32m     25\u001b[0m \u001b[38;5;28;01mif\u001b[39;00m invalid_positions:\n\u001b[1;32m     26\u001b[0m     \u001b[38;5;28;01mif\u001b[39;00m \u001b[38;5;28mlen\u001b[39m(invalid_positions) \u001b[38;5;241m==\u001b[39m \u001b[38;5;241m1\u001b[39m:\n\u001b[0;32m---> 27\u001b[0m         \u001b[38;5;28;01mraise\u001b[39;00m PegSolitaireError(invalid_positions[\u001b[38;5;241m0\u001b[39m]\n\u001b[1;32m     28\u001b[0m                                 \u001b[38;5;241m+\u001b[39m \u001b[38;5;124m'\u001b[39m\u001b[38;5;124m is an invalid position\u001b[39m\u001b[38;5;124m'\u001b[39m\n\u001b[1;32m     29\u001b[0m                                )\n\u001b[1;32m     30\u001b[0m     \u001b[38;5;28;01melse\u001b[39;00m:\n\u001b[1;32m     31\u001b[0m         \u001b[38;5;28;01mraise\u001b[39;00m PegSolitaireError(\u001b[38;5;124m'\u001b[39m\u001b[38;5;124m, \u001b[39m\u001b[38;5;124m'\u001b[39m\u001b[38;5;241m.\u001b[39mjoin(invalid_positions[: \u001b[38;5;241m-\u001b[39m\u001b[38;5;241m1\u001b[39m])\n\u001b[1;32m     32\u001b[0m                                 \u001b[38;5;241m+\u001b[39m \u001b[38;5;124m'\u001b[39m\u001b[38;5;124m and \u001b[39m\u001b[38;5;124m'\u001b[39m \u001b[38;5;241m+\u001b[39m invalid_positions[\u001b[38;5;241m-\u001b[39m\u001b[38;5;241m1\u001b[39m]\n\u001b[1;32m     33\u001b[0m                                 \u001b[38;5;241m+\u001b[39m \u001b[38;5;124m'\u001b[39m\u001b[38;5;124m are invalid positions\u001b[39m\u001b[38;5;124m'\u001b[39m\n\u001b[1;32m     34\u001b[0m                                )\n",
      "\u001b[0;31mPegSolitaireError\u001b[0m: 48 is an invalid position"
     ]
    }
   ],
   "source": [
    "PegSolitaire(35, 43, 48, 45, 46, 55)"
   ]
  },
  {
   "cell_type": "code",
   "execution_count": 83,
   "metadata": {},
   "outputs": [
    {
     "ename": "PegSolitaireError",
     "evalue": "48 and 95 are invalid positions",
     "output_type": "error",
     "traceback": [
      "\u001b[0;31m---------------------------------------------------------------------------\u001b[0m",
      "\u001b[0;31mPegSolitaireError\u001b[0m                         Traceback (most recent call last)",
      "Cell \u001b[0;32mIn[83], line 1\u001b[0m\n\u001b[0;32m----> 1\u001b[0m \u001b[43mPegSolitaire\u001b[49m\u001b[43m(\u001b[49m\u001b[38;5;241;43m35\u001b[39;49m\u001b[43m,\u001b[49m\u001b[43m \u001b[49m\u001b[38;5;241;43m43\u001b[39;49m\u001b[43m,\u001b[49m\u001b[43m \u001b[49m\u001b[38;5;241;43m48\u001b[39;49m\u001b[43m,\u001b[49m\u001b[43m \u001b[49m\u001b[38;5;241;43m45\u001b[39;49m\u001b[43m,\u001b[49m\u001b[43m \u001b[49m\u001b[38;5;241;43m46\u001b[39;49m\u001b[43m,\u001b[49m\u001b[43m \u001b[49m\u001b[38;5;241;43m95\u001b[39;49m\u001b[43m)\u001b[49m\n",
      "Cell \u001b[0;32mIn[73], line 31\u001b[0m, in \u001b[0;36mPegSolitaire.__init__\u001b[0;34m(self, complement, *initial_positions)\u001b[0m\n\u001b[1;32m     27\u001b[0m         \u001b[38;5;28;01mraise\u001b[39;00m PegSolitaireError(invalid_positions[\u001b[38;5;241m0\u001b[39m]\n\u001b[1;32m     28\u001b[0m                                 \u001b[38;5;241m+\u001b[39m \u001b[38;5;124m'\u001b[39m\u001b[38;5;124m is an invalid position\u001b[39m\u001b[38;5;124m'\u001b[39m\n\u001b[1;32m     29\u001b[0m                                )\n\u001b[1;32m     30\u001b[0m     \u001b[38;5;28;01melse\u001b[39;00m:\n\u001b[0;32m---> 31\u001b[0m         \u001b[38;5;28;01mraise\u001b[39;00m PegSolitaireError(\u001b[38;5;124m'\u001b[39m\u001b[38;5;124m, \u001b[39m\u001b[38;5;124m'\u001b[39m\u001b[38;5;241m.\u001b[39mjoin(invalid_positions[: \u001b[38;5;241m-\u001b[39m\u001b[38;5;241m1\u001b[39m])\n\u001b[1;32m     32\u001b[0m                                 \u001b[38;5;241m+\u001b[39m \u001b[38;5;124m'\u001b[39m\u001b[38;5;124m and \u001b[39m\u001b[38;5;124m'\u001b[39m \u001b[38;5;241m+\u001b[39m invalid_positions[\u001b[38;5;241m-\u001b[39m\u001b[38;5;241m1\u001b[39m]\n\u001b[1;32m     33\u001b[0m                                 \u001b[38;5;241m+\u001b[39m \u001b[38;5;124m'\u001b[39m\u001b[38;5;124m are invalid positions\u001b[39m\u001b[38;5;124m'\u001b[39m\n\u001b[1;32m     34\u001b[0m                                )\n\u001b[1;32m     35\u001b[0m \u001b[38;5;28mself\u001b[39m\u001b[38;5;241m.\u001b[39minitial_state \u001b[38;5;241m=\u001b[39m {i: (i \u001b[38;5;129;01min\u001b[39;00m initial_positions) \u001b[38;5;241m^\u001b[39m complement\n\u001b[1;32m     36\u001b[0m                           \u001b[38;5;28;01mfor\u001b[39;00m i \u001b[38;5;129;01min\u001b[39;00m Solitaire\u001b[38;5;241m.\u001b[39mlocations\n\u001b[1;32m     37\u001b[0m                      }\n\u001b[1;32m     38\u001b[0m \u001b[38;5;28mself\u001b[39m\u001b[38;5;241m.\u001b[39mcurrent_state \u001b[38;5;241m=\u001b[39m \u001b[38;5;28mdict\u001b[39m(\u001b[38;5;28mself\u001b[39m\u001b[38;5;241m.\u001b[39minitial_state)\n",
      "\u001b[0;31mPegSolitaireError\u001b[0m: 48 and 95 are invalid positions"
     ]
    }
   ],
   "source": [
    "PegSolitaire(35, 43, 48, 45, 46, 95)"
   ]
  },
  {
   "cell_type": "markdown",
   "metadata": {},
   "source": [
    "Also new is the addition of two special methods: `__repr__()` and `__str__()`. Both `'__repr__'` and `'__str__'` are keys of `object.__dict__`, so `Solitaire` inherits both methods, but their default implementations are not useful so we give `PegSolitaire` its own versions of the methods. Both have to return strings. When evaluating an object, the `__repr__()` method is called and the string it returns printed out:"
   ]
  },
  {
   "cell_type": "code",
   "execution_count": 84,
   "metadata": {},
   "outputs": [
    {
     "data": {
      "text/plain": [
       "PegSolitaire(35, 43, 44, 45, 46, 55)"
      ]
     },
     "execution_count": 84,
     "metadata": {},
     "output_type": "execute_result"
    },
    {
     "data": {
      "text/plain": [
       "PegSolitaire(13, 14, 15, 22, 23, 24, 25, 26, 31, 32, 33, 34, 35, 36, 37, 41, 42, 43, 45, 46, 47, 51, 52, 53, 54, 55, 56, 57, 62, 63, 64, 65, 66, 73, 74, 75)"
      ]
     },
     "execution_count": 84,
     "metadata": {},
     "output_type": "execute_result"
    }
   ],
   "source": [
    "PegSolitaire(35, 43, 44, 45, 46, 55)\n",
    "PegSolitaire(44, complement=True)"
   ]
  },
  {
   "cell_type": "markdown",
   "metadata": {},
   "source": [
    "Contrast the previous output with the output of the default implementation, that is no longer accessible by inheritance, but is still directly available:"
   ]
  },
  {
   "cell_type": "code",
   "execution_count": 85,
   "metadata": {},
   "outputs": [
    {
     "data": {
      "text/plain": [
       "'<__main__.PegSolitaire object at 0x111bb5ad0>'"
      ]
     },
     "execution_count": 85,
     "metadata": {},
     "output_type": "execute_result"
    },
    {
     "data": {
      "text/plain": [
       "'<__main__.PegSolitaire object at 0x111bb5b50>'"
      ]
     },
     "execution_count": 85,
     "metadata": {},
     "output_type": "execute_result"
    }
   ],
   "source": [
    "object.__repr__(PegSolitaire(35, 43, 44, 45, 46, 55))\n",
    "object.__repr__(PegSolitaire(44, complement=True))"
   ]
  },
  {
   "cell_type": "markdown",
   "metadata": {},
   "source": [
    "By convention, the string returned by `__repr__()` should represent Python code thanks to which the object which the method is applied to can be created, which is the case with our implementation.\n",
    "\n",
    "If `__repr__()` is implementated but `__str__()` is not, then passing an object (of type the class under consideration) as argument to `print()` lets the latter call the `__repr__()` method and print out the string it returns; so evaluating an object or printing it have the same effect. But when `__str__()` is implemented,  then passing an object (of type the class under consideration) as argument to `print()` lets the latter call the `__str__()` method and print out the string it returns:"
   ]
  },
  {
   "cell_type": "code",
   "execution_count": 86,
   "metadata": {},
   "outputs": [
    {
     "name": "stdout",
     "output_type": "stream",
     "text": [
      "                     \n",
      "         46          \n",
      "      35 45 55       \n",
      "         44          \n",
      "         43          \n",
      "                     \n",
      "                     \n",
      "      37 47 57       \n",
      "   26 36 46 56 66    \n",
      "15 25 35 45 55 65 75 \n",
      "14 24 34    54 64 74 \n",
      "13 23 33 43 53 63 73 \n",
      "   22 32 42 52 62    \n",
      "      31 41 51       \n"
     ]
    }
   ],
   "source": [
    "print(PegSolitaire(35, 43, 44, 45, 46, 55))\n",
    "print(PegSolitaire(44, complement=True))"
   ]
  },
  {
   "cell_type": "markdown",
   "metadata": {},
   "source": [
    "The string returned by `__str__()` is expected to offer a \"user-friendly\", \"visual\" representation of the object, which our implementating arguably offers.\n",
    "\n",
    "Note that in case `__str__()` is implemented but `__repr__()` is not, evaluating an object (of type the class under consideration) does not fall back on `__str__()`: the default implementation of `__repr__()` for `object` is then used."
   ]
  },
  {
   "cell_type": "code",
   "execution_count": null,
   "metadata": {},
   "outputs": [],
   "source": []
  },
  {
   "cell_type": "code",
   "execution_count": null,
   "metadata": {},
   "outputs": [],
   "source": []
  }
 ],
 "metadata": {
  "kernelspec": {
   "display_name": "Python 3 (ipykernel)",
   "language": "python",
   "name": "python3"
  },
  "language_info": {
   "codemirror_mode": {
    "name": "ipython",
    "version": 3
   },
   "file_extension": ".py",
   "mimetype": "text/x-python",
   "name": "python",
   "nbconvert_exporter": "python",
   "pygments_lexer": "ipython3",
   "version": "3.11.0"
  },
  "latex_envs": {
   "LaTeX_envs_menu_present": true,
   "autoclose": false,
   "autocomplete": true,
   "bibliofile": "biblio.bib",
   "cite_by": "apalike",
   "current_citInitial": 1,
   "eqLabelWithNumbers": true,
   "eqNumInitial": 1,
   "hotkeys": {
    "equation": "Ctrl-E",
    "itemize": "Ctrl-I"
   },
   "labels_anchors": false,
   "latex_user_defs": false,
   "report_style_numbering": false,
   "user_envs_cfg": false
  },
  "toc": {
   "base_numbering": 1,
   "nav_menu": {},
   "number_sections": true,
   "sideBar": true,
   "skip_h1_title": false,
   "title_cell": "Table of Contents",
   "title_sidebar": "Contents",
   "toc_cell": false,
   "toc_position": {},
   "toc_section_display": true,
   "toc_window_display": false
  },
  "widgets": {
   "application/vnd.jupyter.widget-state+json": {
    "state": {},
    "version_major": 2,
    "version_minor": 0
   }
  }
 },
 "nbformat": 4,
 "nbformat_minor": 4
}
