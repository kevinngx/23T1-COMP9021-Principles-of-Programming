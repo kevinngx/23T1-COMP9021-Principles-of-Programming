{
 "cells": [
  {
   "cell_type": "code",
   "execution_count": 1,
   "id": "baf28cc0",
   "metadata": {},
   "outputs": [],
   "source": [
    "from IPython.core.interactiveshell import InteractiveShell\n",
    "InteractiveShell.ast_node_interactivity = 'all'"
   ]
  },
  {
   "cell_type": "code",
   "execution_count": 4,
   "id": "38e6672c",
   "metadata": {},
   "outputs": [],
   "source": [
    "from itertools import chain"
   ]
  },
  {
   "cell_type": "code",
   "execution_count": 6,
   "id": "7999b080",
   "metadata": {},
   "outputs": [
    {
     "data": {
      "text/plain": [
       "['__class__',\n",
       " '__class_getitem__',\n",
       " '__delattr__',\n",
       " '__dir__',\n",
       " '__doc__',\n",
       " '__eq__',\n",
       " '__format__',\n",
       " '__ge__',\n",
       " '__getattribute__',\n",
       " '__getstate__',\n",
       " '__gt__',\n",
       " '__hash__',\n",
       " '__init__',\n",
       " '__init_subclass__',\n",
       " '__iter__',\n",
       " '__le__',\n",
       " '__lt__',\n",
       " '__ne__',\n",
       " '__new__',\n",
       " '__next__',\n",
       " '__reduce__',\n",
       " '__reduce_ex__',\n",
       " '__repr__',\n",
       " '__setattr__',\n",
       " '__setstate__',\n",
       " '__sizeof__',\n",
       " '__str__',\n",
       " '__subclasshook__',\n",
       " 'from_iterable']"
      ]
     },
     "execution_count": 6,
     "metadata": {},
     "output_type": "execute_result"
    }
   ],
   "source": [
    "dir(chain)"
   ]
  },
  {
   "cell_type": "code",
   "execution_count": 7,
   "id": "c33302c7",
   "metadata": {},
   "outputs": [
    {
     "name": "stdout",
     "output_type": "stream",
     "text": [
      "Help on class chain in module itertools:\n",
      "\n",
      "class chain(builtins.object)\n",
      " |  chain(*iterables) --> chain object\n",
      " |  \n",
      " |  Return a chain object whose .__next__() method returns elements from the\n",
      " |  first iterable until it is exhausted, then elements from the next\n",
      " |  iterable, until all of the iterables are exhausted.\n",
      " |  \n",
      " |  Methods defined here:\n",
      " |  \n",
      " |  __getattribute__(self, name, /)\n",
      " |      Return getattr(self, name).\n",
      " |  \n",
      " |  __iter__(self, /)\n",
      " |      Implement iter(self).\n",
      " |  \n",
      " |  __next__(self, /)\n",
      " |      Implement next(self).\n",
      " |  \n",
      " |  __reduce__(...)\n",
      " |      Return state information for pickling.\n",
      " |  \n",
      " |  __setstate__(...)\n",
      " |      Set state information for unpickling.\n",
      " |  \n",
      " |  ----------------------------------------------------------------------\n",
      " |  Class methods defined here:\n",
      " |  \n",
      " |  __class_getitem__(...) from builtins.type\n",
      " |      See PEP 585\n",
      " |  \n",
      " |  from_iterable(iterable, /) from builtins.type\n",
      " |      Alternative chain() constructor taking a single iterable argument that evaluates lazily.\n",
      " |  \n",
      " |  ----------------------------------------------------------------------\n",
      " |  Static methods defined here:\n",
      " |  \n",
      " |  __new__(*args, **kwargs) from builtins.type\n",
      " |      Create and return a new object.  See help(type) for accurate signature.\n",
      "\n"
     ]
    }
   ],
   "source": [
    "help(chain)"
   ]
  },
  {
   "cell_type": "code",
   "execution_count": 8,
   "id": "56842fe5",
   "metadata": {},
   "outputs": [],
   "source": [
    "class Solitaire:\n",
    "    pass"
   ]
  },
  {
   "cell_type": "code",
   "execution_count": 9,
   "id": "c4e53eb8",
   "metadata": {},
   "outputs": [
    {
     "data": {
      "text/plain": [
       "type"
      ]
     },
     "execution_count": 9,
     "metadata": {},
     "output_type": "execute_result"
    }
   ],
   "source": [
    "type(Solitaire)"
   ]
  },
  {
   "cell_type": "code",
   "execution_count": 13,
   "id": "4db4d0d8",
   "metadata": {},
   "outputs": [
    {
     "data": {
      "text/plain": [
       "'Solitaire'"
      ]
     },
     "execution_count": 13,
     "metadata": {},
     "output_type": "execute_result"
    },
    {
     "data": {
      "text/plain": [
       "object"
      ]
     },
     "execution_count": 13,
     "metadata": {},
     "output_type": "execute_result"
    }
   ],
   "source": [
    "Solitaire.__name__\n",
    "Solitaire.__base__"
   ]
  },
  {
   "cell_type": "code",
   "execution_count": 14,
   "id": "1e64d6b6",
   "metadata": {},
   "outputs": [
    {
     "name": "stdout",
     "output_type": "stream",
     "text": [
      "None\n"
     ]
    }
   ],
   "source": [
    "print(object.__base__)"
   ]
  },
  {
   "cell_type": "code",
   "execution_count": 15,
   "id": "1a6b5462",
   "metadata": {},
   "outputs": [
    {
     "data": {
      "text/plain": [
       "type"
      ]
     },
     "execution_count": 15,
     "metadata": {},
     "output_type": "execute_result"
    }
   ],
   "source": [
    "type(object)"
   ]
  },
  {
   "cell_type": "code",
   "execution_count": 16,
   "id": "8c762227",
   "metadata": {},
   "outputs": [
    {
     "data": {
      "text/plain": [
       "mappingproxy({'__module__': '__main__',\n",
       "              '__dict__': <attribute '__dict__' of 'Solitaire' objects>,\n",
       "              '__weakref__': <attribute '__weakref__' of 'Solitaire' objects>,\n",
       "              '__doc__': None})"
      ]
     },
     "execution_count": 16,
     "metadata": {},
     "output_type": "execute_result"
    }
   ],
   "source": [
    "Solitaire.__dict__"
   ]
  },
  {
   "cell_type": "code",
   "execution_count": 17,
   "id": "e6b46853",
   "metadata": {},
   "outputs": [
    {
     "data": {
      "text/plain": [
       "['__class__',\n",
       " '__delattr__',\n",
       " '__dir__',\n",
       " '__doc__',\n",
       " '__eq__',\n",
       " '__format__',\n",
       " '__ge__',\n",
       " '__getattribute__',\n",
       " '__getstate__',\n",
       " '__gt__',\n",
       " '__hash__',\n",
       " '__init__',\n",
       " '__init_subclass__',\n",
       " '__le__',\n",
       " '__lt__',\n",
       " '__ne__',\n",
       " '__new__',\n",
       " '__reduce__',\n",
       " '__reduce_ex__',\n",
       " '__repr__',\n",
       " '__setattr__',\n",
       " '__sizeof__',\n",
       " '__str__',\n",
       " '__subclasshook__']"
      ]
     },
     "execution_count": 17,
     "metadata": {},
     "output_type": "execute_result"
    }
   ],
   "source": [
    "dir(object)"
   ]
  },
  {
   "cell_type": "code",
   "execution_count": 18,
   "id": "9a74889f",
   "metadata": {},
   "outputs": [
    {
     "data": {
      "text/plain": [
       "True"
      ]
     },
     "execution_count": 18,
     "metadata": {},
     "output_type": "execute_result"
    }
   ],
   "source": [
    "set(dir(object)) == object.__dict__.keys()"
   ]
  },
  {
   "cell_type": "code",
   "execution_count": 19,
   "id": "43aca507",
   "metadata": {},
   "outputs": [
    {
     "data": {
      "text/plain": [
       "['__class__',\n",
       " '__delattr__',\n",
       " '__dict__',\n",
       " '__dir__',\n",
       " '__doc__',\n",
       " '__eq__',\n",
       " '__format__',\n",
       " '__ge__',\n",
       " '__getattribute__',\n",
       " '__getstate__',\n",
       " '__gt__',\n",
       " '__hash__',\n",
       " '__init__',\n",
       " '__init_subclass__',\n",
       " '__le__',\n",
       " '__lt__',\n",
       " '__module__',\n",
       " '__ne__',\n",
       " '__new__',\n",
       " '__reduce__',\n",
       " '__reduce_ex__',\n",
       " '__repr__',\n",
       " '__setattr__',\n",
       " '__sizeof__',\n",
       " '__str__',\n",
       " '__subclasshook__',\n",
       " '__weakref__']"
      ]
     },
     "execution_count": 19,
     "metadata": {},
     "output_type": "execute_result"
    }
   ],
   "source": [
    "dir(Solitaire)"
   ]
  },
  {
   "cell_type": "code",
   "execution_count": 20,
   "id": "64548d31",
   "metadata": {},
   "outputs": [
    {
     "data": {
      "text/plain": [
       "True"
      ]
     },
     "execution_count": 20,
     "metadata": {},
     "output_type": "execute_result"
    }
   ],
   "source": [
    "set(dir(Solitaire)) == set(object.__dict__) | set(Solitaire.__dict__)"
   ]
  },
  {
   "cell_type": "code",
   "execution_count": 21,
   "id": "77bcea5a",
   "metadata": {},
   "outputs": [
    {
     "data": {
      "text/plain": [
       "{'__doc__'}"
      ]
     },
     "execution_count": 21,
     "metadata": {},
     "output_type": "execute_result"
    }
   ],
   "source": [
    "set(object.__dict__) & set(Solitaire.__dict__)"
   ]
  },
  {
   "cell_type": "code",
   "execution_count": 22,
   "id": "ff43dccd",
   "metadata": {},
   "outputs": [
    {
     "name": "stdout",
     "output_type": "stream",
     "text": [
      "The base class of the class hierarchy.\n",
      "\n",
      "When called, it accepts no arguments and returns a new featureless\n",
      "instance that has no instance attributes and cannot be given any.\n",
      "\n",
      "*****\n",
      "None\n"
     ]
    }
   ],
   "source": [
    "print(object.__doc__)\n",
    "print('*****')\n",
    "print(Solitaire.__doc__)"
   ]
  },
  {
   "cell_type": "code",
   "execution_count": 23,
   "id": "5fa8a2d4",
   "metadata": {},
   "outputs": [
    {
     "name": "stdout",
     "output_type": "stream",
     "text": [
      "A class that could be used as a foundation for an interface\n",
      " to play the game of Solitaire on a French board.\n"
     ]
    }
   ],
   "source": [
    "Solitaire.__doc__ =\\\n",
    "        'A class that could be used as a foundation for an interface\\n'\\\n",
    "        + ' to play the game of Solitaire on a French board.'\n",
    "\n",
    "print(Solitaire.__doc__)"
   ]
  },
  {
   "cell_type": "code",
   "execution_count": 24,
   "id": "78758a7b",
   "metadata": {},
   "outputs": [
    {
     "name": "stdout",
     "output_type": "stream",
     "text": [
      "Help on class Solitaire in module __main__:\n",
      "\n",
      "class Solitaire(builtins.object)\n",
      " |  A class that could be used as a foundation for an interface\n",
      " |  to play the game of Solitaire on a French board.\n",
      " |  \n",
      " |  Data descriptors defined here:\n",
      " |  \n",
      " |  __dict__\n",
      " |      dictionary for instance variables (if defined)\n",
      " |  \n",
      " |  __weakref__\n",
      " |      list of weak references to the object (if defined)\n",
      "\n"
     ]
    }
   ],
   "source": [
    "help(Solitaire)"
   ]
  },
  {
   "cell_type": "code",
   "execution_count": 25,
   "id": "59628c80",
   "metadata": {},
   "outputs": [],
   "source": [
    "Solitaire.locations = set(chain(range(37, 58, 10), range(26, 67, 10),\n",
    "                                range(15, 76, 10), range(14, 75, 10),\n",
    "                                range(13, 74, 10), range(22, 63, 10),\n",
    "                                range(31, 52, 10)\n",
    "                               )\n",
    "                         )"
   ]
  },
  {
   "cell_type": "code",
   "execution_count": 26,
   "id": "17fbf2be",
   "metadata": {},
   "outputs": [
    {
     "name": "stdout",
     "output_type": "stream",
     "text": [
      "Help on class Solitaire in module __main__:\n",
      "\n",
      "class Solitaire(builtins.object)\n",
      " |  A class that could be used as a foundation for an interface\n",
      " |  to play the game of Solitaire on a French board.\n",
      " |  \n",
      " |  Data descriptors defined here:\n",
      " |  \n",
      " |  __dict__\n",
      " |      dictionary for instance variables (if defined)\n",
      " |  \n",
      " |  __weakref__\n",
      " |      list of weak references to the object (if defined)\n",
      " |  \n",
      " |  ----------------------------------------------------------------------\n",
      " |  Data and other attributes defined here:\n",
      " |  \n",
      " |  locations = {13, 14, 15, 22, 23, 24, ...}\n",
      "\n"
     ]
    }
   ],
   "source": [
    "help(Solitaire)"
   ]
  },
  {
   "cell_type": "code",
   "execution_count": 27,
   "id": "bc04839b",
   "metadata": {},
   "outputs": [
    {
     "name": "stdout",
     "output_type": "stream",
     "text": [
      "{'__module__': '__main__', '__dict__': <attribute '__dict__' of 'Solitaire' objects>, '__weakref__': <attribute '__weakref__' of 'Solitaire' objects>, '__doc__': 'A class that could be used as a foundation for an interface\\n to play the game of Solitaire on a French board.', 'locations': {13, 14, 15, 22, 23, 24, 25, 26, 31, 32, 33, 34, 35, 36, 37, 41, 42, 43, 44, 45, 46, 47, 51, 52, 53, 54, 55, 56, 57, 62, 63, 64, 65, 66, 73, 74, 75}}\n"
     ]
    }
   ],
   "source": [
    "print(Solitaire.__dict__)"
   ]
  },
  {
   "cell_type": "code",
   "execution_count": 31,
   "id": "ecd31b3f",
   "metadata": {},
   "outputs": [
    {
     "name": "stdout",
     "output_type": "stream",
     "text": [
      "{13, 14, 15, 22, 23, 24, 25, 26, 31, 32, 33, 34, 35, 36, 37, 41, 42, 43, 44, 45, 46, 47, 51, 52, 53, 54, 55, 56, 57, 62, 63, 64, 65, 66, 73, 74, 75}\n",
      "\n",
      "{13, 14, 15, 22, 23, 24, 25, 26, 31, 32, 33, 34, 35, 36, 37, 41, 42, 43, 44, 45, 46, 47, 51, 52, 53, 54, 55, 56, 57, 62, 63, 64, 65, 66, 73, 74, 75}\n"
     ]
    }
   ],
   "source": [
    "print(Solitaire.__dict__['locations'])\n",
    "print()\n",
    "print(Solitaire.locations)"
   ]
  },
  {
   "cell_type": "code",
   "execution_count": 32,
   "id": "e423e23b",
   "metadata": {},
   "outputs": [
    {
     "data": {
      "text/plain": [
       "{35, 43, 44, 45, 46, 55}"
      ]
     },
     "execution_count": 32,
     "metadata": {},
     "output_type": "execute_result"
    }
   ],
   "source": [
    "def initial_state(*positions):\n",
    "    return set(positions)\n",
    "\n",
    "initial_state(35, 43, 44, 45, 46, 55)"
   ]
  },
  {
   "cell_type": "code",
   "execution_count": null,
   "id": "5911cd08",
   "metadata": {},
   "outputs": [],
   "source": [
    "  3 4 5 6\n",
    "3     *\n",
    "4 * * * *\n",
    "5     *"
   ]
  },
  {
   "cell_type": "code",
   "execution_count": 33,
   "id": "4db72205",
   "metadata": {},
   "outputs": [
    {
     "name": "stdout",
     "output_type": "stream",
     "text": [
      "{35, 43, 44, 45, 46, 55}\n",
      "\n",
      "{13, 14, 15, 22, 23, 24, 25, 26, 31, 32, 33, 34, 35, 36, 37, 41, 42, 43, 45, 46, 47, 51, 52, 53, 54, 55, 56, 57, 62, 63, 64, 65, 66, 73, 74, 75}\n"
     ]
    }
   ],
   "source": [
    "def initial_state(*positions, complement=False):\n",
    "    if not complement:\n",
    "        return set(positions)\n",
    "    return Solitaire.locations - set(positions)\n",
    "\n",
    "print(initial_state(35, 43, 44, 45, 46, 55))\n",
    "print()\n",
    "print(initial_state(44, complement=True))"
   ]
  },
  {
   "cell_type": "code",
   "execution_count": 37,
   "id": "066e800f",
   "metadata": {},
   "outputs": [
    {
     "data": {
      "text/plain": [
       "{True, 44}"
      ]
     },
     "execution_count": 37,
     "metadata": {},
     "output_type": "execute_result"
    }
   ],
   "source": [
    "initial_state(44, True)"
   ]
  },
  {
   "cell_type": "code",
   "execution_count": 41,
   "id": "5ea6ab66",
   "metadata": {},
   "outputs": [
    {
     "name": "stdout",
     "output_type": "stream",
     "text": [
      "{13, 14, 15, 22, 23, 24, 25, 26, 31, 32, 33, 34, 35, 36, 37, 41, 42, 47, 51, 52, 53, 54, 56, 57, 62, 63, 64, 65, 66, 73, 74, 75}\n"
     ]
    }
   ],
   "source": [
    "def initial_state(complement=False, *positions):\n",
    "    if not complement:\n",
    "        return set(positions)\n",
    "    return Solitaire.locations - set(positions)\n",
    "\n",
    "print(initial_state(35, 43, 44, 45, 46, 55))"
   ]
  },
  {
   "cell_type": "code",
   "execution_count": 48,
   "id": "c4cfd2e5",
   "metadata": {},
   "outputs": [
    {
     "name": "stdout",
     "output_type": "stream",
     "text": [
      "10 2 3\n",
      "10 20 3\n",
      "10 20 30\n",
      "10 20 30\n",
      "10 20 30\n"
     ]
    },
    {
     "ename": "TypeError",
     "evalue": "f() takes from 0 to 2 positional arguments but 3 were given",
     "output_type": "error",
     "traceback": [
      "\u001b[0;31m---------------------------------------------------------------------------\u001b[0m",
      "\u001b[0;31mTypeError\u001b[0m                                 Traceback (most recent call last)",
      "Cell \u001b[0;32mIn[48], line 9\u001b[0m\n\u001b[1;32m      7\u001b[0m f(\u001b[38;5;241m10\u001b[39m, c\u001b[38;5;241m=\u001b[39m\u001b[38;5;241m30\u001b[39m, b\u001b[38;5;241m=\u001b[39m\u001b[38;5;241m20\u001b[39m)\n\u001b[1;32m      8\u001b[0m f(b\u001b[38;5;241m=\u001b[39m\u001b[38;5;241m20\u001b[39m, a\u001b[38;5;241m=\u001b[39m\u001b[38;5;241m10\u001b[39m, c\u001b[38;5;241m=\u001b[39m\u001b[38;5;241m30\u001b[39m)\n\u001b[0;32m----> 9\u001b[0m \u001b[43mf\u001b[49m\u001b[43m(\u001b[49m\u001b[38;5;241;43m10\u001b[39;49m\u001b[43m,\u001b[49m\u001b[43m \u001b[49m\u001b[38;5;241;43m20\u001b[39;49m\u001b[43m,\u001b[49m\u001b[43m \u001b[49m\u001b[38;5;241;43m30\u001b[39;49m\u001b[43m)\u001b[49m\n",
      "\u001b[0;31mTypeError\u001b[0m: f() takes from 0 to 2 positional arguments but 3 were given"
     ]
    }
   ],
   "source": [
    "def f(a=1, b=2, *, c=3):\n",
    "    print(a, b, c)\n",
    "\n",
    "f(10)\n",
    "f(10, 20)\n",
    "f(10, 20, c=30)\n",
    "f(10, c=30, b=20)\n",
    "f(b=20, a=10, c=30)\n",
    "f(10, 20, 30)"
   ]
  },
  {
   "cell_type": "code",
   "execution_count": 49,
   "id": "23c09203",
   "metadata": {},
   "outputs": [
    {
     "name": "stdout",
     "output_type": "stream",
     "text": [
      "1 20 3\n",
      "1 20 30\n",
      "10 20 30\n"
     ]
    },
    {
     "ename": "TypeError",
     "evalue": "f() takes 0 positional arguments but 1 was given",
     "output_type": "error",
     "traceback": [
      "\u001b[0;31m---------------------------------------------------------------------------\u001b[0m",
      "\u001b[0;31mTypeError\u001b[0m                                 Traceback (most recent call last)",
      "Cell \u001b[0;32mIn[49], line 7\u001b[0m\n\u001b[1;32m      5\u001b[0m f(c\u001b[38;5;241m=\u001b[39m\u001b[38;5;241m30\u001b[39m, b\u001b[38;5;241m=\u001b[39m\u001b[38;5;241m20\u001b[39m)\n\u001b[1;32m      6\u001b[0m f(b\u001b[38;5;241m=\u001b[39m\u001b[38;5;241m20\u001b[39m, a\u001b[38;5;241m=\u001b[39m\u001b[38;5;241m10\u001b[39m, c\u001b[38;5;241m=\u001b[39m\u001b[38;5;241m30\u001b[39m)\n\u001b[0;32m----> 7\u001b[0m \u001b[43mf\u001b[49m\u001b[43m(\u001b[49m\u001b[38;5;241;43m10\u001b[39;49m\u001b[43m)\u001b[49m\n",
      "\u001b[0;31mTypeError\u001b[0m: f() takes 0 positional arguments but 1 was given"
     ]
    }
   ],
   "source": [
    "def f(*, a=1, b=2, c=3):\n",
    "    print(a, b, c)\n",
    "\n",
    "f(b=20)\n",
    "f(c=30, b=20)\n",
    "f(b=20, a=10, c=30)\n",
    "f(10)"
   ]
  },
  {
   "cell_type": "code",
   "execution_count": 50,
   "id": "26b70514",
   "metadata": {},
   "outputs": [
    {
     "name": "stdout",
     "output_type": "stream",
     "text": [
      "1 20 3 40 5 6\n"
     ]
    }
   ],
   "source": [
    "def f(a, b=2, c=3, *, d=4, e=5, f=6):\n",
    "    print(a, b, c, d, e, f)\n",
    "    \n",
    "f(1, d=40, b=20)"
   ]
  },
  {
   "cell_type": "code",
   "execution_count": 51,
   "id": "4a8b70a6",
   "metadata": {},
   "outputs": [
    {
     "name": "stdout",
     "output_type": "stream",
     "text": [
      "1 2 3 5 5 60\n"
     ]
    }
   ],
   "source": [
    "def f(a, b, c, *, d, e=5, f=6):\n",
    "    print(a, b, c, d, e, f)\n",
    "    \n",
    "f(1, 2, d=5, c=3, f=60)"
   ]
  },
  {
   "cell_type": "code",
   "execution_count": 55,
   "id": "af65d808",
   "metadata": {},
   "outputs": [
    {
     "name": "stdout",
     "output_type": "stream",
     "text": [
      "1 2 () 3 4\n",
      "1 2 ('A', 'B', 'C') 3 40\n",
      "1 2 ('A', 'B') 3 4\n"
     ]
    },
    {
     "ename": "TypeError",
     "evalue": "f() missing 1 required keyword-only argument: 'c'",
     "output_type": "error",
     "traceback": [
      "\u001b[0;31m---------------------------------------------------------------------------\u001b[0m",
      "\u001b[0;31mTypeError\u001b[0m                                 Traceback (most recent call last)",
      "Cell \u001b[0;32mIn[55], line 7\u001b[0m\n\u001b[1;32m      5\u001b[0m f(\u001b[38;5;241m1\u001b[39m, \u001b[38;5;241m2\u001b[39m, \u001b[38;5;124m'\u001b[39m\u001b[38;5;124mA\u001b[39m\u001b[38;5;124m'\u001b[39m, \u001b[38;5;124m'\u001b[39m\u001b[38;5;124mB\u001b[39m\u001b[38;5;124m'\u001b[39m, \u001b[38;5;124m'\u001b[39m\u001b[38;5;124mC\u001b[39m\u001b[38;5;124m'\u001b[39m, d\u001b[38;5;241m=\u001b[39m\u001b[38;5;241m40\u001b[39m, c\u001b[38;5;241m=\u001b[39m\u001b[38;5;241m3\u001b[39m)\n\u001b[1;32m      6\u001b[0m f(\u001b[38;5;241m1\u001b[39m, \u001b[38;5;241m2\u001b[39m, \u001b[38;5;124m'\u001b[39m\u001b[38;5;124mA\u001b[39m\u001b[38;5;124m'\u001b[39m, \u001b[38;5;124m'\u001b[39m\u001b[38;5;124mB\u001b[39m\u001b[38;5;124m'\u001b[39m, c\u001b[38;5;241m=\u001b[39m\u001b[38;5;241m3\u001b[39m)\n\u001b[0;32m----> 7\u001b[0m \u001b[43mf\u001b[49m\u001b[43m(\u001b[49m\u001b[38;5;241;43m1\u001b[39;49m\u001b[43m,\u001b[49m\u001b[43m \u001b[49m\u001b[38;5;241;43m2\u001b[39;49m\u001b[43m,\u001b[49m\u001b[43m \u001b[49m\u001b[38;5;124;43m'\u001b[39;49m\u001b[38;5;124;43mA\u001b[39;49m\u001b[38;5;124;43m'\u001b[39;49m\u001b[43m,\u001b[49m\u001b[43m \u001b[49m\u001b[38;5;124;43m'\u001b[39;49m\u001b[38;5;124;43mB\u001b[39;49m\u001b[38;5;124;43m'\u001b[39;49m\u001b[43m,\u001b[49m\u001b[43m \u001b[49m\u001b[43md\u001b[49m\u001b[38;5;241;43m=\u001b[39;49m\u001b[38;5;241;43m40\u001b[39;49m\u001b[43m)\u001b[49m\n",
      "\u001b[0;31mTypeError\u001b[0m: f() missing 1 required keyword-only argument: 'c'"
     ]
    }
   ],
   "source": [
    "def f(a, b, *x, c, d=4):\n",
    "    print(a, b, x, c, d)\n",
    "    \n",
    "f(1, c=3, b=2)\n",
    "f(1, 2, 'A', 'B', 'C', d=40, c=3)\n",
    "f(1, 2, 'A', 'B', c=3)\n",
    "f(1, 2, 'A', 'B', d=40)"
   ]
  },
  {
   "cell_type": "code",
   "execution_count": 56,
   "id": "6da8af85",
   "metadata": {},
   "outputs": [
    {
     "name": "stdout",
     "output_type": "stream",
     "text": [
      "10 2 () 3\n",
      "10 2 () 3\n",
      "10 2 () 30\n",
      "10 20 () 3\n",
      "10 20 ('A',) 3\n",
      "10 20 ('A', 'B') 30\n"
     ]
    }
   ],
   "source": [
    "def f(a, b=2, *x, c=3):\n",
    "    print(a, b, x, c)\n",
    "\n",
    "f(10)\n",
    "f(a=10)\n",
    "f(c=30, a=10)\n",
    "f(10, 20)\n",
    "f(10, 20, 'A')\n",
    "f(10, 20, 'A', 'B', c=30)"
   ]
  },
  {
   "cell_type": "code",
   "execution_count": 57,
   "id": "0d0123ad",
   "metadata": {},
   "outputs": [
    {
     "data": {
      "text/plain": [
       "True"
      ]
     },
     "execution_count": 57,
     "metadata": {},
     "output_type": "execute_result"
    }
   ],
   "source": [
    "Solitaire.__init__ is object.__init__"
   ]
  },
  {
   "cell_type": "code",
   "execution_count": 58,
   "id": "b63ff371",
   "metadata": {},
   "outputs": [
    {
     "data": {
      "text/plain": [
       "<slot wrapper '__init__' of 'object' objects>"
      ]
     },
     "execution_count": 58,
     "metadata": {},
     "output_type": "execute_result"
    }
   ],
   "source": [
    "Solitaire.__init__"
   ]
  },
  {
   "cell_type": "code",
   "execution_count": 59,
   "id": "61017e81",
   "metadata": {},
   "outputs": [
    {
     "data": {
      "text/plain": [
       "False"
      ]
     },
     "execution_count": 59,
     "metadata": {},
     "output_type": "execute_result"
    }
   ],
   "source": [
    "def initialise_solitaire_object(self, *initial_positions, complement=False):\n",
    "    self.initial_state = {i: (i in initial_positions) ^ complement\n",
    "                             for i in Solitaire.locations\n",
    "                         }\n",
    "    self.current_state = dict(self.initial_state)\n",
    "    self.moves = []\n",
    "    \n",
    "Solitaire.__init__ = initialise_solitaire_object\n",
    "Solitaire.__init__ is object.__init__"
   ]
  },
  {
   "cell_type": "code",
   "execution_count": 60,
   "id": "1f432898",
   "metadata": {},
   "outputs": [
    {
     "data": {
      "text/plain": [
       "<function __main__.initialise_solitaire_object(self, *initial_positions, complement=False)>"
      ]
     },
     "execution_count": 60,
     "metadata": {},
     "output_type": "execute_result"
    }
   ],
   "source": [
    "Solitaire.__init__"
   ]
  },
  {
   "cell_type": "code",
   "execution_count": 61,
   "id": "ead6f23c",
   "metadata": {},
   "outputs": [
    {
     "name": "stdout",
     "output_type": "stream",
     "text": [
      "{'__module__': '__main__', '__dict__': <attribute '__dict__' of 'Solitaire' objects>, '__weakref__': <attribute '__weakref__' of 'Solitaire' objects>, '__doc__': 'A class that could be used as a foundation for an interface\\n to play the game of Solitaire on a French board.', 'locations': {13, 14, 15, 22, 23, 24, 25, 26, 31, 32, 33, 34, 35, 36, 37, 41, 42, 43, 44, 45, 46, 47, 51, 52, 53, 54, 55, 56, 57, 62, 63, 64, 65, 66, 73, 74, 75}, '__init__': <function initialise_solitaire_object at 0x109afa980>}\n"
     ]
    }
   ],
   "source": [
    "print(Solitaire.__dict__)"
   ]
  },
  {
   "cell_type": "code",
   "execution_count": 62,
   "id": "92396b38",
   "metadata": {},
   "outputs": [
    {
     "data": {
      "text/plain": [
       "(__main__.Solitaire, __main__.Solitaire)"
      ]
     },
     "execution_count": 62,
     "metadata": {},
     "output_type": "execute_result"
    }
   ],
   "source": [
    "solitaire_1 = Solitaire(35, 43, 44, 45, 46, 55)\n",
    "solitaire_2 = Solitaire(44, complement=True)\n",
    "\n",
    "type(solitaire_1), type(solitaire_2)"
   ]
  },
  {
   "cell_type": "code",
   "execution_count": 63,
   "id": "501ddb0d",
   "metadata": {},
   "outputs": [
    {
     "name": "stdout",
     "output_type": "stream",
     "text": [
      "{'initial_state': {13: False, 14: False, 15: False, 22: False, 23: False, 24: False, 25: False, 26: False, 31: False, 32: False, 33: False, 34: False, 35: True, 36: False, 37: False, 41: False, 42: False, 43: True, 44: True, 45: True, 46: True, 47: False, 51: False, 52: False, 53: False, 54: False, 55: True, 56: False, 57: False, 62: False, 63: False, 64: False, 65: False, 66: False, 73: False, 74: False, 75: False}, 'current_state': {13: False, 14: False, 15: False, 22: False, 23: False, 24: False, 25: False, 26: False, 31: False, 32: False, 33: False, 34: False, 35: True, 36: False, 37: False, 41: False, 42: False, 43: True, 44: True, 45: True, 46: True, 47: False, 51: False, 52: False, 53: False, 54: False, 55: True, 56: False, 57: False, 62: False, 63: False, 64: False, 65: False, 66: False, 73: False, 74: False, 75: False}, 'moves': []}\n",
      "\n",
      "{'initial_state': {13: True, 14: True, 15: True, 22: True, 23: True, 24: True, 25: True, 26: True, 31: True, 32: True, 33: True, 34: True, 35: True, 36: True, 37: True, 41: True, 42: True, 43: True, 44: False, 45: True, 46: True, 47: True, 51: True, 52: True, 53: True, 54: True, 55: True, 56: True, 57: True, 62: True, 63: True, 64: True, 65: True, 66: True, 73: True, 74: True, 75: True}, 'current_state': {13: True, 14: True, 15: True, 22: True, 23: True, 24: True, 25: True, 26: True, 31: True, 32: True, 33: True, 34: True, 35: True, 36: True, 37: True, 41: True, 42: True, 43: True, 44: False, 45: True, 46: True, 47: True, 51: True, 52: True, 53: True, 54: True, 55: True, 56: True, 57: True, 62: True, 63: True, 64: True, 65: True, 66: True, 73: True, 74: True, 75: True}, 'moves': []}\n"
     ]
    }
   ],
   "source": [
    "print(solitaire_1.__dict__)\n",
    "print()\n",
    "print(solitaire_2.__dict__)"
   ]
  },
  {
   "cell_type": "code",
   "execution_count": 64,
   "id": "ae801687",
   "metadata": {},
   "outputs": [
    {
     "name": "stdout",
     "output_type": "stream",
     "text": [
      "{13: False, 14: False, 15: False, 22: False, 23: False, 24: False, 25: False, 26: False, 31: False, 32: False, 33: False, 34: False, 35: True, 36: False, 37: False, 41: False, 42: False, 43: True, 44: True, 45: True, 46: True, 47: False, 51: False, 52: False, 53: False, 54: False, 55: True, 56: False, 57: False, 62: False, 63: False, 64: False, 65: False, 66: False, 73: False, 74: False, 75: False}\n",
      "\n",
      "{13: False, 14: False, 15: False, 22: False, 23: False, 24: False, 25: False, 26: False, 31: False, 32: False, 33: False, 34: False, 35: True, 36: False, 37: False, 41: False, 42: False, 43: True, 44: True, 45: True, 46: True, 47: False, 51: False, 52: False, 53: False, 54: False, 55: True, 56: False, 57: False, 62: False, 63: False, 64: False, 65: False, 66: False, 73: False, 74: False, 75: False}\n"
     ]
    }
   ],
   "source": [
    "print(solitaire_1.initial_state)\n",
    "print()\n",
    "print(solitaire_1.__dict__['initial_state'])"
   ]
  },
  {
   "cell_type": "code",
   "execution_count": 65,
   "id": "64040af7",
   "metadata": {},
   "outputs": [
    {
     "name": "stdout",
     "output_type": "stream",
     "text": [
      "{13, 14, 15, 22, 23, 24, 25, 26, 31, 32, 33, 34, 35, 36, 37, 41, 42, 43, 44, 45, 46, 47, 51, 52, 53, 54, 55, 56, 57, 62, 63, 64, 65, 66, 73, 74, 75}\n"
     ]
    }
   ],
   "source": [
    "print(solitaire_1.locations)"
   ]
  },
  {
   "cell_type": "code",
   "execution_count": 68,
   "id": "7bcdd79f",
   "metadata": {},
   "outputs": [
    {
     "data": {
      "text/plain": [
       "__main__.Solitaire"
      ]
     },
     "execution_count": 68,
     "metadata": {},
     "output_type": "execute_result"
    }
   ],
   "source": [
    "solitaire_1.__class__"
   ]
  },
  {
   "cell_type": "code",
   "execution_count": 69,
   "id": "03f571d4",
   "metadata": {},
   "outputs": [
    {
     "name": "stdout",
     "output_type": "stream",
     "text": [
      "{13, 14, 15, 22, 23, 24, 25, 26, 31, 32, 33, 34, 35, 36, 37, 41, 42, 43, 44, 45, 46, 47, 51, 52, 53, 54, 55, 56, 57, 62, 63, 64, 65, 66, 73, 74, 75}\n"
     ]
    }
   ],
   "source": [
    "print(solitaire_1.__class__.__dict__['locations'])"
   ]
  },
  {
   "cell_type": "code",
   "execution_count": 70,
   "id": "976c1721",
   "metadata": {},
   "outputs": [
    {
     "data": {
      "text/plain": [
       "True"
      ]
     },
     "execution_count": 70,
     "metadata": {},
     "output_type": "execute_result"
    },
    {
     "data": {
      "text/plain": [
       "True"
      ]
     },
     "execution_count": 70,
     "metadata": {},
     "output_type": "execute_result"
    }
   ],
   "source": [
    "set(dir(solitaire_1)) == solitaire_1.__dict__.keys() | set(dir(Solitaire))\n",
    "set(dir(solitaire_1)) == solitaire_1.__dict__.keys()\\\n",
    "                         | Solitaire.__dict__.keys() | object.__dict__.keys()"
   ]
  },
  {
   "cell_type": "code",
   "execution_count": 71,
   "id": "d32fc138",
   "metadata": {},
   "outputs": [
    {
     "data": {
      "text/plain": [
       "True"
      ]
     },
     "execution_count": 71,
     "metadata": {},
     "output_type": "execute_result"
    }
   ],
   "source": [
    "'__new__' in set(object.__dict__) - set(Solitaire.__dict__)"
   ]
  },
  {
   "cell_type": "code",
   "execution_count": 72,
   "id": "5f303cc5",
   "metadata": {},
   "outputs": [
    {
     "data": {
      "text/plain": [
       "True"
      ]
     },
     "execution_count": 72,
     "metadata": {},
     "output_type": "execute_result"
    },
    {
     "data": {
      "text/plain": [
       "<function object.__new__(*args, **kwargs)>"
      ]
     },
     "execution_count": 72,
     "metadata": {},
     "output_type": "execute_result"
    }
   ],
   "source": [
    "Solitaire.__new__ is object.__new__\n",
    "object.__new__"
   ]
  },
  {
   "cell_type": "code",
   "execution_count": 73,
   "id": "952ebf33",
   "metadata": {},
   "outputs": [
    {
     "data": {
      "text/plain": [
       "<__main__.Solitaire at 0x109b8ee10>"
      ]
     },
     "execution_count": 73,
     "metadata": {},
     "output_type": "execute_result"
    },
    {
     "data": {
      "text/plain": [
       "<__main__.Solitaire at 0x109bb50d0>"
      ]
     },
     "execution_count": 73,
     "metadata": {},
     "output_type": "execute_result"
    },
    {
     "data": {
      "text/plain": [
       "<__main__.Solitaire at 0x109bb7290>"
      ]
     },
     "execution_count": 73,
     "metadata": {},
     "output_type": "execute_result"
    }
   ],
   "source": [
    "Solitaire.__new__(Solitaire)\n",
    "object.__new__(Solitaire)\n",
    "object.__dict__['__new__'](Solitaire)"
   ]
  },
  {
   "cell_type": "code",
   "execution_count": 74,
   "id": "f0128763",
   "metadata": {},
   "outputs": [
    {
     "data": {
      "text/plain": [
       "__main__.Solitaire"
      ]
     },
     "execution_count": 74,
     "metadata": {},
     "output_type": "execute_result"
    },
    {
     "data": {
      "text/plain": [
       "{}"
      ]
     },
     "execution_count": 74,
     "metadata": {},
     "output_type": "execute_result"
    }
   ],
   "source": [
    "solitaire = Solitaire.__new__(Solitaire)\n",
    "type(solitaire)\n",
    "solitaire.__dict__"
   ]
  },
  {
   "cell_type": "code",
   "execution_count": 75,
   "id": "b071d3b8",
   "metadata": {},
   "outputs": [],
   "source": [
    "Solitaire.__init__(solitaire, 35, 43, 44, 45, 46, 55)"
   ]
  },
  {
   "cell_type": "code",
   "execution_count": 76,
   "id": "ac99ca06",
   "metadata": {},
   "outputs": [
    {
     "name": "stdout",
     "output_type": "stream",
     "text": [
      "{'initial_state': {13: False, 14: False, 15: False, 22: False, 23: False, 24: False, 25: False, 26: False, 31: False, 32: False, 33: False, 34: False, 35: True, 36: False, 37: False, 41: False, 42: False, 43: True, 44: True, 45: True, 46: True, 47: False, 51: False, 52: False, 53: False, 54: False, 55: True, 56: False, 57: False, 62: False, 63: False, 64: False, 65: False, 66: False, 73: False, 74: False, 75: False}, 'current_state': {13: False, 14: False, 15: False, 22: False, 23: False, 24: False, 25: False, 26: False, 31: False, 32: False, 33: False, 34: False, 35: True, 36: False, 37: False, 41: False, 42: False, 43: True, 44: True, 45: True, 46: True, 47: False, 51: False, 52: False, 53: False, 54: False, 55: True, 56: False, 57: False, 62: False, 63: False, 64: False, 65: False, 66: False, 73: False, 74: False, 75: False}, 'moves': []}\n"
     ]
    }
   ],
   "source": [
    "print(solitaire.__dict__)"
   ]
  },
  {
   "cell_type": "code",
   "execution_count": 77,
   "id": "09be8e61",
   "metadata": {},
   "outputs": [
    {
     "data": {
      "text/plain": [
       "[]"
      ]
     },
     "execution_count": 77,
     "metadata": {},
     "output_type": "execute_result"
    },
    {
     "data": {
      "text/plain": [
       "[]"
      ]
     },
     "execution_count": 77,
     "metadata": {},
     "output_type": "execute_result"
    }
   ],
   "source": [
    "solitaire.moves\n",
    "solitaire.__dict__['moves']"
   ]
  },
  {
   "cell_type": "code",
   "execution_count": 78,
   "id": "3507e1eb",
   "metadata": {},
   "outputs": [],
   "source": [
    "solitaire = object.__dict__['__new__'](Solitaire)\n",
    "Solitaire.__dict__['__init__'](solitaire, 35, 43, 44, 45, 46, 55)"
   ]
  },
  {
   "cell_type": "code",
   "execution_count": 79,
   "id": "97e04096",
   "metadata": {},
   "outputs": [],
   "source": [
    "solitaire = object.__dict__['__new__'](Solitaire)\n",
    "solitaire.__init__(35, 43, 44, 45, 46, 55)"
   ]
  },
  {
   "cell_type": "code",
   "execution_count": 80,
   "id": "cd2dc91f",
   "metadata": {},
   "outputs": [
    {
     "data": {
      "text/plain": [
       "<function __main__.initialise_solitaire_object(self, *initial_positions, complement=False)>"
      ]
     },
     "execution_count": 80,
     "metadata": {},
     "output_type": "execute_result"
    },
    {
     "data": {
      "text/plain": [
       "<bound method initialise_solitaire_object of <__main__.Solitaire object at 0x109b8f8d0>>"
      ]
     },
     "execution_count": 80,
     "metadata": {},
     "output_type": "execute_result"
    },
    {
     "data": {
      "text/plain": [
       "False"
      ]
     },
     "execution_count": 80,
     "metadata": {},
     "output_type": "execute_result"
    }
   ],
   "source": [
    "Solitaire.__init__\n",
    "solitaire.__init__\n",
    "solitaire.__init__ is Solitaire.__init__"
   ]
  },
  {
   "cell_type": "code",
   "execution_count": 94,
   "id": "4fbb81f4",
   "metadata": {},
   "outputs": [],
   "source": [
    "def display_initial_state(self):\n",
    "    self._display_state(self.initial_state)\n",
    "\n",
    "def display_current_state(self):\n",
    "    self._display_state(self.current_state)\n",
    "\n",
    "def _display_state(self, positions):\n",
    "    print()\n",
    "    for y in range(7, 0, -1):\n",
    "        for i in range(y + 10, y + 80, 10):\n",
    "            if not i in positions:\n",
    "                print('  ', end='')\n",
    "            elif positions[i]:\n",
    "                print(' \\N{Black circle}', end='')\n",
    "            else:\n",
    "                print(' \\N{White circle}', end='')\n",
    "        print()\n",
    "    print()\n",
    "\n",
    "def play(self, *moves):\n",
    "    for move in moves:\n",
    "        if not self.take(*move):\n",
    "            break\n",
    "\n",
    "def take(self, start_position, end_position):\n",
    "    if not start_position in self.current_state\\\n",
    "       or not self.current_state[start_position]\\\n",
    "       or not end_position in self.current_state\\\n",
    "       or self.current_state[end_position]\\\n",
    "       or abs(start_position - end_position) not in {2, 20}:\n",
    "        return False\n",
    "    mid_position = (start_position + end_position) // 2\n",
    "    if not self.current_state[mid_position]:\n",
    "        return False\n",
    "    self.moves.append((start_position, end_position))\n",
    "    self._take_or_undo(start_position, end_position, mid_position)\n",
    "    return True\n",
    "\n",
    "def undo(self, nb_of_times=1):\n",
    "    for _ in range(min(nb_of_times, len(self.moves))):\n",
    "        start_position, end_position = self.moves.pop()\n",
    "        mid_position = (start_position + end_position) // 2\n",
    "        self._take_or_undo(end_position, start_position, mid_position)\n",
    "\n",
    "def _take_or_undo(self, start_position, end_position, mid_position):\n",
    "        self.current_state[start_position] = False\n",
    "        self.current_state[end_position] = True\n",
    "        self.current_state[mid_position] =\\\n",
    "                not self.current_state[mid_position]\n",
    "\n",
    "Solitaire.display_initial_state = display_initial_state\n",
    "Solitaire.display_current_state = display_current_state\n",
    "Solitaire.play = play\n",
    "Solitaire.undo = undo\n",
    "Solitaire.take = take\n",
    "Solitaire._display_state = _display_state\n",
    "Solitaire._take_or_undo = _take_or_undo"
   ]
  },
  {
   "cell_type": "code",
   "execution_count": 97,
   "id": "01ff97f6",
   "metadata": {},
   "outputs": [
    {
     "data": {
      "text/plain": [
       "[]"
      ]
     },
     "execution_count": 97,
     "metadata": {},
     "output_type": "execute_result"
    },
    {
     "name": "stdout",
     "output_type": "stream",
     "text": [
      "\n",
      "     ○ ○ ○    \n",
      "   ○ ○ ● ○ ○  \n",
      " ○ ○ ● ● ● ○ ○\n",
      " ○ ○ ○ ● ○ ○ ○\n",
      " ○ ○ ○ ● ○ ○ ○\n",
      "   ○ ○ ○ ○ ○  \n",
      "     ○ ○ ○    \n",
      "\n"
     ]
    }
   ],
   "source": [
    "solitaire_3 = Solitaire(35, 43, 44, 45, 46, 55)\n",
    "\n",
    "solitaire_3.moves\n",
    "solitaire.display_initial_state()"
   ]
  },
  {
   "cell_type": "code",
   "execution_count": 98,
   "id": "3ac0a402",
   "metadata": {},
   "outputs": [
    {
     "data": {
      "text/plain": [
       "True"
      ]
     },
     "execution_count": 98,
     "metadata": {},
     "output_type": "execute_result"
    },
    {
     "data": {
      "text/plain": [
       "[(45, 65)]"
      ]
     },
     "execution_count": 98,
     "metadata": {},
     "output_type": "execute_result"
    },
    {
     "name": "stdout",
     "output_type": "stream",
     "text": [
      "\n",
      "     ○ ○ ○    \n",
      "   ○ ○ ● ○ ○  \n",
      " ○ ○ ● ○ ○ ● ○\n",
      " ○ ○ ○ ● ○ ○ ○\n",
      " ○ ○ ○ ● ○ ○ ○\n",
      "   ○ ○ ○ ○ ○  \n",
      "     ○ ○ ○    \n",
      "\n"
     ]
    }
   ],
   "source": [
    "solitaire_3.take(45, 65)\n",
    "solitaire_3.moves\n",
    "solitaire_3.display_current_state()"
   ]
  },
  {
   "cell_type": "code",
   "execution_count": 99,
   "id": "12dc448d",
   "metadata": {},
   "outputs": [
    {
     "data": {
      "text/plain": [
       "[(45, 65), (43, 45), (35, 55)]"
      ]
     },
     "execution_count": 99,
     "metadata": {},
     "output_type": "execute_result"
    },
    {
     "name": "stdout",
     "output_type": "stream",
     "text": [
      "\n",
      "     ○ ○ ○    \n",
      "   ○ ○ ● ○ ○  \n",
      " ○ ○ ○ ○ ● ● ○\n",
      " ○ ○ ○ ○ ○ ○ ○\n",
      " ○ ○ ○ ○ ○ ○ ○\n",
      "   ○ ○ ○ ○ ○  \n",
      "     ○ ○ ○    \n",
      "\n"
     ]
    }
   ],
   "source": [
    "solitaire_3.play((43, 45), (35, 55), (55, 45), (65, 45), (46, 44))\n",
    "solitaire_3.moves\n",
    "solitaire_3.display_current_state()"
   ]
  },
  {
   "cell_type": "code",
   "execution_count": 100,
   "id": "f1fb2c22",
   "metadata": {},
   "outputs": [
    {
     "data": {
      "text/plain": [
       "[(45, 65), (43, 45), (35, 55)]"
      ]
     },
     "execution_count": 100,
     "metadata": {},
     "output_type": "execute_result"
    }
   ],
   "source": [
    "for move in (35, 55), (65, 45), (46, 44), (44, 46), (46, 46):\n",
    "    if not solitaire_3.take(*move):\n",
    "        break\n",
    "    solitaire_3.display_current_state()\n",
    "solitaire_3.moves"
   ]
  },
  {
   "cell_type": "code",
   "execution_count": 101,
   "id": "fa0cd7c5",
   "metadata": {},
   "outputs": [
    {
     "data": {
      "text/plain": [
       "[(45, 65)]"
      ]
     },
     "execution_count": 101,
     "metadata": {},
     "output_type": "execute_result"
    },
    {
     "name": "stdout",
     "output_type": "stream",
     "text": [
      "\n",
      "     ○ ○ ○    \n",
      "   ○ ○ ● ○ ○  \n",
      " ○ ○ ● ○ ○ ● ○\n",
      " ○ ○ ○ ● ○ ○ ○\n",
      " ○ ○ ○ ● ○ ○ ○\n",
      "   ○ ○ ○ ○ ○  \n",
      "     ○ ○ ○    \n",
      "\n",
      "\n",
      "     ○ ○ ○    \n",
      "   ○ ○ ● ○ ○  \n",
      " ○ ○ ● ● ● ○ ○\n",
      " ○ ○ ○ ● ○ ○ ○\n",
      " ○ ○ ○ ● ○ ○ ○\n",
      "   ○ ○ ○ ○ ○  \n",
      "     ○ ○ ○    \n",
      "\n"
     ]
    }
   ],
   "source": [
    "solitaire_3.undo(2)\n",
    "solitaire_3.moves\n",
    "solitaire_3.display_current_state()\n",
    "solitaire_3.display_initial_state()"
   ]
  },
  {
   "cell_type": "code",
   "execution_count": 102,
   "id": "d08a6abf",
   "metadata": {},
   "outputs": [
    {
     "name": "stdout",
     "output_type": "stream",
     "text": [
      "\n",
      "     ● ● ●    \n",
      "   ● ● ● ● ●  \n",
      " ● ● ● ● ● ● ●\n",
      " ● ● ● ○ ● ● ●\n",
      " ● ● ● ● ● ● ●\n",
      "   ● ● ● ● ●  \n",
      "     ● ● ●    \n",
      "\n"
     ]
    },
    {
     "data": {
      "text/plain": [
       "True"
      ]
     },
     "execution_count": 102,
     "metadata": {},
     "output_type": "execute_result"
    },
    {
     "name": "stdout",
     "output_type": "stream",
     "text": [
      "\n",
      "     ● ● ●    \n",
      "   ● ● ● ● ●  \n",
      " ● ● ● ● ● ● ●\n",
      " ● ○ ○ ● ● ● ●\n",
      " ● ● ● ● ● ● ●\n",
      "   ● ● ● ● ●  \n",
      "     ● ● ●    \n",
      "\n"
     ]
    }
   ],
   "source": [
    "solitaire_4 = Solitaire(44, complement=True)\n",
    "\n",
    "Solitaire.display_initial_state(solitaire_4)\n",
    "Solitaire.take(solitaire_4, 24, 44)\n",
    "Solitaire.display_current_state(solitaire_4)"
   ]
  },
  {
   "cell_type": "code",
   "execution_count": 105,
   "id": "8244f219",
   "metadata": {},
   "outputs": [
    {
     "name": "stdout",
     "output_type": "stream",
     "text": [
      "\n",
      "     ● ● ●    \n",
      "   ○ ● ● ● ○  \n",
      " ○ ○ ● ● ● ○ ○\n",
      " ○ ○ ● ○ ● ○ ○\n",
      " ○ ○ ○ ○ ○ ○ ○\n",
      "   ○ ○ ○ ○ ○  \n",
      "     ○ ○ ○    \n",
      "\n",
      "\n",
      "     ● ○ ○    \n",
      "   ○ ● ● ● ○  \n",
      " ○ ● ○ ○ ● ○ ○\n",
      " ○ ○ ○ ○ ● ○ ○\n",
      " ○ ○ ○ ○ ○ ○ ○\n",
      "   ○ ○ ○ ○ ○  \n",
      "     ○ ○ ○    \n",
      "\n"
     ]
    },
    {
     "data": {
      "text/plain": [
       "True"
      ]
     },
     "execution_count": 105,
     "metadata": {},
     "output_type": "execute_result"
    },
    {
     "name": "stdout",
     "output_type": "stream",
     "text": [
      "\n",
      "     ○ ○ ○    \n",
      "   ○ ○ ● ● ○  \n",
      " ○ ● ● ○ ● ○ ○\n",
      " ○ ○ ○ ○ ● ○ ○\n",
      " ○ ○ ○ ○ ○ ○ ○\n",
      "   ○ ○ ○ ○ ○  \n",
      "     ○ ○ ○    \n",
      "\n"
     ]
    },
    {
     "data": {
      "text/plain": [
       "[(45, 65)]"
      ]
     },
     "execution_count": 105,
     "metadata": {},
     "output_type": "execute_result"
    },
    {
     "name": "stdout",
     "output_type": "stream",
     "text": [
      "\n",
      "     ○ ○ ○    \n",
      "   ○ ○ ● ○ ○  \n",
      " ○ ○ ● ○ ○ ● ○\n",
      " ○ ○ ○ ● ○ ○ ○\n",
      " ○ ○ ○ ● ○ ○ ○\n",
      "   ○ ○ ○ ○ ○  \n",
      "     ○ ○ ○    \n",
      "\n"
     ]
    }
   ],
   "source": [
    "solitaire_5 = Solitaire(34, 35, 36, 37, 45, 46, 47, 54, 55, 56, 57)\n",
    "\n",
    "Solitaire.__dict__['display_initial_state'](solitaire_5)\n",
    "Solitaire.__dict__['play'](solitaire_5, (45, 25), (37, 35), (57, 37), (34, 36))\n",
    "Solitaire.__dict__['display_current_state'](solitaire_5)\n",
    "Solitaire.__dict__['take'](solitaire_5, 37, 35)\n",
    "Solitaire.__dict__['display_current_state'](solitaire_5)\n",
    "Solitaire.__dict__['undo'](solitaire_5, 3)\n",
    "solitaire_3.__dict__['moves']\n",
    "Solitaire.__dict__['display_current_state'](solitaire_3)"
   ]
  },
  {
   "cell_type": "code",
   "execution_count": 106,
   "id": "c0c1d75c",
   "metadata": {},
   "outputs": [],
   "source": [
    "class PegSolitaireError(Exception):\n",
    "    pass\n",
    "\n",
    "\n",
    "class PegSolitaire:\n",
    "    # We represent the board using the following coding:\n",
    "    #       37 47 57\n",
    "    #    26 36 46 56 66\n",
    "    # 15 25 35 45 55 65 75\n",
    "    # 14 24 34 44 54 64 74\n",
    "    # 13 23 33 43 53 63 73\n",
    "    #    22 32 42 52 62\n",
    "    #       31 41 51\n",
    "    locations = set(chain(range(37, 58, 10), range(26, 67, 10),\n",
    "                          range(15, 76, 10), range(14, 75, 10),\n",
    "                          range(13, 74, 10), range(22, 63, 10),\n",
    "                          range(31, 52, 10)\n",
    "                         )\n",
    "                   )\n",
    "\n",
    "    def __init__(self, *initial_positions, complement=False):\n",
    "        invalid_positions = [str(i) for i in initial_positions\n",
    "                                 if i not in Solitaire.locations\n",
    "                            ]\n",
    "        if invalid_positions:\n",
    "            if len(invalid_positions) == 1:\n",
    "                raise PegSolitaireError(invalid_positions[0]\n",
    "                                        + ' is an invalid position'\n",
    "                                       )\n",
    "            else:\n",
    "                raise PegSolitaireError(', '.join(invalid_positions[: -1])\n",
    "                                        + ' and ' + invalid_positions[-1]\n",
    "                                        + ' are invalid positions'\n",
    "                                       )\n",
    "        self.initial_state = {i: (i in initial_positions) ^ complement\n",
    "                                  for i in Solitaire.locations\n",
    "                             }\n",
    "        self.current_state = dict(self.initial_state)\n",
    "        self.moves = []\n",
    "        \n",
    "    def display_initial_state(self):\n",
    "        self._display_state(self.initial_state)\n",
    "\n",
    "    def display_current_state(self):\n",
    "        self._display_state(self.current_state)\n",
    "            \n",
    "    def _display_state(self, positions):\n",
    "        print()\n",
    "        for y in range(7, 0, -1):\n",
    "            for i in range(y + 10, y + 80, 10):\n",
    "                if not i in positions:\n",
    "                    print('  ', end='')\n",
    "                elif positions[i]:\n",
    "                    print(' \\N{Black circle}', end='')\n",
    "                else:\n",
    "                    print(' \\N{White circle}', end='')\n",
    "            print()\n",
    "        print()\n",
    "\n",
    "    def play(self, *moves):\n",
    "        for move in moves:\n",
    "            if not self.take(*move):\n",
    "                break\n",
    "                \n",
    "    def take(self, start_position, end_position):\n",
    "        if not start_position in self.current_state\\\n",
    "           or not self.current_state[start_position]\\\n",
    "           or not end_position in self.current_state\\\n",
    "           or self.current_state[end_position]\\\n",
    "           or abs(start_position - end_position) not in {2, 20}:\n",
    "            return False\n",
    "        mid_position = (start_position + end_position) // 2\n",
    "        if not self.current_state[mid_position]:\n",
    "            return False\n",
    "        self.moves.append((start_position, end_position))\n",
    "        self._take_or_undo(start_position, end_position, mid_position)\n",
    "        return True\n",
    "        \n",
    "    def undo(self, nb_of_times=1):\n",
    "        for _ in range(min(nb_of_times, len(self.moves))):\n",
    "            start_position, end_position = self.moves.pop()\n",
    "            mid_position = (start_position + end_position) // 2\n",
    "            self._take_or_undo(end_position, start_position, mid_position)\n",
    "            \n",
    "    def _take_or_undo(self, start_position, end_position, mid_position):\n",
    "            self.current_state[start_position] = False\n",
    "            self.current_state[end_position] = True\n",
    "            self.current_state[mid_position] =\\\n",
    "                    not self.current_state[mid_position]\n",
    "            \n",
    "    def __repr__(self):\n",
    "        return f'PegSolitaire(' + ', '.join(str(i) for i in self.initial_state\n",
    "                                                       if self.initial_state[i]\n",
    "                                           ) + ')'\n",
    "\n",
    "    def __str__(self):\n",
    "        rows = []\n",
    "        for y in range(7, 0, -1):\n",
    "            row = []\n",
    "            for i in range(y + 10, y + 80, 10):\n",
    "                if self.initial_state.get(i):\n",
    "                    row.append(f'{i} ')\n",
    "                else:\n",
    "                    row.append('   ')\n",
    "            rows.append(''.join(row))\n",
    "        return '\\n'.join(rows)"
   ]
  },
  {
   "cell_type": "code",
   "execution_count": 107,
   "id": "8302d90e",
   "metadata": {},
   "outputs": [
    {
     "data": {
      "text/plain": [
       "dict_keys(['__module__', 'locations', '__init__', 'display_initial_state', 'display_current_state', '_display_state', 'play', 'take', 'undo', '_take_or_undo', '__repr__', '__str__', '__dict__', '__weakref__', '__doc__'])"
      ]
     },
     "execution_count": 107,
     "metadata": {},
     "output_type": "execute_result"
    }
   ],
   "source": [
    "PegSolitaire.__dict__.keys()"
   ]
  },
  {
   "cell_type": "code",
   "execution_count": 108,
   "id": "2c986e54",
   "metadata": {},
   "outputs": [
    {
     "data": {
      "text/plain": [
       "dict_keys(['__module__', '__dict__', '__weakref__', '__doc__', 'locations', '__init__', 'display_initial_state', 'display_current_state', 'play', 'undo', 'take', '_display_state', '_take_or_undo'])"
      ]
     },
     "execution_count": 108,
     "metadata": {},
     "output_type": "execute_result"
    }
   ],
   "source": [
    "Solitaire.__dict__.keys()"
   ]
  },
  {
   "cell_type": "code",
   "execution_count": 109,
   "id": "5cfe9427",
   "metadata": {},
   "outputs": [
    {
     "data": {
      "text/plain": [
       "[]"
      ]
     },
     "execution_count": 109,
     "metadata": {},
     "output_type": "execute_result"
    },
    {
     "name": "stdout",
     "output_type": "stream",
     "text": [
      "\n",
      "     ○ ○ ○    \n",
      "   ○ ○ ○ ○ ○  \n",
      " ○ ○ ○ ● ○ ○ ○\n",
      " ○ ○ ● ● ● ○ ○\n",
      " ○ ● ● ● ● ● ○\n",
      "   ○ ○ ○ ○ ○  \n",
      "     ○ ○ ○    \n",
      "\n"
     ]
    },
    {
     "data": {
      "text/plain": [
       "[(53, 55)]"
      ]
     },
     "execution_count": 109,
     "metadata": {},
     "output_type": "execute_result"
    },
    {
     "name": "stdout",
     "output_type": "stream",
     "text": [
      "\n",
      "     ○ ○ ○    \n",
      "   ○ ○ ○ ○ ○  \n",
      " ○ ○ ○ ● ● ○ ○\n",
      " ○ ○ ● ● ○ ○ ○\n",
      " ○ ● ● ● ○ ● ○\n",
      "   ○ ○ ○ ○ ○  \n",
      "     ○ ○ ○    \n",
      "\n"
     ]
    },
    {
     "data": {
      "text/plain": [
       "[(53, 55), (55, 35)]"
      ]
     },
     "execution_count": 109,
     "metadata": {},
     "output_type": "execute_result"
    },
    {
     "name": "stdout",
     "output_type": "stream",
     "text": [
      "\n",
      "     ○ ○ ○    \n",
      "   ○ ○ ○ ○ ○  \n",
      " ○ ○ ● ○ ○ ○ ○\n",
      " ○ ○ ● ● ○ ○ ○\n",
      " ○ ● ● ● ○ ● ○\n",
      "   ○ ○ ○ ○ ○  \n",
      "     ○ ○ ○    \n",
      "\n"
     ]
    },
    {
     "data": {
      "text/plain": [
       "[(53, 55), (55, 35), (33, 53)]"
      ]
     },
     "execution_count": 109,
     "metadata": {},
     "output_type": "execute_result"
    },
    {
     "name": "stdout",
     "output_type": "stream",
     "text": [
      "\n",
      "     ○ ○ ○    \n",
      "   ○ ○ ○ ○ ○  \n",
      " ○ ○ ● ○ ○ ○ ○\n",
      " ○ ○ ● ● ○ ○ ○\n",
      " ○ ● ○ ○ ● ● ○\n",
      "   ○ ○ ○ ○ ○  \n",
      "     ○ ○ ○    \n",
      "\n"
     ]
    },
    {
     "data": {
      "text/plain": [
       "[(53, 55), (55, 35), (33, 53), (63, 43)]"
      ]
     },
     "execution_count": 109,
     "metadata": {},
     "output_type": "execute_result"
    },
    {
     "name": "stdout",
     "output_type": "stream",
     "text": [
      "\n",
      "     ○ ○ ○    \n",
      "   ○ ○ ○ ○ ○  \n",
      " ○ ○ ● ○ ○ ○ ○\n",
      " ○ ○ ● ● ○ ○ ○\n",
      " ○ ● ○ ● ○ ○ ○\n",
      "   ○ ○ ○ ○ ○  \n",
      "     ○ ○ ○    \n",
      "\n",
      "Undoing last 2 moves\n"
     ]
    },
    {
     "data": {
      "text/plain": [
       "[(53, 55), (55, 35)]"
      ]
     },
     "execution_count": 109,
     "metadata": {},
     "output_type": "execute_result"
    },
    {
     "name": "stdout",
     "output_type": "stream",
     "text": [
      "\n",
      "     ○ ○ ○    \n",
      "   ○ ○ ○ ○ ○  \n",
      " ○ ○ ● ○ ○ ○ ○\n",
      " ○ ○ ● ● ○ ○ ○\n",
      " ○ ● ● ● ○ ● ○\n",
      "   ○ ○ ○ ○ ○  \n",
      "     ○ ○ ○    \n",
      "\n"
     ]
    },
    {
     "data": {
      "text/plain": [
       "[(53, 55),\n",
       " (55, 35),\n",
       " (33, 53),\n",
       " (63, 43),\n",
       " (44, 42),\n",
       " (35, 33),\n",
       " (23, 43),\n",
       " (42, 44)]"
      ]
     },
     "execution_count": 109,
     "metadata": {},
     "output_type": "execute_result"
    },
    {
     "name": "stdout",
     "output_type": "stream",
     "text": [
      "\n",
      "     ○ ○ ○    \n",
      "   ○ ○ ○ ○ ○  \n",
      " ○ ○ ○ ○ ○ ○ ○\n",
      " ○ ○ ○ ● ○ ○ ○\n",
      " ○ ○ ○ ○ ○ ○ ○\n",
      "   ○ ○ ○ ○ ○  \n",
      "     ○ ○ ○    \n",
      "\n",
      "\n",
      "     ○ ○ ○    \n",
      "   ○ ○ ○ ○ ○  \n",
      " ○ ○ ○ ● ○ ○ ○\n",
      " ○ ○ ● ● ● ○ ○\n",
      " ○ ● ● ● ● ● ○\n",
      "   ○ ○ ○ ○ ○  \n",
      "     ○ ○ ○    \n",
      "\n"
     ]
    }
   ],
   "source": [
    "solitaire_6 = PegSolitaire(23, 33, 34, 43, 44, 45, 53, 54, 63)\n",
    "\n",
    "solitaire_6.moves\n",
    "solitaire_6.display_initial_state()\n",
    "for move in (53, 55), (55, 35), (33, 53), (63, 43), (44, 45), (44, 42):\n",
    "    if not solitaire_6.take(*move):\n",
    "        break\n",
    "    solitaire_6.moves\n",
    "    solitaire_6.display_current_state()\n",
    "print('Undoing last 2 moves')\n",
    "solitaire_6.undo(2)\n",
    "solitaire_6.moves\n",
    "solitaire_6.display_current_state()\n",
    "solitaire_6.play((33, 53), (63, 43), (44, 42), (35, 33), (23, 43), (42, 44))\n",
    "solitaire_6.moves\n",
    "solitaire_6.display_current_state()\n",
    "solitaire_6.display_initial_state()"
   ]
  },
  {
   "cell_type": "code",
   "execution_count": null,
   "id": "3b00c25c",
   "metadata": {},
   "outputs": [],
   "source": []
  }
 ],
 "metadata": {
  "kernelspec": {
   "display_name": "Python 3 (ipykernel)",
   "language": "python",
   "name": "python3"
  },
  "language_info": {
   "codemirror_mode": {
    "name": "ipython",
    "version": 3
   },
   "file_extension": ".py",
   "mimetype": "text/x-python",
   "name": "python",
   "nbconvert_exporter": "python",
   "pygments_lexer": "ipython3",
   "version": "3.11.0"
  }
 },
 "nbformat": 4,
 "nbformat_minor": 5
}
