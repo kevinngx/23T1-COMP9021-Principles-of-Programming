{
 "cells": [
  {
   "cell_type": "code",
   "execution_count": 165,
   "id": "60dce6a0",
   "metadata": {},
   "outputs": [],
   "source": [
    "# Written by *** for COMP9021\n",
    "#\n",
    "# Creates 3 classes, Point, Line and Parallelogram.\n",
    "# A point is determined by 2 coordinates (int or float).\n",
    "# A line is determined by 2 distinct points.\n",
    "# A parallelogram is determined by 4 distinct lines,\n",
    "# two of which have the same slope, the other two\n",
    "# having the same slope too, but different to the other one.\n",
    "# The Parallelogram class has a method, divides_into_two_parallelograms(),\n",
    "# that determines whether a line, provided as argument, can split\n",
    "# the object into two smaller parallelograms.\n",
    "\n",
    "\n",
    "from collections import defaultdict\n",
    "\n",
    "\n",
    "class Point:\n",
    "    def __init__(self, x, y):\n",
    "        self.x = x\n",
    "        self.y = y\n",
    "    \n",
    "    def __str__(self):\n",
    "        return f'({self.x},{self.y})'\n",
    "\n",
    "class LineError(Exception):\n",
    "    pass\n",
    "\n",
    "class Line:\n",
    "    def __init__(self, p1, p2):\n",
    "#         print(f'p1 = {p1.x}, {p1.y}')\n",
    "#         print(f'p2 = {p2.x}, {p2.y}')\n",
    "        if p1.x == p2.x and p1.y == p2.y:\n",
    "#             print(p1.x, p2.x, p1.y, p1.x )\n",
    "            raise LineError('Cannot create line')\n",
    "\n",
    "        self.p1 = p1\n",
    "        self.p2 = p2\n",
    "        if p2.x == p1.x:\n",
    "            self.slope = None\n",
    "            self.y_intercept = None\n",
    "        else:\n",
    "            self.slope = (p2.y - p1.y) / (p2.x - p1.x)\n",
    "            self.y_intercept = p1.y - self.slope * p1.x\n",
    "    def __str__(self):\n",
    "         return f'p1 = {self.p1},\\np2 = {self.p2},\\nslope = {self.slope}\\n'\n",
    "\n",
    "class ParallelogramError(Exception):\n",
    "    pass\n",
    "\n",
    "class Parallelogram:\n",
    "    def is_parallelogram(self, lines):\n",
    "        observed_slopes = {}\n",
    "        self.pairs = []\n",
    "        for i in range(len(lines) ):\n",
    "#             print(lines[i])\n",
    "            if lines[i].slope not in observed_slopes:\n",
    "                observed_slopes[lines[i].slope] = lines[i].y_intercept \n",
    "            else:\n",
    "                # TODO: Need to check if \n",
    "                if lines[i].y_intercept != observed_slopes[lines[i].slope]:\n",
    "                    observed_slopes.pop(lines[i].slope)\n",
    "                    self.pairs.append(lines[i].slope)\n",
    "                \n",
    "#         print(f'Pairs = {self.pairs}')   \n",
    "#         print(f'Observed Slopes = {observed_slopes}')\n",
    "        \n",
    "        if not len(self.pairs) == 2:\n",
    "            return False\n",
    "        return True\n",
    "    \n",
    "    def __init__(self, l1, l2, l3, l4):\n",
    "        # TODO: Need to check if there are two PAIRS of lines which share the same slope\n",
    "        # If not, then the lines do NOT form a parallelogram --> raise a parallelogram error\n",
    "        self.l1 = l1\n",
    "        self.l2 = l2\n",
    "        self.l3 = l3\n",
    "        self.l4 = l4\n",
    "        self.lines = [self.l1, self.l2, self.l3, self.l4] \n",
    "        \n",
    "        if not self.is_parallelogram(self.lines):\n",
    "            raise ParallelogramError('Cannot create parallelogram')\n",
    "    # Replace pass above with your code\n",
    "    \n",
    "\n",
    "    def divides_into_two_parallelograms(self, intercepting_line):\n",
    "        for line in self.lines:\n",
    "            if intercepting_line.y_intercept == line.y_intercept:\n",
    "                return False\n",
    "        if intercepting_line.slope not in self.pairs:\n",
    "            return False\n",
    "        return True"
   ]
  },
  {
   "cell_type": "code",
   "execution_count": 166,
   "id": "41ebbeec",
   "metadata": {},
   "outputs": [],
   "source": [
    "pt_11 = Point(-2, 5)\n",
    "pt_12 = Point(6, 1)\n",
    "pt_21 = Point(0, 6)\n",
    "pt_22 = Point(-1, 0)\n",
    "pt_31 = Point(2, -1)\n",
    "pt_32 = Point(3, 5)\n",
    "pt_41 = Point(-3, 3)\n",
    "pt_42 = Point(1, 1)\n",
    "line_1 = Line(pt_11, pt_12)\n",
    "line_2 = Line(pt_21, pt_22)\n",
    "line_3 = Line(pt_31, pt_32)\n",
    "line_4 = Line(pt_41, pt_42)\n",
    "line = Line(Point(4, -2), Point(6, 10))"
   ]
  },
  {
   "cell_type": "code",
   "execution_count": 167,
   "id": "7471a777",
   "metadata": {},
   "outputs": [
    {
     "name": "stdout",
     "output_type": "stream",
     "text": [
      "p1 = (4,-2),\n",
      "p2 = (6,10),\n",
      "slope = 6.0\n",
      "\n",
      "p1 = (0,6),\n",
      "p2 = (-1,0),\n",
      "slope = 6.0\n",
      "\n",
      "p1 = (2,-1),\n",
      "p2 = (3,5),\n",
      "slope = 6.0\n",
      "\n",
      "p1 = (-3,3),\n",
      "p2 = (1,1),\n",
      "slope = -0.5\n",
      "\n",
      "Pairs = [6.0]\n",
      "Observed Slopes = {6.0: -13.0, -0.5: 1.5}\n"
     ]
    },
    {
     "ename": "ParallelogramError",
     "evalue": "Cannot create parallelogram",
     "output_type": "error",
     "traceback": [
      "\u001b[0;31m---------------------------------------------------------------------------\u001b[0m",
      "\u001b[0;31mParallelogramError\u001b[0m                        Traceback (most recent call last)",
      "Cell \u001b[0;32mIn[167], line 1\u001b[0m\n\u001b[0;32m----> 1\u001b[0m parallelogram \u001b[38;5;241m=\u001b[39m \u001b[43mParallelogram\u001b[49m\u001b[43m(\u001b[49m\u001b[43mline\u001b[49m\u001b[43m,\u001b[49m\u001b[43m \u001b[49m\u001b[43mline_2\u001b[49m\u001b[43m,\u001b[49m\u001b[43m \u001b[49m\u001b[43mline_3\u001b[49m\u001b[43m,\u001b[49m\u001b[43m \u001b[49m\u001b[43mline_4\u001b[49m\u001b[43m)\u001b[49m\n",
      "Cell \u001b[0;32mIn[165], line 81\u001b[0m, in \u001b[0;36mParallelogram.__init__\u001b[0;34m(self, l1, l2, l3, l4)\u001b[0m\n\u001b[1;32m     78\u001b[0m \u001b[38;5;28mself\u001b[39m\u001b[38;5;241m.\u001b[39mlines \u001b[38;5;241m=\u001b[39m [\u001b[38;5;28mself\u001b[39m\u001b[38;5;241m.\u001b[39ml1, \u001b[38;5;28mself\u001b[39m\u001b[38;5;241m.\u001b[39ml2, \u001b[38;5;28mself\u001b[39m\u001b[38;5;241m.\u001b[39ml3, \u001b[38;5;28mself\u001b[39m\u001b[38;5;241m.\u001b[39ml4] \n\u001b[1;32m     80\u001b[0m \u001b[38;5;28;01mif\u001b[39;00m \u001b[38;5;129;01mnot\u001b[39;00m \u001b[38;5;28mself\u001b[39m\u001b[38;5;241m.\u001b[39mis_parallelogram(\u001b[38;5;28mself\u001b[39m\u001b[38;5;241m.\u001b[39mlines):\n\u001b[0;32m---> 81\u001b[0m     \u001b[38;5;28;01mraise\u001b[39;00m ParallelogramError(\u001b[38;5;124m'\u001b[39m\u001b[38;5;124mCannot create parallelogram\u001b[39m\u001b[38;5;124m'\u001b[39m)\n",
      "\u001b[0;31mParallelogramError\u001b[0m: Cannot create parallelogram"
     ]
    }
   ],
   "source": [
    "parallelogram = Parallelogram(line, line_2, line_3, line_4)"
   ]
  },
  {
   "cell_type": "code",
   "execution_count": 164,
   "id": "b4d58a7d",
   "metadata": {},
   "outputs": [],
   "source": [
    "list = {'kevin': 10, 'Joyce': 10}"
   ]
  },
  {
   "cell_type": "code",
   "execution_count": 147,
   "id": "470022e2",
   "metadata": {},
   "outputs": [
    {
     "data": {
      "text/plain": [
       "{'kevin': 10, 'Joyce': 10}"
      ]
     },
     "execution_count": 147,
     "metadata": {},
     "output_type": "execute_result"
    }
   ],
   "source": [
    "list"
   ]
  },
  {
   "cell_type": "code",
   "execution_count": 150,
   "id": "0eb763ed",
   "metadata": {},
   "outputs": [
    {
     "data": {
      "text/plain": [
       "10"
      ]
     },
     "execution_count": 150,
     "metadata": {},
     "output_type": "execute_result"
    }
   ],
   "source": [
    "list.pop('Joyce')"
   ]
  },
  {
   "cell_type": "code",
   "execution_count": 151,
   "id": "23511214",
   "metadata": {},
   "outputs": [
    {
     "data": {
      "text/plain": [
       "{'kevin': 10}"
      ]
     },
     "execution_count": 151,
     "metadata": {},
     "output_type": "execute_result"
    }
   ],
   "source": [
    "list"
   ]
  },
  {
   "cell_type": "code",
   "execution_count": 152,
   "id": "d6d447e0",
   "metadata": {},
   "outputs": [
    {
     "data": {
      "text/plain": [
       "['__class__',\n",
       " '__class_getitem__',\n",
       " '__contains__',\n",
       " '__delattr__',\n",
       " '__delitem__',\n",
       " '__dir__',\n",
       " '__doc__',\n",
       " '__eq__',\n",
       " '__format__',\n",
       " '__ge__',\n",
       " '__getattribute__',\n",
       " '__getitem__',\n",
       " '__getstate__',\n",
       " '__gt__',\n",
       " '__hash__',\n",
       " '__init__',\n",
       " '__init_subclass__',\n",
       " '__ior__',\n",
       " '__iter__',\n",
       " '__le__',\n",
       " '__len__',\n",
       " '__lt__',\n",
       " '__ne__',\n",
       " '__new__',\n",
       " '__or__',\n",
       " '__reduce__',\n",
       " '__reduce_ex__',\n",
       " '__repr__',\n",
       " '__reversed__',\n",
       " '__ror__',\n",
       " '__setattr__',\n",
       " '__setitem__',\n",
       " '__sizeof__',\n",
       " '__str__',\n",
       " '__subclasshook__',\n",
       " 'clear',\n",
       " 'copy',\n",
       " 'fromkeys',\n",
       " 'get',\n",
       " 'items',\n",
       " 'keys',\n",
       " 'pop',\n",
       " 'popitem',\n",
       " 'setdefault',\n",
       " 'update',\n",
       " 'values']"
      ]
     },
     "execution_count": 152,
     "metadata": {},
     "output_type": "execute_result"
    }
   ],
   "source": [
    "dir(list)"
   ]
  },
  {
   "cell_type": "code",
   "execution_count": null,
   "id": "190624c8",
   "metadata": {},
   "outputs": [],
   "source": []
  }
 ],
 "metadata": {
  "kernelspec": {
   "display_name": "Python 3 (ipykernel)",
   "language": "python",
   "name": "python3"
  },
  "language_info": {
   "codemirror_mode": {
    "name": "ipython",
    "version": 3
   },
   "file_extension": ".py",
   "mimetype": "text/x-python",
   "name": "python",
   "nbconvert_exporter": "python",
   "pygments_lexer": "ipython3",
   "version": "3.11.0"
  }
 },
 "nbformat": 4,
 "nbformat_minor": 5
}
