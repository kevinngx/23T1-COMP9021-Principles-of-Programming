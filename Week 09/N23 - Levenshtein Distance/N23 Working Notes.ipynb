{
 "cells": [
  {
   "cell_type": "markdown",
   "metadata": {},
   "source": [
    "<center><font size='5'>Levenshtein distance</font></center>\n",
    "<center><font size='3'>Eric Martin, CSE, UNSW</font></center>\n",
    "<center><font size='3'>COMP9021 Principles of Programming</font></center>"
   ]
  },
  {
   "cell_type": "code",
   "execution_count": 1,
   "metadata": {},
   "outputs": [],
   "source": [
    "# Does not need to be executed if\n",
    "# ~/.ipython/profile_default/ipython_config.py\n",
    "# exists and contains:\n",
    "# c.InteractiveShell.ast_node_interactivity = 'all'\n",
    "\n",
    "from IPython.core.interactiveshell import InteractiveShell\n",
    "InteractiveShell.ast_node_interactivity = 'all'"
   ]
  },
  {
   "cell_type": "code",
   "execution_count": 2,
   "metadata": {},
   "outputs": [],
   "source": [
    "class Solution:\n",
    "    def largestCommonSubsequence(self, text1: str, text2: str) -> int:\n",
    "        dp = [[0 for j in range(len(text2) + 1)] for i in range(len(text1) + 1)]\n",
    "\n",
    "        for i in range(len(text1) -1, -1, -1):\n",
    "            for j in range(len(text2) -1, -1, -1):\n",
    "                if text1[i] == text2[j]:\n",
    "                    dp[i][j] = 1 + dp[i + 1][j + 1]\n",
    "                else: \n",
    "                    dp[i][j] = max(dp[i][j + 1], dp[i + 1][j])\n",
    "        return dp[0][0]"
   ]
  },
  {
   "cell_type": "code",
   "execution_count": 3,
   "metadata": {},
   "outputs": [],
   "source": [
    "soln = Solution()"
   ]
  },
  {
   "cell_type": "code",
   "execution_count": 4,
   "metadata": {},
   "outputs": [
    {
     "data": {
      "text/plain": [
       "3"
      ]
     },
     "execution_count": 4,
     "metadata": {},
     "output_type": "execute_result"
    }
   ],
   "source": [
    "soln.largestCommonSubsequence('abcde', 'ace')"
   ]
  },
  {
   "cell_type": "code",
   "execution_count": 5,
   "metadata": {},
   "outputs": [],
   "source": [
    "deletion_cost = 1\n",
    "insertion_cost = 1\n",
    "substitution_cost = 2\n",
    "\n",
    "word_1 = 'DEPART'\n",
    "word_2 = 'LEOPARD'"
   ]
  },
  {
   "cell_type": "code",
   "execution_count": 7,
   "metadata": {},
   "outputs": [],
   "source": [
    "N_1 = len(word_1) + 1\n",
    "N_2 = len(word_2) + 1\n",
    "table = [[(0, []) for _ in range(N_2)] for _ in range(N_1)]"
   ]
  },
  {
   "cell_type": "code",
   "execution_count": 10,
   "metadata": {},
   "outputs": [
    {
     "data": {
      "text/plain": [
       "7"
      ]
     },
     "execution_count": 10,
     "metadata": {},
     "output_type": "execute_result"
    },
    {
     "data": {
      "text/plain": [
       "8"
      ]
     },
     "execution_count": 10,
     "metadata": {},
     "output_type": "execute_result"
    }
   ],
   "source": []
  },
  {
   "cell_type": "code",
   "execution_count": 53,
   "metadata": {},
   "outputs": [
    {
     "name": "stdout",
     "output_type": "stream",
     "text": [
      "7 D    0    0    0    0    0    0    0\n",
      "6 R    0    0    0    0    0    0    0\n",
      "5 A    0    0    0    0    0    0    0\n",
      "4 P    0    0    0    0    0    0    0\n",
      "3 O    0    0    0    0    0    0    0\n",
      "2 E    0    0    0    0    0    0    0\n",
      "1 L    0    0    0    0    0    0    0\n",
      "0 .    0    0    0    0    0    0    0\n",
      "       .    D    E    P    A    R    T\n",
      "       0    1    2    3    4    5    6\n"
     ]
    }
   ],
   "source": [
    "N_1 = len(word_1) + 1\n",
    "N_2 = len(word_2) + 1\n",
    "table = [[(0, []) for _ in range(N_2)] for _ in range(N_1)]\n",
    "\n",
    "def represent(cell):\n",
    "    return ''.join(x in cell[1] and x or ' ' for x in '/-|') + str(cell[0])\n",
    "    \n",
    "def display_table():\n",
    "    for j in range(1, N_2):\n",
    "        print(N_2 - j, word_2[N_2 - j - 1], end=' ')\n",
    "        print(' '.join(represent(table[i][j]) for i in range(N_1)))\n",
    "    print('0 .', ' '.join(represent(table[i][0]) for i in range(N_1)))\n",
    "    print('       .   ', '    '.join(word_1[i] for i in range(N_1 - 1)))\n",
    "    print('       0   ', '    '.join(str(i) for i in range(1, N_1)))\n",
    "    \n",
    "display_table()"
   ]
  },
  {
   "cell_type": "code",
   "execution_count": 54,
   "metadata": {},
   "outputs": [
    {
     "name": "stdout",
     "output_type": "stream",
     "text": [
      "7 D   |1    0    0    0    0    0    0\n",
      "6 R   |2    0    0    0    0    0    0\n",
      "5 A   |3    0    0    0    0    0    0\n",
      "4 P   |4    0    0    0    0    0    0\n",
      "3 O   |5    0    0    0    0    0    0\n",
      "2 E   |6    0    0    0    0    0    0\n",
      "1 L   |7    0    0    0    0    0    0\n",
      "0 .    0  - 1  - 2  - 3  - 4  - 5  - 6\n",
      "       .    D    E    P    A    R    T\n",
      "       0    1    2    3    4    5    6\n"
     ]
    }
   ],
   "source": [
    "for i in range(1, N_1):\n",
    "    table[i][0] = i, ['-']\n",
    "for j in range(1, N_2):\n",
    "    table[0][j] = j, ['|']\n",
    "\n",
    "display_table()"
   ]
  },
  {
   "cell_type": "code",
   "execution_count": 55,
   "metadata": {},
   "outputs": [
    {
     "name": "stdout",
     "output_type": "stream",
     "text": [
      "7 D   |1 /-|2    0    0    0    0    0\n",
      "6 R   |2 /-|3    0    0    0    0    0\n",
      "5 A   |3 /-|4    0    0    0    0    0\n",
      "4 P   |4 /-|5    0    0    0    0    0\n",
      "3 O   |5 /-|6    0    0    0    0    0\n",
      "2 E   |6 /-|7    0    0    0    0    0\n",
      "1 L   |7 /  6    0    0    0    0    0\n",
      "0 .    0  - 1  - 2  - 3  - 4  - 5  - 6\n",
      "       .    D    E    P    A    R    T\n",
      "       0    1    2    3    4    5    6\n",
      "\n",
      "7 D   |1 /-|2 /-|3    0    0    0    0\n",
      "6 R   |2 /-|3 /  2    0    0    0    0\n",
      "5 A   |3 /-|4   |3    0    0    0    0\n",
      "4 P   |4 /-|5   |4    0    0    0    0\n",
      "3 O   |5 /-|6   |5    0    0    0    0\n",
      "2 E   |6 /-|7   |6    0    0    0    0\n",
      "1 L   |7 /  6  -|7    0    0    0    0\n",
      "0 .    0  - 1  - 2  - 3  - 4  - 5  - 6\n",
      "       .    D    E    P    A    R    T\n",
      "       0    1    2    3    4    5    6\n",
      "\n",
      "7 D   |1 /-|2 /-|3 /-|4    0    0    0\n",
      "6 R   |2 /-|3 /  2  - 3    0    0    0\n",
      "5 A   |3 /-|4   |3 /-|4    0    0    0\n",
      "4 P   |4 /-|5   |4 /  3    0    0    0\n",
      "3 O   |5 /-|6   |5   |4    0    0    0\n",
      "2 E   |6 /-|7   |6   |5    0    0    0\n",
      "1 L   |7 /  6  -|7   |6    0    0    0\n",
      "0 .    0  - 1  - 2  - 3  - 4  - 5  - 6\n",
      "       .    D    E    P    A    R    T\n",
      "       0    1    2    3    4    5    6\n",
      "\n",
      "7 D   |1 /-|2 /-|3 /-|4 /-|5    0    0\n",
      "6 R   |2 /-|3 /  2  - 3  - 4    0    0\n",
      "5 A   |3 /-|4   |3 /-|4 /-|5    0    0\n",
      "4 P   |4 /-|5   |4 /  3  - 4    0    0\n",
      "3 O   |5 /-|6   |5   |4 /  3    0    0\n",
      "2 E   |6 /-|7   |6   |5   |4    0    0\n",
      "1 L   |7 /  6  -|7   |6   |5    0    0\n",
      "0 .    0  - 1  - 2  - 3  - 4  - 5  - 6\n",
      "       .    D    E    P    A    R    T\n",
      "       0    1    2    3    4    5    6\n",
      "\n",
      "7 D   |1 /-|2 /-|3 /-|4 /-|5 /-|6    0\n",
      "6 R   |2 /-|3 /  2  - 3  - 4  - 5    0\n",
      "5 A   |3 /-|4   |3 /-|4 /-|5 /-|6    0\n",
      "4 P   |4 /-|5   |4 /  3  - 4  - 5    0\n",
      "3 O   |5 /-|6   |5   |4 /  3  - 4    0\n",
      "2 E   |6 /-|7   |6   |5   |4 /  3    0\n",
      "1 L   |7 /  6  -|7   |6   |5   |4    0\n",
      "0 .    0  - 1  - 2  - 3  - 4  - 5  - 6\n",
      "       .    D    E    P    A    R    T\n",
      "       0    1    2    3    4    5    6\n",
      "\n",
      "7 D   |1 /-|2 /-|3 /-|4 /-|5 /-|6 /-|7\n",
      "6 R   |2 /-|3 /  2  - 3  - 4  - 5  - 6\n",
      "5 A   |3 /-|4   |3 /-|4 /-|5 /-|6 /-|7\n",
      "4 P   |4 /-|5   |4 /  3  - 4  - 5  - 6\n",
      "3 O   |5 /-|6   |5   |4 /  3  - 4  - 5\n",
      "2 E   |6 /-|7   |6   |5   |4 /  3  - 4\n",
      "1 L   |7 /  6  -|7   |6   |5   |4 /-|5\n",
      "0 .    0  - 1  - 2  - 3  - 4  - 5  - 6\n",
      "       .    D    E    P    A    R    T\n",
      "       0    1    2    3    4    5    6\n",
      "\n"
     ]
    }
   ],
   "source": [
    "d = {}\n",
    "for i in range(1, N_1):\n",
    "    for j in range(1, N_2):\n",
    "        d['-'] = table[i - 1][j][0] + deletion_cost\n",
    "        d['|'] = table[i][j - 1][0] + insertion_cost\n",
    "        d['/'] = table[i - 1][j - 1][0] if word_1[i - 1] == word_2[j - 1]\\\n",
    "                         else table[i - 1][j - 1][0] + substitution_cost\n",
    "        minimal_cost = min(d.values())\n",
    "        table[i][j] = minimal_cost, [x for x in d if d[x] == minimal_cost]\n",
    "    display_table()\n",
    "    print()"
   ]
  },
  {
   "cell_type": "code",
   "execution_count": 56,
   "metadata": {},
   "outputs": [
    {
     "data": {
      "text/plain": [
       "5"
      ]
     },
     "execution_count": 56,
     "metadata": {},
     "output_type": "execute_result"
    }
   ],
   "source": [
    "def distance():\n",
    "    return table[len(word_1)][len(word_2)][0]\n",
    "\n",
    "distance()"
   ]
  },
  {
   "cell_type": "code",
   "execution_count": null,
   "metadata": {},
   "outputs": [],
   "source": []
  },
  {
   "cell_type": "code",
   "execution_count": null,
   "metadata": {},
   "outputs": [],
   "source": []
  }
 ],
 "metadata": {
  "kernelspec": {
   "display_name": "Python 3 (ipykernel)",
   "language": "python",
   "name": "python3"
  },
  "language_info": {
   "codemirror_mode": {
    "name": "ipython",
    "version": 3
   },
   "file_extension": ".py",
   "mimetype": "text/x-python",
   "name": "python",
   "nbconvert_exporter": "python",
   "pygments_lexer": "ipython3",
   "version": "3.11.0"
  }
 },
 "nbformat": 4,
 "nbformat_minor": 4
}
