{
 "cells": [
  {
   "cell_type": "code",
   "execution_count": 57,
   "id": "6473ff51",
   "metadata": {},
   "outputs": [],
   "source": [
    "tape = [0] * 3 + [1] * 7 + [0] * 3"
   ]
  },
  {
   "cell_type": "code",
   "execution_count": 5,
   "id": "05c206b0",
   "metadata": {},
   "outputs": [],
   "source": [
    "def display_tape():\n",
    "    print(\"|\" + \"|\".join(str(e) for e in tape) + \"|\")\n",
    "\n",
    "def display_line():\n",
    "    print (\"-\" * len(tape) * 2 + \"-\")"
   ]
  },
  {
   "cell_type": "code",
   "execution_count": 59,
   "id": "0ee2e99d",
   "metadata": {},
   "outputs": [
    {
     "name": "stdout",
     "output_type": "stream",
     "text": [
      "---------------------------\n",
      "|0|0|0|1|1|1|1|1|1|1|0|0|0|\n",
      "---------------------------\n"
     ]
    }
   ],
   "source": [
    "display_line()\n",
    "display_tape()\n",
    "display_line()"
   ]
  },
  {
   "cell_type": "code",
   "execution_count": 60,
   "id": "a1f5d8c7",
   "metadata": {},
   "outputs": [
    {
     "name": "stdout",
     "output_type": "stream",
     "text": [
      "|0|0|0|1|1|1|1|1|1|1|0|0|0|\n",
      "None\n"
     ]
    }
   ],
   "source": [
    "print(display_tape())"
   ]
  },
  {
   "cell_type": "code",
   "execution_count": 64,
   "id": "4425c43a",
   "metadata": {},
   "outputs": [
    {
     "data": {
      "text/plain": [
       "['0', '0', '0', '1', '1', '1', '1', '1', '1', '1', '0', '0', '0']"
      ]
     },
     "execution_count": 64,
     "metadata": {},
     "output_type": "execute_result"
    }
   ],
   "source": [
    "[str(e) for e in tape]"
   ]
  },
  {
   "cell_type": "code",
   "execution_count": 70,
   "id": "76a4a79c",
   "metadata": {},
   "outputs": [],
   "source": [
    "I = (str(e) for e in tape)"
   ]
  },
  {
   "cell_type": "code",
   "execution_count": 82,
   "id": "2fe05047",
   "metadata": {},
   "outputs": [
    {
     "data": {
      "text/plain": [
       "'0'"
      ]
     },
     "execution_count": 82,
     "metadata": {},
     "output_type": "execute_result"
    }
   ],
   "source": [
    "next(I)"
   ]
  },
  {
   "cell_type": "code",
   "execution_count": 83,
   "id": "e67fa2e0",
   "metadata": {},
   "outputs": [],
   "source": [
    "L = [1, 2, 3, 4, 5]"
   ]
  },
  {
   "cell_type": "code",
   "execution_count": 84,
   "id": "19097277",
   "metadata": {},
   "outputs": [],
   "source": [
    "I = (str(e) for e in L)"
   ]
  },
  {
   "cell_type": "code",
   "execution_count": 91,
   "id": "a7428709",
   "metadata": {},
   "outputs": [
    {
     "ename": "StopIteration",
     "evalue": "",
     "output_type": "error",
     "traceback": [
      "\u001b[0;31m---------------------------------------------------------------------------\u001b[0m",
      "\u001b[0;31mStopIteration\u001b[0m                             Traceback (most recent call last)",
      "Cell \u001b[0;32mIn[91], line 1\u001b[0m\n\u001b[0;32m----> 1\u001b[0m \u001b[38;5;28;43mnext\u001b[39;49m\u001b[43m(\u001b[49m\u001b[43mI\u001b[49m\u001b[43m)\u001b[49m\n",
      "\u001b[0;31mStopIteration\u001b[0m: "
     ]
    }
   ],
   "source": [
    "next(I)"
   ]
  },
  {
   "cell_type": "code",
   "execution_count": 92,
   "id": "d943baba",
   "metadata": {},
   "outputs": [
    {
     "data": {
      "text/plain": [
       "'0|0|0|1|1|1|1|1|1|1|0|0|0'"
      ]
     },
     "execution_count": 92,
     "metadata": {},
     "output_type": "execute_result"
    }
   ],
   "source": [
    "'|'.join(str(e) for e in tape)"
   ]
  },
  {
   "cell_type": "code",
   "execution_count": 4,
   "id": "7430b030",
   "metadata": {},
   "outputs": [
    {
     "name": "stdout",
     "output_type": "stream",
     "text": [
      "Enter two integers, the second one being strictly positive: 0 9\n",
      "Here is the list of generated values: [7, 7, 1, 5, 9, 8, 7, 5, 8]\n",
      "\n",
      "The first value is smaller than the last value.\n",
      "\n",
      "Here are the values represented as horizontal bars:\n",
      "\n",
      "     *  *  *  *  *  *  * \n",
      "     *  *  *  *  *  *  * \n",
      "     * \n",
      "     *  *  *  *  * \n",
      "     *  *  *  *  *  *  *  *  * \n",
      "     *  *  *  *  *  *  *  * \n",
      "     *  *  *  *  *  *  * \n",
      "     *  *  *  *  * \n",
      "     *  *  *  *  *  *  *  * \n",
      "\n",
      "Here they are again within a frame:\n",
      "\n",
      "   -----------------------------\n",
      "   | *  *  *  *  *  *  *       |\n",
      "   | *  *  *  *  *  *  *       |\n",
      "   | *                         |\n",
      "   | *  *  *  *  *             |\n",
      "   | *  *  *  *  *  *  *  *  * |\n",
      "   | *  *  *  *  *  *  *  *    |\n",
      "   | *  *  *  *  *  *  *       |\n",
      "   | *  *  *  *  *             |\n",
      "   | *  *  *  *  *  *  *  *    |\n",
      "   -----------------------------\n",
      "\n",
      "And now in a grid, this time right aligned:\n",
      "\n",
      "   -------------------\n",
      "   | | |*|*|*|*|*|*|*|\n",
      "   -------------------\n",
      "   | | |*|*|*|*|*|*|*|\n",
      "   -------------------\n",
      "   | | | | | | | | |*|\n",
      "   -------------------\n",
      "   | | | | |*|*|*|*|*|\n",
      "   -------------------\n",
      "   |*|*|*|*|*|*|*|*|*|\n",
      "   -------------------\n",
      "   | |*|*|*|*|*|*|*|*|\n",
      "   -------------------\n",
      "   | | |*|*|*|*|*|*|*|\n",
      "   -------------------\n",
      "   | | | | |*|*|*|*|*|\n",
      "   -------------------\n",
      "   | |*|*|*|*|*|*|*|*|\n",
      "   -------------------\n",
      "\n"
     ]
    }
   ],
   "source": [
    "# Written by *** and Eric Martin for COMP9021\n",
    "#\n",
    "# Generates a random list of integers between 1 and 9\n",
    "# whose length is chosen by the user and displays the list.\n",
    "# - If first and last number in the list are equal, says so;\n",
    "#   otherwise, expects to say whether first number in the list\n",
    "#   is smaller than or greater than last number.\n",
    "#\n",
    "# - Draws a \"picture\", and expects 2 more \"pictures\" to be drawn.\n",
    "\n",
    "from random import seed, randrange\n",
    "import sys\n",
    "\n",
    "\n",
    "try: \n",
    "    for_seed, length = (int(x) for x in input('Enter two integers, the second '\n",
    "                                              'one being strictly positive: '\n",
    "                                             ).split()\n",
    "                       )\n",
    "    if length <= 0:\n",
    "        raise ValueError\n",
    "except ValueError:\n",
    "    print('Incorrect input, giving up.')\n",
    "    sys.exit()\n",
    "    \n",
    "seed(for_seed)\n",
    "values = [randrange(1, 10) for _ in range(length)]\n",
    "print('Here is the list of generated values:', values)\n",
    "print()\n",
    "if values[0] == values[-1]:\n",
    "    print('The first and last values are equal.')\n",
    "else:\n",
    "    if values[0] > values[-1]:\n",
    "        print('The first value is greater than the last value.')\n",
    "    else:\n",
    "        print('The first value is smaller than the last value.')\n",
    "    # REPLACE PASS ABOVE WITH YOUR CODE\n",
    "print()\n",
    "print('Here are the values represented as horizontal bars:')\n",
    "print()\n",
    "for e in values:\n",
    "    print('   ', ' * ' * e)\n",
    "print()\n",
    "\n",
    "the_max = max(values)\n",
    "\n",
    "def draw_long_horizontal_line(e):\n",
    "    print (\"  \", \"-\" + \"-\" * (e) * 3 + \"-\")\n",
    "\n",
    "def draw_short_horizontal_line(e):\n",
    "    print (\"  \", \"-\" + \"-\" * (e) * 2 )\n",
    "\n",
    "# INSERT CODE HERE\n",
    "# FOR SECOND PICTURE, GOOD TO USE draw_long_horizontal_line()\n",
    "print('Here they are again within a frame:')\n",
    "print()\n",
    "draw_long_horizontal_line(max(values))\n",
    "len = max(values)\n",
    "for e in values:\n",
    "#     print(\"   \", '|', ' * ' * e, (max(values) - e) * '   ', '|')\n",
    "    print(\"  \", '|', \"  \".join('*' for i in range(0, e)), end='')\n",
    "    if (len != e): print(\" \", end=' ')\n",
    "    print(\"  \".join(' ' for i in range(0, (len - e))), '|' )\n",
    "draw_long_horizontal_line(max(values))\n",
    "\n",
    "# FOR THIRD PICTURE, GOOD TO USE draw_short_horizontal_line()\n",
    "print()\n",
    "print('And now in a grid, this time right aligned:')\n",
    "print()\n",
    "len = max(values)\n",
    "draw_short_horizontal_line(len)\n",
    "for e in values:\n",
    "    print(\"  \", \"|\" + \"|\".join(' ' for i in range(0, max(values) - e)), end='')\n",
    "    if max(values) - e > 0: print(\"|\", end='')\n",
    "    print(\"|\".join('*' for i in range(0, e)) + \"|\")\n",
    "    draw_short_horizontal_line(len)\n",
    "print()\n",
    "\n"
   ]
  },
  {
   "cell_type": "markdown",
   "id": "c2ba0e58",
   "metadata": {},
   "source": [
    "## "
   ]
  },
  {
   "cell_type": "code",
   "execution_count": 273,
   "id": "dc5fa4d3",
   "metadata": {},
   "outputs": [
    {
     "name": "stdout",
     "output_type": "stream",
     "text": [
      "Here they are again within a frame:\n",
      "\n",
      "    ------------------------------\n",
      "    | *  *  *  *  *  *  *       |\n",
      "    | *  *  *  *  *  *  *       |\n",
      "    | *                         |\n",
      "    | *  *  *  *  *             |\n",
      "    | *  *  *  *  *  *  *  *  * |\n",
      "    | *  *  *  *  *  *  *  *    |\n",
      "    | *  *  *  *  *  *  *       |\n",
      "    | *  *  *  *  *             |\n",
      "    | *  *  *  *  *  *  *  *    |\n",
      "    | *  *  *  *  *  *          |\n",
      "    ------------------------------\n"
     ]
    }
   ],
   "source": [
    "print('Here they are again within a frame:')\n",
    "print()\n",
    "draw_long_horizontal_line(max(values))\n",
    "len = max(values)\n",
    "for e in values:\n",
    "#     print(\"   \", '|', ' * ' * e, (max(values) - e) * '   ', '|')\n",
    "    print(\"   \", '|', \"  \".join('*' for i in range(0, e)), end='')\n",
    "    if (len != e): print(\" \", end=' ')\n",
    "    print(\"  \".join(' ' for i in range(0, (len - e))), '|' )\n",
    "draw_long_horizontal_line(max(values))"
   ]
  },
  {
   "cell_type": "code",
   "execution_count": null,
   "id": "5a0b2397",
   "metadata": {},
   "outputs": [],
   "source": []
  }
 ],
 "metadata": {
  "kernelspec": {
   "display_name": "Python 3 (ipykernel)",
   "language": "python",
   "name": "python3"
  },
  "language_info": {
   "codemirror_mode": {
    "name": "ipython",
    "version": 3
   },
   "file_extension": ".py",
   "mimetype": "text/x-python",
   "name": "python",
   "nbconvert_exporter": "python",
   "pygments_lexer": "ipython3",
   "version": "3.11.0"
  }
 },
 "nbformat": 4,
 "nbformat_minor": 5
}
