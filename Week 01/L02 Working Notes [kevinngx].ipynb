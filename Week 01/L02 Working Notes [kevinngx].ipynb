{
 "cells": [
  {
   "cell_type": "code",
   "execution_count": 4,
   "id": "6473ff51",
   "metadata": {},
   "outputs": [],
   "source": [
    "tape = [0] * 3 + [1] * 7 + [0] * 3"
   ]
  },
  {
   "cell_type": "code",
   "execution_count": 7,
   "id": "7fbe2c4b",
   "metadata": {},
   "outputs": [
    {
     "data": {
      "text/plain": [
       "[0, 0, 0, 1, 1, 1, 1, 1, 1, 1, 0, 0, 0]"
      ]
     },
     "execution_count": 7,
     "metadata": {},
     "output_type": "execute_result"
    }
   ],
   "source": [
    "tape"
   ]
  },
  {
   "cell_type": "code",
   "execution_count": 9,
   "id": "28ad9289",
   "metadata": {},
   "outputs": [
    {
     "data": {
      "text/plain": [
       "13"
      ]
     },
     "execution_count": 9,
     "metadata": {},
     "output_type": "execute_result"
    }
   ],
   "source": [
    "len(tape)"
   ]
  },
  {
   "cell_type": "code",
   "execution_count": 11,
   "id": "e0c3e284",
   "metadata": {},
   "outputs": [
    {
     "data": {
      "text/plain": [
       "(0, 0)"
      ]
     },
     "execution_count": 11,
     "metadata": {},
     "output_type": "execute_result"
    }
   ],
   "source": [
    "tape[0], tape[len(tape)-1]"
   ]
  },
  {
   "cell_type": "code",
   "execution_count": 14,
   "id": "f2434f70",
   "metadata": {},
   "outputs": [
    {
     "data": {
      "text/plain": [
       "(0, 0)"
      ]
     },
     "execution_count": 14,
     "metadata": {},
     "output_type": "execute_result"
    }
   ],
   "source": [
    "tape[-1], tape[-len(tape)]"
   ]
  },
  {
   "cell_type": "code",
   "execution_count": 20,
   "id": "7f8528de",
   "metadata": {},
   "outputs": [],
   "source": [
    "tape_as_strings = [str(e) for e in tape]"
   ]
  },
  {
   "cell_type": "code",
   "execution_count": 21,
   "id": "4071b318",
   "metadata": {},
   "outputs": [
    {
     "data": {
      "text/plain": [
       "['0', '0', '0', '1', '1', '1', '1', '1', '1', '1', '0', '0', '0']"
      ]
     },
     "execution_count": 21,
     "metadata": {},
     "output_type": "execute_result"
    }
   ],
   "source": [
    "tape_as_strings"
   ]
  },
  {
   "cell_type": "code",
   "execution_count": 24,
   "id": "aceb790f",
   "metadata": {},
   "outputs": [
    {
     "data": {
      "text/plain": [
       "'0|1'"
      ]
     },
     "execution_count": 24,
     "metadata": {},
     "output_type": "execute_result"
    }
   ],
   "source": [
    "tape_as_strings[2] + \"|\" + tape_as_strings[3]"
   ]
  },
  {
   "cell_type": "code",
   "execution_count": 25,
   "id": "41b78655",
   "metadata": {},
   "outputs": [
    {
     "data": {
      "text/plain": [
       "['__add__',\n",
       " '__class__',\n",
       " '__contains__',\n",
       " '__delattr__',\n",
       " '__dir__',\n",
       " '__doc__',\n",
       " '__eq__',\n",
       " '__format__',\n",
       " '__ge__',\n",
       " '__getattribute__',\n",
       " '__getitem__',\n",
       " '__getnewargs__',\n",
       " '__getstate__',\n",
       " '__gt__',\n",
       " '__hash__',\n",
       " '__init__',\n",
       " '__init_subclass__',\n",
       " '__iter__',\n",
       " '__le__',\n",
       " '__len__',\n",
       " '__lt__',\n",
       " '__mod__',\n",
       " '__mul__',\n",
       " '__ne__',\n",
       " '__new__',\n",
       " '__reduce__',\n",
       " '__reduce_ex__',\n",
       " '__repr__',\n",
       " '__rmod__',\n",
       " '__rmul__',\n",
       " '__setattr__',\n",
       " '__sizeof__',\n",
       " '__str__',\n",
       " '__subclasshook__',\n",
       " 'capitalize',\n",
       " 'casefold',\n",
       " 'center',\n",
       " 'count',\n",
       " 'encode',\n",
       " 'endswith',\n",
       " 'expandtabs',\n",
       " 'find',\n",
       " 'format',\n",
       " 'format_map',\n",
       " 'index',\n",
       " 'isalnum',\n",
       " 'isalpha',\n",
       " 'isascii',\n",
       " 'isdecimal',\n",
       " 'isdigit',\n",
       " 'isidentifier',\n",
       " 'islower',\n",
       " 'isnumeric',\n",
       " 'isprintable',\n",
       " 'isspace',\n",
       " 'istitle',\n",
       " 'isupper',\n",
       " 'join',\n",
       " 'ljust',\n",
       " 'lower',\n",
       " 'lstrip',\n",
       " 'maketrans',\n",
       " 'partition',\n",
       " 'removeprefix',\n",
       " 'removesuffix',\n",
       " 'replace',\n",
       " 'rfind',\n",
       " 'rindex',\n",
       " 'rjust',\n",
       " 'rpartition',\n",
       " 'rsplit',\n",
       " 'rstrip',\n",
       " 'split',\n",
       " 'splitlines',\n",
       " 'startswith',\n",
       " 'strip',\n",
       " 'swapcase',\n",
       " 'title',\n",
       " 'translate',\n",
       " 'upper',\n",
       " 'zfill']"
      ]
     },
     "execution_count": 25,
     "metadata": {},
     "output_type": "execute_result"
    }
   ],
   "source": [
    "dir(str)"
   ]
  },
  {
   "cell_type": "code",
   "execution_count": 26,
   "id": "f28ec9c7",
   "metadata": {},
   "outputs": [
    {
     "data": {
      "text/plain": [
       "'|'"
      ]
     },
     "execution_count": 26,
     "metadata": {},
     "output_type": "execute_result"
    }
   ],
   "source": [
    "'ABC'.join('|')"
   ]
  },
  {
   "cell_type": "code",
   "execution_count": 27,
   "id": "98523b31",
   "metadata": {},
   "outputs": [
    {
     "data": {
      "text/plain": [
       "'0ABC0ABC0ABC1ABC1ABC1ABC1ABC1ABC1ABC1ABC0ABC0ABC0'"
      ]
     },
     "execution_count": 27,
     "metadata": {},
     "output_type": "execute_result"
    }
   ],
   "source": [
    "'ABC'.join(tape_as_strings)"
   ]
  },
  {
   "cell_type": "code",
   "execution_count": 55,
   "id": "33cd77e2",
   "metadata": {},
   "outputs": [
    {
     "data": {
      "text/plain": [
       "'0|0|0|1|1|1|1|1|1|1|0|0|0'"
      ]
     },
     "execution_count": 55,
     "metadata": {},
     "output_type": "execute_result"
    }
   ],
   "source": [
    "'|'.join(tape_as_strings)"
   ]
  },
  {
   "cell_type": "code",
   "execution_count": 57,
   "id": "05c206b0",
   "metadata": {},
   "outputs": [],
   "source": [
    "def display_tape():\n",
    "    # Display horizontal bar at top\n",
    "    # Displays members of tape with | as a separator \n",
    "    # Display horizontal bar at the bottom\n",
    "    display_line()\n",
    "    print(\"|\", \"|\".join(str(e) for e in tape), \"|\", sep=\"\")\n",
    "    display_line()\n",
    "\n",
    "def display_line():\n",
    "    print (\"-\" * len(tape) * 2 + \"-\")"
   ]
  },
  {
   "cell_type": "code",
   "execution_count": 58,
   "id": "0ee2e99d",
   "metadata": {},
   "outputs": [
    {
     "name": "stdout",
     "output_type": "stream",
     "text": [
      "---------------------------\n",
      "|0|0|0|1|1|1|1|1|1|1|0|0|0|\n",
      "---------------------------\n"
     ]
    }
   ],
   "source": [
    "display_tape()"
   ]
  },
  {
   "cell_type": "code",
   "execution_count": 60,
   "id": "09da1726",
   "metadata": {},
   "outputs": [
    {
     "data": {
      "text/plain": [
       "<generator object <genexpr> at 0x10d78dee0>"
      ]
     },
     "execution_count": 60,
     "metadata": {},
     "output_type": "execute_result"
    }
   ],
   "source": [
    "(str(e) for e in tape)"
   ]
  },
  {
   "cell_type": "code",
   "execution_count": 62,
   "id": "76a4a79c",
   "metadata": {},
   "outputs": [],
   "source": [
    "I = (str(e) for e in tape) # I is a generator object"
   ]
  },
  {
   "cell_type": "code",
   "execution_count": 63,
   "id": "c6d8cbce",
   "metadata": {},
   "outputs": [
    {
     "data": {
      "text/plain": [
       "<generator object <genexpr> at 0x10d78e500>"
      ]
     },
     "execution_count": 63,
     "metadata": {},
     "output_type": "execute_result"
    }
   ],
   "source": [
    "I"
   ]
  },
  {
   "cell_type": "code",
   "execution_count": 61,
   "id": "2fe05047",
   "metadata": {},
   "outputs": [
    {
     "data": {
      "text/plain": [
       "'0'"
      ]
     },
     "execution_count": 61,
     "metadata": {},
     "output_type": "execute_result"
    }
   ],
   "source": [
    "next(I)"
   ]
  },
  {
   "cell_type": "code",
   "execution_count": 83,
   "id": "e67fa2e0",
   "metadata": {},
   "outputs": [],
   "source": [
    "L = [1, 2, 3, 4, 5]"
   ]
  },
  {
   "cell_type": "code",
   "execution_count": 84,
   "id": "19097277",
   "metadata": {},
   "outputs": [],
   "source": [
    "I = (str(e) for e in L)"
   ]
  },
  {
   "cell_type": "code",
   "execution_count": 91,
   "id": "a7428709",
   "metadata": {},
   "outputs": [
    {
     "ename": "StopIteration",
     "evalue": "",
     "output_type": "error",
     "traceback": [
      "\u001b[0;31m---------------------------------------------------------------------------\u001b[0m",
      "\u001b[0;31mStopIteration\u001b[0m                             Traceback (most recent call last)",
      "Cell \u001b[0;32mIn[91], line 1\u001b[0m\n\u001b[0;32m----> 1\u001b[0m \u001b[38;5;28;43mnext\u001b[39;49m\u001b[43m(\u001b[49m\u001b[43mI\u001b[49m\u001b[43m)\u001b[49m\n",
      "\u001b[0;31mStopIteration\u001b[0m: "
     ]
    }
   ],
   "source": [
    "next(I)"
   ]
  },
  {
   "cell_type": "code",
   "execution_count": 65,
   "id": "d943baba",
   "metadata": {},
   "outputs": [
    {
     "data": {
      "text/plain": [
       "'0|0|0|1|1|1|1|1|1|1|0|0|0'"
      ]
     },
     "execution_count": 65,
     "metadata": {},
     "output_type": "execute_result"
    }
   ],
   "source": [
    "'|'.join((str(e) for e in tape))"
   ]
  }
 ],
 "metadata": {
  "kernelspec": {
   "display_name": "Python 3 (ipykernel)",
   "language": "python",
   "name": "python3"
  },
  "language_info": {
   "codemirror_mode": {
    "name": "ipython",
    "version": 3
   },
   "file_extension": ".py",
   "mimetype": "text/x-python",
   "name": "python",
   "nbconvert_exporter": "python",
   "pygments_lexer": "ipython3",
   "version": "3.11.0"
  }
 },
 "nbformat": 4,
 "nbformat_minor": 5
}
