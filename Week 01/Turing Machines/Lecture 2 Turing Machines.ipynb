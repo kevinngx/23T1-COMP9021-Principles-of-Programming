{
 "cells": [
  {
   "cell_type": "code",
   "execution_count": 66,
   "id": "0ee132bb",
   "metadata": {},
   "outputs": [
    {
     "name": "stdout",
     "output_type": "stream",
     "text": [
      "Lecture 2 Turing Machines.ipynb  parity.txt\r\n",
      "addition.txt                     successor.txt\r\n",
      "division_by_2.txt\r\n"
     ]
    }
   ],
   "source": [
    "ls"
   ]
  },
  {
   "cell_type": "code",
   "execution_count": 64,
   "id": "29403cfd",
   "metadata": {},
   "outputs": [
    {
     "name": "stdout",
     "output_type": "stream",
     "text": [
      "# Initial state: del1\n",
      "\n",
      "del1 1 del2 0 R\n",
      "del2 1 mov1R 0 R\n",
      "mov1R 1 mov1R 1 R\n",
      "mov1R 0 mov2R 0 R\n",
      "mov2R 1 mov2R 1 R\n",
      "mov2R 0 mov1L 1 L\n",
      "mov1L 1 mov1L 1 L\n",
      "mov1L 0 mov2L 0 L\n",
      "mov2L 1 mov2L 1 L\n",
      "mov2L 0 del1 0 R\n",
      "del1 0 end 0 R\n",
      "del2 0 end 0 R\n"
     ]
    }
   ],
   "source": [
    "# 1.0: Opening the file and reading from it\n",
    "with open('division_by_2.txt') as file:\n",
    "    for e in file:\n",
    "        print(e, end='')"
   ]
  },
  {
   "cell_type": "code",
   "execution_count": 7,
   "id": "44e77001",
   "metadata": {},
   "outputs": [
    {
     "name": "stdout",
     "output_type": "stream",
     "text": [
      "Help on method_descriptor:\n",
      "\n",
      "startswith(...)\n",
      "    S.startswith(prefix[, start[, end]]) -> bool\n",
      "    \n",
      "    Return True if S starts with the specified prefix, False otherwise.\n",
      "    With optional start, test S beginning at that position.\n",
      "    With optional end, stop comparing S at that position.\n",
      "    prefix can also be a tuple of strings to try.\n",
      "\n"
     ]
    }
   ],
   "source": [
    "help(str.startswith)"
   ]
  },
  {
   "cell_type": "code",
   "execution_count": 55,
   "id": "e18218a4",
   "metadata": {},
   "outputs": [
    {
     "name": "stdout",
     "output_type": "stream",
     "text": [
      "del1 1 del2 0 R\n",
      "del2 1 mov1R 0 R\n",
      "mov1R 1 mov1R 1 R\n",
      "mov1R 0 mov2R 0 R\n",
      "mov2R 1 mov2R 1 R\n",
      "mov2R 0 mov1L 1 L\n",
      "mov1L 1 mov1L 1 L\n",
      "mov1L 0 mov2L 0 L\n",
      "mov2L 1 mov2L 1 L\n",
      "mov2L 0 del1 0 R\n",
      "del1 0 end 0 R\n",
      "del2 0 end 0 R\n"
     ]
    }
   ],
   "source": [
    "# 2.0: Reading only specific lines, with the directions\n",
    "with open('division_by_2.txt') as file:\n",
    "    for e in file:\n",
    "        if not e.startswith('#') and not e.isspace():\n",
    "            print(e, end='')"
   ]
  },
  {
   "cell_type": "code",
   "execution_count": 57,
   "id": "3683b12a",
   "metadata": {},
   "outputs": [
    {
     "name": "stdout",
     "output_type": "stream",
     "text": [
      "del1 1 del2 0 R\n",
      "\n",
      "del2 1 mov1R 0 R\n",
      "\n",
      "mov1R 1 mov1R 1 R\n",
      "\n",
      "mov1R 0 mov2R 0 R\n",
      "\n",
      "mov2R 1 mov2R 1 R\n",
      "\n",
      "mov2R 0 mov1L 1 L\n",
      "\n",
      "mov1L 1 mov1L 1 L\n",
      "\n",
      "mov1L 0 mov2L 0 L\n",
      "\n",
      "mov2L 1 mov2L 1 L\n",
      "\n",
      "mov2L 0 del1 0 R\n",
      "\n",
      "del1 0 end 0 R\n",
      "\n",
      "del2 0 end 0 R\n",
      "\n"
     ]
    }
   ],
   "source": [
    "# 3.1 Using the Split function to separate individual components of the input\n",
    "with open('division_by_2.txt') as file:\n",
    "    for e in file:\n",
    "        if not e.startswith('#') and not e.isspace():\n",
    "            split = e.split(' ')\n",
    "            state = split[0]\n",
    "            bit = split[1]\n",
    "            new_state = split[2]\n",
    "            new_bit = split[3]\n",
    "            direction = split[4]\n",
    "            print(state, bit, new_state, new_bit, direction)"
   ]
  },
  {
   "cell_type": "code",
   "execution_count": 53,
   "id": "9cce9ec1",
   "metadata": {},
   "outputs": [
    {
     "name": "stdout",
     "output_type": "stream",
     "text": [
      "del1 1 del2 0 R\n",
      "del2 1 mov1R 0 R\n",
      "mov1R 1 mov1R 1 R\n",
      "mov1R 0 mov2R 0 R\n",
      "mov2R 1 mov2R 1 R\n",
      "mov2R 0 mov1L 1 L\n",
      "mov1L 1 mov1L 1 L\n",
      "mov1L 0 mov2L 0 L\n",
      "mov2L 1 mov2L 1 L\n",
      "mov2L 0 del1 0 R\n",
      "del1 0 end 0 R\n",
      "del2 0 end 0 R\n"
     ]
    }
   ],
   "source": [
    "# 3.2 Cleaning up the previous step using syntactic sugar\n",
    "with open('division_by_2.txt') as file:\n",
    "    for e in file:\n",
    "        if not e.startswith('#') and not e.isspace():\n",
    "            (state, bit, new_state, new_bit, direction) = e.split()\n",
    "            print(state, bit, new_state, new_bit, direction)"
   ]
  },
  {
   "cell_type": "code",
   "execution_count": 61,
   "id": "f811f27f",
   "metadata": {},
   "outputs": [
    {
     "data": {
      "text/plain": [
       "{('del1', 1): ('del2', '0', 'R'),\n",
       " ('del2', 1): ('mov1R', '0', 'R'),\n",
       " ('mov1R', 1): ('mov1R', '1', 'R'),\n",
       " ('mov1R', 0): ('mov2R', '0', 'R'),\n",
       " ('mov2R', 1): ('mov2R', '1', 'R'),\n",
       " ('mov2R', 0): ('mov1L', '1', 'L'),\n",
       " ('mov1L', 1): ('mov1L', '1', 'L'),\n",
       " ('mov1L', 0): ('mov2L', '0', 'L'),\n",
       " ('mov2L', 1): ('mov2L', '1', 'L'),\n",
       " ('mov2L', 0): ('del1', '0', 'R'),\n",
       " ('del1', 0): ('end', '0', 'R'),\n",
       " ('del2', 0): ('end', '0', 'R')}"
      ]
     },
     "execution_count": 61,
     "metadata": {},
     "output_type": "execute_result"
    }
   ],
   "source": [
    "# 4.0 Storing the directions into a dictionary\n",
    "directions = {}\n",
    "with open('division_by_2.txt') as file:\n",
    "    for e in file:\n",
    "        if not e.startswith('#') and not e.isspace():\n",
    "            (state, bit, new_state, new_bit, direction) = e.split()\n",
    "            directions[state, int(bit)] = new_state, new_bit, direction\n",
    "directions"
   ]
  },
  {
   "cell_type": "code",
   "execution_count": null,
   "id": "31b043f8",
   "metadata": {},
   "outputs": [],
   "source": []
  }
 ],
 "metadata": {
  "kernelspec": {
   "display_name": "Python 3 (ipykernel)",
   "language": "python",
   "name": "python3"
  },
  "language_info": {
   "codemirror_mode": {
    "name": "ipython",
    "version": 3
   },
   "file_extension": ".py",
   "mimetype": "text/x-python",
   "name": "python",
   "nbconvert_exporter": "python",
   "pygments_lexer": "ipython3",
   "version": "3.11.0"
  }
 },
 "nbformat": 4,
 "nbformat_minor": 5
}
