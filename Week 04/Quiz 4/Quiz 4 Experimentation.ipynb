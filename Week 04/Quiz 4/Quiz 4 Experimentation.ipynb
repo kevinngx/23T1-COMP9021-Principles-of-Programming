{
 "cells": [
  {
   "cell_type": "code",
   "execution_count": 1,
   "id": "ef6653b7",
   "metadata": {},
   "outputs": [],
   "source": [
    "from math import sqrt\n",
    "from itertools import permutations"
   ]
  },
  {
   "cell_type": "code",
   "execution_count": 8,
   "id": "c71fe3e5",
   "metadata": {},
   "outputs": [],
   "source": [
    "import unittest\n",
    "\n",
    "class GoodPrimesTest(unittest.TestCase):\n",
    "    def test_is_good_prime(self):\n",
    "        self.assertTrue(is_good_prime(5))\n",
    "        self.assertTrue(is_good_prime(17))\n",
    "        self.assertFalse(is_good_prime(24))\n",
    "\n",
    "    def test_good_primes(self):\n",
    "        self.assertEqual([], good_primes(''))\n",
    "        self.assertEqual(['7'], good_primes('_7'))\n",
    "        self.assertEqual(['10', '17'], good_primes('1__7'))\n",
    "        self.assertEqual(['10', '17', '23', '29', '31'], good_primes('1__7234931'))"
   ]
  },
  {
   "cell_type": "code",
   "execution_count": 75,
   "id": "cedba60f",
   "metadata": {},
   "outputs": [],
   "source": [
    "from math import sqrt\n",
    "from itertools import permutations\n",
    "\n",
    "def distinct_digits(number):\n",
    "    observed_digits = {0}\n",
    "    while number:\n",
    "        number, digit = divmod(number, 10)\n",
    "        if digit in observed_digits:\n",
    "            return False\n",
    "        observed_digits.update({digit})\n",
    "    return True\n",
    "\n",
    "def sieve_of_primes_up_to(n):\n",
    "    sieve = [False, False] + [True] * (n - 1)\n",
    "    for p in range(2, round(sqrt(n)) + 1):\n",
    "        if sieve[p]:\n",
    "            for i in range(p * p, n + 1, p):\n",
    "                sieve[i] = False\n",
    "    return sieve\n",
    "\n",
    "# A number is a good prime if it is prime and consists of nothing but\n",
    "# distinct nonzero digits.\n",
    "# Returns True or False depending on whether the integer provided as\n",
    "# argument is or is not a good prime, respectively.\n",
    "# Will be tested with for number a positive integer at most equal to\n",
    "# 50_000_000.\n",
    "def is_good_prime(number):\n",
    "    # Step 1 = Check if it is prime --> use the sieve_of_primes_up_to function\n",
    "    # Step 2 = Check if it is distinct --> define a function distinct_digits(number) using divmod approach\n",
    "    if sieve_of_primes_up_to(number)[number] and distinct_digits(number):\n",
    "        return True\n",
    "    return False\n",
    "\n",
    "# pattern is expected to be a nonempty string consisting of underscores\n",
    "# and distinct nonzero digits of length at most 7 (this does not need\n",
    "# to be checked).\n",
    "# Underscores have to be replaced by digits so that the resulting number\n",
    "# is a good prime.\n",
    "# The function prints out all solutions, if any, from smallest to largest.\n",
    "def good_primes(pattern):\n",
    "    # Step 1 find all of the numbers used\n",
    "    digits_used = set(pattern.replace('_',''))\n",
    "    # print(digits_used)\n",
    "    \n",
    "    # Step 2 create a list of available digits\n",
    "    available_digits = {'1', '2', '3', '4', '5', '6', '7', '8', '9'}.difference(digits_used)\n",
    "    # print(available_digits)\n",
    "    \n",
    "    # Step 3 list all permutations of available digits\n",
    "    perms = permutations(available_digits, pattern.count('_'))\n",
    "    \n",
    "    # Step 4 for each permutation, check if the number is a good prime\n",
    "    g_primes = []    \n",
    "    for perm in perms:\n",
    "        pattern_list = list(pattern)\n",
    "        for digit in perm:\n",
    "            pattern_list[pattern_list.index('_')] = digit\n",
    "        number = int(''.join(pattern_list))\n",
    "        if is_good_prime(number):\n",
    "            g_primes.append(number)\n",
    "    \n",
    "    for prime in sorted(g_primes):\n",
    "        print(prime)"
   ]
  },
  {
   "cell_type": "code",
   "execution_count": 212,
   "id": "0806f189",
   "metadata": {},
   "outputs": [],
   "source": [
    "def good_primes(pattern):\n",
    "#     print(pattern)\n",
    "    # Step 1 find all of the numbers used\n",
    "    digits_used = set(pattern.replace('_',''))\n",
    "#     print(digits_used)\n",
    "    \n",
    "    # Step 2 create a list of available digits\n",
    "    available_digits = {'1', '2', '3', '4', '5', '6', '7', '8', '9'}.difference(digits_used)\n",
    "#     print(available_digits)\n",
    "    \n",
    "    # Step 3 list all permutations of available digits\n",
    "    perms = permutations(available_digits, pattern.count('_'))\n",
    "    \n",
    "    # Step 4 for each permutation, check if the number is a good prime\n",
    "    g_primes = []    \n",
    "    for perm in perms:\n",
    "        pattern_list = list(pattern)\n",
    "        for digit in perm:\n",
    "            pattern_list[pattern_list.index('_')] = digit\n",
    "        number = int(''.join(pattern_list))\n",
    "        if is_good_prime(number):\n",
    "            g_primes.append(number)\n",
    "    \n",
    "    for prime in sorted(g_primes):\n",
    "        print(prime)\n",
    "        "
   ]
  },
  {
   "cell_type": "code",
   "execution_count": 214,
   "id": "dddb4465",
   "metadata": {},
   "outputs": [],
   "source": [
    "good_primes('123')"
   ]
  },
  {
   "cell_type": "code",
   "execution_count": 216,
   "id": "b95d4617",
   "metadata": {},
   "outputs": [],
   "source": [
    "good_primes('_98')"
   ]
  },
  {
   "cell_type": "code",
   "execution_count": 218,
   "id": "6573ac78",
   "metadata": {},
   "outputs": [
    {
     "name": "stdout",
     "output_type": "stream",
     "text": [
      "3167\n"
     ]
    }
   ],
   "source": [
    "good_primes('3167')"
   ]
  },
  {
   "cell_type": "code",
   "execution_count": 219,
   "id": "aacd05bd",
   "metadata": {},
   "outputs": [
    {
     "name": "stdout",
     "output_type": "stream",
     "text": [
      "13\n",
      "17\n",
      "19\n",
      "23\n",
      "29\n",
      "31\n",
      "37\n",
      "41\n",
      "43\n",
      "47\n",
      "53\n",
      "59\n",
      "61\n",
      "67\n",
      "71\n",
      "73\n",
      "79\n",
      "83\n",
      "89\n",
      "97\n"
     ]
    }
   ],
   "source": [
    "good_primes('__')"
   ]
  },
  {
   "cell_type": "code",
   "execution_count": 217,
   "id": "b4d5bb6a",
   "metadata": {},
   "outputs": [
    {
     "name": "stdout",
     "output_type": "stream",
     "text": [
      "12347\n",
      "12547\n",
      "12647\n",
      "12743\n",
      "32647\n",
      "32749\n",
      "32941\n",
      "52147\n",
      "62143\n",
      "62347\n",
      "62549\n",
      "62743\n",
      "72341\n",
      "72643\n",
      "72649\n",
      "82349\n",
      "82549\n",
      "92143\n",
      "92347\n",
      "92641\n",
      "92647\n"
     ]
    }
   ],
   "source": [
    "good_primes('_2_4_')"
   ]
  }
 ],
 "metadata": {
  "kernelspec": {
   "display_name": "Python 3 (ipykernel)",
   "language": "python",
   "name": "python3"
  },
  "language_info": {
   "codemirror_mode": {
    "name": "ipython",
    "version": 3
   },
   "file_extension": ".py",
   "mimetype": "text/x-python",
   "name": "python",
   "nbconvert_exporter": "python",
   "pygments_lexer": "ipython3",
   "version": "3.11.0"
  }
 },
 "nbformat": 4,
 "nbformat_minor": 5
}
