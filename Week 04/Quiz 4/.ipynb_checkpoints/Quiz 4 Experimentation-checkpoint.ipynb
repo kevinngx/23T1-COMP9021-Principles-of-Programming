{
 "cells": [
  {
   "cell_type": "code",
   "execution_count": 1,
   "id": "1061e970",
   "metadata": {},
   "outputs": [],
   "source": [
    "from math import sqrt\n",
    "from itertools import permutations"
   ]
  },
  {
   "cell_type": "code",
   "execution_count": 8,
   "id": "78848c88",
   "metadata": {},
   "outputs": [],
   "source": [
    "import unittest\n",
    "\n",
    "class GoodPrimesTest(unittest.TestCase):\n",
    "    def test_is_good_prime(self):\n",
    "        self.assertTrue(is_good_prime(5))\n",
    "        self.assertTrue(is_good_prime(17))\n",
    "        self.assertFalse(is_good_prime(24))\n",
    "\n",
    "    def test_good_primes(self):\n",
    "        self.assertEqual([], good_primes(''))\n",
    "        self.assertEqual(['7'], good_primes('_7'))\n",
    "        self.assertEqual(['10', '17'], good_primes('1__7'))\n",
    "        self.assertEqual(['10', '17', '23', '29', '31'], good_primes('1__7234931'))"
   ]
  },
  {
   "cell_type": "code",
   "execution_count": 4,
   "id": "24bfcfb6",
   "metadata": {},
   "outputs": [
    {
     "ename": "IndentationError",
     "evalue": "expected an indented block after function definition on line 15 (1386721564.py, line 25)",
     "output_type": "error",
     "traceback": [
      "\u001b[0;36m  Cell \u001b[0;32mIn[4], line 25\u001b[0;36m\u001b[0m\n\u001b[0;31m    def good_primes(pattern):\u001b[0m\n\u001b[0m    ^\u001b[0m\n\u001b[0;31mIndentationError\u001b[0m\u001b[0;31m:\u001b[0m expected an indented block after function definition on line 15\n"
     ]
    }
   ],
   "source": [
    "# Written by *** for COMP9021\n",
    "\n",
    "\n",
    "from math import sqrt\n",
    "from itertools import permutations\n",
    "from sympy import isprime\n",
    "\n",
    "\n",
    "# A number is a good prime if it is prime and consists of nothing but\n",
    "# distinct nonzero digits.\n",
    "# Returns True or False depending on whether the integer provided as\n",
    "# argument is or is not a good prime, respectively.\n",
    "# Will be tested with for number a positive integer at most equal to\n",
    "# 50_000_000.\n",
    "def is_good_prime(number):\n",
    "    \n",
    "    # REPLACE PASS ABOVE WITH YOUR CODE\n",
    "\n",
    "# pattern is expected to be a nonempty string consisting of underscores\n",
    "# and distinct nonzero digits of length at most 7 (this does not need\n",
    "# to be checked).\n",
    "# Underscores have to be replaced by digits so that the resulting number\n",
    "# is a good prime.\n",
    "# The function prints out all solutions, if any, from smallest to largest.\n",
    "def good_primes(pattern):\n",
    "  \n",
    "    # REPLACE PASS ABOVE WITH YOUR CODE\n",
    "\n",
    "def sieve_of_primes_up_to(n):\n",
    "    sieve = [False, False] + [True] * (n - 1)\n",
    "    for p in range(2, round(sqrt(n)) + 1):\n",
    "        if sieve[p]:\n",
    "            for i in range(p * p, n + 1, p):\n",
    "                sieve[i] = False\n",
    "    return sieve\n"
   ]
  },
  {
   "cell_type": "code",
   "execution_count": 68,
   "id": "fb2b3621",
   "metadata": {},
   "outputs": [],
   "source": [
    "def sieve_of_primes_up_to(n):\n",
    "    sieve = [False, False] + [True] * (n - 1)\n",
    "    for p in range(2, round(sqrt(n)) + 1):\n",
    "        if sieve[p]:\n",
    "            for i in range(p * p, n + 1, p):\n",
    "                sieve[i] = False\n",
    "    return sieve\n",
    "\n",
    "def distinct_digits(number):\n",
    "    observed_digits = {0}\n",
    "    while number:\n",
    "        number, digit = divmod(number, 10)\n",
    "        if digit in observed_digits:\n",
    "            return False\n",
    "        observed_digits.update({digit})\n",
    "    return True\n",
    "\n",
    "def is_good_prime(number):\n",
    "    # 1. Determine if the number is a prime number\n",
    "    # 2. Determine if it has all distinct non zero numbers\n",
    "    if not sieve_of_primes_up_to(number)[number] or not distinct_digit(number):\n",
    "        return False\n",
    "    return True"
   ]
  },
  {
   "cell_type": "code",
   "execution_count": null,
   "id": "3adfd8eb",
   "metadata": {},
   "outputs": [],
   "source": []
  },
  {
   "cell_type": "code",
   "execution_count": null,
   "id": "a0940949",
   "metadata": {},
   "outputs": [],
   "source": []
  }
 ],
 "metadata": {
  "kernelspec": {
   "display_name": "Python 3 (ipykernel)",
   "language": "python",
   "name": "python3"
  },
  "language_info": {
   "codemirror_mode": {
    "name": "ipython",
    "version": 3
   },
   "file_extension": ".py",
   "mimetype": "text/x-python",
   "name": "python",
   "nbconvert_exporter": "python",
   "pygments_lexer": "ipython3",
   "version": "3.11.0"
  }
 },
 "nbformat": 4,
 "nbformat_minor": 5
}
