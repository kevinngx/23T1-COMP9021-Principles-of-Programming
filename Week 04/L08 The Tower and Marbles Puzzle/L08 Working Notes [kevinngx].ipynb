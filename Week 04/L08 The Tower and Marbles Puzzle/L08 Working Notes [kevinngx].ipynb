{
 "cells": [
  {
   "cell_type": "code",
   "execution_count": 4,
   "id": "356ca3b3",
   "metadata": {},
   "outputs": [],
   "source": [
    "# Does not need to be executed if\n",
    "# ~/.ipython/profile_default/ipython_config.py\n",
    "# exists and contains:\n",
    "# c.InteractiveShell.ast_node_interactivity = 'all'\n",
    "\n",
    "from IPython.core.interactiveshell import InteractiveShell\n",
    "InteractiveShell.ast_node_interactivity = 'all'"
   ]
  },
  {
   "cell_type": "code",
   "execution_count": 2,
   "id": "75ca68e8",
   "metadata": {},
   "outputs": [],
   "source": [
    "from math import sqrt, ceil\n",
    "from random import randint"
   ]
  },
  {
   "cell_type": "code",
   "execution_count": 29,
   "id": "d856830d",
   "metadata": {},
   "outputs": [
    {
     "name": "stdout",
     "output_type": "stream",
     "text": [
      "At most 3 drops will be needed.\n",
      "\n",
      "Strategy for marbles breaking on level 1 and not below:\n",
      "1: From level 3... marble BREAKS!\n",
      "2: From level 1... marble BREAKS!\n",
      "\n",
      "Strategy for marbles breaking on level 2 and not below:\n",
      "1: From level 3... marble BREAKS!\n",
      "2: From level 1... marble does not break!\n",
      "3: From level 2... marble BREAKS!\n",
      "\n",
      "Strategy for marbles breaking on level 3 and not below:\n",
      "1: From level 3... marble BREAKS!\n",
      "2: From level 1... marble does not break!\n",
      "3: From level 2... marble does not break!\n",
      "\n",
      "Strategy for marbles breaking on level 4 and not below:\n",
      "1: From level 3... marble does not break!\n",
      "2: From level 4... marble BREAKS!\n",
      "\n",
      "Strategy for marbles not breaking:\n",
      "1: From level 3... marble does not break!\n",
      "2: From level 4... marble does not break!\n"
     ]
    }
   ],
   "source": [
    "n = 4\n",
    "d = ceil((sqrt(8 * n + 1) - 1) / 2)\n",
    "if d == 0:\n",
    "    print('No drop will be needed.')\n",
    "elif d == 1:\n",
    "    print('At most 1 drop will be needed.')\n",
    "else:\n",
    "    print('At most', d, 'drops will be needed.')\n",
    "    \n",
    "for breaking_level in range(1, n + 2):\n",
    "    if breaking_level <= n:\n",
    "        print('\\nStrategy for marbles breaking on level',\n",
    "                  breaking_level, 'and not below:'\n",
    "                 )\n",
    "    else:\n",
    "        print('\\nStrategy for marbles not breaking:')\n",
    "    low = 0\n",
    "    high = n + 1\n",
    "    step = d\n",
    "    drop_number = 1\n",
    "    while low < high - 1:\n",
    "        level = min(low + step , high - 1)\n",
    "        if breaking_level <= level:\n",
    "            print(f'{drop_number}: From level {level}... marble BREAKS!')\n",
    "            high = level\n",
    "            step = 1\n",
    "        else:\n",
    "            print(f'{drop_number}: From level {level}... marble does not break!')\n",
    "            low = level\n",
    "            if step > 1:\n",
    "                step -= 1\n",
    "        drop_number += 1"
   ]
  },
  {
   "cell_type": "code",
   "execution_count": 8,
   "id": "cdb7c41e",
   "metadata": {},
   "outputs": [],
   "source": []
  },
  {
   "cell_type": "code",
   "execution_count": null,
   "id": "eeb49da0",
   "metadata": {},
   "outputs": [],
   "source": []
  }
 ],
 "metadata": {
  "kernelspec": {
   "display_name": "Python 3 (ipykernel)",
   "language": "python",
   "name": "python3"
  },
  "language_info": {
   "codemirror_mode": {
    "name": "ipython",
    "version": 3
   },
   "file_extension": ".py",
   "mimetype": "text/x-python",
   "name": "python",
   "nbconvert_exporter": "python",
   "pygments_lexer": "ipython3",
   "version": "3.11.0"
  },
  "vscode": {
   "interpreter": {
    "hash": "fb4a468b23ae772b99bd54f465a6eab9630ea5075332d07f1e912da887985c6f"
   }
  }
 },
 "nbformat": 4,
 "nbformat_minor": 5
}
