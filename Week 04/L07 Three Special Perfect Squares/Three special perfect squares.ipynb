{
 "cells": [
  {
   "cell_type": "markdown",
   "metadata": {},
   "source": [
    "<center><font size='5'>Three special perfect squares</font></center>\n",
    "<center><font size='3'>Eric Martin, CSE, UNSW</font></center>\n",
    "<center><font size='3'>COMP9021 Principles of Programming</font></center>"
   ]
  },
  {
   "cell_type": "code",
   "execution_count": 1,
   "metadata": {
    "jupyter": {
     "source_hidden": true
    },
    "tags": []
   },
   "outputs": [],
   "source": [
    "# Does not need to be executed if\n",
    "# ~/.ipython/profile_default/ipython_config.py\n",
    "# exists and contains:\n",
    "# c.InteractiveShell.ast_node_interactivity = 'all'\n",
    "\n",
    "from IPython.core.interactiveshell import InteractiveShell\n",
    "InteractiveShell.ast_node_interactivity = 'all'"
   ]
  },
  {
   "cell_type": "code",
   "execution_count": 2,
   "metadata": {},
   "outputs": [],
   "source": [
    "from math import sqrt"
   ]
  },
  {
   "cell_type": "markdown",
   "metadata": {},
   "source": [
    "We aim to find all triples $(a,b,c)$ of natural numbers such that:\n",
    "\n",
    "* $a<b<c$;\n",
    "* $a$, $b$ and $c$ are perfect squares;\n",
    "* 0 occurs in none of $a$, $b$ and $c$;\n",
    "* every nonzero digit occurs exactly once in one of $a$, $b$ and $c$.\n",
    "\n",
    "For instance $(25, 841, 7396)$ is a solution since $25=5^2$, $841=29^2$, $7396=86^2$, and we see that each of 1, 2, 3, 4, 5, 6, 7, 8 and 9 occurs once and only once in 25, 841 or 7396.\n",
    "\n",
    "A bad strategy would be to generate natural numbers, check whether they are perfect squares, and in case they aren't, discard them. A much better strategy is to generate nothing but perfect squares.\n",
    "\n",
    "*  Since we need 3 perfect squares and use up each of the 9 nonzero digits once and only once, $c$ can consist of at most 7 digits, leaving one digit to $a$ and 1 digit to $b$. There are three 1-digit nonzero perfect squares: 1, 4 and 9. So a largest possible value for $c$ is obtained by setting $a$ to 1, $b$ to 4, and $c$ to 9876532.\n",
    "* A largest possible value for $a$ is 997: otherwise, $b$ would consist of at least 3 digits and $c$ would consist of at least 4 digits, for a total of at least 10 digits.\n",
    "* A largest possible value for $b$ is 9998: otherwise, $c$ would consist of at least 5 digits and $a$ takes at least one digit, for a total of at least 10 digits.\n",
    "\n",
    "We could therefore look for solutions with the following code structure:"
   ]
  },
  {
   "cell_type": "code",
   "execution_count": 8,
   "metadata": {},
   "outputs": [
    {
     "data": {
      "text/plain": [
       "961"
      ]
     },
     "execution_count": 8,
     "metadata": {},
     "output_type": "execute_result"
    }
   ],
   "source": [
    "31**2"
   ]
  },
  {
   "cell_type": "code",
   "execution_count": 3,
   "metadata": {},
   "outputs": [],
   "source": [
    "for i in range(1, int(sqrt(997)) + 1):\n",
    "    a = i ** 2\n",
    "    for j in range(i + 1, int(sqrt(9998)) + 1):\n",
    "        b = j ** 2\n",
    "        for k in range(j + 1, int(sqrt(9876532)) + 1):\n",
    "            c = k ** 2\n",
    "            # Check whether (a, b, c) is a solution;\n",
    "            # display it if it is."
   ]
  },
  {
   "cell_type": "markdown",
   "metadata": {},
   "source": [
    "Let us see how many triples would be considered with the previous code structure:"
   ]
  },
  {
   "cell_type": "code",
   "execution_count": 4,
   "metadata": {},
   "outputs": [
    {
     "data": {
      "text/plain": [
       "7936372"
      ]
     },
     "execution_count": 4,
     "metadata": {},
     "output_type": "execute_result"
    }
   ],
   "source": [
    "sum(1 for i in range(1, int(sqrt(997)) + 1)\n",
    "        for j in range(i + 1, int(sqrt(9998)) + 1)\n",
    "            for k in range(j + 1, int(sqrt(9876532)) + 1)\n",
    "   )"
   ]
  },
  {
   "cell_type": "markdown",
   "metadata": {},
   "source": [
    "There is no need to consider candidates for $b$ (and $c$) in case the code generates a value for $a$ that can be discarded because it contains at least one occurrence of 0 or at least two occurrences of the same digit; there is also no need to consider candidates for $c$ in case the code generates a value for $b$ that can be discarded because it contains at least one occurrence of 0 or some digit occurs at least twice in $a$ and $b$ considered together. So a better code structure is:"
   ]
  },
  {
   "cell_type": "code",
   "execution_count": 9,
   "metadata": {},
   "outputs": [],
   "source": [
    "for i in range(1, int(sqrt(997)) + 1): # Looping 1 --> 31\n",
    "    a = i ** 2\n",
    "    # If a contains 0, or many occurrences of the same digit:\n",
    "    #     continue\n",
    "    for j in range(i + 1, int(sqrt(9998)) + 1): # Looping i + 1 --> 99\n",
    "        b = j ** 2\n",
    "        # If b contains 0, digits that occur in a, or many occurrences\n",
    "        # of the same digit:\n",
    "        #     continue\n",
    "        for k in range(j + 1, int(sqrt(9876532)) + 1): # Looping i + 1 --> 3142\n",
    "            c = k ** 2\n",
    "            # Check whether (a, b, c) is a solution;\n",
    "            # display it if it is."
   ]
  },
  {
   "cell_type": "markdown",
   "metadata": {},
   "source": [
    "It seems that 0 plays a special role, but one can \"pretend\" that 0 is being generated in the first place, in which case we want to consider only candidates for $a$ which consist of nothing but distinct digits none of which belongs to the set $S_0$ of digits \"seen\" before (namely, $\\{0\\}$), and then consider only candidates for $b$ which consist of nothing but distinct digits none of which belongs to the set $S_1$ of digits seen before (namely, the union of $S_0$ with the set of digits that occur in $a$), and then consider only candidates for $c$ which consist of nothing but distinct digits none of which belongs to the set $S_2$ of digits seen before (namely, the union of $S_1$ with the set of digits that occur in $b$).\n",
    "\n",
    "We will examine three techniques to keep track of the digits seen before, and to check that the candidate for $a$, $b$ or $c$ under consideration consists of nothing but distinct new digits.\n",
    "\n",
    "With the first technique, we work with sets of digit characters rather than sets of digits, e.g., with `{'0'}` rather than `{0}`, with `{'0', '2', '4', '5', '7', '8'}` rather than `{0, 2, 4, 5, 7, 8}`.  Having such a set $S$ of digit characters for the digits seen before (or \"pretended\" to be seen before in the case of 0), and considering a candidate $n$ for $a$, $b$ or $c$, we get a string $s$ from $n$, then a set $T$ of characters from $s$. Then all digits in $n$ are distinct and different to the digits seen before iff the number of digits in $n$ plus the number of (distinct) digits seen before, the latter being the cardinality of $S$, is equal to the cardinality of $S\\cup T$. The cardinality of a set can be computed with the `len()` function. The number of digits in $n$ is nothing but the length of $s$, which can also be computed with the `len()` function. The union of two sets can be computed with the `|` operator:"
   ]
  },
  {
   "cell_type": "code",
   "execution_count": 27,
   "metadata": {},
   "outputs": [],
   "source": [
    "S = {'0', '2', '5'}\n"
   ]
  },
  {
   "cell_type": "code",
   "execution_count": 28,
   "metadata": {},
   "outputs": [],
   "source": [
    "b = 784"
   ]
  },
  {
   "cell_type": "code",
   "execution_count": null,
   "metadata": {},
   "outputs": [],
   "source": []
  },
  {
   "cell_type": "code",
   "execution_count": 30,
   "metadata": {},
   "outputs": [
    {
     "data": {
      "text/plain": [
       "('784', {'4', '7', '8'}, {'0', '2', '4', '5', '7', '8'})"
      ]
     },
     "execution_count": 30,
     "metadata": {},
     "output_type": "execute_result"
    },
    {
     "data": {
      "text/plain": [
       "(6, 6)"
      ]
     },
     "execution_count": 30,
     "metadata": {},
     "output_type": "execute_result"
    }
   ],
   "source": [
    "str(b), set(str(b)), S | set(str(b))\n",
    "len(S) + len(str(b)), len(S | set(str(b)))"
   ]
  },
  {
   "cell_type": "code",
   "execution_count": 31,
   "metadata": {},
   "outputs": [
    {
     "data": {
      "text/plain": [
       "('784', {'4', '7', '8'}, {'0', '2', '4', '5', '7', '8'})"
      ]
     },
     "execution_count": 31,
     "metadata": {},
     "output_type": "execute_result"
    },
    {
     "data": {
      "text/plain": [
       "(6, 6)"
      ]
     },
     "execution_count": 31,
     "metadata": {},
     "output_type": "execute_result"
    },
    {
     "data": {
      "text/plain": [
       "('676', {'6', '7'}, {'0', '2', '5', '6', '7'})"
      ]
     },
     "execution_count": 31,
     "metadata": {},
     "output_type": "execute_result"
    },
    {
     "data": {
      "text/plain": [
       "(6, 5)"
      ]
     },
     "execution_count": 31,
     "metadata": {},
     "output_type": "execute_result"
    },
    {
     "data": {
      "text/plain": [
       "('729', {'2', '7', '9'}, {'0', '2', '5', '7', '9'})"
      ]
     },
     "execution_count": 31,
     "metadata": {},
     "output_type": "execute_result"
    },
    {
     "data": {
      "text/plain": [
       "(6, 5)"
      ]
     },
     "execution_count": 31,
     "metadata": {},
     "output_type": "execute_result"
    }
   ],
   "source": [
    "# Assume that a is 25\n",
    "S = {'0', '2', '5'}\n",
    "\n",
    "# All digits in b are distinct and not in S, so all good\n",
    "b = 784\n",
    "str(b), set(str(b)), S | set(str(b))\n",
    "len(S) + len(str(b)), len(S | set(str(b)))\n",
    "\n",
    "# Not all digits in b are distinct, so not good\n",
    "b = 676\n",
    "str(b), set(str(b)), S | set(str(b))\n",
    "len(S) + len(str(b)), len(S | set(str(b)))\n",
    "\n",
    "# Some digits in b are in S, so not good\n",
    "b = 729\n",
    "str(b), set(str(b)), S | set(str(b))\n",
    "len(S) + len(str(b)), len(S | set(str(b)))"
   ]
  },
  {
   "cell_type": "markdown",
   "metadata": {},
   "source": [
    "Rather than using the `|` operator, one can also call the `union` method, to be distinguished from the `update()` method: the latter does not return a new set but changes the set to which the method is applied. Also note that one can get the union of more than two sets: "
   ]
  },
  {
   "cell_type": "code",
   "execution_count": 33,
   "metadata": {},
   "outputs": [
    {
     "name": "stdout",
     "output_type": "stream",
     "text": [
      "Help on method_descriptor:\n",
      "\n",
      "union(...)\n",
      "    Return the union of sets as a new set.\n",
      "    \n",
      "    (i.e. all elements that are in either set.)\n",
      "\n"
     ]
    }
   ],
   "source": [
    "help(set.union)"
   ]
  },
  {
   "cell_type": "code",
   "execution_count": 32,
   "metadata": {},
   "outputs": [
    {
     "data": {
      "text/plain": [
       "({2, 3, 4, 5, 6, 7}, {2, 4, 6})"
      ]
     },
     "execution_count": 32,
     "metadata": {},
     "output_type": "execute_result"
    },
    {
     "data": {
      "text/plain": [
       "(None, {2, 3, 4, 5, 6, 7})"
      ]
     },
     "execution_count": 32,
     "metadata": {},
     "output_type": "execute_result"
    },
    {
     "data": {
      "text/plain": [
       "({2, 3, 4, 5, 6, 7, 10, 11, 20, 21, 22, 30}, {2, 3, 4, 5, 6, 7})"
      ]
     },
     "execution_count": 32,
     "metadata": {},
     "output_type": "execute_result"
    },
    {
     "data": {
      "text/plain": [
       "(None, {2, 3, 4, 5, 6, 7, 10, 11, 20, 21, 22, 30})"
      ]
     },
     "execution_count": 32,
     "metadata": {},
     "output_type": "execute_result"
    },
    {
     "data": {
      "text/plain": [
       "{2, 4, 6, 10, 11, 20, 21, 22, 30}"
      ]
     },
     "execution_count": 32,
     "metadata": {},
     "output_type": "execute_result"
    }
   ],
   "source": [
    "S = {2, 4, 6}\n",
    "\n",
    "S.union((3, 5, 7)), S\n",
    "S.update((3, 5, 7)), S # update() method returns None, but S is changed to the union version\n",
    "S.union((10, 11), {20, 21, 22}, [30]), S # set.union() can take in multiple sets to be part of the union\n",
    "S.update((10, 11), {20, 21, 22}, [30]), S\n",
    "{2, 4, 6} | {10, 11} | {20, 21, 22} | {30}"
   ]
  },
  {
   "cell_type": "markdown",
   "metadata": {},
   "source": [
    "The same distinction applies to intersection, difference, and symmetric difference, which for intersection and difference (but not symmetric difference), also accept many arguments, and which also have their own operators:"
   ]
  },
  {
   "cell_type": "code",
   "execution_count": 36,
   "metadata": {},
   "outputs": [
    {
     "name": "stdout",
     "output_type": "stream",
     "text": [
      "Help on method_descriptor:\n",
      "\n",
      "intersection(...)\n",
      "    Return the intersection of two sets as a new set.\n",
      "    \n",
      "    (i.e. all elements that are in both sets.)\n",
      "\n"
     ]
    }
   ],
   "source": [
    "help(set.intersection)"
   ]
  },
  {
   "cell_type": "code",
   "execution_count": 37,
   "metadata": {},
   "outputs": [
    {
     "name": "stdout",
     "output_type": "stream",
     "text": [
      "Help on method_descriptor:\n",
      "\n",
      "intersection_update(...)\n",
      "    Update a set with the intersection of itself and another.\n",
      "\n"
     ]
    }
   ],
   "source": [
    "help(set.intersection_update)"
   ]
  },
  {
   "cell_type": "code",
   "execution_count": 34,
   "metadata": {},
   "outputs": [
    {
     "data": {
      "text/plain": [
       "({4, 5, 6, 7}, {2, 3, 4, 5, 6, 7})"
      ]
     },
     "execution_count": 34,
     "metadata": {},
     "output_type": "execute_result"
    },
    {
     "data": {
      "text/plain": [
       "(None, {4, 5, 6, 7})"
      ]
     },
     "execution_count": 34,
     "metadata": {},
     "output_type": "execute_result"
    },
    {
     "data": {
      "text/plain": [
       "({7}, {4, 5, 6, 7})"
      ]
     },
     "execution_count": 34,
     "metadata": {},
     "output_type": "execute_result"
    },
    {
     "data": {
      "text/plain": [
       "(None, {7})"
      ]
     },
     "execution_count": 34,
     "metadata": {},
     "output_type": "execute_result"
    },
    {
     "data": {
      "text/plain": [
       "{7}"
      ]
     },
     "execution_count": 34,
     "metadata": {},
     "output_type": "execute_result"
    }
   ],
   "source": [
    "S = {2, 3, 4, 5, 6, 7}\n",
    "\n",
    "S.intersection((4, 5, 6, 7, 8, 9)), S\n",
    "S.intersection_update((4, 5, 6, 7, 8, 9)), S\n",
    "S.intersection((5, 6, 7, 8), {6, 7, 8, 9}, [7, 8, 10]), S\n",
    "S.intersection_update((5, 6, 7, 8), {6, 7, 8, 9}, [7, 8, 10]), S\n",
    "{2, 3, 4, 5, 6, 7} & {5, 6, 7, 8} & {6, 7, 8, 9} & {7, 8, 10}"
   ]
  },
  {
   "cell_type": "code",
   "execution_count": 38,
   "metadata": {},
   "outputs": [
    {
     "data": {
      "text/plain": [
       "({2, 3, 6, 7}, {2, 3, 4, 5, 6, 7})"
      ]
     },
     "execution_count": 38,
     "metadata": {},
     "output_type": "execute_result"
    },
    {
     "data": {
      "text/plain": [
       "(None, {2, 3, 6, 7})"
      ]
     },
     "execution_count": 38,
     "metadata": {},
     "output_type": "execute_result"
    },
    {
     "data": {
      "text/plain": [
       "({3, 7}, {2, 3, 6, 7})"
      ]
     },
     "execution_count": 38,
     "metadata": {},
     "output_type": "execute_result"
    },
    {
     "data": {
      "text/plain": [
       "(None, {3, 7})"
      ]
     },
     "execution_count": 38,
     "metadata": {},
     "output_type": "execute_result"
    },
    {
     "data": {
      "text/plain": [
       "{3, 4, 5, 7}"
      ]
     },
     "execution_count": 38,
     "metadata": {},
     "output_type": "execute_result"
    }
   ],
   "source": [
    "S = {2, 3, 4, 5, 6, 7}\n",
    "\n",
    "S.difference((0, 1, 4, 5)), S\n",
    "S.difference_update((0, 1, 4, 5)), S\n",
    "S.difference((2, 8, 9), {6, 8, 9, 10}, [10, 11]), S\n",
    "S.difference_update((2, 8, 9), {6, 8, 9, 10}, [10, 11]), S\n",
    "{2, 3, 4, 5, 6, 7} - {2, 8, 9} - {6, 8, 9, 10} - {10, 11}"
   ]
  },
  {
   "cell_type": "code",
   "execution_count": 41,
   "metadata": {},
   "outputs": [
    {
     "name": "stdout",
     "output_type": "stream",
     "text": [
      "Help on method_descriptor:\n",
      "\n",
      "symmetric_difference(...)\n",
      "    Return the symmetric difference of two sets as a new set.\n",
      "    \n",
      "    (i.e. all elements that are in exactly one of the sets.)\n",
      "\n"
     ]
    }
   ],
   "source": [
    "help(set.symmetric_difference)"
   ]
  },
  {
   "cell_type": "code",
   "execution_count": 39,
   "metadata": {},
   "outputs": [
    {
     "data": {
      "text/plain": [
       "({2, 3, 7, 8}, {2, 3, 4, 5, 6})"
      ]
     },
     "execution_count": 39,
     "metadata": {},
     "output_type": "execute_result"
    },
    {
     "data": {
      "text/plain": [
       "(None, {2, 3, 7, 8})"
      ]
     },
     "execution_count": 39,
     "metadata": {},
     "output_type": "execute_result"
    },
    {
     "data": {
      "text/plain": [
       "{0, 1, 7, 9}"
      ]
     },
     "execution_count": 39,
     "metadata": {},
     "output_type": "execute_result"
    }
   ],
   "source": [
    "S = {2, 3, 4, 5, 6}\n",
    "\n",
    "S.symmetric_difference((4, 5, 6, 7, 8)), S\n",
    "S.symmetric_difference_update((4, 5, 6, 7, 8)), S\n",
    "{2, 3, 4, 5, 6} ^ {4, 5, 6, 7, 8} ^ {2, 3, 8, 9} ^ {0, 1}"
   ]
  },
  {
   "cell_type": "markdown",
   "metadata": {},
   "source": [
    "Let us write a function `digits_if_ok_1()` with two parameters, `number`, meant to be assigned a natural number, and `digits_seen_before`,  meant to be assigned a set of digit characters. The function is expected to return `None` if as characters, it is not the case that the digits in `number` are all distinct and different to those in `digits_seen_before`; otherwise, `digits_if_ok_1()` is expected to return a new set of digit characters that extends `digits_seen_before` with those in `number`:"
   ]
  },
  {
   "cell_type": "code",
   "execution_count": 42,
   "metadata": {},
   "outputs": [
    {
     "data": {
      "text/plain": [
       "{'0', '2', '4', '5', '7', '8'}"
      ]
     },
     "execution_count": 42,
     "metadata": {},
     "output_type": "execute_result"
    },
    {
     "name": "stdout",
     "output_type": "stream",
     "text": [
      "None\n",
      "None\n"
     ]
    }
   ],
   "source": [
    "def digits_if_ok_1(number, digits_seen_before):\n",
    "    number_str = str(number)\n",
    "    digits_seen_now = digits_seen_before | set(number_str)\n",
    "    if len(digits_seen_now) != len(digits_seen_before) + len(number_str):\n",
    "        return\n",
    "    return digits_seen_now\n",
    "\n",
    "digits_if_ok_1(784, {'0', '2', '5'})\n",
    "print(digits_if_ok_1(676, {'0', '2', '5'}))\n",
    "print(digits_if_ok_1(729, {'0', '2', '5'}))"
   ]
  },
  {
   "cell_type": "markdown",
   "metadata": {},
   "source": [
    "We can now find out how many triples will be considered with the better code structure previously outlined:"
   ]
  },
  {
   "cell_type": "code",
   "execution_count": 44,
   "metadata": {},
   "outputs": [
    {
     "data": {
      "text/plain": [
       "552226"
      ]
     },
     "execution_count": 44,
     "metadata": {},
     "output_type": "execute_result"
    }
   ],
   "source": [
    "nb_of_triples = 0\n",
    "\n",
    "for i in range(1, int(sqrt(997)) + 1):\n",
    "    a = i ** 2\n",
    "    a_digits_and_0 = digits_if_ok_1(a, {'0'})\n",
    "    if not a_digits_and_0:\n",
    "        continue\n",
    "    for j in range(i + 1, int(sqrt(9998)) + 1):\n",
    "        b = j ** 2\n",
    "        a_b_digits_and_0 = digits_if_ok_1(b, a_digits_and_0)\n",
    "        if not a_b_digits_and_0:\n",
    "            continue\n",
    "        for k in range(j + 1, int(sqrt(9876532)) + 1):\n",
    "            nb_of_triples += 1\n",
    "            \n",
    "nb_of_triples"
   ]
  },
  {
   "cell_type": "markdown",
   "metadata": {},
   "source": [
    "To complete the implementation, it suffices to also check whether the digits in $c$ are distinct and different to those seen before, and if that is the case, check that 10 digits have been seen altogether (since we included 0 to start with). We complement the code with a count for the number of solutions being discovered:  "
   ]
  },
  {
   "cell_type": "code",
   "execution_count": 45,
   "metadata": {},
   "outputs": [
    {
     "name": "stdout",
     "output_type": "stream",
     "text": [
      "      1       4 3297856\n",
      "      1       4 3857296\n",
      "      1       4 5827396\n",
      "      1       4 6385729\n",
      "      1       4 8567329\n",
      "      1       4 9572836\n",
      "      1      49  872356\n",
      "      1      64  537289\n",
      "      1     256   73984\n",
      "      1     625   73984\n",
      "      4      16  537289\n",
      "      4      25  139876\n",
      "      4      25  391876\n",
      "      4     289   15376\n",
      "      9     324   15876\n",
      "     16      25   73984\n",
      "     16     784    5329\n",
      "     25     784    1369\n",
      "     25     784    1936\n",
      "     25     841    7396\n",
      "     36      81   74529\n",
      "     36      81   79524\n",
      "     36     729    5184\n",
      "     81     324    7569\n",
      "     81     576    3249\n",
      "     81     729    4356\n",
      "    361     529     784\n",
      "Altogether, 27 solutions have been discovered.\n"
     ]
    }
   ],
   "source": [
    "nb_of_solutions = 0\n",
    "\n",
    "for i in range(1, int(sqrt(997)) + 1):\n",
    "    a = i ** 2\n",
    "    a_digits_and_0 = digits_if_ok_1(a, {'0'})\n",
    "    if not a_digits_and_0:\n",
    "        continue\n",
    "    for j in range(i + 1, int(sqrt(9998)) + 1):\n",
    "        b = j ** 2\n",
    "        a_b_digits_and_0 = digits_if_ok_1(b, a_digits_and_0)\n",
    "        if not a_b_digits_and_0:\n",
    "            continue\n",
    "        for k in range(j + 1, int(sqrt(9876532)) + 1):\n",
    "            c = k ** 2\n",
    "            a_b_c_digits_and_0 = digits_if_ok_1(c, a_b_digits_and_0)\n",
    "            if not a_b_c_digits_and_0 or len(a_b_c_digits_and_0) != 10:\n",
    "                continue\n",
    "            print(f'{a:7} {b:7} {c:7}')\n",
    "            nb_of_solutions += 1\n",
    "\n",
    "print('Altogether,', nb_of_solutions, 'solutions have been discovered.')"
   ]
  },
  {
   "cell_type": "markdown",
   "metadata": {},
   "source": [
    "With the second technique, we work with sets of digits. Having such a set $S$ of digits for the digits seen before (or \"pretended\" to be seen before in the case of 0), and considering a candidate $n$ for $a$, $b$ or $c$, we extract the rightmost digit $d$ in $n$, give up on that candidate in case $d$ belongs to $S$ but add $d$ to $S$ otherwise, and proceed this way for all remaining digits in $n$, if any. Computation of $n$ modulo 10 and integer division by 10 return the rightmost digit and the remaining digits in $n$, respectively. The function `digits_if_ok_2()` implements this technique:"
   ]
  },
  {
   "cell_type": "markdown",
   "metadata": {},
   "source": []
  },
  {
   "cell_type": "code",
   "execution_count": 58,
   "metadata": {},
   "outputs": [
    {
     "name": "stdout",
     "output_type": "stream",
     "text": [
      "1329230 9\n",
      "132923 0\n",
      "13292 3\n",
      "1329 2\n",
      "132 9\n",
      "13 2\n",
      "1 3\n",
      "0 1\n"
     ]
    }
   ],
   "source": [
    "number = 13292309\n",
    "while number:\n",
    "    number, digit = divmod(number, 10)\n",
    "    print(number, digit)"
   ]
  },
  {
   "cell_type": "code",
   "execution_count": 46,
   "metadata": {},
   "outputs": [
    {
     "data": {
      "text/plain": [
       "{0, 2, 4, 5, 7, 8}"
      ]
     },
     "execution_count": 46,
     "metadata": {},
     "output_type": "execute_result"
    },
    {
     "name": "stdout",
     "output_type": "stream",
     "text": [
      "None\n",
      "None\n"
     ]
    }
   ],
   "source": [
    "def digits_if_ok_2(number, seen_digits):\n",
    "    while number:\n",
    "        number, digit = divmod(number, 10)\n",
    "        if digit in seen_digits:\n",
    "            return\n",
    "        seen_digits.add(digit)\n",
    "    return seen_digits\n",
    "\n",
    "digits_if_ok_2(784, {0, 2, 5})\n",
    "print(digits_if_ok_2(676, {0, 2, 5}))\n",
    "print(digits_if_ok_2(729, {0, 2, 5}))"
   ]
  },
  {
   "cell_type": "markdown",
   "metadata": {},
   "source": [
    "Assume that we adjust the code that discovers and outputs all solutions with the second technique by just\n",
    "\n",
    "* changing `a_digits_and_0 = digits_if_ok_1(a, {'0'})` to  `a_digits_and_0 = digits_if_ok_2(a, {0})`, and\n",
    "* changing the other two calls to `digits_if_ok_1()` to calls to `digits_if_ok_2()`.\n",
    "\n",
    "We know that there are solutions for $a=5^2=25$ together with both $b=28^2=784$ and $b=29^2=841$. This means that\n",
    "\n",
    "* at some point, `a_digits_and_0` will evaluate to `{0, 2, 5}`,\n",
    "* `a_b_digits_and_0 = digits_if_ok_2(784, a_digits_and_0)` will be executed, and later\n",
    "* `a_b_digits_and_0 = digits_if_ok_2(841, a_digits_and_0)` will be executed.\n",
    "\n",
    "The following code fragment demonstrates that we will not get the expected results, and why:"
   ]
  },
  {
   "cell_type": "code",
   "execution_count": 60,
   "metadata": {},
   "outputs": [
    {
     "name": "stdout",
     "output_type": "stream",
     "text": [
      "{0, 2, 4, 5, 7, 8}\n"
     ]
    },
    {
     "data": {
      "text/plain": [
       "{0, 2, 4, 5, 7, 8}"
      ]
     },
     "execution_count": 60,
     "metadata": {},
     "output_type": "execute_result"
    },
    {
     "name": "stdout",
     "output_type": "stream",
     "text": [
      "None\n"
     ]
    },
    {
     "data": {
      "text/plain": [
       "{0, 1, 2, 4, 5, 7, 8}"
      ]
     },
     "execution_count": 60,
     "metadata": {},
     "output_type": "execute_result"
    }
   ],
   "source": [
    "a_digits_and_0 = {0, 2, 5}\n",
    "print(digits_if_ok_2(784, a_digits_and_0))\n",
    "a_digits_and_0\n",
    "print(digits_if_ok_2(841, a_digits_and_0))\n",
    "a_digits_and_0"
   ]
  },
  {
   "cell_type": "markdown",
   "metadata": {},
   "source": [
    "In the following code fragment, we see:\n",
    "\n",
    "* `f(n)` make `a` denote what `n` denotes, namely, the integer 1, represented somewhere in memory, before the statement `a = 10` makes `a` denote another integer, namely, 10, represented elsewhere in memory;\n",
    "* `g(A)` make `A` denote what `S` denotes, namely, the set {2}, represented somewhere in memory, before the statement `A = {20}` makes `A` denote another set, namely, {20}, represented elsewhere in memory;\n",
    "* `h(B)` make `B` denote what `L` denotes, namely, the list [3], represented somewhere in memory, before the statement `B = [30]` makes `B` denote another list, namely, [30], represented elsewhere in memory."
   ]
  },
  {
   "cell_type": "code",
   "execution_count": 61,
   "metadata": {},
   "outputs": [
    {
     "name": "stdout",
     "output_type": "stream",
     "text": [
      "1\n"
     ]
    },
    {
     "data": {
      "text/plain": [
       "1"
      ]
     },
     "execution_count": 61,
     "metadata": {},
     "output_type": "execute_result"
    },
    {
     "name": "stdout",
     "output_type": "stream",
     "text": [
      "{2}\n"
     ]
    },
    {
     "data": {
      "text/plain": [
       "{2}"
      ]
     },
     "execution_count": 61,
     "metadata": {},
     "output_type": "execute_result"
    },
    {
     "name": "stdout",
     "output_type": "stream",
     "text": [
      "[3]\n"
     ]
    },
    {
     "data": {
      "text/plain": [
       "[3]"
      ]
     },
     "execution_count": 61,
     "metadata": {},
     "output_type": "execute_result"
    }
   ],
   "source": [
    "n = 1\n",
    "S = {2}\n",
    "L = [3]\n",
    "\n",
    "def f(a):\n",
    "    print(a)\n",
    "    a = 10\n",
    "    \n",
    "def g(A):\n",
    "    print(A)\n",
    "    A = {20}\n",
    "    \n",
    "def h(B):\n",
    "    print(B)\n",
    "    B = [30]\n",
    "    \n",
    "f(n); n\n",
    "g(S); S\n",
    "h(L); L"
   ]
  },
  {
   "cell_type": "markdown",
   "metadata": {},
   "source": [
    "In the following code fragment, we see:\n",
    "\n",
    "* `g(A)` make `A` denote what `S` denotes, namely, the set {2}, represented somewhere in memory, before the statement `A.add(20)` changes that set to {2, 20} by letting the representation of {2, 20} replace the representation of {2} in memory;\n",
    "* `h(B)` make `B` denote what `L` denotes, namely, the list [3], represented somewhere in memory, before the statement `B.append(30)` changes that list to [3, 30] by letting the representation of [3, 30] replace the representation of [3] in memory."
   ]
  },
  {
   "cell_type": "code",
   "execution_count": 49,
   "metadata": {},
   "outputs": [
    {
     "name": "stdout",
     "output_type": "stream",
     "text": [
      "{2}\n"
     ]
    },
    {
     "data": {
      "text/plain": [
       "{2, 20}"
      ]
     },
     "execution_count": 49,
     "metadata": {},
     "output_type": "execute_result"
    },
    {
     "name": "stdout",
     "output_type": "stream",
     "text": [
      "[3]\n"
     ]
    },
    {
     "data": {
      "text/plain": [
       "[3, 30]"
      ]
     },
     "execution_count": 49,
     "metadata": {},
     "output_type": "execute_result"
    }
   ],
   "source": [
    "S = {2}\n",
    "L = [3]\n",
    "\n",
    "def g(A):\n",
    "    print(A)\n",
    "    A.add(20)\n",
    "    \n",
    "def h(B):\n",
    "    print(B)\n",
    "    B.append(30)\n",
    "    \n",
    "g(S); S\n",
    "h(L); L"
   ]
  },
  {
   "cell_type": "markdown",
   "metadata": {},
   "source": [
    "We infer that `digits_if_ok_2()` should receive as second argument not the set of digits seen before, but a copy of that set; the copy will be extended with the digits in the number passed as first argument in case those digits are all distinct and different to the digits seen before, leaving the first argument unmodified; `set()`, `list()`, `tuple()`, return a set, a list, a tuple, respectively, consisting of the elements that make up their arguments: "
   ]
  },
  {
   "cell_type": "code",
   "execution_count": 62,
   "metadata": {},
   "outputs": [
    {
     "data": {
      "text/plain": [
       "({1, 2, 3}, {1, 2, 3}, {1, 2, 3}, {'1', '2', '3'})"
      ]
     },
     "execution_count": 62,
     "metadata": {},
     "output_type": "execute_result"
    },
    {
     "data": {
      "text/plain": [
       "([1, 2, 3], [1, 2, 3], [1, 2, 3], ['1', '2', '3'])"
      ]
     },
     "execution_count": 62,
     "metadata": {},
     "output_type": "execute_result"
    },
    {
     "data": {
      "text/plain": [
       "((1, 2, 3), (1, 2, 3), (1, 2, 3), ('1', '2', '3'))"
      ]
     },
     "execution_count": 62,
     "metadata": {},
     "output_type": "execute_result"
    }
   ],
   "source": [
    "S = {1, 2, 3}; L = [1, 2, 3]; T = 1, 2, 3; s = '123'\n",
    "\n",
    "set(S), set(L), set(T), set(s)\n",
    "list(S), list(L), list(T), list(s)\n",
    "tuple(S), tuple(L), tuple(T), tuple(s)"
   ]
  },
  {
   "cell_type": "markdown",
   "metadata": {},
   "source": [
    "The problematic code fragment can then be amended as follows:"
   ]
  },
  {
   "cell_type": "code",
   "execution_count": 63,
   "metadata": {},
   "outputs": [
    {
     "name": "stdout",
     "output_type": "stream",
     "text": [
      "{0, 2, 4, 5, 7, 8}\n"
     ]
    },
    {
     "data": {
      "text/plain": [
       "{0, 2, 5}"
      ]
     },
     "execution_count": 63,
     "metadata": {},
     "output_type": "execute_result"
    },
    {
     "name": "stdout",
     "output_type": "stream",
     "text": [
      "{0, 1, 2, 4, 5, 8}\n"
     ]
    },
    {
     "data": {
      "text/plain": [
       "{0, 2, 5}"
      ]
     },
     "execution_count": 63,
     "metadata": {},
     "output_type": "execute_result"
    }
   ],
   "source": [
    "a_digits_and_0 = {0, 2, 5}\n",
    "print(digits_if_ok_2(784, set(a_digits_and_0)))\n",
    "a_digits_and_0\n",
    "print(digits_if_ok_2(841, set(a_digits_and_0)))\n",
    "a_digits_and_0"
   ]
  },
  {
   "cell_type": "markdown",
   "metadata": {},
   "source": [
    "The solution based on the second technique is then a simple modification of the implementation based on the first technique:"
   ]
  },
  {
   "cell_type": "code",
   "execution_count": 65,
   "metadata": {},
   "outputs": [
    {
     "name": "stdout",
     "output_type": "stream",
     "text": [
      "      1       4 3297856\n",
      "      1       4 3857296\n",
      "      1       4 5827396\n",
      "      1       4 6385729\n",
      "      1       4 8567329\n",
      "      1       4 9572836\n",
      "      1      49  872356\n",
      "      1      64  537289\n",
      "      1     256   73984\n",
      "      1     625   73984\n",
      "      4      16  537289\n",
      "      4      25  139876\n",
      "      4      25  391876\n",
      "      4     289   15376\n",
      "      9     324   15876\n",
      "     16      25   73984\n",
      "     16     784    5329\n",
      "     25     784    1369\n",
      "     25     784    1936\n",
      "     25     841    7396\n",
      "     36      81   74529\n",
      "     36      81   79524\n",
      "     36     729    5184\n",
      "     81     324    7569\n",
      "     81     576    3249\n",
      "     81     729    4356\n",
      "    361     529     784\n",
      "Altogether, 27 solutions have been discovered.\n"
     ]
    }
   ],
   "source": [
    "nb_of_solutions = 0\n",
    "\n",
    "for i in range(1, int(sqrt(997)) + 1):\n",
    "    a = i ** 2\n",
    "    a_digits_and_0 = digits_if_ok_2(a, {0})\n",
    "    if not a_digits_and_0:\n",
    "        continue\n",
    "    for j in range(i + 1, int(sqrt(9998)) + 1):\n",
    "        b = j ** 2\n",
    "        a_b_digits_and_0 = digits_if_ok_2(b, set(a_digits_and_0))\n",
    "        if not a_b_digits_and_0:\n",
    "            continue\n",
    "        for k in range(j + 1, int(sqrt(9876532)) + 1):\n",
    "            c = k ** 2\n",
    "            a_b_c_digits_and_0 = digits_if_ok_2(c, set(a_b_digits_and_0))\n",
    "            if not a_b_c_digits_and_0 or len(a_b_c_digits_and_0) != 10:\n",
    "                continue\n",
    "            print(f'{a:7} {b:7} {c:7}')\n",
    "            nb_of_solutions += 1\n",
    "\n",
    "print('Altogether,', nb_of_solutions, 'solutions have been discovered.')"
   ]
  },
  {
   "cell_type": "markdown",
   "metadata": {},
   "source": [
    "With the third technique, we work with natural numbers smaller than $2^{10}$ to encode sets of digits: given $k<10$ and $0\\leq n_0<...<n_k\\leq 9$, we let $2^{n_0}+\\dots+2^{n_k}$ encode the set $\\{n_0,\\dots,n_k\\}$. In other words, we let the positions of the bits set to 1 in the representation of a number $e$ smaller than $2^{10}$ as a 10-bit number encode the members of the set encoded by $e$, the rightmost position being position 0, the second rightmost position being position 1, etc. The illustration code below makes use of **set comprehensions**:"
   ]
  },
  {
   "cell_type": "code",
   "execution_count": 66,
   "metadata": {},
   "outputs": [
    {
     "data": {
      "text/plain": [
       "(0, '0000000000', set())"
      ]
     },
     "execution_count": 66,
     "metadata": {},
     "output_type": "execute_result"
    },
    {
     "data": {
      "text/plain": [
       "(297, '0100101001', {0, 3, 5, 8})"
      ]
     },
     "execution_count": 66,
     "metadata": {},
     "output_type": "execute_result"
    },
    {
     "data": {
      "text/plain": [
       "(552, '1000101000', {3, 5, 9})"
      ]
     },
     "execution_count": 66,
     "metadata": {},
     "output_type": "execute_result"
    },
    {
     "data": {
      "text/plain": [
       "(1023, '1111111111', {0, 1, 2, 3, 4, 5, 6, 7, 8, 9})"
      ]
     },
     "execution_count": 66,
     "metadata": {},
     "output_type": "execute_result"
    }
   ],
   "source": [
    "e = 0\n",
    "e, f'{e:010b}', {i for i in range(10) if f'{e:010b}'[9 - i] == '1'}\n",
    "\n",
    "e = 2 ** 0 + 2 ** 3 + 2 ** 5 + 2 ** 8\n",
    "e, f'{e:010b}', {i for i in range(10) if f'{e:010b}'[9 - i] == '1'}\n",
    "\n",
    "e = 2 ** 3 + 2 ** 5 + 2 ** 9\n",
    "e, f'{e:010b}', {i for i in range(10) if f'{e:010b}'[9 - i] == '1'}\n",
    "\n",
    "e = 2 ** 10 - 1\n",
    "e, f'{e:010b}', {i for i in range(10) if f'{e:010b}'[9 - i] == '1'}"
   ]
  },
  {
   "cell_type": "markdown",
   "metadata": {},
   "source": [
    "Having a number $e$ encoding the digits seen before (or \"pretended\" to be seen before in the case of 0), and considering a candidate $n$ for $a$, $b$ or $c$, we extract the rightmost digit $d$ in $n$, give up on that candidate in case $d$ is one of the digits encoded in $e$, but let a new number encode $d$ together with the digits encoded in $e$ otherwise, and proceed this way for all remaining digits in $n$, if any. Before we see a possible implementation of the third technique, let us see binary bitwise operations in action.\n",
    "\n",
    "Dividing a number $n$ by $2^0$, $2^1$, $2^3$, $2^4$... can be seen as \"pushing\" $n$ written in binary by 0, 1, 2, 3, 4... positions to the right, which can also be achieved with the `>>` operator:"
   ]
  },
  {
   "cell_type": "code",
   "execution_count": 54,
   "metadata": {},
   "outputs": [
    {
     "name": "stdout",
     "output_type": "stream",
     "text": [
      "0 22 22 0000010110\n",
      "1 11 11 0000001011\n",
      "2  5  5 0000000101\n",
      "3  2  2 0000000010\n",
      "4  1  1 0000000001\n"
     ]
    }
   ],
   "source": [
    "n = 22\n",
    "\n",
    "for k in range(5):\n",
    "    print(k, f'{n // 2 ** k:2}', f'{n >> k:2}', f'{n >> k:010b}')"
   ]
  },
  {
   "cell_type": "markdown",
   "metadata": {},
   "source": [
    "Multiplying a number $n$ by $2^0$, $2^1$, $2^3$, $2^4$... can be seen as \"pushing\" $n$ written in binary by 0, 1, 2, 3, 4... positions to the left, \"filling the gaps\" with 0s, which can also be achieved with the `<<` operator:"
   ]
  },
  {
   "cell_type": "code",
   "execution_count": null,
   "metadata": {},
   "outputs": [],
   "source": [
    "n = 22\n",
    "\n",
    "for k in range(5):\n",
    "    print(k, f'{n * 2 ** k:3}', f'{n << k:3}', f'{n << k:010b}')"
   ]
  },
  {
   "cell_type": "markdown",
   "metadata": {},
   "source": [
    "In particular, $2^0$, $2^1$, $2^3$, $2^4$... are also 1 pushed 0, 1, 2, 3, 4... positions to the left: these are the numbers that in binary, have a single 1 at position 0, 1, 2, 3, 4...: "
   ]
  },
  {
   "cell_type": "code",
   "execution_count": null,
   "metadata": {},
   "outputs": [],
   "source": [
    "for k in range(5):\n",
    "    print(k, f'{2 ** k:2}', f'{1 << k:2}', f'{1 << k:010b}')"
   ]
  },
  {
   "cell_type": "markdown",
   "metadata": {},
   "source": [
    "With bitwise or, `|`, we get a number with a bit of 1 at a given position iff at least one operand has a bit of 1 at that position:"
   ]
  },
  {
   "cell_type": "code",
   "execution_count": 72,
   "metadata": {},
   "outputs": [
    {
     "data": {
      "text/plain": [
       "64"
      ]
     },
     "execution_count": 72,
     "metadata": {},
     "output_type": "execute_result"
    }
   ],
   "source": [
    "2**6"
   ]
  },
  {
   "cell_type": "code",
   "execution_count": 71,
   "metadata": {},
   "outputs": [
    {
     "name": "stdout",
     "output_type": "stream",
     "text": [
      "     0     25     25\n",
      "000000 011001 011001\n",
      "    25     63     63\n",
      "011001 111111 111111\n",
      "     5     34     39\n",
      "000101 100010 100111\n",
      "    21     56     61\n",
      "010101 111000 111101\n"
     ]
    }
   ],
   "source": [
    "x = 0\n",
    "y = 2 ** 0 + 2 ** 3 + 2 ** 4 # 1101 = 25\n",
    "print(f'{x:6}', f'{y:6}', f'{x | y:6}')\n",
    "print(f'{x:06b}', f'{y:06b}', f'{x | y:06b}')\n",
    "\n",
    "x = 2 ** 0 + 2 ** 3 + 2 ** 4 # 24\n",
    "y = 2 ** 6 - 1 # 63\n",
    "print(f'{x:6}', f'{y:6}', f'{x | y:6}')\n",
    "print(f'{x:06b}', f'{y:06b}', f'{x | y:06b}')\n",
    "\n",
    "x = 2 ** 0 + 2 ** 2\n",
    "y = 2 ** 1 + 2 ** 5\n",
    "print(f'{x:6}', f'{y:6}', f'{x | y:6}')\n",
    "print(f'{x:06b}', f'{y:06b}', f'{x | y:06b}')\n",
    "\n",
    "x = 2 ** 0 + 2 ** 2 + 2 ** 4\n",
    "y = 2 ** 3 + 2 ** 4 + 2 ** 5\n",
    "print(f'{x:6}', f'{y:6}', f'{x | y:6}')\n",
    "print(f'{x:06b}', f'{y:06b}', f'{x | y:06b}')"
   ]
  },
  {
   "cell_type": "markdown",
   "metadata": {},
   "source": [
    "With bitwise and, `&`, we get a number with a bit of 1 at a given position iff both operands have a bit of 1 at that position:"
   ]
  },
  {
   "cell_type": "code",
   "execution_count": 73,
   "metadata": {},
   "outputs": [
    {
     "name": "stdout",
     "output_type": "stream",
     "text": [
      "     0     25      0\n",
      "000000 011001 000000\n",
      "    25     63     25\n",
      "011001 111111 011001\n",
      "     5     34      0\n",
      "000101 100010 000000\n",
      "    21     56     16\n",
      "010101 111000 010000\n"
     ]
    }
   ],
   "source": [
    "x = 0\n",
    "y = 2 ** 0 + 2 ** 3 + 2 ** 4\n",
    "print(f'{x:6}', f'{y:6}', f'{x & y:6}')\n",
    "print(f'{x:06b}', f'{y:06b}', f'{x & y:06b}')\n",
    "\n",
    "x = 2 ** 0 + 2 ** 3 + 2 ** 4\n",
    "y = 2 ** 6 - 1\n",
    "print(f'{x:6}', f'{y:6}', f'{x & y:6}')\n",
    "print(f'{x:06b}', f'{y:06b}', f'{x & y:06b}')\n",
    "\n",
    "x = 2 ** 0 + 2 ** 2\n",
    "y = 2 ** 1 + 2 ** 5\n",
    "print(f'{x:6}', f'{y:6}', f'{x & y:6}')\n",
    "print(f'{x:06b}', f'{y:06b}', f'{x & y:06b}')\n",
    "\n",
    "x = 2 ** 0 + 2 ** 2 + 2 ** 4\n",
    "y = 2 ** 3 + 2 ** 4 + 2 ** 5\n",
    "print(f'{x:6}', f'{y:6}', f'{x & y:6}')\n",
    "print(f'{x:06b}', f'{y:06b}', f'{x & y:06b}')"
   ]
  },
  {
   "cell_type": "markdown",
   "metadata": {},
   "source": [
    "With bitwise xor, `^`, we get a number with a bit of 1 at a given position iff exactly one operand has a bit of 1 at that position:"
   ]
  },
  {
   "cell_type": "code",
   "execution_count": 74,
   "metadata": {},
   "outputs": [
    {
     "name": "stdout",
     "output_type": "stream",
     "text": [
      "     0     25     25\n",
      "000000 011001 011001\n",
      "    25     63     38\n",
      "011001 111111 100110\n",
      "     5     34     39\n",
      "000101 100010 100111\n",
      "    21     56     45\n",
      "010101 111000 101101\n"
     ]
    }
   ],
   "source": [
    "x = 0\n",
    "y = 2 ** 0 + 2 ** 3 + 2 ** 4\n",
    "print(f'{x:6}', f'{y:6}', f'{x ^ y:6}')\n",
    "print(f'{x:06b}', f'{y:06b}', f'{x ^ y:06b}')\n",
    "\n",
    "x = 2 ** 0 + 2 ** 3 + 2 ** 4\n",
    "y = 2 ** 6 - 1\n",
    "print(f'{x:6}', f'{y:6}', f'{x ^ y:6}')\n",
    "print(f'{x:06b}', f'{y:06b}', f'{x ^ y:06b}')\n",
    "\n",
    "x = 2 ** 0 + 2 ** 2\n",
    "y = 2 ** 1 + 2 ** 5\n",
    "print(f'{x:6}', f'{y:6}', f'{x ^ y:6}')\n",
    "print(f'{x:06b}', f'{y:06b}', f'{x ^ y:06b}')\n",
    "\n",
    "x = 2 ** 0 + 2 ** 2 + 2 ** 4\n",
    "y = 2 ** 3 + 2 ** 4 + 2 ** 5\n",
    "print(f'{x:6}', f'{y:6}', f'{x ^ y:6}')\n",
    "print(f'{x:06b}', f'{y:06b}', f'{x ^ y:06b}')"
   ]
  },
  {
   "cell_type": "markdown",
   "metadata": {},
   "source": [
    "So to check whether a digit $d$ is one of the digits encoded in $e$, and get a new number $g$ that encodes $d$ together with the digits encoded in $e$ in case $d$ is a new digit, it suffices to take the bitwise or of $e$ with 1 pushed $d$ positions to the left; either $d$ is not a new digit in which case this is $e$, or $d$ is a new digit in which case this is the desired $g$. The following code fragment illustrates with $e$ encoding the set $\\{0,2,5\\}$, and $d$ ranging all possible digits:"
   ]
  },
  {
   "cell_type": "code",
   "execution_count": 86,
   "metadata": {},
   "outputs": [],
   "source": [
    "x = 100"
   ]
  },
  {
   "cell_type": "code",
   "execution_count": 110,
   "metadata": {},
   "outputs": [
    {
     "name": "stdout",
     "output_type": "stream",
     "text": [
      "   37            0000100101\n",
      "0   1 0000000001 0000100101 True\n",
      "1   2 0000000010 0000100111 False\n",
      "2   4 0000000100 0000100101 True\n",
      "3   8 0000001000 0000101101 False\n",
      "4  16 0000010000 0000110101 False\n",
      "5  32 0000100000 0000100101 True\n",
      "6  64 0001000000 0001100101 False\n",
      "7 128 0010000000 0010100101 False\n",
      "8 256 0100000000 0100100101 False\n",
      "9 512 1000000000 1000100101 False\n"
     ]
    }
   ],
   "source": [
    "e = 2 ** 0 + 2 ** 2 + 2 ** 5 # 37 = 0b100101\n",
    "print(f'  {e:3}', ' ' * 10, f'{e:010b}')\n",
    "for d in range(10):\n",
    "    x = 1 << d\n",
    "    g = e | 1 << d\n",
    "    print(d, f'{x:3}', f'{x:010b}', f'{g:010b}', e == g)"
   ]
  },
  {
   "cell_type": "markdown",
   "metadata": {},
   "source": [
    "Based on these considerations, we can implement the third technique in the form of the function `digits_if_ok_3()`:"
   ]
  },
  {
   "cell_type": "code",
   "execution_count": 111,
   "metadata": {},
   "outputs": [
    {
     "data": {
      "text/plain": [
       "16"
      ]
     },
     "execution_count": 111,
     "metadata": {},
     "output_type": "execute_result"
    }
   ],
   "source": [
    "digits_seen_before "
   ]
  },
  {
   "cell_type": "code",
   "execution_count": 175,
   "metadata": {},
   "outputs": [
    {
     "name": "stdout",
     "output_type": "stream",
     "text": [
      "Setting up k\n"
     ]
    },
    {
     "data": {
      "text/plain": [
       "(37, '0000100101', {0, 2, 5})"
      ]
     },
     "execution_count": 175,
     "metadata": {},
     "output_type": "execute_result"
    },
    {
     "name": "stdout",
     "output_type": "stream",
     "text": [
      "Setting up e\n"
     ]
    },
    {
     "data": {
      "text/plain": [
       "(437, '0110110101', {0, 2, 4, 5, 7, 8})"
      ]
     },
     "execution_count": 175,
     "metadata": {},
     "output_type": "execute_result"
    }
   ],
   "source": [
    "def digits_if_ok_3(number, digits_seen_before):\n",
    "    while number:\n",
    "#         print('------------------------------------------')\n",
    "        number, digit = divmod(number, 10)\n",
    "#         print(f'number = {number:3d}, digit = {digit}')    \n",
    "        \n",
    "        digits_seen_now = digits_seen_before | 1 << digit\n",
    "        \n",
    "#         print(f'numbers_seen_before   = {digits_seen_before:010b}')\n",
    "#         print(f'1 << {digit:}                = {1 << digit:010b}'.replace('0','-'))\n",
    "#         print(f'numbers_seen_now      = {digits_seen_now:010b}')\n",
    "        \n",
    "        if digits_seen_now == digits_seen_before:\n",
    "            return\n",
    "        digits_seen_before = digits_seen_now\n",
    "        \n",
    "#     print('*******************************************')\n",
    "#     print(f'numbers_seen_returned = {digits_seen_now:010b}')\n",
    "    return digits_seen_before\n",
    "\n",
    "print('Setting up k')\n",
    "k = 2 ** 0 + 2 ** 2 + 2 ** 5 # 37\n",
    "k, f'{k:010b}', {i for i in range(10) if f'{k:010b}'[9 - i] == '1'} \n",
    "\n",
    "# 9 8 7 6 5 4 3 2 1 0\n",
    "# 0 0 0 0 1 0 0 1 0 1\n",
    "# _ _ _ _ 5 _ _ 2 _ 0\n",
    "\n",
    "# Therefore we get {0, 2, 5}\n",
    "\n",
    "print('Setting up e')\n",
    "e = digits_if_ok_3(784, 2 ** 0 + 2 ** 2 + 2 ** 5)\n",
    "e, f'{e:010b}', {i for i in range(10) if f'{e:010b}'[9 - i] == '1'}\n",
    "# 9 8 7 6 5 4 3 2 1 0\n",
    "# 0 1 1 0 1 1 0 1 0 1\n",
    "# _ 8 7 0 5 4 _ 2 _ 0\n",
    "\n",
    "# Therefore we get {2, 4, 5, 7, 7}\n",
    "\n",
    "# print('Checking if digits are ok for 20 into 676 and 729')\n",
    "# print(digits_if_ok_3(676, 2 ** 2 + 2 ** 4)) # 20\n",
    "# print(digits_if_ok_3(729, 2 ** 2 + 2 ** 4)) # 20"
   ]
  },
  {
   "cell_type": "markdown",
   "metadata": {},
   "source": [
    "We can then adjust the code that discovers and outputs all solutions with the first technique by just\n",
    "\n",
    "* changing `a_digits_and_0 = digits_if_ok_1(a, {'0'})` to  `a_digits_and_0 = digits_if_ok_3(a, 1)` since 1 encodes 0 as a singleton set,\n",
    "* changing the other two calls to `digits_if_ok_1()` to calls to `digits_if_ok_3()`, and\n",
    "* eventually checking whether `a_b_c_digits_and_0` is is not `None` and evaluates to $2^{10} - 1$, which in base 2, reads as 10 consecutive 1's, therefore encoding the set of all 10 digits:"
   ]
  },
  {
   "cell_type": "code",
   "execution_count": 186,
   "metadata": {},
   "outputs": [
    {
     "name": "stdout",
     "output_type": "stream",
     "text": [
      "     -------------------\n",
      "      1       4 3297856\n",
      "      1       4 3857296\n",
      "      1       4 5827396\n",
      "      1       4 6385729\n",
      "      1       4 8567329\n",
      "      1       4 9572836\n",
      "      1      49  872356\n",
      "      1      64  537289\n",
      "      1     256   73984\n",
      "      1     625   73984\n",
      "     -------------------\n",
      "      4      16  537289\n",
      "      4      25  139876\n",
      "      4      25  391876\n",
      "      4     289   15376\n",
      "     -------------------\n",
      "      9     324   15876\n",
      "     -------------------\n",
      "     16      25   73984\n",
      "     16     784    5329\n",
      "     -------------------\n",
      "     25     784    1369\n",
      "     25     784    1936\n",
      "     25     841    7396\n",
      "     -------------------\n",
      "     36      81   74529\n",
      "     36      81   79524\n",
      "     36     729    5184\n",
      "     -------------------\n",
      "     -------------------\n",
      "     -------------------\n",
      "     81     324    7569\n",
      "     81     576    3249\n",
      "     81     729    4356\n",
      "     -------------------\n",
      "     -------------------\n",
      "     -------------------\n",
      "     -------------------\n",
      "     -------------------\n",
      "     -------------------\n",
      "    361     529     784\n",
      "     -------------------\n",
      "     -------------------\n",
      "     -------------------\n",
      "     -------------------\n",
      "     -------------------\n",
      "     -------------------\n",
      "     -------------------\n",
      "Altogether, 27 solutions have been discovered.\n"
     ]
    }
   ],
   "source": [
    "nb_of_solutions = 0\n",
    "\n",
    "for i in range(1, int(sqrt(997)) + 1):\n",
    "    a = i ** 2\n",
    "    a_digits_and_0 = digits_if_ok_3(a, 1)\n",
    "    if not a_digits_and_0:\n",
    "        continue\n",
    "    print('     -------------------')\n",
    "    for j in range(i + 1, int(sqrt(9998)) + 1):\n",
    "        b = j ** 2\n",
    "        a_b_digits_and_0 = digits_if_ok_3(b, a_digits_and_0)\n",
    "        if not a_b_digits_and_0:\n",
    "            continue\n",
    "        \n",
    "        for k in range(j + 1, int(sqrt(9876532)) + 1):\n",
    "            c = k ** 2\n",
    "            a_b_c_digits_and_0 = digits_if_ok_3(c, a_b_digits_and_0)\n",
    "            if not a_b_c_digits_and_0 or a_b_c_digits_and_0 != 2 ** 10 - 1:\n",
    "                continue\n",
    "            print(f'{a:7} {b:7} {c:7}')\n",
    "            nb_of_solutions += 1\n",
    "\n",
    "print('Altogether,', nb_of_solutions, 'solutions have been discovered.')"
   ]
  },
  {
   "cell_type": "code",
   "execution_count": 187,
   "metadata": {},
   "outputs": [
    {
     "data": {
      "text/plain": [
       "32"
      ]
     },
     "execution_count": 187,
     "metadata": {},
     "output_type": "execute_result"
    }
   ],
   "source": [
    "int(sqrt(997)) + 1"
   ]
  },
  {
   "cell_type": "code",
   "execution_count": 188,
   "metadata": {},
   "outputs": [
    {
     "data": {
      "text/plain": [
       "100"
      ]
     },
     "execution_count": 188,
     "metadata": {},
     "output_type": "execute_result"
    }
   ],
   "source": [
    "int(sqrt(9998)) + 1"
   ]
  },
  {
   "cell_type": "code",
   "execution_count": 189,
   "metadata": {},
   "outputs": [
    {
     "data": {
      "text/plain": [
       "3143"
      ]
     },
     "execution_count": 189,
     "metadata": {},
     "output_type": "execute_result"
    }
   ],
   "source": [
    "int(sqrt(9876532)) + 1"
   ]
  },
  {
   "cell_type": "code",
   "execution_count": 210,
   "metadata": {},
   "outputs": [
    {
     "name": "stdout",
     "output_type": "stream",
     "text": [
      "      1       4       9\n",
      "      1       4      25\n",
      "      1       4      36\n",
      "      1       4     256\n",
      "      1       4     289\n",
      "      1       4     529\n",
      "      1       4     576\n",
      "      1       4     625\n",
      "      1       4     729\n",
      "      1       4    5329\n",
      "      1       4    7396\n",
      "      1       4    7569\n",
      "      1       4   82369\n",
      "      1       4  537289\n",
      "      1       4  872356\n",
      "      1       4 3297856\n",
      "      1       4 3857296\n",
      "      1       4 5827396\n",
      "      1       4 6385729\n",
      "      1       4 8567329\n",
      "      1       4 9572836\n",
      "      1       9      25\n",
      "      1       9      36\n",
      "      1       9      64\n",
      "      1       9     256\n",
      "      1       9     324\n",
      "      1       9     576\n",
      "      1       9     625\n",
      "      1       9     784\n",
      "      1       9    4356\n",
      "      1       9    5476\n",
      "      1       9    6724\n",
      "      1       9   53824\n",
      "      1       9   85264\n",
      "      1       9  872356\n",
      "      1      25      36\n",
      "      1      25      49\n",
      "      1      25      64\n",
      "      1      25     784\n",
      "      1      25    7396\n",
      "      1      25    8649\n",
      "      1      25   73984\n",
      "      1      36      49\n",
      "      1      36     289\n",
      "      1      36     529\n",
      "      1      36     729\n",
      "      1      36     784\n",
      "      1      36   29584\n",
      "      1      36   54289\n",
      "      1      36   74529\n",
      "      1      36   79524\n",
      "      1      49     256\n",
      "      1      49     576\n",
      "      1      49     625\n",
      "      1      49  872356\n",
      "      1      64     289\n",
      "      1      64     529\n",
      "      1      64     729\n",
      "      1      64    5329\n",
      "      1      64  537289\n",
      "      1     256     784\n",
      "      1     256   73984\n",
      "      1     289     576\n",
      "      1     289    4356\n",
      "      1     289    5476\n",
      "      1     324     576\n",
      "      1     324    7569\n",
      "      1     529     784\n",
      "      1     576    3249\n",
      "      1     625     784\n",
      "      1     625   73984\n",
      "      1     729    4356\n",
      "      1     784    5329\n",
      "      4       9      16\n",
      "      4       9      25\n",
      "      4       9      36\n",
      "      4       9      81\n",
      "      4       9     256\n",
      "      4       9     361\n",
      "      4       9     576\n",
      "      4       9     625\n",
      "      4       9    3721\n",
      "      4       9   15376\n",
      "      4       9   15876\n",
      "      4       9   23716\n",
      "      4       9   28561\n",
      "      4       9   32761\n",
      "      4       9   35721\n",
      "      4       9   72361\n",
      "      4       9   83521\n",
      "      4       9  872356\n",
      "      4      16      25\n",
      "      4      16     289\n",
      "      4      16     529\n",
      "      4      16     729\n",
      "      4      16    5329\n",
      "      4      16  537289\n",
      "      4      25      36\n",
      "      4      25      81\n",
      "      4      25     169\n",
      "      4      25     196\n",
      "      4      25     361\n",
      "      4      25     961\n",
      "      4      25    1369\n",
      "      4      25    1936\n",
      "      4      25    7396\n",
      "      4      25   13689\n",
      "      4      25   17689\n",
      "      4      25   18769\n",
      "      4      25   78961\n",
      "      4      25   81796\n",
      "      4      25  139876\n",
      "      4      25  391876\n",
      "      4      36      81\n",
      "      4      36     289\n",
      "      4      36     529\n",
      "      4      36     729\n",
      "      4      36    7921\n",
      "      4      36   71289\n",
      "      4      81     256\n",
      "      4      81     529\n",
      "      4      81     576\n",
      "      4      81     625\n",
      "      4      81     729\n",
      "      4      81    5329\n",
      "      4      81    7396\n",
      "      4      81    7569\n",
      "      4     289     361\n",
      "      4     289     576\n",
      "      4     289   15376\n",
      "      4     361     529\n",
      "      4     361     729\n",
      "      9      16      25\n",
      "      9      16     324\n",
      "      9      16     784\n",
      "      9      16   53824\n",
      "      9      25      36\n",
      "      9      25      64\n",
      "      9      25      81\n",
      "      9      25     361\n",
      "      9      25     784\n",
      "      9      25     841\n",
      "      9      25    1764\n",
      "      9      25    3481\n",
      "      9      25    4761\n",
      "      9      25   16384\n",
      "      9      25   31684\n",
      "      9      25   36481\n",
      "      9      25   38416\n",
      "      9      25   43681\n",
      "      9      36      81\n",
      "      9      36     784\n",
      "      9      36     841\n",
      "      9      36    5184\n",
      "      9      36   71824\n",
      "      9      64      81\n",
      "      9      64    3721\n",
      "      9      64   35721\n",
      "      9      64   83521\n",
      "      9      81     256\n",
      "      9      81     324\n",
      "      9      81     576\n",
      "      9      81     625\n",
      "      9      81    4356\n",
      "      9      81    5476\n",
      "      9      81    6724\n",
      "      9     256     784\n",
      "      9     256     841\n",
      "      9     256    3481\n",
      "      9     324     576\n",
      "      9     324   15876\n",
      "      9     361     784\n",
      "      9     576     841\n",
      "      9     576    3481\n",
      "      9     625     784\n",
      "      9     625     841\n",
      "      9     625    3481\n",
      "     16      25      49\n",
      "     16      25     784\n",
      "     16      25   73984\n",
      "     16     529     784\n",
      "     16     784    5329\n",
      "     25      36      49\n",
      "     25      36      81\n",
      "     25      36     784\n",
      "     25      36     841\n",
      "     25      36    1849\n",
      "     25      49      81\n",
      "     25      49     361\n",
      "     25      64      81\n",
      "     25      81    7396\n",
      "     25     169     784\n",
      "     25     196     784\n",
      "     25     361     784\n",
      "     25     784     961\n",
      "     25     784    1369\n",
      "     25     784    1936\n",
      "     25     841    7396\n",
      "     36      49      81\n",
      "     36      81     529\n",
      "     36      81     729\n",
      "     36      81   74529\n",
      "     36      81   79524\n",
      "     36     529     784\n",
      "     36     529     841\n",
      "     36     729     841\n",
      "     36     729    5184\n",
      "     49      81     256\n",
      "     49      81     576\n",
      "     49      81     625\n",
      "     64      81     529\n",
      "     64      81     729\n",
      "     64      81    5329\n",
      "     81     324     576\n",
      "     81     324    7569\n",
      "     81     576    3249\n",
      "     81     729    4356\n",
      "    361     529     784\n",
      "Altogether, 218 solutions have been discovered.\n"
     ]
    }
   ],
   "source": [
    "nb_of_solutions = 0\n",
    "\n",
    "for i in range(1, 32): # int(sqrt(997)) + 1\n",
    "    a = i ** 2\n",
    "    a_digits_and_0 = digits_if_ok_3(a, 1)\n",
    "    if not a_digits_and_0:\n",
    "        continue\n",
    "        \n",
    "    for j in range(i + 1, 100): # int(sqrt(9998)) + 1\n",
    "        b = j ** 2\n",
    "        a_b_digits_and_0 = digits_if_ok_3(b, a_digits_and_0)\n",
    "        if not a_b_digits_and_0:\n",
    "            continue\n",
    "            \n",
    "        for k in range(j + 1, 3143): # int(sqrt(9876532)) + 1\n",
    "            c = k ** 2\n",
    "            a_b_c_digits_and_0 = digits_if_ok_3(c, a_b_digits_and_0)\n",
    "            if not a_b_c_digits_and_0 or a_b_c_digits_and_0 != 2 ** 10 - 1:\n",
    "                continue\n",
    "                \n",
    "            print(f'{a:7} {b:7} {c:7}')\n",
    "            nb_of_solutions += 1\n",
    "\n",
    "print('Altogether,', nb_of_solutions, 'solutions have been discovered.')"
   ]
  },
  {
   "cell_type": "code",
   "execution_count": 209,
   "metadata": {},
   "outputs": [
    {
     "data": {
      "text/plain": [
       "1023"
      ]
     },
     "execution_count": 209,
     "metadata": {},
     "output_type": "execute_result"
    }
   ],
   "source": [
    "2**10-1"
   ]
  },
  {
   "cell_type": "code",
   "execution_count": 197,
   "metadata": {},
   "outputs": [
    {
     "data": {
      "text/plain": [
       "961"
      ]
     },
     "execution_count": 197,
     "metadata": {},
     "output_type": "execute_result"
    }
   ],
   "source": [
    "31**2"
   ]
  },
  {
   "cell_type": "code",
   "execution_count": 200,
   "metadata": {},
   "outputs": [
    {
     "data": {
      "text/plain": [
       "10000"
      ]
     },
     "execution_count": 200,
     "metadata": {},
     "output_type": "execute_result"
    }
   ],
   "source": [
    "100**2"
   ]
  },
  {
   "cell_type": "code",
   "execution_count": 208,
   "metadata": {},
   "outputs": [
    {
     "data": {
      "text/plain": [
       "'1'"
      ]
     },
     "execution_count": 208,
     "metadata": {},
     "output_type": "execute_result"
    }
   ],
   "source": [
    "\n",
    "f'{1:0b}'"
   ]
  },
  {
   "cell_type": "code",
   "execution_count": 219,
   "metadata": {},
   "outputs": [
    {
     "data": {
      "text/plain": [
       "361"
      ]
     },
     "execution_count": 219,
     "metadata": {},
     "output_type": "execute_result"
    }
   ],
   "source": [
    "19**2"
   ]
  },
  {
   "cell_type": "code",
   "execution_count": null,
   "metadata": {},
   "outputs": [],
   "source": []
  }
 ],
 "metadata": {
  "kernelspec": {
   "display_name": "Python 3 (ipykernel)",
   "language": "python",
   "name": "python3"
  },
  "language_info": {
   "codemirror_mode": {
    "name": "ipython",
    "version": 3
   },
   "file_extension": ".py",
   "mimetype": "text/x-python",
   "name": "python",
   "nbconvert_exporter": "python",
   "pygments_lexer": "ipython3",
   "version": "3.11.0"
  },
  "latex_envs": {
   "LaTeX_envs_menu_present": true,
   "autoclose": false,
   "autocomplete": true,
   "bibliofile": "biblio.bib",
   "cite_by": "apalike",
   "current_citInitial": 1,
   "eqLabelWithNumbers": true,
   "eqNumInitial": 1,
   "hotkeys": {
    "equation": "Ctrl-E",
    "itemize": "Ctrl-I"
   },
   "labels_anchors": false,
   "latex_user_defs": false,
   "report_style_numbering": false,
   "user_envs_cfg": false
  },
  "toc": {
   "base_numbering": 1,
   "nav_menu": {},
   "number_sections": true,
   "sideBar": true,
   "skip_h1_title": false,
   "title_cell": "Table of Contents",
   "title_sidebar": "Contents",
   "toc_cell": false,
   "toc_position": {},
   "toc_section_display": true,
   "toc_window_display": false
  },
  "widgets": {
   "application/vnd.jupyter.widget-state+json": {
    "state": {},
    "version_major": 2,
    "version_minor": 0
   }
  }
 },
 "nbformat": 4,
 "nbformat_minor": 4
}
