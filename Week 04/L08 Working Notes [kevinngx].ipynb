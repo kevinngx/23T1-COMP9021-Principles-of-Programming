{
 "cells": [
  {
   "cell_type": "code",
   "execution_count": 6,
   "id": "a45be906",
   "metadata": {},
   "outputs": [],
   "source": [
    "from math import sqrt\n",
    "\n",
    "def not_ok():\n",
    "    pass\n",
    "\n",
    "def not_ok_with_respect_to_a(a):\n",
    "    pass\n",
    "\n",
    "def not_ok_with_respect_to_a_and_b(c):\n",
    "    pass\n",
    "\n",
    "def every_digit_in_a_b_or_c():\n",
    "    pass\n",
    "\n",
    "for i in range(1, int(sqrt(997)) + 1):\n",
    "    a = i * i\n",
    "    if not_ok(a):\n",
    "        continue\n",
    "    for j in range(i + 1, int(sqrt(9998)) + 1):\n",
    "        b = j * j\n",
    "        if not_ok_with_respect_to_a(b):\n",
    "            continue\n",
    "        for k in range(j + 1, int(sqrt(98765432)) + 1):\n",
    "            c = k * k\n",
    "            if not_ok_with_respect_to_a_and_b(c):\n",
    "                continue\n",
    "            if every_digit_in_a_b_or_c():\n",
    "                print(a, b, c)"
   ]
  },
  {
   "cell_type": "code",
   "execution_count": 8,
   "id": "8bd0b391",
   "metadata": {},
   "outputs": [
    {
     "data": {
      "text/plain": [
       "{0, 1}"
      ]
     },
     "execution_count": 8,
     "metadata": {},
     "output_type": "execute_result"
    }
   ],
   "source": [
    "{0} | {1} # Union of two sets"
   ]
  },
  {
   "cell_type": "code",
   "execution_count": 12,
   "id": "5436628b",
   "metadata": {},
   "outputs": [
    {
     "name": "stdout",
     "output_type": "stream",
     "text": [
      "Help on method_descriptor:\n",
      "\n",
      "union(...)\n",
      "    Return the union of sets as a new set.\n",
      "    \n",
      "    (i.e. all elements that are in either set.)\n",
      "\n"
     ]
    }
   ],
   "source": [
    "help(set.union)"
   ]
  },
  {
   "cell_type": "code",
   "execution_count": 13,
   "id": "f09b0358",
   "metadata": {},
   "outputs": [
    {
     "data": {
      "text/plain": [
       "['__and__',\n",
       " '__class__',\n",
       " '__class_getitem__',\n",
       " '__contains__',\n",
       " '__delattr__',\n",
       " '__dir__',\n",
       " '__doc__',\n",
       " '__eq__',\n",
       " '__format__',\n",
       " '__ge__',\n",
       " '__getattribute__',\n",
       " '__getstate__',\n",
       " '__gt__',\n",
       " '__hash__',\n",
       " '__iand__',\n",
       " '__init__',\n",
       " '__init_subclass__',\n",
       " '__ior__',\n",
       " '__isub__',\n",
       " '__iter__',\n",
       " '__ixor__',\n",
       " '__le__',\n",
       " '__len__',\n",
       " '__lt__',\n",
       " '__ne__',\n",
       " '__new__',\n",
       " '__or__',\n",
       " '__rand__',\n",
       " '__reduce__',\n",
       " '__reduce_ex__',\n",
       " '__repr__',\n",
       " '__ror__',\n",
       " '__rsub__',\n",
       " '__rxor__',\n",
       " '__setattr__',\n",
       " '__sizeof__',\n",
       " '__str__',\n",
       " '__sub__',\n",
       " '__subclasshook__',\n",
       " '__xor__',\n",
       " 'add',\n",
       " 'clear',\n",
       " 'copy',\n",
       " 'difference',\n",
       " 'difference_update',\n",
       " 'discard',\n",
       " 'intersection',\n",
       " 'intersection_update',\n",
       " 'isdisjoint',\n",
       " 'issubset',\n",
       " 'issuperset',\n",
       " 'pop',\n",
       " 'remove',\n",
       " 'symmetric_difference',\n",
       " 'symmetric_difference_update',\n",
       " 'union',\n",
       " 'update']"
      ]
     },
     "execution_count": 13,
     "metadata": {},
     "output_type": "execute_result"
    }
   ],
   "source": [
    "dir(set)"
   ]
  },
  {
   "cell_type": "code",
   "execution_count": 14,
   "id": "da730a36",
   "metadata": {},
   "outputs": [],
   "source": [
    "S = {0, 1, 2}"
   ]
  },
  {
   "cell_type": "code",
   "execution_count": 16,
   "id": "aa178f1b",
   "metadata": {},
   "outputs": [],
   "source": [
    "S.add(3)"
   ]
  },
  {
   "cell_type": "code",
   "execution_count": 17,
   "id": "68747b1e",
   "metadata": {},
   "outputs": [
    {
     "data": {
      "text/plain": [
       "{0, 1, 2, 3}"
      ]
     },
     "execution_count": 17,
     "metadata": {},
     "output_type": "execute_result"
    }
   ],
   "source": [
    "S"
   ]
  },
  {
   "cell_type": "code",
   "execution_count": 20,
   "id": "f408a600",
   "metadata": {},
   "outputs": [
    {
     "data": {
      "text/plain": [
       "{0, 1, 2, 3, 4, 5}"
      ]
     },
     "execution_count": 20,
     "metadata": {},
     "output_type": "execute_result"
    }
   ],
   "source": [
    "S.union({4,5})"
   ]
  },
  {
   "cell_type": "code",
   "execution_count": 21,
   "id": "d64cecce",
   "metadata": {},
   "outputs": [
    {
     "data": {
      "text/plain": [
       "{0, 1, 2, 3}"
      ]
     },
     "execution_count": 21,
     "metadata": {},
     "output_type": "execute_result"
    }
   ],
   "source": [
    "S"
   ]
  },
  {
   "cell_type": "code",
   "execution_count": 22,
   "id": "80b8d565",
   "metadata": {},
   "outputs": [
    {
     "ename": "TypeError",
     "evalue": "unhashable type: 'set'",
     "output_type": "error",
     "traceback": [
      "\u001b[0;31m---------------------------------------------------------------------------\u001b[0m",
      "\u001b[0;31mTypeError\u001b[0m                                 Traceback (most recent call last)",
      "Cell \u001b[0;32mIn[22], line 1\u001b[0m\n\u001b[0;32m----> 1\u001b[0m \u001b[43mS\u001b[49m\u001b[38;5;241;43m.\u001b[39;49m\u001b[43madd\u001b[49m\u001b[43m(\u001b[49m\u001b[43m{\u001b[49m\u001b[38;5;241;43m4\u001b[39;49m\u001b[43m,\u001b[49m\u001b[38;5;241;43m5\u001b[39;49m\u001b[43m}\u001b[49m\u001b[43m)\u001b[49m\n",
      "\u001b[0;31mTypeError\u001b[0m: unhashable type: 'set'"
     ]
    }
   ],
   "source": [
    "S.add({4,5})"
   ]
  },
  {
   "cell_type": "code",
   "execution_count": 46,
   "id": "14b19fd9",
   "metadata": {},
   "outputs": [],
   "source": [
    "def ok(n, digits_seen_before):\n",
    "    n_as_string = str(n)\n",
    "    digits_seen_up_to_now = digits_seen_before | set(str(n_as_string))\n",
    "    if len(digits_seen_up_to_now) == len(digits_seen_before) + len(n_as_string):\n",
    "        return digits_seen_up_to_now\n"
   ]
  },
  {
   "cell_type": "code",
   "execution_count": 47,
   "id": "b2caad67",
   "metadata": {},
   "outputs": [],
   "source": [
    "result = ok(10, {'0', '1', '6'})"
   ]
  },
  {
   "cell_type": "code",
   "execution_count": 51,
   "id": "2e356d4f",
   "metadata": {},
   "outputs": [
    {
     "data": {
      "text/plain": [
       "{'0', '1', '2', '5', '6'}"
      ]
     },
     "execution_count": 51,
     "metadata": {},
     "output_type": "execute_result"
    }
   ],
   "source": [
    "{'0', '1', '6'} | set(str(25))"
   ]
  },
  {
   "cell_type": "code",
   "execution_count": 53,
   "id": "f5313095",
   "metadata": {},
   "outputs": [
    {
     "ename": "NameError",
     "evalue": "name 'seen_in_a' is not defined",
     "output_type": "error",
     "traceback": [
      "\u001b[0;31m---------------------------------------------------------------------------\u001b[0m",
      "\u001b[0;31mNameError\u001b[0m                                 Traceback (most recent call last)",
      "Cell \u001b[0;32mIn[53], line 25\u001b[0m\n\u001b[1;32m     23\u001b[0m \u001b[38;5;28;01mfor\u001b[39;00m j \u001b[38;5;129;01min\u001b[39;00m \u001b[38;5;28mrange\u001b[39m(i \u001b[38;5;241m+\u001b[39m \u001b[38;5;241m1\u001b[39m, \u001b[38;5;28mint\u001b[39m(sqrt(\u001b[38;5;241m9998\u001b[39m)) \u001b[38;5;241m+\u001b[39m \u001b[38;5;241m1\u001b[39m):\n\u001b[1;32m     24\u001b[0m     b \u001b[38;5;241m=\u001b[39m j \u001b[38;5;241m*\u001b[39m j\n\u001b[0;32m---> 25\u001b[0m     \u001b[38;5;28;01mif\u001b[39;00m not_ok_with_respect_to_a(b, \u001b[43mseen_in_a\u001b[49m):\n\u001b[1;32m     26\u001b[0m         \u001b[38;5;28;01mcontinue\u001b[39;00m\n\u001b[1;32m     27\u001b[0m     \u001b[38;5;28;01mfor\u001b[39;00m k \u001b[38;5;129;01min\u001b[39;00m \u001b[38;5;28mrange\u001b[39m(j \u001b[38;5;241m+\u001b[39m \u001b[38;5;241m1\u001b[39m, \u001b[38;5;28mint\u001b[39m(sqrt(\u001b[38;5;241m98765432\u001b[39m)) \u001b[38;5;241m+\u001b[39m \u001b[38;5;241m1\u001b[39m):\n",
      "\u001b[0;31mNameError\u001b[0m: name 'seen_in_a' is not defined"
     ]
    }
   ],
   "source": [
    "from math import sqrt\n",
    "\n",
    "def ok(n, digits_seen_before):\n",
    "    n_as_string = str(n)\n",
    "    digits_seen_up_to_now = digits_seen_before | set(n_as_string)\n",
    "    if len(digits_seen_up_to_now) == len(digits_seen_before) + len(n_as_string):\n",
    "        return digits_seen_up_to_now\n",
    "    digits_seen_up_to_now\n",
    "\n",
    "def not_ok_with_respect_to_a(a):\n",
    "    pass\n",
    "\n",
    "def not_ok_with_respect_to_a_and_b(c):\n",
    "    pass\n",
    "\n",
    "def every_digit_in_a_b_or_c():\n",
    "    pass\n",
    "\n",
    "for i in range(1, int(sqrt(997)) + 1):\n",
    "    a = i * i\n",
    "    seen_in_a = ok(a, {'0'})\n",
    "    if not seen_in_a:\n",
    "        continue\n",
    "    for j in range(i + 1, int(sqrt(9998)) + 1):\n",
    "        b = j * j\n",
    "        seen_in_a_and_b = ok(b, seen_in_a)\n",
    "        if not seen_in_a_and_b:\n",
    "            continue\n",
    "        for k in range(j + 1, int(sqrt(98765432)) + 1):\n",
    "            c = k * k\n",
    "            seen\n",
    "            if not_ok_with_respect_to_a_and_b(c, seen_in_a_and_b):\n",
    "                continue\n",
    "            if len(seen_in_a_and_b_and_c) == 10:\n",
    "                print(a, b, c)"
   ]
  },
  {
   "cell_type": "code",
   "execution_count": 61,
   "id": "4e2e2abc",
   "metadata": {},
   "outputs": [
    {
     "data": {
      "text/plain": [
       "[('C', 'B', 'A'),\n",
       " ('C', 'A', 'B'),\n",
       " ('B', 'C', 'A'),\n",
       " ('B', 'A', 'C'),\n",
       " ('A', 'C', 'B'),\n",
       " ('A', 'B', 'C')]"
      ]
     },
     "execution_count": 61,
     "metadata": {},
     "output_type": "execute_result"
    }
   ],
   "source": [
    "from itertools import permutations, combinations\n",
    "list(permutations({'A', 'B', 'C'}, 3))"
   ]
  },
  {
   "cell_type": "code",
   "execution_count": 64,
   "id": "82d19182",
   "metadata": {},
   "outputs": [
    {
     "data": {
      "text/plain": [
       "[('C', 'B', 'A')]"
      ]
     },
     "execution_count": 64,
     "metadata": {},
     "output_type": "execute_result"
    }
   ],
   "source": [
    "list(combinations({'A', 'B', 'C'}, 3))"
   ]
  },
  {
   "cell_type": "code",
   "execution_count": 66,
   "id": "d9e5b862",
   "metadata": {},
   "outputs": [
    {
     "name": "stdout",
     "output_type": "stream",
     "text": [
      "Help on class permutations in module itertools:\n",
      "\n",
      "class permutations(builtins.object)\n",
      " |  permutations(iterable, r=None)\n",
      " |  \n",
      " |  Return successive r-length permutations of elements in the iterable.\n",
      " |  \n",
      " |  permutations(range(3), 2) --> (0,1), (0,2), (1,0), (1,2), (2,0), (2,1)\n",
      " |  \n",
      " |  Methods defined here:\n",
      " |  \n",
      " |  __getattribute__(self, name, /)\n",
      " |      Return getattr(self, name).\n",
      " |  \n",
      " |  __iter__(self, /)\n",
      " |      Implement iter(self).\n",
      " |  \n",
      " |  __next__(self, /)\n",
      " |      Implement next(self).\n",
      " |  \n",
      " |  __reduce__(...)\n",
      " |      Return state information for pickling.\n",
      " |  \n",
      " |  __setstate__(...)\n",
      " |      Set state information for unpickling.\n",
      " |  \n",
      " |  __sizeof__(...)\n",
      " |      Returns size in memory, in bytes.\n",
      " |  \n",
      " |  ----------------------------------------------------------------------\n",
      " |  Static methods defined here:\n",
      " |  \n",
      " |  __new__(*args, **kwargs) from builtins.type\n",
      " |      Create and return a new object.  See help(type) for accurate signature.\n",
      "\n"
     ]
    }
   ],
   "source": [
    "help(permutations)"
   ]
  },
  {
   "cell_type": "code",
   "execution_count": 74,
   "id": "02765990",
   "metadata": {},
   "outputs": [
    {
     "name": "stdout",
     "output_type": "stream",
     "text": [
      "0b11101010\n",
      "0b1010110\n",
      "0b11111110\n"
     ]
    }
   ],
   "source": [
    "print(f'{bin(234)}')\n",
    "print(f'{bin(86)}')\n",
    "print(f'{bin(234 | 86)}')"
   ]
  },
  {
   "cell_type": "code",
   "execution_count": 75,
   "id": "431a12ff",
   "metadata": {},
   "outputs": [
    {
     "data": {
      "text/plain": [
       "64"
      ]
     },
     "execution_count": 75,
     "metadata": {},
     "output_type": "execute_result"
    }
   ],
   "source": [
    "1 << 6"
   ]
  },
  {
   "cell_type": "code",
   "execution_count": 76,
   "id": "a1ab42d4",
   "metadata": {},
   "outputs": [
    {
     "data": {
      "text/plain": [
       "64"
      ]
     },
     "execution_count": 76,
     "metadata": {},
     "output_type": "execute_result"
    }
   ],
   "source": [
    "2 ** 6"
   ]
  },
  {
   "cell_type": "code",
   "execution_count": 82,
   "id": "1e662fba",
   "metadata": {},
   "outputs": [],
   "source": [
    "n = 2 ** 0 + 2 ** 1 + 2 ** 6"
   ]
  },
  {
   "cell_type": "code",
   "execution_count": 83,
   "id": "beaf7683",
   "metadata": {},
   "outputs": [
    {
     "data": {
      "text/plain": [
       "True"
      ]
     },
     "execution_count": 83,
     "metadata": {},
     "output_type": "execute_result"
    }
   ],
   "source": [
    "1 << 6 | n == n"
   ]
  },
  {
   "cell_type": "code",
   "execution_count": 85,
   "id": "56a59b10",
   "metadata": {},
   "outputs": [
    {
     "data": {
      "text/plain": [
       "67"
      ]
     },
     "execution_count": 85,
     "metadata": {},
     "output_type": "execute_result"
    }
   ],
   "source": [
    "1 << 6 | n"
   ]
  },
  {
   "cell_type": "code",
   "execution_count": 86,
   "id": "6a69359b",
   "metadata": {},
   "outputs": [
    {
     "data": {
      "text/plain": [
       "67"
      ]
     },
     "execution_count": 86,
     "metadata": {},
     "output_type": "execute_result"
    }
   ],
   "source": [
    "64 | 67"
   ]
  },
  {
   "cell_type": "code",
   "execution_count": 87,
   "id": "067055be",
   "metadata": {},
   "outputs": [
    {
     "data": {
      "text/plain": [
       "62"
      ]
     },
     "execution_count": 87,
     "metadata": {},
     "output_type": "execute_result"
    }
   ],
   "source": [
    "62 | 52"
   ]
  },
  {
   "cell_type": "code",
   "execution_count": null,
   "id": "d856830d",
   "metadata": {},
   "outputs": [],
   "source": []
  }
 ],
 "metadata": {
  "kernelspec": {
   "display_name": "Python 3 (ipykernel)",
   "language": "python",
   "name": "python3"
  },
  "language_info": {
   "codemirror_mode": {
    "name": "ipython",
    "version": 3
   },
   "file_extension": ".py",
   "mimetype": "text/x-python",
   "name": "python",
   "nbconvert_exporter": "python",
   "pygments_lexer": "ipython3",
   "version": "3.11.0"
  },
  "vscode": {
   "interpreter": {
    "hash": "fb4a468b23ae772b99bd54f465a6eab9630ea5075332d07f1e912da887985c6f"
   }
  }
 },
 "nbformat": 4,
 "nbformat_minor": 5
}
