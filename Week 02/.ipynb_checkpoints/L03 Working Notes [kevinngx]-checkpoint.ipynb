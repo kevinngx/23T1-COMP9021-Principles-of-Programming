{
 "cells": [
  {
   "cell_type": "code",
   "execution_count": 1,
   "id": "32cbf804",
   "metadata": {},
   "outputs": [
    {
     "name": "stdout",
     "output_type": "stream",
     "text": [
      "good morning\n"
     ]
    }
   ],
   "source": [
    "# 1.0: If and Else 'Statements'\n",
    "morning = True\n",
    "if morning:\n",
    "    print('good morning')\n",
    "else:\n",
    "    print('good afternoon')"
   ]
  },
  {
   "cell_type": "code",
   "execution_count": 2,
   "id": "963c016a",
   "metadata": {},
   "outputs": [
    {
     "name": "stdout",
     "output_type": "stream",
     "text": [
      "good morning\n"
     ]
    }
   ],
   "source": [
    "print('good morning') if morning else print('good afternoon')"
   ]
  },
  {
   "cell_type": "code",
   "execution_count": 3,
   "id": "f7087fb5",
   "metadata": {},
   "outputs": [
    {
     "name": "stdout",
     "output_type": "stream",
     "text": [
      "good morning\n"
     ]
    }
   ],
   "source": [
    "# 1.1 If and Else 'Expressions'\n",
    "a = print('good morning') if morning else print('good afternoon')"
   ]
  },
  {
   "cell_type": "code",
   "execution_count": 4,
   "id": "0f53e6e9",
   "metadata": {},
   "outputs": [],
   "source": [
    "a"
   ]
  },
  {
   "cell_type": "code",
   "execution_count": 5,
   "id": "5b52818b",
   "metadata": {},
   "outputs": [
    {
     "name": "stdout",
     "output_type": "stream",
     "text": [
      "None\n"
     ]
    }
   ],
   "source": [
    "# a is the return value of print('good morning') which is None\n",
    "print(a)"
   ]
  },
  {
   "cell_type": "code",
   "execution_count": 6,
   "id": "30d72dec",
   "metadata": {},
   "outputs": [
    {
     "name": "stdout",
     "output_type": "stream",
     "text": [
      "How many games to play? \n"
     ]
    },
    {
     "data": {
      "text/plain": [
       "''"
      ]
     },
     "execution_count": 6,
     "metadata": {},
     "output_type": "execute_result"
    }
   ],
   "source": [
    "# 2.0 Starting the Monty Hall Problem --> getting an input\n",
    "input('How many games to play? ')"
   ]
  },
  {
   "cell_type": "code",
   "execution_count": 7,
   "id": "2937caa2",
   "metadata": {},
   "outputs": [
    {
     "name": "stdout",
     "output_type": "stream",
     "text": [
      "How many games to play? \n"
     ]
    },
    {
     "ename": "ValueError",
     "evalue": "invalid literal for int() with base 10: ''",
     "output_type": "error",
     "traceback": [
      "\u001b[0;31m---------------------------------------------------------------------------\u001b[0m",
      "\u001b[0;31mValueError\u001b[0m                                Traceback (most recent call last)",
      "Cell \u001b[0;32mIn[7], line 2\u001b[0m\n\u001b[1;32m      1\u001b[0m \u001b[38;5;66;03m# 2.1 We need to take this input as an int\u001b[39;00m\n\u001b[0;32m----> 2\u001b[0m a \u001b[38;5;241m=\u001b[39m \u001b[38;5;28;43mint\u001b[39;49m\u001b[43m(\u001b[49m\u001b[38;5;28;43minput\u001b[39;49m\u001b[43m(\u001b[49m\u001b[38;5;124;43m'\u001b[39;49m\u001b[38;5;124;43mHow many games to play? \u001b[39;49m\u001b[38;5;124;43m'\u001b[39;49m\u001b[43m)\u001b[49m\u001b[43m)\u001b[49m\n\u001b[1;32m      3\u001b[0m a\n",
      "\u001b[0;31mValueError\u001b[0m: invalid literal for int() with base 10: ''"
     ]
    }
   ],
   "source": [
    "# 2.1 We need to take this input as an int\n",
    "a = int(input('How many games to play? '))\n",
    "a"
   ]
  },
  {
   "cell_type": "code",
   "execution_count": 8,
   "id": "f5a0d5ba",
   "metadata": {},
   "outputs": [
    {
     "name": "stdout",
     "output_type": "stream",
     "text": [
      "How many games to play? \n",
      "Invalid Input, please try again\n"
     ]
    }
   ],
   "source": [
    "# 3.1 Managing input errors using try/except\n",
    "try: \n",
    "    a = int(input('How many games to play? '))\n",
    "except ValueError:\n",
    "    print('Invalid Input, please try again')"
   ]
  },
  {
   "cell_type": "code",
   "execution_count": 9,
   "id": "fe50bfb8",
   "metadata": {},
   "outputs": [
    {
     "name": "stdout",
     "output_type": "stream",
     "text": [
      "How many games to play? \n",
      "Invalid Input, please try again\n",
      "How many games to play? \n",
      "Invalid Input, please try again\n",
      "How many games to play? \n",
      "Invalid Input, please try again\n",
      "How many games to play? \n",
      "Invalid Input, please try again\n",
      "How many games to play? 2\n"
     ]
    }
   ],
   "source": [
    "# 3.2 Trying to recover by looping the input\n",
    "while True:\n",
    "    try: \n",
    "        a = int(input('How many games to play? '))\n",
    "        if a > 0:\n",
    "            break\n",
    "        else:\n",
    "            raise ValueError\n",
    "    except ValueError:\n",
    "        print('Invalid Input, please try again')"
   ]
  },
  {
   "cell_type": "code",
   "execution_count": 10,
   "id": "6053129e",
   "metadata": {},
   "outputs": [],
   "source": [
    "# 4.0 Prompt if we would like to switch\n",
    "# Y, YES, N, No x2 for lowercase versions"
   ]
  },
  {
   "cell_type": "code",
   "execution_count": 11,
   "id": "ec7efbc0",
   "metadata": {},
   "outputs": [
    {
     "data": {
      "text/plain": [
       "['capitalize',\n",
       " 'casefold',\n",
       " 'center',\n",
       " 'count',\n",
       " 'encode',\n",
       " 'endswith',\n",
       " 'expandtabs',\n",
       " 'find',\n",
       " 'format',\n",
       " 'format_map',\n",
       " 'index',\n",
       " 'isalnum',\n",
       " 'isalpha',\n",
       " 'isascii',\n",
       " 'isdecimal',\n",
       " 'isdigit',\n",
       " 'isidentifier',\n",
       " 'islower',\n",
       " 'isnumeric',\n",
       " 'isprintable',\n",
       " 'isspace',\n",
       " 'istitle',\n",
       " 'isupper',\n",
       " 'join',\n",
       " 'ljust',\n",
       " 'lower',\n",
       " 'lstrip',\n",
       " 'maketrans',\n",
       " 'partition',\n",
       " 'removeprefix',\n",
       " 'removesuffix',\n",
       " 'replace',\n",
       " 'rfind',\n",
       " 'rindex',\n",
       " 'rjust',\n",
       " 'rpartition',\n",
       " 'rsplit',\n",
       " 'rstrip',\n",
       " 'split',\n",
       " 'splitlines',\n",
       " 'startswith',\n",
       " 'strip',\n",
       " 'swapcase',\n",
       " 'title',\n",
       " 'translate',\n",
       " 'upper',\n",
       " 'zfill']"
      ]
     },
     "execution_count": 11,
     "metadata": {},
     "output_type": "execute_result"
    }
   ],
   "source": [
    "# 4.1 Checking dir(str) for functions we can use\n",
    "[e for e in dir(str) if not e.startswith('__')]"
   ]
  },
  {
   "cell_type": "code",
   "execution_count": 12,
   "id": "e28d15e2",
   "metadata": {},
   "outputs": [
    {
     "name": "stdout",
     "output_type": "stream",
     "text": [
      "Help on method_descriptor:\n",
      "\n",
      "istitle(self, /)\n",
      "    Return True if the string is a title-cased string, False otherwise.\n",
      "    \n",
      "    In a title-cased string, upper- and title-case characters may only\n",
      "    follow uncased characters and lowercase characters only cased ones.\n",
      "\n"
     ]
    }
   ],
   "source": [
    "help(str.istitle)"
   ]
  },
  {
   "cell_type": "code",
   "execution_count": 17,
   "id": "6b69c21b",
   "metadata": {},
   "outputs": [
    {
     "name": "stdout",
     "output_type": "stream",
     "text": [
      "Do you want to switch Yes\n"
     ]
    }
   ],
   "source": [
    "switch = input('Do you want to switch ')"
   ]
  },
  {
   "cell_type": "code",
   "execution_count": 30,
   "id": "29c104b4",
   "metadata": {},
   "outputs": [
    {
     "name": "stdout",
     "output_type": "stream",
     "text": [
      "Do you want to switch Yes\n"
     ]
    }
   ],
   "source": [
    "# 5.0 Getting a switc input\n",
    "switch = input('Do you want to switch ')\n",
    "if switch.istitle():\n",
    "    switch = switch.lower()\n",
    "if switch == 'yes' or switch == 'y':\n",
    "    switch = True\n",
    "if switch == 'no' or switch == 'n':\n",
    "    switch = False"
   ]
  },
  {
   "cell_type": "code",
   "execution_count": 44,
   "id": "b941d98b",
   "metadata": {},
   "outputs": [],
   "source": [
    "# 6.0 Combining into a function\n",
    "def get_input_for_simulation():\n",
    "    while True:\n",
    "        try: \n",
    "            nb_of_games = int(input('How many games to play? '))\n",
    "            if nb_of_games > 0:\n",
    "                break\n",
    "            else:\n",
    "                raise ValueError\n",
    "        except ValueError:\n",
    "            print('Invalid Input, please try again')\n",
    "\n",
    "    while True:\n",
    "        switch = input('Do you want to switch ')\n",
    "        if switch.istitle():\n",
    "            switch = switch.lower()\n",
    "        if switch == 'yes' or switch == 'y':\n",
    "            switch = True\n",
    "            break\n",
    "        if switch == 'no' or switch == 'n':\n",
    "            switch = False\n",
    "            break\n",
    "    return (nb_of_games, switch)"
   ]
  },
  {
   "cell_type": "code",
   "execution_count": 48,
   "id": "b1594b51",
   "metadata": {},
   "outputs": [
    {
     "name": "stdout",
     "output_type": "stream",
     "text": [
      "How many games to play? 10\n",
      "Do you want to switch No\n"
     ]
    }
   ],
   "source": [
    "nb_of_games, switch = get_input_for_simulation()"
   ]
  },
  {
   "cell_type": "code",
   "execution_count": 49,
   "id": "765b0c39",
   "metadata": {},
   "outputs": [
    {
     "data": {
      "text/plain": [
       "10"
      ]
     },
     "execution_count": 49,
     "metadata": {},
     "output_type": "execute_result"
    }
   ],
   "source": [
    "nb_of_games"
   ]
  },
  {
   "cell_type": "code",
   "execution_count": 50,
   "id": "2fea53da",
   "metadata": {},
   "outputs": [
    {
     "data": {
      "text/plain": [
       "False"
      ]
     },
     "execution_count": 50,
     "metadata": {},
     "output_type": "execute_result"
    }
   ],
   "source": [
    "switch"
   ]
  },
  {
   "cell_type": "code",
   "execution_count": 58,
   "id": "26aa757f",
   "metadata": {},
   "outputs": [],
   "source": [
    "x = {1, 2}  # Sets are muc more efficient for looping, but we cannot access items in them directly"
   ]
  },
  {
   "cell_type": "code",
   "execution_count": 62,
   "id": "1b07b2bb",
   "metadata": {},
   "outputs": [],
   "source": [
    "# 6.1 Cleaning up our code\n",
    "def get_input_for_simulation():\n",
    "    while True:\n",
    "        try: \n",
    "            nb_of_games = int(input('How many games to play? '))\n",
    "            if nb_of_games > 0:\n",
    "                break\n",
    "            else:\n",
    "                raise ValueError\n",
    "        except ValueError:\n",
    "            print('Invalid Input, please try again')\n",
    "\n",
    "    while True:\n",
    "        switch = input('Do you want to switch ')\n",
    "        if switch.istitle():\n",
    "            switch = switch.lower()\n",
    "        if switch in {'yes', 'y'}:\n",
    "            switch = True\n",
    "            break\n",
    "        if switch in {'no', 'n'}:\n",
    "            switch = False\n",
    "            break\n",
    "    return (nb_of_games, switch)"
   ]
  },
  {
   "cell_type": "code",
   "execution_count": 138,
   "id": "a6982e8c",
   "metadata": {},
   "outputs": [],
   "source": [
    "# 7.0 We define doors as a dictionary \n",
    "doors = ['A', 'B', 'C']"
   ]
  },
  {
   "cell_type": "code",
   "execution_count": 139,
   "id": "80c81496",
   "metadata": {},
   "outputs": [],
   "source": [
    "# 8.0 Select one of the doors randomly\n",
    "import random"
   ]
  },
  {
   "cell_type": "code",
   "execution_count": 140,
   "id": "1c647536",
   "metadata": {},
   "outputs": [
    {
     "name": "stdout",
     "output_type": "stream",
     "text": [
      "Help on method choice in module random:\n",
      "\n",
      "choice(seq) method of random.Random instance\n",
      "    Choose a random element from a non-empty sequence.\n",
      "\n"
     ]
    }
   ],
   "source": [
    "# We will use the random choice\n",
    "help(random.choice)"
   ]
  },
  {
   "cell_type": "code",
   "execution_count": 80,
   "id": "0aaba5f6",
   "metadata": {},
   "outputs": [
    {
     "data": {
      "text/plain": [
       "'B'"
      ]
     },
     "execution_count": 80,
     "metadata": {},
     "output_type": "execute_result"
    }
   ],
   "source": [
    "random.choice(doors)"
   ]
  },
  {
   "cell_type": "code",
   "execution_count": 83,
   "id": "c73d6914",
   "metadata": {},
   "outputs": [],
   "source": [
    "# 8.1 We can also import this directly\n",
    "from random import choice"
   ]
  },
  {
   "cell_type": "code",
   "execution_count": 95,
   "id": "76cd4e15",
   "metadata": {},
   "outputs": [],
   "source": [
    "doors = ['A', 'B', 'C']\n",
    "winning_door = choice(doors)\n",
    "first_choice = choice(doors)\n",
    "doors.remove(first_choice)"
   ]
  },
  {
   "cell_type": "code",
   "execution_count": 157,
   "id": "a6a87359",
   "metadata": {},
   "outputs": [
    {
     "data": {
      "text/plain": [
       "'B'"
      ]
     },
     "execution_count": 157,
     "metadata": {},
     "output_type": "execute_result"
    }
   ],
   "source": [
    "winning_door"
   ]
  },
  {
   "cell_type": "code",
   "execution_count": 158,
   "id": "c45dccd6",
   "metadata": {},
   "outputs": [
    {
     "data": {
      "text/plain": [
       "'A'"
      ]
     },
     "execution_count": 158,
     "metadata": {},
     "output_type": "execute_result"
    }
   ],
   "source": [
    "first_choice"
   ]
  },
  {
   "cell_type": "code",
   "execution_count": 159,
   "id": "dcb2f6a3",
   "metadata": {},
   "outputs": [
    {
     "data": {
      "text/plain": [
       "['B', 'C']"
      ]
     },
     "execution_count": 159,
     "metadata": {},
     "output_type": "execute_result"
    }
   ],
   "source": [
    "doors"
   ]
  },
  {
   "cell_type": "code",
   "execution_count": 99,
   "id": "cd1c823c",
   "metadata": {},
   "outputs": [],
   "source": [
    "# 9.0 Removing an item from a list\n",
    "L = [1, 2, 3, 4, 5, 6, 7]"
   ]
  },
  {
   "cell_type": "code",
   "execution_count": 100,
   "id": "b219da3f",
   "metadata": {},
   "outputs": [
    {
     "data": {
      "text/plain": [
       "7"
      ]
     },
     "execution_count": 100,
     "metadata": {},
     "output_type": "execute_result"
    }
   ],
   "source": [
    "L.pop()"
   ]
  },
  {
   "cell_type": "code",
   "execution_count": 101,
   "id": "5555a312",
   "metadata": {},
   "outputs": [
    {
     "data": {
      "text/plain": [
       "[1, 2, 3, 4, 5, 6]"
      ]
     },
     "execution_count": 101,
     "metadata": {},
     "output_type": "execute_result"
    }
   ],
   "source": [
    "L"
   ]
  },
  {
   "cell_type": "code",
   "execution_count": 102,
   "id": "fd0c3f19",
   "metadata": {},
   "outputs": [
    {
     "data": {
      "text/plain": [
       "5"
      ]
     },
     "execution_count": 102,
     "metadata": {},
     "output_type": "execute_result"
    }
   ],
   "source": [
    "L.pop(4)"
   ]
  },
  {
   "cell_type": "code",
   "execution_count": 103,
   "id": "71ebdae1",
   "metadata": {},
   "outputs": [
    {
     "data": {
      "text/plain": [
       "[1, 2, 3, 4, 6]"
      ]
     },
     "execution_count": 103,
     "metadata": {},
     "output_type": "execute_result"
    }
   ],
   "source": [
    "L"
   ]
  },
  {
   "cell_type": "code",
   "execution_count": 104,
   "id": "23e7e348",
   "metadata": {},
   "outputs": [],
   "source": [
    "# Pop goes directly to that index. Note that choice generates an index"
   ]
  },
  {
   "cell_type": "code",
   "execution_count": 105,
   "id": "3b2da551",
   "metadata": {},
   "outputs": [],
   "source": [
    "from random import randrange"
   ]
  },
  {
   "cell_type": "code",
   "execution_count": 150,
   "id": "d56f292c",
   "metadata": {},
   "outputs": [
    {
     "data": {
      "text/plain": [
       "'C'"
      ]
     },
     "execution_count": 150,
     "metadata": {},
     "output_type": "execute_result"
    }
   ],
   "source": [
    "doors[randrange(3)]"
   ]
  },
  {
   "cell_type": "code",
   "execution_count": 171,
   "id": "224474a6",
   "metadata": {},
   "outputs": [],
   "source": [
    "# 9.1 Simplifying previous approach using pop and randrange\n",
    "doors = ['A', 'B', 'C']\n",
    "first_choice = doors.pop(randrange(3))"
   ]
  },
  {
   "cell_type": "code",
   "execution_count": 172,
   "id": "1c0b5388",
   "metadata": {},
   "outputs": [
    {
     "data": {
      "text/plain": [
       "'B'"
      ]
     },
     "execution_count": 172,
     "metadata": {},
     "output_type": "execute_result"
    }
   ],
   "source": [
    "first_choice"
   ]
  },
  {
   "cell_type": "code",
   "execution_count": 173,
   "id": "8e347238",
   "metadata": {},
   "outputs": [
    {
     "data": {
      "text/plain": [
       "['A', 'C']"
      ]
     },
     "execution_count": 173,
     "metadata": {},
     "output_type": "execute_result"
    }
   ],
   "source": [
    "doors"
   ]
  },
  {
   "cell_type": "code",
   "execution_count": 233,
   "id": "5c8c8265",
   "metadata": {},
   "outputs": [
    {
     "name": "stdout",
     "output_type": "stream",
     "text": [
      "Win!\n"
     ]
    }
   ],
   "source": [
    "# 10.0 Host opens second door\n",
    "doors = ['A', 'B', 'C']\n",
    "winning_door = choice(doors)\n",
    "first_choice = doors.pop(randrange(3))\n",
    "if first_choice == winning_door:\n",
    "    opened_door = doors.pop(randrange(2))\n",
    "    if not switch:\n",
    "        second_choice = first_choice\n",
    "    else: \n",
    "        second_choice = doors[0]\n",
    "else:\n",
    "    doors.remove(winning_door)\n",
    "    opened_door = doors[0]\n",
    "    if not switch:\n",
    "        second_choice = first_choice\n",
    "    else: \n",
    "        second_choice = winning_door\n",
    "first_choice, opened_door, second_choice, winning_door\n",
    "\n",
    "if second_choice == winning_door:\n",
    "    print('Win!')"
   ]
  },
  {
   "cell_type": "code",
   "execution_count": 243,
   "id": "aadf90c2",
   "metadata": {},
   "outputs": [
    {
     "name": "stdout",
     "output_type": "stream",
     "text": [
      "A\n",
      "A B C\n"
     ]
    }
   ],
   "source": [
    "# 11.0 Cleaning Up\n",
    "# 10.0 Host opens second door\n",
    "switch = True\n",
    "\n",
    "doors = ['A', 'B', 'C']\n",
    "winning_door = choice(doors)\n",
    "first_choice = doors.pop(randrange(3))\n",
    "if not switch:\n",
    "        second_choice = first_choice\n",
    "        \n",
    "if first_choice == winning_door:\n",
    "    opened_door = doors.pop(randrange(2))\n",
    "    if switch: \n",
    "        second_choice = doors[0]\n",
    "        \n",
    "else:\n",
    "    doors.remove(winning_door)\n",
    "    opened_door = doors[0]\n",
    "    if switch: \n",
    "        second_choice = winning_door\n",
    "\n",
    "print(winning_door)\n",
    "print(first_choice, opened_door, second_choice)\n"
   ]
  },
  {
   "cell_type": "code",
   "execution_count": 262,
   "id": "03784ab3",
   "metadata": {},
   "outputs": [
    {
     "name": "stdout",
     "output_type": "stream",
     "text": [
      "How many games to play? 1000\n",
      "Do you want to switch no\n",
      "341\n"
     ]
    }
   ],
   "source": [
    "# 12.0 Putting it together\n",
    "def get_input_for_simulation():\n",
    "    while True:\n",
    "        try: \n",
    "            nb_of_games = int(input('How many games to play? '))\n",
    "            if nb_of_games > 0:\n",
    "                break\n",
    "            else:\n",
    "                raise ValueError\n",
    "        except ValueError:\n",
    "            print('Invalid Input, please try again')\n",
    "\n",
    "    while True:\n",
    "        switch = input('Do you want to switch ')\n",
    "        if switch.istitle():\n",
    "            switch = switch.lower()\n",
    "        if switch in {'yes', 'y'}:\n",
    "            switch = True\n",
    "            break\n",
    "        if switch in {'no', 'n'}:\n",
    "            switch = False\n",
    "            break\n",
    "    return (nb_of_games, switch)\n",
    "\n",
    "def run_simulation():\n",
    "    nb_of_games, switch = get_input_for_simulation()\n",
    "    games_won = 0\n",
    "    for _ in range(nb_of_games): # Calls iter(range(nb_of_games))\n",
    "        doors = ['A', 'B', 'C']\n",
    "        winning_door = choice(doors)\n",
    "        first_choice = doors.pop(randrange(3))\n",
    "        if not switch:\n",
    "                second_choice = first_choice\n",
    "\n",
    "        if first_choice == winning_door:\n",
    "            opened_door = doors.pop(randrange(2))\n",
    "            if switch: \n",
    "                second_choice = doors[0]\n",
    "\n",
    "        else:\n",
    "            doors.remove(winning_door)\n",
    "            opened_door = doors[0]\n",
    "            if switch: \n",
    "                second_choice = winning_door\n",
    "\n",
    "#         print(winning_door)\n",
    "#         print(first_choice, opened_door, second_choice)\n",
    "        if second_choice == winning_door:\n",
    "            games_won += 1\n",
    "    print(games_won)\n",
    "\n",
    "run_simulation()"
   ]
  }
 ],
 "metadata": {
  "kernelspec": {
   "display_name": "Python 3 (ipykernel)",
   "language": "python",
   "name": "python3"
  },
  "language_info": {
   "codemirror_mode": {
    "name": "ipython",
    "version": 3
   },
   "file_extension": ".py",
   "mimetype": "text/x-python",
   "name": "python",
   "nbconvert_exporter": "python",
   "pygments_lexer": "ipython3",
   "version": "3.11.0"
  },
  "vscode": {
   "interpreter": {
    "hash": "fb4a468b23ae772b99bd54f465a6eab9630ea5075332d07f1e912da887985c6f"
   }
  }
 },
 "nbformat": 4,
 "nbformat_minor": 5
}
