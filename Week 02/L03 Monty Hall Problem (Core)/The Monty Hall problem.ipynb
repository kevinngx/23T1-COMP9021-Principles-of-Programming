{
    "metadata": {
        "kernelspec": {
            "name": "python3",
            "display_name": "Python 3 (ipykernel)",
            "language": "python"
        }
    },
    "nbformat": 4,
    "nbformat_minor": 4,
    "cells": [
        {
            "attachments": {},
            "cell_type": "markdown",
            "metadata": {},
            "source": [
                "\u003ccenter\u003e\u003cfont size='5'\u003eThe Monty Hall problem\u003c/font\u003e\u003c/center\u003e\n",
                "\u003ccenter\u003e\u003cfont size='3'\u003eEric Martin, CSE, UNSW\u003c/font\u003e\u003c/center\u003e\n",
                "\u003ccenter\u003e\u003cfont size='3'\u003eCOMP9021 Principles of Programming\u003c/font\u003e\u003c/center\u003e"
            ]
        },
        {
            "cell_type": "code",
            "execution_count": 1,
            "metadata": {},
            "outputs": [],
            "source": [
                "# Does not need to be executed if\n",
                "# ~/.ipython/profile_default/ipython_config.py\n",
                "# exists and contains:\n",
                "# c.InteractiveShell.ast_node_interactivity = 'all'\n",
                "\n",
                "from IPython.core.interactiveshell import InteractiveShell\n",
                "InteractiveShell.ast_node_interactivity = 'all'"
            ]
        },
        {
            "cell_type": "code",
            "execution_count": 2,
            "metadata": {},
            "outputs": [],
            "source": [
                "from random import choice\n",
                "from random import randrange"
            ]
        },
        {
            "attachments": {},
            "cell_type": "markdown",
            "metadata": {},
            "source": [
                "A contestant and a host are at a place that gives access to three rooms, whose doors are all closed before the game starts. A car is in one room, a goat in another, while the third room is empty. The host knows what is in each room, while the contestant doesn't. The contestant is asked to chose one of the doors. Following that choice, the host opens another door, which is that of a room that does not contain the car. The contestant is then asked to either stick to his choice or \"switch\", that is, choose the third door (e.g., the door which is neither the one he chose in the first place nor the one that the host opened). The host opens the door as requested by the contestant, who wins what is in the room, if anything. The question is: what is the contestant's best strategy -- to switch or not to switch?\n",
                "\n",
                "The contestant wishes to win the car, not the goat. He has one chance out of three to, in the first place, choose the door of the room that contains the car.\n",
                "\n",
                "* If he does not switch, he then has one chance out of three to win.\n",
                "* If he switches then he loses in case the room he chose\n",
                "in the first place contains the car. But he wins otherwise. Indeed, out\n",
                "of both doors that are still closed, one contains the car, so the host\n",
                "has to open the other one (that is, if the room whose door was chosen in the first place contains nothing, then the host opens the door of the room that contains the goat, and if the room whose door was chosen in the first place contains the goat, then the host opens the door of the room that contains nothing). So in both cases, the second door that the host opens following the decision of the contestant to switch is that of the room that contains the car. Hence by switching, the contestant has two chances out of three to win.\n",
                "\n",
                "Hence it is best to switch.\n",
                "\n",
                "We aim to simulate the playing of this game, with either strategy, switching or not, to check that when it is played with the chosen strategy a large enough number of times, then the experimental results support the conclusions of the previous reasoning. More precisely, the user should be asked and express whether he wants to switch and how many times the game should be played. By default, if the user requests to play at most 6 games, then the details of each game (which door the contestant choses in the first place, which door the host opens first, and which door he opens next that determines the outcome of the game), will be output; if the user requests more games to be played, then the details of the first 6 games only will be output. It should be possible to set the default of 6 to another value. In any case, the percentage of times the contestant won the game should be eventually displayed.\n",
                "\n",
                "The `input()` function takes a string as argument to prompt and get input from the user, say `I agree!`; the function returns that string after Carriage return has been pressed:"
            ]
        },
        {
            "cell_type": "code",
            "execution_count": 2,
            "metadata": {},
            "outputs": [],
            "source": [
                "input('Except in jupyterlab, better end the prompt message with a space: ')"
            ]
        },
        {
            "attachments": {},
            "cell_type": "markdown",
            "metadata": {},
            "source": [
                "If we prompt the user for how many games should be played, `int()` can yield an integer from the string, say `'10'`, returned by `input()`. There is no need to store the string, we can get the integer directly:"
            ]
        },
        {
            "cell_type": "code",
            "execution_count": 3,
            "metadata": {},
            "outputs": [
                {
                    "name": "stdout",
                    "output_type": "stream",
                    "text": "How many games should I simulate? 10\n"
                },
                {
                    "data": {
                        "text/plain": [
                            "10"
                        ]
                    },
                    "execution_count": 3,
                    "metadata": {},
                    "output_type": "execute_result"
                }
            ],
            "source": [
                "int(input('How many games should I simulate? '))"
            ]
        },
        {
            "attachments": {},
            "cell_type": "markdown",
            "metadata": {},
            "source": [
                "In case user input is invalid, say `ten`, then `int()` raises a `ValueError`:"
            ]
        },
        {
            "cell_type": "code",
            "execution_count": 4,
            "metadata": {},
            "outputs": [
                {
                    "name": "stdout",
                    "output_type": "stream",
                    "text": "How many games should I simulate? ten\n"
                },
                {
                    "ename": "ValueError",
                    "evalue": "invalid literal for int() with base 10: 'ten'",
                    "output_type": "error",
                    "traceback": [
                        "\u001b[0;31m---------------------------------------------------------------------------\u001b[0m",
                        "\u001b[0;31mValueError\u001b[0m                                Traceback (most recent call last)",
                        "Cell \u001b[0;32mIn[4], line 1\u001b[0m\n\u001b[0;32m----\u003e 1\u001b[0m \u001b[38;5;28;43mint\u001b[39;49m\u001b[43m(\u001b[49m\u001b[38;5;28;43minput\u001b[39;49m\u001b[43m(\u001b[49m\u001b[38;5;124;43m'\u001b[39;49m\u001b[38;5;124;43mHow many games should I simulate? \u001b[39;49m\u001b[38;5;124;43m'\u001b[39;49m\u001b[43m)\u001b[49m\u001b[43m)\u001b[49m\n",
                        "\u001b[0;31mValueError\u001b[0m: invalid literal for int() with base 10: 'ten'"
                    ]
                }
            ],
            "source": [
                "int(input('How many games should I simulate? '))"
            ]
        },
        {
            "attachments": {},
            "cell_type": "markdown",
            "metadata": {},
            "source": [
                "We should not presume that user input is necessarily valid. Moreover, in case it is not, that should not cause `int()` to bring the program to an end. A call to `int()` to tentatively produce an integer from the string input by the user can be placed within a `try` statement, whose associated `except` statement will be executed if and only if the string makes `int()` raise an exception of the __type__ that the `except` statement is meant to __catch__:"
            ]
        },
        {
            "cell_type": "code",
            "execution_count": 5,
            "metadata": {},
            "outputs": [
                {
                    "data": {
                        "text/plain": [
                            "10"
                        ]
                    },
                    "execution_count": 5,
                    "metadata": {},
                    "output_type": "execute_result"
                },
                {
                    "name": "stdout",
                    "output_type": "stream",
                    "text": "Good input!\n"
                }
            ],
            "source": [
                "try:\n",
                "    int('10')\n",
                "    print('Good input!')\n",
                "except ValueError:\n",
                "    print('Bad input!')"
            ]
        },
        {
            "cell_type": "code",
            "execution_count": 6,
            "metadata": {},
            "outputs": [
                {
                    "name": "stdout",
                    "output_type": "stream",
                    "text": "Bad input!\n"
                }
            ],
            "source": [
                "try:\n",
                "    int('ten')\n",
                "    print('Good input!')\n",
                "except ValueError:\n",
                "    print('Bad input!')"
            ]
        },
        {
            "attachments": {},
            "cell_type": "markdown",
            "metadata": {},
            "source": [
                "If `int()` fails to produce an integer from the string input by the user, then the program should notify him that his input is invalid and prompt him again, and possibly many times again, until the input does not cause `int()` to fail. One way to achieve this is to make use of a `while` statement, here designed to be executed forever because it tests a condition that always evaluates to `True` (it suffices to make `True` itself be the condition), but with a `break` statement in the body to \\textbf{exit} the loop as soon as the user provides valid input. Observe how the code below executes when the user inputs `ten`, then `1o`, then `10.0`, and finally `10`:"
            ]
        },
        {
            "cell_type": "code",
            "execution_count": 7,
            "metadata": {},
            "outputs": [
                {
                    "name": "stdout",
                    "output_type": "stream",
                    "text": "How many games should I simulate? ten\nYour input is incorrect, try again.\nHow many games should I simulate? 1o\nYour input is incorrect, try again.\nHow many games should I simulate? 10.0\nYour input is incorrect, try again.\nHow many games should I simulate? 10\nOk, will do!\n"
                }
            ],
            "source": [
                "while True:\n",
                "    try:\n",
                "        nb_of_games = int(input('How many games should I simulate? '))\n",
                "        print('Ok, will do!')\n",
                "        break\n",
                "    except ValueError:\n",
                "        print('Your input is incorrect, try again.')"
            ]
        },
        {
            "attachments": {},
            "cell_type": "markdown",
            "metadata": {},
            "source": [
                "In case the call to `int()` succeeds, the input provided by the user can still be invalid, because it is 0 or a strictly negative number. To deal with this situation, one can, within the `try` statement, test whether the number returned by `int()` is strictly positive, and in case it is not, use `raise` and explicitly generate a `ValueError` exception, which has the same effect as `int()` implicitly raising a `ValueError` exception: let the execution of the code __jump__ to the associated `except` statement. Observe how the code below executes when the user inputs `ten`, then `-10`, then `0`, and finally `10`:"
            ]
        },
        {
            "cell_type": "code",
            "execution_count": 8,
            "metadata": {},
            "outputs": [
                {
                    "name": "stdout",
                    "output_type": "stream",
                    "text": "How many games should I simulate? ten\nYour input is incorrect, try again.\nHow many games should I simulate? -10\nYour input is incorrect, try again.\nHow many games should I simulate? 0\nYour input is incorrect, try again.\nHow many games should I simulate? 10\nOk, will do!\n"
                }
            ],
            "source": [
                "while True:\n",
                "    try:\n",
                "        nb_of_games = int(input('How many games should I simulate? '))\n",
                "        if nb_of_games \u003c= 0:\n",
                "            raise ValueError\n",
                "        print('Ok, will do!')\n",
                "        break\n",
                "    except ValueError:\n",
                "        print('Your input is incorrect, try again.')"
            ]
        },
        {
            "attachments": {},
            "cell_type": "markdown",
            "metadata": {},
            "source": [
                "After he expressed how many games should be played, the user should then be prompted and answer whether he wants the contestant to switch or not. To be faithful to the game, this question should be asked for every game, right after the host has opened the first door, but since we are interested in statistical results, the question will be asked once and for all before playing the first game, and all games will be played accordingly. We can be more or less flexible in which answers we accept. We could be strict and accept nothing but either `yes` or `no`. We could be more flexible, and accept `y` and `n` as well. And we could be even more flexible and also accept `Yes`, `Y`, `No` and `N`. Let us go for that.\n",
                "\n",
                "The `title()` method of the `str` class allows one to check whether a string is a word that starts with a capital letter. The Python definition of a word is: a sequence of characters that starts either with a letter or an underscore, and that is possibly followed with underscores, letters, and digits. Python __identifiers__ (names of variables, functions...) have to be words in this precise sense."
            ]
        },
        {
            "cell_type": "code",
            "execution_count": 9,
            "metadata": {},
            "outputs": [
                {
                    "data": {
                        "text/plain": [
                            "True"
                        ]
                    },
                    "execution_count": 9,
                    "metadata": {},
                    "output_type": "execute_result"
                },
                {
                    "data": {
                        "text/plain": [
                            "True"
                        ]
                    },
                    "execution_count": 9,
                    "metadata": {},
                    "output_type": "execute_result"
                },
                {
                    "data": {
                        "text/plain": [
                            "True"
                        ]
                    },
                    "execution_count": 9,
                    "metadata": {},
                    "output_type": "execute_result"
                },
                {
                    "data": {
                        "text/plain": [
                            "True"
                        ]
                    },
                    "execution_count": 9,
                    "metadata": {},
                    "output_type": "execute_result"
                },
                {
                    "data": {
                        "text/plain": [
                            "False"
                        ]
                    },
                    "execution_count": 9,
                    "metadata": {},
                    "output_type": "execute_result"
                },
                {
                    "data": {
                        "text/plain": [
                            "False"
                        ]
                    },
                    "execution_count": 9,
                    "metadata": {},
                    "output_type": "execute_result"
                },
                {
                    "data": {
                        "text/plain": [
                            "False"
                        ]
                    },
                    "execution_count": 9,
                    "metadata": {},
                    "output_type": "execute_result"
                }
            ],
            "source": [
                "'Y'.istitle()\n",
                "'Yes'.istitle()\n",
                "'Yes_'.istitle()\n",
                "'Yes_12_'.istitle()\n",
                "'yes'.istitle()\n",
                "'yEs'.istitle()\n",
                "'Yes, by all means, yes!'.istitle()"
            ]
        },
        {
            "attachments": {},
            "cell_type": "markdown",
            "metadata": {},
            "source": [
                "The `lower()` method of the `str` class allows one to get from a string $S$ a string where all uppercase letters in $S$ have been converted to lowercase:"
            ]
        },
        {
            "cell_type": "code",
            "execution_count": 10,
            "metadata": {},
            "outputs": [
                {
                    "data": {
                        "text/plain": [
                            "'y'"
                        ]
                    },
                    "execution_count": 10,
                    "metadata": {},
                    "output_type": "execute_result"
                },
                {
                    "data": {
                        "text/plain": [
                            "'yes'"
                        ]
                    },
                    "execution_count": 10,
                    "metadata": {},
                    "output_type": "execute_result"
                },
                {
                    "data": {
                        "text/plain": [
                            "'yes'"
                        ]
                    },
                    "execution_count": 10,
                    "metadata": {},
                    "output_type": "execute_result"
                },
                {
                    "data": {
                        "text/plain": [
                            "'yes'"
                        ]
                    },
                    "execution_count": 10,
                    "metadata": {},
                    "output_type": "execute_result"
                },
                {
                    "data": {
                        "text/plain": [
                            "'yes, by all means, yes!'"
                        ]
                    },
                    "execution_count": 10,
                    "metadata": {},
                    "output_type": "execute_result"
                }
            ],
            "source": [
                "'Y'.lower()\n",
                "'Yes'.lower()\n",
                "'yes'.lower()\n",
                "'yEs'.lower()\n",
                "'Yes, by all means, yes!'.lower()"
            ]
        },
        {
            "attachments": {},
            "cell_type": "markdown",
            "metadata": {},
            "source": [
                "If we want to accept as input `yes`, `y`, `no` and `n` as well as their capitalised forms, we can:\n",
                "\n",
                "* check with `istitle()` whether the input is a capitalised word and in case it is, use `lower()` to get a lowercase version, a form of data _normalisation_;\n",
                "* check whether the input, or its lowercase version in case it is a capitalised word, is one of `yes`, `y`, `no` and `n`.\n",
                "\n",
                "Rather than making a list out of `yes`, `y`, `no` and `n`, we can instead create a __set__. This is more natural as order does not matter (also, checking whether an object is a member of a set is more efficient than checking whether it is a member of a list). The `in` operator does not only allow one to check for membership of keys in dictionaries; it can be used for other kinds of membership, and with strings, for being a substring:"
            ]
        },
        {
            "cell_type": "code",
            "execution_count": 11,
            "metadata": {},
            "outputs": [
                {
                    "data": {
                        "text/plain": [
                            "True"
                        ]
                    },
                    "execution_count": 11,
                    "metadata": {},
                    "output_type": "execute_result"
                },
                {
                    "data": {
                        "text/plain": [
                            "False"
                        ]
                    },
                    "execution_count": 11,
                    "metadata": {},
                    "output_type": "execute_result"
                },
                {
                    "data": {
                        "text/plain": [
                            "True"
                        ]
                    },
                    "execution_count": 11,
                    "metadata": {},
                    "output_type": "execute_result"
                },
                {
                    "data": {
                        "text/plain": [
                            "False"
                        ]
                    },
                    "execution_count": 11,
                    "metadata": {},
                    "output_type": "execute_result"
                },
                {
                    "data": {
                        "text/plain": [
                            "(True, True, True)"
                        ]
                    },
                    "execution_count": 11,
                    "metadata": {},
                    "output_type": "execute_result"
                },
                {
                    "data": {
                        "text/plain": [
                            "False"
                        ]
                    },
                    "execution_count": 11,
                    "metadata": {},
                    "output_type": "execute_result"
                }
            ],
            "source": [
                "# Checking for membership in a list or a tuple\n",
                "'yes' in ['yes', 'y', 'no', 'n']\n",
                "'ye' in ('yes', 'y', 'no', 'n')\n",
                "# Checking for membership in a set\n",
                "'y' in {'yes', 'y', 'no', 'n'}\n",
                "'Y' in {'yes', 'y', 'no', 'n'}\n",
                "# Checking for being a substring in a string\n",
                "'' in 'maybe', 'y' in 'maybe', 'ayb' in 'maybe'\n",
                "'ab' in 'maybe'"
            ]
        },
        {
            "attachments": {},
            "cell_type": "markdown",
            "metadata": {},
            "source": [
                "Curly braces are used for both literal dictionaries and literal sets. There is no potential conflict, except for empty set versus empty dictionary; `{}` denotes an empty dictionary, not an empty set:"
            ]
        },
        {
            "cell_type": "code",
            "execution_count": 12,
            "metadata": {},
            "outputs": [
                {
                    "data": {
                        "text/plain": [
                            "dict"
                        ]
                    },
                    "execution_count": 12,
                    "metadata": {},
                    "output_type": "execute_result"
                },
                {
                    "data": {
                        "text/plain": [
                            "set"
                        ]
                    },
                    "execution_count": 12,
                    "metadata": {},
                    "output_type": "execute_result"
                },
                {
                    "data": {
                        "text/plain": [
                            "dict"
                        ]
                    },
                    "execution_count": 12,
                    "metadata": {},
                    "output_type": "execute_result"
                },
                {
                    "data": {
                        "text/plain": [
                            "set"
                        ]
                    },
                    "execution_count": 12,
                    "metadata": {},
                    "output_type": "execute_result"
                }
            ],
            "source": [
                "# Singleton dictionary and set, respectively\n",
                "type({'one': 1})\n",
                "type({'one'})\n",
                "# Empty dictionary and set, respectively\n",
                "type({})\n",
                "type(set())"
            ]
        },
        {
            "attachments": {},
            "cell_type": "markdown",
            "metadata": {},
            "source": [
                "Here too, user input could be invalid; again, it is natural to set an infinite loop which code breaks out from as soon as the user provides valid input. Rather than code that does not or does generate an exception, the evaluation of the condition of an `if` statement to `True` or `False` can control whether to exit the loop with a  `break` statement. Observe how the code below executes when the user inputs `NO`, then `noooo`, then `No!`, and finally `No`:"
            ]
        },
        {
            "cell_type": "code",
            "execution_count": 13,
            "metadata": {},
            "outputs": [
                {
                    "name": "stdout",
                    "output_type": "stream",
                    "text": "Should the contestant switch? NO\nYour input is incorrect, try again.\nShould the contestant switch? noooo\nYour input is incorrect, try again.\nShould the contestant switch? No!\nYour input is incorrect, try again.\nShould the contestant switch? No\nI keep in mind you don't want to switch.\n"
                }
            ],
            "source": [
                "while True:\n",
                "    contestant_switches = input('Should the contestant switch? ')\n",
                "    if contestant_switches.istitle():\n",
                "        contestant_switches = contestant_switches.lower()\n",
                "    if contestant_switches in {'yes', 'y'}:\n",
                "        print('I keep in mind you want to switch.')\n",
                "        break\n",
                "    if contestant_switches in {'no', 'n'}:\n",
                "        print(\"I keep in mind you don't want to switch.\")\n",
                "        break\n",
                "    print('Your input is incorrect, try again.')"
            ]
        },
        {
            "attachments": {},
            "cell_type": "markdown",
            "metadata": {},
            "source": [
                "To simulate a game, we need to randomly choose the winning door, namely, the door that opens to the room that contains the car. Using the characters `'A'`, `'B'` and `'C'` as door labels, the problem boils down to randomly choosing one of those strings. We can put them in a list and use the `choice()` function from the `random` __module__, which is possible because we previously __imported__ the former from the latter, to make a random selection following the uniform distribution; behind the scene, `choice()` randomly generates a number between 0 and 2 and returns the member of the list with that index. That is why we make the labels of the doors the members of a list rather than the members of a set: as the members of a set are unordered, they have no associated index, hence `choice()` cannot be applied to a set. Running the following cell randomly produces one of 3 possible outcomes:"
            ]
        },
        {
            "cell_type": "code",
            "execution_count": 14,
            "metadata": {},
            "outputs": [
                {
                    "data": {
                        "text/plain": [
                            "'C'"
                        ]
                    },
                    "execution_count": 14,
                    "metadata": {},
                    "output_type": "execute_result"
                }
            ],
            "source": [
                "doors = ['A', 'B', 'C']\n",
                "# Randomly returns one of 'A', 'B' or 'C'\n",
                "choice(doors)"
            ]
        },
        {
            "attachments": {},
            "cell_type": "markdown",
            "metadata": {},
            "source": [
                "The contestant is asked to choose a door. To make it easier to determine the two doors that the host will then open, it is convenient to remove from `doors` the label of the door first chosen by the contestant; that is something the `remove()` method of the `list` class can do:"
            ]
        },
        {
            "cell_type": "code",
            "execution_count": 15,
            "metadata": {},
            "outputs": [
                {
                    "data": {
                        "text/plain": [
                            "['A', 'C']"
                        ]
                    },
                    "execution_count": 15,
                    "metadata": {},
                    "output_type": "execute_result"
                }
            ],
            "source": [
                "doors = ['A', 'B', 'C']\n",
                "doors.remove('B')\n",
                "doors"
            ]
        },
        {
            "attachments": {},
            "cell_type": "markdown",
            "metadata": {},
            "source": [
                "The door chosen by the contestant should also be chosen randomly. One option is to use both `choice()` and `remove()`. Running the following cell randomly produces one of 3 possible outcomes:"
            ]
        },
        {
            "cell_type": "code",
            "execution_count": 16,
            "metadata": {},
            "outputs": [
                {
                    "data": {
                        "text/plain": [
                            "('B', ['A', 'C'])"
                        ]
                    },
                    "execution_count": 16,
                    "metadata": {},
                    "output_type": "execute_result"
                }
            ],
            "source": [
                "doors = ['A', 'B', 'C']\n",
                "# Randomly assigns one of 'A', 'B' or 'C'\n",
                "first_chosen_door = choice(doors)\n",
                "doors.remove(first_chosen_door)\n",
                "first_chosen_door, doors"
            ]
        },
        {
            "attachments": {},
            "cell_type": "markdown",
            "metadata": {},
            "source": [
                "Given a list $L$ with $n$ distinct elements, it is more effective to, at least when $n$ is large, randomly select a number $i$ between 0 and $n-1$ and return and remove the member of $L$ of index $i$, rather than let `choice()` generate behind the scene such a number $i$, return the member of $L$ with index $i$, and then let `remove()` look for that element, whose location in $L$ has been \"lost\", by scanning $L$ starting from the beginning, element by element, until the element is found and can be removed. The `randrange()` function from the `random` module allows one to randomly generate a number between 0 and the number $n$ provided as argument, with 0 included and $n$ excluded. Running the following cell randomly produces one of 3 possible outcomes:"
            ]
        },
        {
            "cell_type": "code",
            "execution_count": 17,
            "metadata": {},
            "outputs": [
                {
                    "data": {
                        "text/plain": [
                            "1"
                        ]
                    },
                    "execution_count": 17,
                    "metadata": {},
                    "output_type": "execute_result"
                }
            ],
            "source": [
                "# Randomly returns one of 0, 1 or 2\n",
                "randrange(3)"
            ]
        },
        {
            "attachments": {},
            "cell_type": "markdown",
            "metadata": {},
            "source": [
                "The `pop()` method of the `list` class pops out the last element of a list and returns it, unless it is given a valid index as argument, in which case it removes the element with that index from the list and returns it:"
            ]
        },
        {
            "cell_type": "code",
            "execution_count": 18,
            "metadata": {},
            "outputs": [
                {
                    "data": {
                        "text/plain": [
                            "('C', ['A', 'B'])"
                        ]
                    },
                    "execution_count": 18,
                    "metadata": {},
                    "output_type": "execute_result"
                },
                {
                    "data": {
                        "text/plain": [
                            "('B', ['A'])"
                        ]
                    },
                    "execution_count": 18,
                    "metadata": {},
                    "output_type": "execute_result"
                },
                {
                    "data": {
                        "text/plain": [
                            "('A', [])"
                        ]
                    },
                    "execution_count": 18,
                    "metadata": {},
                    "output_type": "execute_result"
                }
            ],
            "source": [
                "doors = ['A', 'B', 'C']\n",
                "# Returns and removes from doors 'C', then 'B', then 'A':\n",
                "doors.pop(), doors\n",
                "doors.pop(), doors\n",
                "doors.pop(), doors"
            ]
        },
        {
            "cell_type": "code",
            "execution_count": 19,
            "metadata": {},
            "outputs": [
                {
                    "data": {
                        "text/plain": [
                            "('B', ['A', 'C'])"
                        ]
                    },
                    "execution_count": 19,
                    "metadata": {},
                    "output_type": "execute_result"
                }
            ],
            "source": [
                "doors = ['A', 'B', 'C']\n",
                "doors.pop(1), doors"
            ]
        },
        {
            "attachments": {},
            "cell_type": "markdown",
            "metadata": {},
            "source": [
                "So `randrange()` and `pop()` offer a good alternative to determine the door chosen by the contestant and remove it from the list of doors. Running the following cell randomly produces one of 3 possible outcomes:"
            ]
        },
        {
            "cell_type": "code",
            "execution_count": 20,
            "metadata": {},
            "outputs": [
                {
                    "data": {
                        "text/plain": [
                            "('A', ['B', 'C'])"
                        ]
                    },
                    "execution_count": 20,
                    "metadata": {},
                    "output_type": "execute_result"
                }
            ],
            "source": [
                "doors = ['A', 'B', 'C']\n",
                "# 3 possible outcomes\n",
                "first_chosen_door = doors.pop(randrange(3))\n",
                "first_chosen_door, doors"
            ]
        },
        {
            "attachments": {},
            "cell_type": "markdown",
            "metadata": {},
            "source": [
                "After the contestant has chosen a door, one can determine which door the host opens for the first time.\n",
                "\n",
                "* Case 1: the contestant did not chose the winning door. Since the label of the room chosen by the contestant was removed from `doors`, `doors` contains the label of the winning door as well as the third label. The host has no choice, he has to open the room with that third label. This is easily achieved by removing the label of the winning door from `doors`, which then becomes a list with a single element, with an index of 0.\n",
                "* Case 2: the contestant chose the winning door. Then `doors` contains the labels of both rooms that do not contain the car. The host can open either, and he does it randomly. We can also remove its label from `doors`.\n",
                "\n",
                "Putting things together, running the following cell randomly produces one of 12 possible outcomes. The code makes use of an `else` statement, to deal with the case where the condition of the associated `if` statement evaluates to `False`:"
            ]
        },
        {
            "cell_type": "code",
            "execution_count": 21,
            "metadata": {},
            "outputs": [
                {
                    "data": {
                        "text/plain": [
                            "'C'"
                        ]
                    },
                    "execution_count": 21,
                    "metadata": {},
                    "output_type": "execute_result"
                },
                {
                    "data": {
                        "text/plain": [
                            "'A'"
                        ]
                    },
                    "execution_count": 21,
                    "metadata": {},
                    "output_type": "execute_result"
                },
                {
                    "data": {
                        "text/plain": [
                            "'B'"
                        ]
                    },
                    "execution_count": 21,
                    "metadata": {},
                    "output_type": "execute_result"
                }
            ],
            "source": [
                "doors = ['A', 'B', 'C']\n",
                "# 3 possible outcomes\n",
                "winning_door = choice(doors)\n",
                "# 3 possible outomes\n",
                "first_chosen_door = doors.pop(randrange(3))\n",
                "\n",
                "if first_chosen_door == winning_door:\n",
                "    # 2 possible outcomes\n",
                "    opened_door = doors.pop(randrange(2))\n",
                "else:\n",
                "    doors.remove(winning_door)\n",
                "    opened_door = doors[0]\n",
                "\n",
                "winning_door\n",
                "# Possibly identical to previous\n",
                "first_chosen_door\n",
                "# Necessarily different to previous two\n",
                "opened_door"
            ]
        },
        {
            "attachments": {},
            "cell_type": "markdown",
            "metadata": {},
            "source": [
                "After the host has opened a door for the first time, knowing whether the contestant switches or not, one can determine which door the latter asks the former to open.\n",
                "\n",
                "* Case 1: the contestant does not switch. Then the answer is immediate, and does not depend on whether or not the winning door was chosen in the first place.\n",
                "* Case 2: the contestant switches.\n",
                "    * Subcase 1: the contestant chose the winning door in the first place. Then, following that choice, the label of the winning door was removed from `doors`, and the label of the door that the host opened was one of the remaining two; that label was then also removed from `doors`, leaving `doors` with a single label, which is that of the door that the contestant now wants to be opened.\n",
                "    * Subcase 2: the contestant did not choose the winning door in the first place. Then we know that the second door that the host will open is the winning door.\n",
                "\n",
                "At this stage, whether the contestant switches or not matters, so we use and adapt the code that lets the user experiment with one or the other strategy. Putting things together, running the following cell randomly produces one of 24 possible outcomes:"
            ]
        },
        {
            "cell_type": "code",
            "execution_count": 22,
            "metadata": {},
            "outputs": [
                {
                    "name": "stdout",
                    "output_type": "stream",
                    "text": "Should the contestant switch? yes\nI keep in mind you want to switch.\n"
                },
                {
                    "data": {
                        "text/plain": [
                            "'B'"
                        ]
                    },
                    "execution_count": 22,
                    "metadata": {},
                    "output_type": "execute_result"
                },
                {
                    "data": {
                        "text/plain": [
                            "'C'"
                        ]
                    },
                    "execution_count": 22,
                    "metadata": {},
                    "output_type": "execute_result"
                },
                {
                    "data": {
                        "text/plain": [
                            "'A'"
                        ]
                    },
                    "execution_count": 22,
                    "metadata": {},
                    "output_type": "execute_result"
                },
                {
                    "data": {
                        "text/plain": [
                            "'B'"
                        ]
                    },
                    "execution_count": 22,
                    "metadata": {},
                    "output_type": "execute_result"
                }
            ],
            "source": [
                "# 2 possible outcomes\n",
                "while True:\n",
                "    contestant_switches = input('Should the contestant switch? ')\n",
                "    if contestant_switches.istitle():\n",
                "        contestant_switches = contestant_switches.lower()\n",
                "    if contestant_switches in {'yes', 'y'}:\n",
                "        contestant_switches = True\n",
                "        print('I keep in mind you want to switch.')\n",
                "        break\n",
                "    if contestant_switches in {'no', 'n'}:\n",
                "        contestant_switches = False\n",
                "        print(\"I keep in mind you don't want to switch.\")\n",
                "        break\n",
                "    print('Your input is incorrect, try again.')\n",
                "\n",
                "doors = ['A', 'B', 'C']\n",
                "# 3 possible outcomes\n",
                "winning_door = choice(doors)\n",
                "# 3 possible outomes\n",
                "first_chosen_door = doors.pop(randrange(3))\n",
                "\n",
                "if not contestant_switches:\n",
                "    second_chosen_door = first_chosen_door\n",
                "if first_chosen_door == winning_door:\n",
                "    # 2 possible outcomes\n",
                "    opened_door = doors.pop(randrange(2))\n",
                "    if contestant_switches:\n",
                "        second_chosen_door = doors[0]\n",
                "else:\n",
                "    doors.remove(winning_door)\n",
                "    opened_door = doors[0]\n",
                "    if contestant_switches:\n",
                "        second_chosen_door = winning_door\n",
                "\n",
                "winning_door\n",
                "# Possibly identical to previous\n",
                "first_chosen_door\n",
                "# Necessarily different to previous two\n",
                "opened_door\n",
                "# Same as first_chosen_door if contestant does not switch\n",
                "# Otherwise, the unique one which is neither\n",
                "# first_chosen_door nor opened_door\n",
                "second_chosen_door"
            ]
        },
        {
            "attachments": {},
            "cell_type": "markdown",
            "metadata": {},
            "source": [
                "To better organise the code, we create two functions: `set_simulation()`, to let the user input how many games should be played and whether he wants the contestant to switch; `simulate()`, to run the simulation. The latter will call the former.\n",
                "\n",
                "A function returns one and only one value, but lists or tuples allow one to package many values into one. The syntax of tuples where parentheses are left implicit is particularly appropriate for the code to look \"as if\" many values were returned, values that can be directly __unpacked__ as the function is called:"
            ]
        },
        {
            "cell_type": "code",
            "execution_count": 23,
            "metadata": {},
            "outputs": [
                {
                    "data": {
                        "text/plain": [
                            "1"
                        ]
                    },
                    "execution_count": 23,
                    "metadata": {},
                    "output_type": "execute_result"
                },
                {
                    "data": {
                        "text/plain": [
                            "(2, 20)"
                        ]
                    },
                    "execution_count": 23,
                    "metadata": {},
                    "output_type": "execute_result"
                },
                {
                    "data": {
                        "text/plain": [
                            "2"
                        ]
                    },
                    "execution_count": 23,
                    "metadata": {},
                    "output_type": "execute_result"
                },
                {
                    "data": {
                        "text/plain": [
                            "20"
                        ]
                    },
                    "execution_count": 23,
                    "metadata": {},
                    "output_type": "execute_result"
                }
            ],
            "source": [
                "def f():\n",
                "    return 1\n",
                "\n",
                "def g():\n",
                "    # Returns one value, a tuple\n",
                "    return 2, 20\n",
                "\n",
                "f()\n",
                "g()\n",
                "u, v = g()\n",
                "u\n",
                "v"
            ]
        },
        {
            "attachments": {},
            "cell_type": "markdown",
            "metadata": {},
            "source": [
                "So `set_simulation()` can return a pair consisting of an integer and a Boolean, determined by user input, to inform us of both how many games should be played and whether the contestant should switch:"
            ]
        },
        {
            "cell_type": "code",
            "execution_count": 24,
            "metadata": {},
            "outputs": [
                {
                    "name": "stdout",
                    "output_type": "stream",
                    "text": "How many games should I simulate? 1000\nShould the contestant switch? no\nI keep in mind you don't want to switch.\n"
                },
                {
                    "data": {
                        "text/plain": [
                            "(1000, False)"
                        ]
                    },
                    "execution_count": 24,
                    "metadata": {},
                    "output_type": "execute_result"
                }
            ],
            "source": [
                "def set_simulation():\n",
                "    while True:\n",
                "        try:\n",
                "            nb_of_games =\\\n",
                "                    int(input('How many games should I simulate? '))\n",
                "            if nb_of_games \u003c= 0:\n",
                "                raise ValueError\n",
                "            break\n",
                "        except ValueError:\n",
                "            print('Your input is incorrect, try again.')\n",
                "    while True:\n",
                "        contestant_switches = input('Should the contestant switch? ')\n",
                "        if contestant_switches.istitle():\n",
                "            contestant_switches = contestant_switches.lower()\n",
                "        if contestant_switches in {'yes', 'y'}:\n",
                "            contestant_switches = True\n",
                "            print('I keep in mind you want to switch.')\n",
                "            break\n",
                "        if contestant_switches in {'no', 'n'}:\n",
                "            contestant_switches = False\n",
                "            print(\"I keep in mind you don't want to switch.\")\n",
                "            break\n",
                "        print('Your input is incorrect, try again.')\n",
                "    return nb_of_games, contestant_switches\n",
                "\n",
                "set_simulation()"
            ]
        },
        {
            "attachments": {},
            "cell_type": "markdown",
            "metadata": {},
            "source": [
                "It remains to implement `simulate()`. By default, we want to display the details of no more than the first 6 games. For that purpose, we can let `simulate()` have a parameter, `nb_of_games_to_display`, that takes 6 as __default value__. The user will be able to request fewer or more games to be displayed by overwriting the default value.\n",
                "\n",
                "More generally, functions can be defined with some or all parameters taking default values, with the condition that all parameters without default values precede all parameters with default values:"
            ]
        },
        {
            "cell_type": "code",
            "execution_count": 25,
            "metadata": {},
            "outputs": [],
            "source": [
                "# x and y are parameters without default values,\n",
                "# u and v are parameters with default values\n",
                "def f(x, y, u=10, v=20):\n",
                "    print(x, y, u, v)"
            ]
        },
        {
            "attachments": {},
            "cell_type": "markdown",
            "metadata": {},
            "source": [
                "When calling the function, all positional arguments should precede all keyword arguments. If there are $k$ more positional arguments than parameters with default values, then the last $k$ positional arguments overwrite the values of the default values of the first $k$ parameters with default values. If there are $k$ less positional arguments than parameters with default values, then $k$ keyword arguments provide values to the last $k$ parameters without default values. The order of the keyword arguments is irrelevant:"
            ]
        },
        {
            "cell_type": "code",
            "execution_count": 26,
            "metadata": {},
            "outputs": [
                {
                    "name": "stdout",
                    "output_type": "stream",
                    "text": "1 2 10 20\n1 2 3 20\n1 2 3 4\n1 2 10 4\n1 2 3 20\n"
                }
            ],
            "source": [
                "# 2 positional arguments\n",
                "f(1, 2)\n",
                "# 3 positional arguments\n",
                "f(1, 2, 3)\n",
                "# 4 positional arguments\n",
                "f(1, 2, 3, 4)\n",
                "# 1 positional argument, 2 keyword arguments\n",
                "f(1, v=4, y=2)\n",
                "# 3 keyword arguments\n",
                "f(u=3, y=2, x=1)"
            ]
        },
        {
            "attachments": {},
            "cell_type": "markdown",
            "metadata": {},
            "source": [
                "`simulate()` has to run the simulation a given number of times. More generally, a `for` statement is a natural choice for executing a piece of code a given number of times, with the help of the `range` class. When it is given a natural number $n$ as argument, `range()` returns an __iterable__, that is, a kind of object to which the `iter()` function can be applied to return an iterator designed to yield all natural numbers between 0 and $n-1$:"
            ]
        },
        {
            "cell_type": "code",
            "execution_count": 27,
            "metadata": {},
            "outputs": [
                {
                    "data": {
                        "text/plain": [
                            "0"
                        ]
                    },
                    "execution_count": 27,
                    "metadata": {},
                    "output_type": "execute_result"
                },
                {
                    "data": {
                        "text/plain": [
                            "1"
                        ]
                    },
                    "execution_count": 27,
                    "metadata": {},
                    "output_type": "execute_result"
                },
                {
                    "data": {
                        "text/plain": [
                            "2"
                        ]
                    },
                    "execution_count": 27,
                    "metadata": {},
                    "output_type": "execute_result"
                },
                {
                    "data": {
                        "text/plain": [
                            "3"
                        ]
                    },
                    "execution_count": 27,
                    "metadata": {},
                    "output_type": "execute_result"
                },
                {
                    "ename": "StopIteration",
                    "evalue": "",
                    "output_type": "error",
                    "traceback": [
                        "\u001b[0;31m---------------------------------------------------------------------------\u001b[0m",
                        "\u001b[0;31mStopIteration\u001b[0m                             Traceback (most recent call last)",
                        "Cell \u001b[0;32mIn[27], line 6\u001b[0m\n\u001b[1;32m      4\u001b[0m \u001b[38;5;28mnext\u001b[39m(x)\n\u001b[1;32m      5\u001b[0m \u001b[38;5;28mnext\u001b[39m(x)\n\u001b[0;32m----\u003e 6\u001b[0m \u001b[38;5;28;43mnext\u001b[39;49m\u001b[43m(\u001b[49m\u001b[43mx\u001b[49m\u001b[43m)\u001b[49m\n",
                        "\u001b[0;31mStopIteration\u001b[0m: "
                    ]
                }
            ],
            "source": [
                "x = iter(range(4))\n",
                "next(x)\n",
                "next(x)\n",
                "next(x)\n",
                "next(x)\n",
                "next(x)"
            ]
        },
        {
            "attachments": {},
            "cell_type": "markdown",
            "metadata": {},
            "source": [
                "The following statement works as follows: behind the scene, an iterator is created from `range(4)`, then  `next()` is called again and again, returning a value that is assigned to the variable `i` and possibly used in the body of the `for` statement, until a `StopIteration` is generated, causing the `for` statement to gracefully stop execution:"
            ]
        },
        {
            "cell_type": "code",
            "execution_count": 28,
            "metadata": {},
            "outputs": [
                {
                    "name": "stdout",
                    "output_type": "stream",
                    "text": "i is equal to 0\ni is equal to 1\ni is equal to 2\ni is equal to 3\n"
                }
            ],
            "source": [
                "for i in range(4):\n",
                "    print('i is equal to', i)"
            ]
        },
        {
            "attachments": {},
            "cell_type": "markdown",
            "metadata": {},
            "source": [
                "In case more games are played than displayed, a good design for `simulate()` is to let it print out a line with three dots to indicate that the output is only partial. We make use of an `elif` statement for that purpose (in the final implementation of `simulate()`, `nb_of_games_to_display` will be set to 6):"
            ]
        },
        {
            "cell_type": "code",
            "execution_count": 29,
            "metadata": {},
            "outputs": [
                {
                    "name": "stdout",
                    "output_type": "stream",
                    "text": "Display all details of game number 0\nDisplay all details of game number 1\n\nDisplay all details of game number 0\nDisplay all details of game number 1\nDisplay all details of game number 2\n\nDisplay all details of game number 0\nDisplay all details of game number 1\nDisplay all details of game number 2\n...\n"
                }
            ],
            "source": [
                "def simulate(nb_of_games_to_display=3):\n",
                "    for i in range(nb_of_games):\n",
                "        if i \u003c nb_of_games_to_display:\n",
                "            print('Display all details of game number', i)\n",
                "        elif i == nb_of_games_to_display:\n",
                "            print('...')\n",
                "            \n",
                "nb_of_games = 2\n",
                "simulate()\n",
                "print()\n",
                "\n",
                "nb_of_games = 3\n",
                "simulate()\n",
                "print()\n",
                "\n",
                "nb_of_games = 4\n",
                "simulate()"
            ]
        },
        {
            "attachments": {},
            "cell_type": "markdown",
            "metadata": {},
            "source": [
                "To output information about the game as it is being played, it is convenient to use __formatted__ strings; they are preceded with `f` and can contain pairs of curly braces that surround expressions meant to be replaced with their values. Also, though strings can be explicitly concatenated with the `+` operator, they can also be implicitly concatenated when they are separated with nothing but space characters, including possibly new lines:"
            ]
        },
        {
            "cell_type": "code",
            "execution_count": 30,
            "metadata": {},
            "outputs": [
                {
                    "name": "stdout",
                    "output_type": "stream",
                    "text": "x is equal to 10. That is not all: 4.5 divided by 10 equals 0.45.\n"
                }
            ],
            "source": [
                "x = 10\n",
                "u = 4.5\n",
                "v = 10\n",
                "print(f'x is equal to {x}.'\n",
                "      ' That is not all: '\n",
                "      f'{u} divided by {v} equals {u / v}.'\n",
                "     )"
            ]
        },
        {
            "attachments": {},
            "cell_type": "markdown",
            "metadata": {},
            "source": [
                "By following the expression within the curly braces of a formatted string with a colon, one can use special syntax to control how the value of the expression should be displayed. In particular, if the expression evaluates to a __floating point__ value, then the number of digits to be displayed after the decimal point can be set by following the colon with a dot, then the desired number of digits, then `f`:  "
            ]
        },
        {
            "cell_type": "code",
            "execution_count": 31,
            "metadata": {},
            "outputs": [
                {
                    "data": {
                        "text/plain": [
                            "'0.38317757009345793'"
                        ]
                    },
                    "execution_count": 31,
                    "metadata": {},
                    "output_type": "execute_result"
                },
                {
                    "data": {
                        "text/plain": [
                            "'0'"
                        ]
                    },
                    "execution_count": 31,
                    "metadata": {},
                    "output_type": "execute_result"
                },
                {
                    "data": {
                        "text/plain": [
                            "'0.4'"
                        ]
                    },
                    "execution_count": 31,
                    "metadata": {},
                    "output_type": "execute_result"
                },
                {
                    "data": {
                        "text/plain": [
                            "'0.38'"
                        ]
                    },
                    "execution_count": 31,
                    "metadata": {},
                    "output_type": "execute_result"
                },
                {
                    "data": {
                        "text/plain": [
                            "'0.383'"
                        ]
                    },
                    "execution_count": 31,
                    "metadata": {},
                    "output_type": "execute_result"
                },
                {
                    "data": {
                        "text/plain": [
                            "'0.3832'"
                        ]
                    },
                    "execution_count": 31,
                    "metadata": {},
                    "output_type": "execute_result"
                },
                {
                    "data": {
                        "text/plain": [
                            "'0.383177570093457930955338497370'"
                        ]
                    },
                    "execution_count": 31,
                    "metadata": {},
                    "output_type": "execute_result"
                }
            ],
            "source": [
                "x = 123 / 321 \n",
                "f'{x}'\n",
                "f'{x:.0f}'\n",
                "f'{x:.1f}'\n",
                "f'{x:.2f}'\n",
                "f'{x:.3f}'\n",
                "f'{x:.4f}'\n",
                "f'{x:.30f}'"
            ]
        },
        {
            "attachments": {},
            "cell_type": "markdown",
            "metadata": {},
            "source": [
                "We essentially have all the code for `simulate()`. We need to keep track of how many games the contestant wins. For this purpose, a variable `nb_of_wins` can be defined to play the role of a counter. Initialised to `0`, it should be incremented if:\n",
                "\n",
                "* the door that the contestant chooses in the first place is the winning door and the contestant does not switch, or\n",
                "* the door that the contestant chooses in the first place is not the winning door and the contestant switches.\n",
                "\n",
                "Putting everything together complemented with `print()` statements:"
            ]
        },
        {
            "cell_type": "code",
            "execution_count": 32,
            "metadata": {},
            "outputs": [],
            "source": [
                "def simulate(nb_of_games_to_display=6):\n",
                "    nb_of_games, contestant_switches = set_simulation()\n",
                "    print('Starting the simulation with the contestant', end=' ')\n",
                "    if not contestant_switches:\n",
                "        print('not ', end='')\n",
                "    print('switching doors.\\n')\n",
                "    nb_of_wins = 0\n",
                "    for i in range(nb_of_games):\n",
                "        doors = ['A', 'B', 'C']\n",
                "        winning_door = choice(doors)\n",
                "        if i \u003c nb_of_games_to_display:\n",
                "            print('\\tContestant does not know it, but car '\n",
                "                  f'happens to be behind door {winning_door}.'\n",
                "                 )\n",
                "        first_chosen_door = doors.pop(randrange(3))\n",
                "        if i \u003c nb_of_games_to_display:\n",
                "            print(f'\\tContestant chooses door {first_chosen_door}.')\n",
                "        if not contestant_switches:\n",
                "            second_chosen_door = first_chosen_door\n",
                "        if first_chosen_door == winning_door:\n",
                "            opened_door = doors.pop(randrange(2))\n",
                "            if contestant_switches:\n",
                "                second_chosen_door = doors[0]\n",
                "            else:\n",
                "                nb_of_wins += 1\n",
                "        else:\n",
                "            doors.remove(winning_door)\n",
                "            opened_door = doors[0]\n",
                "            if contestant_switches:\n",
                "                second_chosen_door = winning_door\n",
                "                nb_of_wins += 1\n",
                "        if i \u003c nb_of_games_to_display:\n",
                "            print(f'\\tGame host opens door {opened_door}.')\n",
                "            print(f'\\tContestant chooses door {second_chosen_door}', end=' ')\n",
                "            print('and wins.\\n') if second_chosen_door == winning_door\\\n",
                "                                 else print('and looses.\\n')\n",
                "        elif i == nb_of_games_to_display:\n",
                "            print('...\\n')\n",
                "    print(f'Contestant won {nb_of_wins / nb_of_games * 100:.2f}% of games.')"
            ]
        },
        {
            "attachments": {},
            "cell_type": "markdown",
            "metadata": {},
            "source": [
                "We can experiment with the default number of games to display:"
            ]
        },
        {
            "cell_type": "code",
            "execution_count": 33,
            "metadata": {},
            "outputs": [
                {
                    "name": "stdout",
                    "output_type": "stream",
                    "text": "How many games should I simulate? 1000\nShould the contestant switch? yes\nI keep in mind you want to switch.\nStarting the simulation with the contestant switching doors.\n\n\tContestant does not know it, but car happens to be behind door A.\n\tContestant chooses door C.\n\tGame host opens door B.\n\tContestant chooses door A and wins.\n\n\tContestant does not know it, but car happens to be behind door B.\n\tContestant chooses door C.\n\tGame host opens door A.\n\tContestant chooses door B and wins.\n\n\tContestant does not know it, but car happens to be behind door A.\n\tContestant chooses door B.\n\tGame host opens door C.\n\tContestant chooses door A and wins.\n\n\tContestant does not know it, but car happens to be behind door B.\n\tContestant chooses door A.\n\tGame host opens door C.\n\tContestant chooses door B and wins.\n\n\tContestant does not know it, but car happens to be behind door B.\n\tContestant chooses door B.\n\tGame host opens door A.\n\tContestant chooses door C and looses.\n\n\tContestant does not know it, but car happens to be behind door C.\n\tContestant chooses door C.\n\tGame host opens door B.\n\tContestant chooses door A and looses.\n\n...\n\nContestant won 69.90% of games.\n"
                }
            ],
            "source": [
                "simulate()"
            ]
        },
        {
            "attachments": {},
            "cell_type": "markdown",
            "metadata": {},
            "source": [
                "We can experiment changing the default number of games to display:"
            ]
        },
        {
            "cell_type": "code",
            "execution_count": 34,
            "metadata": {},
            "outputs": [
                {
                    "name": "stdout",
                    "output_type": "stream",
                    "text": "How many games should I simulate? 1000\nShould the contestant switch? no\nI keep in mind you don't want to switch.\nStarting the simulation with the contestant not switching doors.\n\n\tContestant does not know it, but car happens to be behind door C.\n\tContestant chooses door C.\n\tGame host opens door A.\n\tContestant chooses door C and wins.\n\n\tContestant does not know it, but car happens to be behind door B.\n\tContestant chooses door A.\n\tGame host opens door C.\n\tContestant chooses door A and looses.\n\n\tContestant does not know it, but car happens to be behind door B.\n\tContestant chooses door C.\n\tGame host opens door A.\n\tContestant chooses door C and looses.\n\n...\n\nContestant won 30.60% of games.\n"
                }
            ],
            "source": [
                "simulate(3)"
            ]
        }
    ]
}
