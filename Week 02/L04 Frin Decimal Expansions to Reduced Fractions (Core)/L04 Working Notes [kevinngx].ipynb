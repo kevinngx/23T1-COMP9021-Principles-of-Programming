{
 "cells": [
  {
   "cell_type": "code",
   "execution_count": 1,
   "id": "7fb1b19c",
   "metadata": {},
   "outputs": [],
   "source": [
    "from IPython.core.interactiveshell import InteractiveShell\n",
    "InteractiveShell.ast_node_interactivity = 'all'"
   ]
  },
  {
   "cell_type": "code",
   "execution_count": 5,
   "id": "02034ea1",
   "metadata": {},
   "outputs": [
    {
     "data": {
      "text/plain": [
       "0.02541436464088398"
      ]
     },
     "execution_count": 5,
     "metadata": {},
     "output_type": "execute_result"
    }
   ],
   "source": [
    "23/905"
   ]
  },
  {
   "cell_type": "code",
   "execution_count": 7,
   "id": "1e83ee4f",
   "metadata": {},
   "outputs": [
    {
     "data": {
      "text/plain": [
       "0.23905905905905905"
      ]
     },
     "execution_count": 7,
     "metadata": {},
     "output_type": "execute_result"
    }
   ],
   "source": [
    "11941/49950"
   ]
  },
  {
   "cell_type": "code",
   "execution_count": 8,
   "id": "fb12cc59",
   "metadata": {},
   "outputs": [
    {
     "data": {
      "text/plain": [
       "3"
      ]
     },
     "execution_count": 8,
     "metadata": {},
     "output_type": "execute_result"
    }
   ],
   "source": [
    "len('714')"
   ]
  },
  {
   "cell_type": "code",
   "execution_count": 9,
   "id": "cc17863d",
   "metadata": {},
   "outputs": [
    {
     "data": {
      "text/plain": [
       "3"
      ]
     },
     "execution_count": 9,
     "metadata": {},
     "output_type": "execute_result"
    }
   ],
   "source": [
    "len(str(714))"
   ]
  },
  {
   "cell_type": "code",
   "execution_count": 10,
   "id": "4d46b8d8",
   "metadata": {},
   "outputs": [],
   "source": [
    "# Defining\n",
    "def compute_fraction(sigma, tau):\n",
    "    numerator = int(sigma) * (10 ** len(tau) - 1) + int(tau)\n",
    "    denominator = (10 ** len(tau) - 1) * 10 ** len(sigma)\n",
    "    return numerator, denominator"
   ]
  },
  {
   "cell_type": "code",
   "execution_count": 11,
   "id": "dd9ae161",
   "metadata": {},
   "outputs": [
    {
     "data": {
      "text/plain": [
       "(23882, 99900)"
      ]
     },
     "execution_count": 11,
     "metadata": {},
     "output_type": "execute_result"
    }
   ],
   "source": [
    "compute_fraction('23', '905')"
   ]
  },
  {
   "cell_type": "code",
   "execution_count": 12,
   "id": "9a4c020f",
   "metadata": {},
   "outputs": [
    {
     "data": {
      "text/plain": [
       "0.23905905905905905"
      ]
     },
     "execution_count": 12,
     "metadata": {},
     "output_type": "execute_result"
    }
   ],
   "source": [
    "23882/99900"
   ]
  },
  {
   "cell_type": "code",
   "execution_count": 13,
   "id": "27f5c0f8",
   "metadata": {},
   "outputs": [],
   "source": [
    "from math import gcd"
   ]
  },
  {
   "cell_type": "code",
   "execution_count": 14,
   "id": "af35fdc6",
   "metadata": {},
   "outputs": [
    {
     "data": {
      "text/plain": [
       "2"
      ]
     },
     "execution_count": 14,
     "metadata": {},
     "output_type": "execute_result"
    }
   ],
   "source": [
    "gcd(23882, 99900)"
   ]
  },
  {
   "cell_type": "code",
   "execution_count": 28,
   "id": "42847e63",
   "metadata": {},
   "outputs": [],
   "source": [
    "def simplify_fraction(p, q):\n",
    "    the_gcd = gcd(p, q)\n",
    "    return p // the_gcd, q // the_gcd"
   ]
  },
  {
   "cell_type": "code",
   "execution_count": 29,
   "id": "4449b45a",
   "metadata": {},
   "outputs": [
    {
     "data": {
      "text/plain": [
       "(11941, 49950)"
      ]
     },
     "execution_count": 29,
     "metadata": {},
     "output_type": "execute_result"
    }
   ],
   "source": [
    "simplify_fraction(23882, 99900)"
   ]
  },
  {
   "cell_type": "code",
   "execution_count": 40,
   "id": "acdc34cc",
   "metadata": {},
   "outputs": [],
   "source": [
    "# 2.0 Defining our own GCD function\n",
    "def our_gcd(a, b):\n",
    "    while b!= 0:\n",
    "        a, b = b, a % b\n",
    "    return a"
   ]
  },
  {
   "cell_type": "code",
   "execution_count": 41,
   "id": "2e25c6e2",
   "metadata": {},
   "outputs": [
    {
     "data": {
      "text/plain": [
       "(12, 9)"
      ]
     },
     "execution_count": 41,
     "metadata": {},
     "output_type": "execute_result"
    }
   ],
   "source": [
    "a = 45\n",
    "b = 12\n",
    "\n",
    "a, b = b, a % b # We can use this syntax instead of swapping with a third variable\n",
    "a, b"
   ]
  },
  {
   "cell_type": "code",
   "execution_count": 43,
   "id": "207491a0",
   "metadata": {},
   "outputs": [
    {
     "data": {
      "text/plain": [
       "3"
      ]
     },
     "execution_count": 43,
     "metadata": {},
     "output_type": "execute_result"
    }
   ],
   "source": [
    "our_gcd(45, 12)\n",
    "\n",
    "# a  ,  b\n",
    "# 45 ,  12\n",
    "# 12 ,  9\n",
    "# 9  ,  3\n",
    "# 3  ,  0"
   ]
  },
  {
   "cell_type": "code",
   "execution_count": 45,
   "id": "9a785258",
   "metadata": {},
   "outputs": [
    {
     "data": {
      "text/plain": [
       "(11941, 49950)"
      ]
     },
     "execution_count": 45,
     "metadata": {},
     "output_type": "execute_result"
    }
   ],
   "source": [
    "# compute_fraction returns a tuple, but we need to split this into two\n",
    "simplify_fraction(*compute_fraction('23', '905'))"
   ]
  },
  {
   "cell_type": "code",
   "execution_count": 48,
   "id": "5821a4f2",
   "metadata": {},
   "outputs": [
    {
     "name": "stdout",
     "output_type": "stream",
     "text": [
      "23882 99900\n",
      "(23882, 99900)\n"
     ]
    }
   ],
   "source": [
    "print(*compute_fraction('23', '905'))\n",
    "print(compute_fraction('23', '905'))"
   ]
  },
  {
   "cell_type": "code",
   "execution_count": 49,
   "id": "ee25daf6",
   "metadata": {},
   "outputs": [],
   "source": [
    "def output_fraction(p, q):\n",
    "    return f'{p}/{q}'"
   ]
  },
  {
   "cell_type": "code",
   "execution_count": 51,
   "id": "90609e3b",
   "metadata": {},
   "outputs": [
    {
     "data": {
      "text/plain": [
       "'11941/49950'"
      ]
     },
     "execution_count": 51,
     "metadata": {},
     "output_type": "execute_result"
    }
   ],
   "source": [
    "output_fraction(*simplify_fraction(*compute_fraction('23', '905')))"
   ]
  },
  {
   "cell_type": "code",
   "execution_count": 64,
   "id": "809d93e1",
   "metadata": {},
   "outputs": [],
   "source": [
    "def f(*x):\n",
    "    return x * 2"
   ]
  },
  {
   "cell_type": "code",
   "execution_count": 65,
   "id": "da04e664",
   "metadata": {},
   "outputs": [
    {
     "data": {
      "text/plain": [
       "(10, 2, 10, 2)"
      ]
     },
     "execution_count": 65,
     "metadata": {},
     "output_type": "execute_result"
    }
   ],
   "source": [
    "f(10, 2)"
   ]
  },
  {
   "cell_type": "code",
   "execution_count": 68,
   "id": "2298d014",
   "metadata": {},
   "outputs": [
    {
     "data": {
      "text/plain": [
       "((1, 2, 3, 4, 1, 2, 3, 4), (1, 2, 3, 4, 1, 2, 3, 4))"
      ]
     },
     "execution_count": 68,
     "metadata": {},
     "output_type": "execute_result"
    }
   ],
   "source": [
    "f(f(1, 2, 3, 4))"
   ]
  },
  {
   "cell_type": "code",
   "execution_count": 76,
   "id": "34833c2d",
   "metadata": {},
   "outputs": [
    {
     "data": {
      "text/plain": [
       "3"
      ]
     },
     "execution_count": 76,
     "metadata": {},
     "output_type": "execute_result"
    }
   ],
   "source": [
    "gcd(45, 12)"
   ]
  },
  {
   "cell_type": "code",
   "execution_count": 77,
   "id": "5de1af27",
   "metadata": {},
   "outputs": [],
   "source": [
    "# 3.0 Rewriting\n",
    "def our_gcd(a, b):\n",
    "    while b: # as b == 0 == False\n",
    "        a, b = b, a % b\n",
    "    return a"
   ]
  },
  {
   "cell_type": "code",
   "execution_count": 86,
   "id": "9fc51676",
   "metadata": {},
   "outputs": [
    {
     "data": {
      "text/plain": [
       "3"
      ]
     },
     "execution_count": 86,
     "metadata": {},
     "output_type": "execute_result"
    }
   ],
   "source": [
    "our_gcd(45, 12)"
   ]
  },
  {
   "cell_type": "code",
   "execution_count": 87,
   "id": "11ccacac",
   "metadata": {},
   "outputs": [
    {
     "name": "stdout",
     "output_type": "stream",
     "text": [
      "Help on built-in function divmod in module builtins:\n",
      "\n",
      "divmod(x, y, /)\n",
      "    Return the tuple (x//y, x%y).  Invariant: div*y + mod == x.\n",
      "\n"
     ]
    }
   ],
   "source": [
    "help(divmod)"
   ]
  },
  {
   "cell_type": "code",
   "execution_count": 101,
   "id": "fbdeae92",
   "metadata": {},
   "outputs": [],
   "source": [
    "L = [2, 5, 8]"
   ]
  },
  {
   "cell_type": "code",
   "execution_count": 98,
   "id": "aa4dee04",
   "metadata": {},
   "outputs": [],
   "source": [
    "L1 = list(L)"
   ]
  },
  {
   "cell_type": "code",
   "execution_count": 99,
   "id": "d98a416d",
   "metadata": {},
   "outputs": [
    {
     "data": {
      "text/plain": [
       "[8, 5, 2]"
      ]
     },
     "execution_count": 99,
     "metadata": {},
     "output_type": "execute_result"
    }
   ],
   "source": [
    "L1"
   ]
  },
  {
   "cell_type": "code",
   "execution_count": 103,
   "id": "072f7ac6",
   "metadata": {},
   "outputs": [
    {
     "data": {
      "text/plain": [
       "2"
      ]
     },
     "execution_count": 103,
     "metadata": {},
     "output_type": "execute_result"
    }
   ],
   "source": [
    "L1.pop()"
   ]
  },
  {
   "cell_type": "code",
   "execution_count": 104,
   "id": "065850bd",
   "metadata": {},
   "outputs": [
    {
     "data": {
      "text/plain": [
       "[2, 5, 8]"
      ]
     },
     "execution_count": 104,
     "metadata": {},
     "output_type": "execute_result"
    }
   ],
   "source": [
    "L"
   ]
  },
  {
   "cell_type": "code",
   "execution_count": 105,
   "id": "5a3e4b00",
   "metadata": {},
   "outputs": [
    {
     "data": {
      "text/plain": [
       "[8, 5]"
      ]
     },
     "execution_count": 105,
     "metadata": {},
     "output_type": "execute_result"
    }
   ],
   "source": [
    "L1"
   ]
  },
  {
   "cell_type": "code",
   "execution_count": null,
   "id": "fde3f335",
   "metadata": {},
   "outputs": [],
   "source": []
  }
 ],
 "metadata": {
  "kernelspec": {
   "display_name": "Python 3 (ipykernel)",
   "language": "python",
   "name": "python3"
  },
  "language_info": {
   "codemirror_mode": {
    "name": "ipython",
    "version": 3
   },
   "file_extension": ".py",
   "mimetype": "text/x-python",
   "name": "python",
   "nbconvert_exporter": "python",
   "pygments_lexer": "ipython3",
   "version": "3.11.0"
  },
  "vscode": {
   "interpreter": {
    "hash": "fb4a468b23ae772b99bd54f465a6eab9630ea5075332d07f1e912da887985c6f"
   }
  }
 },
 "nbformat": 4,
 "nbformat_minor": 5
}
