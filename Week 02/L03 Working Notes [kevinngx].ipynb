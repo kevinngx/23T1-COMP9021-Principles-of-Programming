{
 "cells": [
  {
   "cell_type": "code",
   "execution_count": 8,
   "id": "32cbf804",
   "metadata": {},
   "outputs": [
    {
     "name": "stdout",
     "output_type": "stream",
     "text": [
      "good morning\n"
     ]
    }
   ],
   "source": [
    "# 1.0: If and Else 'Statements'\n",
    "morning = True\n",
    "if morning:\n",
    "    print('good morning')\n",
    "else:\n",
    "    print('good afternoon')"
   ]
  },
  {
   "cell_type": "code",
   "execution_count": 9,
   "id": "963c016a",
   "metadata": {},
   "outputs": [
    {
     "name": "stdout",
     "output_type": "stream",
     "text": [
      "good morning\n"
     ]
    }
   ],
   "source": [
    "print('good morning') if morning else print('good afternoon')"
   ]
  },
  {
   "cell_type": "code",
   "execution_count": 13,
   "id": "f7087fb5",
   "metadata": {},
   "outputs": [
    {
     "name": "stdout",
     "output_type": "stream",
     "text": [
      "good morning\n"
     ]
    }
   ],
   "source": [
    "# 1.1 If and Else 'Expressions'\n",
    "a = print('good morning') if morning else print('good afternoon')"
   ]
  },
  {
   "cell_type": "code",
   "execution_count": 14,
   "id": "0f53e6e9",
   "metadata": {},
   "outputs": [],
   "source": [
    "a"
   ]
  },
  {
   "cell_type": "code",
   "execution_count": 12,
   "id": "5b52818b",
   "metadata": {},
   "outputs": [
    {
     "name": "stdout",
     "output_type": "stream",
     "text": [
      "None\n"
     ]
    }
   ],
   "source": [
    "# a is the return value of print('good morning') which is None\n",
    "print(a)"
   ]
  },
  {
   "cell_type": "code",
   "execution_count": 16,
   "id": "30d72dec",
   "metadata": {},
   "outputs": [
    {
     "name": "stdout",
     "output_type": "stream",
     "text": [
      "How many games to play? 10\n"
     ]
    },
    {
     "data": {
      "text/plain": [
       "'10'"
      ]
     },
     "execution_count": 16,
     "metadata": {},
     "output_type": "execute_result"
    }
   ],
   "source": [
    "# 2.0 Starting the Monty Hall Problem --> getting an input\n",
    "input('How many games to play? ')"
   ]
  },
  {
   "cell_type": "code",
   "execution_count": 20,
   "id": "2937caa2",
   "metadata": {},
   "outputs": [
    {
     "name": "stdout",
     "output_type": "stream",
     "text": [
      "How many games to play? jie\n"
     ]
    },
    {
     "ename": "ValueError",
     "evalue": "invalid literal for int() with base 10: 'jie'",
     "output_type": "error",
     "traceback": [
      "\u001b[0;31m---------------------------------------------------------------------------\u001b[0m",
      "\u001b[0;31mValueError\u001b[0m                                Traceback (most recent call last)",
      "Cell \u001b[0;32mIn[20], line 2\u001b[0m\n\u001b[1;32m      1\u001b[0m \u001b[38;5;66;03m# 2.1 We need to take this input as an int\u001b[39;00m\n\u001b[0;32m----> 2\u001b[0m a \u001b[38;5;241m=\u001b[39m \u001b[38;5;28;43mint\u001b[39;49m\u001b[43m(\u001b[49m\u001b[38;5;28;43minput\u001b[39;49m\u001b[43m(\u001b[49m\u001b[38;5;124;43m'\u001b[39;49m\u001b[38;5;124;43mHow many games to play? \u001b[39;49m\u001b[38;5;124;43m'\u001b[39;49m\u001b[43m)\u001b[49m\u001b[43m)\u001b[49m\n\u001b[1;32m      3\u001b[0m a\n",
      "\u001b[0;31mValueError\u001b[0m: invalid literal for int() with base 10: 'jie'"
     ]
    }
   ],
   "source": [
    "# 2.1 We need to take this input as an int\n",
    "a = int(input('How many games to play? '))\n",
    "a"
   ]
  },
  {
   "cell_type": "code",
   "execution_count": 23,
   "id": "f5a0d5ba",
   "metadata": {},
   "outputs": [
    {
     "name": "stdout",
     "output_type": "stream",
     "text": [
      "How many games to play? dijw\n",
      "Invalid Input, please try again\n"
     ]
    }
   ],
   "source": [
    "# 3.1 Managing input errors using try/except\n",
    "try: \n",
    "    a = int(input('How many games to play? '))\n",
    "except ValueError:\n",
    "    print('Invalid Input, please try again')"
   ]
  },
  {
   "cell_type": "code",
   "execution_count": 25,
   "id": "fe50bfb8",
   "metadata": {},
   "outputs": [
    {
     "name": "stdout",
     "output_type": "stream",
     "text": [
      "How many games to play? 0\n",
      "Invalid Input, please try again\n",
      "How many games to play? 0\n",
      "Invalid Input, please try again\n",
      "How many games to play? 10\n"
     ]
    }
   ],
   "source": [
    "# 3.2 Trying to recover by looping the input\n",
    "while True:\n",
    "    try: \n",
    "        a = int(input('How many games to play? '))\n",
    "        if a > 0:\n",
    "            break\n",
    "        else:\n",
    "            raise ValueError\n",
    "    except ValueError:\n",
    "        print('Invalid Input, please try again')"
   ]
  },
  {
   "cell_type": "code",
   "execution_count": 26,
   "id": "6053129e",
   "metadata": {},
   "outputs": [],
   "source": [
    "# 4.0 Prompt if we would like to switch\n",
    "# Y, YES, N, No x2 for lowercase versions"
   ]
  },
  {
   "cell_type": "code",
   "execution_count": 29,
   "id": "ec7efbc0",
   "metadata": {},
   "outputs": [
    {
     "data": {
      "text/plain": [
       "['capitalize',\n",
       " 'casefold',\n",
       " 'center',\n",
       " 'count',\n",
       " 'encode',\n",
       " 'endswith',\n",
       " 'expandtabs',\n",
       " 'find',\n",
       " 'format',\n",
       " 'format_map',\n",
       " 'index',\n",
       " 'isalnum',\n",
       " 'isalpha',\n",
       " 'isascii',\n",
       " 'isdecimal',\n",
       " 'isdigit',\n",
       " 'isidentifier',\n",
       " 'islower',\n",
       " 'isnumeric',\n",
       " 'isprintable',\n",
       " 'isspace',\n",
       " 'istitle',\n",
       " 'isupper',\n",
       " 'join',\n",
       " 'ljust',\n",
       " 'lower',\n",
       " 'lstrip',\n",
       " 'maketrans',\n",
       " 'partition',\n",
       " 'removeprefix',\n",
       " 'removesuffix',\n",
       " 'replace',\n",
       " 'rfind',\n",
       " 'rindex',\n",
       " 'rjust',\n",
       " 'rpartition',\n",
       " 'rsplit',\n",
       " 'rstrip',\n",
       " 'split',\n",
       " 'splitlines',\n",
       " 'startswith',\n",
       " 'strip',\n",
       " 'swapcase',\n",
       " 'title',\n",
       " 'translate',\n",
       " 'upper',\n",
       " 'zfill']"
      ]
     },
     "execution_count": 29,
     "metadata": {},
     "output_type": "execute_result"
    }
   ],
   "source": [
    "# 4.1 Checking dir(str) for functions we can use\n",
    "[e for e in dir(str) if not e.startswith('__')]"
   ]
  },
  {
   "cell_type": "code",
   "execution_count": 30,
   "id": "e28d15e2",
   "metadata": {},
   "outputs": [
    {
     "name": "stdout",
     "output_type": "stream",
     "text": [
      "Help on method_descriptor:\n",
      "\n",
      "istitle(self, /)\n",
      "    Return True if the string is a title-cased string, False otherwise.\n",
      "    \n",
      "    In a title-cased string, upper- and title-case characters may only\n",
      "    follow uncased characters and lowercase characters only cased ones.\n",
      "\n"
     ]
    }
   ],
   "source": [
    "help(str.istitle)"
   ]
  },
  {
   "cell_type": "code",
   "execution_count": null,
   "id": "6b69c21b",
   "metadata": {},
   "outputs": [],
   "source": []
  }
 ],
 "metadata": {
  "kernelspec": {
   "display_name": "Python 3 (ipykernel)",
   "language": "python",
   "name": "python3"
  },
  "language_info": {
   "codemirror_mode": {
    "name": "ipython",
    "version": 3
   },
   "file_extension": ".py",
   "mimetype": "text/x-python",
   "name": "python",
   "nbconvert_exporter": "python",
   "pygments_lexer": "ipython3",
   "version": "3.11.0"
  },
  "vscode": {
   "interpreter": {
    "hash": "fb4a468b23ae772b99bd54f465a6eab9630ea5075332d07f1e912da887985c6f"
   }
  }
 },
 "nbformat": 4,
 "nbformat_minor": 5
}
