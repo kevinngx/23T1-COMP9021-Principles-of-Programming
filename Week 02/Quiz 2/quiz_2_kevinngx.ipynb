{
 "cells": [
  {
   "cell_type": "markdown",
   "id": "7d2bf863",
   "metadata": {},
   "source": [
    "Quiz 2\n",
    "Prompts the user for four positive integers and generates a random list of integers. Expects the user to implement 3 functions to practice the pop(), remove() and append() list methods.\n",
    "\n",
    "Stub and outputs of the sample tests explain the tasks to perform.\n",
    "\n",
    "Some of the code in the stub can prove useful to implement the functions.\n",
    "\n",
    "1 mark for each function."
   ]
  },
  {
   "cell_type": "code",
   "execution_count": 1,
   "id": "ab109adc",
   "metadata": {},
   "outputs": [],
   "source": [
    "from IPython.core.interactiveshell import InteractiveShell\n",
    "InteractiveShell.ast_node_interactivity = 'all'"
   ]
  },
  {
   "cell_type": "code",
   "execution_count": 2,
   "id": "c27de441",
   "metadata": {},
   "outputs": [],
   "source": [
    "from random import seed, randrange\n",
    "import sys"
   ]
  },
  {
   "cell_type": "code",
   "execution_count": 15,
   "id": "1cb28b28",
   "metadata": {},
   "outputs": [
    {
     "name": "stdout",
     "output_type": "stream",
     "text": [
      "Enter four positive integers: 0 10 20 5\n",
      "Here is the list of generated values:\n",
      "   [6, 6, 0, 4, 8, 7, 6, 4, 7, 5]\n",
      "Here is a reversed copy of the list (why not?):\n",
      "   [5, 7, 4, 6, 7, 8, 4, 0, 6, 6]\n",
      "The minimal and maximal values are, respectively, 0 and 8.\n",
      "The sum of all values is: 53\n",
      "Starting from the middle of the list and wrapping around,\n",
      "the indexes are:\n",
      "   5, 6, 7, 8, 9, 0, 1, 2, 3, 4\n",
      "\n"
     ]
    }
   ],
   "source": [
    "try: \n",
    "    for_seed, length, cap, start =\\\n",
    "        (int(x) for x in input('Enter four positive integers: ').split())\n",
    "    if length < 0 or length < 0 or cap < 0 or start < 0:\n",
    "        raise ValueError\n",
    "except ValueError:\n",
    "    print('Incorrect input, giving up.')\n",
    "    sys.exit()\n",
    "seed(for_seed)\n",
    "values = [randrange(length) for _ in range(length)]\n",
    "print('Here is the list of generated values:')\n",
    "print('  ', values)\n",
    "print('Here is a reversed copy of the list (why not?):')\n",
    "print('  ', list(reversed(values)))\n",
    "print('The minimal and maximal values are, respectively,',\n",
    "      min(values), 'and', f'{max(values)}.'\n",
    "     )\n",
    "print('The sum of all values is:', sum(values))\n",
    "print('Starting from the middle of the list and wrapping around,')\n",
    "print('the indexes are:')\n",
    "print('  ', ', '.join(str((len(values) // 2 + i) % len(values))\n",
    "                          for i in range(len(values))\n",
    "                     )\n",
    "     )\n",
    "print()"
   ]
  },
  {
   "cell_type": "code",
   "execution_count": 4,
   "id": "64e226f9",
   "metadata": {},
   "outputs": [],
   "source": [
    "# The function modifies the argument L and has no return statement.\n",
    "# Using pop() is natural.\n",
    "def remove_values_no_greater_than_index(L):\n",
    "    i = 0\n",
    "    while i != len(L):\n",
    "        if L[i] <= i:\n",
    "            L.pop(i)\n",
    "        else:\n",
    "            i += 1"
   ]
  },
  {
   "cell_type": "code",
   "execution_count": 7,
   "id": "d32a6070",
   "metadata": {},
   "outputs": [
    {
     "name": "stdout",
     "output_type": "stream",
     "text": [
      "In a copy of the list,\n",
      "removing again and again the leftmost value\n",
      "not strictly greater than its latest location (index):\n",
      "   [6, 6, 4, 8, 7, 6, 7]\n",
      "\n"
     ]
    }
   ],
   "source": [
    "print('In a copy of the list,')\n",
    "print('removing again and again the leftmost value')\n",
    "print('not strictly greater than its latest location (index):')\n",
    "# A copy of the list.\n",
    "values_1 = values\n",
    "remove_values_no_greater_than_index(values_1)\n",
    "print('  ', values_1)\n",
    "print()"
   ]
  },
  {
   "cell_type": "code",
   "execution_count": 20,
   "id": "dbe5126b",
   "metadata": {},
   "outputs": [],
   "source": [
    "# The function does not modify the list passed as argument\n",
    "# and returns a new list.\n",
    "# Using remove() is natural.\n",
    "    \n",
    "def cap_sum_to(n, L):\n",
    "    L = list(reversed(L))\n",
    "    while sum(L) > n:\n",
    "#         L.pop(L.index(max(L)))\n",
    "        L.remove(max(L))\n",
    "    L = list(reversed(L))\n",
    "    return L"
   ]
  },
  {
   "cell_type": "code",
   "execution_count": 21,
   "id": "15649eba",
   "metadata": {},
   "outputs": [
    {
     "name": "stdout",
     "output_type": "stream",
     "text": [
      "In a copy of the list,\n",
      "removing again and again the rightmost largest value\n",
      "so the resulting list of values has a sum no greater than 20:\n",
      "   [6, 0, 4, 4, 5]\n",
      "\n"
     ]
    }
   ],
   "source": [
    "print('In a copy of the list,')\n",
    "print('removing again and again the rightmost largest value')\n",
    "print('so the resulting list of values has a sum no greater than',\n",
    "      f'{cap}:'\n",
    "     )\n",
    "print('  ', cap_sum_to(cap, values))\n",
    "print()"
   ]
  },
  {
   "cell_type": "code",
   "execution_count": 22,
   "id": "ac73d4be",
   "metadata": {},
   "outputs": [
    {
     "data": {
      "text/plain": [
       "[6, 6, 0, 4, 8, 7, 6, 4, 7, 5]"
      ]
     },
     "execution_count": 22,
     "metadata": {},
     "output_type": "execute_result"
    },
    {
     "data": {
      "text/plain": [
       "[5, 7, 4, 6, 7, 8, 4, 0, 6, 6]"
      ]
     },
     "execution_count": 22,
     "metadata": {},
     "output_type": "execute_result"
    },
    {
     "data": {
      "text/plain": [
       "[6, 0, 4, 4, 5]"
      ]
     },
     "execution_count": 22,
     "metadata": {},
     "output_type": "execute_result"
    }
   ],
   "source": [
    "L = [6, 6, 0, 4, 8, 7, 6, 4, 7, 5]\n",
    "L\n",
    "L = list(reversed(L))\n",
    "L\n",
    "while sum(L) > 20:\n",
    "    L.remove(max(L))\n",
    "L = list(reversed(L))\n",
    "L"
   ]
  },
  {
   "cell_type": "code",
   "execution_count": 55,
   "id": "b92c9250",
   "metadata": {},
   "outputs": [],
   "source": [
    "# The function does not modify the list passed as argument\n",
    "# and returns a new list.\n",
    "# Using append() is natural.\n",
    "def increasing_sequence_from(n, L):\n",
    "    new_list = [n]\n",
    "    i = L.index(n)\n",
    "    while max(new_list) != max(L):\n",
    "        if L[i] > max(new_list):\n",
    "            new_list.append(L[i])\n",
    "        if i == len(L)-1:\n",
    "            i = 0\n",
    "        else:\n",
    "            i += 1\n",
    "    return new_list"
   ]
  },
  {
   "cell_type": "code",
   "execution_count": 56,
   "id": "34904e4d",
   "metadata": {},
   "outputs": [
    {
     "name": "stdout",
     "output_type": "stream",
     "text": [
      "In a copy of the list,\n",
      "starting from the leftmost occurrence of 5 and wrapping around,\n",
      "collecting again and again the next larger value:\n",
      "   [5, 6, 8]\n",
      "The original list has not been modified indeed:\n",
      "   [6, 6, 0, 4, 8, 7, 6, 4, 7, 5]\n"
     ]
    }
   ],
   "source": [
    "print('In a copy of the list,')\n",
    "print('starting from the leftmost occurrence of', start,\n",
    "      'and wrapping around,'\n",
    "     )\n",
    "print('collecting again and again the next larger value:')\n",
    "print('  ', increasing_sequence_from(start, values))\n",
    "print('The original list has not been modified indeed:')\n",
    "print('  ', values)"
   ]
  },
  {
   "cell_type": "code",
   "execution_count": null,
   "id": "bd1ff843",
   "metadata": {},
   "outputs": [],
   "source": []
  }
 ],
 "metadata": {
  "kernelspec": {
   "display_name": "Python 3 (ipykernel)",
   "language": "python",
   "name": "python3"
  },
  "language_info": {
   "codemirror_mode": {
    "name": "ipython",
    "version": 3
   },
   "file_extension": ".py",
   "mimetype": "text/x-python",
   "name": "python",
   "nbconvert_exporter": "python",
   "pygments_lexer": "ipython3",
   "version": "3.11.0"
  }
 },
 "nbformat": 4,
 "nbformat_minor": 5
}
