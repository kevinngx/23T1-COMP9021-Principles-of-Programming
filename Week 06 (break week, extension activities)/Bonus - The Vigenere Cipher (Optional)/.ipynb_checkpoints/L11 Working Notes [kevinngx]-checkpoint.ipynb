{
 "cells": [
  {
   "cell_type": "code",
   "execution_count": 1,
   "id": "34f67421",
   "metadata": {},
   "outputs": [],
   "source": [
    "# Does not need to be executed if\n",
    "# ~/.ipython/profile_default/ipython_config.py\n",
    "# exists and contains:\n",
    "# c.InteractiveShell.ast_node_interactivity = 'all'\n",
    "\n",
    "from IPython.core.interactiveshell import InteractiveShell\n",
    "InteractiveShell.ast_node_interactivity = 'all'"
   ]
  },
  {
   "cell_type": "code",
   "execution_count": 2,
   "id": "5db443d9",
   "metadata": {},
   "outputs": [],
   "source": [
    "from string import printable\n",
    "from collections import Counter\n",
    "from operator import itemgetter\n",
    "from itertools import product\n",
    "from re import split"
   ]
  },
  {
   "cell_type": "code",
   "execution_count": 7,
   "id": "33594457",
   "metadata": {},
   "outputs": [
    {
     "data": {
      "text/plain": [
       "'0123456789abcdefghijklmnopqrstuvwxyzABCDEFGHIJKLMNOPQRSTUVWXYZ!\"#$%&\\'()*+,-./:;<=>?@[\\\\]^_`{|}~ \\t\\n\\r\\x0b\\x0c'"
      ]
     },
     "execution_count": 7,
     "metadata": {},
     "output_type": "execute_result"
    }
   ],
   "source": [
    "printable"
   ]
  },
  {
   "cell_type": "code",
   "execution_count": 22,
   "id": "fc2f6139",
   "metadata": {},
   "outputs": [
    {
     "name": "stdout",
     "output_type": "stream",
     "text": [
      "123456789\r",
      "djdjwd\n"
     ]
    }
   ],
   "source": [
    "print('123456789\\rdjdjwd')"
   ]
  },
  {
   "cell_type": "code",
   "execution_count": 23,
   "id": "5cd41b1a",
   "metadata": {},
   "outputs": [
    {
     "data": {
      "text/plain": [
       "(99, '63', 'c')"
      ]
     },
     "execution_count": 23,
     "metadata": {},
     "output_type": "execute_result"
    },
    {
     "data": {
      "text/plain": [
       "(10, 'a', '\\n')"
      ]
     },
     "execution_count": 23,
     "metadata": {},
     "output_type": "execute_result"
    }
   ],
   "source": [
    "ord('c'), f\"{ord('c'):x}\", '\\x63'\n",
    "# f-strings cannot embed backslashes,\n",
    "# so we instead use the format string method.\n",
    "ord('\\n'), '{:x}'.format(ord('\\n')), '\\x0a'"
   ]
  },
  {
   "cell_type": "code",
   "execution_count": 25,
   "id": "407cf6b0",
   "metadata": {},
   "outputs": [
    {
     "data": {
      "text/plain": [
       "('\\x0b', '\\x0c', '\\r')"
      ]
     },
     "execution_count": 25,
     "metadata": {},
     "output_type": "execute_result"
    }
   ],
   "source": [
    "'\\v', '\\f', '\\r'"
   ]
  },
  {
   "cell_type": "code",
   "execution_count": 37,
   "id": "5131e21f",
   "metadata": {},
   "outputs": [],
   "source": [
    "characters = printable[:-3]"
   ]
  },
  {
   "cell_type": "code",
   "execution_count": 38,
   "id": "bccfff6f",
   "metadata": {},
   "outputs": [
    {
     "data": {
      "text/plain": [
       "'0123456789abcdefghijklmnopqrstuvwxyzABCDEFGHIJKLMNOPQRSTUVWXYZ!\"#$%&\\'()*+,-./:;<=>?@[\\\\]^_`{|}~ \\t\\n'"
      ]
     },
     "execution_count": 38,
     "metadata": {},
     "output_type": "execute_result"
    }
   ],
   "source": [
    "characters"
   ]
  },
  {
   "cell_type": "code",
   "execution_count": 39,
   "id": "91952fe0",
   "metadata": {},
   "outputs": [
    {
     "data": {
      "text/plain": [
       "97"
      ]
     },
     "execution_count": 39,
     "metadata": {},
     "output_type": "execute_result"
    }
   ],
   "source": [
    "len(characters)"
   ]
  },
  {
   "cell_type": "code",
   "execution_count": 40,
   "id": "384ba882",
   "metadata": {},
   "outputs": [
    {
     "data": {
      "text/plain": [
       "{'0': 0,\n",
       " '1': 1,\n",
       " '2': 2,\n",
       " '3': 3,\n",
       " '4': 4,\n",
       " '5': 5,\n",
       " '6': 6,\n",
       " '7': 7,\n",
       " '8': 8,\n",
       " '9': 9,\n",
       " 'a': 10,\n",
       " 'b': 11,\n",
       " 'c': 12,\n",
       " 'd': 13,\n",
       " 'e': 14,\n",
       " 'f': 15,\n",
       " 'g': 16,\n",
       " 'h': 17,\n",
       " 'i': 18,\n",
       " 'j': 19,\n",
       " 'k': 20,\n",
       " 'l': 21,\n",
       " 'm': 22,\n",
       " 'n': 23,\n",
       " 'o': 24,\n",
       " 'p': 25,\n",
       " 'q': 26,\n",
       " 'r': 27,\n",
       " 's': 28,\n",
       " 't': 29,\n",
       " 'u': 30,\n",
       " 'v': 31,\n",
       " 'w': 32,\n",
       " 'x': 33,\n",
       " 'y': 34,\n",
       " 'z': 35,\n",
       " 'A': 36,\n",
       " 'B': 37,\n",
       " 'C': 38,\n",
       " 'D': 39,\n",
       " 'E': 40,\n",
       " 'F': 41,\n",
       " 'G': 42,\n",
       " 'H': 43,\n",
       " 'I': 44,\n",
       " 'J': 45,\n",
       " 'K': 46,\n",
       " 'L': 47,\n",
       " 'M': 48,\n",
       " 'N': 49,\n",
       " 'O': 50,\n",
       " 'P': 51,\n",
       " 'Q': 52,\n",
       " 'R': 53,\n",
       " 'S': 54,\n",
       " 'T': 55,\n",
       " 'U': 56,\n",
       " 'V': 57,\n",
       " 'W': 58,\n",
       " 'X': 59,\n",
       " 'Y': 60,\n",
       " 'Z': 61,\n",
       " '!': 62,\n",
       " '\"': 63,\n",
       " '#': 64,\n",
       " '$': 65,\n",
       " '%': 66,\n",
       " '&': 67,\n",
       " \"'\": 68,\n",
       " '(': 69,\n",
       " ')': 70,\n",
       " '*': 71,\n",
       " '+': 72,\n",
       " ',': 73,\n",
       " '-': 74,\n",
       " '.': 75,\n",
       " '/': 76,\n",
       " ':': 77,\n",
       " ';': 78,\n",
       " '<': 79,\n",
       " '=': 80,\n",
       " '>': 81,\n",
       " '?': 82,\n",
       " '@': 83,\n",
       " '[': 84,\n",
       " '\\\\': 85,\n",
       " ']': 86,\n",
       " '^': 87,\n",
       " '_': 88,\n",
       " '`': 89,\n",
       " '{': 90,\n",
       " '|': 91,\n",
       " '}': 92,\n",
       " '~': 93,\n",
       " ' ': 94,\n",
       " '\\t': 95,\n",
       " '\\n': 96}"
      ]
     },
     "execution_count": 40,
     "metadata": {},
     "output_type": "execute_result"
    }
   ],
   "source": [
    "shifts = {characters[i]: i for i in range(len(characters))}\n",
    "shifts"
   ]
  },
  {
   "cell_type": "code",
   "execution_count": 62,
   "id": "71b4dd7a",
   "metadata": {},
   "outputs": [
    {
     "name": "stdout",
     "output_type": "stream",
     "text": [
      "Alice|was |beginning|to  |get |very|tired\n"
     ]
    }
   ],
   "source": [
    "print('|'.join(f'{w:4}' for w in ('Alice', 'was', 'beginning', 'to', 'get',\n",
    "                                  'very', 'tired'\n",
    "                                 )\n",
    "              )\n",
    "     )"
   ]
  },
  {
   "cell_type": "code",
   "execution_count": 64,
   "id": "8572bdd4",
   "metadata": {},
   "outputs": [],
   "source": [
    "key = 'Take it Easy!'"
   ]
  },
  {
   "cell_type": "code",
   "execution_count": 94,
   "id": "9f575656",
   "metadata": {},
   "outputs": [
    {
     "name": "stdout",
     "output_type": "stream",
     "text": [
      "Take it Easy!  55 10 20 14 94 18 29 94 40 10 28 34 62\n",
      "\n",
      "Alice was beg  36 21 18 12 14 94 32 10 28 94 11 14 16\n",
      "inning to get  18 23 23 18 23 16 94 29 24 94 16 14 29\n",
      " very tired o  94 31 14 27 34 94 29 18 27 14 13 94 24\n",
      "f sitting by   15 94 28 18 29 29 18 23 16 94 11 34 94\n",
      "her sister on  17 14 27 94 28 18 28 29 14 27 94 24 23\n",
      " the bank, an  94 29 17 14 94 11 10 23 20 73 94 10 23\n",
      "d of having n  13 94 24 15 94 17 10 31 18 23 16 94 23\n",
      "othing to do:  24 29 17 18 23 16 94 29 24 94 13 24 77\n",
      " once or twic  94 24 23 12 14 94 24 27 94 29 32 18 12\n",
      "e she had pee  14 94 28 17 14 94 17 10 13 94 25 14 14\n",
      "ped into the   25 14 13 94 18 23 29 24 94 29 17 14 94\n",
      "book her sist  11 24 24 20 94 17 14 27 94 28 18 28 29\n",
      "er was readin  14 27 94 32 10 28 94 27 14 10 13 18 23\n",
      "g, but it had  16 73 94 11 30 29 94 18 29 94 17 10 13\n",
      " no pictures   94 23 24 94 25 18 12 29 30 27 14 28 94\n",
      "or conversati  24 27 94 12 24 23 31 14 27 28 10 29 18\n",
      "ons in it, 'a  24 23 28 94 18 23 94 18 29 73 94 68 10\n",
      "nd what is th  23 13 94 32 17 10 29 94 18 28 94 29 17\n",
      "e use of a bo  14 94 30 28 14 94 24 15 94 10 94 11 24\n",
      "ok,' thought   24 20 73 68 94 29 17 24 30 16 17 29 94\n",
      "Alice, 'witho  36 21 18 12 14 73 94 68 32 18 29 17 24\n",
      "ut pictures o  30 29 94 25 18 12 29 30 27 14 28 94 24\n",
      "r conversatio  27 94 12 24 23 31 14 27 28 10 29 18 24\n",
      "ns?'           23 28 82 68\n",
      "\n",
      "|vCqbfZ7'7DM;  91 31 38 26 11 15 61  7 68  7 39 48 78\n",
      ",xHwkyqq#7IM|  73 33 43 32 20 34 26 26 64  7 44 48 91\n",
      "QFyFvfWf&oFv]  52 41 34 41 31 15 58 15 67 24 41 31 86\n",
      ")7MwqLLkU7D'X  70  7 48 32 26 47 47 20 56  7 39 68 59\n",
      "+oLbpAVqSBpW\\  72 24 47 11 25 36 57 26 54 37 25 58 85\n",
      "QDBs|tDkY@pI\\  52 39 37 28 91 29 39 20 60 83 25 44 85\n",
      "'7It|zDsWxIv\\  68  7 44 29 91 35 39 28 58 33 44 31 85\n",
      "<DBwkyqq#7FWG  79 39 37 32 20 34 26 26 64  7 41 58 42\n",
      "QyHqbfRoBDYQ-  52 34 43 26 11 15 53 24 37 39 60 52 74\n",
      "(7MvbfK7R7RM/  69  7 48 31 11 15 46  7 53  7 53 48 76\n",
      "=oxbfFWlBDJMX  80 24 33 11 15 41 58 21 37 39 45 48 59\n",
      "%yIy|zHoBCK!|  66 34 44 34 91 35 43 24 37 38 46 62 91\n",
      "(BhK7KqoSkFQ\\  69 37 17 46  7 46 26 24 54 20 41 52 85\n",
      "*@hprLqf(7JI.  71 83 17 25 27 47 26 15 69  7 45 44 75\n",
      "QxIbmAFq)BG!X  52 33 44 11 22 36 41 26 70 37 42 62 59\n",
      "<BhqlFYb&CC\"=  79 37 17 26 21 41 60 11 67 38 38 63 80\n",
      "<xMbfFqf(@p5+  79 33 48 11 15 41 26 15 69 83 25  5 72\n",
      ";nhKesW|WCp\"<  78 23 17 46 14 28 58 91 58 38 25 63 79\n",
      "(7OGbfRcBkpJ]  69  7 50 42 11 15 53 12 37 20 25 45 86\n",
      "<u~?|LKl)qJ\"X  79 30 93 82 91 47 46 21 70 26 45 63 59\n",
      "|vCqb|q$+sVP]  91 31 38 26 11 91 26 65 72 28 57 51 86\n",
      "\\DhDfuWr&oUv]  85 39 17 39 15 30 58 27 67 24 56 31 86\n",
      "?7wCkNHo'kVQ]  82  7 32 38 20 49 43 24 68 20 57 52 86\n",
      ";C5?           78 38  5 82\n"
     ]
    }
   ],
   "source": [
    "message = (\"Alice was beginning to get very tired of sitting by her \"\n",
    "           \"sister on the bank, and of having nothing to do: once or \"\n",
    "           \"twice she had peeped into the book her sister was reading, \"\n",
    "           \"but it had no pictures or conversations in it, 'and what \"\n",
    "           \"is the use of a book,' thought Alice, 'without pictures or \"\n",
    "           \"conversations?'\"\n",
    "          )\n",
    "\n",
    "encrypted_message = ('|vCqbfZ7\\'7DM;,xHwkyqq#7IM|QFyFvfWf&oFv])7MwqLL'\n",
    "                     'kU7D\\'X+oLbpAVqSBpW\\\\QDBs|tDkY@pI\\\\\\'7It|zDsWxI'\n",
    "                     'v\\\\<DBwkyqq#7FWGQyHqbfRoBDYQ-(7MvbfK7R7RM/=oxbf'\n",
    "                     'FWlBDJMX%yIy|zHoBCK!|(BhK7KqoSkFQ\\\\*@hprLqf(7JI'\n",
    "                     '.QxIbmAFq)BG!X<BhqlFYb&CC\"=<xMbfFqf(@p5+;nhKesW'\n",
    "                     '|WCp\"<(7OGbfRcBkpJ]<u~?|LKl)qJ\"X|vCqb|q$+sVP]\\\\'\n",
    "                     'DhDfuWr&oUv]?7wCkNHo\\'kVQ];C5?'\n",
    "                    )\n",
    "\n",
    "\n",
    "key = 'Take it Easy!'\n",
    "# 1.0 First printout gives us the shift values for each characer in the key\n",
    "print(f'{key}' + '  ' + ' '.join(f'{shifts[c]:2}' for c in key))\n",
    "print()\n",
    "\n",
    "# 2.0 The second printout splits the message in rows of length 13 (matching the key)\n",
    "# We then retrieve their characrer values\n",
    "print('\\n'.join(f'{message[i * 13 : (i + 1) * 13]:13}  ' +\n",
    "                ' '.join(f'{shifts[c]:2}'\n",
    "                              for c in message[i * 13 : (i + 1) * 13]\n",
    "                        ) for i in range(len(message) // 13 + 1)\n",
    "               )\n",
    "     )\n",
    "print()\n",
    "\n",
    "# 3.0 Finally we add the values of the character and the shift value of the key\n",
    "print('\\n'.join(f'{encrypted_message[i * 13 : (i + 1) * 13]:13}  ' +\n",
    "                ' '.join(f'{shifts[c]:2}'\n",
    "                              for c in encrypted_message[i * 13 : (i + 1) * 13]\n",
    "                        ) for i in range(len(encrypted_message) // 13 + 1)\n",
    "               )\n",
    "     )"
   ]
  },
  {
   "cell_type": "code",
   "execution_count": 67,
   "id": "88a01930",
   "metadata": {},
   "outputs": [
    {
     "name": "stdout",
     "output_type": "stream",
     "text": [
      "T\n",
      "a\n",
      "k\n",
      "e\n",
      " \n",
      "i\n",
      "t\n",
      " \n",
      "E\n",
      "a\n",
      "s\n",
      "y\n",
      "!\n"
     ]
    }
   ],
   "source": [
    "for c in key:\n",
    "    print(c)"
   ]
  },
  {
   "cell_type": "code",
   "execution_count": 86,
   "id": "f037306d",
   "metadata": {},
   "outputs": [
    {
     "name": "stdout",
     "output_type": "stream",
     "text": [
      "Alice was beg  \n",
      "inning to get  \n",
      " very tired o  \n",
      "f sitting by   \n",
      "her sister on  \n",
      " the bank, an  \n",
      "d of having n  \n",
      "othing to do:  \n",
      " once or twic  \n",
      "e she had pee  \n",
      "ped into the   \n",
      "book her sist  \n",
      "er was readin  \n",
      "g, but it had  \n",
      " no pictures   \n",
      "or conversati  \n",
      "ons in it, 'a  \n",
      "nd what is th  \n",
      "e use of a bo  \n",
      "ok,' thought   \n",
      "Alice, 'witho  \n",
      "ut pictures o  \n",
      "r conversatio  \n",
      "ns?'           \n"
     ]
    }
   ],
   "source": [
    "print('\\n'.join(f'{message[i * 13 : (i + 1) * 13]:13}  ' \n",
    "#                 + ' '.join(f'{shifts[c]:2}' for c in message[i * 13 : (i + 1) * 13]) \n",
    "                for i in range(len(message) // 13 + 1)\n",
    "               )\n",
    "     )"
   ]
  },
  {
   "cell_type": "code",
   "execution_count": 104,
   "id": "c48edb73",
   "metadata": {},
   "outputs": [
    {
     "name": "stdout",
     "output_type": "stream",
     "text": [
      "  0: Alice was beg\n",
      "  1: inning to get\n",
      "  2:  very tired o\n",
      "  3: f sitting by \n",
      "  4: her sister on\n",
      "  5:  the bank, an\n",
      "  6: d of having n\n",
      "  7: othing to do:\n",
      "  8:  once or twic\n",
      "  9: e she had pee\n",
      " 10: ped into the \n",
      " 11: book her sist\n",
      " 12: er was readin\n",
      " 13: g, but it had\n",
      " 14:  no pictures \n",
      " 15: or conversati\n",
      " 16: ons in it, 'a\n",
      " 17: nd what is th\n",
      " 18: e use of a bo\n",
      " 19: ok,' thought \n",
      " 20: Alice, 'witho\n",
      " 21: ut pictures o\n",
      " 22: r conversatio\n",
      " 23: ns?'\n"
     ]
    }
   ],
   "source": [
    "# The first column is received by finding how many 13 character segments there are \n",
    "for i in range(len(message) // 13 + 1):\n",
    "    print(f'{i:3}: {message[i*13:(i+1)*13]}')"
   ]
  },
  {
   "cell_type": "code",
   "execution_count": 105,
   "id": "f9d51f16",
   "metadata": {},
   "outputs": [
    {
     "data": {
      "text/plain": [
       "'|vCqbfZ7\\'7DM;,xHwkyqq#7IM|QFyFvfWf&oFv])7MwqLLkU7D\\'X+oLbpAVqSBpW\\\\QDBs|tDkY@pI\\\\\\'7It|zDsWxIv\\\\<DBwkyqq#7FWGQyHqbfRoBDYQ-(7MvbfK7R7RM/=oxbfFWlBDJMX%yIy|zHoBCK!|(BhK7KqoSkFQ\\\\*@hprLqf(7JI.QxIbmAFq)BG!X<BhqlFYb&CC\"=<xMbfFqf(@p5+;nhKesW|WCp\"<(7OGbfRcBkpJ]<u~?|LKl)qJ\"X|vCqb|q$+sVP]\\\\DhDfuWr&oUv]?7wCkNHo\\'kVQ];C5?'"
      ]
     },
     "execution_count": 105,
     "metadata": {},
     "output_type": "execute_result"
    },
    {
     "name": "stdout",
     "output_type": "stream",
     "text": [
      "\n"
     ]
    },
    {
     "data": {
      "text/plain": [
       "\"Alice was beginning to get very tired of sitting by her sister on the bank, and of having nothing to do: once or twice she had peeped into the book her sister was reading, but it had no pictures or conversations in it, 'and what is the use of a book,' thought Alice, 'without pictures or conversations?'\""
      ]
     },
     "execution_count": 105,
     "metadata": {},
     "output_type": "execute_result"
    },
    {
     "name": "stdout",
     "output_type": "stream",
     "text": [
      "\n"
     ]
    },
    {
     "data": {
      "text/plain": [
       "'|vCqbfZ7\\'7DM;,xHwkyqq#7IM|QFyFvfWf&oFv])7MwqLLkU7D\\'X+oLbpAVqSBpW\\\\QDBs|tDkY@pI\\\\\\'7It|zDsWxIv\\\\<DBwkyqq#7FWGQyHqbfRoBDYQ-(7MvbfK7R7RM/=oxbfFWlBDJMX%yIy|zHoBCK!|(BhK7KqoSkFQ\\\\*@hprLqf(7JI.QxIbmAFq)BG!X<BhqlFYb&CC\"=<xMbfFqf(@p5+;nhKesW|WCp\"<(7OGbfRcBkpJ]<u~?|LKl)qJ\"X|vCqb|q$+sVP]\\\\DhDfuWr&oUv]?7wCkNHo\\'kVQ];C5?'"
      ]
     },
     "execution_count": 105,
     "metadata": {},
     "output_type": "execute_result"
    },
    {
     "name": "stdout",
     "output_type": "stream",
     "text": [
      "\n"
     ]
    },
    {
     "data": {
      "text/plain": [
       "\"Alice was beginning to get very tired of sitting by her sister on the bank, and of having nothing to do: once or twice she had peeped into the book her sister was reading, but it had no pictures or conversations in it, 'and what is the use of a book,' thought Alice, 'without pictures or conversations?'\""
      ]
     },
     "execution_count": 105,
     "metadata": {},
     "output_type": "execute_result"
    }
   ],
   "source": [
    "def encrypt(key, text):\n",
    "    return encrypt_or_decrypt(key, text, 1)\n",
    "\n",
    "def decrypt(key, text):\n",
    "    return encrypt_or_decrypt(key, text, -1)\n",
    "\n",
    "def encrypt_or_decrypt(key, text, mode):\n",
    "    return ''.join(characters[(shifts[text[i]]\n",
    "                               + shifts[key[i % len(key)]] * mode\n",
    "                              ) % len(shifts)\n",
    "                             ] for i in range(len(text))\n",
    "                  )\n",
    "\n",
    "encrypt(key, message)\n",
    "print()\n",
    "decrypt(key, encrypted_message)\n",
    "print()\n",
    "encrypt(key, decrypt(key, encrypted_message))\n",
    "print()\n",
    "decrypt(key, encrypt(key, message))"
   ]
  },
  {
   "cell_type": "code",
   "execution_count": 106,
   "id": "5df65044",
   "metadata": {},
   "outputs": [],
   "source": [
    "max_key_length = 16"
   ]
  },
  {
   "cell_type": "code",
   "execution_count": 107,
   "id": "217ee465",
   "metadata": {},
   "outputs": [
    {
     "data": {
      "text/plain": [
       "62065212901958868055012327674640"
      ]
     },
     "execution_count": 107,
     "metadata": {},
     "output_type": "execute_result"
    }
   ],
   "source": [
    "sum(len(characters) ** i for i in range(1, 17))"
   ]
  },
  {
   "cell_type": "code",
   "execution_count": 108,
   "id": "5b09259e",
   "metadata": {},
   "outputs": [
    {
     "data": {
      "text/plain": [
       "(4, 5, 8, 10)"
      ]
     },
     "execution_count": 108,
     "metadata": {},
     "output_type": "execute_result"
    }
   ],
   "source": [
    "def factors_from_successive_n_grams(num, min_value):\n",
    "    return (i for i in range(min_value, max_key_length + 1) if num % i == 0)\n",
    "\n",
    "tuple(factors_from_successive_n_grams(40, 3))"
   ]
  },
  {
   "cell_type": "code",
   "execution_count": 118,
   "id": "dc81f52d",
   "metadata": {},
   "outputs": [
    {
     "name": "stdout",
     "output_type": "stream",
     "text": [
      "0 1 2 3 4 5 6 7 8 9 10 "
     ]
    }
   ],
   "source": [
    "def f():\n",
    "    yield 1\n",
    "    yield 2\n",
    "    \n",
    "def g():\n",
    "    yield 0\n",
    "    for x in f():\n",
    "        yield x\n",
    "    for x in range(3, 6):\n",
    "        yield x\n",
    "    for x in (x for x in [6, 7, 8]):\n",
    "        yield x\n",
    "    for x in [9, 10]:\n",
    "        yield x\n",
    "\n",
    "G = g()\n",
    "for x in G:\n",
    "    print(x, end=' ')"
   ]
  },
  {
   "cell_type": "code",
   "execution_count": 122,
   "id": "208342be",
   "metadata": {},
   "outputs": [
    {
     "name": "stdout",
     "output_type": "stream",
     "text": [
      "Before yielding 10\n",
      "10\n",
      "Before yielding 11\n",
      "11\n",
      "Before returning\n"
     ]
    }
   ],
   "source": [
    "def f(n):\n",
    "    print('Before yielding', n)\n",
    "    yield n\n",
    "    print('Before yielding', n + 1)\n",
    "    yield n + 1\n",
    "    print('Before returning')\n",
    "    return\n",
    "    # Won't be printed out\n",
    "    print('After returning')\n",
    "    # Won't be yielded\n",
    "    yield n + 2\n",
    "    \n",
    "for i in f(10):\n",
    "    print(i)\n",
    "    "
   ]
  },
  {
   "cell_type": "code",
   "execution_count": 123,
   "id": "c2d1a523",
   "metadata": {},
   "outputs": [],
   "source": [
    "n_gram_range = range(3, 6)"
   ]
  },
  {
   "cell_type": "code",
   "execution_count": 124,
   "id": "e189dc5b",
   "metadata": {},
   "outputs": [
    {
     "data": {
      "text/plain": [
       "1"
      ]
     },
     "execution_count": 124,
     "metadata": {},
     "output_type": "execute_result"
    },
    {
     "data": {
      "text/plain": [
       "4"
      ]
     },
     "execution_count": 124,
     "metadata": {},
     "output_type": "execute_result"
    },
    {
     "data": {
      "text/plain": [
       "-1"
      ]
     },
     "execution_count": 124,
     "metadata": {},
     "output_type": "execute_result"
    }
   ],
   "source": [
    "'123123'.find('2')\n",
    "'123123'.find('2', 2)\n",
    "'123123'.find('2', 2, 4)"
   ]
  },
  {
   "cell_type": "code",
   "execution_count": 129,
   "id": "9d33c484",
   "metadata": {},
   "outputs": [
    {
     "name": "stdout",
     "output_type": "stream",
     "text": [
      "Help on built-in function find:\n",
      "\n",
      "find(...) method of builtins.str instance\n",
      "    S.find(sub[, start[, end]]) -> int\n",
      "    \n",
      "    Return the lowest index in S where substring sub is found,\n",
      "    such that sub is contained within S[start:end].  Optional\n",
      "    arguments start and end are interpreted as in slice notation.\n",
      "    \n",
      "    Return -1 on failure.\n",
      "\n"
     ]
    }
   ],
   "source": [
    "help(\"\".find)"
   ]
  },
  {
   "cell_type": "code",
   "execution_count": 130,
   "id": "5575fbc4",
   "metadata": {},
   "outputs": [
    {
     "name": "stdout",
     "output_type": "stream",
     "text": [
      "Looking for consecutive occurrences of 3-grams:\n",
      "  Found \"ing\" at indexes 16 and 45\n",
      "  ing to get very tired of sitting\n",
      "  Distance: 29. Adding as factors: ()\n",
      "\n",
      "  Found \"ng \" at indexes 17 and 46\n",
      "  ng to get very tired of sitting \n",
      "  Distance: 29. Adding as factors: ()\n",
      "\n",
      "  Found \"d o\" at indexes 36 and 78\n",
      "  d of sitting by her sister on the bank, and o\n",
      "  Distance: 42. Adding as factors: (3, 6, 7, 14)\n",
      "\n",
      "  Found \" of\" at indexes 37 and 79\n",
      "   of sitting by her sister on the bank, and of\n",
      "  Distance: 42. Adding as factors: (3, 6, 7, 14)\n",
      "\n",
      "  Found \"of \" at indexes 38 and 80\n",
      "  of sitting by her sister on the bank, and of \n",
      "  Distance: 42. Adding as factors: (3, 6, 7, 14)\n",
      "\n",
      "  Found \" si\" at indexes 40 and 55\n",
      "   sitting by her si\n",
      "  Distance: 15. Adding as factors: (3, 5, 15)\n",
      "\n",
      "  Found \"ing\" at indexes 45 and 86\n",
      "  ing by her sister on the bank, and of having\n",
      "  Distance: 41. Adding as factors: ()\n",
      "\n",
      "  Found \"ng \" at indexes 46 and 87\n",
      "  ng by her sister on the bank, and of having \n",
      "  Distance: 41. Adding as factors: ()\n",
      "\n",
      "  Found \"er \" at indexes 53 and 60\n",
      "  er sister \n",
      "  Distance: 7. Adding as factors: (7,)\n",
      "\n",
      "Looking for consecutive occurrences of 4-grams:\n",
      "  Found \"ing \" at indexes 16 and 45\n",
      "  ing to get very tired of sitting \n",
      "  Distance: 29. Adding as factors: ()\n",
      "\n",
      "  Found \"d of\" at indexes 36 and 78\n",
      "  d of sitting by her sister on the bank, and of\n",
      "  Distance: 42. Adding as factors: (6, 7, 14)\n",
      "\n",
      "  Found \" of \" at indexes 37 and 79\n",
      "   of sitting by her sister on the bank, and of \n",
      "  Distance: 42. Adding as factors: (6, 7, 14)\n",
      "\n",
      "  Found \"ing \" at indexes 45 and 86\n",
      "  ing by her sister on the bank, and of having \n",
      "  Distance: 41. Adding as factors: ()\n",
      "\n",
      "Looking for consecutive occurrences of 5-grams:\n",
      "  Found \"d of \" at indexes 36 and 78\n",
      "  d of sitting by her sister on the bank, and of \n",
      "  Distance: 42. Adding as factors: (6, 7, 14)\n",
      "\n",
      "[3, 6, 7, 14, 3, 6, 7, 14, 3, 6, 7, 14, 3, 5, 15, 7, 6, 7, 14, 6, 7, 14, 6, 7, 14]\n"
     ]
    }
   ],
   "source": [
    "text = message[: 91]\n",
    "\n",
    "relevant_factors = []\n",
    "for n in (n_gram_range):\n",
    "    print(f'Looking for consecutive occurrences of {n}-grams:')\n",
    "    for i in range(len(text) - 2 * n + 1):\n",
    "        n_gram = text[i : i + n]\n",
    "        j = text.find(n_gram, i + n)\n",
    "        if j != -1:\n",
    "            print(f'  Found \"{n_gram}\" at indexes {i} and {j}\\n'\n",
    "                  f'  {text[i : j + n]}\\n'\n",
    "                  f'  Distance: {j - i}. Adding as factors:'\n",
    "                  f' {tuple(factors_from_successive_n_grams(j - i, n))}\\n'\n",
    "                 )\n",
    "            relevant_factors.extend(factors_from_successive_n_grams(j - i, n))\n",
    "            \n",
    "print(relevant_factors)"
   ]
  },
  {
   "cell_type": "code",
   "execution_count": 131,
   "id": "16f7d661",
   "metadata": {},
   "outputs": [
    {
     "name": "stdout",
     "output_type": "stream",
     "text": [
      "[4, 5, 10, 13, 4, 5, 10, 13, 4, 5, 10, 13, 4, 8, 13, 3, 6, 13, 3, 6, 13, 3, 6, 13, 3, 6, 13, 3, 6, 13, 5, 10, 13, 3, 6, 13, 3, 13, 4, 5, 10, 13, 4, 5, 10, 13, 6, 13, 6, 13, 6, 13, 6, 13, 5, 10, 13, 6, 13, 6, 13, 6, 13]\n"
     ]
    }
   ],
   "source": [
    "def all_collected_factors(text):\n",
    "    for n in n_gram_range:\n",
    "        for i in range(len(text) - 2 * n + 1):\n",
    "            j = text.find(text[i : i + n], i + n)\n",
    "            if j != -1:\n",
    "                yield from factors_from_successive_n_grams(j - i, n)\n",
    "\n",
    "print(list(all_collected_factors(encrypted_message)))"
   ]
  },
  {
   "cell_type": "code",
   "execution_count": 132,
   "id": "ebbab134",
   "metadata": {},
   "outputs": [
    {
     "data": {
      "text/plain": [
       "Counter({4: 4, 5: 3, 10: 3, 13: 4, 8: 1})"
      ]
     },
     "execution_count": 132,
     "metadata": {},
     "output_type": "execute_result"
    }
   ],
   "source": [
    "Counter([4, 5, 10, 13, 4, 5, 10, 13, 4, 5, 10, 13, 4, 8, 13])\n"
   ]
  },
  {
   "cell_type": "code",
   "execution_count": 133,
   "id": "fc286a23",
   "metadata": {},
   "outputs": [
    {
     "data": {
      "text/plain": [
       "dict_keys([4, 5, 10, 13, 8])"
      ]
     },
     "execution_count": 133,
     "metadata": {},
     "output_type": "execute_result"
    },
    {
     "data": {
      "text/plain": [
       "dict_values([4, 3, 3, 4, 1])"
      ]
     },
     "execution_count": 133,
     "metadata": {},
     "output_type": "execute_result"
    },
    {
     "data": {
      "text/plain": [
       "dict_items([(4, 4), (5, 3), (10, 3), (13, 4), (8, 1)])"
      ]
     },
     "execution_count": 133,
     "metadata": {},
     "output_type": "execute_result"
    }
   ],
   "source": [
    "D = {4: 4, 5: 3, 10: 3, 13: 4, 8: 1}\n",
    "D.keys()\n",
    "D.values()\n",
    "D.items()"
   ]
  },
  {
   "cell_type": "code",
   "execution_count": 134,
   "id": "91edd858",
   "metadata": {},
   "outputs": [
    {
     "data": {
      "text/plain": [
       "[(13, 4), (10, 3), (8, 1), (5, 3), (4, 4)]"
      ]
     },
     "execution_count": 134,
     "metadata": {},
     "output_type": "execute_result"
    },
    {
     "data": {
      "text/plain": [
       "[13, 10, 8, 5, 4]"
      ]
     },
     "execution_count": 134,
     "metadata": {},
     "output_type": "execute_result"
    },
    {
     "data": {
      "text/plain": [
       "[(4, 4), (13, 4), (5, 3), (10, 3), (8, 1)]"
      ]
     },
     "execution_count": 134,
     "metadata": {},
     "output_type": "execute_result"
    },
    {
     "data": {
      "text/plain": [
       "[4, 13, 5, 10, 8]"
      ]
     },
     "execution_count": 134,
     "metadata": {},
     "output_type": "execute_result"
    },
    {
     "data": {
      "text/plain": [
       "[(13, 4), (4, 4), (10, 3), (5, 3), (8, 1)]"
      ]
     },
     "execution_count": 134,
     "metadata": {},
     "output_type": "execute_result"
    },
    {
     "data": {
      "text/plain": [
       "[13, 4, 10, 5, 8]"
      ]
     },
     "execution_count": 134,
     "metadata": {},
     "output_type": "execute_result"
    }
   ],
   "source": [
    "D = {4: 4, 5: 3, 10: 3, 13: 4, 8: 1}\n",
    "\n",
    "sorted(D.items(), reverse=True)\n",
    "[x[0] for x in sorted(D.items(), reverse=True)]\n",
    "\n",
    "sorted(D.items(), key=lambda x: x[1], reverse=True)\n",
    "[x[0] for x in sorted(D.items(), key=lambda x: x[1], reverse=True)]\n",
    "\n",
    "sorted(D.items(), key=lambda x: (x[1], x[0]), reverse=True)\n",
    "[x[0] for x in sorted(D.items(), key=lambda x: (x[1], x[0]), reverse=True)]"
   ]
  },
  {
   "cell_type": "code",
   "execution_count": 135,
   "id": "e2026337",
   "metadata": {},
   "outputs": [
    {
     "data": {
      "text/plain": [
       "'A'"
      ]
     },
     "execution_count": 135,
     "metadata": {},
     "output_type": "execute_result"
    },
    {
     "data": {
      "text/plain": [
       "('A', 'C')"
      ]
     },
     "execution_count": 135,
     "metadata": {},
     "output_type": "execute_result"
    },
    {
     "data": {
      "text/plain": [
       "('C', 'A', 'B')"
      ]
     },
     "execution_count": 135,
     "metadata": {},
     "output_type": "execute_result"
    },
    {
     "data": {
      "text/plain": [
       "[(13, 4), (4, 4), (10, 3), (5, 3), (8, 1)]"
      ]
     },
     "execution_count": 135,
     "metadata": {},
     "output_type": "execute_result"
    },
    {
     "data": {
      "text/plain": [
       "[13, 4, 10, 5, 8]"
      ]
     },
     "execution_count": 135,
     "metadata": {},
     "output_type": "execute_result"
    }
   ],
   "source": [
    "L = ['A', 'B', 'C']\n",
    "itemgetter(0)(L)\n",
    "itemgetter(0, 2)(L)\n",
    "itemgetter(2, 0, 1)(L)\n",
    "\n",
    "D = {4: 4, 5: 3, 10: 3, 13: 4, 8: 1}\n",
    "sorted(D.items(), key=itemgetter(1, 0), reverse=True)\n",
    "[x[0] for x in sorted(D.items(), key=itemgetter(1, 0), reverse=True)]"
   ]
  },
  {
   "cell_type": "code",
   "execution_count": 136,
   "id": "b650d92a",
   "metadata": {},
   "outputs": [
    {
     "data": {
      "text/plain": [
       "[1, 13, 6, 10, 5, 3, 4, 8, 2, 7, 9, 11, 12, 14, 15, 16]"
      ]
     },
     "execution_count": 136,
     "metadata": {},
     "output_type": "execute_result"
    }
   ],
   "source": [
    "def key_lengths_from_most_to_least_promising(text):\n",
    "    yield 1\n",
    "    key_lengths =\\\n",
    "            [x[0] for x in sorted(Counter(all_collected_factors(text)).items(),\n",
    "                                  key=itemgetter(1, 0), reverse=True\n",
    "                                 )\n",
    "            ]\n",
    "    yield from key_lengths\n",
    "    yield from\\\n",
    "            (i for i in range(2, max_key_length + 1) if i not in key_lengths)\n",
    "\n",
    "list(key_lengths_from_most_to_least_promising(encrypted_message))"
   ]
  },
  {
   "cell_type": "code",
   "execution_count": 137,
   "id": "acaef017",
   "metadata": {},
   "outputs": [
    {
     "data": {
      "text/plain": [
       "'Ai fh do epbeg ooneoAurn'"
      ]
     },
     "execution_count": 137,
     "metadata": {},
     "output_type": "execute_result"
    },
    {
     "data": {
      "text/plain": [
       "'lnv et to eor,nrnd klt s'"
      ]
     },
     "execution_count": 137,
     "metadata": {},
     "output_type": "execute_result"
    },
    {
     "data": {
      "text/plain": [
       "'inesrhohnsdo  o s u,i c?'"
      ]
     },
     "execution_count": 137,
     "metadata": {},
     "output_type": "execute_result"
    },
    {
     "data": {
      "text/plain": [
       "\"ciri efich kwb c ws'cpo'\""
      ]
     },
     "execution_count": 137,
     "metadata": {},
     "output_type": "execute_result"
    },
    {
     "data": {
      "text/plain": [
       "'enyts  neei aupoihe ein'"
      ]
     },
     "execution_count": 137,
     "metadata": {},
     "output_type": "execute_result"
    },
    {
     "data": {
      "text/plain": [
       "' g tibhg  nhstinna t,cv'"
      ]
     },
     "execution_count": 137,
     "metadata": {},
     "output_type": "execute_result"
    },
    {
     "data": {
      "text/plain": [
       "'w tisaa ohte  cv toh te'"
      ]
     },
     "execution_count": 137,
     "metadata": {},
     "output_type": "execute_result"
    },
    {
     "data": {
      "text/plain": [
       "\"atintnvtraorritei fo'ur\""
      ]
     },
     "execution_count": 137,
     "metadata": {},
     "output_type": "execute_result"
    },
    {
     "data": {
      "text/plain": [
       "'sorgekio d  eturti uwrs'"
      ]
     },
     "execution_count": 137,
     "metadata": {},
     "output_type": "execute_result"
    },
    {
     "data": {
      "text/plain": [
       "'  e r,n t tsa rs,sagiea'"
      ]
     },
     "execution_count": 137,
     "metadata": {},
     "output_type": "execute_result"
    },
    {
     "data": {
      "text/plain": [
       "'bgdb  gdwphidhea   htst'"
      ]
     },
     "execution_count": 137,
     "metadata": {},
     "output_type": "execute_result"
    },
    {
     "data": {
      "text/plain": [
       "\"ee yoa oieesiast'tbth i\""
      ]
     },
     "execution_count": 137,
     "metadata": {},
     "output_type": "execute_result"
    },
    {
     "data": {
      "text/plain": [
       "'gto nnn:ce tnd iaho ooo'"
      ]
     },
     "execution_count": 137,
     "metadata": {},
     "output_type": "execute_result"
    }
   ],
   "source": [
    "for n in range(13):\n",
    "    decrypt(key[n], encrypted_message[n :: 13])"
   ]
  },
  {
   "cell_type": "code",
   "execution_count": 138,
   "id": "f6b0ca6c",
   "metadata": {},
   "outputs": [
    {
     "data": {
      "text/plain": [
       "'(1Oq;F+hgAj@pN::z[W@tNNh'"
      ]
     },
     "execution_count": 138,
     "metadata": {},
     "output_type": "execute_result"
    },
    {
     "data": {
      "text/plain": [
       "'9WDYusb-\\t*YP{ZWz]t~y%3*-'"
      ]
     },
     "execution_count": 138,
     "metadata": {},
     "output_type": "execute_result"
    },
    {
     "data": {
      "text/plain": [
       "\"g'w4RqM+7f(Z)}(f4nD0,;\\nF\""
      ]
     },
     "execution_count": 138,
     "metadata": {},
     "output_type": "execute_result"
    },
    {
     "data": {
      "text/plain": [
       "'4VD\\\\hhx&^\\tLP23Ao#Qv]Z35l'"
      ]
     },
     "execution_count": 138,
     "metadata": {},
     "output_type": "execute_result"
    },
    {
     "data": {
      "text/plain": [
       "\"]Jt<v=\\tT+.PbY5Lj'k0\\tK/[\""
      ]
     },
     "execution_count": 138,
     "metadata": {},
     "output_type": "execute_result"
    },
    {
     "data": {
      "text/plain": [
       "'{Xd3GiD(/<:Q2pZD y4Pt|g'"
      ]
     },
     "execution_count": 138,
     "metadata": {},
     "output_type": "execute_result"
    },
    {
     "data": {
      "text/plain": [
       "'DPU3\"sHZhd Y<4%W<#GOZma'"
      ]
     },
     "execution_count": 138,
     "metadata": {},
     "output_type": "execute_result"
    },
    {
     "data": {
      "text/plain": [
       "\"?Pd,w9wZ\\\\*VF:{P9'01p3__\""
      ]
     },
     "execution_count": 138,
     "metadata": {},
     "output_type": "execute_result"
    },
    {
     "data": {
      "text/plain": [
       "'K`$cYN!21k,SaL\\t$p#q-avz'"
      ]
     },
     "execution_count": 138,
     "metadata": {},
     "output_type": "execute_result"
    },
    {
     "data": {
      "text/plain": [
       "'?wmYH+BG3*.T,?!ADI9u\"\\\\['"
      ]
     },
     "execution_count": 138,
     "metadata": {},
     "output_type": "execute_result"
    },
    {
     "data": {
      "text/plain": [
       "'h(D}veM/ok>\" n&A;veN}ko'"
      ]
     },
     "execution_count": 138,
     "metadata": {},
     "output_type": "execute_result"
    },
    {
     "data": {
      "text/plain": [
       "'q,to#xz~gf[<8m^ZW(y&]}j'"
      ]
     },
     "execution_count": 138,
     "metadata": {},
     "output_type": "execute_result"
    },
    {
     "data": {
      "text/plain": [
       "'Uj[f|-`:CH\\tbFR[;s\\\\.\"oOR'"
      ]
     },
     "execution_count": 138,
     "metadata": {},
     "output_type": "execute_result"
    }
   ],
   "source": [
    "for n in range(13):\n",
    "    decrypt('m+2I|b~!AxZ=I', encrypted_message[n :: 13])"
   ]
  },
  {
   "cell_type": "code",
   "execution_count": 139,
   "id": "f7a0a15c",
   "metadata": {},
   "outputs": [
    {
     "name": "stdout",
     "output_type": "stream",
     "text": [
      "Counter({'o': 4, 'e': 3, 'a': 2, 'n': 2, 'i': 1, 'f': 1, 'h': 1, 'd': 1, 'p': 1, 'b': 1, 'g': 1, 'u': 1, 'r': 1})\n"
     ]
    }
   ],
   "source": [
    "column = Counter(c.lower() for c in 'Ai fh do epbeg ooneoAurn' if c.isalpha())\n",
    "print(column)"
   ]
  },
  {
   "cell_type": "code",
   "execution_count": 140,
   "id": "0161dca5",
   "metadata": {},
   "outputs": [
    {
     "data": {
      "text/plain": [
       "'oenabpgfudrhi'"
      ]
     },
     "execution_count": 140,
     "metadata": {},
     "output_type": "execute_result"
    }
   ],
   "source": [
    "ranked_letters_in_column = ''.join(\n",
    "       sorted(column,\n",
    "              key=lambda x: (column[x], 'etaoinshrdlcumwfgypbvkjxqz'.index(x)),\n",
    "              reverse=True\n",
    "             )\n",
    "                                 )\n",
    "\n",
    "ranked_letters_in_column"
   ]
  },
  {
   "cell_type": "code",
   "execution_count": 141,
   "id": "ce652e85",
   "metadata": {},
   "outputs": [
    {
     "data": {
      "text/plain": [
       "'oenabpgfudrhi'"
      ]
     },
     "execution_count": 141,
     "metadata": {},
     "output_type": "execute_result"
    }
   ],
   "source": [
    "etaoin = {'etaoinshrdlcumwfgypbvkjxqz'[i]: i for i in range(26)}\n",
    "\n",
    "ranked_letters_in_column = ''.join(\n",
    "             sorted(column, key=lambda x: (column[x], etaoin[x]), reverse=True)\n",
    "                                  )\n",
    "\n",
    "ranked_letters_in_column"
   ]
  },
  {
   "cell_type": "code",
   "execution_count": 142,
   "id": "4f22ca3b",
   "metadata": {},
   "outputs": [
    {
     "name": "stdout",
     "output_type": "stream",
     "text": [
      " 1 o          e                    0\n",
      " 2 oe         et         e         1\n",
      " 3 oen        eta        e         1\n",
      " 4 oena       etao       aeo       3\n",
      " 5 oenab      etaoi      eao       3\n",
      " 6 oenabp     etaoin     naoe      4\n",
      " 7 oenabpg    etaoins    naoe      4\n",
      " 8 oenabpgf   etaoinsh   naoe      4\n",
      " 9 oenabpgfu  etaoinshr  naoe      4\n",
      "10 oenabpgfud etaoinshrd noaed     5\n"
     ]
    }
   ],
   "source": [
    "for i in range(1, 11):\n",
    "    s_1 = ranked_letters_in_column[: i]\n",
    "    s_2 = 'etaoinshrdlcumwfgypbvkjxqz'[: i]\n",
    "    s = ''.join(set(s_1) & set(s_2))\n",
    "    print(f'{i:2} {s_1:10} {s_2:10} {s:9} {len(s)}')"
   ]
  },
  {
   "cell_type": "code",
   "execution_count": 143,
   "id": "4588a9ab",
   "metadata": {},
   "outputs": [
    {
     "name": "stdout",
     "output_type": "stream",
     "text": [
      "o occurs etaoinshrd\n",
      "e occurs etaoinshrd\n",
      "n occurs etaoinshrd\n",
      "a occurs etaoinshrd\n",
      "b does not occur in etaoinshrd\n",
      "p does not occur in etaoinshrd\n",
      "g does not occur in etaoinshrd\n",
      "f does not occur in etaoinshrd\n",
      "u does not occur in etaoinshrd\n",
      "d occurs etaoinshrd\n"
     ]
    }
   ],
   "source": [
    "for i in range(10):\n",
    "    s = ranked_letters_in_column[i]\n",
    "    print(s, end=' ')\n",
    "    print('occurs' if etaoin[s] < 10 else 'does not occur in',\n",
    "          'etaoinshrdlcumwfgypbvkjxqz'[: 10]\n",
    "         )"
   ]
  },
  {
   "cell_type": "code",
   "execution_count": 144,
   "id": "a3edc6f6",
   "metadata": {},
   "outputs": [
    {
     "data": {
      "text/plain": [
       "5"
      ]
     },
     "execution_count": 144,
     "metadata": {},
     "output_type": "execute_result"
    }
   ],
   "source": [
    "sum(1 for i in range(10) if etaoin[ranked_letters_in_column[i]] < 10)"
   ]
  },
  {
   "cell_type": "code",
   "execution_count": 145,
   "id": "0cdd6519",
   "metadata": {},
   "outputs": [
    {
     "data": {
      "text/plain": [
       "5"
      ]
     },
     "execution_count": 145,
     "metadata": {},
     "output_type": "execute_result"
    }
   ],
   "source": [
    "def etaoin_score(text, length):\n",
    "    letter_counts = Counter(c.lower() for c in text if c.isalpha())\n",
    "    ranked_letters = sorted(letter_counts,\n",
    "                            key=lambda x: (letter_counts[x], etaoin[x]),\n",
    "                            reverse=True\n",
    "                           )\n",
    "    return sum(1 for i in range(min(length, len(ranked_letters)))\n",
    "                     if etaoin[ranked_letters[i]] < length\n",
    "              )\n",
    "\n",
    "etaoin_score('Ai fh do epbeg ooneoAurn', 10)"
   ]
  },
  {
   "cell_type": "code",
   "execution_count": 146,
   "id": "5f965c19",
   "metadata": {},
   "outputs": [],
   "source": [
    "etaoin_length = 6"
   ]
  },
  {
   "cell_type": "code",
   "execution_count": 147,
   "id": "22a358ca",
   "metadata": {},
   "outputs": [
    {
     "data": {
      "text/plain": [
       "'sorgekio d  eturti uwrs'"
      ]
     },
     "execution_count": 147,
     "metadata": {},
     "output_type": "execute_result"
    },
    {
     "data": {
      "text/plain": [
       "'SORGEKIOnDnnETURTInUWRS'"
      ]
     },
     "execution_count": 147,
     "metadata": {},
     "output_type": "execute_result"
    },
    {
     "data": {
      "text/plain": [
       "3"
      ]
     },
     "execution_count": 147,
     "metadata": {},
     "output_type": "execute_result"
    },
    {
     "data": {
      "text/plain": [
       "3"
      ]
     },
     "execution_count": 147,
     "metadata": {},
     "output_type": "execute_result"
    }
   ],
   "source": [
    "decrypt('E', encrypted_message[8 :: 13])\n",
    "decrypt('e', encrypted_message[8 :: 13])\n",
    "\n",
    "etaoin_score(decrypt('E', encrypted_message[8 :: 13]), etaoin_length)\n",
    "etaoin_score(decrypt('e', encrypted_message[8 :: 13]), etaoin_length)"
   ]
  },
  {
   "cell_type": "code",
   "execution_count": 148,
   "id": "c79b3df3",
   "metadata": {},
   "outputs": [
    {
     "name": "stdout",
     "output_type": "stream",
     "text": [
      "('E', 3, 0.95) sorgekio d  eturti uwrs\n",
      "('I', 3, 0.9473684210526315) okncagek{9{{apqnpe{qsno\n",
      "('K', 3, 0.9411764705882353) mila8eci_7__8nolnc_oqlm\n",
      "('S', 3, 0.9230769230769231) ead2064a=\n",
      "==0fgdf4=gide\n",
      "('e', 3, 0.16666666666666666) SORGEKIOnDnnETURTInUWRS\n",
      "('J', 2, 0.9411764705882353) njmb9fdj`8``9opmod`prmn\n",
      "('O', 2, 0.9285714285714286) ieh64a8e[3[[4jkhj8[kmhi\n",
      "('W', 2, 0.875) a69\t~206/}//~bc9b0/ce9a\n",
      "('r', 2, 0.4583333333333333) FBEtrxvBaqaarGHEGvaHJEF\n",
      "('n', 2, 0.4166666666666667) JFIxvBzFeueevKLIKzeLNIJ\n"
     ]
    }
   ],
   "source": [
    "scores = []\n",
    "for subkey in characters:\n",
    "    decrypted_column = decrypt(subkey, encrypted_message[8 :: 13])\n",
    "    nb_of_lowercase_letters = 0\n",
    "    nb_of_letters = 1\n",
    "    for c in (c for c in decrypted_column if c.isalpha()):\n",
    "        nb_of_letters += 1\n",
    "        if c.islower():\n",
    "            nb_of_lowercase_letters += 1\n",
    "    scores.append((subkey, etaoin_score(decrypted_column, etaoin_length),\n",
    "                   nb_of_lowercase_letters / nb_of_letters\n",
    "                  )\n",
    "                 )\n",
    "scores.sort(key=itemgetter(1, 2), reverse=True)\n",
    "\n",
    "for scored_subkey in scores[: 10]:\n",
    "    print(scored_subkey, decrypt(scored_subkey[0], encrypted_message[8 :: 13]))"
   ]
  },
  {
   "cell_type": "code",
   "execution_count": 149,
   "id": "602b6f5d",
   "metadata": {},
   "outputs": [],
   "source": [
    "nb_of_options_for_subkey = 2"
   ]
  },
  {
   "cell_type": "code",
   "execution_count": 150,
   "id": "07a94f49",
   "metadata": {},
   "outputs": [
    {
     "data": {
      "text/plain": [
       "[(0, 'A', 'c'),\n",
       " (0, 'A', 'd'),\n",
       " (0, 'B', 'c'),\n",
       " (0, 'B', 'd'),\n",
       " (1, 'A', 'c'),\n",
       " (1, 'A', 'd'),\n",
       " (1, 'B', 'c'),\n",
       " (1, 'B', 'd')]"
      ]
     },
     "execution_count": 150,
     "metadata": {},
     "output_type": "execute_result"
    },
    {
     "data": {
      "text/plain": [
       "[(0, 'A', 0, 'A'),\n",
       " (0, 'A', 0, 'B'),\n",
       " (0, 'A', 1, 'A'),\n",
       " (0, 'A', 1, 'B'),\n",
       " (0, 'B', 0, 'A'),\n",
       " (0, 'B', 0, 'B'),\n",
       " (0, 'B', 1, 'A'),\n",
       " (0, 'B', 1, 'B'),\n",
       " (1, 'A', 0, 'A'),\n",
       " (1, 'A', 0, 'B'),\n",
       " (1, 'A', 1, 'A'),\n",
       " (1, 'A', 1, 'B'),\n",
       " (1, 'B', 0, 'A'),\n",
       " (1, 'B', 0, 'B'),\n",
       " (1, 'B', 1, 'A'),\n",
       " (1, 'B', 1, 'B')]"
      ]
     },
     "execution_count": 150,
     "metadata": {},
     "output_type": "execute_result"
    }
   ],
   "source": [
    "# The cartesian product {0, 1} x {'A', 'B'} x {'c', 'd'}\n",
    "list(product(range(2), ['A', 'B'], (x for x in 'cd')))\n",
    "# The cartesian product ({0, 1} x {'A', 'B'})^2\n",
    "list(product(range(2), ['A', 'B'], repeat=2))"
   ]
  },
  {
   "cell_type": "code",
   "execution_count": 151,
   "id": "42c2022a",
   "metadata": {},
   "outputs": [
    {
     "data": {
      "text/plain": [
       "['0Ac', '0Ad', '0Bc', '0Bd', '1Ac', '1Ad', '1Bc', '1Bd']"
      ]
     },
     "execution_count": 151,
     "metadata": {},
     "output_type": "execute_result"
    }
   ],
   "source": [
    "subkeys = ('0', '1'), ('A', 'B'), ('c', 'd')\n",
    "\n",
    "list(key for key in (''.join(subkey) for subkey in product(*subkeys)))"
   ]
  },
  {
   "cell_type": "code",
   "execution_count": 152,
   "id": "af5e619f",
   "metadata": {},
   "outputs": [
    {
     "data": {
      "text/plain": [
       "['0', '', 'abc', '', '', 'DEF', '', '']"
      ]
     },
     "execution_count": 152,
     "metadata": {},
     "output_type": "execute_result"
    },
    {
     "data": {
      "text/plain": [
       "['0', 'abc', 'DEF', '']"
      ]
     },
     "execution_count": 152,
     "metadata": {},
     "output_type": "execute_result"
    },
    {
     "data": {
      "text/plain": [
       "['0+$', '', '', '(^?DEF=_']"
      ]
     },
     "execution_count": 152,
     "metadata": {},
     "output_type": "execute_result"
    },
    {
     "data": {
      "text/plain": [
       "['', '', '', 'abc', '', '', '', '', '', '', '', '']"
      ]
     },
     "execution_count": 152,
     "metadata": {},
     "output_type": "execute_result"
    },
    {
     "data": {
      "text/plain": [
       "['0+$', '(^?', '=_']"
      ]
     },
     "execution_count": 152,
     "metadata": {},
     "output_type": "execute_result"
    },
    {
     "data": {
      "text/plain": [
       "['0', 'abc', 'DEF', '']"
      ]
     },
     "execution_count": 152,
     "metadata": {},
     "output_type": "execute_result"
    }
   ],
   "source": [
    "# Using any of the characters between the square brackets as a separator\n",
    "split('[+$(^?=_)]', '0+$abc(^?DEF=_')\n",
    "# Using any longest nonempty sequence of the characters between the\n",
    "# square brackets as a separator\n",
    "split('[+$(^?=_)]+', '0+$abc(^?DEF=_')\n",
    "# Using any lowercase letter as a separator\n",
    "split('[a-z]', '0+$abc(^?DEF=_')\n",
    "# Using anything but a lowercase letter as a separator\n",
    "split('[^a-z]', '0+$abc(^?DEF=_')\n",
    "# Using any longest nonempty sequence of letters as a separator\n",
    "split('[a-zA-Z]+', '0+$abc(^?DEF=_')\n",
    "# Using any longest nonempty sequence of anything but letters or digits\n",
    "# as a separator\n",
    "split('[^a-zA-Z0-9]+', '0+$abc(^?DEF=_')"
   ]
  },
  {
   "cell_type": "code",
   "execution_count": 153,
   "id": "da13618c",
   "metadata": {},
   "outputs": [
    {
     "name": "stdout",
     "output_type": "stream",
     "text": [
      "['Alice', 'was', 'beginning', 'to', 'get', 'very', 'tired', 'of', 'sitting', 'by', 'her', 'sister', 'on', 'the', 'bank', 'and', 'of', 'having', 'nothing', 'to', 'do', 'once', 'or', 'twice', 'she', 'had', 'peeped', 'into', 'the', 'book', 'her', 'sister', 'was', 'reading', 'but', 'it', 'had', 'no', 'pictures', 'or', 'conversations', 'in', 'it', 'and', 'what', 'is', 'the', 'use', 'of', 'a', 'book', 'thought', 'Alice', 'without', 'pictures', 'or', 'conversations', '']\n"
     ]
    }
   ],
   "source": [
    "print(split('[^a-zA-Z]+', message))"
   ]
  },
  {
   "cell_type": "code",
   "execution_count": 154,
   "id": "28773198",
   "metadata": {},
   "outputs": [],
   "source": [
    "fraction_of_letters = 0.7\n",
    "fraction_of_words = .5"
   ]
  },
  {
   "cell_type": "code",
   "execution_count": 155,
   "id": "81e40ab1",
   "metadata": {},
   "outputs": [],
   "source": [
    "def looks_like_English(text, dictionary):\n",
    "    if sum(1 for c in text if c.isalpha()) / len(text) < fraction_of_letters:\n",
    "        return False\n",
    "    possible_words = split('[^a-zA-Z]+', text)\n",
    "    nb_of_words = sum(1 for w in possible_words if w in dictionary)\n",
    "    return nb_of_words / len(possible_words) > fraction_of_words"
   ]
  },
  {
   "cell_type": "code",
   "execution_count": 157,
   "id": "747defb1",
   "metadata": {},
   "outputs": [],
   "source": [
    "dictionary_file = 'dictionary.txt'\n",
    "\n",
    "def encrypt_file(key, filename, encrypted_filename=None):\n",
    "    try:\n",
    "        with open(filename) as file:\n",
    "            if encrypted_filename:\n",
    "                with open(encrypted_filename, 'w') as encrypted_file:\n",
    "                    print(encrypt(key, file.read()), end='',\n",
    "                          file=encrypted_file\n",
    "                         )\n",
    "            else:\n",
    "                return encrypt(key, file.read())\n",
    "    except FileNotFoundError:\n",
    "        print(f'Could not open {filename}, giving up.')\n",
    "\n",
    "def decrypt_file(key, filename, decrypted_filename=None):\n",
    "    try:\n",
    "        with open(filename) as file:\n",
    "            if decrypted_filename:\n",
    "                try:\n",
    "                    with open(decrypted_filename, 'x') as decrypted_file:\n",
    "                        print(decrypt(key, file.read()), file=decrypted_file)\n",
    "                except FileExistsError:\n",
    "                    print(f'{decrypted_filename} exists, giving up.')\n",
    "            else:\n",
    "                return decrypt(key, file.read())\n",
    "    except FileNotFoundError:\n",
    "        print(f'Could not open {filename}, giving up.')\n",
    "\n",
    "def break_key_for_file(filename):\n",
    "    try:\n",
    "        with open(filename) as file:\n",
    "            break_key(file.read())\n",
    "    except FileNotFoundError:\n",
    "        print(f'Could not open {filename}, giving up.')\n",
    "\n",
    "def break_key(text):\n",
    "    try:\n",
    "        with open(dictionary_file) as file:\n",
    "            dictionary = {w.strip().lower() for w in file}\n",
    "    except FileNotFoundError:\n",
    "        print(f'Could not open the file {dictionary_file}, giving up.')\n",
    "        return\n",
    "    for key_length in key_lengths_from_most_to_least_promising(text):\n",
    "        print(f'\\nNow working with keys of length {key_length}')\n",
    "        subkeys = []\n",
    "        for n in range(key_length):\n",
    "            scores = []\n",
    "            for subkey in characters:\n",
    "                decrypted_column = decrypt(subkey, text[n :: key_length])\n",
    "                nb_of_lowercase_letters = 0\n",
    "                nb_of_letters = 1\n",
    "                letters = (c for c in decrypted_column if c.isalpha())\n",
    "                for c in letters:\n",
    "                    nb_of_letters += 1\n",
    "                    if c.islower():\n",
    "                        nb_of_lowercase_letters += 1\n",
    "                scores.append((subkey,\n",
    "                               etaoin_score(decrypted_column, etaoin_length),\n",
    "                               nb_of_lowercase_letters / nb_of_letters\n",
    "                              )\n",
    "                             )\n",
    "            scores.sort(key=itemgetter(1, 2), reverse=True)\n",
    "            subkeys.append(x[0] for x in scores[: nb_of_options_for_subkey])\n",
    "        for key in (''.join(subkey) for subkey in product(*subkeys)):\n",
    "            print('\\r', key, end='')\n",
    "            decrypted_text = decrypt(key, text)\n",
    "            if looks_like_English(decrypted_text, dictionary):\n",
    "                print('\\nWhat about this?\\n')\n",
    "                print(decrypted_text[: 200], '...', sep='')\n",
    "                print()\n",
    "                print('Enter Y[es] if happy, otherwise press any key '\n",
    "                      \"and I'll keep working.\"\n",
    "                     )\n",
    "                yes_or_no = input('> ')\n",
    "                if yes_or_no in {'YES', 'Yes', 'yes', 'Y', 'y'}:\n",
    "                    print(f'The key is: \"{key}\"')\n",
    "                    return\n",
    "    print('Sorry, I did my best...')"
   ]
  },
  {
   "cell_type": "code",
   "execution_count": 158,
   "id": "63fd2564",
   "metadata": {},
   "outputs": [
    {
     "name": "stdout",
     "output_type": "stream",
     "text": [
      "\n",
      "Now working with keys of length 1\n",
      " 1\n",
      "Now working with keys of length 13\n",
      " Take it Easy!\n",
      "What about this?\n",
      "\n",
      "Alice was beginning to get very tired of sitting by her sister on the bank, and of having nothing to do: once or twice she had peeped into the book her sister was reading, but it had no pictures or co...\n",
      "\n",
      "Enter Y[es] if happy, otherwise press any key and I'll keep working.\n",
      "> Y\n",
      "The key is: \"Take it Easy!\"\n"
     ]
    }
   ],
   "source": [
    "encrypt_file('Take it Easy!', 'carroll.txt', 'encrypted_carroll.txt')\n",
    "break_key_for_file('encrypted_carroll.txt')"
   ]
  }
 ],
 "metadata": {
  "kernelspec": {
   "display_name": "Python 3 (ipykernel)",
   "language": "python",
   "name": "python3"
  },
  "language_info": {
   "codemirror_mode": {
    "name": "ipython",
    "version": 3
   },
   "file_extension": ".py",
   "mimetype": "text/x-python",
   "name": "python",
   "nbconvert_exporter": "python",
   "pygments_lexer": "ipython3",
   "version": "3.11.0"
  },
  "vscode": {
   "interpreter": {
    "hash": "fb4a468b23ae772b99bd54f465a6eab9630ea5075332d07f1e912da887985c6f"
   }
  }
 },
 "nbformat": 4,
 "nbformat_minor": 5
}
