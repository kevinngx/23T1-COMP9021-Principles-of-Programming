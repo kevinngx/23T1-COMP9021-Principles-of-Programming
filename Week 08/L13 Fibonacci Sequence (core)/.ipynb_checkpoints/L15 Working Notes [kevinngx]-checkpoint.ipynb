{
 "cells": [
  {
   "cell_type": "code",
   "execution_count": 1,
   "id": "0df99d28",
   "metadata": {},
   "outputs": [],
   "source": [
    "from IPython.core.interactiveshell import InteractiveShell\n",
    "InteractiveShell.ast_node_interactivity = 'all'"
   ]
  },
  {
   "cell_type": "code",
   "execution_count": 2,
   "id": "10832821",
   "metadata": {},
   "outputs": [],
   "source": [
    "from functools import lru_cache\n",
    "from math import sqrt"
   ]
  },
  {
   "cell_type": "code",
   "execution_count": 3,
   "id": "16274ba8",
   "metadata": {},
   "outputs": [],
   "source": [
    "def fibonacci_sequence():\n",
    "    yield 0\n",
    "    yield 1\n",
    "    previous, current = 0, 1\n",
    "    while True:\n",
    "        previous, current = current, previous + current\n",
    "        yield current"
   ]
  },
  {
   "cell_type": "code",
   "execution_count": 4,
   "id": "69661cf7",
   "metadata": {},
   "outputs": [],
   "source": [
    "S = fibonacci_sequence()"
   ]
  },
  {
   "cell_type": "code",
   "execution_count": 6,
   "id": "3ad5546d",
   "metadata": {},
   "outputs": [
    {
     "data": {
      "text/plain": [
       "[0, 1, 1, 2, 3, 5, 8, 13, 21, 34, 55, 89, 144, 233, 377, 610, 987, 1597, 2584]"
      ]
     },
     "execution_count": 6,
     "metadata": {},
     "output_type": "execute_result"
    }
   ],
   "source": [
    "list(next(S) for _ in range(19))"
   ]
  },
  {
   "cell_type": "code",
   "execution_count": null,
   "id": "0b26a6f5",
   "metadata": {},
   "outputs": [],
   "source": []
  }
 ],
 "metadata": {
  "kernelspec": {
   "display_name": "Python 3 (ipykernel)",
   "language": "python",
   "name": "python3"
  },
  "language_info": {
   "codemirror_mode": {
    "name": "ipython",
    "version": 3
   },
   "file_extension": ".py",
   "mimetype": "text/x-python",
   "name": "python",
   "nbconvert_exporter": "python",
   "pygments_lexer": "ipython3",
   "version": "3.11.0"
  },
  "vscode": {
   "interpreter": {
    "hash": "fb4a468b23ae772b99bd54f465a6eab9630ea5075332d07f1e912da887985c6f"
   }
  }
 },
 "nbformat": 4,
 "nbformat_minor": 5
}
