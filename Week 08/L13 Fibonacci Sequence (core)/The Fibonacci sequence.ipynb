{
 "cells": [
  {
   "cell_type": "markdown",
   "metadata": {},
   "source": [
    "<center><font size='5'>The Fibonacci sequence</font></center>\n",
    "<center><font size='3'>Eric Martin, CSE, UNSW</font></center>\n",
    "<center><font size='3'>COMP9021 Principles of Programming</font></center>"
   ]
  },
  {
   "cell_type": "code",
   "execution_count": 1,
   "metadata": {
    "jupyter": {
     "source_hidden": true
    },
    "tags": []
   },
   "outputs": [],
   "source": [
    "# Does not need to be executed if\n",
    "# ~/.ipython/profile_default/ipython_config.py\n",
    "# exists and contains:\n",
    "# get_config().InteractiveShell.ast_node_interactivity = 'all'\n",
    "\n",
    "from IPython.core.interactiveshell import InteractiveShell\n",
    "InteractiveShell.ast_node_interactivity = 'all'"
   ]
  },
  {
   "cell_type": "code",
   "execution_count": 2,
   "metadata": {},
   "outputs": [],
   "source": [
    "from functools import lru_cache\n",
    "from math import sqrt"
   ]
  },
  {
   "cell_type": "markdown",
   "metadata": {},
   "source": [
    "The Fibonacci sequence, say $(F_n)_{n\\in\\mathbb N}$, is defined as $F_0=0$, $F_1=1$ and for all $n>1$, $F_n=F_{n-2}+F_{n-1}$; so it is 0, 1, 1, 2, 3, 5, 8, 13, 21, 34...\n",
    "\n",
    "A generator function is the best option to generate the initial segment of the Fibonacci sequence of a given length, even though it can also be used to generate the member of the Fibonacci sequence of a given index:"
   ]
  },
  {
   "cell_type": "code",
   "execution_count": 3,
   "metadata": {},
   "outputs": [],
   "source": [
    "def fibonacci_sequence():\n",
    "    yield 0\n",
    "    yield 1\n",
    "    previous, current = 0, 1\n",
    "    while True:\n",
    "        previous, current = current, previous + current\n",
    "        yield current"
   ]
  },
  {
   "cell_type": "code",
   "execution_count": 4,
   "metadata": {},
   "outputs": [
    {
     "data": {
      "text/plain": [
       "[0, 1, 1, 2, 3, 5, 8, 13, 21, 34, 55, 89, 144, 233, 377, 610, 987, 1597, 2584]"
      ]
     },
     "execution_count": 4,
     "metadata": {},
     "output_type": "execute_result"
    }
   ],
   "source": [
    "S = fibonacci_sequence()\n",
    "list(next(S) for _ in range(19))"
   ]
  },
  {
   "cell_type": "code",
   "execution_count": 8,
   "metadata": {},
   "outputs": [
    {
     "data": {
      "text/plain": [
       "2584"
      ]
     },
     "execution_count": 8,
     "metadata": {},
     "output_type": "execute_result"
    }
   ],
   "source": [
    "from IPython.display import clear_output\n",
    "\n",
    "S = fibonacci_sequence()\n",
    "for _ in range(18):\n",
    "    next(S)\n",
    "    clear_output()\n",
    "next(S)"
   ]
  },
  {
   "cell_type": "markdown",
   "metadata": {},
   "source": [
    "In case only one or a few specific members of the Fibonacci sequence are needed, a simple function is more appropriate:"
   ]
  },
  {
   "cell_type": "code",
   "execution_count": 9,
   "metadata": {},
   "outputs": [
    {
     "data": {
      "text/plain": [
       "2584"
      ]
     },
     "execution_count": 9,
     "metadata": {},
     "output_type": "execute_result"
    }
   ],
   "source": [
    "def iterative_fibonacci(n):\n",
    "    if n < 2:\n",
    "        return n\n",
    "    previous, current = 0, 1\n",
    "    for _ in range(2, n + 1):\n",
    "        previous, current = current, previous + current\n",
    "    return current\n",
    "\n",
    "iterative_fibonacci(18)"
   ]
  },
  {
   "cell_type": "markdown",
   "metadata": {},
   "source": [
    "A naive recursive implementation is elegant, but too inefficient, as we will see: "
   ]
  },
  {
   "cell_type": "code",
   "execution_count": null,
   "metadata": {},
   "outputs": [],
   "source": [
    "def recursive_fibonacci(n):\n",
    "    if n >= 2:\n",
    "        return recursive_fibonacci(n - 2) + recursive_fibonacci(n - 1)\n",
    "    return n\n",
    "\n",
    "recursive_fibonacci(18)"
   ]
  },
  {
   "cell_type": "markdown",
   "metadata": {},
   "source": [
    "Let an integer $n$ greater than 1 be given. Then a call to `recursive_fibonacci(n)` involves:\n",
    "\n",
    "* for all nonzero $k\\leq n$, $F_{n-k+1}$ calls to `recursive_fibonacci(k)`;\n",
    "* $F_{n-1}$ calls to `recursive_fibonacci(0)`.\n",
    "\n",
    "In particular, `recursive_fibonacci(n)` calls `recursive_fibonacci(1)` $F_n$ times. Proof is by induction on $k\\leq n$:\n",
    "\n",
    "* `recursive_fibonacci(n)` is called once indeed.\n",
    "* `recursive_fibonacci(n)` directly calls `recursive_fibonacci(n - 1)` and does not call it indirectly, so calls it once indeed.\n",
    "* For all $k<n$, `recursive_fibonacci(n - k)` is directly called by `recursive_fibonacci(n - k + 1)` and by `recursive_fibonacci(n - k + 2)`. By inductive hypothesis, the latter two are called directly or indirectly by `recursive_fibonacci(n)` $F_k$ and $F_{k-1}$ times, respectively. Hence `recursive_fibonacci(n - k)` is called by `recursive_fibonacci(n)` $F_{k+1}$ times.\n",
    "* `recursive_fibonacci(0)` is directly called by `recursive_fibonacci(2)`, hence it is called by `recursive_fibonacci(n)` $F_{n-1}$ times.\n",
    "\n",
    "Let us illustrate this for $n=6$ with the following tracing function:"
   ]
  },
  {
   "cell_type": "code",
   "execution_count": 10,
   "metadata": {},
   "outputs": [
    {
     "name": "stdout",
     "output_type": "stream",
     "text": [
      " Start of function call for n = 6\n",
      "     Start of function call for n = 4\n",
      "         Start of function call for n = 2\n",
      "             Start of function call for n = 0\n",
      "             End of function call for n = 0, returning 0\n",
      "             Start of function call for n = 1\n",
      "             End of function call for n = 1, returning 1\n",
      "         End of function call for n = 2, returning 1\n",
      "         Start of function call for n = 3\n",
      "             Start of function call for n = 1\n",
      "             End of function call for n = 1, returning 1\n",
      "             Start of function call for n = 2\n",
      "                 Start of function call for n = 0\n",
      "                 End of function call for n = 0, returning 0\n",
      "                 Start of function call for n = 1\n",
      "                 End of function call for n = 1, returning 1\n",
      "             End of function call for n = 2, returning 1\n",
      "         End of function call for n = 3, returning 2\n",
      "     End of function call for n = 4, returning 3\n",
      "     Start of function call for n = 5\n",
      "         Start of function call for n = 3\n",
      "             Start of function call for n = 1\n",
      "             End of function call for n = 1, returning 1\n",
      "             Start of function call for n = 2\n",
      "                 Start of function call for n = 0\n",
      "                 End of function call for n = 0, returning 0\n",
      "                 Start of function call for n = 1\n",
      "                 End of function call for n = 1, returning 1\n",
      "             End of function call for n = 2, returning 1\n",
      "         End of function call for n = 3, returning 2\n",
      "         Start of function call for n = 4\n",
      "             Start of function call for n = 2\n",
      "                 Start of function call for n = 0\n",
      "                 End of function call for n = 0, returning 0\n",
      "                 Start of function call for n = 1\n",
      "                 End of function call for n = 1, returning 1\n",
      "             End of function call for n = 2, returning 1\n",
      "             Start of function call for n = 3\n",
      "                 Start of function call for n = 1\n",
      "                 End of function call for n = 1, returning 1\n",
      "                 Start of function call for n = 2\n",
      "                     Start of function call for n = 0\n",
      "                     End of function call for n = 0, returning 0\n",
      "                     Start of function call for n = 1\n",
      "                     End of function call for n = 1, returning 1\n",
      "                 End of function call for n = 2, returning 1\n",
      "             End of function call for n = 3, returning 2\n",
      "         End of function call for n = 4, returning 3\n",
      "     End of function call for n = 5, returning 5\n",
      " End of function call for n = 6, returning 8\n"
     ]
    },
    {
     "data": {
      "text/plain": [
       "8"
      ]
     },
     "execution_count": 10,
     "metadata": {},
     "output_type": "execute_result"
    }
   ],
   "source": [
    "def trace_recursive_fibonacci(n, depth):\n",
    "    print('    ' * depth, 'Start of function call for n =', n)\n",
    "    if n >= 2:\n",
    "        second_previous = trace_recursive_fibonacci(n - 2, depth + 1)\n",
    "        previous = trace_recursive_fibonacci(n - 1, depth + 1)\n",
    "        print('    ' * depth, f'End of function call for n = {n}, returning',\n",
    "              second_previous + previous\n",
    "             )\n",
    "        return second_previous + previous\n",
    "    print('    ' * depth, f'End of function call for n = {n}, returning', n)\n",
    "    return n\n",
    "\n",
    "trace_recursive_fibonacci(6, 0)"
   ]
  },
  {
   "cell_type": "markdown",
   "metadata": {},
   "source": [
    "We can still save the recursive design by saving terms of the Fibonacci sequence as they get computed for the first time. As a result of processing the `def` statement below, a dictionary, `fibonacci`, is created and initialised with the values of the first two members of the Fibonacci sequence. Then the function `memoise_fibonacci()` is called, directly as `memoise_fibonacci(18)`, and indirectly as `memoise_fibonacci(18)` executes. For each of those calls, `memoise_fibonacci()` is given one argument only, so the second argument is set to its default value, namely, `fibonacci`, extended with a new key and associated value in case the condition of the `if` statement in the body of `memoise_fibonacci()` evaluates to `True`:"
   ]
  },
  {
   "cell_type": "code",
   "execution_count": null,
   "metadata": {},
   "outputs": [],
   "source": [
    "def memoise_fibonacci(n, fibonacci={0: 0, 1: 1}):\n",
    "    if n not in fibonacci:\n",
    "        fibonacci[n] = memoise_fibonacci(n - 2) + memoise_fibonacci(n - 1)\n",
    "    return fibonacci[n]\n",
    "\n",
    "memoise_fibonacci(18)"
   ]
  },
  {
   "cell_type": "markdown",
   "metadata": {},
   "source": [
    "Let us illustrate the mechanism for $n=6$ with the following tracing function:"
   ]
  },
  {
   "cell_type": "code",
   "execution_count": null,
   "metadata": {},
   "outputs": [],
   "source": [
    "def trace_memoise_fibonacci(n, depth, fibonacci={0: 0, 1: 1}):\n",
    "    print('    ' * depth, 'Start of function call for n =', n)\n",
    "    print('    ' * (depth + 1), f'fibonacci now is {fibonacci}; ', end = '')\n",
    "    if n not in fibonacci:\n",
    "        print('compute value')\n",
    "        fibonacci[n] = trace_memoise_fibonacci(n - 2, depth + 1)\\\n",
    "                       + trace_memoise_fibonacci(n - 1, depth + 1)\n",
    "    else:\n",
    "        print('retrieve value')\n",
    "    print('    ' * depth, f'End of function call for n = {n}, returning',\n",
    "          fibonacci[n]\n",
    "         )\n",
    "    return fibonacci[n]\n",
    "\n",
    "trace_memoise_fibonacci(6, 0)"
   ]
  },
  {
   "cell_type": "markdown",
   "metadata": {},
   "source": [
    "`memoise_fibonacci()` illustrates the fact that when a function argument has a default value, that default value is not created at every function call, but at the time when Python processes the function's `def` statement. This makes no difference for default values of a type such as `int`:"
   ]
  },
  {
   "cell_type": "code",
   "execution_count": null,
   "metadata": {},
   "outputs": [],
   "source": [
    " def f(x=0):\n",
    "    x += 1\n",
    "    return x\n",
    "\n",
    "# Create the argument 0 before calling f(), let x denote it, from the\n",
    "# value denoted by x and 1 create 1, let x denote it.\n",
    "f(0)\n",
    "f(1)\n",
    "f(2)\n",
    "# Let x denote the 0 created when def was processed, from the value\n",
    "# denoted by x and 1 create 1, let x denote it.\n",
    "f()\n",
    "f()\n",
    "f()"
   ]
  },
  {
   "cell_type": "markdown",
   "metadata": {},
   "source": [
    "But it makes a difference for default values of a type such as `list`:"
   ]
  },
  {
   "cell_type": "code",
   "execution_count": null,
   "metadata": {},
   "outputs": [],
   "source": [
    "def g(x=[0]):\n",
    "    x += [1]\n",
    "    return x\n",
    "\n",
    "# Create the argument [0] before calling g(), let x denote it, then\n",
    "# extend it to [0, 1], let x denote the modified list.\n",
    "g([0])\n",
    "g([1])\n",
    "g([2])\n",
    "# Let x denote the list L created when def was processed, then and now\n",
    "# equal to [0], then extend it to [0, 1], let x denote the modified L.\n",
    "g()\n",
    "# Let x denote the list L created when def was processed, now equal to\n",
    "# [0, 1], then extend it to [0, 1, 1], let x denote the modified L.\n",
    "g()\n",
    "g()"
   ]
  },
  {
   "cell_type": "markdown",
   "metadata": {},
   "source": [
    "What was good for `memoise_fibonacci()` might not be the intended behaviour for other functions, in other contexts: in case a function $F$ is called without an argument for a parameter $p$ that in $F$'s definition, receives a default value $v$, one might want $p$ to always be assigned that default value, not the value currently denoted by $p$ and possibly modified from the original value of $v$ following previous calls to $F$. One should then opt for a different design:"
   ]
  },
  {
   "cell_type": "code",
   "execution_count": null,
   "metadata": {},
   "outputs": [],
   "source": [
    "def h(x=None):\n",
    "    if x is None:\n",
    "        x = [0]\n",
    "    x += [1]\n",
    "    return x\n",
    "\n",
    "# Create the argument [0] before calling h(), let x denote it, then\n",
    "# extend it to [0, 1], let x denote the modified list.\n",
    "h([0])\n",
    "h([1])\n",
    "h([2])\n",
    "# Let x denote None, then create [0], let x denote it, then extend it to\n",
    "# [0, 1], let x denote the modified list.\n",
    "h()\n",
    "h()\n",
    "h()"
   ]
  },
  {
   "cell_type": "markdown",
   "metadata": {},
   "source": [
    "The `lru_cache()` (\"lru\" is for _Least Recently Used_) function from the `functools` module returns a function that can be used as a __decorator__ and applied to a function $F$ to yield a memoised version of $F$. By default, the `maxsize` argument of `lru_cache()` is set to `128`, to record up to the last 128 computed values of the function, as witnessed by the `cache_info()` attribute of the memoised version of $f$:"
   ]
  },
  {
   "cell_type": "code",
   "execution_count": 11,
   "metadata": {},
   "outputs": [
    {
     "data": {
      "text/plain": [
       "CacheInfo(hits=0, misses=0, maxsize=128, currsize=0)"
      ]
     },
     "execution_count": 11,
     "metadata": {},
     "output_type": "execute_result"
    }
   ],
   "source": [
    "@lru_cache()\n",
    "def lru_fibonacci(n):\n",
    "    if n < 2:\n",
    "        return n\n",
    "    return lru_fibonacci(n - 1) + lru_fibonacci(n - 2)\n",
    "\n",
    "lru_fibonacci.cache_info()"
   ]
  },
  {
   "cell_type": "markdown",
   "metadata": {},
   "source": [
    "Suppose that `lru_fibonacci()` is called for the first time with 2 as argument. Since `lru_fibonacci(2)` has not been computed yet, `lru_fibonacci(1)` and `lru_fibonacci(0)` are called, which both have not been computed yet either: a total of 3 values fail to be retrieved (3 misses). The last two values are computed and recorded, then the former value is computed and recorded, and the cache eventually stores those 3 values:"
   ]
  },
  {
   "cell_type": "code",
   "execution_count": 12,
   "metadata": {},
   "outputs": [
    {
     "data": {
      "text/plain": [
       "1"
      ]
     },
     "execution_count": 12,
     "metadata": {},
     "output_type": "execute_result"
    },
    {
     "data": {
      "text/plain": [
       "CacheInfo(hits=0, misses=3, maxsize=128, currsize=3)"
      ]
     },
     "execution_count": 12,
     "metadata": {},
     "output_type": "execute_result"
    }
   ],
   "source": [
    "lru_fibonacci(2)\n",
    "lru_fibonacci.cache_info()"
   ]
  },
  {
   "cell_type": "markdown",
   "metadata": {},
   "source": [
    "Calling `lru_fibonacci(2)` again, the value is found in the cache (1 hit):"
   ]
  },
  {
   "cell_type": "code",
   "execution_count": 13,
   "metadata": {},
   "outputs": [
    {
     "data": {
      "text/plain": [
       "1"
      ]
     },
     "execution_count": 13,
     "metadata": {},
     "output_type": "execute_result"
    },
    {
     "data": {
      "text/plain": [
       "CacheInfo(hits=1, misses=3, maxsize=128, currsize=3)"
      ]
     },
     "execution_count": 13,
     "metadata": {},
     "output_type": "execute_result"
    }
   ],
   "source": [
    "lru_fibonacci(2)\n",
    "lru_fibonacci.cache_info()"
   ]
  },
  {
   "cell_type": "markdown",
   "metadata": {},
   "source": [
    "When calling `lru_fibonacci(3)`, the value fails to be found in the cache (1 more miss), so `lru_fibonacci(2)` and `lru_fibonacci(1)` are called and retrieved from the cache (2 more hits), and the computed value of `lru_fibonacci(3)` is added to the cache:"
   ]
  },
  {
   "cell_type": "code",
   "execution_count": 14,
   "metadata": {},
   "outputs": [
    {
     "data": {
      "text/plain": [
       "2"
      ]
     },
     "execution_count": 14,
     "metadata": {},
     "output_type": "execute_result"
    },
    {
     "data": {
      "text/plain": [
       "CacheInfo(hits=3, misses=4, maxsize=128, currsize=4)"
      ]
     },
     "execution_count": 14,
     "metadata": {},
     "output_type": "execute_result"
    }
   ],
   "source": [
    "lru_fibonacci(3)\n",
    "lru_fibonacci.cache_info()"
   ]
  },
  {
   "cell_type": "markdown",
   "metadata": {},
   "source": [
    "The cache can be cleared with the `cache_clear()` attribute of the memoised version of the function. Then calling `lru_fibonacci(3)` necessitates to call `lru_fibonacci(2)` and `lru_fibonacci(1)`, calling `lru_fibonacci(2)` necessitates to call `lru_fibonacci(1)` and `lru_fibonacci(0)`, for a total of 4 misses that are computed and all stored in the cache: "
   ]
  },
  {
   "cell_type": "code",
   "execution_count": 15,
   "metadata": {},
   "outputs": [
    {
     "data": {
      "text/plain": [
       "2"
      ]
     },
     "execution_count": 15,
     "metadata": {},
     "output_type": "execute_result"
    },
    {
     "data": {
      "text/plain": [
       "CacheInfo(hits=1, misses=4, maxsize=128, currsize=4)"
      ]
     },
     "execution_count": 15,
     "metadata": {},
     "output_type": "execute_result"
    }
   ],
   "source": [
    "lru_fibonacci.cache_clear()\n",
    "lru_fibonacci(3)\n",
    "lru_fibonacci.cache_info()"
   ]
  },
  {
   "cell_type": "markdown",
   "metadata": {},
   "source": [
    "Clearing the cache again, calling `lru_fibonacci(128)` necessitates to call for the first time `lru_fibonacci(128)`, ..., `lru_fibonacci(0)` (129 misses). When calling `lru_fibonacci(2)` for the first time, `lru_fibonacci(1)` could be called before `lru_fibonacci(0)` or the other way around. Execution of the following cell reveals that `lru_fibonacci(0)` is called first; its value leaves the cache after the values of `lru_fibonacci(1)`, ..., `lru_fibonacci(128)` have then been computed and recorded. When `lru_fibonacci(3)` is computed, `lru_fibonacci(1)` is retrieved (whether `lru_fibonacci(1)` or `lru_fibonacci(2)` is computed first), ..., when `lru_fibonacci(128)` is computed, `lru_fibonacci(126)` is retrieved (whether `lru_fibonacci(126)` or `lru_fibonacci(127)` is computed first), for a total of 126 hits:"
   ]
  },
  {
   "cell_type": "code",
   "execution_count": 16,
   "metadata": {},
   "outputs": [
    {
     "data": {
      "text/plain": [
       "251728825683549488150424261"
      ]
     },
     "execution_count": 16,
     "metadata": {},
     "output_type": "execute_result"
    },
    {
     "data": {
      "text/plain": [
       "CacheInfo(hits=126, misses=129, maxsize=128, currsize=128)"
      ]
     },
     "execution_count": 16,
     "metadata": {},
     "output_type": "execute_result"
    },
    {
     "data": {
      "text/plain": [
       "1"
      ]
     },
     "execution_count": 16,
     "metadata": {},
     "output_type": "execute_result"
    },
    {
     "data": {
      "text/plain": [
       "CacheInfo(hits=127, misses=129, maxsize=128, currsize=128)"
      ]
     },
     "execution_count": 16,
     "metadata": {},
     "output_type": "execute_result"
    },
    {
     "data": {
      "text/plain": [
       "0"
      ]
     },
     "execution_count": 16,
     "metadata": {},
     "output_type": "execute_result"
    },
    {
     "data": {
      "text/plain": [
       "CacheInfo(hits=127, misses=130, maxsize=128, currsize=128)"
      ]
     },
     "execution_count": 16,
     "metadata": {},
     "output_type": "execute_result"
    }
   ],
   "source": [
    "lru_fibonacci.cache_clear()\n",
    "lru_fibonacci(128)\n",
    "lru_fibonacci.cache_info()\n",
    "lru_fibonacci(1)\n",
    "lru_fibonacci.cache_info()\n",
    "lru_fibonacci(0)\n",
    "lru_fibonacci.cache_info()"
   ]
  },
  {
   "cell_type": "markdown",
   "metadata": {},
   "source": [
    "The capacity of the cache can be left unbounded by setting the value of the `maxsize` argument of `lru_cache()` to `None`:"
   ]
  },
  {
   "cell_type": "code",
   "execution_count": 17,
   "metadata": {},
   "outputs": [],
   "source": [
    "@lru_cache(None)\n",
    "def unbounded_lru_fibonacci(n):\n",
    "    if n < 2:\n",
    "        return n\n",
    "    return unbounded_lru_fibonacci(n - 1) + unbounded_lru_fibonacci(n - 2)"
   ]
  },
  {
   "cell_type": "code",
   "execution_count": 18,
   "metadata": {},
   "outputs": [
    {
     "data": {
      "text/plain": [
       "9969216677189303386214405760200"
      ]
     },
     "execution_count": 18,
     "metadata": {},
     "output_type": "execute_result"
    },
    {
     "data": {
      "text/plain": [
       "CacheInfo(hits=148, misses=151, maxsize=None, currsize=151)"
      ]
     },
     "execution_count": 18,
     "metadata": {},
     "output_type": "execute_result"
    }
   ],
   "source": [
    "unbounded_lru_fibonacci(150)\n",
    "unbounded_lru_fibonacci.cache_info()"
   ]
  },
  {
   "cell_type": "markdown",
   "metadata": {},
   "source": [
    "The argument `maxsize` of `lru_cache()` can also be set to any integer value. Let us set it to 4 and first call `bounded_lru_fibonacci(8)`. Then `bounded_lru_fibonacci(8)`, `bounded_lru_fibonacci(7)`, `bounded_lru_fibonacci(6)` and `bounded_lru_fibonacci(5)` are last called and recorded. If `bounded_lru_fibonacci(5)` is then called, its value is retrieved (1 more hit). And if `bounded_lru_fibonacci(4)` is thereafter called, `bounded_lru_fibonacci(4)`, ..., `bounded_lru_fibonacci(0)` have to be recomputed (5 more misses), with `bounded_lru_fibonacci(2)` and `bounded_lru_fibonacci(1)` being retrieved in the process (2 more hits):"
   ]
  },
  {
   "cell_type": "code",
   "execution_count": 19,
   "metadata": {},
   "outputs": [],
   "source": [
    "@lru_cache(4)\n",
    "def bounded_lru_fibonacci(n):\n",
    "    if n < 2:\n",
    "        return n\n",
    "    return bounded_lru_fibonacci(n - 1) + bounded_lru_fibonacci(n - 2)"
   ]
  },
  {
   "cell_type": "code",
   "execution_count": 20,
   "metadata": {},
   "outputs": [
    {
     "data": {
      "text/plain": [
       "21"
      ]
     },
     "execution_count": 20,
     "metadata": {},
     "output_type": "execute_result"
    },
    {
     "data": {
      "text/plain": [
       "CacheInfo(hits=6, misses=9, maxsize=4, currsize=4)"
      ]
     },
     "execution_count": 20,
     "metadata": {},
     "output_type": "execute_result"
    },
    {
     "data": {
      "text/plain": [
       "5"
      ]
     },
     "execution_count": 20,
     "metadata": {},
     "output_type": "execute_result"
    },
    {
     "data": {
      "text/plain": [
       "CacheInfo(hits=7, misses=9, maxsize=4, currsize=4)"
      ]
     },
     "execution_count": 20,
     "metadata": {},
     "output_type": "execute_result"
    },
    {
     "data": {
      "text/plain": [
       "3"
      ]
     },
     "execution_count": 20,
     "metadata": {},
     "output_type": "execute_result"
    },
    {
     "data": {
      "text/plain": [
       "CacheInfo(hits=9, misses=14, maxsize=4, currsize=4)"
      ]
     },
     "execution_count": 20,
     "metadata": {},
     "output_type": "execute_result"
    }
   ],
   "source": [
    "bounded_lru_fibonacci(8)\n",
    "bounded_lru_fibonacci.cache_info()\n",
    "bounded_lru_fibonacci(5)\n",
    "bounded_lru_fibonacci.cache_info()\n",
    "bounded_lru_fibonacci(4)\n",
    "bounded_lru_fibonacci.cache_info()"
   ]
  },
  {
   "cell_type": "markdown",
   "metadata": {},
   "source": [
    "Set $\\varphi=\\frac{1+\\sqrt{5}}{2}$ and $\\psi=\\frac{1-\\sqrt{5}}{2}$. For all $n\\in\\mathbb N$, $\\bigl(\\frac{1\\pm\\sqrt{5}}{2}\\bigr)^{n+2}=\\bigl(\\frac{1\\pm\\sqrt{5}}{2}\\bigr)^n\\frac{1\\pm2\\sqrt{5}+5}{4}=(\\frac{1\\pm\\sqrt{5}}{2})^n+(\\frac{1\\pm\\sqrt{5}}{2})^n\\frac{1\\pm\\sqrt{5}}{2}$, hence for $x=\\varphi$ or $x=\\psi$, $x^{n+2}=x^n+x^{n+1}$. Let integers $a$ and $b$ be given, and for all $n\\in\\mathbb N$, let $s_n$ denote $a\\varphi^n+b\\psi^n$. It follows from the previous equalities (one for $x=\\varphi$, one for $x=\\psi$) that for all $n\\in\\mathbb N$, $s_{n+2}=s_n+s_{n+1}$. So $(s_n)_{n\\in\\mathbf N}=(F_n)_{n\\in\\mathbf N}$ iff $s_0=0$ and $s_1=1$, which is equivalent to the two equalities $a+b=0$ and $a\\varphi+b\\psi=0$, which is equivalent to $a=\\frac{1}{\\varphi-\\psi}$ and $b=-a$, so $a=\\frac{1}{\\sqrt{5}}$ and $b=-\\frac{1}{\\sqrt{5}}$. Hence for all $n\\in\\mathbb N$,\n",
    "\n",
    "\\begin{equation*}\n",
    "F_n=\\frac{1}{\\sqrt{5}}\\Bigl[\\Bigl(\\frac{1+\\sqrt{5}}{2}\\Bigr)^n-\\Bigl(\\frac{1-\\sqrt{5}}{2}\\Bigr)^n\\Bigr]\n",
    "\\end{equation*}\n",
    "\n",
    "This is the _closed-form expression_ of the Fibonacci numbers. Note that $\\bigl|\\frac{1}{\\sqrt{5}}\\frac{1-\\sqrt{5}}{2}\\bigr|<\\frac{1}{2}$, hence $F_n$ can be computed as $\\frac{1}{\\sqrt{5}}\\bigl(\\frac{1+\\sqrt{5}}{2}\\bigr)^n$ rounded to the closest integer, resulting in a simpler calculation:"
   ]
  },
  {
   "cell_type": "code",
   "execution_count": 21,
   "metadata": {},
   "outputs": [],
   "source": [
    "def closed_form_fibonacci(n):\n",
    "    sqrt_5 = sqrt(5)\n",
    "    return round(1 / sqrt_5 * ((1 + sqrt_5) / 2) ** n)\n"
   ]
  },
  {
   "cell_type": "markdown",
   "metadata": {},
   "source": [
    "But of course, due to the limited precision of floating point computation, it does not need a large input for `closed_form_fibonacci()` to fail and produce the correct result:"
   ]
  },
  {
   "cell_type": "code",
   "execution_count": 22,
   "metadata": {},
   "outputs": [
    {
     "name": "stdout",
     "output_type": "stream",
     "text": [
      "71th term of the sequence is 308061521170129, incorrectly computed as 308061521170130.\n"
     ]
    }
   ],
   "source": [
    "n = 0\n",
    "correct_sequence = fibonacci_sequence()\n",
    "while True:\n",
    "    correct = next(correct_sequence)\n",
    "    maybe_incorrect = closed_form_fibonacci(n)\n",
    "    if maybe_incorrect != correct:\n",
    "        print(f'{n}th term of the sequence is {correct}, '\n",
    "              f'incorrectly computed as {maybe_incorrect}.'\n",
    "             )\n",
    "        break\n",
    "    n += 1    "
   ]
  },
  {
   "cell_type": "code",
   "execution_count": null,
   "metadata": {},
   "outputs": [],
   "source": []
  }
 ],
 "metadata": {
  "kernelspec": {
   "display_name": "Python 3 (ipykernel)",
   "language": "python",
   "name": "python3"
  },
  "language_info": {
   "codemirror_mode": {
    "name": "ipython",
    "version": 3
   },
   "file_extension": ".py",
   "mimetype": "text/x-python",
   "name": "python",
   "nbconvert_exporter": "python",
   "pygments_lexer": "ipython3",
   "version": "3.11.0"
  },
  "latex_envs": {
   "LaTeX_envs_menu_present": true,
   "autoclose": false,
   "autocomplete": true,
   "bibliofile": "biblio.bib",
   "cite_by": "apalike",
   "current_citInitial": 1,
   "eqLabelWithNumbers": true,
   "eqNumInitial": 1,
   "hotkeys": {
    "equation": "Ctrl-E",
    "itemize": "Ctrl-I"
   },
   "labels_anchors": false,
   "latex_user_defs": false,
   "report_style_numbering": false,
   "user_envs_cfg": false
  },
  "toc": {
   "base_numbering": 1,
   "nav_menu": {},
   "number_sections": true,
   "sideBar": true,
   "skip_h1_title": false,
   "title_cell": "Table of Contents",
   "title_sidebar": "Contents",
   "toc_cell": false,
   "toc_position": {},
   "toc_section_display": true,
   "toc_window_display": false
  },
  "widgets": {
   "application/vnd.jupyter.widget-state+json": {
    "state": {},
    "version_major": 2,
    "version_minor": 0
   }
  }
 },
 "nbformat": 4,
 "nbformat_minor": 4
}
