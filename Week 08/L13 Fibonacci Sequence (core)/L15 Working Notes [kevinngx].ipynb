{
 "cells": [
  {
   "cell_type": "code",
   "execution_count": 2,
   "id": "89b59869",
   "metadata": {},
   "outputs": [],
   "source": [
    "from IPython.core.interactiveshell import InteractiveShell\n",
    "InteractiveShell.ast_node_interactivity = 'all'"
   ]
  },
  {
   "cell_type": "code",
   "execution_count": 3,
   "id": "c031796e",
   "metadata": {},
   "outputs": [],
   "source": [
    "from functools import lru_cache\n",
    "from math import sqrt"
   ]
  },
  {
   "cell_type": "code",
   "execution_count": 4,
   "id": "86e7be0d",
   "metadata": {},
   "outputs": [],
   "source": [
    "def fibonacci_sequence():\n",
    "    yield 0\n",
    "    yield 1\n",
    "    previous, current = 0, 1\n",
    "    while True:\n",
    "        previous, current = current, previous + current\n",
    "        yield current"
   ]
  },
  {
   "cell_type": "code",
   "execution_count": 5,
   "id": "4cd94a63",
   "metadata": {},
   "outputs": [],
   "source": [
    "S = fibonacci_sequence()"
   ]
  },
  {
   "cell_type": "code",
   "execution_count": 6,
   "id": "615ce2ca",
   "metadata": {},
   "outputs": [
    {
     "data": {
      "text/plain": [
       "[0, 1, 1, 2, 3, 5, 8, 13, 21, 34, 55, 89, 144, 233, 377, 610, 987, 1597, 2584]"
      ]
     },
     "execution_count": 6,
     "metadata": {},
     "output_type": "execute_result"
    }
   ],
   "source": [
    "list(next(S) for _ in range(19))"
   ]
  },
  {
   "cell_type": "code",
   "execution_count": 15,
   "id": "738413e8",
   "metadata": {},
   "outputs": [
    {
     "data": {
      "text/plain": [
       "2584"
      ]
     },
     "execution_count": 15,
     "metadata": {},
     "output_type": "execute_result"
    }
   ],
   "source": [
    "from IPython.display import clear_output\n",
    "\n",
    "S = fibonacci_sequence()\n",
    "for _ in range(18):\n",
    "    next(S)\n",
    "    clear_output()\n",
    "next(S)"
   ]
  },
  {
   "cell_type": "code",
   "execution_count": null,
   "id": "709a6e9c",
   "metadata": {},
   "outputs": [],
   "source": [
    "def iterative_fibonacci(n):\n",
    "    if n < 2:\n",
    "        return n\n",
    "    previous, current = 0, 1\n",
    "    for _ in range(2, n + 1):\n",
    "        previous, current = current, previous + current\n",
    "    return current\n"
   ]
  },
  {
   "cell_type": "code",
   "execution_count": 17,
   "id": "75c5993f",
   "metadata": {},
   "outputs": [],
   "source": [
    "def recursive_fibonacci(n):\n",
    "    if n >= 2:\n",
    "        return recursive_fibonacci(n-2) + recursive_fibonacci(n-1)\n",
    "    return n"
   ]
  },
  {
   "cell_type": "code",
   "execution_count": 18,
   "id": "f8beb0a6",
   "metadata": {},
   "outputs": [
    {
     "data": {
      "text/plain": [
       "2584"
      ]
     },
     "execution_count": 18,
     "metadata": {},
     "output_type": "execute_result"
    }
   ],
   "source": [
    "recursive_fibonacci(18)"
   ]
  },
  {
   "cell_type": "code",
   "execution_count": 20,
   "id": "678e3a02",
   "metadata": {},
   "outputs": [
    {
     "name": "stdout",
     "output_type": "stream",
     "text": [
      " start of function call for n =  6\n",
      "     start of function call for n =  4\n",
      "         start of function call for n =  2\n",
      "             start of function call for n =  0\n",
      "             End of function call for n = 0, returning n 0\n",
      "             start of function call for n =  1\n",
      "             End of function call for n = 1, returning n 1\n",
      "         End of function call for n = 2, returning 1\n",
      "         start of function call for n =  3\n",
      "             start of function call for n =  1\n",
      "             End of function call for n = 1, returning n 1\n",
      "             start of function call for n =  2\n",
      "                 start of function call for n =  0\n",
      "                 End of function call for n = 0, returning n 0\n",
      "                 start of function call for n =  1\n",
      "                 End of function call for n = 1, returning n 1\n",
      "             End of function call for n = 2, returning 1\n",
      "         End of function call for n = 3, returning 2\n",
      "     End of function call for n = 4, returning 3\n",
      "     start of function call for n =  5\n",
      "         start of function call for n =  3\n",
      "             start of function call for n =  1\n",
      "             End of function call for n = 1, returning n 1\n",
      "             start of function call for n =  2\n",
      "                 start of function call for n =  0\n",
      "                 End of function call for n = 0, returning n 0\n",
      "                 start of function call for n =  1\n",
      "                 End of function call for n = 1, returning n 1\n",
      "             End of function call for n = 2, returning 1\n",
      "         End of function call for n = 3, returning 2\n",
      "         start of function call for n =  4\n",
      "             start of function call for n =  2\n",
      "                 start of function call for n =  0\n",
      "                 End of function call for n = 0, returning n 0\n",
      "                 start of function call for n =  1\n",
      "                 End of function call for n = 1, returning n 1\n",
      "             End of function call for n = 2, returning 1\n",
      "             start of function call for n =  3\n",
      "                 start of function call for n =  1\n",
      "                 End of function call for n = 1, returning n 1\n",
      "                 start of function call for n =  2\n",
      "                     start of function call for n =  0\n",
      "                     End of function call for n = 0, returning n 0\n",
      "                     start of function call for n =  1\n",
      "                     End of function call for n = 1, returning n 1\n",
      "                 End of function call for n = 2, returning 1\n",
      "             End of function call for n = 3, returning 2\n",
      "         End of function call for n = 4, returning 3\n",
      "     End of function call for n = 5, returning 5\n",
      " End of function call for n = 6, returning 8\n"
     ]
    },
    {
     "data": {
      "text/plain": [
       "8"
      ]
     },
     "execution_count": 20,
     "metadata": {},
     "output_type": "execute_result"
    }
   ],
   "source": [
    "def trace_recursive_fibonacci(n, depth=0):\n",
    "    print('    ' * depth, 'start of function call for n = ', n)\n",
    "    if n >= 2:\n",
    "        second_previous = trace_recursive_fibonacci(n-2, depth + 1)\n",
    "        previous = trace_recursive_fibonacci(n-1, depth + 1)\n",
    "        print('    ' * depth, f'End of function call for n = {n}, returning',\n",
    "              second_previous + previous\n",
    "             )\n",
    "        return second_previous + previous\n",
    "    print('    ' * depth, f'End of function call for n = {n}, returning n', n)\n",
    "    return n\n",
    "trace_recursive_fibonacci(6)"
   ]
  },
  {
   "cell_type": "code",
   "execution_count": 24,
   "id": "08f44c71",
   "metadata": {},
   "outputs": [
    {
     "data": {
      "text/plain": [
       "2584"
      ]
     },
     "execution_count": 24,
     "metadata": {},
     "output_type": "execute_result"
    }
   ],
   "source": [
    "def memoise_fibonacci(n, fibonacci={0: 0, 1: 1}):\n",
    "    if n not in fibonacci:\n",
    "        fibonacci[n] = memoise_fibonacci(n-2) + memoise_fibonacci(n-1)\n",
    "    return fibonacci[n]\n",
    "memoise_fibonacci(18)"
   ]
  },
  {
   "cell_type": "code",
   "execution_count": 25,
   "id": "2fad45dc",
   "metadata": {},
   "outputs": [
    {
     "name": "stdout",
     "output_type": "stream",
     "text": [
      " Start of function call for n = 6\n",
      "     fibonacci now is {0: 0, 1: 1}; compute value\n",
      "     Start of function call for n = 4\n",
      "         fibonacci now is {0: 0, 1: 1}; compute value\n",
      "         Start of function call for n = 2\n",
      "             fibonacci now is {0: 0, 1: 1}; compute value\n",
      "             Start of function call for n = 0\n",
      "                 fibonacci now is {0: 0, 1: 1}; retrieve value\n",
      "             End of function call for n = 0, returning 0\n",
      "             Start of function call for n = 1\n",
      "                 fibonacci now is {0: 0, 1: 1}; retrieve value\n",
      "             End of function call for n = 1, returning 1\n",
      "         End of function call for n = 2, returning 1\n",
      "         Start of function call for n = 3\n",
      "             fibonacci now is {0: 0, 1: 1, 2: 1}; compute value\n",
      "             Start of function call for n = 1\n",
      "                 fibonacci now is {0: 0, 1: 1, 2: 1}; retrieve value\n",
      "             End of function call for n = 1, returning 1\n",
      "             Start of function call for n = 2\n",
      "                 fibonacci now is {0: 0, 1: 1, 2: 1}; retrieve value\n",
      "             End of function call for n = 2, returning 1\n",
      "         End of function call for n = 3, returning 2\n",
      "     End of function call for n = 4, returning 3\n",
      "     Start of function call for n = 5\n",
      "         fibonacci now is {0: 0, 1: 1, 2: 1, 3: 2, 4: 3}; compute value\n",
      "         Start of function call for n = 3\n",
      "             fibonacci now is {0: 0, 1: 1, 2: 1, 3: 2, 4: 3}; retrieve value\n",
      "         End of function call for n = 3, returning 2\n",
      "         Start of function call for n = 4\n",
      "             fibonacci now is {0: 0, 1: 1, 2: 1, 3: 2, 4: 3}; retrieve value\n",
      "         End of function call for n = 4, returning 3\n",
      "     End of function call for n = 5, returning 5\n",
      " End of function call for n = 6, returning 8\n"
     ]
    },
    {
     "data": {
      "text/plain": [
       "8"
      ]
     },
     "execution_count": 25,
     "metadata": {},
     "output_type": "execute_result"
    }
   ],
   "source": [
    "def trace_memoise_fibonacci(n, depth, fibonacci={0: 0, 1: 1}):\n",
    "    print('    ' * depth, 'Start of function call for n =', n)\n",
    "    print('    ' * (depth + 1), f'fibonacci now is {fibonacci}; ', end = '')\n",
    "    if n not in fibonacci:\n",
    "        print('compute value')\n",
    "        fibonacci[n] = trace_memoise_fibonacci(n - 2, depth + 1)\\\n",
    "                       + trace_memoise_fibonacci(n - 1, depth + 1)\n",
    "    else:\n",
    "        print('retrieve value')\n",
    "    print('    ' * depth, f'End of function call for n = {n}, returning',\n",
    "          fibonacci[n]\n",
    "         )\n",
    "    return fibonacci[n]\n",
    "\n",
    "trace_memoise_fibonacci(6, 0)"
   ]
  },
  {
   "cell_type": "code",
   "execution_count": 26,
   "id": "76e21154",
   "metadata": {},
   "outputs": [],
   "source": [
    "def f(x=0):\n",
    "    x += 1\n",
    "    return x"
   ]
  },
  {
   "cell_type": "code",
   "execution_count": 30,
   "id": "4b166dbe",
   "metadata": {},
   "outputs": [
    {
     "data": {
      "text/plain": [
       "1"
      ]
     },
     "execution_count": 30,
     "metadata": {},
     "output_type": "execute_result"
    },
    {
     "data": {
      "text/plain": [
       "2"
      ]
     },
     "execution_count": 30,
     "metadata": {},
     "output_type": "execute_result"
    },
    {
     "data": {
      "text/plain": [
       "3"
      ]
     },
     "execution_count": 30,
     "metadata": {},
     "output_type": "execute_result"
    },
    {
     "name": "stdout",
     "output_type": "stream",
     "text": [
      "\n"
     ]
    },
    {
     "data": {
      "text/plain": [
       "1"
      ]
     },
     "execution_count": 30,
     "metadata": {},
     "output_type": "execute_result"
    },
    {
     "data": {
      "text/plain": [
       "1"
      ]
     },
     "execution_count": 30,
     "metadata": {},
     "output_type": "execute_result"
    },
    {
     "data": {
      "text/plain": [
       "1"
      ]
     },
     "execution_count": 30,
     "metadata": {},
     "output_type": "execute_result"
    }
   ],
   "source": [
    "f(0)\n",
    "f(1)\n",
    "f(2)\n",
    "print()\n",
    "f()\n",
    "f()\n",
    "f()"
   ]
  },
  {
   "cell_type": "code",
   "execution_count": 31,
   "id": "b01f12db",
   "metadata": {},
   "outputs": [],
   "source": [
    "def g(x=[0]):\n",
    "    x += [1]\n",
    "    return x"
   ]
  },
  {
   "cell_type": "code",
   "execution_count": 32,
   "id": "659fe9b7",
   "metadata": {},
   "outputs": [
    {
     "data": {
      "text/plain": [
       "[0, 1]"
      ]
     },
     "execution_count": 32,
     "metadata": {},
     "output_type": "execute_result"
    },
    {
     "data": {
      "text/plain": [
       "[1, 1]"
      ]
     },
     "execution_count": 32,
     "metadata": {},
     "output_type": "execute_result"
    },
    {
     "data": {
      "text/plain": [
       "[2, 1]"
      ]
     },
     "execution_count": 32,
     "metadata": {},
     "output_type": "execute_result"
    },
    {
     "data": {
      "text/plain": [
       "[0, 1]"
      ]
     },
     "execution_count": 32,
     "metadata": {},
     "output_type": "execute_result"
    },
    {
     "data": {
      "text/plain": [
       "[0, 1, 1]"
      ]
     },
     "execution_count": 32,
     "metadata": {},
     "output_type": "execute_result"
    },
    {
     "data": {
      "text/plain": [
       "[0, 1, 1, 1]"
      ]
     },
     "execution_count": 32,
     "metadata": {},
     "output_type": "execute_result"
    }
   ],
   "source": [
    "# Create the argument [0] before calling g(), let x denote it, then\n",
    "# extend it to [0, 1], let x denote the modified list.\n",
    "g([0])\n",
    "g([1])\n",
    "g([2])\n",
    "# Let x denote the list L created when def was processed, then and now\n",
    "# equal to [0], then extend it to [0, 1], let x denote the modified L.\n",
    "g()\n",
    "# Let x denote the list L created when def was processed, now equal to\n",
    "# [0, 1], then extend it to [0, 1, 1], let x denote the modified L.\n",
    "g()\n",
    "g()"
   ]
  },
  {
   "cell_type": "code",
   "execution_count": 33,
   "id": "57cced27",
   "metadata": {},
   "outputs": [
    {
     "data": {
      "text/plain": [
       "[0, 1]"
      ]
     },
     "execution_count": 33,
     "metadata": {},
     "output_type": "execute_result"
    },
    {
     "data": {
      "text/plain": [
       "[1, 1]"
      ]
     },
     "execution_count": 33,
     "metadata": {},
     "output_type": "execute_result"
    },
    {
     "data": {
      "text/plain": [
       "[2, 1]"
      ]
     },
     "execution_count": 33,
     "metadata": {},
     "output_type": "execute_result"
    },
    {
     "data": {
      "text/plain": [
       "[0, 1]"
      ]
     },
     "execution_count": 33,
     "metadata": {},
     "output_type": "execute_result"
    },
    {
     "data": {
      "text/plain": [
       "[0, 1]"
      ]
     },
     "execution_count": 33,
     "metadata": {},
     "output_type": "execute_result"
    },
    {
     "data": {
      "text/plain": [
       "[0, 1]"
      ]
     },
     "execution_count": 33,
     "metadata": {},
     "output_type": "execute_result"
    }
   ],
   "source": [
    "def h(x=None):\n",
    "    if x is None:\n",
    "        x = [0]\n",
    "    x += [1]\n",
    "    return x\n",
    "\n",
    "# Create the argument [0] before calling h(), let x denote it, then\n",
    "# extend it to [0, 1], let x denote the modified list.\n",
    "h([0])\n",
    "h([1])\n",
    "h([2])\n",
    "# Let x denote None, then create [0], let x denote it, then extend it to\n",
    "# [0, 1], let x denote the modified list.\n",
    "h()\n",
    "h()\n",
    "h()"
   ]
  },
  {
   "cell_type": "code",
   "execution_count": 34,
   "id": "3df4880f",
   "metadata": {},
   "outputs": [
    {
     "data": {
      "text/plain": [
       "CacheInfo(hits=0, misses=0, maxsize=128, currsize=0)"
      ]
     },
     "execution_count": 34,
     "metadata": {},
     "output_type": "execute_result"
    }
   ],
   "source": [
    "@lru_cache()\n",
    "def lru_fibonacci(n):\n",
    "    if n < 2:\n",
    "        return n\n",
    "    return lru_fibonacci(n - 1) + lru_fibonacci(n - 2)\n",
    "\n",
    "lru_fibonacci.cache_info()"
   ]
  },
  {
   "cell_type": "code",
   "execution_count": null,
   "id": "e2e68a83",
   "metadata": {},
   "outputs": [],
   "source": []
  }
 ],
 "metadata": {
  "kernelspec": {
   "display_name": "Python 3 (ipykernel)",
   "language": "python",
   "name": "python3"
  },
  "language_info": {
   "codemirror_mode": {
    "name": "ipython",
    "version": 3
   },
   "file_extension": ".py",
   "mimetype": "text/x-python",
   "name": "python",
   "nbconvert_exporter": "python",
   "pygments_lexer": "ipython3",
   "version": "3.11.0"
  },
  "vscode": {
   "interpreter": {
    "hash": "fb4a468b23ae772b99bd54f465a6eab9630ea5075332d07f1e912da887985c6f"
   }
  }
 },
 "nbformat": 4,
 "nbformat_minor": 5
}
