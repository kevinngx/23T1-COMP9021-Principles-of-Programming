{
 "cells": [
  {
   "cell_type": "markdown",
   "metadata": {},
   "source": [
    "<center><font size='5'>The towers of Hanoi</font></center>\n",
    "<center><font size='3'>Eric Martin, CSE, UNSW</font></center>\n",
    "<center><font size='3'>COMP9021 Principles of Programming</font></center>"
   ]
  },
  {
   "cell_type": "code",
   "execution_count": 1,
   "metadata": {
    "jupyter": {
     "source_hidden": true
    },
    "tags": []
   },
   "outputs": [],
   "source": [
    "# Does not need to be executed if\n",
    "# ~/.ipython/profile_default/ipython_config.py\n",
    "# exists and contains:\n",
    "# c.InteractiveShell.ast_node_interactivity = 'all'\n",
    "\n",
    "from IPython.core.interactiveshell import InteractiveShell\n",
    "InteractiveShell.ast_node_interactivity = 'all'"
   ]
  },
  {
   "cell_type": "code",
   "execution_count": 2,
   "metadata": {
    "jupyter": {
     "source_hidden": true
    },
    "tags": []
   },
   "outputs": [],
   "source": [
    "# import zipfile\n",
    "# with zipfile.ZipFile('Illustrations.zip') as illustrations:\n",
    "#     illustrations.extractall('.')"
   ]
  },
  {
   "cell_type": "markdown",
   "metadata": {},
   "source": [
    "Let $n$ be an integer at least equal to 1. Consider 3 positions, referred to as start position, end position and extra position, or as 0, 1 and 2. A total of $n$ disks all of different sizes, stacked at start position, have to be displaced to end position, thanks to a succession of moves each of which consists of removing the disk at the top of a stack and bringing it to the top of another (possibly empty) stack. At any stage of the game, no disk should be above a smaller disk; in particular, at the beginning and at the end of the game, all disks are stacked from largest to smallest.\n",
    "\n",
    "It is necessary to eventually move the largest disk from position 0 to position 2. That is possible only when the $n-1$ smaller disks have been displaced from position 0 and stacked at position 1. Then, with the largest disk having found its final position at the base of position 2, those disks have to be displaced from position 1 and stacked at position 2. This is illustrated as follows for $n=4$.\n",
    "\n",
    "Initial configuration:\n",
    "\n",
    "<div><img src=\"Illustrations/stage_1.pdf\" width=\"600\"/></div>\n",
    "\n",
    "After the $n-1$ smaller disks have been displaced from position 0 to position 1:\n",
    "\n",
    "<div><img src=\"Illustrations/stage_2.pdf\" width=\"600\"/></div>\n",
    "\n",
    "Largest disk moved from position 0 to position 2:\n",
    "\n",
    "<div><img src=\"Illustrations/stage_3.pdf\" width=\"600\"/></div>\n",
    "\n",
    "Final configuration, after the $n-1$ smaller disks have been displaced from position 1 to position 2:\n",
    "\n",
    "<div><img src=\"Illustrations/stage_4.pdf\" width=\"600\"/></div>\n",
    "\n",
    "Formulate the problem as: displace all disks, in accordance with the rules, from some position to another position, with the help of a third position; that is, make the three positions parameters to the problem, as opposed to fixing them. Note that when moving the $n-1$ smaller disks, having a larger disk somewhere or having no larger disk  anywhere makes no difference. The recursive implementation immediately follows from these observations:"
   ]
  },
  {
   "cell_type": "code",
   "execution_count": null,
   "metadata": {},
   "outputs": [],
   "source": [
    "def recursive_towers(n, start_pos, end_pos, extra_pos):\n",
    "    if n > 1:\n",
    "        recursive_towers(n - 1, start_pos, extra_pos, end_pos)\n",
    "    print('Move disk of size', n, 'from position', start_pos,\n",
    "          'to position', end_pos\n",
    "         )\n",
    "    if n > 1:\n",
    "        recursive_towers(n - 1, extra_pos, end_pos, start_pos)\n",
    "\n",
    "recursive_towers(4, 0, 2, 1)"
   ]
  },
  {
   "cell_type": "markdown",
   "metadata": {},
   "source": [
    "Also, these observation establish that the output of the recursive implementation is not only a solution; it is in fact the only possible solution for that optimal number of moves, equal to $2^n-1$, as shown by induction on $n$:\n",
    "\n",
    "* If $n=1$, then $2^n-1=1$, and 1 move is necessary and sufficient indeed.\n",
    "* If $2^n-1$ moves are necessary and sufficient to move $n$ disks, then $(2^n-1)\\times 2 + 1= 2^{n+1}-1$ moves are necessary and sufficient indeed to move $n+1$ disks.\n",
    "\n",
    "Moving the smaller $n-1$ disks, then moving the largest disk, then moving the $n-1$ smaller disks again to move the $n$ disks, done recursively, shows that the Hanoi of towers puzzle is equivalent to that of putting ticks of $n$ different sizes on a ruler, as illustrated next for $n=4$:\n",
    "\n",
    "<div><img src=\"Illustrations/ruler.pdf\" width=\"500\"/></div>\n",
    "\n",
    "This shows that every second move involves moving the smallest disk; the other moves are clearly imposed. So to convert the recursive implementation into an iterative implementation, it suffices to determine where to move the smallest disk every time it has to be moved.\n",
    "\n",
    "Place the three positions, 0, 1 and 2, clockwise on a ring.\n",
    "\n",
    "<div><img src=\"Illustrations/cycle.pdf\" width=\"300\"/></div>\n",
    "\n",
    "* Moving the $n$ disks from position 0 to position 2 can be visualised as moving on the ring counterclockwise.\n",
    "* Moving the $n-1$ disks from position 0 to position 1 can be visualised as moving on the ring clockwise.\n",
    "* Moving the $n-1$ disks from position 1 to position 2 can be visualised as moving on the ring clockwise.\n",
    "\n",
    "It follows that:\n",
    "\n",
    "* the stack of $n$ disks have to be moved from where they are to the next position counterclockwise, which if $n>1$ involves\n",
    "* twice moving the stack of the $n-1$ smaller disks from where they are to the next position clockwise, which if $n>2$ involves\n",
    "* four times moving the stack of the $n-2$ smaller disks from where they are to the next position counterclockwise, which if $n>3$ involves\n",
    "* eight times moving the stack of the $n-3$ smaller disks from where they are to the next position clockwise\n",
    "* ...\n",
    "\n",
    "Hence:\n",
    "\n",
    "* if $n$ is even then the smallest disk always has to be moved to the next position clockwise, that is, from 0 to 1, from 1 to 2, and from 2 to 0;\n",
    "* if $n$ is odd then the smallest disk always has to be moved to the next position counterclockwise, that is, from 0 to 2, from 2 to 1, and from 1 to 0.\n",
    "\n",
    "With $n$ set to 4, the smallest disk will have to move clockwise:"
   ]
  },
  {
   "cell_type": "code",
   "execution_count": 3,
   "metadata": {},
   "outputs": [
    {
     "data": {
      "text/plain": [
       "1"
      ]
     },
     "execution_count": 3,
     "metadata": {},
     "output_type": "execute_result"
    }
   ],
   "source": [
    "n = 4\n",
    "direction = -1 if n % 2 else 1\n",
    "\n",
    "direction"
   ]
  },
  {
   "cell_type": "markdown",
   "metadata": {},
   "source": [
    "We can use a tuple of 3 lists, `stacks`, to represent the stacks of disks at position 0, 1 and 2, respectively. We can use the integers from 1 to $n$ to denote the $n$ disks, from smallest to largest. To start with, all disks are in the first stack, stacked from largest to smallest:"
   ]
  },
  {
   "cell_type": "code",
   "execution_count": null,
   "metadata": {},
   "outputs": [],
   "source": [
    "stacks = list(range(n, 0, -1)), [], []\n",
    "\n",
    "stacks"
   ]
  },
  {
   "cell_type": "markdown",
   "metadata": {},
   "source": [
    "To start with, the smallest disk is at position 0. It has to be moved to position 1. A combination of `pop()` and `append()` realises the move:"
   ]
  },
  {
   "cell_type": "code",
   "execution_count": null,
   "metadata": {},
   "outputs": [],
   "source": [
    "small_disk_pos = 0\n",
    "new_small_disk_pos = (small_disk_pos + direction) % 3\n",
    "\n",
    "print('Move smallest disk from position', small_disk_pos,\n",
    "      'to position', new_small_disk_pos\n",
    "     )\n",
    "stacks[new_small_disk_pos].append(stacks[small_disk_pos].pop())\n",
    "\n",
    "stacks"
   ]
  },
  {
   "cell_type": "markdown",
   "metadata": {},
   "source": [
    "When not moving the smallest disk, one has to work with the two positions different to the new position of the smallest disk:"
   ]
  },
  {
   "cell_type": "code",
   "execution_count": null,
   "metadata": {},
   "outputs": [],
   "source": [
    "small_disk_pos = new_small_disk_pos\n",
    "\n",
    "small_disk_pos, (small_disk_pos + 1) % 3, (small_disk_pos + 2) % 3"
   ]
  },
  {
   "cell_type": "markdown",
   "metadata": {},
   "source": [
    "To determine which of those two positions is the one where there is a nonempty stack whose disk at the top should be moved to the other position, because there is either no disk or a larger disk at the top of the stack there, we can take advantage of the way Python evaluates conjunctions and disjunctions. The conjuncts or disjuncts that make up a conjunction or disjunction are evaluated, from left to right, only until it can be concluded that the whole conjunction or disjunction is True or False. The value of the last conjunct or disjunct that has been evaluated is then returned:"
   ]
  },
  {
   "cell_type": "code",
   "execution_count": null,
   "metadata": {},
   "outputs": [],
   "source": [
    "# None, 0, '', {}, [], () all evaluate to False,  2, [3], 4.5 all\n",
    "# evaluate to True. Only when () is processed can we conclude that the\n",
    "# expression is false.\n",
    "None or 0 or '' or {} or [] or ()\n",
    "# When 2 is processed, and not before, we can conclude that the\n",
    "# expression is true.\n",
    "None or 0 or '' or {} or () or 2 or [3] or 4.5 or []\n",
    "# When not 0 processed, and not before, we can conclude that the\n",
    "# expression is true.\n",
    "None or not 1 or '' or not {()} or not 0 or [3] or 4.5 or []\n",
    "\n",
    "# When 4.5 is processed, and not before, we can we conclude that the\n",
    "# expression is true.\n",
    "2 and [3] and 4.5\n",
    "# When {} is processed, and not before, we can conclude that the\n",
    "# expression is false.\n",
    "2 and [3] and {} and [] and None and 4.5\n",
    "# When not {0} is processed, and not before, we can conclude that the\n",
    "# expression is false.\n",
    "2 and not [] and not {0} and [] and None and 4.5"
   ]
  },
  {
   "cell_type": "markdown",
   "metadata": {},
   "source": [
    "We assume that `(small_disk_pos + 1) % 3` and `(small_disk_pos + 2) % 3` are the positions where from and where to a disk has to be moved now, but both positions are to be swapped in case in should be the other way around because either there is no disk at the former position, or there are disks at both positions but the disk at the top of the stack located at the latter is smaller than the disk at the top of the stack located at the former. For the second move, both positions need to be swapped indeed:"
   ]
  },
  {
   "cell_type": "code",
   "execution_count": null,
   "metadata": {},
   "outputs": [],
   "source": [
    "from_pos, to_pos = (small_disk_pos + 1) % 3, (small_disk_pos + 2) % 3\n",
    "\n",
    "from_pos, to_pos\n",
    "stacks\n",
    "\n",
    "if not stacks[from_pos]\\\n",
    "   or stacks[to_pos] and stacks[to_pos][-1] < stacks[from_pos][-1]: \n",
    "    from_pos, to_pos = to_pos, from_pos\n",
    "\n",
    "from_pos, to_pos"
   ]
  },
  {
   "cell_type": "markdown",
   "metadata": {},
   "source": [
    "The second move is again realised by a combination of `pop()` and `append()`:"
   ]
  },
  {
   "cell_type": "code",
   "execution_count": null,
   "metadata": {},
   "outputs": [],
   "source": [
    "stacks\n",
    "\n",
    "print('Move disk of size', stacks[from_pos][-1],\n",
    "      'from position', from_pos, 'to position', to_pos\n",
    "     )\n",
    "stacks[to_pos].append(stacks[from_pos].pop())\n",
    "\n",
    "stacks"
   ]
  },
  {
   "cell_type": "markdown",
   "metadata": {},
   "source": [
    "It suffices to perform those operations again and again. Illustrating by doing them twice again:"
   ]
  },
  {
   "cell_type": "code",
   "execution_count": null,
   "metadata": {},
   "outputs": [],
   "source": [
    "stacks\n",
    "\n",
    "new_small_disk_pos = (small_disk_pos + direction) % 3\n",
    "print('Move smallest disk from position', small_disk_pos,\n",
    "      'to position', new_small_disk_pos\n",
    "     )\n",
    "stacks[new_small_disk_pos].append(stacks[small_disk_pos].pop())\n",
    "\n",
    "stacks\n",
    "\n",
    "small_disk_pos = new_small_disk_pos\n",
    "from_pos, to_pos = (small_disk_pos + 1) % 3, (small_disk_pos + 2) % 3\n",
    "if not stacks[from_pos]\\\n",
    "   or stacks[to_pos] and stacks[to_pos][-1] < stacks[from_pos][-1]: \n",
    "    from_pos, to_pos = to_pos, from_pos\n",
    "print('Move disk of size', stacks[from_pos][-1],\n",
    "      'from position', from_pos, 'to position', to_pos\n",
    "     )\n",
    "stacks[to_pos].append(stacks[from_pos].pop())\n",
    "\n",
    "stacks"
   ]
  },
  {
   "cell_type": "code",
   "execution_count": null,
   "metadata": {},
   "outputs": [],
   "source": [
    "stacks\n",
    "\n",
    "new_small_disk_pos = (small_disk_pos + direction) % 3\n",
    "print('Move smallest disk from position', small_disk_pos,\n",
    "      'to position', new_small_disk_pos\n",
    "     )\n",
    "stacks[new_small_disk_pos].append(stacks[small_disk_pos].pop())\n",
    "\n",
    "stacks\n",
    "\n",
    "small_disk_pos = new_small_disk_pos\n",
    "from_pos, to_pos = (small_disk_pos + 1) % 3, (small_disk_pos + 2) % 3\n",
    "if not stacks[from_pos]\\\n",
    "   or stacks[to_pos] and stacks[to_pos][-1] < stacks[from_pos][-1]: \n",
    "    from_pos, to_pos = to_pos, from_pos\n",
    "print('Move disk of size', stacks[from_pos][-1],\n",
    "      'from position', from_pos, 'to position', to_pos\n",
    "     )\n",
    "stacks[to_pos].append(stacks[from_pos].pop())\n",
    "\n",
    "stacks"
   ]
  },
  {
   "cell_type": "markdown",
   "metadata": {},
   "source": [
    "Putting it all together:"
   ]
  },
  {
   "cell_type": "code",
   "execution_count": null,
   "metadata": {},
   "outputs": [],
   "source": [
    "def iterative_towers(n, start_pos, end_pos, extra_pos):\n",
    "    direction = -1 if n % 2 else 1\n",
    "    stacks = list(range(n, 0, -1)), [], []\n",
    "    small_disk_pos = 0\n",
    "    for i in range(2 ** n - 1):\n",
    "        if i % 2 == 0:\n",
    "            new_small_disk_pos = (small_disk_pos + direction) % 3\n",
    "            print('Move smallest disk from position', small_disk_pos,\n",
    "                  'to position', new_small_disk_pos\n",
    "                 )\n",
    "            stacks[new_small_disk_pos].append(stacks[small_disk_pos].pop())\n",
    "            small_disk_pos = new_small_disk_pos\n",
    "        else:\n",
    "            from_pos, to_pos =\\\n",
    "                      (small_disk_pos + 1) % 3, (small_disk_pos + 2) % 3\n",
    "            if not stacks[from_pos] or\\\n",
    "               stacks[to_pos] and stacks[to_pos][-1] < stacks[from_pos][-1]:\n",
    "                from_pos, to_pos = to_pos, from_pos\n",
    "            print('Move disk of size', stacks[from_pos][-1],\n",
    "                  'from position', from_pos, 'to position', to_pos\n",
    "                 )\n",
    "            stacks[to_pos].append(stacks[from_pos].pop())\n",
    "\n",
    "iterative_towers(4, 0, 2, 1)"
   ]
  },
  {
   "cell_type": "markdown",
   "metadata": {},
   "source": [
    "Rather than displaying instructions on which disk to move from where to where, let us display the successive states of the three stacks starting with the initial configuration of the game, ending with the final configuration of the game, representing a disk of size $n$ as $2n-1$ successive hyphens. For this purpose, we could immediately adapt `iterative_towers()`, but let us rather adapt `recursive_towers()` to a similar function, `recursive_towers_variant()`, replacing the `print()` statements in `recursive_towers()` with calls to a function `make_and_display_move()`, which itself will call a function `display_towers()`. The function `make_and_display_move()` can know from `recursive_towers_variant()` from which stack the disk at the top should be popped, and to (the top of) which stack that disk should be moved at this stage of the game. Once the pop and move operations have been performed, `display_towers()` can display the three stacks. Working with 3 stacks, moving a disk from the top of one stack to the top of another stack, is what `iterative_towers()` implements, and we can borrow from that implementation. To let the stacks \"survive\" between successive calls to the functions, we could use global variables, but we can also make use of function parameters with lists as default values. The values of the default parameters can be manipuled thanks to the function's `__defaults__` attribute:"
   ]
  },
  {
   "cell_type": "code",
   "execution_count": null,
   "metadata": {},
   "outputs": [],
   "source": [
    "def f(arg_1, arg_2, arg_3=[], arg_4=set(), arg_5={}):\n",
    "    pass\n",
    "\n",
    "f.__defaults__\n",
    "\n",
    "f.__defaults__[0].extend((10, 11, 12))\n",
    "f.__defaults__[1].add(20)\n",
    "f.__defaults__[2][0] = 'A'\n",
    "f.__defaults__\n",
    "\n",
    "for default in f.__defaults__:\n",
    "    default.clear()\n",
    "f.__defaults__"
   ]
  },
  {
   "cell_type": "markdown",
   "metadata": {},
   "source": [
    "If we let `display_towers()` have parameters with default values that represent the three stacks, so `display_towers()` can keep track of the various states of the stacks as the game is being played, then we can let `display_move()` perform the pop and move operations on `display_towers()`'s parameters. The functions `recursive_towers_variant()`, `make_and_display_move()` and `display_towers()` can then be implemented as follows; they all take an extra argument, `w`, meant to denote the width of the largest disk, so that `display_towers()` knows how to center the disks that make up the stacks:"
   ]
  },
  {
   "cell_type": "code",
   "execution_count": null,
   "metadata": {},
   "outputs": [],
   "source": [
    "def recursive_towers_variant(n, start_pos, end_pos, extra_pos, w):\n",
    "    if n == 1:\n",
    "        make_and_display_move(start_pos, end_pos, w)\n",
    "    else:\n",
    "        recursive_towers_variant(n - 1, start_pos, extra_pos, end_pos, w)\n",
    "        make_and_display_move(start_pos, end_pos, w)\n",
    "        recursive_towers_variant(n - 1, extra_pos, end_pos, start_pos, w)"
   ]
  },
  {
   "cell_type": "code",
   "execution_count": null,
   "metadata": {},
   "outputs": [],
   "source": [
    "def make_and_display_move(start_pos, end_pos, w):\n",
    "    display_towers.__defaults__[end_pos].append(\n",
    "                                   display_towers.__defaults__[start_pos].pop()\n",
    "                                               )\n",
    "    display_towers(w)"
   ]
  },
  {
   "cell_type": "code",
   "execution_count": null,
   "metadata": {},
   "outputs": [],
   "source": [
    "def display_towers(w, stack_1=[], stack_2=[], stack_3=[]):\n",
    "    stacks = stack_1, stack_2, stack_3\n",
    "    print()\n",
    "    for i in range(max(len(stack) for stack in stacks) - 1, -1, -1):\n",
    "        print('  '.join(\n",
    "                f'{\"-\" * (stack[i] * 2 - 1) if i < len(stack) else \"\":^{w}}'\n",
    "                            for stack in stacks\n",
    "                       )\n",
    "             )\n",
    "    print()"
   ]
  },
  {
   "cell_type": "markdown",
   "metadata": {},
   "source": [
    "Finally, we define a function, `recursive_towers_display_solution()`, meant to take as argument the number of disks, that sets `display_towers()`'s three default arguments to what they should be before the game starts (the preliminary calls to `clear()` are necessary if the function is summoned more than once), displays the initial configuration of the game, and calls `recursive_towers_variant()` to play the game and display each new configuration all the way to the end of the game:"
   ]
  },
  {
   "cell_type": "code",
   "execution_count": null,
   "metadata": {},
   "outputs": [],
   "source": [
    "def recursive_towers_display_solution(n):\n",
    "    for stack in display_towers.__defaults__:\n",
    "        stack.clear()\n",
    "    display_towers.__defaults__[0].extend(range(n, 0, -1))\n",
    "    w = 2 * n - 1\n",
    "    display_towers(w)\n",
    "    recursive_towers_variant(n, 0, 2, 1, w)"
   ]
  },
  {
   "cell_type": "code",
   "execution_count": null,
   "metadata": {},
   "outputs": [],
   "source": [
    "recursive_towers_display_solution(4)"
   ]
  }
 ],
 "metadata": {
  "kernelspec": {
   "display_name": "Python 3 (ipykernel)",
   "language": "python",
   "name": "python3"
  },
  "language_info": {
   "codemirror_mode": {
    "name": "ipython",
    "version": 3
   },
   "file_extension": ".py",
   "mimetype": "text/x-python",
   "name": "python",
   "nbconvert_exporter": "python",
   "pygments_lexer": "ipython3",
   "version": "3.11.0"
  },
  "latex_envs": {
   "LaTeX_envs_menu_present": true,
   "autoclose": false,
   "autocomplete": true,
   "bibliofile": "biblio.bib",
   "cite_by": "apalike",
   "current_citInitial": 1,
   "eqLabelWithNumbers": true,
   "eqNumInitial": 1,
   "hotkeys": {
    "equation": "Ctrl-E",
    "itemize": "Ctrl-I"
   },
   "labels_anchors": false,
   "latex_user_defs": false,
   "report_style_numbering": false,
   "user_envs_cfg": false
  },
  "toc": {
   "base_numbering": 1,
   "nav_menu": {},
   "number_sections": true,
   "sideBar": true,
   "skip_h1_title": false,
   "title_cell": "Table of Contents",
   "title_sidebar": "Contents",
   "toc_cell": false,
   "toc_position": {},
   "toc_section_display": true,
   "toc_window_display": false
  },
  "widgets": {
   "application/vnd.jupyter.widget-state+json": {
    "state": {},
    "version_major": 2,
    "version_minor": 0
   }
  }
 },
 "nbformat": 4,
 "nbformat_minor": 4
}
