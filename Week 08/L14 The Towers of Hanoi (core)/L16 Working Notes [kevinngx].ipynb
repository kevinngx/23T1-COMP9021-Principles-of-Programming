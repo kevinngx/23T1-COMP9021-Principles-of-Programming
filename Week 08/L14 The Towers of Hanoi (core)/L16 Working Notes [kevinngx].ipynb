{
 "cells": [
  {
   "cell_type": "code",
   "execution_count": 1,
   "id": "d970cbed",
   "metadata": {},
   "outputs": [],
   "source": [
    "from IPython.core.interactiveshell import InteractiveShell\n",
    "InteractiveShell.ast_node_interactivity = 'all'"
   ]
  },
  {
   "cell_type": "code",
   "execution_count": 2,
   "id": "a8b11fb9",
   "metadata": {},
   "outputs": [
    {
     "name": "stdout",
     "output_type": "stream",
     "text": [
      "Move disk of size 1 from position 0 to position 1\n",
      "Move disk of size 2 from position 0 to position 2\n",
      "Move disk of size 1 from position 1 to position 2\n",
      "Move disk of size 3 from position 0 to position 1\n",
      "Move disk of size 1 from position 2 to position 0\n",
      "Move disk of size 2 from position 2 to position 1\n",
      "Move disk of size 1 from position 0 to position 1\n",
      "Move disk of size 4 from position 0 to position 2\n",
      "Move disk of size 1 from position 1 to position 2\n",
      "Move disk of size 2 from position 1 to position 0\n",
      "Move disk of size 1 from position 2 to position 0\n",
      "Move disk of size 3 from position 1 to position 2\n",
      "Move disk of size 1 from position 0 to position 1\n",
      "Move disk of size 2 from position 0 to position 2\n",
      "Move disk of size 1 from position 1 to position 2\n"
     ]
    }
   ],
   "source": [
    "def recursive_towers(n, start_pos, end_pos, extra_pos):\n",
    "    if n > 1:\n",
    "        recursive_towers(n-1, start_pos, extra_pos, end_pos)\n",
    "    print('Move disk of size', n, 'from position', start_pos,\n",
    "          'to position', end_pos\n",
    "         )\n",
    "    if n > 1:\n",
    "        recursive_towers(n-1, extra_pos, end_pos, start_pos)\n",
    "recursive_towers(4, 0, 2, 1)"
   ]
  },
  {
   "cell_type": "code",
   "execution_count": 5,
   "id": "7c42bb24",
   "metadata": {},
   "outputs": [
    {
     "data": {
      "text/plain": [
       "1"
      ]
     },
     "execution_count": 5,
     "metadata": {},
     "output_type": "execute_result"
    }
   ],
   "source": [
    "n = 6\n",
    "direction = -1 if n % 2 else 1\n",
    "\n",
    "direction"
   ]
  },
  {
   "cell_type": "code",
   "execution_count": 6,
   "id": "ca3a7cbd",
   "metadata": {},
   "outputs": [],
   "source": [
    "stacks = list(range(n, 0, -1)), [], []"
   ]
  },
  {
   "cell_type": "code",
   "execution_count": 7,
   "id": "07327cda",
   "metadata": {},
   "outputs": [
    {
     "data": {
      "text/plain": [
       "([6, 5, 4, 3, 2, 1], [], [])"
      ]
     },
     "execution_count": 7,
     "metadata": {},
     "output_type": "execute_result"
    }
   ],
   "source": [
    "stacks"
   ]
  },
  {
   "cell_type": "code",
   "execution_count": 8,
   "id": "ddec729f",
   "metadata": {},
   "outputs": [
    {
     "name": "stdout",
     "output_type": "stream",
     "text": [
      "Move smallest disk from position 0 to position 1\n"
     ]
    },
    {
     "data": {
      "text/plain": [
       "([6, 5, 4, 3, 2], [1], [])"
      ]
     },
     "execution_count": 8,
     "metadata": {},
     "output_type": "execute_result"
    }
   ],
   "source": [
    "small_disk_pos = 0\n",
    "new_small_disk_pos = (small_disk_pos + direction) % 3\n",
    "\n",
    "print('Move smallest disk from position', small_disk_pos,\n",
    "      'to position', new_small_disk_pos\n",
    "     )\n",
    "stacks[new_small_disk_pos].append(stacks[small_disk_pos].pop())\n",
    "\n",
    "stacks"
   ]
  },
  {
   "cell_type": "code",
   "execution_count": 9,
   "id": "c14730ac",
   "metadata": {},
   "outputs": [
    {
     "data": {
      "text/plain": [
       "(1, 2, 0)"
      ]
     },
     "execution_count": 9,
     "metadata": {},
     "output_type": "execute_result"
    }
   ],
   "source": [
    "small_disk_pos = new_small_disk_pos\n",
    "\n",
    "small_disk_pos, (small_disk_pos + 1) % 3, (small_disk_pos + 2) % 3"
   ]
  },
  {
   "cell_type": "code",
   "execution_count": 10,
   "id": "5391be78",
   "metadata": {},
   "outputs": [
    {
     "data": {
      "text/plain": [
       "()"
      ]
     },
     "execution_count": 10,
     "metadata": {},
     "output_type": "execute_result"
    },
    {
     "data": {
      "text/plain": [
       "2"
      ]
     },
     "execution_count": 10,
     "metadata": {},
     "output_type": "execute_result"
    },
    {
     "data": {
      "text/plain": [
       "True"
      ]
     },
     "execution_count": 10,
     "metadata": {},
     "output_type": "execute_result"
    },
    {
     "data": {
      "text/plain": [
       "4.5"
      ]
     },
     "execution_count": 10,
     "metadata": {},
     "output_type": "execute_result"
    },
    {
     "data": {
      "text/plain": [
       "{}"
      ]
     },
     "execution_count": 10,
     "metadata": {},
     "output_type": "execute_result"
    },
    {
     "data": {
      "text/plain": [
       "False"
      ]
     },
     "execution_count": 10,
     "metadata": {},
     "output_type": "execute_result"
    }
   ],
   "source": [
    "# None, 0, '', {}, [], () all evaluate to False,  2, [3], 4.5 all\n",
    "# evaluate to True. Only when () is processed can we conclude that the\n",
    "# expression is false.\n",
    "None or 0 or '' or {} or [] or ()\n",
    "# When 2 is processed, and not before, we can conclude that the\n",
    "# expression is true.\n",
    "None or 0 or '' or {} or () or 2 or [3] or 4.5 or []\n",
    "# When not 0 processed, and not before, we can conclude that the\n",
    "# expression is true.\n",
    "None or not 1 or '' or not {()} or not 0 or [3] or 4.5 or []\n",
    "\n",
    "# When 4.5 is processed, and not before, we can we conclude that the\n",
    "# expression is true.\n",
    "2 and [3] and 4.5\n",
    "# When {} is processed, and not before, we can conclude that the\n",
    "# expression is false.\n",
    "2 and [3] and {} and [] and None and 4.5\n",
    "# When not {0} is processed, and not before, we can conclude that the\n",
    "# expression is false.\n",
    "2 and not [] and not {0} and [] and None and 4.5"
   ]
  },
  {
   "cell_type": "code",
   "execution_count": 11,
   "id": "948787ac",
   "metadata": {},
   "outputs": [
    {
     "data": {
      "text/plain": [
       "(2, 0)"
      ]
     },
     "execution_count": 11,
     "metadata": {},
     "output_type": "execute_result"
    },
    {
     "data": {
      "text/plain": [
       "([6, 5, 4, 3, 2], [1], [])"
      ]
     },
     "execution_count": 11,
     "metadata": {},
     "output_type": "execute_result"
    },
    {
     "data": {
      "text/plain": [
       "(0, 2)"
      ]
     },
     "execution_count": 11,
     "metadata": {},
     "output_type": "execute_result"
    }
   ],
   "source": [
    "from_pos, to_pos = (small_disk_pos + 1) % 3, (small_disk_pos + 2) % 3\n",
    "\n",
    "from_pos, to_pos\n",
    "stacks\n",
    "\n",
    "if not stacks[from_pos]\\\n",
    "   or stacks[to_pos] and stacks[to_pos][-1] < stacks[from_pos][-1]: \n",
    "    from_pos, to_pos = to_pos, from_pos\n",
    "\n",
    "from_pos, to_pos"
   ]
  },
  {
   "cell_type": "code",
   "execution_count": 12,
   "id": "2a9da86b",
   "metadata": {},
   "outputs": [
    {
     "data": {
      "text/plain": [
       "([6, 5, 4, 3, 2], [1], [])"
      ]
     },
     "execution_count": 12,
     "metadata": {},
     "output_type": "execute_result"
    },
    {
     "name": "stdout",
     "output_type": "stream",
     "text": [
      "Move disk of size 2 from position 0 to position 2\n"
     ]
    },
    {
     "data": {
      "text/plain": [
       "([6, 5, 4, 3], [1], [2])"
      ]
     },
     "execution_count": 12,
     "metadata": {},
     "output_type": "execute_result"
    }
   ],
   "source": [
    "stacks\n",
    "\n",
    "print('Move disk of size', stacks[from_pos][-1],\n",
    "      'from position', from_pos, 'to position', to_pos\n",
    "     )\n",
    "stacks[to_pos].append(stacks[from_pos].pop())\n",
    "\n",
    "stacks"
   ]
  },
  {
   "cell_type": "code",
   "execution_count": 13,
   "id": "242a8122",
   "metadata": {},
   "outputs": [
    {
     "data": {
      "text/plain": [
       "([6, 5, 4, 3], [1], [2])"
      ]
     },
     "execution_count": 13,
     "metadata": {},
     "output_type": "execute_result"
    },
    {
     "name": "stdout",
     "output_type": "stream",
     "text": [
      "Move smallest disk from position 1 to position 2\n"
     ]
    },
    {
     "data": {
      "text/plain": [
       "([6, 5, 4, 3], [], [2, 1])"
      ]
     },
     "execution_count": 13,
     "metadata": {},
     "output_type": "execute_result"
    },
    {
     "name": "stdout",
     "output_type": "stream",
     "text": [
      "Move disk of size 3 from position 0 to position 1\n"
     ]
    },
    {
     "data": {
      "text/plain": [
       "([6, 5, 4], [3], [2, 1])"
      ]
     },
     "execution_count": 13,
     "metadata": {},
     "output_type": "execute_result"
    }
   ],
   "source": [
    "stacks\n",
    "\n",
    "new_small_disk_pos = (small_disk_pos + direction) % 3\n",
    "print('Move smallest disk from position', small_disk_pos,\n",
    "      'to position', new_small_disk_pos\n",
    "     )\n",
    "stacks[new_small_disk_pos].append(stacks[small_disk_pos].pop())\n",
    "\n",
    "stacks\n",
    "\n",
    "small_disk_pos = new_small_disk_pos\n",
    "from_pos, to_pos = (small_disk_pos + 1) % 3, (small_disk_pos + 2) % 3\n",
    "if not stacks[from_pos]\\\n",
    "   or stacks[to_pos] and stacks[to_pos][-1] < stacks[from_pos][-1]: \n",
    "    from_pos, to_pos = to_pos, from_pos\n",
    "print('Move disk of size', stacks[from_pos][-1],\n",
    "      'from position', from_pos, 'to position', to_pos\n",
    "     )\n",
    "stacks[to_pos].append(stacks[from_pos].pop())\n",
    "\n",
    "stacks"
   ]
  },
  {
   "cell_type": "code",
   "execution_count": 14,
   "id": "78d7a176",
   "metadata": {},
   "outputs": [
    {
     "data": {
      "text/plain": [
       "([6, 5, 4], [3], [2, 1])"
      ]
     },
     "execution_count": 14,
     "metadata": {},
     "output_type": "execute_result"
    },
    {
     "name": "stdout",
     "output_type": "stream",
     "text": [
      "Move smallest disk from position 2 to position 0\n"
     ]
    },
    {
     "data": {
      "text/plain": [
       "([6, 5, 4, 1], [3], [2])"
      ]
     },
     "execution_count": 14,
     "metadata": {},
     "output_type": "execute_result"
    },
    {
     "name": "stdout",
     "output_type": "stream",
     "text": [
      "Move disk of size 2 from position 2 to position 1\n"
     ]
    },
    {
     "data": {
      "text/plain": [
       "([6, 5, 4, 1], [3, 2], [])"
      ]
     },
     "execution_count": 14,
     "metadata": {},
     "output_type": "execute_result"
    }
   ],
   "source": [
    "stacks\n",
    "\n",
    "new_small_disk_pos = (small_disk_pos + direction) % 3\n",
    "print('Move smallest disk from position', small_disk_pos,\n",
    "      'to position', new_small_disk_pos\n",
    "     )\n",
    "stacks[new_small_disk_pos].append(stacks[small_disk_pos].pop())\n",
    "\n",
    "stacks\n",
    "\n",
    "small_disk_pos = new_small_disk_pos\n",
    "from_pos, to_pos = (small_disk_pos + 1) % 3, (small_disk_pos + 2) % 3\n",
    "if not stacks[from_pos]\\\n",
    "   or stacks[to_pos] and stacks[to_pos][-1] < stacks[from_pos][-1]: \n",
    "    from_pos, to_pos = to_pos, from_pos\n",
    "print('Move disk of size', stacks[from_pos][-1],\n",
    "      'from position', from_pos, 'to position', to_pos\n",
    "     )\n",
    "stacks[to_pos].append(stacks[from_pos].pop())\n",
    "\n",
    "stacks"
   ]
  },
  {
   "cell_type": "code",
   "execution_count": 15,
   "id": "6feaf8ed",
   "metadata": {},
   "outputs": [
    {
     "name": "stdout",
     "output_type": "stream",
     "text": [
      "Move smallest disk from position 0 to position 1\n",
      "Move disk of size 2 from position 0 to position 2\n",
      "Move smallest disk from position 1 to position 2\n",
      "Move disk of size 3 from position 0 to position 1\n",
      "Move smallest disk from position 2 to position 0\n",
      "Move disk of size 2 from position 2 to position 1\n",
      "Move smallest disk from position 0 to position 1\n",
      "Move disk of size 4 from position 0 to position 2\n",
      "Move smallest disk from position 1 to position 2\n",
      "Move disk of size 2 from position 1 to position 0\n",
      "Move smallest disk from position 2 to position 0\n",
      "Move disk of size 3 from position 1 to position 2\n",
      "Move smallest disk from position 0 to position 1\n",
      "Move disk of size 2 from position 0 to position 2\n",
      "Move smallest disk from position 1 to position 2\n"
     ]
    }
   ],
   "source": [
    "def iterative_towers(n, start_pos, end_pos, extra_pos):\n",
    "    direction = -1 if n % 2 else 1\n",
    "    stacks = list(range(n, 0, -1)), [], []\n",
    "    small_disk_pos = 0\n",
    "    for i in range(2 ** n - 1):\n",
    "        if i % 2 == 0:\n",
    "            new_small_disk_pos = (small_disk_pos + direction) % 3\n",
    "            print('Move smallest disk from position', small_disk_pos,\n",
    "                  'to position', new_small_disk_pos\n",
    "                 )\n",
    "            stacks[new_small_disk_pos].append(stacks[small_disk_pos].pop())\n",
    "            small_disk_pos = new_small_disk_pos\n",
    "        else:\n",
    "            from_pos, to_pos =\\\n",
    "                      (small_disk_pos + 1) % 3, (small_disk_pos + 2) % 3\n",
    "            if not stacks[from_pos] or\\\n",
    "               stacks[to_pos] and stacks[to_pos][-1] < stacks[from_pos][-1]:\n",
    "                from_pos, to_pos = to_pos, from_pos\n",
    "            print('Move disk of size', stacks[from_pos][-1],\n",
    "                  'from position', from_pos, 'to position', to_pos\n",
    "                 )\n",
    "            stacks[to_pos].append(stacks[from_pos].pop())\n",
    "\n",
    "iterative_towers(4, 0, 2, 1)"
   ]
  },
  {
   "cell_type": "code",
   "execution_count": 16,
   "id": "9ffdd237",
   "metadata": {},
   "outputs": [
    {
     "data": {
      "text/plain": [
       "([], set(), {})"
      ]
     },
     "execution_count": 16,
     "metadata": {},
     "output_type": "execute_result"
    },
    {
     "data": {
      "text/plain": [
       "([10, 11, 12], {20}, {0: 'A'})"
      ]
     },
     "execution_count": 16,
     "metadata": {},
     "output_type": "execute_result"
    },
    {
     "data": {
      "text/plain": [
       "([], set(), {})"
      ]
     },
     "execution_count": 16,
     "metadata": {},
     "output_type": "execute_result"
    }
   ],
   "source": [
    "def f(arg_1, arg_2, arg_3=[], arg_4=set(), arg_5={}):\n",
    "    pass\n",
    "\n",
    "f.__defaults__\n",
    "\n",
    "f.__defaults__[0].extend((10, 11, 12))\n",
    "f.__defaults__[1].add(20)\n",
    "f.__defaults__[2][0] = 'A'\n",
    "f.__defaults__\n",
    "\n",
    "for default in f.__defaults__:\n",
    "    default.clear()\n",
    "f.__defaults__"
   ]
  },
  {
   "cell_type": "code",
   "execution_count": 17,
   "id": "1025c4c2",
   "metadata": {},
   "outputs": [],
   "source": [
    "def recursive_towers_variant(n, start_pos, end_pos, extra_pos, w):\n",
    "    if n == 1:\n",
    "        make_and_display_move(start_pos, end_pos, w)\n",
    "    else:\n",
    "        recursive_towers_variant(n - 1, start_pos, extra_pos, end_pos, w)\n",
    "        make_and_display_move(start_pos, end_pos, w)\n",
    "        recursive_towers_variant(n - 1, extra_pos, end_pos, start_pos, w)"
   ]
  },
  {
   "cell_type": "code",
   "execution_count": 18,
   "id": "9ac07119",
   "metadata": {},
   "outputs": [],
   "source": [
    "def make_and_display_move(start_pos, end_pos, w):\n",
    "    display_towers.__defaults__[end_pos].append(\n",
    "                                   display_towers.__defaults__[start_pos].pop()\n",
    "                                               )\n",
    "    display_towers(w)"
   ]
  },
  {
   "cell_type": "code",
   "execution_count": 19,
   "id": "d9d169d9",
   "metadata": {},
   "outputs": [],
   "source": [
    "def display_towers(w, stack_1=[], stack_2=[], stack_3=[]):\n",
    "    stacks = stack_1, stack_2, stack_3\n",
    "    print()\n",
    "    for i in range(max(len(stack) for stack in stacks) - 1, -1, -1):\n",
    "        print('  '.join(\n",
    "                f'{\"-\" * (stack[i] * 2 - 1) if i < len(stack) else \"\":^{w}}'\n",
    "                            for stack in stacks\n",
    "                       )\n",
    "             )\n",
    "    print()"
   ]
  },
  {
   "cell_type": "code",
   "execution_count": 20,
   "id": "40b22a59",
   "metadata": {},
   "outputs": [],
   "source": [
    "def recursive_towers_display_solution(n):\n",
    "    for stack in display_towers.__defaults__:\n",
    "        stack.clear()\n",
    "    display_towers.__defaults__[0].extend(range(n, 0, -1))\n",
    "    w = 2 * n - 1\n",
    "    display_towers(w)\n",
    "    recursive_towers_variant(n, 0, 2, 1, w)"
   ]
  },
  {
   "cell_type": "code",
   "execution_count": 21,
   "id": "d58dfcd5",
   "metadata": {},
   "outputs": [
    {
     "name": "stdout",
     "output_type": "stream",
     "text": [
      "\n",
      "   -                     \n",
      "  ---                    \n",
      " -----                   \n",
      "-------                  \n",
      "\n",
      "\n",
      "  ---                    \n",
      " -----                   \n",
      "-------     -            \n",
      "\n",
      "\n",
      " -----                   \n",
      "-------     -       ---  \n",
      "\n",
      "\n",
      " -----               -   \n",
      "-------             ---  \n",
      "\n",
      "\n",
      "                     -   \n",
      "-------   -----     ---  \n",
      "\n",
      "\n",
      "   -                     \n",
      "-------   -----     ---  \n",
      "\n",
      "\n",
      "   -       ---           \n",
      "-------   -----          \n",
      "\n",
      "\n",
      "            -            \n",
      "           ---           \n",
      "-------   -----          \n",
      "\n",
      "\n",
      "            -            \n",
      "           ---           \n",
      "          -----   -------\n",
      "\n",
      "\n",
      "           ---       -   \n",
      "          -----   -------\n",
      "\n",
      "\n",
      "                     -   \n",
      "  ---     -----   -------\n",
      "\n",
      "\n",
      "   -                     \n",
      "  ---     -----   -------\n",
      "\n",
      "\n",
      "   -               ----- \n",
      "  ---             -------\n",
      "\n",
      "\n",
      "                   ----- \n",
      "  ---       -     -------\n",
      "\n",
      "\n",
      "                    ---  \n",
      "                   ----- \n",
      "            -     -------\n",
      "\n",
      "\n",
      "                     -   \n",
      "                    ---  \n",
      "                   ----- \n",
      "                  -------\n",
      "\n"
     ]
    }
   ],
   "source": [
    "recursive_towers_display_solution(4)"
   ]
  },
  {
   "cell_type": "code",
   "execution_count": null,
   "id": "33aa989e",
   "metadata": {},
   "outputs": [],
   "source": []
  }
 ],
 "metadata": {
  "kernelspec": {
   "display_name": "Python 3 (ipykernel)",
   "language": "python",
   "name": "python3"
  },
  "language_info": {
   "codemirror_mode": {
    "name": "ipython",
    "version": 3
   },
   "file_extension": ".py",
   "mimetype": "text/x-python",
   "name": "python",
   "nbconvert_exporter": "python",
   "pygments_lexer": "ipython3",
   "version": "3.11.0"
  },
  "vscode": {
   "interpreter": {
    "hash": "fb4a468b23ae772b99bd54f465a6eab9630ea5075332d07f1e912da887985c6f"
   }
  }
 },
 "nbformat": 4,
 "nbformat_minor": 5
}
