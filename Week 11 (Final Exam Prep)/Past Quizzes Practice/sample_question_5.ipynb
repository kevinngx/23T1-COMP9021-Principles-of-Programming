{
 "cells": [
  {
   "cell_type": "code",
   "execution_count": 78,
   "id": "4a3c02fa",
   "metadata": {},
   "outputs": [],
   "source": [
    "# Will be tested with year between 1913 and 2013.\n",
    "\n",
    "\n",
    "import csv\n",
    "\n",
    "\n",
    "def f(year):\n",
    "    '''\n",
    "    >>> f(1914)\n",
    "    In 1914, maximum inflation was: 2.0\n",
    "    It was achieved in the following months: Aug\n",
    "    >>> f(1922)\n",
    "    In 1922, maximum inflation was: 0.6\n",
    "    It was achieved in the following months: Jul, Oct, Nov, Dec\n",
    "    >>> f(1995)\n",
    "    In 1995, maximum inflation was: 0.4\n",
    "    It was achieved in the following months: Jan, Feb\n",
    "    >>> f(2013)\n",
    "    In 2013, maximum inflation was: 0.82\n",
    "    It was achieved in the following months: Feb\n",
    "    '''\n",
    "    months = 'Jan', 'Feb', 'Mar', 'Apr', 'May', 'Jun', 'Jul', 'Aug',\\\n",
    "             'Sep', 'Oct', 'Nov', 'Dec'\n",
    "    # INSERT YOUR CODE HERE\n",
    "    \n",
    "    max = None\n",
    "    max_months = None\n",
    "    \n",
    "    with open(\"cpiai.csv\", \"r\") as my_file:\n",
    "        lines = my_file.readlines()\n",
    "        lines = [line for line in lines if line.startswith(str(year))]\n",
    "        for line in lines:\n",
    "            date, something, inflation = line.strip('\\n').split(',')\n",
    "            month = date.split('-')[1]\n",
    "            month = months[int(month)-1]\n",
    "#             print(month, inflation)\n",
    "            if max == None:\n",
    "                # Init\n",
    "                max = inflation\n",
    "                max_months = [month]\n",
    "            elif inflation == max:\n",
    "                max_months.append(month)\n",
    "            elif inflation > max:\n",
    "                max = inflation\n",
    "                max_months = [month]\n",
    "            elif inflation < max:\n",
    "                continue\n",
    "    \n",
    "    print(f'In {year}, maximum inflation was: {max}')\n",
    "    print(f'It was achieved in the following months: {\", \".join(max_months)}')\n",
    "\n",
    "\n",
    "if __name__ == '__main__':\n",
    "    import doctest\n",
    "    doctest.testmod()"
   ]
  },
  {
   "cell_type": "code",
   "execution_count": null,
   "id": "969fdf89",
   "metadata": {},
   "outputs": [],
   "source": []
  },
  {
   "cell_type": "code",
   "execution_count": null,
   "id": "b43aa1ac",
   "metadata": {},
   "outputs": [],
   "source": []
  }
 ],
 "metadata": {
  "kernelspec": {
   "display_name": "Python 3 (ipykernel)",
   "language": "python",
   "name": "python3"
  },
  "language_info": {
   "codemirror_mode": {
    "name": "ipython",
    "version": 3
   },
   "file_extension": ".py",
   "mimetype": "text/x-python",
   "name": "python",
   "nbconvert_exporter": "python",
   "pygments_lexer": "ipython3",
   "version": "3.11.0"
  }
 },
 "nbformat": 4,
 "nbformat_minor": 5
}
